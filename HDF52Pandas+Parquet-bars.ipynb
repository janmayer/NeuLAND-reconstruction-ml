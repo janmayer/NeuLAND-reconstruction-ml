{
 "cells": [
  {
   "cell_type": "markdown",
   "metadata": {},
   "source": [
    "# Convert Bars HDF5 files to pickled Pandas Dataframes and Apache Parquets"
   ]
  },
  {
   "cell_type": "markdown",
   "metadata": {},
   "source": [
    "This conversion isn't strictly necessary, but comes in handy for quickly reading the data for scikit-learn, ploting, etc."
   ]
  },
  {
   "cell_type": "code",
   "execution_count": 1,
   "metadata": {},
   "outputs": [],
   "source": [
    "import h5py\n",
    "import numpy as np\n",
    "import pandas as pd\n",
    "import pyarrow as pa\n",
    "import pyarrow.parquet as pq"
   ]
  },
  {
   "cell_type": "code",
   "execution_count": 2,
   "metadata": {},
   "outputs": [],
   "source": [
    "def create_pandas(h5file):\n",
    "    # Note: Data in HDF5 file is not in the native Pandas Dataframe format\n",
    "    multiplicity = pd.DataFrame(np.array(h5file[\"multiplicity\"]))\n",
    "    multiplicity.columns = [\"nPN\", \"nPP\", \"nPH\"]\n",
    "    consolidated = pd.DataFrame(np.array(h5file[\"consolidated\"]))\n",
    "    consolidated.columns = [\"nHits\", \"nClus\", \"Edep\"]\n",
    "    flatfeatures = pd.DataFrame(np.array(h5file[\"flatfeatures\"]))\n",
    "    data = multiplicity.join(consolidated).join(flatfeatures)\n",
    "\n",
    "    # Use MAX_NEUTRONS to test predictions for scenarios with limited number of neutrons\n",
    "    # FIXME: nPH < nPN shouldn't be necessary, few cases (431/5M)\n",
    "    idx = (data[\"nPN\"] <= 5) & (data[\"nPH\"] <= data[\"nPN\"])\n",
    "    data = data[idx]\n",
    "    # sample(frac=1) == shuffle\n",
    "    return data.sample(frac=1)"
   ]
  },
  {
   "cell_type": "code",
   "execution_count": 3,
   "metadata": {},
   "outputs": [
    {
     "name": "stdout",
     "output_type": "stream",
     "text": [
      "data/600AMeV_15dp.bars.h5 -> data/600AMeV_15dp.bars.pkl + data/600AMeV_15dp.bars.parquet\n"
     ]
    },
    {
     "name": "stderr",
     "output_type": "stream",
     "text": [
      "/home/jmayer/.local/share/virtualenvs/FutureReco2-AsCagFYD/lib/python3.7/site-packages/ipykernel_launcher.py:11: UserWarning: The DataFrame has column names of mixed type. They will be converted to strings and not roundtrip correctly.\n",
      "  # This is added back by InteractiveShellApp.init_path()\n"
     ]
    },
    {
     "name": "stdout",
     "output_type": "stream",
     "text": [
      "data/600AMeV_30dp.bars.h5 -> data/600AMeV_30dp.bars.pkl + data/600AMeV_30dp.bars.parquet\n"
     ]
    },
    {
     "ename": "MemoryError",
     "evalue": "Unable to allocate 112. GiB for an array with shape (5000000, 6000) and data type float32",
     "output_type": "error",
     "traceback": [
      "\u001b[0;31m---------------------------------------------------------------------------\u001b[0m",
      "\u001b[0;31mMemoryError\u001b[0m                               Traceback (most recent call last)",
      "\u001b[0;32m<ipython-input-3-b9822d005e39>\u001b[0m in \u001b[0;36m<module>\u001b[0;34m\u001b[0m\n\u001b[1;32m      7\u001b[0m \u001b[0;34m\u001b[0m\u001b[0m\n\u001b[1;32m      8\u001b[0m     \u001b[0;32mwith\u001b[0m \u001b[0mh5py\u001b[0m\u001b[0;34m.\u001b[0m\u001b[0mFile\u001b[0m\u001b[0;34m(\u001b[0m\u001b[0mh5file\u001b[0m\u001b[0;34m,\u001b[0m \u001b[0;34m\"r\"\u001b[0m\u001b[0;34m)\u001b[0m \u001b[0;32mas\u001b[0m \u001b[0mh5in\u001b[0m\u001b[0;34m:\u001b[0m\u001b[0;34m\u001b[0m\u001b[0;34m\u001b[0m\u001b[0m\n\u001b[0;32m----> 9\u001b[0;31m         \u001b[0mdf\u001b[0m \u001b[0;34m=\u001b[0m \u001b[0mcreate_pandas\u001b[0m\u001b[0;34m(\u001b[0m\u001b[0mh5in\u001b[0m\u001b[0;34m)\u001b[0m\u001b[0;34m\u001b[0m\u001b[0;34m\u001b[0m\u001b[0m\n\u001b[0m\u001b[1;32m     10\u001b[0m         \u001b[0mdf\u001b[0m\u001b[0;34m.\u001b[0m\u001b[0mto_pickle\u001b[0m\u001b[0;34m(\u001b[0m\u001b[0mpdfile\u001b[0m\u001b[0;34m)\u001b[0m\u001b[0;34m\u001b[0m\u001b[0;34m\u001b[0m\u001b[0m\n\u001b[1;32m     11\u001b[0m         \u001b[0mtable\u001b[0m \u001b[0;34m=\u001b[0m \u001b[0mpa\u001b[0m\u001b[0;34m.\u001b[0m\u001b[0mTable\u001b[0m\u001b[0;34m.\u001b[0m\u001b[0mfrom_pandas\u001b[0m\u001b[0;34m(\u001b[0m\u001b[0mdf\u001b[0m\u001b[0;34m)\u001b[0m\u001b[0;34m\u001b[0m\u001b[0;34m\u001b[0m\u001b[0m\n",
      "\u001b[0;32m<ipython-input-2-7c3e08807362>\u001b[0m in \u001b[0;36mcreate_pandas\u001b[0;34m(h5file)\u001b[0m\n\u001b[1;32m      5\u001b[0m     \u001b[0mconsolidated\u001b[0m \u001b[0;34m=\u001b[0m \u001b[0mpd\u001b[0m\u001b[0;34m.\u001b[0m\u001b[0mDataFrame\u001b[0m\u001b[0;34m(\u001b[0m\u001b[0mnp\u001b[0m\u001b[0;34m.\u001b[0m\u001b[0marray\u001b[0m\u001b[0;34m(\u001b[0m\u001b[0mh5file\u001b[0m\u001b[0;34m[\u001b[0m\u001b[0;34m\"consolidated\"\u001b[0m\u001b[0;34m]\u001b[0m\u001b[0;34m)\u001b[0m\u001b[0;34m)\u001b[0m\u001b[0;34m\u001b[0m\u001b[0;34m\u001b[0m\u001b[0m\n\u001b[1;32m      6\u001b[0m     \u001b[0mconsolidated\u001b[0m\u001b[0;34m.\u001b[0m\u001b[0mcolumns\u001b[0m \u001b[0;34m=\u001b[0m \u001b[0;34m[\u001b[0m\u001b[0;34m\"nHits\"\u001b[0m\u001b[0;34m,\u001b[0m \u001b[0;34m\"nClus\"\u001b[0m\u001b[0;34m,\u001b[0m \u001b[0;34m\"Edep\"\u001b[0m\u001b[0;34m]\u001b[0m\u001b[0;34m\u001b[0m\u001b[0;34m\u001b[0m\u001b[0m\n\u001b[0;32m----> 7\u001b[0;31m     \u001b[0mflatfeatures\u001b[0m \u001b[0;34m=\u001b[0m \u001b[0mpd\u001b[0m\u001b[0;34m.\u001b[0m\u001b[0mDataFrame\u001b[0m\u001b[0;34m(\u001b[0m\u001b[0mnp\u001b[0m\u001b[0;34m.\u001b[0m\u001b[0marray\u001b[0m\u001b[0;34m(\u001b[0m\u001b[0mh5file\u001b[0m\u001b[0;34m[\u001b[0m\u001b[0;34m\"flatfeatures\"\u001b[0m\u001b[0;34m]\u001b[0m\u001b[0;34m)\u001b[0m\u001b[0;34m)\u001b[0m\u001b[0;34m\u001b[0m\u001b[0;34m\u001b[0m\u001b[0m\n\u001b[0m\u001b[1;32m      8\u001b[0m     \u001b[0mdata\u001b[0m \u001b[0;34m=\u001b[0m \u001b[0mmultiplicity\u001b[0m\u001b[0;34m.\u001b[0m\u001b[0mjoin\u001b[0m\u001b[0;34m(\u001b[0m\u001b[0mconsolidated\u001b[0m\u001b[0;34m)\u001b[0m\u001b[0;34m.\u001b[0m\u001b[0mjoin\u001b[0m\u001b[0;34m(\u001b[0m\u001b[0mflatfeatures\u001b[0m\u001b[0;34m)\u001b[0m\u001b[0;34m\u001b[0m\u001b[0;34m\u001b[0m\u001b[0m\n\u001b[1;32m      9\u001b[0m \u001b[0;34m\u001b[0m\u001b[0m\n",
      "\u001b[0;31mMemoryError\u001b[0m: Unable to allocate 112. GiB for an array with shape (5000000, 6000) and data type float32"
     ]
    }
   ],
   "source": [
    "beam_energy = 600\n",
    "for num_dp in [15, 30]:\n",
    "    h5file = f\"data/{beam_energy}AMeV_{num_dp}dp.bars.h5\"\n",
    "    pdfile = f\"data/{beam_energy}AMeV_{num_dp}dp.bars.pkl\"\n",
    "    pafile = f\"data/{beam_energy}AMeV_{num_dp}dp.bars.parquet\"\n",
    "    print(f\"{h5file} -> {pdfile} + {pafile}\")\n",
    "\n",
    "    with h5py.File(h5file, \"r\") as h5in:\n",
    "        df = create_pandas(h5in)\n",
    "        df.to_pickle(pdfile)\n",
    "        table = pa.Table.from_pandas(df)\n",
    "        pq.write_table(table, pafile, compression=\"snappy\")"
   ]
  },
  {
   "cell_type": "code",
   "execution_count": null,
   "metadata": {},
   "outputs": [],
   "source": []
  }
 ],
 "metadata": {
  "kernelspec": {
   "display_name": "Python 3",
   "language": "python",
   "name": "python3"
  },
  "language_info": {
   "codemirror_mode": {
    "name": "ipython",
    "version": 3
   },
   "file_extension": ".py",
   "mimetype": "text/x-python",
   "name": "python",
   "nbconvert_exporter": "python",
   "pygments_lexer": "ipython3",
   "version": "3.7.4"
  }
 },
 "nbformat": 4,
 "nbformat_minor": 4
}

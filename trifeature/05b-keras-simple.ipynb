{
 "cells": [
  {
   "cell_type": "markdown",
   "metadata": {},
   "source": [
    "# Super Simple Keras model on TriFeature for multiplicity determination"
   ]
  },
  {
   "cell_type": "code",
   "execution_count": 1,
   "metadata": {},
   "outputs": [],
   "source": [
    "import sys\n",
    "\n",
    "import matplotlib.pyplot as plt\n",
    "import numpy as np\n",
    "import pandas as pd\n",
    "import seaborn as sns\n",
    "from sklearn.metrics import (\n",
    "    balanced_accuracy_score,\n",
    "    confusion_matrix,\n",
    "    plot_confusion_matrix,\n",
    ")\n",
    "\n",
    "sys.path.append(\"..\")\n",
    "from helpers import filename_for\n",
    "\n",
    "np.set_printoptions(precision=3)\n",
    "np.set_printoptions(suppress=True)"
   ]
  },
  {
   "cell_type": "code",
   "execution_count": 2,
   "metadata": {},
   "outputs": [
    {
     "name": "stdout",
     "output_type": "stream",
     "text": [
      "tensorflow 2.3.1\n",
      "keras 2.4.0\n"
     ]
    }
   ],
   "source": [
    "import tensorflow\n",
    "from tensorflow import keras\n",
    "\n",
    "print(\"tensorflow\", tensorflow.__version__)\n",
    "print(\"keras\", keras.__version__)"
   ]
  },
  {
   "cell_type": "code",
   "execution_count": 3,
   "metadata": {},
   "outputs": [],
   "source": [
    "num_dp = 30\n",
    "max_neutrons = 4\n",
    "label = \"nPH\""
   ]
  },
  {
   "cell_type": "code",
   "execution_count": 4,
   "metadata": {},
   "outputs": [
    {
     "name": "stdout",
     "output_type": "stream",
     "text": [
      "(800000, 6)\n"
     ]
    }
   ],
   "source": [
    "files = [\n",
    "    filename_for(15, 30, 600, 500, n, \"inclxx\", s, \"trifeature.parquet\")\n",
    "    for n in range(1, max_neutrons + 1)\n",
    "    for s in range(20)\n",
    "]\n",
    "dfs = [pd.read_parquet(file) for file in files]\n",
    "data = pd.concat(dfs, ignore_index=True).sample(frac=1)\n",
    "print(data.shape)"
   ]
  },
  {
   "cell_type": "code",
   "execution_count": 5,
   "metadata": {},
   "outputs": [
    {
     "name": "stdout",
     "output_type": "stream",
     "text": [
      "(639980, 6)\n",
      "(160020, 6)\n"
     ]
    }
   ],
   "source": [
    "msk = np.random.rand(len(data)) < 0.8\n",
    "# Create one entry with zero everything to prevent NaN-PDF if no entry with LABEL=0 exists\n",
    "msk[0] = True\n",
    "data.loc[0] = [0, 0, 0, 0, 0, 0]\n",
    "traindata = data[msk]\n",
    "testdata = data[~msk]\n",
    "\n",
    "print(traindata.shape)\n",
    "print(testdata.shape)\n",
    "\n",
    "x_train = traindata[[\"nHits\", \"nClus\", \"Edep\"]].values\n",
    "y_train = keras.utils.to_categorical(traindata[[label]].values.ravel())\n",
    "\n",
    "x_val = testdata[[\"nHits\", \"nClus\", \"Edep\"]].values\n",
    "y_val = keras.utils.to_categorical(testdata[[label]].values.ravel());"
   ]
  },
  {
   "cell_type": "code",
   "execution_count": 6,
   "metadata": {},
   "outputs": [
    {
     "name": "stdout",
     "output_type": "stream",
     "text": [
      "Epoch 1/50\n",
      "640/640 - 1s - loss: 33.4021 - accuracy: 0.2418 - val_loss: 1.3738 - val_accuracy: 0.3174\n",
      "Epoch 2/50\n",
      "640/640 - 1s - loss: 1.3110 - accuracy: 0.3301 - val_loss: 1.2537 - val_accuracy: 0.3328\n",
      "Epoch 3/50\n",
      "640/640 - 1s - loss: 1.1810 - accuracy: 0.4015 - val_loss: 0.9107 - val_accuracy: 0.6278\n",
      "Epoch 4/50\n",
      "640/640 - 1s - loss: 0.7260 - accuracy: 0.7551 - val_loss: 0.6521 - val_accuracy: 0.7740\n",
      "Epoch 5/50\n",
      "640/640 - 1s - loss: 0.6152 - accuracy: 0.7699 - val_loss: 0.5880 - val_accuracy: 0.7729\n",
      "Epoch 6/50\n",
      "640/640 - 1s - loss: 0.5812 - accuracy: 0.7711 - val_loss: 0.5657 - val_accuracy: 0.7743\n",
      "Epoch 7/50\n",
      "640/640 - 1s - loss: 0.5639 - accuracy: 0.7746 - val_loss: 0.5536 - val_accuracy: 0.7786\n",
      "Epoch 8/50\n",
      "640/640 - 1s - loss: 0.5553 - accuracy: 0.7767 - val_loss: 0.5485 - val_accuracy: 0.7752\n",
      "Epoch 9/50\n",
      "640/640 - 1s - loss: 0.5489 - accuracy: 0.7793 - val_loss: 0.5458 - val_accuracy: 0.7735\n",
      "Epoch 10/50\n",
      "640/640 - 1s - loss: 0.5444 - accuracy: 0.7808 - val_loss: 0.5365 - val_accuracy: 0.7860\n",
      "Epoch 11/50\n",
      "640/640 - 1s - loss: 0.5403 - accuracy: 0.7829 - val_loss: 0.5349 - val_accuracy: 0.7859\n",
      "Epoch 12/50\n",
      "640/640 - 1s - loss: 0.5375 - accuracy: 0.7837 - val_loss: 0.5294 - val_accuracy: 0.7905\n",
      "Epoch 13/50\n",
      "640/640 - 1s - loss: 0.5349 - accuracy: 0.7852 - val_loss: 0.5272 - val_accuracy: 0.7900\n",
      "Epoch 14/50\n",
      "640/640 - 1s - loss: 0.5333 - accuracy: 0.7857 - val_loss: 0.5261 - val_accuracy: 0.7933\n",
      "Epoch 15/50\n",
      "640/640 - 1s - loss: 0.5306 - accuracy: 0.7868 - val_loss: 0.5282 - val_accuracy: 0.7823\n",
      "Epoch 16/50\n",
      "640/640 - 1s - loss: 0.5302 - accuracy: 0.7867 - val_loss: 0.5264 - val_accuracy: 0.7956\n",
      "Epoch 17/50\n",
      "640/640 - 1s - loss: 0.5291 - accuracy: 0.7871 - val_loss: 0.5223 - val_accuracy: 0.7953\n",
      "Epoch 18/50\n",
      "640/640 - 1s - loss: 0.5279 - accuracy: 0.7875 - val_loss: 0.5215 - val_accuracy: 0.7949\n",
      "Epoch 19/50\n",
      "640/640 - 1s - loss: 0.5277 - accuracy: 0.7873 - val_loss: 0.5225 - val_accuracy: 0.7889\n",
      "Epoch 20/50\n",
      "640/640 - 1s - loss: 0.5271 - accuracy: 0.7877 - val_loss: 0.5196 - val_accuracy: 0.7947\n",
      "Epoch 21/50\n",
      "640/640 - 1s - loss: 0.5267 - accuracy: 0.7878 - val_loss: 0.5191 - val_accuracy: 0.7940\n",
      "Epoch 22/50\n",
      "640/640 - 1s - loss: 0.5263 - accuracy: 0.7879 - val_loss: 0.5223 - val_accuracy: 0.7885\n",
      "Epoch 23/50\n",
      "640/640 - 1s - loss: 0.5257 - accuracy: 0.7881 - val_loss: 0.5230 - val_accuracy: 0.7849\n",
      "Epoch 24/50\n",
      "640/640 - 1s - loss: 0.5257 - accuracy: 0.7879 - val_loss: 0.5195 - val_accuracy: 0.7910\n",
      "Epoch 25/50\n",
      "640/640 - 1s - loss: 0.5251 - accuracy: 0.7880 - val_loss: 0.5194 - val_accuracy: 0.7902\n",
      "Epoch 26/50\n",
      "640/640 - 1s - loss: 0.5257 - accuracy: 0.7880 - val_loss: 0.5206 - val_accuracy: 0.7863\n",
      "Epoch 27/50\n",
      "640/640 - 1s - loss: 0.5250 - accuracy: 0.7882 - val_loss: 0.5187 - val_accuracy: 0.7954\n",
      "Epoch 28/50\n",
      "640/640 - 1s - loss: 0.5248 - accuracy: 0.7880 - val_loss: 0.5181 - val_accuracy: 0.7904\n",
      "Epoch 29/50\n",
      "640/640 - 1s - loss: 0.5247 - accuracy: 0.7881 - val_loss: 0.5183 - val_accuracy: 0.7910\n",
      "Epoch 30/50\n",
      "640/640 - 1s - loss: 0.5243 - accuracy: 0.7886 - val_loss: 0.5210 - val_accuracy: 0.7986\n",
      "Epoch 31/50\n",
      "640/640 - 1s - loss: 0.5232 - accuracy: 0.7895 - val_loss: 0.5236 - val_accuracy: 0.7807\n",
      "Epoch 32/50\n",
      "640/640 - 1s - loss: 0.5232 - accuracy: 0.7889 - val_loss: 0.5156 - val_accuracy: 0.7969\n",
      "Epoch 33/50\n",
      "640/640 - 1s - loss: 0.5224 - accuracy: 0.7898 - val_loss: 0.5154 - val_accuracy: 0.7921\n",
      "Epoch 34/50\n",
      "640/640 - 1s - loss: 0.5220 - accuracy: 0.7895 - val_loss: 0.5164 - val_accuracy: 0.7895\n",
      "Epoch 35/50\n",
      "640/640 - 1s - loss: 0.5229 - accuracy: 0.7891 - val_loss: 0.5165 - val_accuracy: 0.7906\n",
      "Epoch 36/50\n",
      "640/640 - 1s - loss: 0.5215 - accuracy: 0.7896 - val_loss: 0.5143 - val_accuracy: 0.7954\n",
      "Epoch 37/50\n",
      "640/640 - 1s - loss: 0.5226 - accuracy: 0.7890 - val_loss: 0.5142 - val_accuracy: 0.7938\n",
      "Epoch 38/50\n",
      "640/640 - 1s - loss: 0.5217 - accuracy: 0.7896 - val_loss: 0.5151 - val_accuracy: 0.7910\n",
      "Epoch 39/50\n",
      "640/640 - 1s - loss: 0.5223 - accuracy: 0.7889 - val_loss: 0.5146 - val_accuracy: 0.7941\n",
      "Epoch 40/50\n",
      "640/640 - 1s - loss: 0.5214 - accuracy: 0.7894 - val_loss: 0.5147 - val_accuracy: 0.7915\n",
      "Epoch 41/50\n",
      "640/640 - 1s - loss: 0.5218 - accuracy: 0.7894 - val_loss: 0.5138 - val_accuracy: 0.7939\n",
      "Epoch 42/50\n",
      "640/640 - 1s - loss: 0.5208 - accuracy: 0.7898 - val_loss: 0.5144 - val_accuracy: 0.7971\n",
      "Epoch 43/50\n",
      "640/640 - 1s - loss: 0.5212 - accuracy: 0.7892 - val_loss: 0.5131 - val_accuracy: 0.7964\n",
      "Epoch 44/50\n",
      "640/640 - 1s - loss: 0.5212 - accuracy: 0.7893 - val_loss: 0.5159 - val_accuracy: 0.7894\n",
      "Epoch 45/50\n",
      "640/640 - 1s - loss: 0.5204 - accuracy: 0.7898 - val_loss: 0.5170 - val_accuracy: 0.7977\n",
      "Epoch 46/50\n",
      "640/640 - 1s - loss: 0.5210 - accuracy: 0.7893 - val_loss: 0.5140 - val_accuracy: 0.7969\n",
      "Epoch 47/50\n",
      "640/640 - 1s - loss: 0.5206 - accuracy: 0.7894 - val_loss: 0.5131 - val_accuracy: 0.7940\n",
      "Epoch 48/50\n",
      "640/640 - 1s - loss: 0.5208 - accuracy: 0.7894 - val_loss: 0.5193 - val_accuracy: 0.7822\n",
      "Epoch 49/50\n",
      "640/640 - 1s - loss: 0.5203 - accuracy: 0.7898 - val_loss: 0.5131 - val_accuracy: 0.7934\n",
      "Epoch 50/50\n",
      "640/640 - 1s - loss: 0.5208 - accuracy: 0.7895 - val_loss: 0.5145 - val_accuracy: 0.7972\n"
     ]
    }
   ],
   "source": [
    "model = keras.models.Sequential()  # 24, 9 -> 81\n",
    "# model.add(keras.layers.Dense(units=160, activation=\"relu\", input_shape=(3,)))\n",
    "# model.add(keras.layers.Dense(units=20, activation=\"relu\"))\n",
    "model.add(keras.layers.Dense(units=10, activation=\"relu\"))\n",
    "model.add(keras.layers.Dense(units=max_neutrons + 1, activation=\"softmax\"))\n",
    "\n",
    "optimizer = keras.optimizers.Adam()\n",
    "loss = keras.losses.CategoricalCrossentropy()\n",
    "model.compile(loss=loss, optimizer=optimizer, metrics=[\"accuracy\"])\n",
    "\n",
    "history = model.fit(x=x_train, y=y_train, batch_size=1000, epochs=50, validation_data=(x_val, y_val), verbose=2)"
   ]
  },
  {
   "cell_type": "code",
   "execution_count": 7,
   "metadata": {},
   "outputs": [
    {
     "data": {
      "image/png": "[encoded data removed]",
      "text/plain": [
       "<Figure size 432x288 with 1 Axes>"
      ]
     },
     "metadata": {
      "needs_background": "light"
     },
     "output_type": "display_data"
    },
    {
     "data": {
      "image/png": "[encoded data removed]",
      "text/plain": [
       "<Figure size 432x288 with 1 Axes>"
      ]
     },
     "metadata": {
      "needs_background": "light"
     },
     "output_type": "display_data"
    }
   ],
   "source": [
    "# Plot training & validation accuracy values\n",
    "plt.plot(history.history[\"accuracy\"])\n",
    "plt.plot(history.history[\"val_accuracy\"])\n",
    "plt.title(\"Model accuracy\")\n",
    "plt.ylabel(\"Accuracy\")\n",
    "plt.xlabel(\"Epoch\")\n",
    "plt.legend([\"Train\", \"Test\"], loc=\"upper left\")\n",
    "plt.show()\n",
    "\n",
    "# Plot training & validation loss values\n",
    "plt.plot(history.history[\"loss\"])\n",
    "plt.plot(history.history[\"val_loss\"])\n",
    "plt.title(\"Model loss\")\n",
    "plt.ylabel(\"Loss\")\n",
    "plt.xlabel(\"Epoch\")\n",
    "plt.legend([\"Train\", \"Test\"], loc=\"upper left\")\n",
    "plt.show()"
   ]
  },
  {
   "cell_type": "code",
   "execution_count": 8,
   "metadata": {},
   "outputs": [
    {
     "name": "stdout",
     "output_type": "stream",
     "text": [
      "0.8316959079686239\n",
      "[[ 2111     0     1     0     1]\n",
      " [    0 40518  1898    13     7]\n",
      " [    0  4920 31591  5241    13]\n",
      " [    0   233  6664 29606  4515]\n",
      " [    0     3   452  8487 23746]]\n",
      "[[0.999 0.    0.    0.    0.   ]\n",
      " [0.    0.955 0.045 0.    0.   ]\n",
      " [0.    0.118 0.756 0.125 0.   ]\n",
      " [0.    0.006 0.162 0.722 0.11 ]\n",
      " [0.    0.    0.014 0.26  0.726]]\n"
     ]
    }
   ],
   "source": [
    "x_test = testdata[[\"nHits\", \"nClus\", \"Edep\"]].values\n",
    "y_true = testdata[[label]].values.ravel()\n",
    "\n",
    "y_pred = model.predict(x_test)\n",
    "y_pred = np.argmax(y_pred, axis=1)\n",
    "\n",
    "bac = balanced_accuracy_score(y_true, y_pred)\n",
    "print(bac)\n",
    "cm = confusion_matrix(y_true, y_pred, labels=range(0, max_neutrons + 1))\n",
    "print(cm)\n",
    "cmrel = confusion_matrix(y_true, y_pred, labels=range(0, max_neutrons + 1), normalize=\"true\")\n",
    "print(cmrel)"
   ]
  },
  {
   "cell_type": "code",
   "execution_count": 9,
   "metadata": {},
   "outputs": [
    {
     "data": {
      "text/plain": [
       "Text(69.0, 0.5, 'True')"
      ]
     },
     "execution_count": 9,
     "metadata": {},
     "output_type": "execute_result"
    },
    {
     "data": {
      "image/png": "[encoded data removed]",
      "text/plain": [
       "<Figure size 720x504 with 2 Axes>"
      ]
     },
     "metadata": {
      "needs_background": "light"
     },
     "output_type": "display_data"
    }
   ],
   "source": [
    "plt.figure(figsize=(10, 7))\n",
    "ax = sns.heatmap(cmrel, cmap=\"viridis\", annot=True)\n",
    "ax.set_xlabel(\"Predicted\")\n",
    "ax.set_ylabel(\"True\")"
   ]
  },
  {
   "cell_type": "code",
   "execution_count": null,
   "metadata": {},
   "outputs": [],
   "source": []
  }
 ],
 "metadata": {
  "kernelspec": {
   "display_name": "Python 3",
   "language": "python",
   "name": "python3"
  },
  "language_info": {
   "codemirror_mode": {
    "name": "ipython",
    "version": 3
   },
   "file_extension": ".py",
   "mimetype": "text/x-python",
   "name": "python",
   "nbconvert_exporter": "python",
   "pygments_lexer": "ipython3",
   "version": "3.8.5"
  }
 },
 "nbformat": 4,
 "nbformat_minor": 4
}

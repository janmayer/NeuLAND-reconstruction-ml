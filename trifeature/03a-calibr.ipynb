{
 "cells": [
  {
   "cell_type": "markdown",
   "metadata": {},
   "source": [
    "# Multiplicity determination with Calibr"
   ]
  },
  {
   "cell_type": "markdown",
   "metadata": {},
   "source": [
    "Note: Uses the R3BRoot NeuLAND module. As this module is compiled with ROOT, it is available in Python by `import ROOT` if the environment variables are set."
   ]
  },
  {
   "cell_type": "code",
   "execution_count": 1,
   "metadata": {},
   "outputs": [
    {
     "name": "stdout",
     "output_type": "stream",
     "text": [
      "Welcome to JupyROOT 6.16/00\n"
     ]
    }
   ],
   "source": [
    "import numpy as np\n",
    "import pandas as pd\n",
    "import os\n",
    "import sys\n",
    "import ROOT\n",
    "\n",
    "sys.path.append(\"..\")\n",
    "from helpers import filename_for"
   ]
  },
  {
   "cell_type": "markdown",
   "metadata": {},
   "source": [
    "## Example Fit / Calibration\n",
    "We can run the full calibration from python, with some amount of yucky syntax"
   ]
  },
  {
   "cell_type": "code",
   "execution_count": 2,
   "metadata": {},
   "outputs": [],
   "source": [
    "label = \"nPN\"\n",
    "max_neutrons = 4\n",
    "num_dp = 30"
   ]
  },
  {
   "cell_type": "code",
   "execution_count": 3,
   "metadata": {},
   "outputs": [],
   "source": [
    "def calibrate_calibr(infiles, outfile, max_neutrons, image):\n",
    "    cal = ROOT.Neuland.Neutron2DCalibr(max_neutrons)\n",
    "    for file in infiles:\n",
    "        print(f\"Processing {file} ...\", flush=True)\n",
    "        cal.AddClusterFile(os.fspath(file))\n",
    "    vslope = ROOT.std.vector(\"double\")()\n",
    "    vslope += [0.04, 0.001, 0.001, 10]\n",
    "    vdistance = ROOT.std.vector(\"double\")()\n",
    "    vdistance += [10, 0.5, 6, 60]\n",
    "    vdist_off = ROOT.std.vector(\"double\")()\n",
    "    vdist_off += [3, 0.5, 3, 6]\n",
    "    cal.Optimize(vslope, vdistance, vdist_off)\n",
    "    cal.WriteParameterFile(outfile)\n",
    "    cal.Draw(image)\n",
    "    # del cal"
   ]
  },
  {
   "cell_type": "code",
   "execution_count": 4,
   "metadata": {},
   "outputs": [
    {
     "name": "stdout",
     "output_type": "stream",
     "text": [
      "Processing /srv/storage/gpfs/user/jmayer/Simulations/NeuLAND-reconstruction-ml/trifeature/../data/15m_30dp_600AMeV_500keV_1n.inclxx.00.digi.root ...\n",
      "Processing /srv/storage/gpfs/user/jmayer/Simulations/NeuLAND-reconstruction-ml/trifeature/../data/15m_30dp_600AMeV_500keV_2n.inclxx.00.digi.root ...\n",
      "Processing /srv/storage/gpfs/user/jmayer/Simulations/NeuLAND-reconstruction-ml/trifeature/../data/15m_30dp_600AMeV_500keV_3n.inclxx.00.digi.root ...\n",
      "Processing /srv/storage/gpfs/user/jmayer/Simulations/NeuLAND-reconstruction-ml/trifeature/../data/15m_30dp_600AMeV_500keV_4n.inclxx.00.digi.root ...\n",
      "Processing /srv/storage/gpfs/user/jmayer/Simulations/NeuLAND-reconstruction-ml/trifeature/../data/15m_30dp_600AMeV_500keV_1n.inclxx.01.digi.root ...\n",
      "Processing /srv/storage/gpfs/user/jmayer/Simulations/NeuLAND-reconstruction-ml/trifeature/../data/15m_30dp_600AMeV_500keV_2n.inclxx.01.digi.root ...\n",
      "Processing /srv/storage/gpfs/user/jmayer/Simulations/NeuLAND-reconstruction-ml/trifeature/../data/15m_30dp_600AMeV_500keV_3n.inclxx.01.digi.root ...\n",
      "Processing /srv/storage/gpfs/user/jmayer/Simulations/NeuLAND-reconstruction-ml/trifeature/../data/15m_30dp_600AMeV_500keV_4n.inclxx.01.digi.root ...\n",
      "Processing /srv/storage/gpfs/user/jmayer/Simulations/NeuLAND-reconstruction-ml/trifeature/../data/15m_30dp_600AMeV_500keV_1n.inclxx.02.digi.root ...\n",
      "Processing /srv/storage/gpfs/user/jmayer/Simulations/NeuLAND-reconstruction-ml/trifeature/../data/15m_30dp_600AMeV_500keV_2n.inclxx.02.digi.root ...\n",
      "Processing /srv/storage/gpfs/user/jmayer/Simulations/NeuLAND-reconstruction-ml/trifeature/../data/15m_30dp_600AMeV_500keV_3n.inclxx.02.digi.root ...\n",
      "Processing /srv/storage/gpfs/user/jmayer/Simulations/NeuLAND-reconstruction-ml/trifeature/../data/15m_30dp_600AMeV_500keV_4n.inclxx.02.digi.root ...\n",
      "Processing /srv/storage/gpfs/user/jmayer/Simulations/NeuLAND-reconstruction-ml/trifeature/../data/15m_30dp_600AMeV_500keV_1n.inclxx.03.digi.root ...\n",
      "Processing /srv/storage/gpfs/user/jmayer/Simulations/NeuLAND-reconstruction-ml/trifeature/../data/15m_30dp_600AMeV_500keV_2n.inclxx.03.digi.root ...\n",
      "Processing /srv/storage/gpfs/user/jmayer/Simulations/NeuLAND-reconstruction-ml/trifeature/../data/15m_30dp_600AMeV_500keV_3n.inclxx.03.digi.root ...\n",
      "Processing /srv/storage/gpfs/user/jmayer/Simulations/NeuLAND-reconstruction-ml/trifeature/../data/15m_30dp_600AMeV_500keV_4n.inclxx.03.digi.root ...\n",
      "Processing /srv/storage/gpfs/user/jmayer/Simulations/NeuLAND-reconstruction-ml/trifeature/../data/15m_30dp_600AMeV_500keV_1n.inclxx.04.digi.root ...\n",
      "Processing /srv/storage/gpfs/user/jmayer/Simulations/NeuLAND-reconstruction-ml/trifeature/../data/15m_30dp_600AMeV_500keV_2n.inclxx.04.digi.root ...\n",
      "Processing /srv/storage/gpfs/user/jmayer/Simulations/NeuLAND-reconstruction-ml/trifeature/../data/15m_30dp_600AMeV_500keV_3n.inclxx.04.digi.root ...\n",
      "Processing /srv/storage/gpfs/user/jmayer/Simulations/NeuLAND-reconstruction-ml/trifeature/../data/15m_30dp_600AMeV_500keV_4n.inclxx.04.digi.root ...\n",
      "Processing /srv/storage/gpfs/user/jmayer/Simulations/NeuLAND-reconstruction-ml/trifeature/../data/15m_30dp_600AMeV_500keV_1n.inclxx.05.digi.root ...\n",
      "Processing /srv/storage/gpfs/user/jmayer/Simulations/NeuLAND-reconstruction-ml/trifeature/../data/15m_30dp_600AMeV_500keV_2n.inclxx.05.digi.root ...\n",
      "Processing /srv/storage/gpfs/user/jmayer/Simulations/NeuLAND-reconstruction-ml/trifeature/../data/15m_30dp_600AMeV_500keV_3n.inclxx.05.digi.root ...\n",
      "Processing /srv/storage/gpfs/user/jmayer/Simulations/NeuLAND-reconstruction-ml/trifeature/../data/15m_30dp_600AMeV_500keV_4n.inclxx.05.digi.root ...\n",
      "Processing /srv/storage/gpfs/user/jmayer/Simulations/NeuLAND-reconstruction-ml/trifeature/../data/15m_30dp_600AMeV_500keV_1n.inclxx.06.digi.root ...\n",
      "Processing /srv/storage/gpfs/user/jmayer/Simulations/NeuLAND-reconstruction-ml/trifeature/../data/15m_30dp_600AMeV_500keV_2n.inclxx.06.digi.root ...\n",
      "Processing /srv/storage/gpfs/user/jmayer/Simulations/NeuLAND-reconstruction-ml/trifeature/../data/15m_30dp_600AMeV_500keV_3n.inclxx.06.digi.root ...\n",
      "Processing /srv/storage/gpfs/user/jmayer/Simulations/NeuLAND-reconstruction-ml/trifeature/../data/15m_30dp_600AMeV_500keV_4n.inclxx.06.digi.root ...\n",
      "Processing /srv/storage/gpfs/user/jmayer/Simulations/NeuLAND-reconstruction-ml/trifeature/../data/15m_30dp_600AMeV_500keV_1n.inclxx.07.digi.root ...\n",
      "Processing /srv/storage/gpfs/user/jmayer/Simulations/NeuLAND-reconstruction-ml/trifeature/../data/15m_30dp_600AMeV_500keV_2n.inclxx.07.digi.root ...\n",
      "Processing /srv/storage/gpfs/user/jmayer/Simulations/NeuLAND-reconstruction-ml/trifeature/../data/15m_30dp_600AMeV_500keV_3n.inclxx.07.digi.root ...\n",
      "Processing /srv/storage/gpfs/user/jmayer/Simulations/NeuLAND-reconstruction-ml/trifeature/../data/15m_30dp_600AMeV_500keV_4n.inclxx.07.digi.root ...\n",
      "Processing /srv/storage/gpfs/user/jmayer/Simulations/NeuLAND-reconstruction-ml/trifeature/../data/15m_30dp_600AMeV_500keV_1n.inclxx.08.digi.root ...\n",
      "Processing /srv/storage/gpfs/user/jmayer/Simulations/NeuLAND-reconstruction-ml/trifeature/../data/15m_30dp_600AMeV_500keV_2n.inclxx.08.digi.root ...\n",
      "Processing /srv/storage/gpfs/user/jmayer/Simulations/NeuLAND-reconstruction-ml/trifeature/../data/15m_30dp_600AMeV_500keV_3n.inclxx.08.digi.root ...\n",
      "Processing /srv/storage/gpfs/user/jmayer/Simulations/NeuLAND-reconstruction-ml/trifeature/../data/15m_30dp_600AMeV_500keV_4n.inclxx.08.digi.root ...\n",
      "Processing /srv/storage/gpfs/user/jmayer/Simulations/NeuLAND-reconstruction-ml/trifeature/../data/15m_30dp_600AMeV_500keV_1n.inclxx.09.digi.root ...\n",
      "Processing /srv/storage/gpfs/user/jmayer/Simulations/NeuLAND-reconstruction-ml/trifeature/../data/15m_30dp_600AMeV_500keV_2n.inclxx.09.digi.root ...\n",
      "Processing /srv/storage/gpfs/user/jmayer/Simulations/NeuLAND-reconstruction-ml/trifeature/../data/15m_30dp_600AMeV_500keV_3n.inclxx.09.digi.root ...\n",
      "Processing /srv/storage/gpfs/user/jmayer/Simulations/NeuLAND-reconstruction-ml/trifeature/../data/15m_30dp_600AMeV_500keV_4n.inclxx.09.digi.root ...\n",
      "Processing /srv/storage/gpfs/user/jmayer/Simulations/NeuLAND-reconstruction-ml/trifeature/../data/15m_30dp_600AMeV_500keV_1n.inclxx.10.digi.root ...\n",
      "Processing /srv/storage/gpfs/user/jmayer/Simulations/NeuLAND-reconstruction-ml/trifeature/../data/15m_30dp_600AMeV_500keV_2n.inclxx.10.digi.root ...\n",
      "Processing /srv/storage/gpfs/user/jmayer/Simulations/NeuLAND-reconstruction-ml/trifeature/../data/15m_30dp_600AMeV_500keV_3n.inclxx.10.digi.root ...\n",
      "Processing /srv/storage/gpfs/user/jmayer/Simulations/NeuLAND-reconstruction-ml/trifeature/../data/15m_30dp_600AMeV_500keV_4n.inclxx.10.digi.root ...\n",
      "Processing /srv/storage/gpfs/user/jmayer/Simulations/NeuLAND-reconstruction-ml/trifeature/../data/15m_30dp_600AMeV_500keV_1n.inclxx.11.digi.root ...\n",
      "Processing /srv/storage/gpfs/user/jmayer/Simulations/NeuLAND-reconstruction-ml/trifeature/../data/15m_30dp_600AMeV_500keV_2n.inclxx.11.digi.root ...\n",
      "Processing /srv/storage/gpfs/user/jmayer/Simulations/NeuLAND-reconstruction-ml/trifeature/../data/15m_30dp_600AMeV_500keV_3n.inclxx.11.digi.root ...\n",
      "Processing /srv/storage/gpfs/user/jmayer/Simulations/NeuLAND-reconstruction-ml/trifeature/../data/15m_30dp_600AMeV_500keV_4n.inclxx.11.digi.root ...\n",
      "Processing /srv/storage/gpfs/user/jmayer/Simulations/NeuLAND-reconstruction-ml/trifeature/../data/15m_30dp_600AMeV_500keV_1n.inclxx.12.digi.root ...\n",
      "Processing /srv/storage/gpfs/user/jmayer/Simulations/NeuLAND-reconstruction-ml/trifeature/../data/15m_30dp_600AMeV_500keV_2n.inclxx.12.digi.root ...\n",
      "Processing /srv/storage/gpfs/user/jmayer/Simulations/NeuLAND-reconstruction-ml/trifeature/../data/15m_30dp_600AMeV_500keV_3n.inclxx.12.digi.root ...\n",
      "Processing /srv/storage/gpfs/user/jmayer/Simulations/NeuLAND-reconstruction-ml/trifeature/../data/15m_30dp_600AMeV_500keV_4n.inclxx.12.digi.root ...\n",
      "Processing /srv/storage/gpfs/user/jmayer/Simulations/NeuLAND-reconstruction-ml/trifeature/../data/15m_30dp_600AMeV_500keV_1n.inclxx.13.digi.root ...\n",
      "Processing /srv/storage/gpfs/user/jmayer/Simulations/NeuLAND-reconstruction-ml/trifeature/../data/15m_30dp_600AMeV_500keV_2n.inclxx.13.digi.root ...\n",
      "Processing /srv/storage/gpfs/user/jmayer/Simulations/NeuLAND-reconstruction-ml/trifeature/../data/15m_30dp_600AMeV_500keV_3n.inclxx.13.digi.root ...\n",
      "Processing /srv/storage/gpfs/user/jmayer/Simulations/NeuLAND-reconstruction-ml/trifeature/../data/15m_30dp_600AMeV_500keV_4n.inclxx.13.digi.root ...\n",
      "Processing /srv/storage/gpfs/user/jmayer/Simulations/NeuLAND-reconstruction-ml/trifeature/../data/15m_30dp_600AMeV_500keV_1n.inclxx.14.digi.root ...\n",
      "Processing /srv/storage/gpfs/user/jmayer/Simulations/NeuLAND-reconstruction-ml/trifeature/../data/15m_30dp_600AMeV_500keV_2n.inclxx.14.digi.root ...\n",
      "Processing /srv/storage/gpfs/user/jmayer/Simulations/NeuLAND-reconstruction-ml/trifeature/../data/15m_30dp_600AMeV_500keV_3n.inclxx.14.digi.root ...\n",
      "Processing /srv/storage/gpfs/user/jmayer/Simulations/NeuLAND-reconstruction-ml/trifeature/../data/15m_30dp_600AMeV_500keV_4n.inclxx.14.digi.root ...\n",
      "Processing /srv/storage/gpfs/user/jmayer/Simulations/NeuLAND-reconstruction-ml/trifeature/../data/15m_30dp_600AMeV_500keV_1n.inclxx.15.digi.root ...\n",
      "Processing /srv/storage/gpfs/user/jmayer/Simulations/NeuLAND-reconstruction-ml/trifeature/../data/15m_30dp_600AMeV_500keV_2n.inclxx.15.digi.root ...\n",
      "Processing /srv/storage/gpfs/user/jmayer/Simulations/NeuLAND-reconstruction-ml/trifeature/../data/15m_30dp_600AMeV_500keV_3n.inclxx.15.digi.root ...\n",
      "Processing /srv/storage/gpfs/user/jmayer/Simulations/NeuLAND-reconstruction-ml/trifeature/../data/15m_30dp_600AMeV_500keV_4n.inclxx.15.digi.root ...\n",
      "Processing /srv/storage/gpfs/user/jmayer/Simulations/NeuLAND-reconstruction-ml/trifeature/../data/15m_30dp_600AMeV_500keV_1n.inclxx.16.digi.root ...\n",
      "Processing /srv/storage/gpfs/user/jmayer/Simulations/NeuLAND-reconstruction-ml/trifeature/../data/15m_30dp_600AMeV_500keV_2n.inclxx.16.digi.root ...\n",
      "Processing /srv/storage/gpfs/user/jmayer/Simulations/NeuLAND-reconstruction-ml/trifeature/../data/15m_30dp_600AMeV_500keV_3n.inclxx.16.digi.root ...\n",
      "Processing /srv/storage/gpfs/user/jmayer/Simulations/NeuLAND-reconstruction-ml/trifeature/../data/15m_30dp_600AMeV_500keV_4n.inclxx.16.digi.root ...\n",
      "Processing /srv/storage/gpfs/user/jmayer/Simulations/NeuLAND-reconstruction-ml/trifeature/../data/15m_30dp_600AMeV_500keV_1n.inclxx.17.digi.root ...\n",
      "Processing /srv/storage/gpfs/user/jmayer/Simulations/NeuLAND-reconstruction-ml/trifeature/../data/15m_30dp_600AMeV_500keV_2n.inclxx.17.digi.root ...\n",
      "Processing /srv/storage/gpfs/user/jmayer/Simulations/NeuLAND-reconstruction-ml/trifeature/../data/15m_30dp_600AMeV_500keV_3n.inclxx.17.digi.root ...\n",
      "Processing /srv/storage/gpfs/user/jmayer/Simulations/NeuLAND-reconstruction-ml/trifeature/../data/15m_30dp_600AMeV_500keV_4n.inclxx.17.digi.root ...\n",
      "Processing /srv/storage/gpfs/user/jmayer/Simulations/NeuLAND-reconstruction-ml/trifeature/../data/15m_30dp_600AMeV_500keV_1n.inclxx.18.digi.root ...\n",
      "Processing /srv/storage/gpfs/user/jmayer/Simulations/NeuLAND-reconstruction-ml/trifeature/../data/15m_30dp_600AMeV_500keV_2n.inclxx.18.digi.root ...\n",
      "Processing /srv/storage/gpfs/user/jmayer/Simulations/NeuLAND-reconstruction-ml/trifeature/../data/15m_30dp_600AMeV_500keV_3n.inclxx.18.digi.root ...\n",
      "Processing /srv/storage/gpfs/user/jmayer/Simulations/NeuLAND-reconstruction-ml/trifeature/../data/15m_30dp_600AMeV_500keV_4n.inclxx.18.digi.root ...\n",
      "Processing /srv/storage/gpfs/user/jmayer/Simulations/NeuLAND-reconstruction-ml/trifeature/../data/15m_30dp_600AMeV_500keV_1n.inclxx.19.digi.root ...\n",
      "Processing /srv/storage/gpfs/user/jmayer/Simulations/NeuLAND-reconstruction-ml/trifeature/../data/15m_30dp_600AMeV_500keV_2n.inclxx.19.digi.root ...\n",
      "Processing /srv/storage/gpfs/user/jmayer/Simulations/NeuLAND-reconstruction-ml/trifeature/../data/15m_30dp_600AMeV_500keV_3n.inclxx.19.digi.root ...\n",
      "Processing /srv/storage/gpfs/user/jmayer/Simulations/NeuLAND-reconstruction-ml/trifeature/../data/15m_30dp_600AMeV_500keV_4n.inclxx.19.digi.root ...\n",
      "Neutron2DCalibr::Optimize done!\n",
      "[INFO] ***  R3BNeulandNeutron2DPar written to ROOT file   version: 1\n",
      "--------------------------------------------------------------------------------\n",
      "--------------  actual containers in runtime database  -------------------------\n",
      "R3BNeulandNeutron2DPar                         Neuland Neutron 2D Parameters\n",
      "--------------  runs, versions  ------------------------------------------------\n",
      "run id\n",
      "  container                                        1st-inp    2nd-inp    output\n",
      "run: 1\n",
      "  R3BNeulandNeutron2DPar                                -1         -1          1\n",
      "--------------  input/output  --------------------------------------------------\n",
      "first input: none\n",
      "second input: none\n",
      "output:\n",
      "OBJ: FairParRootFile\tout/600AMeV_30dp_4n.ncut.root\t : 0 at: 0x1bb53ba0\n",
      "Root file I/O out/600AMeV_30dp_4n.ncut.root is open\n",
      "detector I/Os:  FairGenericParIo\n"
     ]
    },
    {
     "name": "stderr",
     "output_type": "stream",
     "text": [
      "Info in <TCanvas::Print>: png file out/600AMeV_30dp_4n.png has been created\n"
     ]
    }
   ],
   "source": [
    "infiles = [\n",
    "    filename_for(15, num_dp, 600, 500, neutrons, \"inclxx\", subrun, \"digi.root\")\n",
    "    for subrun in range(20)\n",
    "    for neutrons in range(1, max_neutrons + 1)\n",
    "]                    \n",
    "    \n",
    "outfile = f\"out/600AMeV_30dp_{max_neutrons}n.ncut.root\"\n",
    "image = f\"out/600AMeV_30dp_{max_neutrons}n.png\"\n",
    "\n",
    "if os.path.exists(outfile):\n",
    "    os.remove(outfile)\n",
    "\n",
    "calibrate_calibr(infiles, outfile, max_neutrons, image)"
   ]
  },
  {
   "cell_type": "markdown",
   "metadata": {},
   "source": [
    "## Example Prediction"
   ]
  },
  {
   "cell_type": "code",
   "execution_count": 5,
   "metadata": {},
   "outputs": [
    {
     "name": "stdout",
     "output_type": "stream",
     "text": [
      "[(1, 1), (1, 1), (1, 0), (1, 1), (1, 1), (1, 1), (1, 1), (1, 1), (1, 1), (1, 1), (1, 2), (1, 2), (1, 2), (1, 0), (1, 0), (1, 1), (1, 0), (1, 1), (1, 1), (1, 2), (1, 1), (1, 1), (1, 1), (1, 2), (1, 1), (1, 1), (1, 1), (1, 1), (1, 1), (1, 1), (1, 1), (1, 1), (1, 1), (1, 1), (1, 1), (1, 1), (1, 1), (1, 1), (1, 0), (1, 1), (1, 1), (1, 1), (1, 1), (1, 1), (1, 1), (1, 1), (1, 1), (1, 2), (1, 1), (1, 1)]\n"
     ]
    }
   ],
   "source": [
    "cutf = ROOT.TFile.Open(f\"out/600AMeV_{num_dp}dp_{max_neutrons}n.ncut.root\")\n",
    "para = cutf.Get(\"R3BNeulandNeutron2DPar\")\n",
    "\n",
    "dfs = [\n",
    "    pd.read_pickle(filename_for(15, num_dp, 600, 500, neutrons, \"inclxx\", subrun, \"trifeature.pkl\"))\n",
    "    for subrun in range(20)\n",
    "    for neutrons in range(1, max_neutrons + 1)\n",
    "]\n",
    "testdata = pd.concat(dfs, ignore_index=True)\n",
    "\n",
    "y_true = testdata[[label]].values.ravel()\n",
    "y_pred = np.array([para.GetNeutronMultiplicity(row[\"Edep\"], row[\"nClus\"]) for _, row in testdata.iterrows()])\n",
    "\n",
    "print(list(zip(y_true, y_pred))[0:50])"
   ]
  },
  {
   "cell_type": "code",
   "execution_count": 6,
   "metadata": {},
   "outputs": [
    {
     "name": "stderr",
     "output_type": "stream",
     "text": [
      "/home/jmayer/.pyenv/versions/3.7.6/lib/python3.7/site-packages/sklearn/metrics/_classification.py:1859: UserWarning: y_pred contains classes not in y_true\n",
      "  warnings.warn('y_pred contains classes not in y_true')\n"
     ]
    },
    {
     "name": "stdout",
     "output_type": "stream",
     "text": [
      "0.6864600000000001\n",
      "[[     0      0      0      0      0]\n",
      " [ 19117 165698  15083     58     44]\n",
      " [  1481  35841 135784  26776    118]\n",
      " [   105   4879  48392 116700  29924]\n",
      " [     7    563   9857  58587 130986]]\n",
      "[[0.    0.    0.    0.    0.   ]\n",
      " [0.096 0.828 0.075 0.    0.   ]\n",
      " [0.007 0.179 0.679 0.134 0.001]\n",
      " [0.001 0.024 0.242 0.584 0.15 ]\n",
      " [0.    0.003 0.049 0.293 0.655]]\n"
     ]
    }
   ],
   "source": [
    "from sklearn.metrics import (\n",
    "    balanced_accuracy_score,\n",
    "    confusion_matrix,\n",
    "    plot_confusion_matrix,\n",
    ")\n",
    "\n",
    "np.set_printoptions(precision=3)\n",
    "np.set_printoptions(suppress=True)\n",
    "\n",
    "bac = balanced_accuracy_score(y_true, y_pred)\n",
    "print(bac)\n",
    "cm = confusion_matrix(y_true, y_pred, labels=range(0, max_neutrons + 1))\n",
    "print(cm)\n",
    "cmrel = confusion_matrix(y_true, y_pred, labels=range(0, max_neutrons + 1), normalize=\"true\")\n",
    "print(cmrel)"
   ]
  },
  {
   "cell_type": "code",
   "execution_count": 7,
   "metadata": {},
   "outputs": [
    {
     "data": {
      "text/plain": [
       "Text(69.0, 0.5, 'True')"
      ]
     },
     "execution_count": 7,
     "metadata": {},
     "output_type": "execute_result"
    },
    {
     "data": {
      "image/png": "[encoded data removed]",
      "text/plain": [
       "<Figure size 720x504 with 2 Axes>"
      ]
     },
     "metadata": {
      "needs_background": "light"
     },
     "output_type": "display_data"
    }
   ],
   "source": [
    "import matplotlib.pyplot as plt\n",
    "import seaborn as sns\n",
    "\n",
    "plt.figure(figsize=(10, 7))\n",
    "ax = sns.heatmap(cmrel, cmap=\"viridis\", annot=True)\n",
    "ax.set_xlabel(\"Predicted\")\n",
    "ax.set_ylabel(\"True\")"
   ]
  }
 ],
 "metadata": {
  "kernelspec": {
   "display_name": "Python 3",
   "language": "python",
   "name": "python3"
  },
  "language_info": {
   "codemirror_mode": {
    "name": "ipython",
    "version": 3
   },
   "file_extension": ".py",
   "mimetype": "text/x-python",
   "name": "python",
   "nbconvert_exporter": "python",
   "pygments_lexer": "ipython3",
   "version": "3.7.6"
  }
 },
 "nbformat": 4,
 "nbformat_minor": 4
}

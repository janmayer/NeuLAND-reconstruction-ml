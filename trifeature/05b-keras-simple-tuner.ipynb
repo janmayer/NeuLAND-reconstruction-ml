{
 "cells": [
  {
   "cell_type": "markdown",
   "metadata": {},
   "source": [
    "# Use keras-tuner to optimize model on TriFeature data for multiplicity determination"
   ]
  },
  {
   "cell_type": "code",
   "execution_count": 1,
   "metadata": {},
   "outputs": [],
   "source": [
    "# For this network, GPU is slower than CPU -> Disable CUDA\n",
    "import os\n",
    "\n",
    "os.environ[\"CUDA_DEVICE_ORDER\"] = \"PCI_BUS_ID\"\n",
    "os.environ[\"CUDA_VISIBLE_DEVICES\"] = \"-1\""
   ]
  },
  {
   "cell_type": "code",
   "execution_count": 2,
   "metadata": {},
   "outputs": [
    {
     "name": "stdout",
     "output_type": "stream",
     "text": [
      "Welcome to JupyROOT 6.16/00\n",
      "tensorflow 2.1.0\n",
      "keras 2.2.4-tf\n",
      "keras-tuner 1.0.1\n"
     ]
    }
   ],
   "source": [
    "import numpy as np\n",
    "import pandas as pd\n",
    "import sys\n",
    "\n",
    "sys.path.append(\"..\")\n",
    "from helpers import filename_for\n",
    "\n",
    "import tensorflow\n",
    "from tensorflow import keras\n",
    "import kerastuner\n",
    "\n",
    "print(\"tensorflow\", tensorflow.__version__)\n",
    "print(\"keras\", keras.__version__)\n",
    "print(\"keras-tuner\", kerastuner.__version__)"
   ]
  },
  {
   "cell_type": "code",
   "execution_count": 3,
   "metadata": {},
   "outputs": [],
   "source": [
    "num_dp = 30\n",
    "max_neutrons = 4\n",
    "label = \"nPH\""
   ]
  },
  {
   "cell_type": "code",
   "execution_count": 4,
   "metadata": {},
   "outputs": [
    {
     "name": "stdout",
     "output_type": "stream",
     "text": [
      "(800000, 6)\n"
     ]
    }
   ],
   "source": [
    "files = [\n",
    "    filename_for(15, 30, 600, 500, n, \"inclxx\", s, \"trifeature.pkl\")\n",
    "    for n in range(1, max_neutrons + 1)\n",
    "    for s in range(20)\n",
    "]\n",
    "dfs = [pd.read_pickle(file) for file in files]\n",
    "data = pd.concat(dfs, ignore_index=True).sample(frac=1)\n",
    "print(data.shape)"
   ]
  },
  {
   "cell_type": "code",
   "execution_count": 5,
   "metadata": {},
   "outputs": [
    {
     "name": "stdout",
     "output_type": "stream",
     "text": [
      "(639606, 6)\n",
      "(160394, 6)\n"
     ]
    }
   ],
   "source": [
    "msk = np.random.rand(len(data)) < 0.8\n",
    "# Create one entry with zero everything to prevent NaN-PDF if no entry with LABEL=0 exists\n",
    "msk[0] = True\n",
    "data.loc[0] = [0, 0, 0, 0, 0, 0]\n",
    "traindata = data[msk]\n",
    "testdata = data[~msk]\n",
    "\n",
    "print(traindata.shape)\n",
    "print(testdata.shape)\n",
    "\n",
    "x_train = traindata[[\"nHits\", \"nClus\", \"Edep\"]].values\n",
    "y_train = keras.utils.to_categorical(traindata[[label]].values.ravel())\n",
    "\n",
    "x_val = testdata[[\"nHits\", \"nClus\", \"Edep\"]].values\n",
    "y_val = keras.utils.to_categorical(testdata[[label]].values.ravel());"
   ]
  },
  {
   "cell_type": "code",
   "execution_count": 6,
   "metadata": {},
   "outputs": [],
   "source": [
    "def build_model(hp):\n",
    "    model = keras.models.Sequential()\n",
    "    model.add(\n",
    "        keras.layers.Dense(\n",
    "            units=hp.Int(\"unitsl1\", min_value=10, max_value=500, step=30),\n",
    "            activation=\"relu\",\n",
    "            input_shape=(3,),\n",
    "        )\n",
    "    )\n",
    "    model.add(\n",
    "        keras.layers.Dense(\n",
    "            units=hp.Int(\"unitsl2\", min_value=5, max_value=50, step=5),\n",
    "            activation=\"relu\",\n",
    "        )\n",
    "    )\n",
    "    model.add(keras.layers.Dense(units=max_neutrons + 1, activation=\"softmax\"))\n",
    "\n",
    "    optimizer = keras.optimizers.Adagrad(\n",
    "        hp.Choice(\"learning_rate\", values=[1e-2, 1e-3, 1e-4])\n",
    "    )\n",
    "    loss = keras.losses.categorical_crossentropy\n",
    "    model.compile(loss=loss, optimizer=optimizer, metrics=[\"acc\"])\n",
    "    return model"
   ]
  },
  {
   "cell_type": "code",
   "execution_count": 7,
   "metadata": {},
   "outputs": [
    {
     "data": {
      "text/html": [
       "<span style=\"color:#4527A0\"><h1 style=\"font-size:18px\">Search space summary</h1></span>"
      ],
      "text/plain": [
       "<IPython.core.display.HTML object>"
      ]
     },
     "metadata": {},
     "output_type": "display_data"
    },
    {
     "data": {
      "text/html": [
       "<span style=\"color:cyan\"> |-Default search space size: 3</span>"
      ],
      "text/plain": [
       "<IPython.core.display.HTML object>"
      ]
     },
     "metadata": {},
     "output_type": "display_data"
    },
    {
     "data": {
      "text/html": [
       "<span style=\"color:#7E57C2\"><h2 style=\"font-size:16px\">unitsl1 (Int)</h2></span>"
      ],
      "text/plain": [
       "<IPython.core.display.HTML object>"
      ]
     },
     "metadata": {},
     "output_type": "display_data"
    },
    {
     "data": {
      "text/html": [
       "<span style=\"color:cyan\"> |-default: None</span>"
      ],
      "text/plain": [
       "<IPython.core.display.HTML object>"
      ]
     },
     "metadata": {},
     "output_type": "display_data"
    },
    {
     "data": {
      "text/html": [
       "<span style=\"color:blue\"> |-max_value: 500</span>"
      ],
      "text/plain": [
       "<IPython.core.display.HTML object>"
      ]
     },
     "metadata": {},
     "output_type": "display_data"
    },
    {
     "data": {
      "text/html": [
       "<span style=\"color:cyan\"> |-min_value: 10</span>"
      ],
      "text/plain": [
       "<IPython.core.display.HTML object>"
      ]
     },
     "metadata": {},
     "output_type": "display_data"
    },
    {
     "data": {
      "text/html": [
       "<span style=\"color:blue\"> |-sampling: None</span>"
      ],
      "text/plain": [
       "<IPython.core.display.HTML object>"
      ]
     },
     "metadata": {},
     "output_type": "display_data"
    },
    {
     "data": {
      "text/html": [
       "<span style=\"color:cyan\"> |-step: 30</span>"
      ],
      "text/plain": [
       "<IPython.core.display.HTML object>"
      ]
     },
     "metadata": {},
     "output_type": "display_data"
    },
    {
     "data": {
      "text/html": [
       "<span style=\"color:#7E57C2\"><h2 style=\"font-size:16px\">unitsl2 (Int)</h2></span>"
      ],
      "text/plain": [
       "<IPython.core.display.HTML object>"
      ]
     },
     "metadata": {},
     "output_type": "display_data"
    },
    {
     "data": {
      "text/html": [
       "<span style=\"color:cyan\"> |-default: None</span>"
      ],
      "text/plain": [
       "<IPython.core.display.HTML object>"
      ]
     },
     "metadata": {},
     "output_type": "display_data"
    },
    {
     "data": {
      "text/html": [
       "<span style=\"color:blue\"> |-max_value: 50</span>"
      ],
      "text/plain": [
       "<IPython.core.display.HTML object>"
      ]
     },
     "metadata": {},
     "output_type": "display_data"
    },
    {
     "data": {
      "text/html": [
       "<span style=\"color:cyan\"> |-min_value: 5</span>"
      ],
      "text/plain": [
       "<IPython.core.display.HTML object>"
      ]
     },
     "metadata": {},
     "output_type": "display_data"
    },
    {
     "data": {
      "text/html": [
       "<span style=\"color:blue\"> |-sampling: None</span>"
      ],
      "text/plain": [
       "<IPython.core.display.HTML object>"
      ]
     },
     "metadata": {},
     "output_type": "display_data"
    },
    {
     "data": {
      "text/html": [
       "<span style=\"color:cyan\"> |-step: 5</span>"
      ],
      "text/plain": [
       "<IPython.core.display.HTML object>"
      ]
     },
     "metadata": {},
     "output_type": "display_data"
    },
    {
     "data": {
      "text/html": [
       "<span style=\"color:#7E57C2\"><h2 style=\"font-size:16px\">learning_rate (Choice)</h2></span>"
      ],
      "text/plain": [
       "<IPython.core.display.HTML object>"
      ]
     },
     "metadata": {},
     "output_type": "display_data"
    },
    {
     "data": {
      "text/html": [
       "<span style=\"color:cyan\"> |-default: 0.01</span>"
      ],
      "text/plain": [
       "<IPython.core.display.HTML object>"
      ]
     },
     "metadata": {},
     "output_type": "display_data"
    },
    {
     "data": {
      "text/html": [
       "<span style=\"color:blue\"> |-ordered: True</span>"
      ],
      "text/plain": [
       "<IPython.core.display.HTML object>"
      ]
     },
     "metadata": {},
     "output_type": "display_data"
    },
    {
     "data": {
      "text/html": [
       "<span style=\"color:cyan\"> |-values: [0.01, 0.001, 0.0001]</span>"
      ],
      "text/plain": [
       "<IPython.core.display.HTML object>"
      ]
     },
     "metadata": {},
     "output_type": "display_data"
    },
    {
     "name": "stderr",
     "output_type": "stream",
     "text": [
      "2020-05-14 22:00:19.028289: W tensorflow/stream_executor/platform/default/dso_loader.cc:55] Could not load dynamic library 'libcuda.so.1'; dlerror: libcuda.so.1: cannot open shared object file: No such file or directory; LD_LIBRARY_PATH: /data/jmayer/Simulations/R3BRoot/build/lib:/data/jmayer/Simulations/2019-09-04/ucesb/hbook:/data/jmayer/Simulations/2019-09-04/FairRoot/lib:/data/jmayer/Simulations/2019-09-04/FairSoft/lib/root:/data/jmayer/Simulations/2019-09-04/FairSoft/lib\n",
      "2020-05-14 22:00:19.028490: E tensorflow/stream_executor/cuda/cuda_driver.cc:351] failed call to cuInit: UNKNOWN ERROR (303)\n",
      "2020-05-14 22:00:19.028567: I tensorflow/stream_executor/cuda/cuda_diagnostics.cc:156] kernel driver does not appear to be running on this host (thanatos.ikp.uni-koeln.de): /proc/driver/nvidia/version does not exist\n",
      "2020-05-14 22:00:19.028926: I tensorflow/core/platform/cpu_feature_guard.cc:142] Your CPU supports instructions that this TensorFlow binary was not compiled to use: AVX2 FMA\n",
      "2020-05-14 22:00:19.319153: I tensorflow/core/platform/profile_utils/cpu_utils.cc:94] CPU Frequency: 1997615000 Hz\n",
      "2020-05-14 22:00:19.329632: I tensorflow/compiler/xla/service/service.cc:168] XLA service 0xe2bd950 initialized for platform Host (this does not guarantee that XLA will be used). Devices:\n",
      "2020-05-14 22:00:19.329688: I tensorflow/compiler/xla/service/service.cc:176]   StreamExecutor device (0): Host, Default Version\n"
     ]
    }
   ],
   "source": [
    "tuner = kerastuner.tuners.RandomSearch(\n",
    "    build_model,\n",
    "    objective=\"val_acc\",\n",
    "    max_trials=5,\n",
    "    executions_per_trial=3,\n",
    "    directory=\"out\",\n",
    "    project_name=\"simple-tuner\",\n",
    ")\n",
    "tuner.search_space_summary()"
   ]
  },
  {
   "cell_type": "code",
   "execution_count": 8,
   "metadata": {},
   "outputs": [
    {
     "name": "stdout",
     "output_type": "stream",
     "text": [
      "Train on 639606 samples, validate on 160394 samples\n",
      "Epoch 1/20\n",
      "639606/639606 - 21s - loss: 2.9064 - acc: 0.3145 - val_loss: 1.5743 - val_acc: 0.2725\n",
      "Epoch 2/20\n",
      "639606/639606 - 13s - loss: 1.2176 - acc: 0.4556 - val_loss: 1.0849 - val_acc: 0.4568\n",
      "Epoch 3/20\n",
      "639606/639606 - 12s - loss: 1.0308 - acc: 0.5643 - val_loss: 0.9759 - val_acc: 0.6436\n",
      "Epoch 4/20\n",
      "639606/639606 - 13s - loss: 0.9444 - acc: 0.6331 - val_loss: 0.9125 - val_acc: 0.7132\n",
      "Epoch 5/20\n",
      "639606/639606 - 12s - loss: 0.8972 - acc: 0.6528 - val_loss: 0.8593 - val_acc: 0.7210\n",
      "Epoch 6/20\n",
      "639606/639606 - 12s - loss: 0.8573 - acc: 0.6631 - val_loss: 0.8265 - val_acc: 0.6729\n",
      "Epoch 7/20\n",
      "639606/639606 - 11s - loss: 0.8231 - acc: 0.6700 - val_loss: 0.8065 - val_acc: 0.6216\n",
      "Epoch 8/20\n",
      "639606/639606 - 12s - loss: 0.7871 - acc: 0.6918 - val_loss: 0.7699 - val_acc: 0.6628\n",
      "Epoch 9/20\n",
      "639606/639606 - 11s - loss: 0.7543 - acc: 0.7122 - val_loss: 0.7527 - val_acc: 0.7004\n",
      "Epoch 10/20\n",
      "639606/639606 - 14s - loss: 0.7275 - acc: 0.7233 - val_loss: 0.7850 - val_acc: 0.6709\n",
      "Epoch 11/20\n",
      "639606/639606 - 12s - loss: 0.7075 - acc: 0.7249 - val_loss: 0.6983 - val_acc: 0.7431\n",
      "Epoch 12/20\n",
      "639606/639606 - 13s - loss: 0.6809 - acc: 0.7461 - val_loss: 0.6958 - val_acc: 0.6780\n",
      "Epoch 13/20\n",
      "639606/639606 - 10s - loss: 0.6630 - acc: 0.7519 - val_loss: 0.6450 - val_acc: 0.7767\n",
      "Epoch 14/20\n",
      "639606/639606 - 13s - loss: 0.6503 - acc: 0.7504 - val_loss: 0.6311 - val_acc: 0.7787\n",
      "Epoch 15/20\n",
      "639606/639606 - 13s - loss: 0.6348 - acc: 0.7600 - val_loss: 0.6189 - val_acc: 0.7747\n",
      "Epoch 16/20\n",
      "639606/639606 - 12s - loss: 0.6196 - acc: 0.7701 - val_loss: 0.6101 - val_acc: 0.7786\n",
      "Epoch 17/20\n",
      "639606/639606 - 10s - loss: 0.6099 - acc: 0.7714 - val_loss: 0.6079 - val_acc: 0.7777\n",
      "Epoch 18/20\n",
      "639606/639606 - 12s - loss: 0.6031 - acc: 0.7687 - val_loss: 0.6146 - val_acc: 0.7230\n",
      "Epoch 19/20\n",
      "639606/639606 - 13s - loss: 0.5937 - acc: 0.7733 - val_loss: 0.5833 - val_acc: 0.7803\n",
      "Epoch 20/20\n",
      "639606/639606 - 13s - loss: 0.5861 - acc: 0.7754 - val_loss: 0.5764 - val_acc: 0.7948\n",
      "Train on 639606 samples, validate on 160394 samples\n",
      "Epoch 1/20\n",
      "639606/639606 - 15s - loss: 2.2269 - acc: 0.2611 - val_loss: 1.5296 - val_acc: 0.2625\n",
      "Epoch 2/20\n",
      "639606/639606 - 12s - loss: 1.5140 - acc: 0.2633 - val_loss: 1.5009 - val_acc: 0.2624\n",
      "Epoch 3/20\n",
      "639606/639606 - 12s - loss: 1.4911 - acc: 0.2633 - val_loss: 1.4822 - val_acc: 0.2625\n",
      "Epoch 4/20\n",
      "639606/639606 - 13s - loss: 1.4741 - acc: 0.2633 - val_loss: 1.4647 - val_acc: 0.2625\n",
      "Epoch 5/20\n",
      "639606/639606 - 16s - loss: 1.4560 - acc: 0.2788 - val_loss: 1.4486 - val_acc: 0.3023\n",
      "Epoch 6/20\n",
      "639606/639606 - 19s - loss: 1.4403 - acc: 0.3079 - val_loss: 1.4326 - val_acc: 0.3155\n",
      "Epoch 7/20\n",
      "639606/639606 - 12s - loss: 1.3562 - acc: 0.3189 - val_loss: 1.2705 - val_acc: 0.3157\n",
      "Epoch 8/20\n",
      "639606/639606 - 17s - loss: 1.2402 - acc: 0.3671 - val_loss: 1.2112 - val_acc: 0.4538\n",
      "Epoch 9/20\n",
      "639606/639606 - 15s - loss: 1.1736 - acc: 0.4131 - val_loss: 1.1262 - val_acc: 0.4451\n",
      "Epoch 10/20\n",
      "639606/639606 - 13s - loss: 1.1174 - acc: 0.4692 - val_loss: 1.1012 - val_acc: 0.4475\n",
      "Epoch 11/20\n",
      "639606/639606 - 13s - loss: 1.0582 - acc: 0.5199 - val_loss: 1.0176 - val_acc: 0.5344\n",
      "Epoch 12/20\n",
      "639606/639606 - 14s - loss: 0.9962 - acc: 0.5643 - val_loss: 0.9853 - val_acc: 0.5170\n",
      "Epoch 13/20\n",
      "639606/639606 - 12s - loss: 0.9401 - acc: 0.6008 - val_loss: 0.9299 - val_acc: 0.5771\n",
      "Epoch 14/20\n",
      "639606/639606 - 14s - loss: 0.8945 - acc: 0.6280 - val_loss: 0.8868 - val_acc: 0.6683\n",
      "Epoch 15/20\n",
      "639606/639606 - 14s - loss: 0.8550 - acc: 0.6498 - val_loss: 0.8873 - val_acc: 0.5486\n",
      "Epoch 16/20\n",
      "639606/639606 - 14s - loss: 0.8242 - acc: 0.6604 - val_loss: 0.8012 - val_acc: 0.6849\n",
      "Epoch 17/20\n",
      "639606/639606 - 13s - loss: 0.7940 - acc: 0.6724 - val_loss: 0.8149 - val_acc: 0.6049\n",
      "Epoch 18/20\n",
      "639606/639606 - 15s - loss: 0.7689 - acc: 0.6789 - val_loss: 0.7351 - val_acc: 0.7127\n",
      "Epoch 19/20\n",
      "639606/639606 - 15s - loss: 0.7472 - acc: 0.6835 - val_loss: 0.7052 - val_acc: 0.7133\n",
      "Epoch 20/20\n",
      "639606/639606 - 13s - loss: 0.7239 - acc: 0.6882 - val_loss: 0.7659 - val_acc: 0.6458\n",
      "Train on 639606 samples, validate on 160394 samples\n",
      "Epoch 1/20\n",
      "639606/639606 - 19s - loss: 3.0428 - acc: 0.3284 - val_loss: 1.4573 - val_acc: 0.4713\n",
      "Epoch 2/20\n",
      "639606/639606 - 13s - loss: 1.3553 - acc: 0.4459 - val_loss: 1.2422 - val_acc: 0.5208\n",
      "Epoch 3/20\n",
      "639606/639606 - 15s - loss: 1.1579 - acc: 0.4884 - val_loss: 1.1756 - val_acc: 0.5474\n",
      "Epoch 4/20\n",
      "639606/639606 - 17s - loss: 1.0471 - acc: 0.5080 - val_loss: 1.1050 - val_acc: 0.5490\n",
      "Epoch 5/20\n",
      "639606/639606 - 17s - loss: 0.9745 - acc: 0.5376 - val_loss: 0.9177 - val_acc: 0.6464\n",
      "Epoch 6/20\n",
      "639606/639606 - 16s - loss: 0.9354 - acc: 0.5715 - val_loss: 0.9058 - val_acc: 0.5896\n",
      "Epoch 7/20\n",
      "639606/639606 - 17s - loss: 0.8773 - acc: 0.6074 - val_loss: 0.8382 - val_acc: 0.7361\n",
      "Epoch 8/20\n",
      "639606/639606 - 16s - loss: 0.8471 - acc: 0.6252 - val_loss: 0.8761 - val_acc: 0.6032\n",
      "Epoch 9/20\n",
      "639606/639606 - 17s - loss: 0.8190 - acc: 0.6462 - val_loss: 0.8254 - val_acc: 0.5890\n",
      "Epoch 10/20\n",
      "639606/639606 - 20s - loss: 0.7783 - acc: 0.6832 - val_loss: 0.7509 - val_acc: 0.7614\n",
      "Epoch 11/20\n",
      "639606/639606 - 16s - loss: 0.7557 - acc: 0.6957 - val_loss: 0.7250 - val_acc: 0.7266\n",
      "Epoch 12/20\n",
      "639606/639606 - 18s - loss: 0.7319 - acc: 0.7096 - val_loss: 0.7326 - val_acc: 0.6791\n",
      "Epoch 13/20\n",
      "639606/639606 - 17s - loss: 0.7087 - acc: 0.7260 - val_loss: 0.6842 - val_acc: 0.7835\n",
      "Epoch 14/20\n",
      "639606/639606 - 17s - loss: 0.6873 - acc: 0.7409 - val_loss: 0.6703 - val_acc: 0.7896\n",
      "Epoch 15/20\n",
      "639606/639606 - 17s - loss: 0.6688 - acc: 0.7513 - val_loss: 0.6514 - val_acc: 0.7604\n",
      "Epoch 16/20\n",
      "639606/639606 - 15s - loss: 0.6557 - acc: 0.7545 - val_loss: 0.6405 - val_acc: 0.7927\n",
      "Epoch 17/20\n",
      "639606/639606 - 16s - loss: 0.6434 - acc: 0.7584 - val_loss: 0.6256 - val_acc: 0.7750\n",
      "Epoch 18/20\n",
      "639606/639606 - 15s - loss: 0.6287 - acc: 0.7669 - val_loss: 0.6200 - val_acc: 0.7843\n",
      "Epoch 19/20\n",
      "639606/639606 - 16s - loss: 0.6178 - acc: 0.7705 - val_loss: 0.6086 - val_acc: 0.7655\n",
      "Epoch 20/20\n",
      "639606/639606 - 16s - loss: 0.6077 - acc: 0.7738 - val_loss: 0.5992 - val_acc: 0.7911\n"
     ]
    },
    {
     "data": {
      "text/html": [
       "<span style=\"color:#4527A0\"><h1 style=\"font-size:18px\">Trial complete</h1></span>"
      ],
      "text/plain": [
       "<IPython.core.display.HTML object>"
      ]
     },
     "metadata": {},
     "output_type": "display_data"
    },
    {
     "data": {
      "text/html": [
       "<span style=\"color:#4527A0\"><h1 style=\"font-size:18px\">Trial summary</h1></span>"
      ],
      "text/plain": [
       "<IPython.core.display.HTML object>"
      ]
     },
     "metadata": {},
     "output_type": "display_data"
    },
    {
     "data": {
      "text/html": [
       "<span style=\"color:cyan\"> |-Trial ID: 0dc2193d81f68fc99abf67b423ccda6e</span>"
      ],
      "text/plain": [
       "<IPython.core.display.HTML object>"
      ]
     },
     "metadata": {},
     "output_type": "display_data"
    },
    {
     "data": {
      "text/html": [
       "<span style=\"color:cyan\"> |-Score: 0.7669426798820496</span>"
      ],
      "text/plain": [
       "<IPython.core.display.HTML object>"
      ]
     },
     "metadata": {},
     "output_type": "display_data"
    },
    {
     "data": {
      "text/html": [
       "<span style=\"color:cyan\"> |-Best step: 0</span>"
      ],
      "text/plain": [
       "<IPython.core.display.HTML object>"
      ]
     },
     "metadata": {},
     "output_type": "display_data"
    },
    {
     "data": {
      "text/html": [
       "<span style=\"color:#7E57C2\"><h2 style=\"font-size:16px\">Hyperparameters:</h2></span>"
      ],
      "text/plain": [
       "<IPython.core.display.HTML object>"
      ]
     },
     "metadata": {},
     "output_type": "display_data"
    },
    {
     "data": {
      "text/html": [
       "<span style=\"color:cyan\"> |-learning_rate: 0.01</span>"
      ],
      "text/plain": [
       "<IPython.core.display.HTML object>"
      ]
     },
     "metadata": {},
     "output_type": "display_data"
    },
    {
     "data": {
      "text/html": [
       "<span style=\"color:blue\"> |-unitsl1: 220</span>"
      ],
      "text/plain": [
       "<IPython.core.display.HTML object>"
      ]
     },
     "metadata": {},
     "output_type": "display_data"
    },
    {
     "data": {
      "text/html": [
       "<span style=\"color:cyan\"> |-unitsl2: 30</span>"
      ],
      "text/plain": [
       "<IPython.core.display.HTML object>"
      ]
     },
     "metadata": {},
     "output_type": "display_data"
    },
    {
     "name": "stdout",
     "output_type": "stream",
     "text": [
      "Train on 639606 samples, validate on 160394 samples\n",
      "Epoch 1/20\n",
      "639606/639606 - 16s - loss: 23.3826 - acc: 0.2634 - val_loss: 12.6080 - val_acc: 0.2625\n",
      "Epoch 2/20\n",
      "639606/639606 - 13s - loss: 7.1819 - acc: 0.2504 - val_loss: 4.8840 - val_acc: 0.2426\n",
      "Epoch 3/20\n",
      "639606/639606 - 14s - loss: 4.3675 - acc: 0.2481 - val_loss: 3.9036 - val_acc: 0.2493\n",
      "Epoch 4/20\n",
      "639606/639606 - 14s - loss: 3.4551 - acc: 0.2510 - val_loss: 3.0404 - val_acc: 0.2500\n",
      "Epoch 5/20\n",
      "639606/639606 - 12s - loss: 2.6409 - acc: 0.2507 - val_loss: 2.2680 - val_acc: 0.2491\n",
      "Epoch 6/20\n",
      "639606/639606 - 14s - loss: 1.9346 - acc: 0.2486 - val_loss: 1.6484 - val_acc: 0.2466\n",
      "Epoch 7/20\n",
      "639606/639606 - 11s - loss: 1.5029 - acc: 0.2430 - val_loss: 1.4273 - val_acc: 0.2494\n",
      "Epoch 8/20\n",
      "639606/639606 - 11s - loss: 1.4097 - acc: 0.2498 - val_loss: 1.4000 - val_acc: 0.2511\n",
      "Epoch 9/20\n",
      "639606/639606 - 14s - loss: 1.3950 - acc: 0.2520 - val_loss: 1.3915 - val_acc: 0.2525\n",
      "Epoch 10/20\n",
      "639606/639606 - 13s - loss: 1.3883 - acc: 0.2543 - val_loss: 1.3862 - val_acc: 0.2546\n",
      "Epoch 11/20\n",
      "639606/639606 - 14s - loss: 1.3838 - acc: 0.2556 - val_loss: 1.3823 - val_acc: 0.2557\n",
      "Epoch 12/20\n",
      "639606/639606 - 15s - loss: 1.3804 - acc: 0.2566 - val_loss: 1.3793 - val_acc: 0.2575\n",
      "Epoch 13/20\n",
      "639606/639606 - 16s - loss: 1.3776 - acc: 0.2574 - val_loss: 1.3768 - val_acc: 0.2586\n",
      "Epoch 14/20\n",
      "639606/639606 - 13s - loss: 1.3754 - acc: 0.2586 - val_loss: 1.3746 - val_acc: 0.2580\n",
      "Epoch 15/20\n",
      "639606/639606 - 9s - loss: 1.3734 - acc: 0.2591 - val_loss: 1.3728 - val_acc: 0.2592\n",
      "Epoch 16/20\n",
      "639606/639606 - 14s - loss: 1.3717 - acc: 0.2598 - val_loss: 1.3712 - val_acc: 0.2602\n",
      "Epoch 17/20\n",
      "639606/639606 - 13s - loss: 1.3701 - acc: 0.2603 - val_loss: 1.3696 - val_acc: 0.2605\n",
      "Epoch 18/20\n",
      "639606/639606 - 16s - loss: 1.3687 - acc: 0.2607 - val_loss: 1.3683 - val_acc: 0.2615\n",
      "Epoch 19/20\n",
      "639606/639606 - 15s - loss: 1.3674 - acc: 0.2612 - val_loss: 1.3670 - val_acc: 0.2614\n",
      "Epoch 20/20\n",
      "639606/639606 - 15s - loss: 1.3662 - acc: 0.2616 - val_loss: 1.3658 - val_acc: 0.2619\n",
      "Train on 639606 samples, validate on 160394 samples\n",
      "Epoch 1/20\n",
      "639606/639606 - 17s - loss: 44.9400 - acc: 0.0987 - val_loss: 32.3762 - val_acc: 0.1659\n",
      "Epoch 2/20\n",
      "639606/639606 - 10s - loss: 27.5157 - acc: 0.1767 - val_loss: 23.1642 - val_acc: 0.1839\n",
      "Epoch 3/20\n",
      "639606/639606 - 12s - loss: 19.3930 - acc: 0.1855 - val_loss: 15.9705 - val_acc: 0.1918\n",
      "Epoch 4/20\n",
      "639606/639606 - 14s - loss: 13.2724 - acc: 0.1991 - val_loss: 10.7829 - val_acc: 0.2034\n",
      "Epoch 5/20\n",
      "639606/639606 - 10s - loss: 8.8482 - acc: 0.2081 - val_loss: 7.6022 - val_acc: 0.2339\n",
      "Epoch 6/20\n",
      "639606/639606 - 12s - loss: 6.7578 - acc: 0.2344 - val_loss: 5.9267 - val_acc: 0.2376\n",
      "Epoch 7/20\n",
      "639606/639606 - 13s - loss: 4.9905 - acc: 0.2337 - val_loss: 4.0854 - val_acc: 0.2348\n",
      "Epoch 8/20\n",
      "639606/639606 - 13s - loss: 3.2001 - acc: 0.2327 - val_loss: 2.3479 - val_acc: 0.2369\n",
      "Epoch 9/20\n",
      "639606/639606 - 15s - loss: 1.8189 - acc: 0.2491 - val_loss: 1.6171 - val_acc: 0.2706\n",
      "Epoch 10/20\n",
      "639606/639606 - 15s - loss: 1.5968 - acc: 0.2691 - val_loss: 1.5830 - val_acc: 0.2715\n",
      "Epoch 11/20\n",
      "639606/639606 - 13s - loss: 1.5739 - acc: 0.2697 - val_loss: 1.5660 - val_acc: 0.2718\n",
      "Epoch 12/20\n",
      "639606/639606 - 10s - loss: 1.5593 - acc: 0.2701 - val_loss: 1.5531 - val_acc: 0.2720\n",
      "Epoch 13/20\n",
      "639606/639606 - 10s - loss: 1.5475 - acc: 0.2705 - val_loss: 1.5421 - val_acc: 0.2725\n",
      "Epoch 14/20\n",
      "639606/639606 - 9s - loss: 1.5371 - acc: 0.2708 - val_loss: 1.5323 - val_acc: 0.2727\n",
      "Epoch 15/20\n",
      "639606/639606 - 10s - loss: 1.5276 - acc: 0.2711 - val_loss: 1.5231 - val_acc: 0.2729\n",
      "Epoch 16/20\n",
      "639606/639606 - 13s - loss: 1.5188 - acc: 0.2714 - val_loss: 1.5146 - val_acc: 0.2734\n",
      "Epoch 17/20\n",
      "639606/639606 - 8s - loss: 1.5105 - acc: 0.2719 - val_loss: 1.5066 - val_acc: 0.2734\n",
      "Epoch 18/20\n",
      "639606/639606 - 11s - loss: 1.5027 - acc: 0.2722 - val_loss: 1.4989 - val_acc: 0.2741\n",
      "Epoch 19/20\n",
      "639606/639606 - 12s - loss: 1.4952 - acc: 0.2724 - val_loss: 1.4915 - val_acc: 0.2743\n",
      "Epoch 20/20\n",
      "639606/639606 - 9s - loss: 1.4880 - acc: 0.2727 - val_loss: 1.4844 - val_acc: 0.2747\n",
      "Train on 639606 samples, validate on 160394 samples\n",
      "Epoch 1/20\n",
      "639606/639606 - 16s - loss: 42.7525 - acc: 0.2044 - val_loss: 32.4178 - val_acc: 0.2048\n",
      "Epoch 2/20\n",
      "639606/639606 - 11s - loss: 25.9014 - acc: 0.2044 - val_loss: 20.2792 - val_acc: 0.2050\n",
      "Epoch 3/20\n",
      "639606/639606 - 15s - loss: 15.4474 - acc: 0.2053 - val_loss: 11.0527 - val_acc: 0.2108\n",
      "Epoch 4/20\n",
      "639606/639606 - 10s - loss: 8.6862 - acc: 0.2359 - val_loss: 7.1811 - val_acc: 0.2477\n",
      "Epoch 5/20\n",
      "639606/639606 - 14s - loss: 6.0966 - acc: 0.2466 - val_loss: 5.1546 - val_acc: 0.2478\n",
      "Epoch 6/20\n",
      "639606/639606 - 13s - loss: 4.4766 - acc: 0.2467 - val_loss: 3.8569 - val_acc: 0.2465\n",
      "Epoch 7/20\n",
      "639606/639606 - 10s - loss: 3.2791 - acc: 0.2460 - val_loss: 2.7298 - val_acc: 0.2467\n",
      "Epoch 8/20\n",
      "639606/639606 - 8s - loss: 2.2199 - acc: 0.2463 - val_loss: 1.7532 - val_acc: 0.2469\n",
      "Epoch 9/20\n",
      "639606/639606 - 12s - loss: 1.6025 - acc: 0.2541 - val_loss: 1.5665 - val_acc: 0.2601\n",
      "Epoch 10/20\n",
      "639606/639606 - 11s - loss: 1.5616 - acc: 0.2600 - val_loss: 1.5543 - val_acc: 0.2610\n",
      "Epoch 11/20\n",
      "639606/639606 - 13s - loss: 1.5508 - acc: 0.2607 - val_loss: 1.5446 - val_acc: 0.2617\n",
      "Epoch 12/20\n",
      "639606/639606 - 13s - loss: 1.5418 - acc: 0.2616 - val_loss: 1.5362 - val_acc: 0.2623\n",
      "Epoch 13/20\n",
      "639606/639606 - 13s - loss: 1.5339 - acc: 0.2623 - val_loss: 1.5287 - val_acc: 0.2629\n",
      "Epoch 14/20\n",
      "639606/639606 - 11s - loss: 1.5268 - acc: 0.2629 - val_loss: 1.5219 - val_acc: 0.2633\n",
      "Epoch 15/20\n",
      "639606/639606 - 10s - loss: 1.5202 - acc: 0.2634 - val_loss: 1.5155 - val_acc: 0.2645\n",
      "Epoch 16/20\n",
      "639606/639606 - 9s - loss: 1.5141 - acc: 0.2641 - val_loss: 1.5096 - val_acc: 0.2645\n",
      "Epoch 17/20\n",
      "639606/639606 - 8s - loss: 1.5083 - acc: 0.2645 - val_loss: 1.5039 - val_acc: 0.2655\n",
      "Epoch 18/20\n",
      "639606/639606 - 10s - loss: 1.5028 - acc: 0.2651 - val_loss: 1.4985 - val_acc: 0.2659\n",
      "Epoch 19/20\n",
      "639606/639606 - 10s - loss: 1.4976 - acc: 0.2658 - val_loss: 1.4934 - val_acc: 0.2668\n",
      "Epoch 20/20\n",
      "639606/639606 - 11s - loss: 1.4926 - acc: 0.2664 - val_loss: 1.4885 - val_acc: 0.2673\n"
     ]
    },
    {
     "data": {
      "text/html": [
       "<span style=\"color:#4527A0\"><h1 style=\"font-size:18px\">Trial complete</h1></span>"
      ],
      "text/plain": [
       "<IPython.core.display.HTML object>"
      ]
     },
     "metadata": {},
     "output_type": "display_data"
    },
    {
     "data": {
      "text/html": [
       "<span style=\"color:#4527A0\"><h1 style=\"font-size:18px\">Trial summary</h1></span>"
      ],
      "text/plain": [
       "<IPython.core.display.HTML object>"
      ]
     },
     "metadata": {},
     "output_type": "display_data"
    },
    {
     "data": {
      "text/html": [
       "<span style=\"color:cyan\"> |-Trial ID: 28079a97f93282690361a25eb527401a</span>"
      ],
      "text/plain": [
       "<IPython.core.display.HTML object>"
      ]
     },
     "metadata": {},
     "output_type": "display_data"
    },
    {
     "data": {
      "text/html": [
       "<span style=\"color:cyan\"> |-Score: 0.26817503571510315</span>"
      ],
      "text/plain": [
       "<IPython.core.display.HTML object>"
      ]
     },
     "metadata": {},
     "output_type": "display_data"
    },
    {
     "data": {
      "text/html": [
       "<span style=\"color:cyan\"> |-Best step: 0</span>"
      ],
      "text/plain": [
       "<IPython.core.display.HTML object>"
      ]
     },
     "metadata": {},
     "output_type": "display_data"
    },
    {
     "data": {
      "text/html": [
       "<span style=\"color:#7E57C2\"><h2 style=\"font-size:16px\">Hyperparameters:</h2></span>"
      ],
      "text/plain": [
       "<IPython.core.display.HTML object>"
      ]
     },
     "metadata": {},
     "output_type": "display_data"
    },
    {
     "data": {
      "text/html": [
       "<span style=\"color:cyan\"> |-learning_rate: 0.0001</span>"
      ],
      "text/plain": [
       "<IPython.core.display.HTML object>"
      ]
     },
     "metadata": {},
     "output_type": "display_data"
    },
    {
     "data": {
      "text/html": [
       "<span style=\"color:blue\"> |-unitsl1: 100</span>"
      ],
      "text/plain": [
       "<IPython.core.display.HTML object>"
      ]
     },
     "metadata": {},
     "output_type": "display_data"
    },
    {
     "data": {
      "text/html": [
       "<span style=\"color:cyan\"> |-unitsl2: 20</span>"
      ],
      "text/plain": [
       "<IPython.core.display.HTML object>"
      ]
     },
     "metadata": {},
     "output_type": "display_data"
    },
    {
     "name": "stdout",
     "output_type": "stream",
     "text": [
      "Train on 639606 samples, validate on 160394 samples\n",
      "Epoch 1/20\n",
      "639606/639606 - 21s - loss: 4.8567 - acc: 0.2736 - val_loss: 1.5059 - val_acc: 0.2842\n",
      "Epoch 2/20\n",
      "639606/639606 - 14s - loss: 1.4868 - acc: 0.2876 - val_loss: 1.4668 - val_acc: 0.2864\n",
      "Epoch 3/20\n",
      "639606/639606 - 14s - loss: 1.4566 - acc: 0.2887 - val_loss: 1.4448 - val_acc: 0.2881\n",
      "Epoch 4/20\n",
      "639606/639606 - 15s - loss: 1.4378 - acc: 0.2905 - val_loss: 1.4284 - val_acc: 0.2900\n",
      "Epoch 5/20\n",
      "639606/639606 - 17s - loss: 1.4230 - acc: 0.2923 - val_loss: 1.4148 - val_acc: 0.2917\n",
      "Epoch 6/20\n",
      "639606/639606 - 17s - loss: 1.4102 - acc: 0.2940 - val_loss: 1.4028 - val_acc: 0.2931\n",
      "Epoch 7/20\n",
      "639606/639606 - 14s - loss: 1.3987 - acc: 0.2952 - val_loss: 1.3919 - val_acc: 0.2946\n",
      "Epoch 8/20\n",
      "639606/639606 - 15s - loss: 1.3886 - acc: 0.2966 - val_loss: 1.3826 - val_acc: 0.2967\n",
      "Epoch 9/20\n",
      "639606/639606 - 16s - loss: 1.3797 - acc: 0.2981 - val_loss: 1.3742 - val_acc: 0.2975\n",
      "Epoch 10/20\n",
      "639606/639606 - 16s - loss: 1.3717 - acc: 0.2994 - val_loss: 1.3665 - val_acc: 0.2994\n",
      "Epoch 11/20\n",
      "639606/639606 - 13s - loss: 1.3644 - acc: 0.3014 - val_loss: 1.3597 - val_acc: 0.3014\n",
      "Epoch 12/20\n",
      "639606/639606 - 13s - loss: 1.3577 - acc: 0.3028 - val_loss: 1.3532 - val_acc: 0.3026\n",
      "Epoch 13/20\n",
      "639606/639606 - 13s - loss: 1.3516 - acc: 0.3042 - val_loss: 1.3475 - val_acc: 0.3041\n",
      "Epoch 14/20\n",
      "639606/639606 - 15s - loss: 1.3459 - acc: 0.3060 - val_loss: 1.3418 - val_acc: 0.3065\n",
      "Epoch 15/20\n",
      "639606/639606 - 14s - loss: 1.3406 - acc: 0.3077 - val_loss: 1.3369 - val_acc: 0.3088\n",
      "Epoch 16/20\n",
      "639606/639606 - 13s - loss: 1.3357 - acc: 0.3094 - val_loss: 1.3320 - val_acc: 0.3106\n",
      "Epoch 17/20\n",
      "639606/639606 - 14s - loss: 1.3311 - acc: 0.3113 - val_loss: 1.3276 - val_acc: 0.3107\n",
      "Epoch 18/20\n",
      "639606/639606 - 14s - loss: 1.3268 - acc: 0.3127 - val_loss: 1.3234 - val_acc: 0.3128\n",
      "Epoch 19/20\n",
      "639606/639606 - 18s - loss: 1.3227 - acc: 0.3141 - val_loss: 1.3194 - val_acc: 0.3155\n",
      "Epoch 20/20\n",
      "639606/639606 - 15s - loss: 1.3188 - acc: 0.3155 - val_loss: 1.3156 - val_acc: 0.3158\n",
      "Train on 639606 samples, validate on 160394 samples\n",
      "Epoch 1/20\n",
      "639606/639606 - 20s - loss: 35.4748 - acc: 0.2351 - val_loss: 17.2773 - val_acc: 0.2329\n",
      "Epoch 2/20\n",
      "639606/639606 - 14s - loss: 7.9095 - acc: 0.2327 - val_loss: 3.9081 - val_acc: 0.2310\n",
      "Epoch 3/20\n",
      "639606/639606 - 15s - loss: 2.5371 - acc: 0.2344 - val_loss: 1.6206 - val_acc: 0.2436\n",
      "Epoch 4/20\n",
      "639606/639606 - 13s - loss: 1.5939 - acc: 0.2446 - val_loss: 1.5831 - val_acc: 0.2452\n",
      "Epoch 5/20\n",
      "639606/639606 - 12s - loss: 1.5700 - acc: 0.2458 - val_loss: 1.5646 - val_acc: 0.2455\n",
      "Epoch 6/20\n",
      "639606/639606 - 15s - loss: 1.5540 - acc: 0.2466 - val_loss: 1.5503 - val_acc: 0.2472\n",
      "Epoch 7/20\n",
      "639606/639606 - 16s - loss: 1.5402 - acc: 0.2480 - val_loss: 1.5368 - val_acc: 0.2481\n",
      "Epoch 8/20\n",
      "639606/639606 - 13s - loss: 1.5277 - acc: 0.2493 - val_loss: 1.5244 - val_acc: 0.2494\n",
      "Epoch 9/20\n",
      "639606/639606 - 12s - loss: 1.5159 - acc: 0.2506 - val_loss: 1.5129 - val_acc: 0.2508\n",
      "Epoch 10/20\n",
      "639606/639606 - 16s - loss: 1.5049 - acc: 0.2518 - val_loss: 1.5021 - val_acc: 0.2513\n",
      "Epoch 11/20\n",
      "639606/639606 - 16s - loss: 1.4944 - acc: 0.2527 - val_loss: 1.4918 - val_acc: 0.2525\n",
      "Epoch 12/20\n",
      "639606/639606 - 12s - loss: 1.4845 - acc: 0.2536 - val_loss: 1.4821 - val_acc: 0.2539\n",
      "Epoch 13/20\n",
      "639606/639606 - 12s - loss: 1.4750 - acc: 0.2544 - val_loss: 1.4726 - val_acc: 0.2546\n",
      "Epoch 14/20\n",
      "639606/639606 - 14s - loss: 1.4660 - acc: 0.2548 - val_loss: 1.4637 - val_acc: 0.2551\n",
      "Epoch 15/20\n",
      "639606/639606 - 16s - loss: 1.4572 - acc: 0.2552 - val_loss: 1.4550 - val_acc: 0.2556\n",
      "Epoch 16/20\n",
      "639606/639606 - 16s - loss: 1.4489 - acc: 0.2559 - val_loss: 1.4467 - val_acc: 0.2556\n",
      "Epoch 17/20\n",
      "639606/639606 - 15s - loss: 1.4406 - acc: 0.2571 - val_loss: 1.4383 - val_acc: 0.2577\n",
      "Epoch 18/20\n",
      "639606/639606 - 12s - loss: 1.4322 - acc: 0.2600 - val_loss: 1.4297 - val_acc: 0.2610\n",
      "Epoch 19/20\n",
      "639606/639606 - 11s - loss: 1.4242 - acc: 0.2631 - val_loss: 1.4222 - val_acc: 0.2630\n",
      "Epoch 20/20\n",
      "639606/639606 - 14s - loss: 1.4170 - acc: 0.2645 - val_loss: 1.4152 - val_acc: 0.2644\n",
      "Train on 639606 samples, validate on 160394 samples\n",
      "Epoch 1/20\n",
      "639606/639606 - 24s - loss: 7.8113 - acc: 0.2731 - val_loss: 1.3543 - val_acc: 0.2460\n",
      "Epoch 2/20\n",
      "639606/639606 - 12s - loss: 1.3480 - acc: 0.2483 - val_loss: 1.3418 - val_acc: 0.2503\n",
      "Epoch 3/20\n",
      "639606/639606 - 13s - loss: 1.3370 - acc: 0.2553 - val_loss: 1.3320 - val_acc: 0.2583\n",
      "Epoch 4/20\n",
      "639606/639606 - 14s - loss: 1.3289 - acc: 0.2623 - val_loss: 1.3251 - val_acc: 0.2675\n",
      "Epoch 5/20\n",
      "639606/639606 - 12s - loss: 1.3229 - acc: 0.2673 - val_loss: 1.3202 - val_acc: 0.2690\n",
      "Epoch 6/20\n",
      "639606/639606 - 14s - loss: 1.3182 - acc: 0.2692 - val_loss: 1.3160 - val_acc: 0.2679\n",
      "Epoch 7/20\n",
      "639606/639606 - 14s - loss: 1.3138 - acc: 0.2710 - val_loss: 1.3106 - val_acc: 0.2740\n",
      "Epoch 8/20\n",
      "639606/639606 - 15s - loss: 1.3077 - acc: 0.2733 - val_loss: 1.3056 - val_acc: 0.2717\n",
      "Epoch 9/20\n",
      "639606/639606 - 15s - loss: 1.3038 - acc: 0.2748 - val_loss: 1.3019 - val_acc: 0.2771\n",
      "Epoch 10/20\n",
      "639606/639606 - 15s - loss: 1.3005 - acc: 0.2766 - val_loss: 1.2987 - val_acc: 0.2775\n",
      "Epoch 11/20\n",
      "639606/639606 - 15s - loss: 1.2974 - acc: 0.2784 - val_loss: 1.2958 - val_acc: 0.2773\n",
      "Epoch 12/20\n",
      "639606/639606 - 13s - loss: 1.2938 - acc: 0.2810 - val_loss: 1.2907 - val_acc: 0.2845\n",
      "Epoch 13/20\n",
      "639606/639606 - 12s - loss: 1.2890 - acc: 0.2842 - val_loss: 1.2877 - val_acc: 0.2857\n",
      "Epoch 14/20\n",
      "639606/639606 - 14s - loss: 1.2864 - acc: 0.2859 - val_loss: 1.2855 - val_acc: 0.2838\n",
      "Epoch 15/20\n",
      "639606/639606 - 16s - loss: 1.2841 - acc: 0.2874 - val_loss: 1.2830 - val_acc: 0.2889\n",
      "Epoch 16/20\n",
      "639606/639606 - 16s - loss: 1.2819 - acc: 0.2896 - val_loss: 1.2809 - val_acc: 0.2909\n",
      "Epoch 17/20\n",
      "639606/639606 - 11s - loss: 1.2798 - acc: 0.2911 - val_loss: 1.2789 - val_acc: 0.2931\n",
      "Epoch 18/20\n",
      "639606/639606 - 2s - loss: 1.2778 - acc: 0.2928 - val_loss: 1.2769 - val_acc: 0.2922\n",
      "Epoch 19/20\n",
      "639606/639606 - 2s - loss: 1.2758 - acc: 0.2947 - val_loss: 1.2749 - val_acc: 0.2941\n",
      "Epoch 20/20\n",
      "639606/639606 - 2s - loss: 1.2739 - acc: 0.2966 - val_loss: 1.2730 - val_acc: 0.2961\n"
     ]
    },
    {
     "data": {
      "text/html": [
       "<span style=\"color:#4527A0\"><h1 style=\"font-size:18px\">Trial complete</h1></span>"
      ],
      "text/plain": [
       "<IPython.core.display.HTML object>"
      ]
     },
     "metadata": {},
     "output_type": "display_data"
    },
    {
     "data": {
      "text/html": [
       "<span style=\"color:#4527A0\"><h1 style=\"font-size:18px\">Trial summary</h1></span>"
      ],
      "text/plain": [
       "<IPython.core.display.HTML object>"
      ]
     },
     "metadata": {},
     "output_type": "display_data"
    },
    {
     "data": {
      "text/html": [
       "<span style=\"color:cyan\"> |-Trial ID: 8259021df563ab4152bfc3faf02e793d</span>"
      ],
      "text/plain": [
       "<IPython.core.display.HTML object>"
      ]
     },
     "metadata": {},
     "output_type": "display_data"
    },
    {
     "data": {
      "text/html": [
       "<span style=\"color:cyan\"> |-Score: 0.29212647676467896</span>"
      ],
      "text/plain": [
       "<IPython.core.display.HTML object>"
      ]
     },
     "metadata": {},
     "output_type": "display_data"
    },
    {
     "data": {
      "text/html": [
       "<span style=\"color:cyan\"> |-Best step: 0</span>"
      ],
      "text/plain": [
       "<IPython.core.display.HTML object>"
      ]
     },
     "metadata": {},
     "output_type": "display_data"
    },
    {
     "data": {
      "text/html": [
       "<span style=\"color:#7E57C2\"><h2 style=\"font-size:16px\">Hyperparameters:</h2></span>"
      ],
      "text/plain": [
       "<IPython.core.display.HTML object>"
      ]
     },
     "metadata": {},
     "output_type": "display_data"
    },
    {
     "data": {
      "text/html": [
       "<span style=\"color:cyan\"> |-learning_rate: 0.0001</span>"
      ],
      "text/plain": [
       "<IPython.core.display.HTML object>"
      ]
     },
     "metadata": {},
     "output_type": "display_data"
    },
    {
     "data": {
      "text/html": [
       "<span style=\"color:blue\"> |-unitsl1: 250</span>"
      ],
      "text/plain": [
       "<IPython.core.display.HTML object>"
      ]
     },
     "metadata": {},
     "output_type": "display_data"
    },
    {
     "data": {
      "text/html": [
       "<span style=\"color:cyan\"> |-unitsl2: 40</span>"
      ],
      "text/plain": [
       "<IPython.core.display.HTML object>"
      ]
     },
     "metadata": {},
     "output_type": "display_data"
    },
    {
     "name": "stdout",
     "output_type": "stream",
     "text": [
      "Train on 639606 samples, validate on 160394 samples\n",
      "Epoch 1/20\n",
      "639606/639606 - 2s - loss: 2.7306 - acc: 0.3235 - val_loss: 1.3701 - val_acc: 0.4106\n",
      "Epoch 2/20\n",
      "639606/639606 - 1s - loss: 1.3142 - acc: 0.4317 - val_loss: 1.2114 - val_acc: 0.5118\n",
      "Epoch 3/20\n",
      "639606/639606 - 1s - loss: 1.1343 - acc: 0.5031 - val_loss: 1.0700 - val_acc: 0.5404\n",
      "Epoch 4/20\n",
      "639606/639606 - 1s - loss: 1.0359 - acc: 0.5592 - val_loss: 0.9932 - val_acc: 0.5536\n",
      "Epoch 5/20\n",
      "639606/639606 - 1s - loss: 0.9767 - acc: 0.5958 - val_loss: 0.9424 - val_acc: 0.6327\n",
      "Epoch 6/20\n",
      "639606/639606 - 1s - loss: 0.9390 - acc: 0.6099 - val_loss: 0.9106 - val_acc: 0.6149\n",
      "Epoch 7/20\n",
      "639606/639606 - 1s - loss: 0.9064 - acc: 0.6246 - val_loss: 0.8871 - val_acc: 0.6181\n",
      "Epoch 8/20\n",
      "639606/639606 - 1s - loss: 0.8734 - acc: 0.6486 - val_loss: 0.8704 - val_acc: 0.6182\n",
      "Epoch 9/20\n",
      "639606/639606 - 1s - loss: 0.8499 - acc: 0.6571 - val_loss: 0.8513 - val_acc: 0.6117\n",
      "Epoch 10/20\n",
      "639606/639606 - 1s - loss: 0.8244 - acc: 0.6727 - val_loss: 0.8060 - val_acc: 0.7040\n",
      "Epoch 11/20\n",
      "639606/639606 - 1s - loss: 0.8005 - acc: 0.6864 - val_loss: 0.7827 - val_acc: 0.7106\n",
      "Epoch 12/20\n",
      "639606/639606 - 1s - loss: 0.7760 - acc: 0.7002 - val_loss: 0.8056 - val_acc: 0.6615\n",
      "Epoch 13/20\n",
      "639606/639606 - 1s - loss: 0.7503 - acc: 0.7144 - val_loss: 0.7286 - val_acc: 0.7579\n",
      "Epoch 14/20\n",
      "639606/639606 - 1s - loss: 0.7282 - acc: 0.7236 - val_loss: 0.7222 - val_acc: 0.6877\n",
      "Epoch 15/20\n",
      "639606/639606 - 1s - loss: 0.7056 - acc: 0.7375 - val_loss: 0.6925 - val_acc: 0.7832\n",
      "Epoch 16/20\n",
      "639606/639606 - 1s - loss: 0.6915 - acc: 0.7356 - val_loss: 0.6973 - val_acc: 0.6857\n",
      "Epoch 17/20\n",
      "639606/639606 - 1s - loss: 0.6716 - acc: 0.7530 - val_loss: 0.6631 - val_acc: 0.7580\n",
      "Epoch 18/20\n",
      "639606/639606 - 1s - loss: 0.6575 - acc: 0.7570 - val_loss: 0.6535 - val_acc: 0.7689\n",
      "Epoch 19/20\n",
      "639606/639606 - 1s - loss: 0.6452 - acc: 0.7618 - val_loss: 0.6350 - val_acc: 0.7910\n",
      "Epoch 20/20\n",
      "639606/639606 - 1s - loss: 0.6354 - acc: 0.7636 - val_loss: 0.6401 - val_acc: 0.7170\n",
      "Train on 639606 samples, validate on 160394 samples\n",
      "Epoch 1/20\n",
      "639606/639606 - 2s - loss: 2.1704 - acc: 0.2952 - val_loss: 1.2542 - val_acc: 0.2812\n",
      "Epoch 2/20\n",
      "639606/639606 - 1s - loss: 1.2541 - acc: 0.3875 - val_loss: 1.1694 - val_acc: 0.4474\n",
      "Epoch 3/20\n",
      "639606/639606 - 1s - loss: 1.1507 - acc: 0.4566 - val_loss: 1.1452 - val_acc: 0.4816\n",
      "Epoch 4/20\n",
      "639606/639606 - 1s - loss: 1.0877 - acc: 0.5078 - val_loss: 1.0557 - val_acc: 0.5847\n",
      "Epoch 5/20\n",
      "639606/639606 - 1s - loss: 1.0478 - acc: 0.5514 - val_loss: 1.0219 - val_acc: 0.5955\n",
      "Epoch 6/20\n",
      "639606/639606 - 1s - loss: 1.0116 - acc: 0.5977 - val_loss: 0.9925 - val_acc: 0.6153\n",
      "Epoch 7/20\n",
      "639606/639606 - 1s - loss: 0.9807 - acc: 0.6319 - val_loss: 0.9628 - val_acc: 0.6198\n",
      "Epoch 8/20\n",
      "639606/639606 - 1s - loss: 0.9539 - acc: 0.6546 - val_loss: 0.9701 - val_acc: 0.5996\n",
      "Epoch 9/20\n",
      "639606/639606 - 1s - loss: 0.9291 - acc: 0.6730 - val_loss: 0.9271 - val_acc: 0.6456\n",
      "Epoch 10/20\n",
      "639606/639606 - 1s - loss: 0.9075 - acc: 0.6844 - val_loss: 0.8994 - val_acc: 0.6405\n",
      "Epoch 11/20\n",
      "639606/639606 - 1s - loss: 0.8871 - acc: 0.6956 - val_loss: 0.8749 - val_acc: 0.7127\n",
      "Epoch 12/20\n",
      "639606/639606 - 1s - loss: 0.8687 - acc: 0.7018 - val_loss: 0.8597 - val_acc: 0.7627\n",
      "Epoch 13/20\n",
      "639606/639606 - 1s - loss: 0.8510 - acc: 0.7101 - val_loss: 0.8458 - val_acc: 0.6636\n",
      "Epoch 14/20\n",
      "639606/639606 - 1s - loss: 0.8336 - acc: 0.7160 - val_loss: 0.8230 - val_acc: 0.7181\n",
      "Epoch 15/20\n",
      "639606/639606 - 1s - loss: 0.8173 - acc: 0.7168 - val_loss: 0.8068 - val_acc: 0.7223\n",
      "Epoch 16/20\n",
      "639606/639606 - 1s - loss: 0.7995 - acc: 0.7204 - val_loss: 0.7949 - val_acc: 0.6744\n",
      "Epoch 17/20\n",
      "639606/639606 - 1s - loss: 0.7782 - acc: 0.7237 - val_loss: 0.7704 - val_acc: 0.7150\n",
      "Epoch 18/20\n",
      "639606/639606 - 1s - loss: 0.7549 - acc: 0.7284 - val_loss: 0.7479 - val_acc: 0.6926\n",
      "Epoch 19/20\n",
      "639606/639606 - 1s - loss: 0.7310 - acc: 0.7356 - val_loss: 0.7381 - val_acc: 0.6835\n",
      "Epoch 20/20\n",
      "639606/639606 - 1s - loss: 0.7067 - acc: 0.7449 - val_loss: 0.6919 - val_acc: 0.7774\n",
      "Train on 639606 samples, validate on 160394 samples\n",
      "Epoch 1/20\n",
      "639606/639606 - 2s - loss: 2.4715 - acc: 0.3230 - val_loss: 1.4442 - val_acc: 0.3104\n",
      "Epoch 2/20\n",
      "639606/639606 - 1s - loss: 1.2544 - acc: 0.4578 - val_loss: 1.1375 - val_acc: 0.4744\n",
      "Epoch 3/20\n",
      "639606/639606 - 1s - loss: 1.0952 - acc: 0.5345 - val_loss: 1.0317 - val_acc: 0.5453\n",
      "Epoch 4/20\n",
      "639606/639606 - 1s - loss: 1.0114 - acc: 0.5688 - val_loss: 0.9694 - val_acc: 0.5840\n",
      "Epoch 5/20\n",
      "639606/639606 - 1s - loss: 0.9530 - acc: 0.5902 - val_loss: 0.9369 - val_acc: 0.6122\n",
      "Epoch 6/20\n",
      "639606/639606 - 1s - loss: 0.8982 - acc: 0.6200 - val_loss: 0.8430 - val_acc: 0.6935\n",
      "Epoch 7/20\n",
      "639606/639606 - 1s - loss: 0.8381 - acc: 0.6584 - val_loss: 0.7861 - val_acc: 0.7550\n",
      "Epoch 8/20\n",
      "639606/639606 - 1s - loss: 0.7982 - acc: 0.6710 - val_loss: 0.7636 - val_acc: 0.7486\n",
      "Epoch 9/20\n",
      "639606/639606 - 1s - loss: 0.7507 - acc: 0.7092 - val_loss: 0.7355 - val_acc: 0.7283\n",
      "Epoch 10/20\n",
      "639606/639606 - 1s - loss: 0.7263 - acc: 0.7085 - val_loss: 0.7098 - val_acc: 0.7508\n",
      "Epoch 11/20\n",
      "639606/639606 - 1s - loss: 0.6986 - acc: 0.7268 - val_loss: 0.6753 - val_acc: 0.7805\n",
      "Epoch 12/20\n",
      "639606/639606 - 1s - loss: 0.6783 - acc: 0.7336 - val_loss: 0.6601 - val_acc: 0.7259\n",
      "Epoch 13/20\n",
      "639606/639606 - 1s - loss: 0.6616 - acc: 0.7383 - val_loss: 0.6462 - val_acc: 0.7722\n",
      "Epoch 14/20\n",
      "639606/639606 - 1s - loss: 0.6402 - acc: 0.7557 - val_loss: 0.6394 - val_acc: 0.7494\n",
      "Epoch 15/20\n",
      "639606/639606 - 1s - loss: 0.6311 - acc: 0.7547 - val_loss: 0.6460 - val_acc: 0.7182\n",
      "Epoch 16/20\n",
      "639606/639606 - 1s - loss: 0.6193 - acc: 0.7572 - val_loss: 0.6008 - val_acc: 0.7799\n",
      "Epoch 17/20\n",
      "639606/639606 - 1s - loss: 0.6088 - acc: 0.7618 - val_loss: 0.5933 - val_acc: 0.7796\n",
      "Epoch 18/20\n",
      "639606/639606 - 1s - loss: 0.5982 - acc: 0.7677 - val_loss: 0.5840 - val_acc: 0.7919\n",
      "Epoch 19/20\n",
      "639606/639606 - 1s - loss: 0.5911 - acc: 0.7686 - val_loss: 0.5829 - val_acc: 0.7907\n",
      "Epoch 20/20\n",
      "639606/639606 - 1s - loss: 0.5836 - acc: 0.7718 - val_loss: 0.5761 - val_acc: 0.7917\n"
     ]
    },
    {
     "data": {
      "text/html": [
       "<span style=\"color:#4527A0\"><h1 style=\"font-size:18px\">Trial complete</h1></span>"
      ],
      "text/plain": [
       "<IPython.core.display.HTML object>"
      ]
     },
     "metadata": {},
     "output_type": "display_data"
    },
    {
     "data": {
      "text/html": [
       "<span style=\"color:#4527A0\"><h1 style=\"font-size:18px\">Trial summary</h1></span>"
      ],
      "text/plain": [
       "<IPython.core.display.HTML object>"
      ]
     },
     "metadata": {},
     "output_type": "display_data"
    },
    {
     "data": {
      "text/html": [
       "<span style=\"color:cyan\"> |-Trial ID: de1faaa35ef66d14c5657bb68efe6f83</span>"
      ],
      "text/plain": [
       "<IPython.core.display.HTML object>"
      ]
     },
     "metadata": {},
     "output_type": "display_data"
    },
    {
     "data": {
      "text/html": [
       "<span style=\"color:cyan\"> |-Score: 0.7867646217346191</span>"
      ],
      "text/plain": [
       "<IPython.core.display.HTML object>"
      ]
     },
     "metadata": {},
     "output_type": "display_data"
    },
    {
     "data": {
      "text/html": [
       "<span style=\"color:cyan\"> |-Best step: 0</span>"
      ],
      "text/plain": [
       "<IPython.core.display.HTML object>"
      ]
     },
     "metadata": {},
     "output_type": "display_data"
    },
    {
     "data": {
      "text/html": [
       "<span style=\"color:#7E57C2\"><h2 style=\"font-size:16px\">Hyperparameters:</h2></span>"
      ],
      "text/plain": [
       "<IPython.core.display.HTML object>"
      ]
     },
     "metadata": {},
     "output_type": "display_data"
    },
    {
     "data": {
      "text/html": [
       "<span style=\"color:cyan\"> |-learning_rate: 0.01</span>"
      ],
      "text/plain": [
       "<IPython.core.display.HTML object>"
      ]
     },
     "metadata": {},
     "output_type": "display_data"
    },
    {
     "data": {
      "text/html": [
       "<span style=\"color:blue\"> |-unitsl1: 40</span>"
      ],
      "text/plain": [
       "<IPython.core.display.HTML object>"
      ]
     },
     "metadata": {},
     "output_type": "display_data"
    },
    {
     "data": {
      "text/html": [
       "<span style=\"color:cyan\"> |-unitsl2: 35</span>"
      ],
      "text/plain": [
       "<IPython.core.display.HTML object>"
      ]
     },
     "metadata": {},
     "output_type": "display_data"
    },
    {
     "name": "stdout",
     "output_type": "stream",
     "text": [
      "Train on 639606 samples, validate on 160394 samples\n",
      "Epoch 1/20\n",
      "639606/639606 - 2s - loss: 1.6313 - acc: 0.2678 - val_loss: 1.4292 - val_acc: 0.2778\n",
      "Epoch 2/20\n",
      "639606/639606 - 2s - loss: 1.3164 - acc: 0.2908 - val_loss: 1.2855 - val_acc: 0.3004\n",
      "Epoch 3/20\n",
      "639606/639606 - 2s - loss: 1.2767 - acc: 0.3142 - val_loss: 1.2589 - val_acc: 0.3220\n",
      "Epoch 4/20\n",
      "639606/639606 - 2s - loss: 1.2490 - acc: 0.3412 - val_loss: 1.2438 - val_acc: 0.3448\n",
      "Epoch 5/20\n",
      "639606/639606 - 2s - loss: 1.2281 - acc: 0.3648 - val_loss: 1.2146 - val_acc: 0.3612\n",
      "Epoch 6/20\n",
      "639606/639606 - 2s - loss: 1.2097 - acc: 0.3996 - val_loss: 1.2014 - val_acc: 0.3946\n",
      "Epoch 7/20\n",
      "639606/639606 - 2s - loss: 1.1946 - acc: 0.4274 - val_loss: 1.1848 - val_acc: 0.4427\n",
      "Epoch 8/20\n",
      "639606/639606 - 2s - loss: 1.1811 - acc: 0.4524 - val_loss: 1.1718 - val_acc: 0.4591\n",
      "Epoch 9/20\n",
      "639606/639606 - 2s - loss: 1.1681 - acc: 0.4728 - val_loss: 1.1598 - val_acc: 0.5082\n",
      "Epoch 10/20\n",
      "639606/639606 - 2s - loss: 1.1570 - acc: 0.4860 - val_loss: 1.1490 - val_acc: 0.5436\n",
      "Epoch 11/20\n",
      "639606/639606 - 2s - loss: 1.1456 - acc: 0.5008 - val_loss: 1.1384 - val_acc: 0.4955\n",
      "Epoch 12/20\n",
      "639606/639606 - 2s - loss: 1.1348 - acc: 0.5123 - val_loss: 1.1282 - val_acc: 0.5322\n",
      "Epoch 13/20\n",
      "639606/639606 - 2s - loss: 1.1251 - acc: 0.5221 - val_loss: 1.1192 - val_acc: 0.5120\n",
      "Epoch 14/20\n",
      "639606/639606 - 2s - loss: 1.1155 - acc: 0.5312 - val_loss: 1.1092 - val_acc: 0.5650\n",
      "Epoch 15/20\n",
      "639606/639606 - 2s - loss: 1.1061 - acc: 0.5415 - val_loss: 1.1019 - val_acc: 0.5448\n",
      "Epoch 16/20\n",
      "639606/639606 - 2s - loss: 1.0972 - acc: 0.5478 - val_loss: 1.0928 - val_acc: 0.5821\n",
      "Epoch 17/20\n",
      "639606/639606 - 2s - loss: 1.0883 - acc: 0.5567 - val_loss: 1.0831 - val_acc: 0.5334\n",
      "Epoch 18/20\n",
      "639606/639606 - 2s - loss: 1.0800 - acc: 0.5633 - val_loss: 1.0828 - val_acc: 0.5072\n",
      "Epoch 19/20\n",
      "639606/639606 - 2s - loss: 1.0717 - acc: 0.5700 - val_loss: 1.0670 - val_acc: 0.5521\n",
      "Epoch 20/20\n",
      "639606/639606 - 2s - loss: 1.0638 - acc: 0.5784 - val_loss: 1.0605 - val_acc: 0.5904\n",
      "Train on 639606 samples, validate on 160394 samples\n",
      "Epoch 1/20\n",
      "639606/639606 - 2s - loss: 2.8683 - acc: 0.2503 - val_loss: 1.3152 - val_acc: 0.3048\n",
      "Epoch 2/20\n",
      "639606/639606 - 2s - loss: 1.3026 - acc: 0.2906 - val_loss: 1.2908 - val_acc: 0.3091\n",
      "Epoch 3/20\n",
      "639606/639606 - 2s - loss: 1.2822 - acc: 0.2996 - val_loss: 1.2768 - val_acc: 0.2841\n",
      "Epoch 4/20\n",
      "639606/639606 - 2s - loss: 1.2658 - acc: 0.3083 - val_loss: 1.2588 - val_acc: 0.3535\n",
      "Epoch 5/20\n",
      "639606/639606 - 2s - loss: 1.2521 - acc: 0.3166 - val_loss: 1.2449 - val_acc: 0.3376\n",
      "Epoch 6/20\n",
      "639606/639606 - 2s - loss: 1.2399 - acc: 0.3242 - val_loss: 1.2472 - val_acc: 0.2888\n",
      "Epoch 7/20\n",
      "639606/639606 - 2s - loss: 1.2282 - acc: 0.3361 - val_loss: 1.2250 - val_acc: 0.2844\n",
      "Epoch 8/20\n",
      "639606/639606 - 2s - loss: 1.2176 - acc: 0.3449 - val_loss: 1.2189 - val_acc: 0.2884\n",
      "Epoch 9/20\n",
      "639606/639606 - 2s - loss: 1.2073 - acc: 0.3546 - val_loss: 1.2048 - val_acc: 0.3391\n",
      "Epoch 10/20\n",
      "639606/639606 - 2s - loss: 1.1973 - acc: 0.3649 - val_loss: 1.1920 - val_acc: 0.3584\n",
      "Epoch 11/20\n",
      "639606/639606 - 2s - loss: 1.1873 - acc: 0.3750 - val_loss: 1.1830 - val_acc: 0.3370\n",
      "Epoch 12/20\n",
      "639606/639606 - 2s - loss: 1.1774 - acc: 0.3863 - val_loss: 1.1731 - val_acc: 0.4231\n",
      "Epoch 13/20\n",
      "639606/639606 - 2s - loss: 1.1664 - acc: 0.4017 - val_loss: 1.1594 - val_acc: 0.4090\n",
      "Epoch 14/20\n",
      "639606/639606 - 2s - loss: 1.1548 - acc: 0.4186 - val_loss: 1.1503 - val_acc: 0.4245\n",
      "Epoch 15/20\n",
      "639606/639606 - 2s - loss: 1.1389 - acc: 0.4373 - val_loss: 1.1273 - val_acc: 0.4518\n",
      "Epoch 16/20\n",
      "639606/639606 - 2s - loss: 1.1185 - acc: 0.4582 - val_loss: 1.1044 - val_acc: 0.4882\n",
      "Epoch 17/20\n",
      "639606/639606 - 2s - loss: 1.0990 - acc: 0.4838 - val_loss: 1.0861 - val_acc: 0.5088\n",
      "Epoch 18/20\n",
      "639606/639606 - 2s - loss: 1.0788 - acc: 0.5126 - val_loss: 1.0694 - val_acc: 0.5085\n",
      "Epoch 19/20\n",
      "639606/639606 - 2s - loss: 1.0583 - acc: 0.5500 - val_loss: 1.0469 - val_acc: 0.5804\n",
      "Epoch 20/20\n",
      "639606/639606 - 2s - loss: 1.0375 - acc: 0.5913 - val_loss: 1.0273 - val_acc: 0.6039\n",
      "Train on 639606 samples, validate on 160394 samples\n",
      "Epoch 1/20\n",
      "639606/639606 - 2s - loss: 1.4651 - acc: 0.2400 - val_loss: 1.3116 - val_acc: 0.2440\n",
      "Epoch 2/20\n",
      "639606/639606 - 2s - loss: 1.3054 - acc: 0.2586 - val_loss: 1.2958 - val_acc: 0.2877\n",
      "Epoch 3/20\n",
      "639606/639606 - 2s - loss: 1.2899 - acc: 0.2761 - val_loss: 1.2836 - val_acc: 0.2945\n",
      "Epoch 4/20\n",
      "639606/639606 - 2s - loss: 1.2769 - acc: 0.2918 - val_loss: 1.2710 - val_acc: 0.2830\n",
      "Epoch 5/20\n",
      "639606/639606 - 2s - loss: 1.2659 - acc: 0.3077 - val_loss: 1.2585 - val_acc: 0.3022\n",
      "Epoch 6/20\n",
      "639606/639606 - 2s - loss: 1.2558 - acc: 0.3210 - val_loss: 1.2559 - val_acc: 0.3282\n",
      "Epoch 7/20\n",
      "639606/639606 - 2s - loss: 1.2469 - acc: 0.3324 - val_loss: 1.2407 - val_acc: 0.3709\n",
      "Epoch 8/20\n",
      "639606/639606 - 2s - loss: 1.2375 - acc: 0.3492 - val_loss: 1.2387 - val_acc: 0.3346\n",
      "Epoch 9/20\n",
      "639606/639606 - 2s - loss: 1.2291 - acc: 0.3619 - val_loss: 1.2319 - val_acc: 0.3660\n",
      "Epoch 10/20\n",
      "639606/639606 - 2s - loss: 1.2211 - acc: 0.3742 - val_loss: 1.2155 - val_acc: 0.3571\n",
      "Epoch 11/20\n",
      "639606/639606 - 2s - loss: 1.2130 - acc: 0.3886 - val_loss: 1.2107 - val_acc: 0.4140\n",
      "Epoch 12/20\n",
      "639606/639606 - 2s - loss: 1.2052 - acc: 0.4000 - val_loss: 1.2023 - val_acc: 0.4112\n",
      "Epoch 13/20\n",
      "639606/639606 - 2s - loss: 1.1980 - acc: 0.4117 - val_loss: 1.2069 - val_acc: 0.4076\n",
      "Epoch 14/20\n",
      "639606/639606 - 2s - loss: 1.1912 - acc: 0.4231 - val_loss: 1.1936 - val_acc: 0.3896\n",
      "Epoch 15/20\n",
      "639606/639606 - 2s - loss: 1.1844 - acc: 0.4343 - val_loss: 1.1810 - val_acc: 0.4691\n",
      "Epoch 16/20\n",
      "639606/639606 - 2s - loss: 1.1778 - acc: 0.4448 - val_loss: 1.1735 - val_acc: 0.4269\n",
      "Epoch 17/20\n",
      "639606/639606 - 2s - loss: 1.1714 - acc: 0.4554 - val_loss: 1.1694 - val_acc: 0.4647\n",
      "Epoch 18/20\n",
      "639606/639606 - 2s - loss: 1.1650 - acc: 0.4794 - val_loss: 1.1620 - val_acc: 0.4716\n",
      "Epoch 19/20\n",
      "639606/639606 - 2s - loss: 1.1584 - acc: 0.4898 - val_loss: 1.1544 - val_acc: 0.4827\n",
      "Epoch 20/20\n",
      "639606/639606 - 2s - loss: 1.1521 - acc: 0.4982 - val_loss: 1.1482 - val_acc: 0.4922\n"
     ]
    },
    {
     "data": {
      "text/html": [
       "<span style=\"color:#4527A0\"><h1 style=\"font-size:18px\">Trial complete</h1></span>"
      ],
      "text/plain": [
       "<IPython.core.display.HTML object>"
      ]
     },
     "metadata": {},
     "output_type": "display_data"
    },
    {
     "data": {
      "text/html": [
       "<span style=\"color:#4527A0\"><h1 style=\"font-size:18px\">Trial summary</h1></span>"
      ],
      "text/plain": [
       "<IPython.core.display.HTML object>"
      ]
     },
     "metadata": {},
     "output_type": "display_data"
    },
    {
     "data": {
      "text/html": [
       "<span style=\"color:cyan\"> |-Trial ID: 75375715f33e259a8dde2deaf1ae241d</span>"
      ],
      "text/plain": [
       "<IPython.core.display.HTML object>"
      ]
     },
     "metadata": {},
     "output_type": "display_data"
    },
    {
     "data": {
      "text/html": [
       "<span style=\"color:cyan\"> |-Score: 0.5621469616889954</span>"
      ],
      "text/plain": [
       "<IPython.core.display.HTML object>"
      ]
     },
     "metadata": {},
     "output_type": "display_data"
    },
    {
     "data": {
      "text/html": [
       "<span style=\"color:cyan\"> |-Best step: 0</span>"
      ],
      "text/plain": [
       "<IPython.core.display.HTML object>"
      ]
     },
     "metadata": {},
     "output_type": "display_data"
    },
    {
     "data": {
      "text/html": [
       "<span style=\"color:#7E57C2\"><h2 style=\"font-size:16px\">Hyperparameters:</h2></span>"
      ],
      "text/plain": [
       "<IPython.core.display.HTML object>"
      ]
     },
     "metadata": {},
     "output_type": "display_data"
    },
    {
     "data": {
      "text/html": [
       "<span style=\"color:cyan\"> |-learning_rate: 0.001</span>"
      ],
      "text/plain": [
       "<IPython.core.display.HTML object>"
      ]
     },
     "metadata": {},
     "output_type": "display_data"
    },
    {
     "data": {
      "text/html": [
       "<span style=\"color:blue\"> |-unitsl1: 280</span>"
      ],
      "text/plain": [
       "<IPython.core.display.HTML object>"
      ]
     },
     "metadata": {},
     "output_type": "display_data"
    },
    {
     "data": {
      "text/html": [
       "<span style=\"color:cyan\"> |-unitsl2: 20</span>"
      ],
      "text/plain": [
       "<IPython.core.display.HTML object>"
      ]
     },
     "metadata": {},
     "output_type": "display_data"
    },
    {
     "name": "stdout",
     "output_type": "stream",
     "text": [
      "INFO:tensorflow:Oracle triggered exit\n"
     ]
    }
   ],
   "source": [
    "tuner.search(\n",
    "    x_train,\n",
    "    y_train,\n",
    "    epochs=20,\n",
    "    batch_size=1000,\n",
    "    validation_data=(x_val, y_val),\n",
    "    verbose=2,\n",
    ")"
   ]
  },
  {
   "cell_type": "code",
   "execution_count": 9,
   "metadata": {},
   "outputs": [
    {
     "data": {
      "text/html": [
       "<span style=\"color:#4527A0\"><h1 style=\"font-size:18px\">Results summary</h1></span>"
      ],
      "text/plain": [
       "<IPython.core.display.HTML object>"
      ]
     },
     "metadata": {},
     "output_type": "display_data"
    },
    {
     "data": {
      "text/html": [
       "<span style=\"color:cyan\"> |-Results in tmp-simple2/simple</span>"
      ],
      "text/plain": [
       "<IPython.core.display.HTML object>"
      ]
     },
     "metadata": {},
     "output_type": "display_data"
    },
    {
     "data": {
      "text/html": [
       "<span style=\"color:cyan\"> |-Showing 10 best trials</span>"
      ],
      "text/plain": [
       "<IPython.core.display.HTML object>"
      ]
     },
     "metadata": {},
     "output_type": "display_data"
    },
    {
     "data": {
      "text/html": [
       "<span style=\"color:cyan\"> |-Objective(name='val_acc', direction='max')</span>"
      ],
      "text/plain": [
       "<IPython.core.display.HTML object>"
      ]
     },
     "metadata": {},
     "output_type": "display_data"
    },
    {
     "data": {
      "text/html": [
       "<span style=\"color:#4527A0\"><h1 style=\"font-size:18px\">Trial summary</h1></span>"
      ],
      "text/plain": [
       "<IPython.core.display.HTML object>"
      ]
     },
     "metadata": {},
     "output_type": "display_data"
    },
    {
     "data": {
      "text/html": [
       "<span style=\"color:cyan\"> |-Trial ID: de1faaa35ef66d14c5657bb68efe6f83</span>"
      ],
      "text/plain": [
       "<IPython.core.display.HTML object>"
      ]
     },
     "metadata": {},
     "output_type": "display_data"
    },
    {
     "data": {
      "text/html": [
       "<span style=\"color:cyan\"> |-Score: 0.7867646217346191</span>"
      ],
      "text/plain": [
       "<IPython.core.display.HTML object>"
      ]
     },
     "metadata": {},
     "output_type": "display_data"
    },
    {
     "data": {
      "text/html": [
       "<span style=\"color:cyan\"> |-Best step: 0</span>"
      ],
      "text/plain": [
       "<IPython.core.display.HTML object>"
      ]
     },
     "metadata": {},
     "output_type": "display_data"
    },
    {
     "data": {
      "text/html": [
       "<span style=\"color:#7E57C2\"><h2 style=\"font-size:16px\">Hyperparameters:</h2></span>"
      ],
      "text/plain": [
       "<IPython.core.display.HTML object>"
      ]
     },
     "metadata": {},
     "output_type": "display_data"
    },
    {
     "data": {
      "text/html": [
       "<span style=\"color:cyan\"> |-learning_rate: 0.01</span>"
      ],
      "text/plain": [
       "<IPython.core.display.HTML object>"
      ]
     },
     "metadata": {},
     "output_type": "display_data"
    },
    {
     "data": {
      "text/html": [
       "<span style=\"color:blue\"> |-unitsl1: 40</span>"
      ],
      "text/plain": [
       "<IPython.core.display.HTML object>"
      ]
     },
     "metadata": {},
     "output_type": "display_data"
    },
    {
     "data": {
      "text/html": [
       "<span style=\"color:cyan\"> |-unitsl2: 35</span>"
      ],
      "text/plain": [
       "<IPython.core.display.HTML object>"
      ]
     },
     "metadata": {},
     "output_type": "display_data"
    },
    {
     "data": {
      "text/html": [
       "<span style=\"color:#4527A0\"><h1 style=\"font-size:18px\">Trial summary</h1></span>"
      ],
      "text/plain": [
       "<IPython.core.display.HTML object>"
      ]
     },
     "metadata": {},
     "output_type": "display_data"
    },
    {
     "data": {
      "text/html": [
       "<span style=\"color:cyan\"> |-Trial ID: 0dc2193d81f68fc99abf67b423ccda6e</span>"
      ],
      "text/plain": [
       "<IPython.core.display.HTML object>"
      ]
     },
     "metadata": {},
     "output_type": "display_data"
    },
    {
     "data": {
      "text/html": [
       "<span style=\"color:cyan\"> |-Score: 0.7669426798820496</span>"
      ],
      "text/plain": [
       "<IPython.core.display.HTML object>"
      ]
     },
     "metadata": {},
     "output_type": "display_data"
    },
    {
     "data": {
      "text/html": [
       "<span style=\"color:cyan\"> |-Best step: 0</span>"
      ],
      "text/plain": [
       "<IPython.core.display.HTML object>"
      ]
     },
     "metadata": {},
     "output_type": "display_data"
    },
    {
     "data": {
      "text/html": [
       "<span style=\"color:#7E57C2\"><h2 style=\"font-size:16px\">Hyperparameters:</h2></span>"
      ],
      "text/plain": [
       "<IPython.core.display.HTML object>"
      ]
     },
     "metadata": {},
     "output_type": "display_data"
    },
    {
     "data": {
      "text/html": [
       "<span style=\"color:cyan\"> |-learning_rate: 0.01</span>"
      ],
      "text/plain": [
       "<IPython.core.display.HTML object>"
      ]
     },
     "metadata": {},
     "output_type": "display_data"
    },
    {
     "data": {
      "text/html": [
       "<span style=\"color:blue\"> |-unitsl1: 220</span>"
      ],
      "text/plain": [
       "<IPython.core.display.HTML object>"
      ]
     },
     "metadata": {},
     "output_type": "display_data"
    },
    {
     "data": {
      "text/html": [
       "<span style=\"color:cyan\"> |-unitsl2: 30</span>"
      ],
      "text/plain": [
       "<IPython.core.display.HTML object>"
      ]
     },
     "metadata": {},
     "output_type": "display_data"
    },
    {
     "data": {
      "text/html": [
       "<span style=\"color:#4527A0\"><h1 style=\"font-size:18px\">Trial summary</h1></span>"
      ],
      "text/plain": [
       "<IPython.core.display.HTML object>"
      ]
     },
     "metadata": {},
     "output_type": "display_data"
    },
    {
     "data": {
      "text/html": [
       "<span style=\"color:cyan\"> |-Trial ID: 75375715f33e259a8dde2deaf1ae241d</span>"
      ],
      "text/plain": [
       "<IPython.core.display.HTML object>"
      ]
     },
     "metadata": {},
     "output_type": "display_data"
    },
    {
     "data": {
      "text/html": [
       "<span style=\"color:cyan\"> |-Score: 0.5621469616889954</span>"
      ],
      "text/plain": [
       "<IPython.core.display.HTML object>"
      ]
     },
     "metadata": {},
     "output_type": "display_data"
    },
    {
     "data": {
      "text/html": [
       "<span style=\"color:cyan\"> |-Best step: 0</span>"
      ],
      "text/plain": [
       "<IPython.core.display.HTML object>"
      ]
     },
     "metadata": {},
     "output_type": "display_data"
    },
    {
     "data": {
      "text/html": [
       "<span style=\"color:#7E57C2\"><h2 style=\"font-size:16px\">Hyperparameters:</h2></span>"
      ],
      "text/plain": [
       "<IPython.core.display.HTML object>"
      ]
     },
     "metadata": {},
     "output_type": "display_data"
    },
    {
     "data": {
      "text/html": [
       "<span style=\"color:cyan\"> |-learning_rate: 0.001</span>"
      ],
      "text/plain": [
       "<IPython.core.display.HTML object>"
      ]
     },
     "metadata": {},
     "output_type": "display_data"
    },
    {
     "data": {
      "text/html": [
       "<span style=\"color:blue\"> |-unitsl1: 280</span>"
      ],
      "text/plain": [
       "<IPython.core.display.HTML object>"
      ]
     },
     "metadata": {},
     "output_type": "display_data"
    },
    {
     "data": {
      "text/html": [
       "<span style=\"color:cyan\"> |-unitsl2: 20</span>"
      ],
      "text/plain": [
       "<IPython.core.display.HTML object>"
      ]
     },
     "metadata": {},
     "output_type": "display_data"
    },
    {
     "data": {
      "text/html": [
       "<span style=\"color:#4527A0\"><h1 style=\"font-size:18px\">Trial summary</h1></span>"
      ],
      "text/plain": [
       "<IPython.core.display.HTML object>"
      ]
     },
     "metadata": {},
     "output_type": "display_data"
    },
    {
     "data": {
      "text/html": [
       "<span style=\"color:cyan\"> |-Trial ID: 8259021df563ab4152bfc3faf02e793d</span>"
      ],
      "text/plain": [
       "<IPython.core.display.HTML object>"
      ]
     },
     "metadata": {},
     "output_type": "display_data"
    },
    {
     "data": {
      "text/html": [
       "<span style=\"color:cyan\"> |-Score: 0.29212647676467896</span>"
      ],
      "text/plain": [
       "<IPython.core.display.HTML object>"
      ]
     },
     "metadata": {},
     "output_type": "display_data"
    },
    {
     "data": {
      "text/html": [
       "<span style=\"color:cyan\"> |-Best step: 0</span>"
      ],
      "text/plain": [
       "<IPython.core.display.HTML object>"
      ]
     },
     "metadata": {},
     "output_type": "display_data"
    },
    {
     "data": {
      "text/html": [
       "<span style=\"color:#7E57C2\"><h2 style=\"font-size:16px\">Hyperparameters:</h2></span>"
      ],
      "text/plain": [
       "<IPython.core.display.HTML object>"
      ]
     },
     "metadata": {},
     "output_type": "display_data"
    },
    {
     "data": {
      "text/html": [
       "<span style=\"color:cyan\"> |-learning_rate: 0.0001</span>"
      ],
      "text/plain": [
       "<IPython.core.display.HTML object>"
      ]
     },
     "metadata": {},
     "output_type": "display_data"
    },
    {
     "data": {
      "text/html": [
       "<span style=\"color:blue\"> |-unitsl1: 250</span>"
      ],
      "text/plain": [
       "<IPython.core.display.HTML object>"
      ]
     },
     "metadata": {},
     "output_type": "display_data"
    },
    {
     "data": {
      "text/html": [
       "<span style=\"color:cyan\"> |-unitsl2: 40</span>"
      ],
      "text/plain": [
       "<IPython.core.display.HTML object>"
      ]
     },
     "metadata": {},
     "output_type": "display_data"
    },
    {
     "data": {
      "text/html": [
       "<span style=\"color:#4527A0\"><h1 style=\"font-size:18px\">Trial summary</h1></span>"
      ],
      "text/plain": [
       "<IPython.core.display.HTML object>"
      ]
     },
     "metadata": {},
     "output_type": "display_data"
    },
    {
     "data": {
      "text/html": [
       "<span style=\"color:cyan\"> |-Trial ID: 28079a97f93282690361a25eb527401a</span>"
      ],
      "text/plain": [
       "<IPython.core.display.HTML object>"
      ]
     },
     "metadata": {},
     "output_type": "display_data"
    },
    {
     "data": {
      "text/html": [
       "<span style=\"color:cyan\"> |-Score: 0.26817503571510315</span>"
      ],
      "text/plain": [
       "<IPython.core.display.HTML object>"
      ]
     },
     "metadata": {},
     "output_type": "display_data"
    },
    {
     "data": {
      "text/html": [
       "<span style=\"color:cyan\"> |-Best step: 0</span>"
      ],
      "text/plain": [
       "<IPython.core.display.HTML object>"
      ]
     },
     "metadata": {},
     "output_type": "display_data"
    },
    {
     "data": {
      "text/html": [
       "<span style=\"color:#7E57C2\"><h2 style=\"font-size:16px\">Hyperparameters:</h2></span>"
      ],
      "text/plain": [
       "<IPython.core.display.HTML object>"
      ]
     },
     "metadata": {},
     "output_type": "display_data"
    },
    {
     "data": {
      "text/html": [
       "<span style=\"color:cyan\"> |-learning_rate: 0.0001</span>"
      ],
      "text/plain": [
       "<IPython.core.display.HTML object>"
      ]
     },
     "metadata": {},
     "output_type": "display_data"
    },
    {
     "data": {
      "text/html": [
       "<span style=\"color:blue\"> |-unitsl1: 100</span>"
      ],
      "text/plain": [
       "<IPython.core.display.HTML object>"
      ]
     },
     "metadata": {},
     "output_type": "display_data"
    },
    {
     "data": {
      "text/html": [
       "<span style=\"color:cyan\"> |-unitsl2: 20</span>"
      ],
      "text/plain": [
       "<IPython.core.display.HTML object>"
      ]
     },
     "metadata": {},
     "output_type": "display_data"
    }
   ],
   "source": [
    "tuner.results_summary()"
   ]
  },
  {
   "cell_type": "code",
   "execution_count": 10,
   "metadata": {},
   "outputs": [
    {
     "name": "stdout",
     "output_type": "stream",
     "text": [
      "[(3, array([0.   , 0.   , 0.013, 0.339, 0.647], dtype=float32)), (4, array([0.   , 0.   , 0.024, 0.388, 0.588], dtype=float32)), (2, array([0.   , 0.032, 0.667, 0.248, 0.052], dtype=float32)), (3, array([0.   , 0.   , 0.111, 0.515, 0.374], dtype=float32)), (2, array([0.   , 0.175, 0.683, 0.126, 0.017], dtype=float32)), (3, array([0.  , 0.  , 0.09, 0.49, 0.42], dtype=float32)), (1, array([0.   , 0.859, 0.129, 0.011, 0.001], dtype=float32)), (2, array([0.   , 0.022, 0.632, 0.282, 0.064], dtype=float32)), (3, array([0.   , 0.   , 0.183, 0.499, 0.318], dtype=float32)), (2, array([0.   , 0.388, 0.531, 0.074, 0.008], dtype=float32))]\n",
      "0.8295449539618527\n",
      "[[ 2062     1     1     0     0     0]\n",
      " [  114 39406  2569    14     6     0]\n",
      " [    0  4539 33757  3883    12     0]\n",
      " [    0   184  7911 26588  6506     0]\n",
      " [    0     5   580  7058 25198     0]\n",
      " [    0     0     0     0     0     0]]\n",
      "[[0.999 0.    0.    0.    0.    0.   ]\n",
      " [0.003 0.936 0.061 0.    0.    0.   ]\n",
      " [0.    0.108 0.8   0.092 0.    0.   ]\n",
      " [0.    0.004 0.192 0.646 0.158 0.   ]\n",
      " [0.    0.    0.018 0.215 0.767 0.   ]\n",
      " [0.    0.    0.    0.    0.    0.   ]]\n"
     ]
    }
   ],
   "source": [
    "from sklearn.metrics import (\n",
    "    balanced_accuracy_score,\n",
    "    confusion_matrix,\n",
    "    plot_confusion_matrix,\n",
    ")\n",
    "\n",
    "model = tuner.get_best_models()[0]\n",
    "\n",
    "np.set_printoptions(precision=3)\n",
    "np.set_printoptions(suppress=True)\n",
    "\n",
    "x_test = testdata[[\"nHits\", \"nClus\", \"Edep\"]].values\n",
    "y_true = testdata[[label]].values.ravel()\n",
    "\n",
    "y_pred = model.predict(x_test)\n",
    "print(list(zip(y_true, y_pred))[0:10])\n",
    "\n",
    "\n",
    "y_pred = np.argmax(y_pred, axis=1)\n",
    "\n",
    "bac = balanced_accuracy_score(y_true, y_pred)\n",
    "print(bac)\n",
    "cm = confusion_matrix(y_true, y_pred, labels=range(0, 6))\n",
    "print(cm)\n",
    "cmrel = confusion_matrix(y_true, y_pred, labels=range(0, 6), normalize=\"true\")\n",
    "print(cmrel)"
   ]
  },
  {
   "cell_type": "code",
   "execution_count": 12,
   "metadata": {},
   "outputs": [
    {
     "data": {
      "image/png": "[encoded data removed]",
      "text/plain": [
       "<Figure size 720x504 with 2 Axes>"
      ]
     },
     "metadata": {
      "needs_background": "light"
     },
     "output_type": "display_data"
    }
   ],
   "source": [
    "import matplotlib.pyplot as plt\n",
    "import seaborn as sns\n",
    "\n",
    "plt.figure(figsize=(10, 7))\n",
    "ax = sns.heatmap(cmrel, cmap=\"viridis\", annot=True)\n",
    "ax.set_xlabel(\"Predicted\")\n",
    "ax.set_ylabel(\"True\");"
   ]
  },
  {
   "cell_type": "code",
   "execution_count": null,
   "metadata": {},
   "outputs": [],
   "source": []
  }
 ],
 "metadata": {
  "kernelspec": {
   "display_name": "Python 3",
   "language": "python",
   "name": "python3"
  },
  "language_info": {
   "codemirror_mode": {
    "name": "ipython",
    "version": 3
   },
   "file_extension": ".py",
   "mimetype": "text/x-python",
   "name": "python",
   "nbconvert_exporter": "python",
   "pygments_lexer": "ipython3",
   "version": "3.7.6"
  }
 },
 "nbformat": 4,
 "nbformat_minor": 4
}

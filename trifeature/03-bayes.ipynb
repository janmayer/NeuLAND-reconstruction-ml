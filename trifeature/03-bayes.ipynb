{
 "cells": [
  {
   "cell_type": "markdown",
   "metadata": {},
   "source": [
    "# Multiplicity determination with super-basic Bayesian Statistics"
   ]
  },
  {
   "cell_type": "code",
   "execution_count": 1,
   "metadata": {},
   "outputs": [],
   "source": [
    "labels = [\"nPH\", \"nPN\"]\n",
    "nmax = 4"
   ]
  },
  {
   "cell_type": "code",
   "execution_count": 2,
   "metadata": {},
   "outputs": [
    {
     "name": "stdout",
     "output_type": "stream",
     "text": [
      "Welcome to JupyROOT 6.16/00\n"
     ]
    }
   ],
   "source": [
    "import sys\n",
    "\n",
    "import matplotlib.pyplot as plt\n",
    "import numpy as np\n",
    "import pandas as pd\n",
    "import seaborn as sns\n",
    "from sklearn.metrics import (\n",
    "    balanced_accuracy_score,\n",
    "    confusion_matrix,\n",
    "    plot_confusion_matrix,\n",
    ")\n",
    "\n",
    "sys.path.append(\"..\")\n",
    "from helpers import tridata"
   ]
  },
  {
   "cell_type": "code",
   "execution_count": 3,
   "metadata": {},
   "outputs": [],
   "source": [
    "class Bayes:\n",
    "    def __init__(self, train, max_neutrons, label):\n",
    "        # Hypotheses: Zero to max neutrons\n",
    "        self._hypos = range(0, max_neutrons + 1)\n",
    "\n",
    "        # 'Fit' -> Create PDF for all numbers of neutrons\n",
    "        # TODO: Should they be normalized?\n",
    "        self._hits = {\n",
    "            h: np.histogram(train[train[label] == h][\"nHits\"], range=(0, 500), bins=500, density=True,)[0]\n",
    "            for h in self._hypos\n",
    "        }\n",
    "        self._clus = {\n",
    "            h: np.histogram(train[train[label] == h][\"nClus\"], range=(0, 500), bins=500, density=True,)[0]\n",
    "            for h in self._hypos\n",
    "        }\n",
    "        self._edep = {\n",
    "            h: np.histogram(train[train[label] == h][\"Edep\"], range=(0, 5000), bins=500, density=True,)[0]\n",
    "            for h in self._hypos\n",
    "        }\n",
    "\n",
    "    def predict(self, x):\n",
    "        # 'Predict' -> Use PDFs to get probabilities and take the highest\n",
    "        probs = [\n",
    "            self._hits[h][x[\"nHits\"]] * self._clus[h][x[\"nClus\"]] * self._edep[h][x[\"Edep\"].floordiv(10).astype(int)]\n",
    "            for h in self._hypos\n",
    "        ]\n",
    "        y_pred = np.argmax(probs, axis=0)\n",
    "        return y_pred"
   ]
  },
  {
   "cell_type": "code",
   "execution_count": 4,
   "metadata": {},
   "outputs": [],
   "source": [
    "traindata, testdata = tridata(distance=15, doubleplane=30, energy=600, erel=500, nmax=nmax, physics=\"inclxx\")"
   ]
  },
  {
   "cell_type": "markdown",
   "metadata": {},
   "source": [
    "## Example Fit / Calibration & Prediction"
   ]
  },
  {
   "cell_type": "code",
   "execution_count": 5,
   "metadata": {},
   "outputs": [
    {
     "name": "stdout",
     "output_type": "stream",
     "text": [
      "[(4, 4), (1, 1), (3, 3), (2, 2), (2, 2), (4, 3), (4, 4), (1, 1), (2, 2), (2, 2), (3, 3), (3, 3), (2, 1), (1, 1), (4, 4), (0, 0), (3, 3), (1, 1), (2, 2), (2, 2), (3, 3), (4, 3), (3, 4), (1, 1), (3, 3), (2, 2), (2, 2), (1, 1), (4, 3), (3, 3), (1, 1), (3, 2), (3, 2), (2, 2), (3, 4), (3, 3), (3, 3), (3, 3), (2, 2), (4, 3), (3, 3), (1, 1), (3, 3), (2, 2), (3, 3), (2, 2), (2, 3), (2, 2), (3, 3), (2, 3)]\n"
     ]
    }
   ],
   "source": [
    "model = Bayes(traindata, nmax, labels[0])\n",
    "y_pred = model.predict(testdata)\n",
    "y_true = testdata[labels[0]].values.ravel()\n",
    "\n",
    "print(list(zip(y_true, y_pred))[0:50])"
   ]
  },
  {
   "cell_type": "code",
   "execution_count": 6,
   "metadata": {},
   "outputs": [
    {
     "name": "stdout",
     "output_type": "stream",
     "text": [
      "0.7875102766352079\n",
      "[[ 2067     2     0     1     1]\n",
      " [    1 38573  3915    19     7]\n",
      " [    1  5897 29324  6972   129]\n",
      " [    3   340  7863 23971  8995]\n",
      " [    3     7   609  7315 24733]]\n",
      "[[100.   0.   0.   0.   0.]\n",
      " [  0.  91.   9.   0.   0.]\n",
      " [  0.  14.  69.  16.   0.]\n",
      " [  0.   1.  19.  58.  22.]\n",
      " [  0.   0.   2.  22.  76.]]\n"
     ]
    }
   ],
   "source": [
    "np.set_printoptions(precision=3)\n",
    "np.set_printoptions(suppress=True)\n",
    "\n",
    "bac = balanced_accuracy_score(y_true, y_pred)\n",
    "print(bac)\n",
    "cm = confusion_matrix(y_true, y_pred, labels=range(0, nmax + 1))\n",
    "print(cm)\n",
    "cmrel = confusion_matrix(y_true, y_pred, labels=range(0, nmax + 1), normalize=\"true\")\n",
    "print((cmrel * 100).round())"
   ]
  },
  {
   "cell_type": "code",
   "execution_count": 7,
   "metadata": {},
   "outputs": [
    {
     "data": {
      "text/plain": [
       "Text(69.0, 0.5, 'True')"
      ]
     },
     "execution_count": 7,
     "metadata": {},
     "output_type": "execute_result"
    },
    {
     "data": {
      "image/png": "[encoded data removed]",
      "text/plain": [
       "<Figure size 720x504 with 2 Axes>"
      ]
     },
     "metadata": {
      "needs_background": "light"
     },
     "output_type": "display_data"
    }
   ],
   "source": [
    "plt.figure(figsize=(10, 7))\n",
    "ax = sns.heatmap(cmrel, cmap=\"viridis\", annot=True)\n",
    "ax.set_xlabel(\"Predicted\")\n",
    "ax.set_ylabel(\"True\")"
   ]
  },
  {
   "cell_type": "markdown",
   "metadata": {},
   "source": [
    "## Evaluation for different max multiplicities"
   ]
  },
  {
   "cell_type": "code",
   "execution_count": 8,
   "metadata": {},
   "outputs": [
    {
     "name": "stdout",
     "output_type": "stream",
     "text": [
      "12 1 nPH 0.9992920517578248\n",
      "[[ 9819    10]\n",
      " [   12 30101]]\n",
      "\n",
      "\n",
      "12 1 nPN 0.9998685723673402\n",
      "[[ 9779     0]\n",
      " [    8 30427]]\n",
      "\n",
      "\n",
      "12 2 nPH 0.8500115273232643\n",
      "[[11922     7     6]\n",
      " [    4 35683  8859]\n",
      " [    6  5760 17306]]\n",
      "\n",
      "\n",
      "12 2 nPN 0.7769259089237827\n",
      "[[11986     0     0]\n",
      " [    3 23020  7171]\n",
      " [    4 16330 21509]]\n",
      "\n",
      "\n",
      "12 3 nPH 0.7441937987465019\n",
      "[[12507    16     4     0]\n",
      " [    0 39853  9978   175]\n",
      " [    1  9869 19015 10617]\n",
      " [    2   818  4516 12453]]\n",
      "\n",
      "\n",
      "12 3 nPN 0.6505153602972944\n",
      "[[12621     0     0     0]\n",
      " [    3 23316  6354   876]\n",
      " [    2 16145  9583 11610]\n",
      " [    7  8602  7913 23022]]\n",
      "\n",
      "\n",
      "12 4 nPH 0.6677723082339595\n",
      "[[12780     6     2     0     1]\n",
      " [    0 41096 10303   194    16]\n",
      " [    0 11628 22599 11421  1486]\n",
      " [    1  1594  8745 13752 10617]\n",
      " [    3    83  1038  3512  9311]]\n",
      "\n",
      "\n",
      "12 4 nPN 0.5706283968923043\n",
      "[[13053     0     0     0     0]\n",
      " [    1 23039  6264   759    43]\n",
      " [    1 16226  9751  7449  4237]\n",
      " [    2  8234  7712  9542 13959]\n",
      " [    4  3864  4830  7860 23544]]\n",
      "\n",
      "\n",
      "12 5 nPH 0.6085209456286785\n",
      "[[12798    11     5     3     0     0]\n",
      " [    0 41370 10602   219    11     5]\n",
      " [    0 12229 23719 12010  1450    52]\n",
      " [    0  2044 11227 17360 10316  2941]\n",
      " [    0   190  2410  7510 10155  9660]\n",
      " [    3     4   199  1058  2644  7123]]\n",
      "\n",
      "\n",
      "12 5 nPN 0.5088925260877701\n",
      "[[12783     0     0     0     0     0]\n",
      " [    0 23268  6200   772    35     9]\n",
      " [    0 16596  9497  7389  3379   749]\n",
      " [    0  8608  7808  9430  7367  6341]\n",
      " [    0  3924  4815  7788  8448 14818]\n",
      " [    2  1582  2712  5414  7072 23348]]\n",
      "\n",
      "\n",
      "30 1 nPH 0.9990661717747441\n",
      "[[ 1962     3]\n",
      " [   13 38117]]\n",
      "\n",
      "\n",
      "30 1 nPN 0.9998429319371728\n",
      "[[ 1978     0]\n",
      " [   12 38188]]\n",
      "\n",
      "\n",
      "30 2 nPH 0.9232360227667938\n",
      "[[ 2041     1     1]\n",
      " [    5 38060  3852]\n",
      " [    8  4949 31147]]\n",
      "\n",
      "\n",
      "30 2 nPN 0.894988326816451\n",
      "[[ 2107     0     0]\n",
      " [    6 34150  4299]\n",
      " [   10  8124 31918]]\n",
      "\n",
      "\n",
      "30 3 nPH 0.8515763747596691\n",
      "[[ 2053     3     0     0]\n",
      " [    3 38193  3834    25]\n",
      " [    3  5618 28815  6934]\n",
      " [    3   256  6498 27556]]\n",
      "\n",
      "\n",
      "30 3 nPN 0.807802243959377\n",
      "[[ 2127     0     0     0]\n",
      " [    2 33624  4128    37]\n",
      " [    0  8133 23907  7816]\n",
      " [    8  1251  9139 29848]]\n",
      "\n",
      "\n",
      "30 4 nPH 0.7893941912592233\n",
      "[[ 2022     2     0     0     0]\n",
      " [    0 38033  3875    16     8]\n",
      " [    0  5654 29129  6917   115]\n",
      " [    1   321  7784 23994  9047]\n",
      " [    3    10   630  7146 24828]]\n",
      "\n",
      "\n",
      "30 4 nPN 0.7404031928547102\n",
      "[[ 2119     0     0     0     0]\n",
      " [    2 33960  4114    29    15]\n",
      " [    4  8100 24044  7658   247]\n",
      " [    4  1212  9070 19867  9721]\n",
      " [    2   135  1906  9450 28496]]\n",
      "\n",
      "\n",
      "30 5 nPH 0.737281756930274\n",
      "[[ 2035     0     0     1     0     0]\n",
      " [    0 38047  3819    21     6     4]\n",
      " [    1  5778 28935  7005   107     7]\n",
      " [    2   350  8072 24652  8883   395]\n",
      " [    1    11   802  8873 20623 10252]\n",
      " [    2     0    35  1040  7162 22725]]\n",
      "\n",
      "\n",
      "30 5 nPN 0.6841495973215436\n",
      "[[ 2057     0     0     0     0     0]\n",
      " [    1 33731  4222    28     4     7]\n",
      " [    1  7982 23847  7644   215     7]\n",
      " [    2  1212  9060 19890  9153   715]\n",
      " [    1   120  1903  9568 17319 11229]\n",
      " [    3     9   294  2580  9646 27637]]\n",
      "\n",
      "\n"
     ]
    }
   ],
   "source": [
    "for dp in [12, 30]:\n",
    "    for n in [1, 2, 3, 4, 5]:\n",
    "        for label in labels:\n",
    "            traindata, testdata = tridata(distance=15, doubleplane=dp, energy=600, erel=500, nmax=n, physics=\"inclxx\")\n",
    "\n",
    "            model = Bayes(traindata, n, label)\n",
    "            y_pred = model.predict(testdata)\n",
    "            y_true = testdata[label].values.ravel()\n",
    "\n",
    "            bac = balanced_accuracy_score(y_true, y_pred)\n",
    "            cm = confusion_matrix(y_true, y_pred, labels=range(0, n + 1))\n",
    "            print(dp, n, label, bac)\n",
    "            print(cm)\n",
    "            print(\"\\n\")"
   ]
  },
  {
   "cell_type": "code",
   "execution_count": null,
   "metadata": {},
   "outputs": [],
   "source": []
  }
 ],
 "metadata": {
  "kernelspec": {
   "display_name": "Python 3",
   "language": "python",
   "name": "python3"
  },
  "language_info": {
   "codemirror_mode": {
    "name": "ipython",
    "version": 3
   },
   "file_extension": ".py",
   "mimetype": "text/x-python",
   "name": "python",
   "nbconvert_exporter": "python",
   "pygments_lexer": "ipython3",
   "version": "3.7.6"
  }
 },
 "nbformat": 4,
 "nbformat_minor": 4
}

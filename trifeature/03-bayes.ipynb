{
 "cells": [
  {
   "cell_type": "markdown",
   "metadata": {},
   "source": [
    "# Multiplicity determination with super-basic Bayesian Statistics"
   ]
  },
  {
   "cell_type": "code",
   "execution_count": 1,
   "metadata": {},
   "outputs": [],
   "source": [
    "labels = [\"nPH\", \"nPN\"]\n",
    "nmax = 4"
   ]
  },
  {
   "cell_type": "code",
   "execution_count": 2,
   "metadata": {},
   "outputs": [
    {
     "name": "stdout",
     "output_type": "stream",
     "text": [
      "Welcome to JupyROOT 6.18/04\n"
     ]
    }
   ],
   "source": [
    "import sys\n",
    "\n",
    "import matplotlib.pyplot as plt\n",
    "import numpy as np\n",
    "import pandas as pd\n",
    "import seaborn as sns\n",
    "from sklearn.metrics import (\n",
    "    balanced_accuracy_score,\n",
    "    confusion_matrix,\n",
    "    plot_confusion_matrix,\n",
    ")\n",
    "\n",
    "sys.path.append(\"..\")\n",
    "from helpers import tridata"
   ]
  },
  {
   "cell_type": "code",
   "execution_count": 3,
   "metadata": {},
   "outputs": [],
   "source": [
    "class Bayes:\n",
    "    def __init__(self, train, max_neutrons, label):\n",
    "        # Hypotheses: Zero to max neutrons\n",
    "        self._hypos = range(0, max_neutrons + 1)\n",
    "\n",
    "        # 'Fit' -> Create PDF for all numbers of neutrons\n",
    "        # TODO: Should they be normalized?\n",
    "        self._hits = {\n",
    "            h: np.histogram(train[train[label] == h][\"nHits\"], range=(0, 500), bins=500, density=True,)[0]\n",
    "            for h in self._hypos\n",
    "        }\n",
    "        self._clus = {\n",
    "            h: np.histogram(train[train[label] == h][\"nClus\"], range=(0, 500), bins=500, density=True,)[0]\n",
    "            for h in self._hypos\n",
    "        }\n",
    "        self._edep = {\n",
    "            h: np.histogram(train[train[label] == h][\"Edep\"], range=(0, 5000), bins=500, density=True,)[0]\n",
    "            for h in self._hypos\n",
    "        }\n",
    "\n",
    "    def predict(self, x):\n",
    "        # 'Predict' -> Use PDFs to get probabilities and take the highest\n",
    "        probs = [\n",
    "            self._hits[h][x[\"nHits\"]] * self._clus[h][x[\"nClus\"]] * self._edep[h][x[\"Edep\"].floordiv(10).astype(int)]\n",
    "            for h in self._hypos\n",
    "        ]\n",
    "        y_pred = np.argmax(probs, axis=0)\n",
    "        return y_pred"
   ]
  },
  {
   "cell_type": "code",
   "execution_count": 4,
   "metadata": {},
   "outputs": [],
   "source": [
    "traindata, testdata = tridata(distance=15, doubleplane=30, energy=600, erel=500, nmax=nmax, physics=\"inclxx\")"
   ]
  },
  {
   "cell_type": "markdown",
   "metadata": {},
   "source": [
    "## Example Fit / Calibration & Prediction"
   ]
  },
  {
   "cell_type": "code",
   "execution_count": 5,
   "metadata": {},
   "outputs": [
    {
     "name": "stdout",
     "output_type": "stream",
     "text": [
      "[(2, 2), (3, 3), (4, 4), (1, 1), (3, 3), (4, 3), (1, 1), (1, 1), (1, 1), (3, 3), (2, 1), (1, 1), (4, 4), (4, 2), (3, 3), (2, 2), (2, 1), (4, 4), (3, 3), (3, 4), (3, 2), (2, 2), (1, 1), (1, 1), (1, 1), (4, 4), (3, 3), (3, 3), (1, 1), (2, 2), (1, 1), (1, 1), (1, 1), (3, 4), (1, 1), (4, 4), (1, 1), (4, 4), (2, 2), (4, 3), (2, 2), (3, 3), (2, 2), (4, 4), (1, 2), (1, 1), (2, 3), (1, 1), (2, 2), (2, 2)]\n"
     ]
    }
   ],
   "source": [
    "model = Bayes(traindata, nmax, labels[0])\n",
    "y_pred = model.predict(testdata)\n",
    "y_true = testdata[labels[0]].values.ravel()\n",
    "\n",
    "print(list(zip(y_true, y_pred))[0:50])"
   ]
  },
  {
   "cell_type": "code",
   "execution_count": 6,
   "metadata": {},
   "outputs": [
    {
     "name": "stdout",
     "output_type": "stream",
     "text": [
      "0.7881917403655068\n",
      "[[ 2106     0     1     1     2]\n",
      " [    0 38078  3864    20     6]\n",
      " [    0  5836 29062  7032   121]\n",
      " [    2   310  7884 24300  8945]\n",
      " [    2    11   643  7236 24727]]\n",
      "[[100.   0.   0.   0.   0.]\n",
      " [  0.  91.   9.   0.   0.]\n",
      " [  0.  14.  69.  17.   0.]\n",
      " [  0.   1.  19.  59.  22.]\n",
      " [  0.   0.   2.  22.  76.]]\n"
     ]
    }
   ],
   "source": [
    "np.set_printoptions(precision=3)\n",
    "np.set_printoptions(suppress=True)\n",
    "\n",
    "bac = balanced_accuracy_score(y_true, y_pred)\n",
    "print(bac)\n",
    "cm = confusion_matrix(y_true, y_pred, labels=range(0, nmax + 1))\n",
    "print(cm)\n",
    "cmrel = confusion_matrix(y_true, y_pred, labels=range(0, nmax + 1), normalize=\"true\")\n",
    "print((cmrel * 100).round())"
   ]
  },
  {
   "cell_type": "code",
   "execution_count": 7,
   "metadata": {},
   "outputs": [
    {
     "data": {
      "text/plain": [
       "Text(69.0, 0.5, 'True')"
      ]
     },
     "execution_count": 7,
     "metadata": {},
     "output_type": "execute_result"
    },
    {
     "data": {
      "image/png": "[encoded data removed]",
      "text/plain": [
       "<Figure size 720x504 with 2 Axes>"
      ]
     },
     "metadata": {
      "needs_background": "light"
     },
     "output_type": "display_data"
    }
   ],
   "source": [
    "plt.figure(figsize=(10, 7))\n",
    "ax = sns.heatmap(cmrel, cmap=\"viridis\", annot=True)\n",
    "ax.set_xlabel(\"Predicted\")\n",
    "ax.set_ylabel(\"True\")"
   ]
  },
  {
   "cell_type": "markdown",
   "metadata": {},
   "source": [
    "## Evaluation for different max multiplicities"
   ]
  },
  {
   "cell_type": "code",
   "execution_count": 8,
   "metadata": {},
   "outputs": [
    {
     "name": "stdout",
     "output_type": "stream",
     "text": [
      "1 nPH 0.999406771266102\n",
      "[[ 1995     2]\n",
      " [    7 37840]]\n",
      "\n",
      "\n",
      "1 nPN 0.9999475918452911\n",
      "[[ 2081     0]\n",
      " [    4 38158]]\n",
      "\n",
      "\n",
      "2 nPH 0.9222903234607053\n",
      "[[ 1992     1     1]\n",
      " [    3 37908  3942]\n",
      " [   10  4932 30904]]\n",
      "\n",
      "\n",
      "2 nPN 0.8942235203033818\n",
      "[[ 2098     0     0]\n",
      " [    6 33804  4325]\n",
      " [    7  8080 31602]]\n",
      "\n",
      "\n",
      "3 nPH 0.8494178161305854\n",
      "[[ 2090     2     1     2]\n",
      " [    2 38031  3940    28]\n",
      " [    2  5767 28769  6920]\n",
      " [    3   246  6578 27419]]\n",
      "\n",
      "\n",
      "3 nPN 0.808713929611506\n",
      "[[ 2075     0     0     0]\n",
      " [    3 33906  4201    37]\n",
      " [    1  8053 23985  7860]\n",
      " [    3  1186  9029 29835]]\n",
      "\n",
      "\n",
      "4 nPH 0.7882992224201311\n",
      "[[ 2035     2     0     0     1]\n",
      " [    1 38428  3877    21    11]\n",
      " [    1  5789 29016  6929   116]\n",
      " [    2   317  7732 24054  9203]\n",
      " [    3    13   585  7275 24899]]\n",
      "\n",
      "\n",
      "4 nPN 0.7393387181330434\n",
      "[[ 2068     0     0     0     0]\n",
      " [    1 33894  4195    32    10]\n",
      " [    1  8198 24015  7625   243]\n",
      " [    1  1221  9031 19888  9904]\n",
      " [    1   145  1941  9428 28474]]\n",
      "\n",
      "\n",
      "5 nPH 0.7383829477081062\n",
      "[[ 2062     2     0     1     0     0]\n",
      " [    1 37966  3874    18     5     2]\n",
      " [    0  5765 28828  7026   124    10]\n",
      " [    1   313  7869 24847  8639   396]\n",
      " [    0    11   816  9063 20941 10013]\n",
      " [    3     0    33  1015  7326 22773]]\n",
      "\n",
      "\n",
      "5 nPN 0.6833887010168214\n",
      "[[ 2061     0     0     0     0     0]\n",
      " [    1 33852  4311    35     2     7]\n",
      " [    0  8072 24146  7804   193     7]\n",
      " [    1  1211  9029 19899  9165   738]\n",
      " [    1   150  1937  9650 17267 11101]\n",
      " [    3    15   289  2570  9658 27455]]\n",
      "\n",
      "\n"
     ]
    }
   ],
   "source": [
    "for n in [1, 2, 3, 4, 5]:\n",
    "    for label in labels:\n",
    "        traindata, testdata = tridata(distance=15, doubleplane=30, energy=600, erel=500, nmax=n, physics=\"inclxx\")\n",
    "\n",
    "        model = Bayes(traindata, n, label)\n",
    "        y_pred = model.predict(testdata)\n",
    "        y_true = testdata[label].values.ravel()\n",
    "\n",
    "        bac = balanced_accuracy_score(y_true, y_pred)\n",
    "        cm = confusion_matrix(y_true, y_pred, labels=range(0, n + 1))\n",
    "        print(n, label, bac)\n",
    "        print(cm)\n",
    "        print(\"\\n\")"
   ]
  },
  {
   "cell_type": "code",
   "execution_count": null,
   "metadata": {},
   "outputs": [],
   "source": []
  }
 ],
 "metadata": {
  "kernelspec": {
   "display_name": "Python 3",
   "language": "python",
   "name": "python3"
  },
  "language_info": {
   "codemirror_mode": {
    "name": "ipython",
    "version": 3
   },
   "file_extension": ".py",
   "mimetype": "text/x-python",
   "name": "python",
   "nbconvert_exporter": "python",
   "pygments_lexer": "ipython3",
   "version": "3.8.5"
  }
 },
 "nbformat": 4,
 "nbformat_minor": 4
}

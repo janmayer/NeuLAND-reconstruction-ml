{
 "cells": [
  {
   "cell_type": "markdown",
   "metadata": {},
   "source": [
    "# Multiplicity determination with super-basic Bayesian Statistics"
   ]
  },
  {
   "cell_type": "code",
   "execution_count": 1,
   "metadata": {},
   "outputs": [
    {
     "name": "stdout",
     "output_type": "stream",
     "text": [
      "Welcome to JupyROOT 6.16/00\n"
     ]
    }
   ],
   "source": [
    "import sys\n",
    "\n",
    "import matplotlib.pyplot as plt\n",
    "import numpy as np\n",
    "import pandas as pd\n",
    "import seaborn as sns\n",
    "from sklearn.metrics import balanced_accuracy_score, confusion_matrix, plot_confusion_matrix\n",
    "\n",
    "sys.path.append(\"..\")\n",
    "from helpers import tridata"
   ]
  },
  {
   "cell_type": "code",
   "execution_count": 2,
   "metadata": {},
   "outputs": [],
   "source": [
    "class Bayes:\n",
    "    def __init__(self, train, max_neutrons, label):\n",
    "        # Hypotheses: Zero to max neutrons\n",
    "        self._hypos = range(0, max_neutrons + 1)\n",
    "\n",
    "        # 'Fit' -> Create PDF for all numbers of neutrons\n",
    "        # TODO: Should they be normalized?\n",
    "        self._hits = {\n",
    "            h: np.histogram(\n",
    "                train[train[label] == h][\"nHits\"],\n",
    "                range=(0, 500),\n",
    "                bins=500,\n",
    "                density=True,\n",
    "            )[0]\n",
    "            for h in self._hypos\n",
    "        }\n",
    "        self._clus = {\n",
    "            h: np.histogram(\n",
    "                train[train[label] == h][\"nClus\"],\n",
    "                range=(0, 500),\n",
    "                bins=500,\n",
    "                density=True,\n",
    "            )[0]\n",
    "            for h in self._hypos\n",
    "        }\n",
    "        self._edep = {\n",
    "            h: np.histogram(\n",
    "                train[train[label] == h][\"Edep\"],\n",
    "                range=(0, 5000),\n",
    "                bins=500,\n",
    "                density=True,\n",
    "            )[0]\n",
    "            for h in self._hypos\n",
    "        }\n",
    "\n",
    "    def predict(self, x):\n",
    "        # 'Predict' -> Use PDFs to get probabilities and take the highest\n",
    "        probs = [self._hits[h][x[\"nHits\"]] * self._clus[h][x[\"nClus\"]] * self._edep[h][x[\"Edep\"].floordiv(10).astype(int)] for h in self._hypos]\n",
    "        y_pred = np.argmax(probs, axis=0)\n",
    "        return y_pred"
   ]
  },
  {
   "cell_type": "code",
   "execution_count": 3,
   "metadata": {},
   "outputs": [
    {
     "data": {
      "text/plain": [
       "2    160225\n",
       "1    160050\n",
       "4    159980\n",
       "3    159970\n",
       "0         2\n",
       "Name: nPN, dtype: int64"
      ]
     },
     "metadata": {},
     "output_type": "display_data"
    },
    {
     "data": {
      "text/plain": [
       "3    40030\n",
       "4    40020\n",
       "1    39948\n",
       "2    39775\n",
       "Name: nPN, dtype: int64"
      ]
     },
     "metadata": {},
     "output_type": "display_data"
    }
   ],
   "source": [
    "nmax = 4\n",
    "traindata, testdata = tridata(distance=15, doubleplane=30, energy=600, erel=500, nmax=nmax, physics=\"inclxx\")\n",
    "\n",
    "# traindata.loc[traindata[\"nHits\"] == 0, \"nPN\"] = 0\n",
    "# testdata.loc[testdata[\"nHits\"] == 0, \"nPN\"] = 0\n",
    "display(traindata[\"nPN\"].value_counts())\n",
    "display(testdata[\"nPN\"].value_counts())"
   ]
  },
  {
   "cell_type": "markdown",
   "metadata": {},
   "source": [
    "## Example Fit / Calibration & Prediction"
   ]
  },
  {
   "cell_type": "code",
   "execution_count": 4,
   "metadata": {},
   "outputs": [
    {
     "name": "stdout",
     "output_type": "stream",
     "text": [
      "[(2, 2), (1, 1), (3, 2), (3, 4), (1, 1), (1, 1), (4, 3), (3, 3), (2, 3), (3, 2), (3, 3), (3, 3), (2, 1), (1, 1), (4, 3), (1, 1), (2, 2), (3, 3), (1, 1), (2, 3), (4, 3), (1, 1), (4, 4), (4, 4), (2, 2), (3, 4), (2, 1), (4, 3), (1, 1), (1, 1), (4, 4), (2, 1), (2, 2), (1, 1), (3, 3), (4, 4), (1, 1), (4, 4), (4, 3), (3, 2), (4, 4), (2, 2), (3, 3), (2, 2), (4, 3), (2, 1), (2, 3), (2, 2), (2, 2), (4, 4)]\n"
     ]
    }
   ],
   "source": [
    "model = Bayes(traindata, nmax, \"nPN\")\n",
    "y_pred = model.predict(testdata)\n",
    "y_true = testdata[\"nPN\"].values.ravel()\n",
    "\n",
    "print(list(zip(y_true, y_pred))[0:50])"
   ]
  },
  {
   "cell_type": "code",
   "execution_count": 5,
   "metadata": {},
   "outputs": [
    {
     "name": "stdout",
     "output_type": "stream",
     "text": [
      "0.6644997816197242\n"
     ]
    },
    {
     "name": "stderr",
     "output_type": "stream",
     "text": [
      "/home/jmayer/.pyenv/versions/3.7.6/lib/python3.7/site-packages/sklearn/metrics/_classification.py:1850: UserWarning: y_pred contains classes not in y_true\n",
      "  warnings.warn('y_pred contains classes not in y_true')\n"
     ]
    },
    {
     "name": "stdout",
     "output_type": "stream",
     "text": [
      "[[    0     0     0     0     0]\n",
      " [ 1925 33502  4491    22     8]\n",
      " [   89  7846 24142  7484   214]\n",
      " [   10  1164  9096 19868  9892]\n",
      " [    4   143  1872  9344 28657]]\n",
      "[[ 0.  0.  0.  0.  0.]\n",
      " [ 5. 84. 11.  0.  0.]\n",
      " [ 0. 20. 61. 19.  1.]\n",
      " [ 0.  3. 23. 50. 25.]\n",
      " [ 0.  0.  5. 23. 72.]]\n"
     ]
    }
   ],
   "source": [
    "np.set_printoptions(precision=3)\n",
    "np.set_printoptions(suppress=True)\n",
    "\n",
    "bac = balanced_accuracy_score(y_true, y_pred)\n",
    "print(bac)\n",
    "cm = confusion_matrix(y_true, y_pred, labels=range(0, nmax + 1))\n",
    "print(cm)\n",
    "cmrel = confusion_matrix(y_true, y_pred, labels=range(0, nmax + 1), normalize=\"true\")\n",
    "print((cmrel * 100).round())"
   ]
  },
  {
   "cell_type": "code",
   "execution_count": 6,
   "metadata": {},
   "outputs": [
    {
     "data": {
      "text/plain": [
       "Text(69.0, 0.5, 'True')"
      ]
     },
     "execution_count": 6,
     "metadata": {},
     "output_type": "execute_result"
    },
    {
     "data": {
      "image/png": "[encoded data removed]",
      "text/plain": [
       "<Figure size 720x504 with 2 Axes>"
      ]
     },
     "metadata": {
      "needs_background": "light"
     },
     "output_type": "display_data"
    }
   ],
   "source": [
    "plt.figure(figsize=(10, 7))\n",
    "ax = sns.heatmap(cmrel, cmap=\"viridis\", annot=True)\n",
    "ax.set_xlabel(\"Predicted\")\n",
    "ax.set_ylabel(\"True\")"
   ]
  },
  {
   "cell_type": "markdown",
   "metadata": {},
   "source": [
    "## Evaluation for different max multiplicities"
   ]
  },
  {
   "cell_type": "code",
   "execution_count": 9,
   "metadata": {},
   "outputs": [
    {
     "name": "stdout",
     "output_type": "stream",
     "text": [
      "30 2 nPN 0.8796254531482317\n",
      "[[100.   0.   0.]\n",
      " [  5.  84.  12.]\n",
      " [  0.  19.  80.]]\n",
      "[[    1     0     0]\n",
      " [ 1947 33330  4629]\n",
      " [   91  7744 32071]]\n",
      "{0: 1, 1: 39906, 2: 39906}\n",
      "\n",
      "\n",
      "30 2 nPH 0.9228338115840561\n",
      "[[100.   0.   0.]\n",
      " [  0.  91.   9.]\n",
      " [  0.  14.  86.]]\n",
      "[[ 2069     3     2]\n",
      " [    3 38319  3815]\n",
      " [    6  5000 31144]]\n",
      "{0: 2074, 1: 42137, 2: 36150}\n",
      "\n",
      "\n"
     ]
    },
    {
     "name": "stderr",
     "output_type": "stream",
     "text": [
      "/home/jmayer/.pyenv/versions/3.7.6/lib/python3.7/site-packages/sklearn/metrics/_classification.py:1850: UserWarning: y_pred contains classes not in y_true\n",
      "  warnings.warn('y_pred contains classes not in y_true')\n"
     ]
    },
    {
     "name": "stdout",
     "output_type": "stream",
     "text": [
      "30 3 nPN 0.7276265980179693\n",
      "[[ 0.  0.  0.  0.]\n",
      " [ 5. 84. 11.  0.]\n",
      " [ 0. 20. 60. 20.]\n",
      " [ 0.  3. 23. 74.]]\n",
      "[[    0     0     0     0]\n",
      " [ 1981 33468  4577    43]\n",
      " [   91  7917 24144  7913]\n",
      " [   10  1172  9005 29762]]\n",
      "{1: 40069, 2: 40065, 3: 39949}\n",
      "\n",
      "\n",
      "30 3 nPH 0.8504871715619324\n",
      "[[100.   0.   0.   0.]\n",
      " [  0.  91.   9.   0.]\n",
      " [  0.  14.  69.  17.]\n",
      " [  0.   1.  19.  80.]]\n",
      "[[ 2064     5     1     0]\n",
      " [    2 38114  3827    28]\n",
      " [    2  5725 28842  7021]\n",
      " [    4   259  6472 27498]]\n",
      "{0: 2070, 1: 41971, 2: 41590, 3: 34233}\n",
      "\n",
      "\n",
      "30 4 nPN 0.7284968957380389\n",
      "[[100.   0.   0.   0.   0.]\n",
      " [  5.  84.  11.   0.   0.]\n",
      " [  0.  20.  60.  19.   1.]\n",
      " [  0.   3.  23.  49.  25.]\n",
      " [  0.   0.   5.  24.  71.]]\n",
      "[[    1     0     0     0     0]\n",
      " [ 1989 33380  4557    36    12]\n",
      " [   95  7907 24013  7551   231]\n",
      " [    6  1245  9144 19983 10018]\n",
      " [    4   150  1906  9417 28014]]\n",
      "{0: 1, 1: 39974, 2: 39797, 3: 40396, 4: 39491}\n",
      "\n",
      "\n",
      "30 4 nPH 0.7888874149536631\n",
      "[[100.   0.   0.   0.   0.]\n",
      " [  0.  91.   9.   0.   0.]\n",
      " [  0.  14.  69.  17.   0.]\n",
      " [  0.   1.  19.  59.  22.]\n",
      " [  0.   0.   2.  22.  76.]]\n",
      "[[ 2082     0     0     0     0]\n",
      " [    2 38225  3872    20     9]\n",
      " [    1  5687 29116  7125   109]\n",
      " [    5   301  7640 24190  8970]\n",
      " [    6    13   669  7302 24755]]\n",
      "{0: 2082, 1: 42128, 2: 42038, 3: 41106, 4: 32745}\n",
      "\n",
      "\n"
     ]
    },
    {
     "name": "stderr",
     "output_type": "stream",
     "text": [
      "/home/jmayer/.pyenv/versions/3.7.6/lib/python3.7/site-packages/sklearn/metrics/_classification.py:1850: UserWarning: y_pred contains classes not in y_true\n",
      "  warnings.warn('y_pred contains classes not in y_true')\n"
     ]
    },
    {
     "name": "stdout",
     "output_type": "stream",
     "text": [
      "30 5 nPN 0.6112385843439802\n",
      "[[ 0.  0.  0.  0.  0.  0.]\n",
      " [ 5. 84. 11.  0.  0.  0.]\n",
      " [ 0. 20. 60. 19.  0.  0.]\n",
      " [ 0.  3. 23. 50. 23.  2.]\n",
      " [ 0.  0.  5. 24. 43. 28.]\n",
      " [ 0.  0.  1.  7. 24. 69.]]\n",
      "[[    0     0     0     0     0     0]\n",
      " [ 1944 33496  4598    33     4     4]\n",
      " [   99  7772 23912  7696   185    15]\n",
      " [    6  1110  9192 19915  9252   695]\n",
      " [    0   131  1888  9456 17267 11044]\n",
      " [    4    15   278  2613  9597 27585]]\n",
      "{1: 40079, 2: 39679, 3: 40170, 4: 39786, 5: 40092}\n",
      "\n",
      "\n",
      "30 5 nPH 0.7365082030502058\n",
      "[[100.   0.   0.   0.   0.   0.]\n",
      " [  0.  91.   9.   0.   0.   0.]\n",
      " [  0.  14.  69.  17.   0.   0.]\n",
      " [  0.   1.  19.  58.  21.   1.]\n",
      " [  0.   0.   2.  22.  51.  25.]\n",
      " [  0.   0.   0.   3.  24.  73.]]\n",
      "[[ 2085     2     2     0     0     1]\n",
      " [    0 38176  3857    22     7     1]\n",
      " [    1  5703 29151  7100   108     5]\n",
      " [    0   310  8068 24542  8728   413]\n",
      " [    0    12   805  8841 20471 10141]\n",
      " [    2     0    32  1029  7358 22661]]\n",
      "{0: 2090, 1: 42063, 2: 42068, 3: 42061, 4: 40270, 5: 31082}\n",
      "\n",
      "\n"
     ]
    }
   ],
   "source": [
    "for dp in [30]:  # , 12]:\n",
    "    for n in [2, 3, 4, 5]:\n",
    "        for label in [\"nPN\", \"nPH\"]:\n",
    "            traindata, testdata = tridata(distance=15, doubleplane=dp, energy=600, erel=500, nmax=n, physics=\"inclxx\")\n",
    "\n",
    "#             traindata.loc[traindata[\"nHits\"] == 0, \"nPN\"] = 0\n",
    "#             testdata.loc[testdata[\"nHits\"] == 0, \"nPN\"] = 0\n",
    "            \n",
    "            model = Bayes(traindata, n, label)\n",
    "            y_pred = model.predict(testdata)\n",
    "            y_true = testdata[label].values.ravel()\n",
    "            \n",
    "            bac = balanced_accuracy_score(y_true, y_pred)\n",
    "            cm = (confusion_matrix(y_true, y_pred, labels=range(0, n + 1), normalize=\"true\") * 100).round()\n",
    "            cmn = confusion_matrix(y_true, y_pred, labels=range(0, n + 1))\n",
    "            print(dp, n, label, bac)\n",
    "            print(cm)\n",
    "            print(cmn)\n",
    "            unique, counts = np.unique(y_true, return_counts=True)\n",
    "            print(dict(zip(unique, counts)))\n",
    "            print(\"\\n\")"
   ]
  },
  {
   "cell_type": "code",
   "execution_count": null,
   "metadata": {},
   "outputs": [],
   "source": []
  }
 ],
 "metadata": {
  "kernelspec": {
   "display_name": "Python 3",
   "language": "python",
   "name": "python3"
  },
  "language_info": {
   "codemirror_mode": {
    "name": "ipython",
    "version": 3
   },
   "file_extension": ".py",
   "mimetype": "text/x-python",
   "name": "python",
   "nbconvert_exporter": "python",
   "pygments_lexer": "ipython3",
   "version": "3.7.6"
  }
 },
 "nbformat": 4,
 "nbformat_minor": 4
}

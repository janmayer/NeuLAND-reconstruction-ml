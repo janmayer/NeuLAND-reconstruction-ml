{
 "cells": [
  {
   "cell_type": "markdown",
   "metadata": {},
   "source": [
    "# Convert ROOT files to Trifeature HDF5 (slow)"
   ]
  },
  {
   "cell_type": "markdown",
   "metadata": {},
   "source": [
    "The ROOT-digi files contain the calibrated events in NeuLAND. Here we extract the three basic properties number of hits, number of clusters, and total deposited energy and save them together with the number of incoming neutrons, number of primary points, and number of primary hits to a HDF5 file for basic reconstruction."
   ]
  },
  {
   "cell_type": "code",
   "execution_count": 1,
   "metadata": {},
   "outputs": [],
   "source": [
    "distances = [15]\n",
    "doubleplanes = [12, 30]\n",
    "energies = [600]\n",
    "erels = [500]\n",
    "neutrons = [1, 2, 3, 4, 5, 6]\n",
    "physicss = [\"inclxx\"]\n",
    "subruns = range(20)"
   ]
  },
  {
   "cell_type": "code",
   "execution_count": 2,
   "metadata": {},
   "outputs": [
    {
     "name": "stdout",
     "output_type": "stream",
     "text": [
      "Welcome to JupyROOT 6.16/00\n"
     ]
    }
   ],
   "source": [
    "import h5py\n",
    "import numpy as np\n",
    "import os\n",
    "import sys\n",
    "import joblib\n",
    "import ROOT\n",
    "\n",
    "sys.path.append(\"..\")\n",
    "from helpers import filename_for\n",
    "\n",
    "ROOT.ROOT.EnableThreadSafety()"
   ]
  },
  {
   "cell_type": "markdown",
   "metadata": {},
   "source": [
    "Read the ROOT file event-by-event. Better not try anything fancy here. Write hdf5 event by event."
   ]
  },
  {
   "cell_type": "code",
   "execution_count": 3,
   "metadata": {},
   "outputs": [],
   "source": [
    "def root2hdf5(distance, doubleplane, energy, erel, neutron, physics, subrun):\n",
    "    inpfile = filename_for(distance, doubleplane, energy, erel, neutron, physics, subrun, \"digi.root\")\n",
    "    outfile = filename_for(distance, doubleplane, energy, erel, neutron, physics, subrun, \"trifeature.h5\")\n",
    "\n",
    "    with h5py.File(outfile, \"w\") as h5file:\n",
    "        tfile = ROOT.TFile.Open(os.fspath(inpfile))\n",
    "        ttree = tfile.Get(\"evt\")\n",
    "        num_events = ttree.GetEntries()\n",
    "        dim = 6\n",
    "\n",
    "        data = h5file.create_dataset(\n",
    "            \"data\", shape=(num_events, dim), dtype=np.int16, chunks=(1000, dim), compression=\"gzip\", compression_opts=9,\n",
    "        )\n",
    "\n",
    "        buff = np.zeros((dim), np.int16)\n",
    "        i = 0\n",
    "        for event in ttree:\n",
    "\n",
    "            # nPN: Number of incoming primary neutrons\n",
    "            buff[0] = event.NeulandPrimaryTracks.GetEntries()\n",
    "            # nPP: Number of primary neutrons with an energy deposition in NeuLAND\n",
    "            buff[1] = event.NeulandPrimaryPoints.GetEntries()\n",
    "            # nPH: Number of hits that correspond to a energy deposition of a primary neutron\n",
    "            buff[2] = event.NeulandPrimaryHits.GetEntries()\n",
    "            # nHits: Number of hits\n",
    "            buff[3] = event.NeulandHits.GetEntries()\n",
    "            # nClus: Number of clusters\n",
    "            buff[4] = event.NeulandClusters.GetEntries()\n",
    "            # Edep: Total deposited (detected) energy\n",
    "            buff[5] = round(sum([hit.GetE() for hit in event.NeulandHits]))\n",
    "\n",
    "            data[i] = buff\n",
    "            i += 1\n",
    "        tfile.Close()"
   ]
  },
  {
   "cell_type": "code",
   "execution_count": 4,
   "metadata": {},
   "outputs": [],
   "source": [
    "joblib.Parallel(n_jobs=-1, backend=\"multiprocessing\")(\n",
    "    joblib.delayed(root2hdf5)(\n",
    "        distance=distance,\n",
    "        doubleplane=doubleplane,\n",
    "        energy=energy,\n",
    "        erel=erel,\n",
    "        neutron=neutron,\n",
    "        physics=physics,\n",
    "        subrun=subrun,\n",
    "    )\n",
    "    for distance in distances\n",
    "    for energy in energies\n",
    "    for doubleplane in doubleplanes\n",
    "    for neutron in neutrons\n",
    "    for erel in erels\n",
    "    for physics in physicss\n",
    "    for subrun in subruns\n",
    ");"
   ]
  },
  {
   "cell_type": "code",
   "execution_count": null,
   "metadata": {},
   "outputs": [],
   "source": []
  }
 ],
 "metadata": {
  "kernelspec": {
   "display_name": "Python 3",
   "language": "python",
   "name": "python3"
  },
  "language_info": {
   "codemirror_mode": {
    "name": "ipython",
    "version": 3
   },
   "file_extension": ".py",
   "mimetype": "text/x-python",
   "name": "python",
   "nbconvert_exporter": "python",
   "pygments_lexer": "ipython3",
   "version": "3.7.6"
  }
 },
 "nbformat": 4,
 "nbformat_minor": 4
}

{
 "cells": [
  {
   "cell_type": "markdown",
   "metadata": {},
   "source": [
    "# Multiplicity determination with Calibr"
   ]
  },
  {
   "cell_type": "markdown",
   "metadata": {},
   "source": [
    "Note: Uses the R3BRoot NeuLAND module. As this module is compiled with ROOT, it is available in Python by `import ROOT` if the environment variables are set."
   ]
  },
  {
   "cell_type": "markdown",
   "metadata": {},
   "source": [
    "## Example Fit / Calibration\n",
    "We can run the full calibration from python, with some amount of yucky syntax"
   ]
  },
  {
   "cell_type": "code",
   "execution_count": 1,
   "metadata": {},
   "outputs": [],
   "source": [
    "labels = [\"nPN\", \"nPH\"]\n",
    "neutrons = [2, 3, 4, 5]\n",
    "doubleplanes = [12, 30]"
   ]
  },
  {
   "cell_type": "code",
   "execution_count": 2,
   "metadata": {},
   "outputs": [
    {
     "name": "stdout",
     "output_type": "stream",
     "text": [
      "Welcome to JupyROOT 6.16/00\n"
     ]
    },
    {
     "name": "stderr",
     "output_type": "stream",
     "text": [
      "[Parallel(n_jobs=-1)]: Using backend LokyBackend with 32 concurrent workers.\n",
      "[Parallel(n_jobs=-1)]: Done   4 out of  16 | elapsed:  1.3min remaining:  3.9min\n",
      "[Parallel(n_jobs=-1)]: Done  16 out of  16 | elapsed:  3.8min finished\n"
     ]
    },
    {
     "name": "stdout",
     "output_type": "stream",
     "text": [
      "Done\n"
     ]
    }
   ],
   "source": [
    "import joblib\n",
    "from train_calibr import train\n",
    "\n",
    "joblib.Parallel(n_jobs=-1, backend=\"loky\", verbose=1)(\n",
    "    joblib.delayed(train)(\n",
    "        doubleplane=doubleplane,\n",
    "        energy=600,\n",
    "        nmax=nmax,\n",
    "        physics=\"inclxx\",\n",
    "        label=label,\n",
    "    )\n",
    "    for doubleplane in doubleplanes\n",
    "    for label in labels\n",
    "    for nmax in neutrons\n",
    ")\n",
    "\n",
    "print(\"Done\")"
   ]
  },
  {
   "cell_type": "markdown",
   "metadata": {},
   "source": [
    "## Example Prediction"
   ]
  },
  {
   "cell_type": "code",
   "execution_count": 3,
   "metadata": {},
   "outputs": [],
   "source": [
    "import os\n",
    "import sys\n",
    "\n",
    "import numpy as np\n",
    "import pandas as pd\n",
    "import ROOT\n",
    "from sklearn.metrics import balanced_accuracy_score, confusion_matrix, plot_confusion_matrix\n",
    "\n",
    "sys.path.append(\"..\")\n",
    "from helpers import filename_for\n",
    "\n",
    "np.set_printoptions(precision=3)\n",
    "np.set_printoptions(suppress=True)"
   ]
  },
  {
   "cell_type": "code",
   "execution_count": 4,
   "metadata": {},
   "outputs": [
    {
     "name": "stderr",
     "output_type": "stream",
     "text": [
      "/home/jmayer/.pyenv/versions/3.7.6/lib/python3.7/site-packages/sklearn/metrics/_classification.py:1850: UserWarning: y_pred contains classes not in y_true\n",
      "  warnings.warn('y_pred contains classes not in y_true')\n"
     ]
    },
    {
     "name": "stdout",
     "output_type": "stream",
     "text": [
      "12 nPN 0.41278624999999997\n",
      "12 nPH 0.6567866071425283\n"
     ]
    },
    {
     "name": "stderr",
     "output_type": "stream",
     "text": [
      "/home/jmayer/.pyenv/versions/3.7.6/lib/python3.7/site-packages/sklearn/metrics/_classification.py:1850: UserWarning: y_pred contains classes not in y_true\n",
      "  warnings.warn('y_pred contains classes not in y_true')\n"
     ]
    },
    {
     "name": "stdout",
     "output_type": "stream",
     "text": [
      "30 nPN 0.6978550000000001\n",
      "30 nPH 0.819154348227805\n"
     ]
    }
   ],
   "source": [
    "max_neutrons = 4\n",
    "\n",
    "for dp in doubleplanes:\n",
    "    dfs = [pd.read_pickle(filename_for(15, dp, 600, 500, neutrons, \"inclxx\", subrun, \"trifeature.pkl\")) for subrun in range(20) for neutrons in range(1, max_neutrons + 1)]\n",
    "    testdata = pd.concat(dfs, ignore_index=True)\n",
    "    # traindata.loc[traindata[\"nHits\"] == 0, \"nPN\"] = 0\n",
    "\n",
    "    for label in labels:\n",
    "        cutf = ROOT.TFile.Open(f\"models/{dp}dp_600AMeV_{max_neutrons}n_{label}.ncut.root\")\n",
    "        para = cutf.Get(\"R3BNeulandMultiplicityCalorimetricPar\")\n",
    "\n",
    "        y_true = testdata[[label]].values.ravel()\n",
    "        y_pred = np.array([para.GetNeutronMultiplicity(row[\"Edep\"], row[\"nClus\"]) for _, row in testdata.iterrows()])\n",
    "\n",
    "        bac = balanced_accuracy_score(y_true, y_pred)\n",
    "        print(dp, label, bac)\n",
    "        # cm = confusion_matrix(y_true, y_pred, labels=range(0, max_neutrons + 1))\n",
    "        # print(cm)\n",
    "        # cmrel = confusion_matrix(y_true, y_pred, labels=range(0, max_neutrons + 1), normalize=\"true\")\n",
    "        # print(cmrel)\n",
    "\n",
    "        cutf.Close()"
   ]
  },
  {
   "cell_type": "code",
   "execution_count": null,
   "metadata": {},
   "outputs": [],
   "source": []
  }
 ],
 "metadata": {
  "kernelspec": {
   "display_name": "Python 3",
   "language": "python",
   "name": "python3"
  },
  "language_info": {
   "codemirror_mode": {
    "name": "ipython",
    "version": 3
   },
   "file_extension": ".py",
   "mimetype": "text/x-python",
   "name": "python",
   "nbconvert_exporter": "python",
   "pygments_lexer": "ipython3",
   "version": "3.7.6"
  }
 },
 "nbformat": 4,
 "nbformat_minor": 4
}

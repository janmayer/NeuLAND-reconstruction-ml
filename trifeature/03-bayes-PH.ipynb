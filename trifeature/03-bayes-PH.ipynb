{
 "cells": [
  {
   "cell_type": "markdown",
   "metadata": {},
   "source": [
    "# Multiplicity determination with super-basic Bayesian Statistics"
   ]
  },
  {
   "cell_type": "code",
   "execution_count": 1,
   "metadata": {},
   "outputs": [],
   "source": [
    "label = \"nPH\"\n",
    "nmax = 4"
   ]
  },
  {
   "cell_type": "code",
   "execution_count": 2,
   "metadata": {},
   "outputs": [],
   "source": [
    "import sys\n",
    "\n",
    "import matplotlib.pyplot as plt\n",
    "import numpy as np\n",
    "import pandas as pd\n",
    "import seaborn as sns\n",
    "from sklearn.metrics import (\n",
    "    balanced_accuracy_score,\n",
    "    confusion_matrix,\n",
    "    plot_confusion_matrix,\n",
    ")\n",
    "\n",
    "sys.path.append(\"..\")\n",
    "from helpers import tridata"
   ]
  },
  {
   "cell_type": "code",
   "execution_count": 3,
   "metadata": {},
   "outputs": [],
   "source": [
    "class Bayes:\n",
    "    def __init__(self, train, max_neutrons, label):\n",
    "        # Hypotheses: Zero to max neutrons\n",
    "        self._hypos = range(0, max_neutrons + 1)\n",
    "\n",
    "        # 'Fit' -> Create PDF for all numbers of neutrons\n",
    "        # TODO: Should they be normalized?\n",
    "        self._hits = {\n",
    "            h: np.histogram(train[train[label] == h][\"nHits\"], range=(0, 500), bins=500, density=True,)[0]\n",
    "            for h in self._hypos\n",
    "        }\n",
    "        self._clus = {\n",
    "            h: np.histogram(train[train[label] == h][\"nClus\"], range=(0, 500), bins=500, density=True,)[0]\n",
    "            for h in self._hypos\n",
    "        }\n",
    "        self._edep = {\n",
    "            h: np.histogram(train[train[label] == h][\"Edep\"], range=(0, 5000), bins=500, density=True,)[0]\n",
    "            for h in self._hypos\n",
    "        }\n",
    "\n",
    "    def predict(self, x):\n",
    "        # 'Predict' -> Use PDFs to get probabilities and take the highest\n",
    "        probs = [\n",
    "            self._hits[h][x[\"nHits\"]] * self._clus[h][x[\"nClus\"]] * self._edep[h][x[\"Edep\"].floordiv(10).astype(int)]\n",
    "            for h in self._hypos\n",
    "        ]\n",
    "        y_pred = np.argmax(probs, axis=0)\n",
    "        return y_pred"
   ]
  },
  {
   "cell_type": "code",
   "execution_count": 4,
   "metadata": {},
   "outputs": [],
   "source": [
    "traindata, testdata = tridata(distance=15, doubleplane=30, energy=600, erel=500, nmax=nmax, physics=\"inclxx\")"
   ]
  },
  {
   "cell_type": "markdown",
   "metadata": {},
   "source": [
    "## Example Fit / Calibration & Prediction"
   ]
  },
  {
   "cell_type": "code",
   "execution_count": 5,
   "metadata": {},
   "outputs": [
    {
     "name": "stdout",
     "output_type": "stream",
     "text": [
      "[(4, 4), (3, 4), (3, 3), (2, 2), (2, 2), (3, 3), (2, 2), (3, 4), (2, 1), (1, 1), (1, 1), (4, 4), (3, 2), (2, 2), (3, 3), (2, 2), (4, 4), (1, 1), (4, 3), (3, 3), (1, 1), (3, 2), (3, 3), (4, 4), (1, 1), (4, 4), (1, 1), (2, 3), (2, 2), (3, 3), (2, 2), (0, 0), (2, 2), (1, 2), (1, 1), (4, 4), (1, 1), (3, 3), (2, 2), (1, 2), (2, 1), (4, 4), (2, 2), (4, 4), (4, 4), (1, 1), (2, 2), (4, 4), (1, 1), (3, 3)]\n"
     ]
    }
   ],
   "source": [
    "model = Bayes(traindata, nmax, label)\n",
    "y_pred = model.predict(testdata)\n",
    "y_true = testdata[label].values.ravel()\n",
    "\n",
    "print(list(zip(y_true, y_pred))[0:50])"
   ]
  },
  {
   "cell_type": "code",
   "execution_count": 6,
   "metadata": {},
   "outputs": [
    {
     "name": "stdout",
     "output_type": "stream",
     "text": [
      "0.7880497546051423\n",
      "[[ 2042     2     0     1     1]\n",
      " [    1 38259  3876    19     8]\n",
      " [    1  5786 28860  6888   118]\n",
      " [    0   303  7768 24034  9043]\n",
      " [    5     3   633  7271 24761]]\n",
      "[[100.   0.   0.   0.   0.]\n",
      " [  0.  91.   9.   0.   0.]\n",
      " [  0.  14.  69.  17.   0.]\n",
      " [  0.   1.  19.  58.  22.]\n",
      " [  0.   0.   2.  22.  76.]]\n"
     ]
    }
   ],
   "source": [
    "np.set_printoptions(precision=3)\n",
    "np.set_printoptions(suppress=True)\n",
    "\n",
    "bac = balanced_accuracy_score(y_true, y_pred)\n",
    "print(bac)\n",
    "cm = confusion_matrix(y_true, y_pred, labels=range(0, nmax + 1))\n",
    "print(cm)\n",
    "cmrel = confusion_matrix(y_true, y_pred, labels=range(0, nmax + 1), normalize=\"true\")\n",
    "print((cmrel * 100).round())"
   ]
  },
  {
   "cell_type": "code",
   "execution_count": 7,
   "metadata": {},
   "outputs": [
    {
     "data": {
      "text/plain": [
       "Text(69.0, 0.5, 'True')"
      ]
     },
     "execution_count": 7,
     "metadata": {},
     "output_type": "execute_result"
    },
    {
     "data": {
      "image/png": "[encoded data removed]",
      "text/plain": [
       "<Figure size 720x504 with 2 Axes>"
      ]
     },
     "metadata": {
      "needs_background": "light"
     },
     "output_type": "display_data"
    }
   ],
   "source": [
    "plt.figure(figsize=(10, 7))\n",
    "ax = sns.heatmap(cmrel, cmap=\"viridis\", annot=True)\n",
    "ax.set_xlabel(\"Predicted\")\n",
    "ax.set_ylabel(\"True\")"
   ]
  },
  {
   "cell_type": "markdown",
   "metadata": {},
   "source": [
    "## Evaluation for different max multiplicities"
   ]
  },
  {
   "cell_type": "code",
   "execution_count": 8,
   "metadata": {},
   "outputs": [
    {
     "name": "stdout",
     "output_type": "stream",
     "text": [
      "[[ 1966     1]\n",
      " [   14 38033]]\n",
      "1 0.9995618228271941\n",
      "[[ 2136     3     1]\n",
      " [    8 37738  3872]\n",
      " [    4  5051 31410]]\n",
      "2 0.9220919566579514\n",
      "[[ 2108     1     0     0]\n",
      " [    1 38202  3811    25]\n",
      " [    2  5729 28828  7110]\n",
      " [    8   258  6383 27633]]\n",
      "3 0.8515341327772772\n",
      "[[ 2093     2     1     1     2]\n",
      " [    0 38140  3857    21     5]\n",
      " [    1  5764 29071  7032   128]\n",
      " [    1   306  7761 23973  8991]\n",
      " [    4     9   649  7194 24848]]\n",
      "4 0.7882016722822617\n",
      "[[ 2106     0     0     1     2     0]\n",
      " [    1 38233  3800    20     1     5]\n",
      " [    0  5806 29040  7029    98     8]\n",
      " [    0   299  8081 24663  8727   401]\n",
      " [    1    12   812  8729 20445 10172]\n",
      " [    1     0    26  1083  7271 22961]]\n",
      "5 0.7376179374270776\n"
     ]
    }
   ],
   "source": [
    "for n in [1, 2, 3, 4, 5]:\n",
    "    traindata, testdata = tridata(distance=15, doubleplane=30, energy=600, erel=500, nmax=n, physics=\"inclxx\")\n",
    "\n",
    "    model = Bayes(traindata, n, label)\n",
    "    y_pred = model.predict(testdata)\n",
    "    y_true = testdata[label].values.ravel()\n",
    "\n",
    "    bac = balanced_accuracy_score(y_true, y_pred)\n",
    "    cm = confusion_matrix(y_true, y_pred, labels=range(0, n + 1))\n",
    "    print(cm)\n",
    "    print(n, bac)"
   ]
  },
  {
   "cell_type": "code",
   "execution_count": null,
   "metadata": {},
   "outputs": [],
   "source": []
  }
 ],
 "metadata": {
  "kernelspec": {
   "display_name": "Python 3",
   "language": "python",
   "name": "python3"
  },
  "language_info": {
   "codemirror_mode": {
    "name": "ipython",
    "version": 3
   },
   "file_extension": ".py",
   "mimetype": "text/x-python",
   "name": "python",
   "nbconvert_exporter": "python",
   "pygments_lexer": "ipython3",
   "version": "3.8.5"
  }
 },
 "nbformat": 4,
 "nbformat_minor": 4
}

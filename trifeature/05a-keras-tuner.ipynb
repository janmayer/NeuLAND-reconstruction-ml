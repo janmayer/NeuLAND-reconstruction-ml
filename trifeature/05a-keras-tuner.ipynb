{
 "cells": [
  {
   "cell_type": "markdown",
   "metadata": {},
   "source": [
    "# Use keras-tuner to optimize model on TriFeature data for multiplicity determination"
   ]
  },
  {
   "cell_type": "code",
   "execution_count": 1,
   "metadata": {},
   "outputs": [],
   "source": [
    "import sys\n",
    "\n",
    "import numpy as np\n",
    "import pandas as pd\n",
    "\n",
    "sys.path.append(\"..\")\n",
    "from helpers import filename_for"
   ]
  },
  {
   "cell_type": "code",
   "execution_count": 2,
   "metadata": {},
   "outputs": [
    {
     "name": "stdout",
     "output_type": "stream",
     "text": [
      "tensorflow 2.3.1\n",
      "keras 2.4.0\n",
      "keras-tuner 1.0.1\n"
     ]
    }
   ],
   "source": [
    "import kerastuner\n",
    "import tensorflow\n",
    "from tensorflow import keras\n",
    "\n",
    "print(\"tensorflow\", tensorflow.__version__)\n",
    "print(\"keras\", keras.__version__)\n",
    "print(\"keras-tuner\", kerastuner.__version__)"
   ]
  },
  {
   "cell_type": "code",
   "execution_count": 3,
   "metadata": {},
   "outputs": [],
   "source": [
    "num_dp = 30\n",
    "max_neutrons = 4\n",
    "label = \"nPH\""
   ]
  },
  {
   "cell_type": "code",
   "execution_count": 4,
   "metadata": {},
   "outputs": [
    {
     "name": "stdout",
     "output_type": "stream",
     "text": [
      "(800000, 6)\n"
     ]
    }
   ],
   "source": [
    "files = [\n",
    "    filename_for(15, 30, 600, 500, n, \"inclxx\", s, \"trifeature.parquet\")\n",
    "    for n in range(1, max_neutrons + 1)\n",
    "    for s in range(20)\n",
    "]\n",
    "dfs = [pd.read_parquet(file) for file in files]\n",
    "data = pd.concat(dfs, ignore_index=True).sample(frac=1)\n",
    "print(data.shape)"
   ]
  },
  {
   "cell_type": "code",
   "execution_count": 5,
   "metadata": {},
   "outputs": [
    {
     "name": "stdout",
     "output_type": "stream",
     "text": [
      "(640320, 6)\n",
      "(159680, 6)\n"
     ]
    }
   ],
   "source": [
    "msk = np.random.rand(len(data)) < 0.8\n",
    "# Create one entry with zero everything to prevent NaN-PDF if no entry with LABEL=0 exists\n",
    "msk[0] = True\n",
    "data.loc[0] = [0, 0, 0, 0, 0, 0]\n",
    "traindata = data[msk]\n",
    "testdata = data[~msk]\n",
    "\n",
    "print(traindata.shape)\n",
    "print(testdata.shape)\n",
    "\n",
    "x_train = traindata[[\"nHits\", \"nClus\", \"Edep\"]].values\n",
    "y_train = keras.utils.to_categorical(traindata[[label]].values.ravel())\n",
    "\n",
    "x_val = testdata[[\"nHits\", \"nClus\", \"Edep\"]].values\n",
    "y_val = keras.utils.to_categorical(testdata[[label]].values.ravel());"
   ]
  },
  {
   "cell_type": "code",
   "execution_count": 6,
   "metadata": {},
   "outputs": [],
   "source": [
    "def build_model(hp):\n",
    "    model = keras.models.Sequential()\n",
    "    model.add(\n",
    "        keras.layers.Dense(\n",
    "            units=hp.Int(\"unitsl1\", min_value=10, max_value=500, step=10), activation=\"relu\", input_shape=(3,),\n",
    "        )\n",
    "    )\n",
    "    model.add(keras.layers.Dense(units=hp.Int(\"unitsl2\", min_value=5, max_value=50, step=5), activation=\"relu\",))\n",
    "    model.add(keras.layers.Dense(units=max_neutrons + 1, activation=\"softmax\"))\n",
    "\n",
    "    optimizer = keras.optimizers.Adam()  # hp.Choice(\"learning_rate\", values=[1e-2, 1e-3, 1e-4]))\n",
    "    loss = keras.losses.CategoricalCrossentropy()\n",
    "    model.compile(loss=loss, optimizer=optimizer, metrics=[\"acc\"])\n",
    "    return model"
   ]
  },
  {
   "cell_type": "code",
   "execution_count": 7,
   "metadata": {},
   "outputs": [
    {
     "name": "stdout",
     "output_type": "stream",
     "text": [
      "INFO:tensorflow:Reloading Oracle from existing project out\\simple-tuner\\oracle.json\n"
     ]
    },
    {
     "data": {
      "text/html": [
       "<span style=\"color:#4527A0\"><h1 style=\"font-size:18px\">Search space summary</h1></span>"
      ],
      "text/plain": [
       "<IPython.core.display.HTML object>"
      ]
     },
     "metadata": {},
     "output_type": "display_data"
    },
    {
     "data": {
      "text/html": [
       "<span style=\"color:cyan\"> |-Default search space size: 3</span>"
      ],
      "text/plain": [
       "<IPython.core.display.HTML object>"
      ]
     },
     "metadata": {},
     "output_type": "display_data"
    },
    {
     "data": {
      "text/html": [
       "<span style=\"color:#7E57C2\"><h2 style=\"font-size:16px\">unitsl1 (Int)</h2></span>"
      ],
      "text/plain": [
       "<IPython.core.display.HTML object>"
      ]
     },
     "metadata": {},
     "output_type": "display_data"
    },
    {
     "data": {
      "text/html": [
       "<span style=\"color:cyan\"> |-default: None</span>"
      ],
      "text/plain": [
       "<IPython.core.display.HTML object>"
      ]
     },
     "metadata": {},
     "output_type": "display_data"
    },
    {
     "data": {
      "text/html": [
       "<span style=\"color:blue\"> |-max_value: 500</span>"
      ],
      "text/plain": [
       "<IPython.core.display.HTML object>"
      ]
     },
     "metadata": {},
     "output_type": "display_data"
    },
    {
     "data": {
      "text/html": [
       "<span style=\"color:cyan\"> |-min_value: 10</span>"
      ],
      "text/plain": [
       "<IPython.core.display.HTML object>"
      ]
     },
     "metadata": {},
     "output_type": "display_data"
    },
    {
     "data": {
      "text/html": [
       "<span style=\"color:blue\"> |-sampling: None</span>"
      ],
      "text/plain": [
       "<IPython.core.display.HTML object>"
      ]
     },
     "metadata": {},
     "output_type": "display_data"
    },
    {
     "data": {
      "text/html": [
       "<span style=\"color:cyan\"> |-step: 30</span>"
      ],
      "text/plain": [
       "<IPython.core.display.HTML object>"
      ]
     },
     "metadata": {},
     "output_type": "display_data"
    },
    {
     "data": {
      "text/html": [
       "<span style=\"color:#7E57C2\"><h2 style=\"font-size:16px\">unitsl2 (Int)</h2></span>"
      ],
      "text/plain": [
       "<IPython.core.display.HTML object>"
      ]
     },
     "metadata": {},
     "output_type": "display_data"
    },
    {
     "data": {
      "text/html": [
       "<span style=\"color:cyan\"> |-default: None</span>"
      ],
      "text/plain": [
       "<IPython.core.display.HTML object>"
      ]
     },
     "metadata": {},
     "output_type": "display_data"
    },
    {
     "data": {
      "text/html": [
       "<span style=\"color:blue\"> |-max_value: 50</span>"
      ],
      "text/plain": [
       "<IPython.core.display.HTML object>"
      ]
     },
     "metadata": {},
     "output_type": "display_data"
    },
    {
     "data": {
      "text/html": [
       "<span style=\"color:cyan\"> |-min_value: 5</span>"
      ],
      "text/plain": [
       "<IPython.core.display.HTML object>"
      ]
     },
     "metadata": {},
     "output_type": "display_data"
    },
    {
     "data": {
      "text/html": [
       "<span style=\"color:blue\"> |-sampling: None</span>"
      ],
      "text/plain": [
       "<IPython.core.display.HTML object>"
      ]
     },
     "metadata": {},
     "output_type": "display_data"
    },
    {
     "data": {
      "text/html": [
       "<span style=\"color:cyan\"> |-step: 5</span>"
      ],
      "text/plain": [
       "<IPython.core.display.HTML object>"
      ]
     },
     "metadata": {},
     "output_type": "display_data"
    },
    {
     "data": {
      "text/html": [
       "<span style=\"color:#7E57C2\"><h2 style=\"font-size:16px\">learning_rate (Choice)</h2></span>"
      ],
      "text/plain": [
       "<IPython.core.display.HTML object>"
      ]
     },
     "metadata": {},
     "output_type": "display_data"
    },
    {
     "data": {
      "text/html": [
       "<span style=\"color:cyan\"> |-default: 0.01</span>"
      ],
      "text/plain": [
       "<IPython.core.display.HTML object>"
      ]
     },
     "metadata": {},
     "output_type": "display_data"
    },
    {
     "data": {
      "text/html": [
       "<span style=\"color:blue\"> |-ordered: True</span>"
      ],
      "text/plain": [
       "<IPython.core.display.HTML object>"
      ]
     },
     "metadata": {},
     "output_type": "display_data"
    },
    {
     "data": {
      "text/html": [
       "<span style=\"color:cyan\"> |-values: [0.01, 0.001, 0.0001]</span>"
      ],
      "text/plain": [
       "<IPython.core.display.HTML object>"
      ]
     },
     "metadata": {},
     "output_type": "display_data"
    }
   ],
   "source": [
    "tuner = kerastuner.tuners.RandomSearch(\n",
    "    build_model,\n",
    "    objective=\"val_acc\",\n",
    "    max_trials=50,\n",
    "    executions_per_trial=3,\n",
    "    directory=\"out\",\n",
    "    project_name=\"simple-tuner\",\n",
    ")\n",
    "tuner.search_space_summary()"
   ]
  },
  {
   "cell_type": "code",
   "execution_count": 8,
   "metadata": {},
   "outputs": [
    {
     "name": "stdout",
     "output_type": "stream",
     "text": [
      "Epoch 1/5\n",
      "321/321 - 1s - loss: 3.6878 - acc: 0.2944 - val_loss: 1.2512 - val_acc: 0.3486\n",
      "Epoch 2/5\n",
      "321/321 - 1s - loss: 0.9646 - acc: 0.6528 - val_loss: 0.8010 - val_acc: 0.7779\n",
      "Epoch 3/5\n",
      "321/321 - 1s - loss: 0.7135 - acc: 0.7763 - val_loss: 0.6517 - val_acc: 0.7853\n",
      "Epoch 4/5\n",
      "321/321 - 1s - loss: 0.5944 - acc: 0.7850 - val_loss: 0.5841 - val_acc: 0.7414\n",
      "Epoch 5/5\n",
      "321/321 - 1s - loss: 0.5457 - acc: 0.7853 - val_loss: 0.5286 - val_acc: 0.7886\n",
      "Epoch 1/5\n",
      "321/321 - 1s - loss: 5.4312 - acc: 0.4229 - val_loss: 0.9874 - val_acc: 0.5628\n",
      "Epoch 2/5\n",
      "321/321 - 1s - loss: 0.8584 - acc: 0.6239 - val_loss: 0.8267 - val_acc: 0.5939\n",
      "Epoch 3/5\n",
      "321/321 - 1s - loss: 0.6356 - acc: 0.7405 - val_loss: 0.6096 - val_acc: 0.7209\n",
      "Epoch 4/5\n",
      "321/321 - 1s - loss: 0.5672 - acc: 0.7619 - val_loss: 0.5240 - val_acc: 0.7873\n",
      "Epoch 5/5\n",
      "321/321 - 1s - loss: 0.5429 - acc: 0.7725 - val_loss: 0.5239 - val_acc: 0.7892\n",
      "Epoch 1/5\n",
      "321/321 - 1s - loss: 3.0628 - acc: 0.2821 - val_loss: 1.4335 - val_acc: 0.4080\n",
      "Epoch 2/5\n",
      "321/321 - 1s - loss: 1.3688 - acc: 0.2954 - val_loss: 1.3732 - val_acc: 0.2745\n",
      "Epoch 3/5\n",
      "321/321 - 1s - loss: 1.3679 - acc: 0.2800 - val_loss: 1.3658 - val_acc: 0.2777\n",
      "Epoch 4/5\n",
      "321/321 - 1s - loss: 1.3626 - acc: 0.2805 - val_loss: 1.3615 - val_acc: 0.2790\n",
      "Epoch 5/5\n",
      "321/321 - 1s - loss: 1.3582 - acc: 0.2830 - val_loss: 1.3549 - val_acc: 0.2832\n"
     ]
    },
    {
     "data": {
      "text/html": [
       "<span style=\"color:#4527A0\"><h1 style=\"font-size:18px\">Trial complete</h1></span>"
      ],
      "text/plain": [
       "<IPython.core.display.HTML object>"
      ]
     },
     "metadata": {},
     "output_type": "display_data"
    },
    {
     "data": {
      "text/html": [
       "<span style=\"color:#4527A0\"><h1 style=\"font-size:18px\">Trial summary</h1></span>"
      ],
      "text/plain": [
       "<IPython.core.display.HTML object>"
      ]
     },
     "metadata": {},
     "output_type": "display_data"
    },
    {
     "data": {
      "text/html": [
       "<span style=\"color:cyan\"> |-Trial ID: b617c56e2a02597046942bd53ead5d09</span>"
      ],
      "text/plain": [
       "<IPython.core.display.HTML object>"
      ]
     },
     "metadata": {},
     "output_type": "display_data"
    },
    {
     "data": {
      "text/html": [
       "<span style=\"color:cyan\"> |-Score: 0.661936362584432</span>"
      ],
      "text/plain": [
       "<IPython.core.display.HTML object>"
      ]
     },
     "metadata": {},
     "output_type": "display_data"
    },
    {
     "data": {
      "text/html": [
       "<span style=\"color:cyan\"> |-Best step: 0</span>"
      ],
      "text/plain": [
       "<IPython.core.display.HTML object>"
      ]
     },
     "metadata": {},
     "output_type": "display_data"
    },
    {
     "data": {
      "text/html": [
       "<span style=\"color:#7E57C2\"><h2 style=\"font-size:16px\">Hyperparameters:</h2></span>"
      ],
      "text/plain": [
       "<IPython.core.display.HTML object>"
      ]
     },
     "metadata": {},
     "output_type": "display_data"
    },
    {
     "data": {
      "text/html": [
       "<span style=\"color:cyan\"> |-learning_rate: 0.01</span>"
      ],
      "text/plain": [
       "<IPython.core.display.HTML object>"
      ]
     },
     "metadata": {},
     "output_type": "display_data"
    },
    {
     "data": {
      "text/html": [
       "<span style=\"color:blue\"> |-unitsl1: 10</span>"
      ],
      "text/plain": [
       "<IPython.core.display.HTML object>"
      ]
     },
     "metadata": {},
     "output_type": "display_data"
    },
    {
     "data": {
      "text/html": [
       "<span style=\"color:cyan\"> |-unitsl2: 10</span>"
      ],
      "text/plain": [
       "<IPython.core.display.HTML object>"
      ]
     },
     "metadata": {},
     "output_type": "display_data"
    },
    {
     "name": "stdout",
     "output_type": "stream",
     "text": [
      "Epoch 1/5\n",
      "321/321 - 1s - loss: 3.8496 - acc: 0.3359 - val_loss: 1.1580 - val_acc: 0.4403\n",
      "Epoch 2/5\n",
      "321/321 - 1s - loss: 1.0776 - acc: 0.5190 - val_loss: 0.9620 - val_acc: 0.5535\n",
      "Epoch 3/5\n",
      "321/321 - 1s - loss: 0.8769 - acc: 0.6485 - val_loss: 0.8378 - val_acc: 0.6440\n",
      "Epoch 4/5\n",
      "321/321 - 1s - loss: 0.7452 - acc: 0.7097 - val_loss: 0.6824 - val_acc: 0.7416\n",
      "Epoch 5/5\n",
      "321/321 - 1s - loss: 0.6801 - acc: 0.7202 - val_loss: 0.6215 - val_acc: 0.7869\n",
      "Epoch 1/5\n",
      "321/321 - 1s - loss: 5.5494 - acc: 0.3828 - val_loss: 1.1224 - val_acc: 0.4693\n",
      "Epoch 2/5\n",
      "321/321 - 1s - loss: 1.0416 - acc: 0.5493 - val_loss: 0.9624 - val_acc: 0.5497\n",
      "Epoch 3/5\n",
      "321/321 - 1s - loss: 0.8995 - acc: 0.6253 - val_loss: 0.9201 - val_acc: 0.5643\n",
      "Epoch 4/5\n",
      "321/321 - 1s - loss: 0.7568 - acc: 0.6815 - val_loss: 0.7640 - val_acc: 0.6475\n",
      "Epoch 5/5\n",
      "321/321 - 1s - loss: 0.6340 - acc: 0.7471 - val_loss: 0.5995 - val_acc: 0.7795\n",
      "Epoch 1/5\n",
      "321/321 - 1s - loss: 4.4299 - acc: 0.3639 - val_loss: 1.0797 - val_acc: 0.4678\n",
      "Epoch 2/5\n",
      "321/321 - 1s - loss: 0.9696 - acc: 0.5748 - val_loss: 0.9400 - val_acc: 0.5664\n",
      "Epoch 3/5\n",
      "321/321 - 1s - loss: 0.7725 - acc: 0.6798 - val_loss: 0.8231 - val_acc: 0.6007\n",
      "Epoch 4/5\n",
      "321/321 - 1s - loss: 0.6747 - acc: 0.7144 - val_loss: 0.6620 - val_acc: 0.6991\n",
      "Epoch 5/5\n",
      "321/321 - 1s - loss: 0.6262 - acc: 0.7321 - val_loss: 0.6049 - val_acc: 0.7553\n"
     ]
    },
    {
     "data": {
      "text/html": [
       "<span style=\"color:#4527A0\"><h1 style=\"font-size:18px\">Trial complete</h1></span>"
      ],
      "text/plain": [
       "<IPython.core.display.HTML object>"
      ]
     },
     "metadata": {},
     "output_type": "display_data"
    },
    {
     "data": {
      "text/html": [
       "<span style=\"color:#4527A0\"><h1 style=\"font-size:18px\">Trial summary</h1></span>"
      ],
      "text/plain": [
       "<IPython.core.display.HTML object>"
      ]
     },
     "metadata": {},
     "output_type": "display_data"
    },
    {
     "data": {
      "text/html": [
       "<span style=\"color:cyan\"> |-Trial ID: 3328c17f8d2f467964f0320a3cf10a91</span>"
      ],
      "text/plain": [
       "<IPython.core.display.HTML object>"
      ]
     },
     "metadata": {},
     "output_type": "display_data"
    },
    {
     "data": {
      "text/html": [
       "<span style=\"color:cyan\"> |-Score: 0.7738852898279825</span>"
      ],
      "text/plain": [
       "<IPython.core.display.HTML object>"
      ]
     },
     "metadata": {},
     "output_type": "display_data"
    },
    {
     "data": {
      "text/html": [
       "<span style=\"color:cyan\"> |-Best step: 0</span>"
      ],
      "text/plain": [
       "<IPython.core.display.HTML object>"
      ]
     },
     "metadata": {},
     "output_type": "display_data"
    },
    {
     "data": {
      "text/html": [
       "<span style=\"color:#7E57C2\"><h2 style=\"font-size:16px\">Hyperparameters:</h2></span>"
      ],
      "text/plain": [
       "<IPython.core.display.HTML object>"
      ]
     },
     "metadata": {},
     "output_type": "display_data"
    },
    {
     "data": {
      "text/html": [
       "<span style=\"color:cyan\"> |-learning_rate: 0.001</span>"
      ],
      "text/plain": [
       "<IPython.core.display.HTML object>"
      ]
     },
     "metadata": {},
     "output_type": "display_data"
    },
    {
     "data": {
      "text/html": [
       "<span style=\"color:blue\"> |-unitsl1: 40</span>"
      ],
      "text/plain": [
       "<IPython.core.display.HTML object>"
      ]
     },
     "metadata": {},
     "output_type": "display_data"
    },
    {
     "data": {
      "text/html": [
       "<span style=\"color:cyan\"> |-unitsl2: 40</span>"
      ],
      "text/plain": [
       "<IPython.core.display.HTML object>"
      ]
     },
     "metadata": {},
     "output_type": "display_data"
    },
    {
     "name": "stdout",
     "output_type": "stream",
     "text": [
      "Epoch 1/5\n",
      "321/321 - 1s - loss: 4.9030 - acc: 0.4550 - val_loss: 1.0220 - val_acc: 0.4930\n",
      "Epoch 2/5\n",
      "321/321 - 1s - loss: 0.8146 - acc: 0.6599 - val_loss: 0.8093 - val_acc: 0.6459\n",
      "Epoch 3/5\n",
      "321/321 - 1s - loss: 0.7894 - acc: 0.7050 - val_loss: 0.7349 - val_acc: 0.6565\n",
      "Epoch 4/5\n",
      "321/321 - 1s - loss: 0.6111 - acc: 0.7370 - val_loss: 0.5508 - val_acc: 0.7860\n",
      "Epoch 5/5\n",
      "321/321 - 1s - loss: 0.5561 - acc: 0.7657 - val_loss: 0.5322 - val_acc: 0.7685\n",
      "Epoch 1/5\n",
      "321/321 - 1s - loss: 3.3729 - acc: 0.4913 - val_loss: 0.8424 - val_acc: 0.6089\n",
      "Epoch 2/5\n",
      "321/321 - 1s - loss: 0.7265 - acc: 0.6850 - val_loss: 0.5657 - val_acc: 0.7506\n",
      "Epoch 3/5\n",
      "321/321 - 1s - loss: 0.6112 - acc: 0.7437 - val_loss: 0.5481 - val_acc: 0.7778\n",
      "Epoch 4/5\n",
      "321/321 - 1s - loss: 0.5925 - acc: 0.7492 - val_loss: 0.5548 - val_acc: 0.7446\n",
      "Epoch 5/5\n",
      "321/321 - 1s - loss: 0.5401 - acc: 0.7727 - val_loss: 0.6050 - val_acc: 0.7064\n",
      "Epoch 1/5\n",
      "321/321 - 1s - loss: 2.6845 - acc: 0.4347 - val_loss: 0.7903 - val_acc: 0.6957\n",
      "Epoch 2/5\n",
      "321/321 - 1s - loss: 0.7255 - acc: 0.7197 - val_loss: 0.6484 - val_acc: 0.7538\n",
      "Epoch 3/5\n",
      "321/321 - 1s - loss: 0.6079 - acc: 0.7601 - val_loss: 0.5689 - val_acc: 0.7548\n",
      "Epoch 4/5\n",
      "321/321 - 1s - loss: 0.5695 - acc: 0.7595 - val_loss: 0.5398 - val_acc: 0.7804\n",
      "Epoch 5/5\n",
      "321/321 - 1s - loss: 0.5447 - acc: 0.7693 - val_loss: 0.5522 - val_acc: 0.7432\n"
     ]
    },
    {
     "data": {
      "text/html": [
       "<span style=\"color:#4527A0\"><h1 style=\"font-size:18px\">Trial complete</h1></span>"
      ],
      "text/plain": [
       "<IPython.core.display.HTML object>"
      ]
     },
     "metadata": {},
     "output_type": "display_data"
    },
    {
     "data": {
      "text/html": [
       "<span style=\"color:#4527A0\"><h1 style=\"font-size:18px\">Trial summary</h1></span>"
      ],
      "text/plain": [
       "<IPython.core.display.HTML object>"
      ]
     },
     "metadata": {},
     "output_type": "display_data"
    },
    {
     "data": {
      "text/html": [
       "<span style=\"color:cyan\"> |-Trial ID: a6865b64360f22a00d3095aa99db8ec6</span>"
      ],
      "text/plain": [
       "<IPython.core.display.HTML object>"
      ]
     },
     "metadata": {},
     "output_type": "display_data"
    },
    {
     "data": {
      "text/html": [
       "<span style=\"color:cyan\"> |-Score: 0.7813981970151266</span>"
      ],
      "text/plain": [
       "<IPython.core.display.HTML object>"
      ]
     },
     "metadata": {},
     "output_type": "display_data"
    },
    {
     "data": {
      "text/html": [
       "<span style=\"color:cyan\"> |-Best step: 0</span>"
      ],
      "text/plain": [
       "<IPython.core.display.HTML object>"
      ]
     },
     "metadata": {},
     "output_type": "display_data"
    },
    {
     "data": {
      "text/html": [
       "<span style=\"color:#7E57C2\"><h2 style=\"font-size:16px\">Hyperparameters:</h2></span>"
      ],
      "text/plain": [
       "<IPython.core.display.HTML object>"
      ]
     },
     "metadata": {},
     "output_type": "display_data"
    },
    {
     "data": {
      "text/html": [
       "<span style=\"color:cyan\"> |-learning_rate: 0.01</span>"
      ],
      "text/plain": [
       "<IPython.core.display.HTML object>"
      ]
     },
     "metadata": {},
     "output_type": "display_data"
    },
    {
     "data": {
      "text/html": [
       "<span style=\"color:blue\"> |-unitsl1: 40</span>"
      ],
      "text/plain": [
       "<IPython.core.display.HTML object>"
      ]
     },
     "metadata": {},
     "output_type": "display_data"
    },
    {
     "data": {
      "text/html": [
       "<span style=\"color:cyan\"> |-unitsl2: 40</span>"
      ],
      "text/plain": [
       "<IPython.core.display.HTML object>"
      ]
     },
     "metadata": {},
     "output_type": "display_data"
    },
    {
     "name": "stdout",
     "output_type": "stream",
     "text": [
      "Epoch 1/5\n",
      "321/321 - 1s - loss: 4.0977 - acc: 0.4536 - val_loss: 0.7538 - val_acc: 0.7150\n",
      "Epoch 2/5\n",
      "321/321 - 1s - loss: 0.7900 - acc: 0.6809 - val_loss: 0.6535 - val_acc: 0.7800\n",
      "Epoch 3/5\n",
      "321/321 - 1s - loss: 0.7170 - acc: 0.7159 - val_loss: 0.5860 - val_acc: 0.7436\n",
      "Epoch 4/5\n",
      "321/321 - 1s - loss: 0.5604 - acc: 0.7711 - val_loss: 3.6140 - val_acc: 0.5164\n",
      "Epoch 5/5\n",
      "321/321 - 1s - loss: 0.9205 - acc: 0.7105 - val_loss: 0.6160 - val_acc: 0.7884\n",
      "Epoch 1/5\n",
      "321/321 - 1s - loss: 3.4640 - acc: 0.2937 - val_loss: 1.2236 - val_acc: 0.4248\n",
      "Epoch 2/5\n",
      "321/321 - 1s - loss: 1.3755 - acc: 0.2864 - val_loss: 1.3654 - val_acc: 0.2804\n",
      "Epoch 3/5\n",
      "321/321 - 1s - loss: 1.3541 - acc: 0.2971 - val_loss: 1.3648 - val_acc: 0.2793\n",
      "Epoch 4/5\n",
      "321/321 - 1s - loss: 1.3565 - acc: 0.2906 - val_loss: 1.3562 - val_acc: 0.2835\n",
      "Epoch 5/5\n",
      "321/321 - 1s - loss: 1.3502 - acc: 0.2924 - val_loss: 1.3227 - val_acc: 0.3167\n",
      "Epoch 1/5\n",
      "321/321 - 1s - loss: 5.2009 - acc: 0.4358 - val_loss: 0.8571 - val_acc: 0.6837\n",
      "Epoch 2/5\n",
      "321/321 - 1s - loss: 0.7460 - acc: 0.7194 - val_loss: 0.6424 - val_acc: 0.7562\n",
      "Epoch 3/5\n",
      "321/321 - 1s - loss: 0.6404 - acc: 0.7247 - val_loss: 0.5853 - val_acc: 0.7713\n",
      "Epoch 4/5\n",
      "321/321 - 1s - loss: 0.6410 - acc: 0.7408 - val_loss: 0.5872 - val_acc: 0.7196\n",
      "Epoch 5/5\n",
      "321/321 - 1s - loss: 0.5541 - acc: 0.7657 - val_loss: 0.5164 - val_acc: 0.7926\n"
     ]
    },
    {
     "data": {
      "text/html": [
       "<span style=\"color:#4527A0\"><h1 style=\"font-size:18px\">Trial complete</h1></span>"
      ],
      "text/plain": [
       "<IPython.core.display.HTML object>"
      ]
     },
     "metadata": {},
     "output_type": "display_data"
    },
    {
     "data": {
      "text/html": [
       "<span style=\"color:#4527A0\"><h1 style=\"font-size:18px\">Trial summary</h1></span>"
      ],
      "text/plain": [
       "<IPython.core.display.HTML object>"
      ]
     },
     "metadata": {},
     "output_type": "display_data"
    },
    {
     "data": {
      "text/html": [
       "<span style=\"color:cyan\"> |-Trial ID: f64209702663ab667e5fbb042ddf3e9b</span>"
      ],
      "text/plain": [
       "<IPython.core.display.HTML object>"
      ]
     },
     "metadata": {},
     "output_type": "display_data"
    },
    {
     "data": {
      "text/html": [
       "<span style=\"color:cyan\"> |-Score: 0.6685892641544342</span>"
      ],
      "text/plain": [
       "<IPython.core.display.HTML object>"
      ]
     },
     "metadata": {},
     "output_type": "display_data"
    },
    {
     "data": {
      "text/html": [
       "<span style=\"color:cyan\"> |-Best step: 0</span>"
      ],
      "text/plain": [
       "<IPython.core.display.HTML object>"
      ]
     },
     "metadata": {},
     "output_type": "display_data"
    },
    {
     "data": {
      "text/html": [
       "<span style=\"color:#7E57C2\"><h2 style=\"font-size:16px\">Hyperparameters:</h2></span>"
      ],
      "text/plain": [
       "<IPython.core.display.HTML object>"
      ]
     },
     "metadata": {},
     "output_type": "display_data"
    },
    {
     "data": {
      "text/html": [
       "<span style=\"color:cyan\"> |-learning_rate: 0.01</span>"
      ],
      "text/plain": [
       "<IPython.core.display.HTML object>"
      ]
     },
     "metadata": {},
     "output_type": "display_data"
    },
    {
     "data": {
      "text/html": [
       "<span style=\"color:blue\"> |-unitsl1: 130</span>"
      ],
      "text/plain": [
       "<IPython.core.display.HTML object>"
      ]
     },
     "metadata": {},
     "output_type": "display_data"
    },
    {
     "data": {
      "text/html": [
       "<span style=\"color:cyan\"> |-unitsl2: 50</span>"
      ],
      "text/plain": [
       "<IPython.core.display.HTML object>"
      ]
     },
     "metadata": {},
     "output_type": "display_data"
    },
    {
     "name": "stdout",
     "output_type": "stream",
     "text": [
      "Epoch 1/5\n",
      "321/321 - 1s - loss: 2.5513 - acc: 0.2663 - val_loss: 1.3692 - val_acc: 0.3052\n",
      "Epoch 2/5\n",
      "321/321 - 1s - loss: 1.3710 - acc: 0.2876 - val_loss: 1.3650 - val_acc: 0.2831\n",
      "Epoch 3/5\n",
      "321/321 - 1s - loss: 1.3565 - acc: 0.2898 - val_loss: 1.3463 - val_acc: 0.2945\n",
      "Epoch 4/5\n",
      "321/321 - 1s - loss: 1.3836 - acc: 0.2773 - val_loss: 1.3675 - val_acc: 0.2773\n",
      "Epoch 5/5\n",
      "321/321 - 1s - loss: 1.3659 - acc: 0.2749 - val_loss: 1.3659 - val_acc: 0.2735\n",
      "Epoch 1/5\n",
      "321/321 - 1s - loss: 2.4219 - acc: 0.2778 - val_loss: 1.3889 - val_acc: 0.2777\n",
      "Epoch 2/5\n",
      "321/321 - 1s - loss: 1.4741 - acc: 0.2814 - val_loss: 1.3667 - val_acc: 0.2802\n",
      "Epoch 3/5\n",
      "321/321 - 1s - loss: 1.3534 - acc: 0.2942 - val_loss: 1.3607 - val_acc: 0.2825\n",
      "Epoch 4/5\n",
      "321/321 - 1s - loss: 1.3562 - acc: 0.2939 - val_loss: 1.3615 - val_acc: 0.2783\n",
      "Epoch 5/5\n",
      "321/321 - 1s - loss: 1.3574 - acc: 0.2852 - val_loss: 1.3475 - val_acc: 0.3018\n",
      "Epoch 1/5\n",
      "321/321 - 1s - loss: 2.0114 - acc: 0.2873 - val_loss: 1.3848 - val_acc: 0.2771\n",
      "Epoch 2/5\n",
      "321/321 - 1s - loss: 1.3706 - acc: 0.2817 - val_loss: 1.3568 - val_acc: 0.2876\n",
      "Epoch 3/5\n",
      "321/321 - 1s - loss: 1.3559 - acc: 0.2882 - val_loss: 1.3595 - val_acc: 0.2815\n",
      "Epoch 4/5\n",
      "321/321 - 1s - loss: 1.3549 - acc: 0.2872 - val_loss: 1.3568 - val_acc: 0.2825\n",
      "Epoch 5/5\n",
      "321/321 - 1s - loss: 1.3538 - acc: 0.2895 - val_loss: 1.3620 - val_acc: 0.2762\n"
     ]
    },
    {
     "data": {
      "text/html": [
       "<span style=\"color:#4527A0\"><h1 style=\"font-size:18px\">Trial complete</h1></span>"
      ],
      "text/plain": [
       "<IPython.core.display.HTML object>"
      ]
     },
     "metadata": {},
     "output_type": "display_data"
    },
    {
     "data": {
      "text/html": [
       "<span style=\"color:#4527A0\"><h1 style=\"font-size:18px\">Trial summary</h1></span>"
      ],
      "text/plain": [
       "<IPython.core.display.HTML object>"
      ]
     },
     "metadata": {},
     "output_type": "display_data"
    },
    {
     "data": {
      "text/html": [
       "<span style=\"color:cyan\"> |-Trial ID: 7415bfcd529d8313a090fa7f6ae773ba</span>"
      ],
      "text/plain": [
       "<IPython.core.display.HTML object>"
      ]
     },
     "metadata": {},
     "output_type": "display_data"
    },
    {
     "data": {
      "text/html": [
       "<span style=\"color:cyan\"> |-Score: 0.29818804065386456</span>"
      ],
      "text/plain": [
       "<IPython.core.display.HTML object>"
      ]
     },
     "metadata": {},
     "output_type": "display_data"
    },
    {
     "data": {
      "text/html": [
       "<span style=\"color:cyan\"> |-Best step: 0</span>"
      ],
      "text/plain": [
       "<IPython.core.display.HTML object>"
      ]
     },
     "metadata": {},
     "output_type": "display_data"
    },
    {
     "data": {
      "text/html": [
       "<span style=\"color:#7E57C2\"><h2 style=\"font-size:16px\">Hyperparameters:</h2></span>"
      ],
      "text/plain": [
       "<IPython.core.display.HTML object>"
      ]
     },
     "metadata": {},
     "output_type": "display_data"
    },
    {
     "data": {
      "text/html": [
       "<span style=\"color:cyan\"> |-learning_rate: 0.01</span>"
      ],
      "text/plain": [
       "<IPython.core.display.HTML object>"
      ]
     },
     "metadata": {},
     "output_type": "display_data"
    },
    {
     "data": {
      "text/html": [
       "<span style=\"color:blue\"> |-unitsl1: 220</span>"
      ],
      "text/plain": [
       "<IPython.core.display.HTML object>"
      ]
     },
     "metadata": {},
     "output_type": "display_data"
    },
    {
     "data": {
      "text/html": [
       "<span style=\"color:cyan\"> |-unitsl2: 15</span>"
      ],
      "text/plain": [
       "<IPython.core.display.HTML object>"
      ]
     },
     "metadata": {},
     "output_type": "display_data"
    },
    {
     "name": "stdout",
     "output_type": "stream",
     "text": [
      "Epoch 1/5\n",
      "321/321 - 2s - loss: 2.0196 - acc: 0.2499 - val_loss: 1.5348 - val_acc: 0.2570\n",
      "Epoch 2/5\n",
      "321/321 - 1s - loss: 1.4970 - acc: 0.2686 - val_loss: 1.4712 - val_acc: 0.2771\n",
      "Epoch 3/5\n",
      "321/321 - 1s - loss: 1.4575 - acc: 0.2798 - val_loss: 1.4424 - val_acc: 0.2740\n",
      "Epoch 4/5\n",
      "321/321 - 1s - loss: 1.4481 - acc: 0.2750 - val_loss: 1.4209 - val_acc: 0.2767\n",
      "Epoch 5/5\n",
      "321/321 - 2s - loss: 1.4070 - acc: 0.2826 - val_loss: 1.4031 - val_acc: 0.2811\n",
      "Epoch 1/5\n",
      "321/321 - 1s - loss: 2.0085 - acc: 0.2711 - val_loss: 1.4864 - val_acc: 0.3079\n",
      "Epoch 2/5\n",
      "321/321 - 1s - loss: 1.4793 - acc: 0.2914 - val_loss: 1.4969 - val_acc: 0.2666\n",
      "Epoch 3/5\n",
      "321/321 - 1s - loss: 1.4615 - acc: 0.2967 - val_loss: 1.4549 - val_acc: 0.2878\n",
      "Epoch 4/5\n",
      "321/321 - 1s - loss: 1.4273 - acc: 0.3036 - val_loss: 1.4546 - val_acc: 0.2698\n",
      "Epoch 5/5\n",
      "321/321 - 1s - loss: 1.4333 - acc: 0.2888 - val_loss: 1.4326 - val_acc: 0.2836\n",
      "Epoch 1/5\n",
      "321/321 - 1s - loss: 2.5373 - acc: 0.3988 - val_loss: 1.0113 - val_acc: 0.5249\n",
      "Epoch 2/5\n",
      "321/321 - 1s - loss: 0.8991 - acc: 0.6096 - val_loss: 0.8587 - val_acc: 0.6552\n",
      "Epoch 3/5\n",
      "321/321 - 1s - loss: 0.7389 - acc: 0.6844 - val_loss: 0.6690 - val_acc: 0.7172\n",
      "Epoch 4/5\n",
      "321/321 - 1s - loss: 0.6472 - acc: 0.7297 - val_loss: 0.6275 - val_acc: 0.7278\n",
      "Epoch 5/5\n",
      "321/321 - 1s - loss: 0.6009 - acc: 0.7488 - val_loss: 0.5777 - val_acc: 0.7731\n"
     ]
    },
    {
     "data": {
      "text/html": [
       "<span style=\"color:#4527A0\"><h1 style=\"font-size:18px\">Trial complete</h1></span>"
      ],
      "text/plain": [
       "<IPython.core.display.HTML object>"
      ]
     },
     "metadata": {},
     "output_type": "display_data"
    },
    {
     "data": {
      "text/html": [
       "<span style=\"color:#4527A0\"><h1 style=\"font-size:18px\">Trial summary</h1></span>"
      ],
      "text/plain": [
       "<IPython.core.display.HTML object>"
      ]
     },
     "metadata": {},
     "output_type": "display_data"
    },
    {
     "data": {
      "text/html": [
       "<span style=\"color:cyan\"> |-Trial ID: 6fec5dacb2958aa98d8393002d90ddaf</span>"
      ],
      "text/plain": [
       "<IPython.core.display.HTML object>"
      ]
     },
     "metadata": {},
     "output_type": "display_data"
    },
    {
     "data": {
      "text/html": [
       "<span style=\"color:cyan\"> |-Score: 0.4540226260821025</span>"
      ],
      "text/plain": [
       "<IPython.core.display.HTML object>"
      ]
     },
     "metadata": {},
     "output_type": "display_data"
    },
    {
     "data": {
      "text/html": [
       "<span style=\"color:cyan\"> |-Best step: 0</span>"
      ],
      "text/plain": [
       "<IPython.core.display.HTML object>"
      ]
     },
     "metadata": {},
     "output_type": "display_data"
    },
    {
     "data": {
      "text/html": [
       "<span style=\"color:#7E57C2\"><h2 style=\"font-size:16px\">Hyperparameters:</h2></span>"
      ],
      "text/plain": [
       "<IPython.core.display.HTML object>"
      ]
     },
     "metadata": {},
     "output_type": "display_data"
    },
    {
     "data": {
      "text/html": [
       "<span style=\"color:cyan\"> |-learning_rate: 0.001</span>"
      ],
      "text/plain": [
       "<IPython.core.display.HTML object>"
      ]
     },
     "metadata": {},
     "output_type": "display_data"
    },
    {
     "data": {
      "text/html": [
       "<span style=\"color:blue\"> |-unitsl1: 370</span>"
      ],
      "text/plain": [
       "<IPython.core.display.HTML object>"
      ]
     },
     "metadata": {},
     "output_type": "display_data"
    },
    {
     "data": {
      "text/html": [
       "<span style=\"color:cyan\"> |-unitsl2: 10</span>"
      ],
      "text/plain": [
       "<IPython.core.display.HTML object>"
      ]
     },
     "metadata": {},
     "output_type": "display_data"
    },
    {
     "name": "stdout",
     "output_type": "stream",
     "text": [
      "Epoch 1/5\n",
      "321/321 - 1s - loss: 2.5432 - acc: 0.3881 - val_loss: 1.5750 - val_acc: 0.4653\n",
      "Epoch 2/5\n",
      "321/321 - 1s - loss: 1.2793 - acc: 0.5397 - val_loss: 0.8014 - val_acc: 0.6720\n",
      "Epoch 3/5\n",
      "321/321 - 2s - loss: 1.0905 - acc: 0.6064 - val_loss: 0.8584 - val_acc: 0.6744\n",
      "Epoch 4/5\n",
      "321/321 - 1s - loss: 0.7617 - acc: 0.6789 - val_loss: 1.2770 - val_acc: 0.5728\n",
      "Epoch 5/5\n",
      "321/321 - 1s - loss: 0.7597 - acc: 0.6664 - val_loss: 0.9403 - val_acc: 0.6181\n",
      "Epoch 1/5\n",
      "321/321 - 1s - loss: 2.4003 - acc: 0.3390 - val_loss: 3.1951 - val_acc: 0.2891\n",
      "Epoch 2/5\n",
      "321/321 - 1s - loss: 1.1624 - acc: 0.5182 - val_loss: 1.4420 - val_acc: 0.5242\n",
      "Epoch 3/5\n",
      "321/321 - 1s - loss: 1.0041 - acc: 0.6010 - val_loss: 0.8472 - val_acc: 0.5803\n",
      "Epoch 4/5\n",
      "321/321 - 2s - loss: 0.7690 - acc: 0.6713 - val_loss: 0.7297 - val_acc: 0.6859\n",
      "Epoch 5/5\n",
      "321/321 - 1s - loss: 0.8241 - acc: 0.6506 - val_loss: 0.8276 - val_acc: 0.6351\n",
      "Epoch 1/5\n",
      "321/321 - 1s - loss: 2.0530 - acc: 0.3920 - val_loss: 1.1930 - val_acc: 0.4850\n",
      "Epoch 2/5\n",
      "321/321 - 1s - loss: 1.0911 - acc: 0.5839 - val_loss: 0.9477 - val_acc: 0.5545\n",
      "Epoch 3/5\n",
      "321/321 - 1s - loss: 0.8707 - acc: 0.6270 - val_loss: 0.6446 - val_acc: 0.7831\n",
      "Epoch 4/5\n",
      "321/321 - 1s - loss: 0.6816 - acc: 0.6966 - val_loss: 0.6515 - val_acc: 0.6845\n",
      "Epoch 5/5\n",
      "321/321 - 1s - loss: 0.6305 - acc: 0.7262 - val_loss: 0.6034 - val_acc: 0.7155\n"
     ]
    },
    {
     "data": {
      "text/html": [
       "<span style=\"color:#4527A0\"><h1 style=\"font-size:18px\">Trial complete</h1></span>"
      ],
      "text/plain": [
       "<IPython.core.display.HTML object>"
      ]
     },
     "metadata": {},
     "output_type": "display_data"
    },
    {
     "data": {
      "text/html": [
       "<span style=\"color:#4527A0\"><h1 style=\"font-size:18px\">Trial summary</h1></span>"
      ],
      "text/plain": [
       "<IPython.core.display.HTML object>"
      ]
     },
     "metadata": {},
     "output_type": "display_data"
    },
    {
     "data": {
      "text/html": [
       "<span style=\"color:cyan\"> |-Trial ID: ddab2a5cdafe98af50f0333249fb083a</span>"
      ],
      "text/plain": [
       "<IPython.core.display.HTML object>"
      ]
     },
     "metadata": {},
     "output_type": "display_data"
    },
    {
     "data": {
      "text/html": [
       "<span style=\"color:cyan\"> |-Score: 0.7144810557365417</span>"
      ],
      "text/plain": [
       "<IPython.core.display.HTML object>"
      ]
     },
     "metadata": {},
     "output_type": "display_data"
    },
    {
     "data": {
      "text/html": [
       "<span style=\"color:cyan\"> |-Best step: 0</span>"
      ],
      "text/plain": [
       "<IPython.core.display.HTML object>"
      ]
     },
     "metadata": {},
     "output_type": "display_data"
    },
    {
     "data": {
      "text/html": [
       "<span style=\"color:#7E57C2\"><h2 style=\"font-size:16px\">Hyperparameters:</h2></span>"
      ],
      "text/plain": [
       "<IPython.core.display.HTML object>"
      ]
     },
     "metadata": {},
     "output_type": "display_data"
    },
    {
     "data": {
      "text/html": [
       "<span style=\"color:cyan\"> |-learning_rate: 0.001</span>"
      ],
      "text/plain": [
       "<IPython.core.display.HTML object>"
      ]
     },
     "metadata": {},
     "output_type": "display_data"
    },
    {
     "data": {
      "text/html": [
       "<span style=\"color:blue\"> |-unitsl1: 430</span>"
      ],
      "text/plain": [
       "<IPython.core.display.HTML object>"
      ]
     },
     "metadata": {},
     "output_type": "display_data"
    },
    {
     "data": {
      "text/html": [
       "<span style=\"color:cyan\"> |-unitsl2: 30</span>"
      ],
      "text/plain": [
       "<IPython.core.display.HTML object>"
      ]
     },
     "metadata": {},
     "output_type": "display_data"
    },
    {
     "name": "stdout",
     "output_type": "stream",
     "text": [
      "Epoch 1/5\n",
      "321/321 - 1s - loss: 6.7080 - acc: 0.4516 - val_loss: 1.5726 - val_acc: 0.4835\n",
      "Epoch 2/5\n",
      "321/321 - 1s - loss: 0.8342 - acc: 0.6419 - val_loss: 0.7467 - val_acc: 0.6527\n",
      "Epoch 3/5\n",
      "321/321 - 1s - loss: 0.6598 - acc: 0.7203 - val_loss: 0.6068 - val_acc: 0.7226\n",
      "Epoch 4/5\n",
      "321/321 - 1s - loss: 0.5799 - acc: 0.7566 - val_loss: 0.5886 - val_acc: 0.7467\n",
      "Epoch 5/5\n",
      "321/321 - 1s - loss: 0.5702 - acc: 0.7541 - val_loss: 0.5201 - val_acc: 0.7869\n",
      "Epoch 1/5\n",
      "321/321 - 1s - loss: 2.5428 - acc: 0.4127 - val_loss: 1.1301 - val_acc: 0.4752\n",
      "Epoch 2/5\n",
      "321/321 - 1s - loss: 0.7828 - acc: 0.6983 - val_loss: 0.6548 - val_acc: 0.7126\n",
      "Epoch 3/5\n",
      "321/321 - 1s - loss: 0.6516 - acc: 0.7364 - val_loss: 0.5588 - val_acc: 0.7586\n",
      "Epoch 4/5\n",
      "321/321 - 1s - loss: 0.5847 - acc: 0.7596 - val_loss: 0.6781 - val_acc: 0.6663\n",
      "Epoch 5/5\n",
      "321/321 - 1s - loss: 0.5432 - acc: 0.7715 - val_loss: 0.5227 - val_acc: 0.7832\n",
      "Epoch 1/5\n",
      "321/321 - 1s - loss: 4.5977 - acc: 0.4444 - val_loss: 0.8636 - val_acc: 0.5711\n",
      "Epoch 2/5\n",
      "321/321 - 1s - loss: 0.7813 - acc: 0.6699 - val_loss: 0.8397 - val_acc: 0.6440\n",
      "Epoch 3/5\n",
      "321/321 - 1s - loss: 0.6413 - acc: 0.7296 - val_loss: 0.5684 - val_acc: 0.7693\n",
      "Epoch 4/5\n",
      "321/321 - 1s - loss: 0.5881 - acc: 0.7452 - val_loss: 0.5785 - val_acc: 0.7507\n",
      "Epoch 5/5\n",
      "321/321 - 1s - loss: 0.5667 - acc: 0.7565 - val_loss: 0.6578 - val_acc: 0.6934\n"
     ]
    },
    {
     "data": {
      "text/html": [
       "<span style=\"color:#4527A0\"><h1 style=\"font-size:18px\">Trial complete</h1></span>"
      ],
      "text/plain": [
       "<IPython.core.display.HTML object>"
      ]
     },
     "metadata": {},
     "output_type": "display_data"
    },
    {
     "data": {
      "text/html": [
       "<span style=\"color:#4527A0\"><h1 style=\"font-size:18px\">Trial summary</h1></span>"
      ],
      "text/plain": [
       "<IPython.core.display.HTML object>"
      ]
     },
     "metadata": {},
     "output_type": "display_data"
    },
    {
     "data": {
      "text/html": [
       "<span style=\"color:cyan\"> |-Trial ID: 9f30d1daeb6e467784beb831a6a1ab20</span>"
      ],
      "text/plain": [
       "<IPython.core.display.HTML object>"
      ]
     },
     "metadata": {},
     "output_type": "display_data"
    },
    {
     "data": {
      "text/html": [
       "<span style=\"color:cyan\"> |-Score: 0.7798012693723043</span>"
      ],
      "text/plain": [
       "<IPython.core.display.HTML object>"
      ]
     },
     "metadata": {},
     "output_type": "display_data"
    },
    {
     "data": {
      "text/html": [
       "<span style=\"color:cyan\"> |-Best step: 0</span>"
      ],
      "text/plain": [
       "<IPython.core.display.HTML object>"
      ]
     },
     "metadata": {},
     "output_type": "display_data"
    },
    {
     "data": {
      "text/html": [
       "<span style=\"color:#7E57C2\"><h2 style=\"font-size:16px\">Hyperparameters:</h2></span>"
      ],
      "text/plain": [
       "<IPython.core.display.HTML object>"
      ]
     },
     "metadata": {},
     "output_type": "display_data"
    },
    {
     "data": {
      "text/html": [
       "<span style=\"color:cyan\"> |-learning_rate: 0.01</span>"
      ],
      "text/plain": [
       "<IPython.core.display.HTML object>"
      ]
     },
     "metadata": {},
     "output_type": "display_data"
    },
    {
     "data": {
      "text/html": [
       "<span style=\"color:blue\"> |-unitsl1: 70</span>"
      ],
      "text/plain": [
       "<IPython.core.display.HTML object>"
      ]
     },
     "metadata": {},
     "output_type": "display_data"
    },
    {
     "data": {
      "text/html": [
       "<span style=\"color:cyan\"> |-unitsl2: 35</span>"
      ],
      "text/plain": [
       "<IPython.core.display.HTML object>"
      ]
     },
     "metadata": {},
     "output_type": "display_data"
    },
    {
     "name": "stdout",
     "output_type": "stream",
     "text": [
      "Epoch 1/5\n",
      "321/321 - 1s - loss: 2.5282 - acc: 0.3431 - val_loss: 1.0709 - val_acc: 0.5221\n",
      "Epoch 2/5\n",
      "321/321 - 1s - loss: 1.2863 - acc: 0.5116 - val_loss: 0.8090 - val_acc: 0.6324\n",
      "Epoch 3/5\n",
      "321/321 - 1s - loss: 1.1294 - acc: 0.5723 - val_loss: 0.7340 - val_acc: 0.6793\n",
      "Epoch 4/5\n",
      "321/321 - 1s - loss: 0.7606 - acc: 0.6785 - val_loss: 0.7292 - val_acc: 0.6494\n",
      "Epoch 5/5\n",
      "321/321 - 1s - loss: 0.7652 - acc: 0.6981 - val_loss: 0.6747 - val_acc: 0.6876\n",
      "Epoch 1/5\n",
      "321/321 - 1s - loss: 2.5416 - acc: 0.3020 - val_loss: 1.5108 - val_acc: 0.3157\n",
      "Epoch 2/5\n",
      "321/321 - 1s - loss: 1.2489 - acc: 0.4473 - val_loss: 0.9472 - val_acc: 0.5825\n",
      "Epoch 3/5\n",
      "321/321 - 1s - loss: 1.0877 - acc: 0.5596 - val_loss: 1.1523 - val_acc: 0.5849\n",
      "Epoch 4/5\n",
      "321/321 - 1s - loss: 0.8286 - acc: 0.6572 - val_loss: 0.7026 - val_acc: 0.6427\n",
      "Epoch 5/5\n",
      "321/321 - 1s - loss: 0.7083 - acc: 0.6990 - val_loss: 0.6507 - val_acc: 0.6774\n",
      "Epoch 1/5\n",
      "321/321 - 1s - loss: 1.6679 - acc: 0.4626 - val_loss: 0.8766 - val_acc: 0.6617\n",
      "Epoch 2/5\n",
      "321/321 - 1s - loss: 0.8132 - acc: 0.6640 - val_loss: 0.7049 - val_acc: 0.6334\n",
      "Epoch 3/5\n",
      "321/321 - 2s - loss: 0.6594 - acc: 0.7094 - val_loss: 0.6316 - val_acc: 0.7050\n",
      "Epoch 4/5\n",
      "321/321 - 1s - loss: 0.6255 - acc: 0.7231 - val_loss: 0.7344 - val_acc: 0.6236\n",
      "Epoch 5/5\n",
      "321/321 - 1s - loss: 0.5909 - acc: 0.7445 - val_loss: 0.5515 - val_acc: 0.7773\n"
     ]
    },
    {
     "data": {
      "text/html": [
       "<span style=\"color:#4527A0\"><h1 style=\"font-size:18px\">Trial complete</h1></span>"
      ],
      "text/plain": [
       "<IPython.core.display.HTML object>"
      ]
     },
     "metadata": {},
     "output_type": "display_data"
    },
    {
     "data": {
      "text/html": [
       "<span style=\"color:#4527A0\"><h1 style=\"font-size:18px\">Trial summary</h1></span>"
      ],
      "text/plain": [
       "<IPython.core.display.HTML object>"
      ]
     },
     "metadata": {},
     "output_type": "display_data"
    },
    {
     "data": {
      "text/html": [
       "<span style=\"color:cyan\"> |-Trial ID: 95e766d1090e317ae29c23c52a98137b</span>"
      ],
      "text/plain": [
       "<IPython.core.display.HTML object>"
      ]
     },
     "metadata": {},
     "output_type": "display_data"
    },
    {
     "data": {
      "text/html": [
       "<span style=\"color:cyan\"> |-Score: 0.7140844265619913</span>"
      ],
      "text/plain": [
       "<IPython.core.display.HTML object>"
      ]
     },
     "metadata": {},
     "output_type": "display_data"
    },
    {
     "data": {
      "text/html": [
       "<span style=\"color:cyan\"> |-Best step: 0</span>"
      ],
      "text/plain": [
       "<IPython.core.display.HTML object>"
      ]
     },
     "metadata": {},
     "output_type": "display_data"
    },
    {
     "data": {
      "text/html": [
       "<span style=\"color:#7E57C2\"><h2 style=\"font-size:16px\">Hyperparameters:</h2></span>"
      ],
      "text/plain": [
       "<IPython.core.display.HTML object>"
      ]
     },
     "metadata": {},
     "output_type": "display_data"
    },
    {
     "data": {
      "text/html": [
       "<span style=\"color:cyan\"> |-learning_rate: 0.001</span>"
      ],
      "text/plain": [
       "<IPython.core.display.HTML object>"
      ]
     },
     "metadata": {},
     "output_type": "display_data"
    },
    {
     "data": {
      "text/html": [
       "<span style=\"color:blue\"> |-unitsl1: 460</span>"
      ],
      "text/plain": [
       "<IPython.core.display.HTML object>"
      ]
     },
     "metadata": {},
     "output_type": "display_data"
    },
    {
     "data": {
      "text/html": [
       "<span style=\"color:cyan\"> |-unitsl2: 25</span>"
      ],
      "text/plain": [
       "<IPython.core.display.HTML object>"
      ]
     },
     "metadata": {},
     "output_type": "display_data"
    },
    {
     "name": "stdout",
     "output_type": "stream",
     "text": [
      "Epoch 1/5\n",
      "321/321 - 1s - loss: 5.6980 - acc: 0.2535 - val_loss: 1.7442 - val_acc: 0.2616\n",
      "Epoch 2/5\n",
      "321/321 - 1s - loss: 1.3727 - acc: 0.2972 - val_loss: 1.3078 - val_acc: 0.2689\n",
      "Epoch 3/5\n",
      "321/321 - 1s - loss: 1.2496 - acc: 0.3188 - val_loss: 1.2202 - val_acc: 0.3162\n",
      "Epoch 4/5\n",
      "321/321 - 1s - loss: 1.1964 - acc: 0.3498 - val_loss: 1.1959 - val_acc: 0.3332\n",
      "Epoch 5/5\n",
      "321/321 - 1s - loss: 1.1408 - acc: 0.4059 - val_loss: 1.1128 - val_acc: 0.4212\n",
      "Epoch 1/5\n",
      "321/321 - 1s - loss: 3.3036 - acc: 0.2605 - val_loss: 1.5950 - val_acc: 0.2645\n",
      "Epoch 2/5\n",
      "321/321 - 1s - loss: 1.5871 - acc: 0.2629 - val_loss: 1.5800 - val_acc: 0.2645\n",
      "Epoch 3/5\n",
      "321/321 - 1s - loss: 1.5730 - acc: 0.2629 - val_loss: 1.5633 - val_acc: 0.2645\n",
      "Epoch 4/5\n",
      "321/321 - 1s - loss: 1.5253 - acc: 0.3391 - val_loss: 1.4980 - val_acc: 0.3170\n",
      "Epoch 5/5\n",
      "321/321 - 1s - loss: 1.4742 - acc: 0.3728 - val_loss: 1.4494 - val_acc: 0.3723\n",
      "Epoch 1/5\n",
      "321/321 - 1s - loss: 2.3990 - acc: 0.2426 - val_loss: 1.5942 - val_acc: 0.2601\n",
      "Epoch 2/5\n",
      "321/321 - 1s - loss: 1.5865 - acc: 0.2627 - val_loss: 1.5795 - val_acc: 0.2601\n",
      "Epoch 3/5\n",
      "321/321 - 1s - loss: 1.5688 - acc: 0.3005 - val_loss: 1.5551 - val_acc: 0.3653\n",
      "Epoch 4/5\n",
      "321/321 - 1s - loss: 1.5467 - acc: 0.3398 - val_loss: 1.5205 - val_acc: 0.3941\n",
      "Epoch 5/5\n",
      "321/321 - 1s - loss: 1.4359 - acc: 0.4202 - val_loss: 1.3800 - val_acc: 0.4711\n"
     ]
    },
    {
     "data": {
      "text/html": [
       "<span style=\"color:#4527A0\"><h1 style=\"font-size:18px\">Trial complete</h1></span>"
      ],
      "text/plain": [
       "<IPython.core.display.HTML object>"
      ]
     },
     "metadata": {},
     "output_type": "display_data"
    },
    {
     "data": {
      "text/html": [
       "<span style=\"color:#4527A0\"><h1 style=\"font-size:18px\">Trial summary</h1></span>"
      ],
      "text/plain": [
       "<IPython.core.display.HTML object>"
      ]
     },
     "metadata": {},
     "output_type": "display_data"
    },
    {
     "data": {
      "text/html": [
       "<span style=\"color:cyan\"> |-Trial ID: f9afcde4defb16ba9c8945b4bdefaf9f</span>"
      ],
      "text/plain": [
       "<IPython.core.display.HTML object>"
      ]
     },
     "metadata": {},
     "output_type": "display_data"
    },
    {
     "data": {
      "text/html": [
       "<span style=\"color:cyan\"> |-Score: 0.4215263823668162</span>"
      ],
      "text/plain": [
       "<IPython.core.display.HTML object>"
      ]
     },
     "metadata": {},
     "output_type": "display_data"
    },
    {
     "data": {
      "text/html": [
       "<span style=\"color:cyan\"> |-Best step: 0</span>"
      ],
      "text/plain": [
       "<IPython.core.display.HTML object>"
      ]
     },
     "metadata": {},
     "output_type": "display_data"
    },
    {
     "data": {
      "text/html": [
       "<span style=\"color:#7E57C2\"><h2 style=\"font-size:16px\">Hyperparameters:</h2></span>"
      ],
      "text/plain": [
       "<IPython.core.display.HTML object>"
      ]
     },
     "metadata": {},
     "output_type": "display_data"
    },
    {
     "data": {
      "text/html": [
       "<span style=\"color:cyan\"> |-learning_rate: 0.0001</span>"
      ],
      "text/plain": [
       "<IPython.core.display.HTML object>"
      ]
     },
     "metadata": {},
     "output_type": "display_data"
    },
    {
     "data": {
      "text/html": [
       "<span style=\"color:blue\"> |-unitsl1: 460</span>"
      ],
      "text/plain": [
       "<IPython.core.display.HTML object>"
      ]
     },
     "metadata": {},
     "output_type": "display_data"
    },
    {
     "data": {
      "text/html": [
       "<span style=\"color:cyan\"> |-unitsl2: 5</span>"
      ],
      "text/plain": [
       "<IPython.core.display.HTML object>"
      ]
     },
     "metadata": {},
     "output_type": "display_data"
    },
    {
     "name": "stdout",
     "output_type": "stream",
     "text": [
      "Epoch 1/5\n",
      "321/321 - 1s - loss: 2.7725 - acc: 0.2674 - val_loss: 1.3864 - val_acc: 0.2773\n",
      "Epoch 2/5\n",
      "321/321 - 1s - loss: 1.3769 - acc: 0.2794 - val_loss: 1.3698 - val_acc: 0.2759\n",
      "Epoch 3/5\n",
      "321/321 - 1s - loss: 1.4759 - acc: 0.2793 - val_loss: 1.3685 - val_acc: 0.2728\n",
      "Epoch 4/5\n",
      "321/321 - 1s - loss: 1.3670 - acc: 0.2754 - val_loss: 1.3671 - val_acc: 0.2728\n",
      "Epoch 5/5\n",
      "321/321 - 1s - loss: 1.3659 - acc: 0.2749 - val_loss: 1.3663 - val_acc: 0.2773\n",
      "Epoch 1/5\n",
      "321/321 - 1s - loss: 3.6933 - acc: 0.2790 - val_loss: 1.3830 - val_acc: 0.2831\n",
      "Epoch 2/5\n",
      "321/321 - 1s - loss: 1.3831 - acc: 0.2856 - val_loss: 1.3345 - val_acc: 0.3249\n",
      "Epoch 3/5\n",
      "321/321 - 1s - loss: 1.3645 - acc: 0.2836 - val_loss: 1.3656 - val_acc: 0.2765\n",
      "Epoch 4/5\n",
      "321/321 - 1s - loss: 1.3631 - acc: 0.2846 - val_loss: 1.3653 - val_acc: 0.2773\n",
      "Epoch 5/5\n",
      "321/321 - 1s - loss: 1.3635 - acc: 0.2773 - val_loss: 1.3638 - val_acc: 0.2751\n",
      "Epoch 1/5\n",
      "321/321 - 1s - loss: 4.0652 - acc: 0.2869 - val_loss: 1.3805 - val_acc: 0.2861\n",
      "Epoch 2/5\n",
      "321/321 - 1s - loss: 1.3778 - acc: 0.2906 - val_loss: 1.3712 - val_acc: 0.2763\n",
      "Epoch 3/5\n",
      "321/321 - 1s - loss: 1.3670 - acc: 0.2808 - val_loss: 1.3646 - val_acc: 0.2771\n",
      "Epoch 4/5\n",
      "321/321 - 1s - loss: 1.3577 - acc: 0.2845 - val_loss: 1.3594 - val_acc: 0.2798\n",
      "Epoch 5/5\n",
      "321/321 - 1s - loss: 1.3517 - acc: 0.2897 - val_loss: 1.3611 - val_acc: 0.2774\n"
     ]
    },
    {
     "data": {
      "text/html": [
       "<span style=\"color:#4527A0\"><h1 style=\"font-size:18px\">Trial complete</h1></span>"
      ],
      "text/plain": [
       "<IPython.core.display.HTML object>"
      ]
     },
     "metadata": {},
     "output_type": "display_data"
    },
    {
     "data": {
      "text/html": [
       "<span style=\"color:#4527A0\"><h1 style=\"font-size:18px\">Trial summary</h1></span>"
      ],
      "text/plain": [
       "<IPython.core.display.HTML object>"
      ]
     },
     "metadata": {},
     "output_type": "display_data"
    },
    {
     "data": {
      "text/html": [
       "<span style=\"color:cyan\"> |-Trial ID: 00bb6ec625287cbbd47e2fa34c7debfa</span>"
      ],
      "text/plain": [
       "<IPython.core.display.HTML object>"
      ]
     },
     "metadata": {},
     "output_type": "display_data"
    },
    {
     "data": {
      "text/html": [
       "<span style=\"color:cyan\"> |-Score: 0.2960817515850067</span>"
      ],
      "text/plain": [
       "<IPython.core.display.HTML object>"
      ]
     },
     "metadata": {},
     "output_type": "display_data"
    },
    {
     "data": {
      "text/html": [
       "<span style=\"color:cyan\"> |-Best step: 0</span>"
      ],
      "text/plain": [
       "<IPython.core.display.HTML object>"
      ]
     },
     "metadata": {},
     "output_type": "display_data"
    },
    {
     "data": {
      "text/html": [
       "<span style=\"color:#7E57C2\"><h2 style=\"font-size:16px\">Hyperparameters:</h2></span>"
      ],
      "text/plain": [
       "<IPython.core.display.HTML object>"
      ]
     },
     "metadata": {},
     "output_type": "display_data"
    },
    {
     "data": {
      "text/html": [
       "<span style=\"color:cyan\"> |-learning_rate: 0.01</span>"
      ],
      "text/plain": [
       "<IPython.core.display.HTML object>"
      ]
     },
     "metadata": {},
     "output_type": "display_data"
    },
    {
     "data": {
      "text/html": [
       "<span style=\"color:blue\"> |-unitsl1: 370</span>"
      ],
      "text/plain": [
       "<IPython.core.display.HTML object>"
      ]
     },
     "metadata": {},
     "output_type": "display_data"
    },
    {
     "data": {
      "text/html": [
       "<span style=\"color:cyan\"> |-unitsl2: 20</span>"
      ],
      "text/plain": [
       "<IPython.core.display.HTML object>"
      ]
     },
     "metadata": {},
     "output_type": "display_data"
    },
    {
     "name": "stdout",
     "output_type": "stream",
     "text": [
      "Epoch 1/5\n",
      "321/321 - 1s - loss: 14.6751 - acc: 0.2848 - val_loss: 1.3191 - val_acc: 0.3329\n",
      "Epoch 2/5\n",
      "321/321 - 1s - loss: 1.2565 - acc: 0.3619 - val_loss: 1.2091 - val_acc: 0.4056\n",
      "Epoch 3/5\n",
      "321/321 - 1s - loss: 1.1710 - acc: 0.4495 - val_loss: 1.1310 - val_acc: 0.5155\n",
      "Epoch 4/5\n",
      "321/321 - 1s - loss: 1.0823 - acc: 0.5102 - val_loss: 1.0410 - val_acc: 0.5311\n",
      "Epoch 5/5\n",
      "321/321 - 1s - loss: 0.9799 - acc: 0.5786 - val_loss: 0.9315 - val_acc: 0.5901\n",
      "Epoch 1/5\n",
      "321/321 - 1s - loss: 11.2255 - acc: 0.2616 - val_loss: 1.2800 - val_acc: 0.2843\n",
      "Epoch 2/5\n",
      "321/321 - 1s - loss: 1.2436 - acc: 0.3337 - val_loss: 1.2081 - val_acc: 0.3819\n",
      "Epoch 3/5\n",
      "321/321 - 1s - loss: 1.1740 - acc: 0.4258 - val_loss: 1.1422 - val_acc: 0.4514\n",
      "Epoch 4/5\n",
      "321/321 - 1s - loss: 1.1036 - acc: 0.5054 - val_loss: 1.0687 - val_acc: 0.5455\n",
      "Epoch 5/5\n",
      "321/321 - 1s - loss: 1.0266 - acc: 0.5744 - val_loss: 0.9887 - val_acc: 0.5868\n",
      "Epoch 1/5\n",
      "321/321 - 1s - loss: 1.6139 - acc: 0.2733 - val_loss: 1.2617 - val_acc: 0.3028\n",
      "Epoch 2/5\n",
      "321/321 - 1s - loss: 1.2105 - acc: 0.3649 - val_loss: 1.1682 - val_acc: 0.4123\n",
      "Epoch 3/5\n",
      "321/321 - 1s - loss: 1.1073 - acc: 0.4934 - val_loss: 1.0516 - val_acc: 0.5656\n",
      "Epoch 4/5\n",
      "321/321 - 1s - loss: 0.9927 - acc: 0.6054 - val_loss: 0.9372 - val_acc: 0.6204\n",
      "Epoch 5/5\n",
      "321/321 - 1s - loss: 0.8921 - acc: 0.6658 - val_loss: 0.8483 - val_acc: 0.7405\n"
     ]
    },
    {
     "data": {
      "text/html": [
       "<span style=\"color:#4527A0\"><h1 style=\"font-size:18px\">Trial complete</h1></span>"
      ],
      "text/plain": [
       "<IPython.core.display.HTML object>"
      ]
     },
     "metadata": {},
     "output_type": "display_data"
    },
    {
     "data": {
      "text/html": [
       "<span style=\"color:#4527A0\"><h1 style=\"font-size:18px\">Trial summary</h1></span>"
      ],
      "text/plain": [
       "<IPython.core.display.HTML object>"
      ]
     },
     "metadata": {},
     "output_type": "display_data"
    },
    {
     "data": {
      "text/html": [
       "<span style=\"color:cyan\"> |-Trial ID: f1fad31902ebe46613348b21989fc2b3</span>"
      ],
      "text/plain": [
       "<IPython.core.display.HTML object>"
      ]
     },
     "metadata": {},
     "output_type": "display_data"
    },
    {
     "data": {
      "text/html": [
       "<span style=\"color:cyan\"> |-Score: 0.6391449570655823</span>"
      ],
      "text/plain": [
       "<IPython.core.display.HTML object>"
      ]
     },
     "metadata": {},
     "output_type": "display_data"
    },
    {
     "data": {
      "text/html": [
       "<span style=\"color:cyan\"> |-Best step: 0</span>"
      ],
      "text/plain": [
       "<IPython.core.display.HTML object>"
      ]
     },
     "metadata": {},
     "output_type": "display_data"
    },
    {
     "data": {
      "text/html": [
       "<span style=\"color:#7E57C2\"><h2 style=\"font-size:16px\">Hyperparameters:</h2></span>"
      ],
      "text/plain": [
       "<IPython.core.display.HTML object>"
      ]
     },
     "metadata": {},
     "output_type": "display_data"
    },
    {
     "data": {
      "text/html": [
       "<span style=\"color:cyan\"> |-learning_rate: 0.0001</span>"
      ],
      "text/plain": [
       "<IPython.core.display.HTML object>"
      ]
     },
     "metadata": {},
     "output_type": "display_data"
    },
    {
     "data": {
      "text/html": [
       "<span style=\"color:blue\"> |-unitsl1: 250</span>"
      ],
      "text/plain": [
       "<IPython.core.display.HTML object>"
      ]
     },
     "metadata": {},
     "output_type": "display_data"
    },
    {
     "data": {
      "text/html": [
       "<span style=\"color:cyan\"> |-unitsl2: 35</span>"
      ],
      "text/plain": [
       "<IPython.core.display.HTML object>"
      ]
     },
     "metadata": {},
     "output_type": "display_data"
    },
    {
     "name": "stdout",
     "output_type": "stream",
     "text": [
      "Epoch 1/5\n",
      "321/321 - 1s - loss: 2.2023 - acc: 0.3721 - val_loss: 1.1447 - val_acc: 0.4928\n",
      "Epoch 2/5\n",
      "321/321 - 1s - loss: 0.9821 - acc: 0.5655 - val_loss: 1.0938 - val_acc: 0.6203\n",
      "Epoch 3/5\n",
      "321/321 - 1s - loss: 0.7761 - acc: 0.6603 - val_loss: 0.7092 - val_acc: 0.6707\n",
      "Epoch 4/5\n",
      "321/321 - 1s - loss: 0.6650 - acc: 0.7153 - val_loss: 0.6923 - val_acc: 0.6643\n",
      "Epoch 5/5\n",
      "321/321 - 1s - loss: 0.6276 - acc: 0.7288 - val_loss: 0.5638 - val_acc: 0.7574\n",
      "Epoch 1/5\n",
      "321/321 - 1s - loss: 3.2895 - acc: 0.4070 - val_loss: 1.6375 - val_acc: 0.4090\n",
      "Epoch 2/5\n",
      "321/321 - 1s - loss: 1.2634 - acc: 0.5767 - val_loss: 0.8637 - val_acc: 0.6387\n",
      "Epoch 3/5\n",
      "321/321 - 1s - loss: 0.7509 - acc: 0.6777 - val_loss: 0.6357 - val_acc: 0.7672\n",
      "Epoch 4/5\n",
      "321/321 - 1s - loss: 0.7180 - acc: 0.6834 - val_loss: 0.6168 - val_acc: 0.7174\n",
      "Epoch 5/5\n",
      "321/321 - 1s - loss: 0.6516 - acc: 0.7118 - val_loss: 0.5727 - val_acc: 0.7456\n",
      "Epoch 1/5\n",
      "321/321 - 1s - loss: 2.2818 - acc: 0.4081 - val_loss: 1.1572 - val_acc: 0.5846\n",
      "Epoch 2/5\n",
      "321/321 - 2s - loss: 0.9878 - acc: 0.5969 - val_loss: 0.7663 - val_acc: 0.7704\n",
      "Epoch 3/5\n",
      "321/321 - 1s - loss: 0.7381 - acc: 0.6987 - val_loss: 0.6859 - val_acc: 0.6679\n",
      "Epoch 4/5\n",
      "321/321 - 1s - loss: 0.6552 - acc: 0.7244 - val_loss: 0.5851 - val_acc: 0.7626\n",
      "Epoch 5/5\n",
      "321/321 - 1s - loss: 0.6100 - acc: 0.7398 - val_loss: 0.6523 - val_acc: 0.6964\n"
     ]
    },
    {
     "data": {
      "text/html": [
       "<span style=\"color:#4527A0\"><h1 style=\"font-size:18px\">Trial complete</h1></span>"
      ],
      "text/plain": [
       "<IPython.core.display.HTML object>"
      ]
     },
     "metadata": {},
     "output_type": "display_data"
    },
    {
     "data": {
      "text/html": [
       "<span style=\"color:#4527A0\"><h1 style=\"font-size:18px\">Trial summary</h1></span>"
      ],
      "text/plain": [
       "<IPython.core.display.HTML object>"
      ]
     },
     "metadata": {},
     "output_type": "display_data"
    },
    {
     "data": {
      "text/html": [
       "<span style=\"color:cyan\"> |-Trial ID: 33440a76c364fc0c7ca8eb5690abf9c9</span>"
      ],
      "text/plain": [
       "<IPython.core.display.HTML object>"
      ]
     },
     "metadata": {},
     "output_type": "display_data"
    },
    {
     "data": {
      "text/html": [
       "<span style=\"color:cyan\"> |-Score: 0.7650070985158285</span>"
      ],
      "text/plain": [
       "<IPython.core.display.HTML object>"
      ]
     },
     "metadata": {},
     "output_type": "display_data"
    },
    {
     "data": {
      "text/html": [
       "<span style=\"color:cyan\"> |-Best step: 0</span>"
      ],
      "text/plain": [
       "<IPython.core.display.HTML object>"
      ]
     },
     "metadata": {},
     "output_type": "display_data"
    },
    {
     "data": {
      "text/html": [
       "<span style=\"color:#7E57C2\"><h2 style=\"font-size:16px\">Hyperparameters:</h2></span>"
      ],
      "text/plain": [
       "<IPython.core.display.HTML object>"
      ]
     },
     "metadata": {},
     "output_type": "display_data"
    },
    {
     "data": {
      "text/html": [
       "<span style=\"color:cyan\"> |-learning_rate: 0.001</span>"
      ],
      "text/plain": [
       "<IPython.core.display.HTML object>"
      ]
     },
     "metadata": {},
     "output_type": "display_data"
    },
    {
     "data": {
      "text/html": [
       "<span style=\"color:blue\"> |-unitsl1: 220</span>"
      ],
      "text/plain": [
       "<IPython.core.display.HTML object>"
      ]
     },
     "metadata": {},
     "output_type": "display_data"
    },
    {
     "data": {
      "text/html": [
       "<span style=\"color:cyan\"> |-unitsl2: 30</span>"
      ],
      "text/plain": [
       "<IPython.core.display.HTML object>"
      ]
     },
     "metadata": {},
     "output_type": "display_data"
    },
    {
     "name": "stdout",
     "output_type": "stream",
     "text": [
      "Epoch 1/5\n",
      "321/321 - 1s - loss: 3.7112 - acc: 0.3587 - val_loss: 1.1131 - val_acc: 0.4825\n",
      "Epoch 2/5\n",
      "321/321 - 1s - loss: 0.9188 - acc: 0.6121 - val_loss: 0.7671 - val_acc: 0.7024\n",
      "Epoch 3/5\n",
      "321/321 - 1s - loss: 0.7096 - acc: 0.7040 - val_loss: 0.6571 - val_acc: 0.7346\n",
      "Epoch 4/5\n",
      "321/321 - 1s - loss: 0.6093 - acc: 0.7571 - val_loss: 0.5774 - val_acc: 0.7725\n",
      "Epoch 5/5\n",
      "321/321 - 1s - loss: 0.5779 - acc: 0.7573 - val_loss: 0.5500 - val_acc: 0.7739\n",
      "Epoch 1/5\n",
      "321/321 - 1s - loss: 6.5519 - acc: 0.3598 - val_loss: 1.1675 - val_acc: 0.4414\n",
      "Epoch 2/5\n",
      "321/321 - 1s - loss: 1.0628 - acc: 0.5236 - val_loss: 0.9922 - val_acc: 0.6133\n",
      "Epoch 3/5\n",
      "321/321 - 1s - loss: 0.9425 - acc: 0.6159 - val_loss: 0.9239 - val_acc: 0.5524\n",
      "Epoch 4/5\n",
      "321/321 - 1s - loss: 0.8356 - acc: 0.6488 - val_loss: 1.0399 - val_acc: 0.6407\n",
      "Epoch 5/5\n",
      "321/321 - 1s - loss: 0.8271 - acc: 0.6620 - val_loss: 0.6906 - val_acc: 0.6901\n",
      "Epoch 1/5\n",
      "321/321 - 1s - loss: 4.7442 - acc: 0.3155 - val_loss: 1.1938 - val_acc: 0.3944\n",
      "Epoch 2/5\n",
      "321/321 - 1s - loss: 1.0250 - acc: 0.5344 - val_loss: 0.8602 - val_acc: 0.6373\n",
      "Epoch 3/5\n",
      "321/321 - 1s - loss: 0.7402 - acc: 0.7115 - val_loss: 0.6655 - val_acc: 0.7333\n",
      "Epoch 4/5\n",
      "321/321 - 1s - loss: 0.6299 - acc: 0.7496 - val_loss: 0.5851 - val_acc: 0.7833\n",
      "Epoch 5/5\n",
      "321/321 - 1s - loss: 0.5884 - acc: 0.7567 - val_loss: 0.5993 - val_acc: 0.7483\n"
     ]
    },
    {
     "data": {
      "text/html": [
       "<span style=\"color:#4527A0\"><h1 style=\"font-size:18px\">Trial complete</h1></span>"
      ],
      "text/plain": [
       "<IPython.core.display.HTML object>"
      ]
     },
     "metadata": {},
     "output_type": "display_data"
    },
    {
     "data": {
      "text/html": [
       "<span style=\"color:#4527A0\"><h1 style=\"font-size:18px\">Trial summary</h1></span>"
      ],
      "text/plain": [
       "<IPython.core.display.HTML object>"
      ]
     },
     "metadata": {},
     "output_type": "display_data"
    },
    {
     "data": {
      "text/html": [
       "<span style=\"color:cyan\"> |-Trial ID: dcb27e6bfd455f26e5fc0e2ebce6ea2c</span>"
      ],
      "text/plain": [
       "<IPython.core.display.HTML object>"
      ]
     },
     "metadata": {},
     "output_type": "display_data"
    },
    {
     "data": {
      "text/html": [
       "<span style=\"color:cyan\"> |-Score: 0.7491169770558676</span>"
      ],
      "text/plain": [
       "<IPython.core.display.HTML object>"
      ]
     },
     "metadata": {},
     "output_type": "display_data"
    },
    {
     "data": {
      "text/html": [
       "<span style=\"color:cyan\"> |-Best step: 0</span>"
      ],
      "text/plain": [
       "<IPython.core.display.HTML object>"
      ]
     },
     "metadata": {},
     "output_type": "display_data"
    },
    {
     "data": {
      "text/html": [
       "<span style=\"color:#7E57C2\"><h2 style=\"font-size:16px\">Hyperparameters:</h2></span>"
      ],
      "text/plain": [
       "<IPython.core.display.HTML object>"
      ]
     },
     "metadata": {},
     "output_type": "display_data"
    },
    {
     "data": {
      "text/html": [
       "<span style=\"color:cyan\"> |-learning_rate: 0.001</span>"
      ],
      "text/plain": [
       "<IPython.core.display.HTML object>"
      ]
     },
     "metadata": {},
     "output_type": "display_data"
    },
    {
     "data": {
      "text/html": [
       "<span style=\"color:blue\"> |-unitsl1: 40</span>"
      ],
      "text/plain": [
       "<IPython.core.display.HTML object>"
      ]
     },
     "metadata": {},
     "output_type": "display_data"
    },
    {
     "data": {
      "text/html": [
       "<span style=\"color:cyan\"> |-unitsl2: 30</span>"
      ],
      "text/plain": [
       "<IPython.core.display.HTML object>"
      ]
     },
     "metadata": {},
     "output_type": "display_data"
    },
    {
     "name": "stdout",
     "output_type": "stream",
     "text": [
      "Epoch 1/5\n",
      "321/321 - 1s - loss: 2.0016 - acc: 0.2719 - val_loss: 1.2846 - val_acc: 0.3061\n",
      "Epoch 2/5\n",
      "321/321 - 1s - loss: 1.2496 - acc: 0.3220 - val_loss: 1.2191 - val_acc: 0.3756\n",
      "Epoch 3/5\n",
      "321/321 - 1s - loss: 1.1866 - acc: 0.3786 - val_loss: 1.1560 - val_acc: 0.3868\n",
      "Epoch 4/5\n",
      "321/321 - 1s - loss: 1.1252 - acc: 0.4514 - val_loss: 1.0914 - val_acc: 0.4964\n",
      "Epoch 5/5\n",
      "321/321 - 1s - loss: 1.0539 - acc: 0.5413 - val_loss: 1.0112 - val_acc: 0.5936\n",
      "Epoch 1/5\n",
      "321/321 - 1s - loss: 38.4989 - acc: 0.2807 - val_loss: 1.4831 - val_acc: 0.2433\n",
      "Epoch 2/5\n",
      "321/321 - 1s - loss: 1.3247 - acc: 0.2971 - val_loss: 1.2678 - val_acc: 0.3314\n",
      "Epoch 3/5\n",
      "321/321 - 1s - loss: 1.2318 - acc: 0.3546 - val_loss: 1.2039 - val_acc: 0.4193\n",
      "Epoch 4/5\n",
      "321/321 - 1s - loss: 1.1770 - acc: 0.4343 - val_loss: 1.1520 - val_acc: 0.4807\n",
      "Epoch 5/5\n",
      "321/321 - 1s - loss: 1.1219 - acc: 0.4806 - val_loss: 1.0919 - val_acc: 0.4934\n",
      "Epoch 1/5\n",
      "321/321 - 1s - loss: 8.6911 - acc: 0.2612 - val_loss: 1.5073 - val_acc: 0.2900\n",
      "Epoch 2/5\n",
      "321/321 - 1s - loss: 1.3972 - acc: 0.2991 - val_loss: 1.2893 - val_acc: 0.3168\n",
      "Epoch 3/5\n",
      "321/321 - 1s - loss: 1.2386 - acc: 0.3487 - val_loss: 1.1948 - val_acc: 0.4008\n",
      "Epoch 4/5\n",
      "321/321 - 1s - loss: 1.1616 - acc: 0.4399 - val_loss: 1.1318 - val_acc: 0.5171\n",
      "Epoch 5/5\n",
      "321/321 - 1s - loss: 1.1025 - acc: 0.5123 - val_loss: 1.0812 - val_acc: 0.5354\n"
     ]
    },
    {
     "data": {
      "text/html": [
       "<span style=\"color:#4527A0\"><h1 style=\"font-size:18px\">Trial complete</h1></span>"
      ],
      "text/plain": [
       "<IPython.core.display.HTML object>"
      ]
     },
     "metadata": {},
     "output_type": "display_data"
    },
    {
     "data": {
      "text/html": [
       "<span style=\"color:#4527A0\"><h1 style=\"font-size:18px\">Trial summary</h1></span>"
      ],
      "text/plain": [
       "<IPython.core.display.HTML object>"
      ]
     },
     "metadata": {},
     "output_type": "display_data"
    },
    {
     "data": {
      "text/html": [
       "<span style=\"color:cyan\"> |-Trial ID: fd1d2876036b652014684afd8d3a9919</span>"
      ],
      "text/plain": [
       "<IPython.core.display.HTML object>"
      ]
     },
     "metadata": {},
     "output_type": "display_data"
    },
    {
     "data": {
      "text/html": [
       "<span style=\"color:cyan\"> |-Score: 0.5408358375231425</span>"
      ],
      "text/plain": [
       "<IPython.core.display.HTML object>"
      ]
     },
     "metadata": {},
     "output_type": "display_data"
    },
    {
     "data": {
      "text/html": [
       "<span style=\"color:cyan\"> |-Best step: 0</span>"
      ],
      "text/plain": [
       "<IPython.core.display.HTML object>"
      ]
     },
     "metadata": {},
     "output_type": "display_data"
    },
    {
     "data": {
      "text/html": [
       "<span style=\"color:#7E57C2\"><h2 style=\"font-size:16px\">Hyperparameters:</h2></span>"
      ],
      "text/plain": [
       "<IPython.core.display.HTML object>"
      ]
     },
     "metadata": {},
     "output_type": "display_data"
    },
    {
     "data": {
      "text/html": [
       "<span style=\"color:cyan\"> |-learning_rate: 0.0001</span>"
      ],
      "text/plain": [
       "<IPython.core.display.HTML object>"
      ]
     },
     "metadata": {},
     "output_type": "display_data"
    },
    {
     "data": {
      "text/html": [
       "<span style=\"color:blue\"> |-unitsl1: 100</span>"
      ],
      "text/plain": [
       "<IPython.core.display.HTML object>"
      ]
     },
     "metadata": {},
     "output_type": "display_data"
    },
    {
     "data": {
      "text/html": [
       "<span style=\"color:cyan\"> |-unitsl2: 30</span>"
      ],
      "text/plain": [
       "<IPython.core.display.HTML object>"
      ]
     },
     "metadata": {},
     "output_type": "display_data"
    },
    {
     "name": "stdout",
     "output_type": "stream",
     "text": [
      "Epoch 1/5\n",
      "321/321 - 1s - loss: 2.4405 - acc: 0.3239 - val_loss: 1.2120 - val_acc: 0.4724\n",
      "Epoch 2/5\n",
      "321/321 - 1s - loss: 1.5872 - acc: 0.4204 - val_loss: 0.9808 - val_acc: 0.4636\n",
      "Epoch 3/5\n",
      "321/321 - 1s - loss: 0.9880 - acc: 0.5650 - val_loss: 1.4547 - val_acc: 0.4579\n",
      "Epoch 4/5\n",
      "321/321 - 1s - loss: 0.9226 - acc: 0.6073 - val_loss: 0.6786 - val_acc: 0.7523\n",
      "Epoch 5/5\n",
      "321/321 - 1s - loss: 0.7160 - acc: 0.6926 - val_loss: 0.6479 - val_acc: 0.6840\n",
      "Epoch 1/5\n",
      "321/321 - 1s - loss: 2.5130 - acc: 0.3690 - val_loss: 1.0580 - val_acc: 0.5127\n",
      "Epoch 2/5\n",
      "321/321 - 1s - loss: 0.9293 - acc: 0.5815 - val_loss: 0.7832 - val_acc: 0.6780\n",
      "Epoch 3/5\n",
      "321/321 - 1s - loss: 0.7349 - acc: 0.6830 - val_loss: 0.6481 - val_acc: 0.6979\n",
      "Epoch 4/5\n",
      "321/321 - 2s - loss: 0.6209 - acc: 0.7354 - val_loss: 0.5595 - val_acc: 0.7778\n",
      "Epoch 5/5\n",
      "321/321 - 1s - loss: 0.5864 - acc: 0.7525 - val_loss: 0.5396 - val_acc: 0.7867\n",
      "Epoch 1/5\n",
      "321/321 - 1s - loss: 2.3486 - acc: 0.3348 - val_loss: 1.1983 - val_acc: 0.4691\n",
      "Epoch 2/5\n",
      "321/321 - 1s - loss: 1.2115 - acc: 0.5273 - val_loss: 0.9919 - val_acc: 0.6143\n",
      "Epoch 3/5\n",
      "321/321 - 1s - loss: 1.4995 - acc: 0.5575 - val_loss: 0.8869 - val_acc: 0.5360\n",
      "Epoch 4/5\n",
      "321/321 - 1s - loss: 0.8545 - acc: 0.6458 - val_loss: 0.9993 - val_acc: 0.5402\n",
      "Epoch 5/5\n",
      "321/321 - 1s - loss: 0.7886 - acc: 0.6668 - val_loss: 0.7188 - val_acc: 0.6761\n"
     ]
    },
    {
     "data": {
      "text/html": [
       "<span style=\"color:#4527A0\"><h1 style=\"font-size:18px\">Trial complete</h1></span>"
      ],
      "text/plain": [
       "<IPython.core.display.HTML object>"
      ]
     },
     "metadata": {},
     "output_type": "display_data"
    },
    {
     "data": {
      "text/html": [
       "<span style=\"color:#4527A0\"><h1 style=\"font-size:18px\">Trial summary</h1></span>"
      ],
      "text/plain": [
       "<IPython.core.display.HTML object>"
      ]
     },
     "metadata": {},
     "output_type": "display_data"
    },
    {
     "data": {
      "text/html": [
       "<span style=\"color:cyan\"> |-Trial ID: 53bd2f169df006b9c11596047499f2b8</span>"
      ],
      "text/plain": [
       "<IPython.core.display.HTML object>"
      ]
     },
     "metadata": {},
     "output_type": "display_data"
    },
    {
     "data": {
      "text/html": [
       "<span style=\"color:cyan\"> |-Score: 0.7383516828219095</span>"
      ],
      "text/plain": [
       "<IPython.core.display.HTML object>"
      ]
     },
     "metadata": {},
     "output_type": "display_data"
    },
    {
     "data": {
      "text/html": [
       "<span style=\"color:cyan\"> |-Best step: 0</span>"
      ],
      "text/plain": [
       "<IPython.core.display.HTML object>"
      ]
     },
     "metadata": {},
     "output_type": "display_data"
    },
    {
     "data": {
      "text/html": [
       "<span style=\"color:#7E57C2\"><h2 style=\"font-size:16px\">Hyperparameters:</h2></span>"
      ],
      "text/plain": [
       "<IPython.core.display.HTML object>"
      ]
     },
     "metadata": {},
     "output_type": "display_data"
    },
    {
     "data": {
      "text/html": [
       "<span style=\"color:cyan\"> |-learning_rate: 0.001</span>"
      ],
      "text/plain": [
       "<IPython.core.display.HTML object>"
      ]
     },
     "metadata": {},
     "output_type": "display_data"
    },
    {
     "data": {
      "text/html": [
       "<span style=\"color:blue\"> |-unitsl1: 370</span>"
      ],
      "text/plain": [
       "<IPython.core.display.HTML object>"
      ]
     },
     "metadata": {},
     "output_type": "display_data"
    },
    {
     "data": {
      "text/html": [
       "<span style=\"color:cyan\"> |-unitsl2: 40</span>"
      ],
      "text/plain": [
       "<IPython.core.display.HTML object>"
      ]
     },
     "metadata": {},
     "output_type": "display_data"
    },
    {
     "name": "stdout",
     "output_type": "stream",
     "text": [
      "Epoch 1/5\n",
      "321/321 - 1s - loss: 3.2495 - acc: 0.2975 - val_loss: 1.2295 - val_acc: 0.3332\n",
      "Epoch 2/5\n",
      "321/321 - 1s - loss: 1.1690 - acc: 0.4332 - val_loss: 1.1019 - val_acc: 0.5298\n",
      "Epoch 3/5\n",
      "321/321 - 1s - loss: 1.0368 - acc: 0.5621 - val_loss: 0.9700 - val_acc: 0.5817\n",
      "Epoch 4/5\n",
      "321/321 - 1s - loss: 0.9160 - acc: 0.6426 - val_loss: 0.8817 - val_acc: 0.6241\n",
      "Epoch 5/5\n",
      "321/321 - 1s - loss: 0.8215 - acc: 0.6912 - val_loss: 0.7807 - val_acc: 0.7329\n",
      "Epoch 1/5\n",
      "321/321 - 1s - loss: 4.1745 - acc: 0.2891 - val_loss: 1.2710 - val_acc: 0.3172\n",
      "Epoch 2/5\n",
      "321/321 - 1s - loss: 1.2172 - acc: 0.3584 - val_loss: 1.1593 - val_acc: 0.4086\n",
      "Epoch 3/5\n",
      "321/321 - 1s - loss: 1.1068 - acc: 0.4785 - val_loss: 1.0511 - val_acc: 0.5604\n",
      "Epoch 4/5\n",
      "321/321 - 1s - loss: 1.0050 - acc: 0.5971 - val_loss: 0.9585 - val_acc: 0.6022\n",
      "Epoch 5/5\n",
      "321/321 - 1s - loss: 0.9184 - acc: 0.6483 - val_loss: 0.8839 - val_acc: 0.6166\n",
      "Epoch 1/5\n",
      "321/321 - 1s - loss: 3.9391 - acc: 0.2785 - val_loss: 1.2520 - val_acc: 0.3360\n",
      "Epoch 2/5\n",
      "321/321 - 1s - loss: 1.1972 - acc: 0.4018 - val_loss: 1.1446 - val_acc: 0.5232\n",
      "Epoch 3/5\n",
      "321/321 - 1s - loss: 1.0784 - acc: 0.5272 - val_loss: 1.0257 - val_acc: 0.6091\n",
      "Epoch 4/5\n",
      "321/321 - 1s - loss: 0.9556 - acc: 0.6147 - val_loss: 0.8983 - val_acc: 0.6110\n",
      "Epoch 5/5\n",
      "321/321 - 1s - loss: 0.8517 - acc: 0.6748 - val_loss: 0.8011 - val_acc: 0.7320\n"
     ]
    },
    {
     "data": {
      "text/html": [
       "<span style=\"color:#4527A0\"><h1 style=\"font-size:18px\">Trial complete</h1></span>"
      ],
      "text/plain": [
       "<IPython.core.display.HTML object>"
      ]
     },
     "metadata": {},
     "output_type": "display_data"
    },
    {
     "data": {
      "text/html": [
       "<span style=\"color:#4527A0\"><h1 style=\"font-size:18px\">Trial summary</h1></span>"
      ],
      "text/plain": [
       "<IPython.core.display.HTML object>"
      ]
     },
     "metadata": {},
     "output_type": "display_data"
    },
    {
     "data": {
      "text/html": [
       "<span style=\"color:cyan\"> |-Trial ID: a085768977de3b52e5de450fb528241a</span>"
      ],
      "text/plain": [
       "<IPython.core.display.HTML object>"
      ]
     },
     "metadata": {},
     "output_type": "display_data"
    },
    {
     "data": {
      "text/html": [
       "<span style=\"color:cyan\"> |-Score: 0.6938168207804362</span>"
      ],
      "text/plain": [
       "<IPython.core.display.HTML object>"
      ]
     },
     "metadata": {},
     "output_type": "display_data"
    },
    {
     "data": {
      "text/html": [
       "<span style=\"color:cyan\"> |-Best step: 0</span>"
      ],
      "text/plain": [
       "<IPython.core.display.HTML object>"
      ]
     },
     "metadata": {},
     "output_type": "display_data"
    },
    {
     "data": {
      "text/html": [
       "<span style=\"color:#7E57C2\"><h2 style=\"font-size:16px\">Hyperparameters:</h2></span>"
      ],
      "text/plain": [
       "<IPython.core.display.HTML object>"
      ]
     },
     "metadata": {},
     "output_type": "display_data"
    },
    {
     "data": {
      "text/html": [
       "<span style=\"color:cyan\"> |-learning_rate: 0.0001</span>"
      ],
      "text/plain": [
       "<IPython.core.display.HTML object>"
      ]
     },
     "metadata": {},
     "output_type": "display_data"
    },
    {
     "data": {
      "text/html": [
       "<span style=\"color:blue\"> |-unitsl1: 400</span>"
      ],
      "text/plain": [
       "<IPython.core.display.HTML object>"
      ]
     },
     "metadata": {},
     "output_type": "display_data"
    },
    {
     "data": {
      "text/html": [
       "<span style=\"color:cyan\"> |-unitsl2: 40</span>"
      ],
      "text/plain": [
       "<IPython.core.display.HTML object>"
      ]
     },
     "metadata": {},
     "output_type": "display_data"
    },
    {
     "name": "stdout",
     "output_type": "stream",
     "text": [
      "Epoch 1/5\n",
      "321/321 - 1s - loss: 5.0950 - acc: 0.4140 - val_loss: 1.2011 - val_acc: 0.4639\n",
      "Epoch 2/5\n",
      "321/321 - 1s - loss: 0.8342 - acc: 0.6905 - val_loss: 0.7496 - val_acc: 0.6682\n",
      "Epoch 3/5\n",
      "321/321 - 1s - loss: 0.6684 - acc: 0.7505 - val_loss: 0.6015 - val_acc: 0.7707\n",
      "Epoch 4/5\n",
      "321/321 - 1s - loss: 0.6139 - acc: 0.7422 - val_loss: 0.7931 - val_acc: 0.6228\n",
      "Epoch 5/5\n",
      "321/321 - 1s - loss: 0.5824 - acc: 0.7512 - val_loss: 0.5951 - val_acc: 0.7518\n",
      "Epoch 1/5\n",
      "321/321 - 1s - loss: 5.5648 - acc: 0.4206 - val_loss: 0.8862 - val_acc: 0.5665\n",
      "Epoch 2/5\n",
      "321/321 - 1s - loss: 0.8267 - acc: 0.6511 - val_loss: 0.7051 - val_acc: 0.6699\n",
      "Epoch 3/5\n",
      "321/321 - 1s - loss: 0.6423 - acc: 0.7158 - val_loss: 0.5855 - val_acc: 0.7332\n",
      "Epoch 4/5\n",
      "321/321 - 1s - loss: 0.5755 - acc: 0.7511 - val_loss: 0.5459 - val_acc: 0.7670\n",
      "Epoch 5/5\n",
      "321/321 - 1s - loss: 0.5724 - acc: 0.7499 - val_loss: 0.5534 - val_acc: 0.7629\n",
      "Epoch 1/5\n",
      "321/321 - 1s - loss: 3.9754 - acc: 0.4049 - val_loss: 0.9428 - val_acc: 0.5875\n",
      "Epoch 2/5\n",
      "321/321 - 1s - loss: 0.9078 - acc: 0.6106 - val_loss: 0.7272 - val_acc: 0.7464\n",
      "Epoch 3/5\n",
      "321/321 - 1s - loss: 0.8099 - acc: 0.7030 - val_loss: 0.5864 - val_acc: 0.7832\n",
      "Epoch 4/5\n",
      "321/321 - 1s - loss: 0.5698 - acc: 0.7700 - val_loss: 0.5830 - val_acc: 0.7230\n",
      "Epoch 5/5\n",
      "321/321 - 1s - loss: 0.5498 - acc: 0.7689 - val_loss: 0.5255 - val_acc: 0.7946\n"
     ]
    },
    {
     "data": {
      "text/html": [
       "<span style=\"color:#4527A0\"><h1 style=\"font-size:18px\">Trial complete</h1></span>"
      ],
      "text/plain": [
       "<IPython.core.display.HTML object>"
      ]
     },
     "metadata": {},
     "output_type": "display_data"
    },
    {
     "data": {
      "text/html": [
       "<span style=\"color:#4527A0\"><h1 style=\"font-size:18px\">Trial summary</h1></span>"
      ],
      "text/plain": [
       "<IPython.core.display.HTML object>"
      ]
     },
     "metadata": {},
     "output_type": "display_data"
    },
    {
     "data": {
      "text/html": [
       "<span style=\"color:cyan\"> |-Trial ID: 6bc1731d8009a3c0898a6123817239ab</span>"
      ],
      "text/plain": [
       "<IPython.core.display.HTML object>"
      ]
     },
     "metadata": {},
     "output_type": "display_data"
    },
    {
     "data": {
      "text/html": [
       "<span style=\"color:cyan\"> |-Score: 0.777452806631724</span>"
      ],
      "text/plain": [
       "<IPython.core.display.HTML object>"
      ]
     },
     "metadata": {},
     "output_type": "display_data"
    },
    {
     "data": {
      "text/html": [
       "<span style=\"color:cyan\"> |-Best step: 0</span>"
      ],
      "text/plain": [
       "<IPython.core.display.HTML object>"
      ]
     },
     "metadata": {},
     "output_type": "display_data"
    },
    {
     "data": {
      "text/html": [
       "<span style=\"color:#7E57C2\"><h2 style=\"font-size:16px\">Hyperparameters:</h2></span>"
      ],
      "text/plain": [
       "<IPython.core.display.HTML object>"
      ]
     },
     "metadata": {},
     "output_type": "display_data"
    },
    {
     "data": {
      "text/html": [
       "<span style=\"color:cyan\"> |-learning_rate: 0.01</span>"
      ],
      "text/plain": [
       "<IPython.core.display.HTML object>"
      ]
     },
     "metadata": {},
     "output_type": "display_data"
    },
    {
     "data": {
      "text/html": [
       "<span style=\"color:blue\"> |-unitsl1: 70</span>"
      ],
      "text/plain": [
       "<IPython.core.display.HTML object>"
      ]
     },
     "metadata": {},
     "output_type": "display_data"
    },
    {
     "data": {
      "text/html": [
       "<span style=\"color:cyan\"> |-unitsl2: 30</span>"
      ],
      "text/plain": [
       "<IPython.core.display.HTML object>"
      ]
     },
     "metadata": {},
     "output_type": "display_data"
    },
    {
     "name": "stdout",
     "output_type": "stream",
     "text": [
      "Epoch 1/5\n",
      "321/321 - 1s - loss: 2.3082 - acc: 0.3794 - val_loss: 1.0584 - val_acc: 0.4774\n",
      "Epoch 2/5\n",
      "321/321 - 1s - loss: 0.9636 - acc: 0.5901 - val_loss: 0.7786 - val_acc: 0.6806\n",
      "Epoch 3/5\n",
      "321/321 - 1s - loss: 0.7314 - acc: 0.6814 - val_loss: 0.6519 - val_acc: 0.6841\n",
      "Epoch 4/5\n",
      "321/321 - 1s - loss: 0.6155 - acc: 0.7385 - val_loss: 0.5733 - val_acc: 0.7514\n",
      "Epoch 5/5\n",
      "321/321 - 1s - loss: 0.6017 - acc: 0.7355 - val_loss: 0.5426 - val_acc: 0.7776\n",
      "Epoch 1/5\n",
      "321/321 - 1s - loss: 2.4888 - acc: 0.3692 - val_loss: 1.5756 - val_acc: 0.3289\n",
      "Epoch 2/5\n",
      "321/321 - 1s - loss: 1.0536 - acc: 0.6029 - val_loss: 0.8224 - val_acc: 0.6649\n",
      "Epoch 3/5\n",
      "321/321 - 1s - loss: 0.9080 - acc: 0.6276 - val_loss: 0.8690 - val_acc: 0.6333\n",
      "Epoch 4/5\n",
      "321/321 - 1s - loss: 0.7194 - acc: 0.6836 - val_loss: 0.6174 - val_acc: 0.7304\n",
      "Epoch 5/5\n",
      "321/321 - 1s - loss: 0.6644 - acc: 0.7094 - val_loss: 0.9678 - val_acc: 0.6288\n",
      "Epoch 1/5\n",
      "321/321 - 1s - loss: 1.8717 - acc: 0.3644 - val_loss: 1.8921 - val_acc: 0.3642\n",
      "Epoch 2/5\n",
      "321/321 - 1s - loss: 1.4360 - acc: 0.4862 - val_loss: 0.9338 - val_acc: 0.5186\n",
      "Epoch 3/5\n",
      "321/321 - 1s - loss: 1.0006 - acc: 0.5787 - val_loss: 0.7821 - val_acc: 0.6825\n",
      "Epoch 4/5\n",
      "321/321 - 1s - loss: 0.8198 - acc: 0.6458 - val_loss: 0.7305 - val_acc: 0.6772\n",
      "Epoch 5/5\n",
      "321/321 - 1s - loss: 0.7242 - acc: 0.6899 - val_loss: 0.5899 - val_acc: 0.7402\n"
     ]
    },
    {
     "data": {
      "text/html": [
       "<span style=\"color:#4527A0\"><h1 style=\"font-size:18px\">Trial complete</h1></span>"
      ],
      "text/plain": [
       "<IPython.core.display.HTML object>"
      ]
     },
     "metadata": {},
     "output_type": "display_data"
    },
    {
     "data": {
      "text/html": [
       "<span style=\"color:#4527A0\"><h1 style=\"font-size:18px\">Trial summary</h1></span>"
      ],
      "text/plain": [
       "<IPython.core.display.HTML object>"
      ]
     },
     "metadata": {},
     "output_type": "display_data"
    },
    {
     "data": {
      "text/html": [
       "<span style=\"color:cyan\"> |-Trial ID: 2e620e68566136619969ac4cd0284a23</span>"
      ],
      "text/plain": [
       "<IPython.core.display.HTML object>"
      ]
     },
     "metadata": {},
     "output_type": "display_data"
    },
    {
     "data": {
      "text/html": [
       "<span style=\"color:cyan\"> |-Score: 0.7493800123532613</span>"
      ],
      "text/plain": [
       "<IPython.core.display.HTML object>"
      ]
     },
     "metadata": {},
     "output_type": "display_data"
    },
    {
     "data": {
      "text/html": [
       "<span style=\"color:cyan\"> |-Best step: 0</span>"
      ],
      "text/plain": [
       "<IPython.core.display.HTML object>"
      ]
     },
     "metadata": {},
     "output_type": "display_data"
    },
    {
     "data": {
      "text/html": [
       "<span style=\"color:#7E57C2\"><h2 style=\"font-size:16px\">Hyperparameters:</h2></span>"
      ],
      "text/plain": [
       "<IPython.core.display.HTML object>"
      ]
     },
     "metadata": {},
     "output_type": "display_data"
    },
    {
     "data": {
      "text/html": [
       "<span style=\"color:cyan\"> |-learning_rate: 0.001</span>"
      ],
      "text/plain": [
       "<IPython.core.display.HTML object>"
      ]
     },
     "metadata": {},
     "output_type": "display_data"
    },
    {
     "data": {
      "text/html": [
       "<span style=\"color:blue\"> |-unitsl1: 190</span>"
      ],
      "text/plain": [
       "<IPython.core.display.HTML object>"
      ]
     },
     "metadata": {},
     "output_type": "display_data"
    },
    {
     "data": {
      "text/html": [
       "<span style=\"color:cyan\"> |-unitsl2: 35</span>"
      ],
      "text/plain": [
       "<IPython.core.display.HTML object>"
      ]
     },
     "metadata": {},
     "output_type": "display_data"
    },
    {
     "name": "stdout",
     "output_type": "stream",
     "text": [
      "Epoch 1/5\n",
      "321/321 - 1s - loss: 26.6221 - acc: 0.2132 - val_loss: 5.2500 - val_acc: 0.2641\n",
      "Epoch 2/5\n",
      "321/321 - 1s - loss: 2.1021 - acc: 0.2774 - val_loss: 1.5524 - val_acc: 0.2841\n",
      "Epoch 3/5\n",
      "321/321 - 1s - loss: 1.4872 - acc: 0.2907 - val_loss: 1.4312 - val_acc: 0.2997\n",
      "Epoch 4/5\n",
      "321/321 - 1s - loss: 1.3736 - acc: 0.3126 - val_loss: 1.3192 - val_acc: 0.3252\n",
      "Epoch 5/5\n",
      "321/321 - 1s - loss: 1.2516 - acc: 0.3592 - val_loss: 1.1798 - val_acc: 0.3984\n",
      "Epoch 1/5\n",
      "WARNING:tensorflow:Callbacks method `on_train_batch_end` is slow compared to the batch time (batch time: 0.0010s vs `on_train_batch_end` time: 0.0120s). Check your callbacks.\n",
      "321/321 - 1s - loss: 63.0730 - acc: 0.2355 - val_loss: 11.9200 - val_acc: 0.2570\n",
      "Epoch 2/5\n",
      "321/321 - 1s - loss: 2.6044 - acc: 0.2785 - val_loss: 1.9929 - val_acc: 0.2882\n",
      "Epoch 3/5\n",
      "321/321 - 1s - loss: 1.9174 - acc: 0.2956 - val_loss: 1.8581 - val_acc: 0.3002\n",
      "Epoch 4/5\n",
      "321/321 - 1s - loss: 1.7767 - acc: 0.3133 - val_loss: 1.7130 - val_acc: 0.3190\n",
      "Epoch 5/5\n",
      "321/321 - 1s - loss: 1.6325 - acc: 0.3348 - val_loss: 1.5714 - val_acc: 0.3474\n",
      "Epoch 1/5\n",
      "321/321 - 1s - loss: 26.5512 - acc: 0.2579 - val_loss: 7.5439 - val_acc: 0.2512\n",
      "Epoch 2/5\n",
      "321/321 - 1s - loss: 2.2569 - acc: 0.2911 - val_loss: 1.5544 - val_acc: 0.3155\n",
      "Epoch 3/5\n",
      "321/321 - 1s - loss: 1.4642 - acc: 0.3194 - val_loss: 1.3855 - val_acc: 0.3333\n",
      "Epoch 4/5\n",
      "321/321 - 1s - loss: 1.3347 - acc: 0.3386 - val_loss: 1.2888 - val_acc: 0.3572\n",
      "Epoch 5/5\n",
      "321/321 - 1s - loss: 1.2592 - acc: 0.3783 - val_loss: 1.2457 - val_acc: 0.3571\n"
     ]
    },
    {
     "data": {
      "text/html": [
       "<span style=\"color:#4527A0\"><h1 style=\"font-size:18px\">Trial complete</h1></span>"
      ],
      "text/plain": [
       "<IPython.core.display.HTML object>"
      ]
     },
     "metadata": {},
     "output_type": "display_data"
    },
    {
     "data": {
      "text/html": [
       "<span style=\"color:#4527A0\"><h1 style=\"font-size:18px\">Trial summary</h1></span>"
      ],
      "text/plain": [
       "<IPython.core.display.HTML object>"
      ]
     },
     "metadata": {},
     "output_type": "display_data"
    },
    {
     "data": {
      "text/html": [
       "<span style=\"color:cyan\"> |-Trial ID: 8eebc1ae058096fc425d4d7cc5109d2d</span>"
      ],
      "text/plain": [
       "<IPython.core.display.HTML object>"
      ]
     },
     "metadata": {},
     "output_type": "display_data"
    },
    {
     "data": {
      "text/html": [
       "<span style=\"color:cyan\"> |-Score: 0.36764152844746906</span>"
      ],
      "text/plain": [
       "<IPython.core.display.HTML object>"
      ]
     },
     "metadata": {},
     "output_type": "display_data"
    },
    {
     "data": {
      "text/html": [
       "<span style=\"color:cyan\"> |-Best step: 0</span>"
      ],
      "text/plain": [
       "<IPython.core.display.HTML object>"
      ]
     },
     "metadata": {},
     "output_type": "display_data"
    },
    {
     "data": {
      "text/html": [
       "<span style=\"color:#7E57C2\"><h2 style=\"font-size:16px\">Hyperparameters:</h2></span>"
      ],
      "text/plain": [
       "<IPython.core.display.HTML object>"
      ]
     },
     "metadata": {},
     "output_type": "display_data"
    },
    {
     "data": {
      "text/html": [
       "<span style=\"color:cyan\"> |-learning_rate: 0.0001</span>"
      ],
      "text/plain": [
       "<IPython.core.display.HTML object>"
      ]
     },
     "metadata": {},
     "output_type": "display_data"
    },
    {
     "data": {
      "text/html": [
       "<span style=\"color:blue\"> |-unitsl1: 40</span>"
      ],
      "text/plain": [
       "<IPython.core.display.HTML object>"
      ]
     },
     "metadata": {},
     "output_type": "display_data"
    },
    {
     "data": {
      "text/html": [
       "<span style=\"color:cyan\"> |-unitsl2: 10</span>"
      ],
      "text/plain": [
       "<IPython.core.display.HTML object>"
      ]
     },
     "metadata": {},
     "output_type": "display_data"
    },
    {
     "name": "stdout",
     "output_type": "stream",
     "text": [
      "Epoch 1/5\n",
      "321/321 - 1s - loss: 3.6635 - acc: 0.2746 - val_loss: 1.3897 - val_acc: 0.2781\n",
      "Epoch 2/5\n",
      "321/321 - 1s - loss: 1.3720 - acc: 0.2889 - val_loss: 1.3676 - val_acc: 0.2820\n",
      "Epoch 3/5\n",
      "321/321 - 1s - loss: 1.3576 - acc: 0.2918 - val_loss: 1.3618 - val_acc: 0.2807\n",
      "Epoch 4/5\n",
      "321/321 - 1s - loss: 1.3524 - acc: 0.2910 - val_loss: 1.3627 - val_acc: 0.2777\n",
      "Epoch 5/5\n",
      "321/321 - 1s - loss: 1.3582 - acc: 0.2839 - val_loss: 1.3621 - val_acc: 0.2763\n",
      "Epoch 1/5\n",
      "321/321 - 1s - loss: 2.8841 - acc: 0.2855 - val_loss: 1.3818 - val_acc: 0.2899\n",
      "Epoch 2/5\n",
      "321/321 - 1s - loss: 1.3653 - acc: 0.2964 - val_loss: 1.3722 - val_acc: 0.2771\n",
      "Epoch 3/5\n",
      "321/321 - 1s - loss: 1.4065 - acc: 0.2802 - val_loss: 1.3661 - val_acc: 0.2768\n",
      "Epoch 4/5\n",
      "321/321 - 1s - loss: 1.3549 - acc: 0.2882 - val_loss: 1.3584 - val_acc: 0.2813\n",
      "Epoch 5/5\n",
      "321/321 - 1s - loss: 1.3612 - acc: 0.2808 - val_loss: 1.3639 - val_acc: 0.2754\n",
      "Epoch 1/5\n",
      "321/321 - 1s - loss: 2.8201 - acc: 0.2900 - val_loss: 1.3524 - val_acc: 0.3209\n",
      "Epoch 2/5\n",
      "321/321 - 1s - loss: 1.3710 - acc: 0.2858 - val_loss: 1.3691 - val_acc: 0.2776\n",
      "Epoch 3/5\n",
      "321/321 - 1s - loss: 1.3664 - acc: 0.2822 - val_loss: 1.3636 - val_acc: 0.2781\n",
      "Epoch 4/5\n",
      "321/321 - 1s - loss: 2.1093 - acc: 0.2850 - val_loss: 1.3656 - val_acc: 0.2746\n",
      "Epoch 5/5\n",
      "321/321 - 1s - loss: 1.3626 - acc: 0.2782 - val_loss: 1.3613 - val_acc: 0.2773\n"
     ]
    },
    {
     "data": {
      "text/html": [
       "<span style=\"color:#4527A0\"><h1 style=\"font-size:18px\">Trial complete</h1></span>"
      ],
      "text/plain": [
       "<IPython.core.display.HTML object>"
      ]
     },
     "metadata": {},
     "output_type": "display_data"
    },
    {
     "data": {
      "text/html": [
       "<span style=\"color:#4527A0\"><h1 style=\"font-size:18px\">Trial summary</h1></span>"
      ],
      "text/plain": [
       "<IPython.core.display.HTML object>"
      ]
     },
     "metadata": {},
     "output_type": "display_data"
    },
    {
     "data": {
      "text/html": [
       "<span style=\"color:cyan\"> |-Trial ID: 5603e12a68a04181b73a9936f77b5211</span>"
      ],
      "text/plain": [
       "<IPython.core.display.HTML object>"
      ]
     },
     "metadata": {},
     "output_type": "display_data"
    },
    {
     "data": {
      "text/html": [
       "<span style=\"color:cyan\"> |-Score: 0.29762859145800274</span>"
      ],
      "text/plain": [
       "<IPython.core.display.HTML object>"
      ]
     },
     "metadata": {},
     "output_type": "display_data"
    },
    {
     "data": {
      "text/html": [
       "<span style=\"color:cyan\"> |-Best step: 0</span>"
      ],
      "text/plain": [
       "<IPython.core.display.HTML object>"
      ]
     },
     "metadata": {},
     "output_type": "display_data"
    },
    {
     "data": {
      "text/html": [
       "<span style=\"color:#7E57C2\"><h2 style=\"font-size:16px\">Hyperparameters:</h2></span>"
      ],
      "text/plain": [
       "<IPython.core.display.HTML object>"
      ]
     },
     "metadata": {},
     "output_type": "display_data"
    },
    {
     "data": {
      "text/html": [
       "<span style=\"color:cyan\"> |-learning_rate: 0.01</span>"
      ],
      "text/plain": [
       "<IPython.core.display.HTML object>"
      ]
     },
     "metadata": {},
     "output_type": "display_data"
    },
    {
     "data": {
      "text/html": [
       "<span style=\"color:blue\"> |-unitsl1: 130</span>"
      ],
      "text/plain": [
       "<IPython.core.display.HTML object>"
      ]
     },
     "metadata": {},
     "output_type": "display_data"
    },
    {
     "data": {
      "text/html": [
       "<span style=\"color:cyan\"> |-unitsl2: 15</span>"
      ],
      "text/plain": [
       "<IPython.core.display.HTML object>"
      ]
     },
     "metadata": {},
     "output_type": "display_data"
    },
    {
     "name": "stdout",
     "output_type": "stream",
     "text": [
      "Epoch 1/5\n",
      "321/321 - 1s - loss: 1.5363 - acc: 0.3687 - val_loss: 1.0413 - val_acc: 0.5236\n",
      "Epoch 2/5\n",
      "321/321 - 1s - loss: 1.1045 - acc: 0.5413 - val_loss: 0.7428 - val_acc: 0.7594\n",
      "Epoch 3/5\n",
      "321/321 - 1s - loss: 0.6654 - acc: 0.7583 - val_loss: 0.6026 - val_acc: 0.7477\n",
      "Epoch 4/5\n",
      "321/321 - 2s - loss: 0.5904 - acc: 0.7557 - val_loss: 0.5467 - val_acc: 0.7735\n",
      "Epoch 5/5\n",
      "321/321 - 1s - loss: 0.5487 - acc: 0.7714 - val_loss: 0.5298 - val_acc: 0.7891\n",
      "Epoch 1/5\n",
      "321/321 - 1s - loss: 1.9265 - acc: 0.3227 - val_loss: 1.2786 - val_acc: 0.3890\n",
      "Epoch 2/5\n",
      "321/321 - 1s - loss: 1.1598 - acc: 0.4822 - val_loss: 0.8990 - val_acc: 0.6268\n",
      "Epoch 3/5\n",
      "321/321 - 1s - loss: 0.8415 - acc: 0.6539 - val_loss: 0.6781 - val_acc: 0.7047\n",
      "Epoch 4/5\n",
      "321/321 - 1s - loss: 0.6888 - acc: 0.6881 - val_loss: 0.5997 - val_acc: 0.7467\n",
      "Epoch 5/5\n",
      "321/321 - 1s - loss: 0.6072 - acc: 0.7296 - val_loss: 0.5593 - val_acc: 0.7454\n",
      "Epoch 1/5\n",
      "321/321 - 1s - loss: 1.9431 - acc: 0.3278 - val_loss: 1.1388 - val_acc: 0.3918\n",
      "Epoch 2/5\n",
      "321/321 - 1s - loss: 1.0716 - acc: 0.4478 - val_loss: 1.0358 - val_acc: 0.4813\n",
      "Epoch 3/5\n",
      "321/321 - 1s - loss: 0.9442 - acc: 0.5549 - val_loss: 0.8575 - val_acc: 0.6092\n",
      "Epoch 4/5\n",
      "321/321 - 1s - loss: 0.7696 - acc: 0.7101 - val_loss: 0.6916 - val_acc: 0.7689\n",
      "Epoch 5/5\n",
      "321/321 - 1s - loss: 0.6637 - acc: 0.7530 - val_loss: 0.6533 - val_acc: 0.7408\n"
     ]
    },
    {
     "data": {
      "text/html": [
       "<span style=\"color:#4527A0\"><h1 style=\"font-size:18px\">Trial complete</h1></span>"
      ],
      "text/plain": [
       "<IPython.core.display.HTML object>"
      ]
     },
     "metadata": {},
     "output_type": "display_data"
    },
    {
     "data": {
      "text/html": [
       "<span style=\"color:#4527A0\"><h1 style=\"font-size:18px\">Trial summary</h1></span>"
      ],
      "text/plain": [
       "<IPython.core.display.HTML object>"
      ]
     },
     "metadata": {},
     "output_type": "display_data"
    },
    {
     "data": {
      "text/html": [
       "<span style=\"color:cyan\"> |-Trial ID: f2c67b09ec723ada9a647367f312ec9a</span>"
      ],
      "text/plain": [
       "<IPython.core.display.HTML object>"
      ]
     },
     "metadata": {},
     "output_type": "display_data"
    },
    {
     "data": {
      "text/html": [
       "<span style=\"color:cyan\"> |-Score: 0.7682677904764811</span>"
      ],
      "text/plain": [
       "<IPython.core.display.HTML object>"
      ]
     },
     "metadata": {},
     "output_type": "display_data"
    },
    {
     "data": {
      "text/html": [
       "<span style=\"color:cyan\"> |-Best step: 0</span>"
      ],
      "text/plain": [
       "<IPython.core.display.HTML object>"
      ]
     },
     "metadata": {},
     "output_type": "display_data"
    },
    {
     "data": {
      "text/html": [
       "<span style=\"color:#7E57C2\"><h2 style=\"font-size:16px\">Hyperparameters:</h2></span>"
      ],
      "text/plain": [
       "<IPython.core.display.HTML object>"
      ]
     },
     "metadata": {},
     "output_type": "display_data"
    },
    {
     "data": {
      "text/html": [
       "<span style=\"color:cyan\"> |-learning_rate: 0.001</span>"
      ],
      "text/plain": [
       "<IPython.core.display.HTML object>"
      ]
     },
     "metadata": {},
     "output_type": "display_data"
    },
    {
     "data": {
      "text/html": [
       "<span style=\"color:blue\"> |-unitsl1: 490</span>"
      ],
      "text/plain": [
       "<IPython.core.display.HTML object>"
      ]
     },
     "metadata": {},
     "output_type": "display_data"
    },
    {
     "data": {
      "text/html": [
       "<span style=\"color:cyan\"> |-unitsl2: 15</span>"
      ],
      "text/plain": [
       "<IPython.core.display.HTML object>"
      ]
     },
     "metadata": {},
     "output_type": "display_data"
    },
    {
     "name": "stdout",
     "output_type": "stream",
     "text": [
      "Epoch 1/5\n",
      "321/321 - 1s - loss: 5.1947 - acc: 0.2818 - val_loss: 1.2693 - val_acc: 0.3207\n",
      "Epoch 2/5\n",
      "321/321 - 1s - loss: 1.2330 - acc: 0.3627 - val_loss: 1.2033 - val_acc: 0.4054\n",
      "Epoch 3/5\n",
      "321/321 - 1s - loss: 1.1658 - acc: 0.4447 - val_loss: 1.1314 - val_acc: 0.4817\n",
      "Epoch 4/5\n",
      "321/321 - 1s - loss: 1.0898 - acc: 0.5239 - val_loss: 1.0442 - val_acc: 0.5258\n",
      "Epoch 5/5\n",
      "321/321 - 1s - loss: 1.0015 - acc: 0.5983 - val_loss: 0.9486 - val_acc: 0.6144\n",
      "Epoch 1/5\n",
      "321/321 - 1s - loss: 5.7800 - acc: 0.2610 - val_loss: 1.2734 - val_acc: 0.3001\n",
      "Epoch 2/5\n",
      "321/321 - 1s - loss: 1.2377 - acc: 0.3457 - val_loss: 1.2050 - val_acc: 0.3852\n",
      "Epoch 3/5\n",
      "321/321 - 1s - loss: 1.1703 - acc: 0.4409 - val_loss: 1.1365 - val_acc: 0.4605\n",
      "Epoch 4/5\n",
      "321/321 - 1s - loss: 1.1029 - acc: 0.5115 - val_loss: 1.0741 - val_acc: 0.5026\n",
      "Epoch 5/5\n",
      "321/321 - 1s - loss: 1.0244 - acc: 0.5569 - val_loss: 0.9811 - val_acc: 0.5863\n",
      "Epoch 1/5\n",
      "321/321 - 1s - loss: 2.6887 - acc: 0.2697 - val_loss: 1.2893 - val_acc: 0.3000\n",
      "Epoch 2/5\n",
      "321/321 - 1s - loss: 1.2593 - acc: 0.3193 - val_loss: 1.2272 - val_acc: 0.3065\n",
      "Epoch 3/5\n",
      "321/321 - 1s - loss: 1.1896 - acc: 0.3688 - val_loss: 1.1573 - val_acc: 0.4108\n",
      "Epoch 4/5\n",
      "321/321 - 1s - loss: 1.1249 - acc: 0.4223 - val_loss: 1.0948 - val_acc: 0.4237\n",
      "Epoch 5/5\n",
      "321/321 - 1s - loss: 1.0548 - acc: 0.4897 - val_loss: 0.9831 - val_acc: 0.5848\n"
     ]
    },
    {
     "data": {
      "text/html": [
       "<span style=\"color:#4527A0\"><h1 style=\"font-size:18px\">Trial complete</h1></span>"
      ],
      "text/plain": [
       "<IPython.core.display.HTML object>"
      ]
     },
     "metadata": {},
     "output_type": "display_data"
    },
    {
     "data": {
      "text/html": [
       "<span style=\"color:#4527A0\"><h1 style=\"font-size:18px\">Trial summary</h1></span>"
      ],
      "text/plain": [
       "<IPython.core.display.HTML object>"
      ]
     },
     "metadata": {},
     "output_type": "display_data"
    },
    {
     "data": {
      "text/html": [
       "<span style=\"color:cyan\"> |-Trial ID: 272f011e5b1bc68f0dc1be0c03c3d8b2</span>"
      ],
      "text/plain": [
       "<IPython.core.display.HTML object>"
      ]
     },
     "metadata": {},
     "output_type": "display_data"
    },
    {
     "data": {
      "text/html": [
       "<span style=\"color:cyan\"> |-Score: 0.5951381921768188</span>"
      ],
      "text/plain": [
       "<IPython.core.display.HTML object>"
      ]
     },
     "metadata": {},
     "output_type": "display_data"
    },
    {
     "data": {
      "text/html": [
       "<span style=\"color:cyan\"> |-Best step: 0</span>"
      ],
      "text/plain": [
       "<IPython.core.display.HTML object>"
      ]
     },
     "metadata": {},
     "output_type": "display_data"
    },
    {
     "data": {
      "text/html": [
       "<span style=\"color:#7E57C2\"><h2 style=\"font-size:16px\">Hyperparameters:</h2></span>"
      ],
      "text/plain": [
       "<IPython.core.display.HTML object>"
      ]
     },
     "metadata": {},
     "output_type": "display_data"
    },
    {
     "data": {
      "text/html": [
       "<span style=\"color:cyan\"> |-learning_rate: 0.0001</span>"
      ],
      "text/plain": [
       "<IPython.core.display.HTML object>"
      ]
     },
     "metadata": {},
     "output_type": "display_data"
    },
    {
     "data": {
      "text/html": [
       "<span style=\"color:blue\"> |-unitsl1: 310</span>"
      ],
      "text/plain": [
       "<IPython.core.display.HTML object>"
      ]
     },
     "metadata": {},
     "output_type": "display_data"
    },
    {
     "data": {
      "text/html": [
       "<span style=\"color:cyan\"> |-unitsl2: 20</span>"
      ],
      "text/plain": [
       "<IPython.core.display.HTML object>"
      ]
     },
     "metadata": {},
     "output_type": "display_data"
    },
    {
     "name": "stdout",
     "output_type": "stream",
     "text": [
      "Epoch 1/5\n",
      "321/321 - 1s - loss: 2.7040 - acc: 0.2667 - val_loss: 1.2592 - val_acc: 0.2894\n",
      "Epoch 2/5\n",
      "321/321 - 1s - loss: 1.2144 - acc: 0.3591 - val_loss: 1.1747 - val_acc: 0.4205\n",
      "Epoch 3/5\n",
      "321/321 - 1s - loss: 1.1270 - acc: 0.4801 - val_loss: 1.0790 - val_acc: 0.5646\n",
      "Epoch 4/5\n",
      "321/321 - 1s - loss: 1.0340 - acc: 0.5834 - val_loss: 0.9904 - val_acc: 0.5805\n",
      "Epoch 5/5\n",
      "321/321 - 1s - loss: 0.9341 - acc: 0.6617 - val_loss: 0.8935 - val_acc: 0.7267\n",
      "Epoch 1/5\n",
      "321/321 - 1s - loss: 1.8348 - acc: 0.2819 - val_loss: 1.2404 - val_acc: 0.3312\n",
      "Epoch 2/5\n",
      "321/321 - 1s - loss: 1.1825 - acc: 0.3780 - val_loss: 1.1371 - val_acc: 0.4177\n",
      "Epoch 3/5\n",
      "321/321 - 1s - loss: 1.0865 - acc: 0.4848 - val_loss: 1.0407 - val_acc: 0.5338\n",
      "Epoch 4/5\n",
      "321/321 - 1s - loss: 0.9988 - acc: 0.5690 - val_loss: 0.9499 - val_acc: 0.6341\n",
      "Epoch 5/5\n",
      "321/321 - 1s - loss: 0.9124 - acc: 0.6324 - val_loss: 0.8735 - val_acc: 0.6462\n",
      "Epoch 1/5\n",
      "321/321 - 1s - loss: 13.9474 - acc: 0.2047 - val_loss: 1.5624 - val_acc: 0.2944\n",
      "Epoch 2/5\n",
      "321/321 - 1s - loss: 1.3660 - acc: 0.2839 - val_loss: 1.3043 - val_acc: 0.2783\n",
      "Epoch 3/5\n",
      "321/321 - 1s - loss: 1.2880 - acc: 0.2821 - val_loss: 1.2756 - val_acc: 0.3182\n",
      "Epoch 4/5\n",
      "321/321 - 1s - loss: 1.2500 - acc: 0.3180 - val_loss: 1.1977 - val_acc: 0.3974\n",
      "Epoch 5/5\n",
      "321/321 - 1s - loss: 1.0900 - acc: 0.5269 - val_loss: 0.9951 - val_acc: 0.6400\n"
     ]
    },
    {
     "data": {
      "text/html": [
       "<span style=\"color:#4527A0\"><h1 style=\"font-size:18px\">Trial complete</h1></span>"
      ],
      "text/plain": [
       "<IPython.core.display.HTML object>"
      ]
     },
     "metadata": {},
     "output_type": "display_data"
    },
    {
     "data": {
      "text/html": [
       "<span style=\"color:#4527A0\"><h1 style=\"font-size:18px\">Trial summary</h1></span>"
      ],
      "text/plain": [
       "<IPython.core.display.HTML object>"
      ]
     },
     "metadata": {},
     "output_type": "display_data"
    },
    {
     "data": {
      "text/html": [
       "<span style=\"color:cyan\"> |-Trial ID: 49f81aa760b653dce13d6e2e4c12ebef</span>"
      ],
      "text/plain": [
       "<IPython.core.display.HTML object>"
      ]
     },
     "metadata": {},
     "output_type": "display_data"
    },
    {
     "data": {
      "text/html": [
       "<span style=\"color:cyan\"> |-Score: 0.6709481477737427</span>"
      ],
      "text/plain": [
       "<IPython.core.display.HTML object>"
      ]
     },
     "metadata": {},
     "output_type": "display_data"
    },
    {
     "data": {
      "text/html": [
       "<span style=\"color:cyan\"> |-Best step: 0</span>"
      ],
      "text/plain": [
       "<IPython.core.display.HTML object>"
      ]
     },
     "metadata": {},
     "output_type": "display_data"
    },
    {
     "data": {
      "text/html": [
       "<span style=\"color:#7E57C2\"><h2 style=\"font-size:16px\">Hyperparameters:</h2></span>"
      ],
      "text/plain": [
       "<IPython.core.display.HTML object>"
      ]
     },
     "metadata": {},
     "output_type": "display_data"
    },
    {
     "data": {
      "text/html": [
       "<span style=\"color:cyan\"> |-learning_rate: 0.0001</span>"
      ],
      "text/plain": [
       "<IPython.core.display.HTML object>"
      ]
     },
     "metadata": {},
     "output_type": "display_data"
    },
    {
     "data": {
      "text/html": [
       "<span style=\"color:blue\"> |-unitsl1: 340</span>"
      ],
      "text/plain": [
       "<IPython.core.display.HTML object>"
      ]
     },
     "metadata": {},
     "output_type": "display_data"
    },
    {
     "data": {
      "text/html": [
       "<span style=\"color:cyan\"> |-unitsl2: 25</span>"
      ],
      "text/plain": [
       "<IPython.core.display.HTML object>"
      ]
     },
     "metadata": {},
     "output_type": "display_data"
    },
    {
     "name": "stdout",
     "output_type": "stream",
     "text": [
      "Epoch 1/5\n",
      "321/321 - 1s - loss: 4.6867 - acc: 0.4560 - val_loss: 0.9491 - val_acc: 0.4974\n",
      "Epoch 2/5\n",
      "321/321 - 1s - loss: 1.0289 - acc: 0.5681 - val_loss: 0.9159 - val_acc: 0.5480\n",
      "Epoch 3/5\n",
      "321/321 - 1s - loss: 0.7867 - acc: 0.7184 - val_loss: 0.7036 - val_acc: 0.7726\n",
      "Epoch 4/5\n",
      "321/321 - 1s - loss: 0.6475 - acc: 0.7671 - val_loss: 0.6513 - val_acc: 0.7286\n",
      "Epoch 5/5\n",
      "321/321 - 2s - loss: 0.5947 - acc: 0.7567 - val_loss: 0.5574 - val_acc: 0.7845\n",
      "Epoch 1/5\n",
      "321/321 - 1s - loss: 3.8816 - acc: 0.5045 - val_loss: 0.7928 - val_acc: 0.7174\n",
      "Epoch 2/5\n",
      "321/321 - 1s - loss: 0.8320 - acc: 0.6785 - val_loss: 0.6540 - val_acc: 0.7138\n",
      "Epoch 3/5\n",
      "321/321 - 1s - loss: 0.6162 - acc: 0.7477 - val_loss: 0.5563 - val_acc: 0.7746\n",
      "Epoch 4/5\n",
      "321/321 - 1s - loss: 0.5687 - acc: 0.7590 - val_loss: 0.5493 - val_acc: 0.7565\n",
      "Epoch 5/5\n",
      "321/321 - 2s - loss: 0.5592 - acc: 0.7617 - val_loss: 0.5267 - val_acc: 0.7927\n",
      "Epoch 1/5\n",
      "321/321 - 1s - loss: 3.7394 - acc: 0.4896 - val_loss: 0.9625 - val_acc: 0.6509\n",
      "Epoch 2/5\n",
      "321/321 - 1s - loss: 0.8556 - acc: 0.7129 - val_loss: 0.7395 - val_acc: 0.7645\n",
      "Epoch 3/5\n",
      "321/321 - 1s - loss: 0.6801 - acc: 0.7554 - val_loss: 0.6685 - val_acc: 0.6974\n",
      "Epoch 4/5\n",
      "321/321 - 1s - loss: 0.6058 - acc: 0.7667 - val_loss: 0.5719 - val_acc: 0.7580\n",
      "Epoch 5/5\n",
      "321/321 - 1s - loss: 0.5611 - acc: 0.7760 - val_loss: 0.5746 - val_acc: 0.7757\n"
     ]
    },
    {
     "data": {
      "text/html": [
       "<span style=\"color:#4527A0\"><h1 style=\"font-size:18px\">Trial complete</h1></span>"
      ],
      "text/plain": [
       "<IPython.core.display.HTML object>"
      ]
     },
     "metadata": {},
     "output_type": "display_data"
    },
    {
     "data": {
      "text/html": [
       "<span style=\"color:#4527A0\"><h1 style=\"font-size:18px\">Trial summary</h1></span>"
      ],
      "text/plain": [
       "<IPython.core.display.HTML object>"
      ]
     },
     "metadata": {},
     "output_type": "display_data"
    },
    {
     "data": {
      "text/html": [
       "<span style=\"color:cyan\"> |-Trial ID: 2f8baa70993f62090bc12916b318e5e8</span>"
      ],
      "text/plain": [
       "<IPython.core.display.HTML object>"
      ]
     },
     "metadata": {},
     "output_type": "display_data"
    },
    {
     "data": {
      "text/html": [
       "<span style=\"color:cyan\"> |-Score: 0.7843040227890015</span>"
      ],
      "text/plain": [
       "<IPython.core.display.HTML object>"
      ]
     },
     "metadata": {},
     "output_type": "display_data"
    },
    {
     "data": {
      "text/html": [
       "<span style=\"color:cyan\"> |-Best step: 0</span>"
      ],
      "text/plain": [
       "<IPython.core.display.HTML object>"
      ]
     },
     "metadata": {},
     "output_type": "display_data"
    },
    {
     "data": {
      "text/html": [
       "<span style=\"color:#7E57C2\"><h2 style=\"font-size:16px\">Hyperparameters:</h2></span>"
      ],
      "text/plain": [
       "<IPython.core.display.HTML object>"
      ]
     },
     "metadata": {},
     "output_type": "display_data"
    },
    {
     "data": {
      "text/html": [
       "<span style=\"color:cyan\"> |-learning_rate: 0.01</span>"
      ],
      "text/plain": [
       "<IPython.core.display.HTML object>"
      ]
     },
     "metadata": {},
     "output_type": "display_data"
    },
    {
     "data": {
      "text/html": [
       "<span style=\"color:blue\"> |-unitsl1: 160</span>"
      ],
      "text/plain": [
       "<IPython.core.display.HTML object>"
      ]
     },
     "metadata": {},
     "output_type": "display_data"
    },
    {
     "data": {
      "text/html": [
       "<span style=\"color:cyan\"> |-unitsl2: 40</span>"
      ],
      "text/plain": [
       "<IPython.core.display.HTML object>"
      ]
     },
     "metadata": {},
     "output_type": "display_data"
    },
    {
     "name": "stdout",
     "output_type": "stream",
     "text": [
      "Epoch 1/5\n",
      "321/321 - 1s - loss: 4.6071 - acc: 0.4536 - val_loss: 1.3832 - val_acc: 0.5260\n",
      "Epoch 2/5\n",
      "321/321 - 1s - loss: 0.8258 - acc: 0.6548 - val_loss: 0.7166 - val_acc: 0.6223\n",
      "Epoch 3/5\n",
      "321/321 - 1s - loss: 0.5915 - acc: 0.7509 - val_loss: 0.5576 - val_acc: 0.7435\n",
      "Epoch 4/5\n",
      "321/321 - 1s - loss: 0.5530 - acc: 0.7656 - val_loss: 0.5693 - val_acc: 0.7339\n",
      "Epoch 5/5\n",
      "321/321 - 1s - loss: 0.5341 - acc: 0.7773 - val_loss: 0.5827 - val_acc: 0.7640\n",
      "Epoch 1/5\n",
      "321/321 - 1s - loss: 2.2023 - acc: 0.4422 - val_loss: 1.0621 - val_acc: 0.4772\n",
      "Epoch 2/5\n",
      "321/321 - 1s - loss: 0.8927 - acc: 0.6342 - val_loss: 0.9363 - val_acc: 0.5163\n",
      "Epoch 3/5\n",
      "321/321 - 2s - loss: 0.7265 - acc: 0.7043 - val_loss: 0.6284 - val_acc: 0.7800\n",
      "Epoch 4/5\n",
      "321/321 - 1s - loss: 0.6136 - acc: 0.7555 - val_loss: 0.6717 - val_acc: 0.6891\n",
      "Epoch 5/5\n",
      "321/321 - 1s - loss: 0.5918 - acc: 0.7566 - val_loss: 0.5352 - val_acc: 0.7936\n",
      "Epoch 1/5\n",
      "321/321 - 1s - loss: 3.5583 - acc: 0.4414 - val_loss: 0.8191 - val_acc: 0.6672\n",
      "Epoch 2/5\n",
      "321/321 - 1s - loss: 0.8799 - acc: 0.6506 - val_loss: 0.7630 - val_acc: 0.5779\n",
      "Epoch 3/5\n",
      "321/321 - 1s - loss: 0.6685 - acc: 0.7132 - val_loss: 0.6926 - val_acc: 0.6668\n",
      "Epoch 4/5\n",
      "321/321 - 1s - loss: 0.5978 - acc: 0.7455 - val_loss: 0.6365 - val_acc: 0.6982\n",
      "Epoch 5/5\n",
      "321/321 - 1s - loss: 0.5862 - acc: 0.7503 - val_loss: 0.7299 - val_acc: 0.6868\n"
     ]
    },
    {
     "data": {
      "text/html": [
       "<span style=\"color:#4527A0\"><h1 style=\"font-size:18px\">Trial complete</h1></span>"
      ],
      "text/plain": [
       "<IPython.core.display.HTML object>"
      ]
     },
     "metadata": {},
     "output_type": "display_data"
    },
    {
     "data": {
      "text/html": [
       "<span style=\"color:#4527A0\"><h1 style=\"font-size:18px\">Trial summary</h1></span>"
      ],
      "text/plain": [
       "<IPython.core.display.HTML object>"
      ]
     },
     "metadata": {},
     "output_type": "display_data"
    },
    {
     "data": {
      "text/html": [
       "<span style=\"color:cyan\"> |-Trial ID: 057e2f8d6cbd14b7ab4b5e1640ad1e59</span>"
      ],
      "text/plain": [
       "<IPython.core.display.HTML object>"
      ]
     },
     "metadata": {},
     "output_type": "display_data"
    },
    {
     "data": {
      "text/html": [
       "<span style=\"color:cyan\"> |-Score: 0.7519434690475464</span>"
      ],
      "text/plain": [
       "<IPython.core.display.HTML object>"
      ]
     },
     "metadata": {},
     "output_type": "display_data"
    },
    {
     "data": {
      "text/html": [
       "<span style=\"color:cyan\"> |-Best step: 0</span>"
      ],
      "text/plain": [
       "<IPython.core.display.HTML object>"
      ]
     },
     "metadata": {},
     "output_type": "display_data"
    },
    {
     "data": {
      "text/html": [
       "<span style=\"color:#7E57C2\"><h2 style=\"font-size:16px\">Hyperparameters:</h2></span>"
      ],
      "text/plain": [
       "<IPython.core.display.HTML object>"
      ]
     },
     "metadata": {},
     "output_type": "display_data"
    },
    {
     "data": {
      "text/html": [
       "<span style=\"color:cyan\"> |-learning_rate: 0.01</span>"
      ],
      "text/plain": [
       "<IPython.core.display.HTML object>"
      ]
     },
     "metadata": {},
     "output_type": "display_data"
    },
    {
     "data": {
      "text/html": [
       "<span style=\"color:blue\"> |-unitsl1: 40</span>"
      ],
      "text/plain": [
       "<IPython.core.display.HTML object>"
      ]
     },
     "metadata": {},
     "output_type": "display_data"
    },
    {
     "data": {
      "text/html": [
       "<span style=\"color:cyan\"> |-unitsl2: 30</span>"
      ],
      "text/plain": [
       "<IPython.core.display.HTML object>"
      ]
     },
     "metadata": {},
     "output_type": "display_data"
    },
    {
     "name": "stdout",
     "output_type": "stream",
     "text": [
      "Epoch 1/5\n",
      "321/321 - 1s - loss: 3.6624 - acc: 0.3364 - val_loss: 1.1223 - val_acc: 0.4853\n",
      "Epoch 2/5\n",
      "321/321 - 1s - loss: 1.0184 - acc: 0.5588 - val_loss: 1.0106 - val_acc: 0.5366\n",
      "Epoch 3/5\n",
      "321/321 - 1s - loss: 0.7866 - acc: 0.6648 - val_loss: 0.6886 - val_acc: 0.7086\n",
      "Epoch 4/5\n",
      "321/321 - 1s - loss: 0.6869 - acc: 0.7076 - val_loss: 0.7140 - val_acc: 0.6716\n",
      "Epoch 5/5\n",
      "321/321 - 1s - loss: 0.6563 - acc: 0.7169 - val_loss: 0.6709 - val_acc: 0.6647\n",
      "Epoch 1/5\n",
      "321/321 - 1s - loss: 7.5665 - acc: 0.2980 - val_loss: 1.2437 - val_acc: 0.3104\n",
      "Epoch 2/5\n",
      "321/321 - 1s - loss: 1.1428 - acc: 0.4150 - val_loss: 0.9857 - val_acc: 0.6346\n",
      "Epoch 3/5\n",
      "321/321 - 1s - loss: 0.8190 - acc: 0.6959 - val_loss: 0.7218 - val_acc: 0.6804\n",
      "Epoch 4/5\n",
      "321/321 - 1s - loss: 0.6318 - acc: 0.7591 - val_loss: 0.5801 - val_acc: 0.7895\n",
      "Epoch 5/5\n",
      "321/321 - 1s - loss: 0.5680 - acc: 0.7733 - val_loss: 0.5652 - val_acc: 0.7538\n",
      "Epoch 1/5\n",
      "321/321 - 1s - loss: 1.9124 - acc: 0.3903 - val_loss: 1.1023 - val_acc: 0.5184\n",
      "Epoch 2/5\n",
      "321/321 - 1s - loss: 0.9745 - acc: 0.5960 - val_loss: 0.8453 - val_acc: 0.6671\n",
      "Epoch 3/5\n",
      "321/321 - 1s - loss: 0.7655 - acc: 0.6850 - val_loss: 0.6673 - val_acc: 0.7217\n",
      "Epoch 4/5\n",
      "321/321 - 1s - loss: 0.6470 - acc: 0.7208 - val_loss: 0.6083 - val_acc: 0.7272\n",
      "Epoch 5/5\n",
      "321/321 - 1s - loss: 0.5853 - acc: 0.7595 - val_loss: 0.5722 - val_acc: 0.7657\n"
     ]
    },
    {
     "data": {
      "text/html": [
       "<span style=\"color:#4527A0\"><h1 style=\"font-size:18px\">Trial complete</h1></span>"
      ],
      "text/plain": [
       "<IPython.core.display.HTML object>"
      ]
     },
     "metadata": {},
     "output_type": "display_data"
    },
    {
     "data": {
      "text/html": [
       "<span style=\"color:#4527A0\"><h1 style=\"font-size:18px\">Trial summary</h1></span>"
      ],
      "text/plain": [
       "<IPython.core.display.HTML object>"
      ]
     },
     "metadata": {},
     "output_type": "display_data"
    },
    {
     "data": {
      "text/html": [
       "<span style=\"color:cyan\"> |-Trial ID: 6c9a0a192a42974857b6df2c8625613b</span>"
      ],
      "text/plain": [
       "<IPython.core.display.HTML object>"
      ]
     },
     "metadata": {},
     "output_type": "display_data"
    },
    {
     "data": {
      "text/html": [
       "<span style=\"color:cyan\"> |-Score: 0.7545737226804098</span>"
      ],
      "text/plain": [
       "<IPython.core.display.HTML object>"
      ]
     },
     "metadata": {},
     "output_type": "display_data"
    },
    {
     "data": {
      "text/html": [
       "<span style=\"color:cyan\"> |-Best step: 0</span>"
      ],
      "text/plain": [
       "<IPython.core.display.HTML object>"
      ]
     },
     "metadata": {},
     "output_type": "display_data"
    },
    {
     "data": {
      "text/html": [
       "<span style=\"color:#7E57C2\"><h2 style=\"font-size:16px\">Hyperparameters:</h2></span>"
      ],
      "text/plain": [
       "<IPython.core.display.HTML object>"
      ]
     },
     "metadata": {},
     "output_type": "display_data"
    },
    {
     "data": {
      "text/html": [
       "<span style=\"color:cyan\"> |-learning_rate: 0.001</span>"
      ],
      "text/plain": [
       "<IPython.core.display.HTML object>"
      ]
     },
     "metadata": {},
     "output_type": "display_data"
    },
    {
     "data": {
      "text/html": [
       "<span style=\"color:blue\"> |-unitsl1: 70</span>"
      ],
      "text/plain": [
       "<IPython.core.display.HTML object>"
      ]
     },
     "metadata": {},
     "output_type": "display_data"
    },
    {
     "data": {
      "text/html": [
       "<span style=\"color:cyan\"> |-unitsl2: 25</span>"
      ],
      "text/plain": [
       "<IPython.core.display.HTML object>"
      ]
     },
     "metadata": {},
     "output_type": "display_data"
    },
    {
     "name": "stdout",
     "output_type": "stream",
     "text": [
      "Epoch 1/5\n",
      "321/321 - 1s - loss: 4.9368 - acc: 0.2801 - val_loss: 1.3665 - val_acc: 0.3250\n",
      "Epoch 2/5\n",
      "321/321 - 1s - loss: 1.2951 - acc: 0.3610 - val_loss: 1.2315 - val_acc: 0.4034\n",
      "Epoch 3/5\n",
      "321/321 - 1s - loss: 1.1795 - acc: 0.4328 - val_loss: 1.1335 - val_acc: 0.5255\n",
      "Epoch 4/5\n",
      "321/321 - 1s - loss: 1.0791 - acc: 0.5356 - val_loss: 1.0257 - val_acc: 0.5971\n",
      "Epoch 5/5\n",
      "321/321 - 1s - loss: 0.9817 - acc: 0.6300 - val_loss: 0.9383 - val_acc: 0.6935\n",
      "Epoch 1/5\n",
      "321/321 - 1s - loss: 2.5626 - acc: 0.2632 - val_loss: 1.2882 - val_acc: 0.3086\n",
      "Epoch 2/5\n",
      "321/321 - 1s - loss: 1.2256 - acc: 0.3534 - val_loss: 1.1696 - val_acc: 0.4357\n",
      "Epoch 3/5\n",
      "321/321 - 1s - loss: 1.1229 - acc: 0.4767 - val_loss: 1.0701 - val_acc: 0.5164\n",
      "Epoch 4/5\n",
      "321/321 - 1s - loss: 1.0319 - acc: 0.5635 - val_loss: 0.9902 - val_acc: 0.5898\n",
      "Epoch 5/5\n",
      "321/321 - 1s - loss: 0.9467 - acc: 0.6335 - val_loss: 0.9015 - val_acc: 0.6906\n",
      "Epoch 1/5\n",
      "321/321 - 1s - loss: 3.9446 - acc: 0.2735 - val_loss: 1.3364 - val_acc: 0.2821\n",
      "Epoch 2/5\n",
      "321/321 - 1s - loss: 1.2677 - acc: 0.3121 - val_loss: 1.2199 - val_acc: 0.3548\n",
      "Epoch 3/5\n",
      "321/321 - 1s - loss: 1.1651 - acc: 0.4323 - val_loss: 1.1034 - val_acc: 0.4942\n",
      "Epoch 4/5\n",
      "321/321 - 1s - loss: 1.0468 - acc: 0.5726 - val_loss: 0.9919 - val_acc: 0.6346\n",
      "Epoch 5/5\n",
      "321/321 - 1s - loss: 0.9500 - acc: 0.6424 - val_loss: 0.9090 - val_acc: 0.6705\n"
     ]
    },
    {
     "data": {
      "text/html": [
       "<span style=\"color:#4527A0\"><h1 style=\"font-size:18px\">Trial complete</h1></span>"
      ],
      "text/plain": [
       "<IPython.core.display.HTML object>"
      ]
     },
     "metadata": {},
     "output_type": "display_data"
    },
    {
     "data": {
      "text/html": [
       "<span style=\"color:#4527A0\"><h1 style=\"font-size:18px\">Trial summary</h1></span>"
      ],
      "text/plain": [
       "<IPython.core.display.HTML object>"
      ]
     },
     "metadata": {},
     "output_type": "display_data"
    },
    {
     "data": {
      "text/html": [
       "<span style=\"color:cyan\"> |-Trial ID: 3d0e5c858016c6912b2ad0c096c01ca5</span>"
      ],
      "text/plain": [
       "<IPython.core.display.HTML object>"
      ]
     },
     "metadata": {},
     "output_type": "display_data"
    },
    {
     "data": {
      "text/html": [
       "<span style=\"color:cyan\"> |-Score: 0.6848655740420023</span>"
      ],
      "text/plain": [
       "<IPython.core.display.HTML object>"
      ]
     },
     "metadata": {},
     "output_type": "display_data"
    },
    {
     "data": {
      "text/html": [
       "<span style=\"color:cyan\"> |-Best step: 0</span>"
      ],
      "text/plain": [
       "<IPython.core.display.HTML object>"
      ]
     },
     "metadata": {},
     "output_type": "display_data"
    },
    {
     "data": {
      "text/html": [
       "<span style=\"color:#7E57C2\"><h2 style=\"font-size:16px\">Hyperparameters:</h2></span>"
      ],
      "text/plain": [
       "<IPython.core.display.HTML object>"
      ]
     },
     "metadata": {},
     "output_type": "display_data"
    },
    {
     "data": {
      "text/html": [
       "<span style=\"color:cyan\"> |-learning_rate: 0.0001</span>"
      ],
      "text/plain": [
       "<IPython.core.display.HTML object>"
      ]
     },
     "metadata": {},
     "output_type": "display_data"
    },
    {
     "data": {
      "text/html": [
       "<span style=\"color:blue\"> |-unitsl1: 220</span>"
      ],
      "text/plain": [
       "<IPython.core.display.HTML object>"
      ]
     },
     "metadata": {},
     "output_type": "display_data"
    },
    {
     "data": {
      "text/html": [
       "<span style=\"color:cyan\"> |-unitsl2: 30</span>"
      ],
      "text/plain": [
       "<IPython.core.display.HTML object>"
      ]
     },
     "metadata": {},
     "output_type": "display_data"
    },
    {
     "name": "stdout",
     "output_type": "stream",
     "text": [
      "Epoch 1/5\n",
      "321/321 - 1s - loss: 1.9826 - acc: 0.4311 - val_loss: 1.3129 - val_acc: 0.5188\n",
      "Epoch 2/5\n",
      "321/321 - 1s - loss: 0.9489 - acc: 0.6017 - val_loss: 0.7437 - val_acc: 0.6819\n",
      "Epoch 3/5\n",
      "321/321 - 1s - loss: 0.7662 - acc: 0.6695 - val_loss: 0.7467 - val_acc: 0.6823\n",
      "Epoch 4/5\n",
      "321/321 - 1s - loss: 0.6831 - acc: 0.7029 - val_loss: 1.0858 - val_acc: 0.6232\n",
      "Epoch 5/5\n",
      "321/321 - 1s - loss: 0.7264 - acc: 0.7020 - val_loss: 0.5577 - val_acc: 0.7663\n",
      "Epoch 1/5\n",
      "321/321 - 1s - loss: 2.5337 - acc: 0.3196 - val_loss: 1.1300 - val_acc: 0.4574\n",
      "Epoch 2/5\n",
      "321/321 - 1s - loss: 1.1467 - acc: 0.4490 - val_loss: 0.9438 - val_acc: 0.6064\n",
      "Epoch 3/5\n",
      "321/321 - 1s - loss: 0.8617 - acc: 0.6272 - val_loss: 0.8015 - val_acc: 0.6101\n",
      "Epoch 4/5\n",
      "321/321 - 1s - loss: 0.7952 - acc: 0.6867 - val_loss: 0.6530 - val_acc: 0.7171\n",
      "Epoch 5/5\n",
      "321/321 - 1s - loss: 0.5797 - acc: 0.7649 - val_loss: 0.5325 - val_acc: 0.7929\n",
      "Epoch 1/5\n",
      "321/321 - 1s - loss: 2.2060 - acc: 0.3689 - val_loss: 1.1343 - val_acc: 0.5306\n",
      "Epoch 2/5\n",
      "321/321 - 1s - loss: 1.1342 - acc: 0.5552 - val_loss: 0.8329 - val_acc: 0.5607\n",
      "Epoch 3/5\n",
      "321/321 - 1s - loss: 0.7228 - acc: 0.7074 - val_loss: 0.9265 - val_acc: 0.5823\n",
      "Epoch 4/5\n",
      "321/321 - 1s - loss: 0.6476 - acc: 0.7127 - val_loss: 0.5728 - val_acc: 0.7877\n",
      "Epoch 5/5\n",
      "321/321 - 1s - loss: 0.6238 - acc: 0.7232 - val_loss: 0.5764 - val_acc: 0.7757\n"
     ]
    },
    {
     "data": {
      "text/html": [
       "<span style=\"color:#4527A0\"><h1 style=\"font-size:18px\">Trial complete</h1></span>"
      ],
      "text/plain": [
       "<IPython.core.display.HTML object>"
      ]
     },
     "metadata": {},
     "output_type": "display_data"
    },
    {
     "data": {
      "text/html": [
       "<span style=\"color:#4527A0\"><h1 style=\"font-size:18px\">Trial summary</h1></span>"
      ],
      "text/plain": [
       "<IPython.core.display.HTML object>"
      ]
     },
     "metadata": {},
     "output_type": "display_data"
    },
    {
     "data": {
      "text/html": [
       "<span style=\"color:cyan\"> |-Trial ID: 684d2fd7815af508369906c1d16b63bc</span>"
      ],
      "text/plain": [
       "<IPython.core.display.HTML object>"
      ]
     },
     "metadata": {},
     "output_type": "display_data"
    },
    {
     "data": {
      "text/html": [
       "<span style=\"color:cyan\"> |-Score: 0.7823041677474976</span>"
      ],
      "text/plain": [
       "<IPython.core.display.HTML object>"
      ]
     },
     "metadata": {},
     "output_type": "display_data"
    },
    {
     "data": {
      "text/html": [
       "<span style=\"color:cyan\"> |-Best step: 0</span>"
      ],
      "text/plain": [
       "<IPython.core.display.HTML object>"
      ]
     },
     "metadata": {},
     "output_type": "display_data"
    },
    {
     "data": {
      "text/html": [
       "<span style=\"color:#7E57C2\"><h2 style=\"font-size:16px\">Hyperparameters:</h2></span>"
      ],
      "text/plain": [
       "<IPython.core.display.HTML object>"
      ]
     },
     "metadata": {},
     "output_type": "display_data"
    },
    {
     "data": {
      "text/html": [
       "<span style=\"color:cyan\"> |-learning_rate: 0.001</span>"
      ],
      "text/plain": [
       "<IPython.core.display.HTML object>"
      ]
     },
     "metadata": {},
     "output_type": "display_data"
    },
    {
     "data": {
      "text/html": [
       "<span style=\"color:blue\"> |-unitsl1: 310</span>"
      ],
      "text/plain": [
       "<IPython.core.display.HTML object>"
      ]
     },
     "metadata": {},
     "output_type": "display_data"
    },
    {
     "data": {
      "text/html": [
       "<span style=\"color:cyan\"> |-unitsl2: 40</span>"
      ],
      "text/plain": [
       "<IPython.core.display.HTML object>"
      ]
     },
     "metadata": {},
     "output_type": "display_data"
    },
    {
     "name": "stdout",
     "output_type": "stream",
     "text": [
      "Epoch 1/5\n",
      "321/321 - 1s - loss: 2.0907 - acc: 0.3103 - val_loss: 1.2856 - val_acc: 0.3512\n",
      "Epoch 2/5\n",
      "321/321 - 1s - loss: 1.2200 - acc: 0.3704 - val_loss: 1.1795 - val_acc: 0.3757\n",
      "Epoch 3/5\n",
      "321/321 - 1s - loss: 1.1235 - acc: 0.4720 - val_loss: 1.0879 - val_acc: 0.5668\n",
      "Epoch 4/5\n",
      "321/321 - 1s - loss: 1.0312 - acc: 0.5760 - val_loss: 0.9786 - val_acc: 0.6094\n",
      "Epoch 5/5\n",
      "321/321 - 1s - loss: 0.9330 - acc: 0.6491 - val_loss: 0.8864 - val_acc: 0.6765\n",
      "Epoch 1/5\n",
      "321/321 - 1s - loss: 7.1827 - acc: 0.2616 - val_loss: 1.3079 - val_acc: 0.3271\n",
      "Epoch 2/5\n",
      "321/321 - 1s - loss: 1.2436 - acc: 0.3334 - val_loss: 1.2034 - val_acc: 0.3648\n",
      "Epoch 3/5\n",
      "321/321 - 1s - loss: 1.1530 - acc: 0.4365 - val_loss: 1.0994 - val_acc: 0.4955\n",
      "Epoch 4/5\n",
      "321/321 - 1s - loss: 1.0486 - acc: 0.5604 - val_loss: 0.9923 - val_acc: 0.5837\n",
      "Epoch 5/5\n",
      "321/321 - 1s - loss: 0.9354 - acc: 0.6575 - val_loss: 0.9000 - val_acc: 0.5756\n",
      "Epoch 1/5\n",
      "321/321 - 1s - loss: 2.7996 - acc: 0.3002 - val_loss: 1.2340 - val_acc: 0.3557\n",
      "Epoch 2/5\n",
      "321/321 - 1s - loss: 1.1683 - acc: 0.4163 - val_loss: 1.1405 - val_acc: 0.4499\n",
      "Epoch 3/5\n",
      "321/321 - 1s - loss: 1.0725 - acc: 0.5159 - val_loss: 1.0260 - val_acc: 0.5793\n",
      "Epoch 4/5\n",
      "321/321 - 1s - loss: 0.9820 - acc: 0.5973 - val_loss: 0.9694 - val_acc: 0.5483\n",
      "Epoch 5/5\n",
      "321/321 - 1s - loss: 0.8942 - acc: 0.6532 - val_loss: 0.8516 - val_acc: 0.6640\n"
     ]
    },
    {
     "data": {
      "text/html": [
       "<span style=\"color:#4527A0\"><h1 style=\"font-size:18px\">Trial complete</h1></span>"
      ],
      "text/plain": [
       "<IPython.core.display.HTML object>"
      ]
     },
     "metadata": {},
     "output_type": "display_data"
    },
    {
     "data": {
      "text/html": [
       "<span style=\"color:#4527A0\"><h1 style=\"font-size:18px\">Trial summary</h1></span>"
      ],
      "text/plain": [
       "<IPython.core.display.HTML object>"
      ]
     },
     "metadata": {},
     "output_type": "display_data"
    },
    {
     "data": {
      "text/html": [
       "<span style=\"color:cyan\"> |-Trial ID: 73ca664b604be40040f47d620b740bcc</span>"
      ],
      "text/plain": [
       "<IPython.core.display.HTML object>"
      ]
     },
     "metadata": {},
     "output_type": "display_data"
    },
    {
     "data": {
      "text/html": [
       "<span style=\"color:cyan\"> |-Score: 0.6414161721865336</span>"
      ],
      "text/plain": [
       "<IPython.core.display.HTML object>"
      ]
     },
     "metadata": {},
     "output_type": "display_data"
    },
    {
     "data": {
      "text/html": [
       "<span style=\"color:cyan\"> |-Best step: 0</span>"
      ],
      "text/plain": [
       "<IPython.core.display.HTML object>"
      ]
     },
     "metadata": {},
     "output_type": "display_data"
    },
    {
     "data": {
      "text/html": [
       "<span style=\"color:#7E57C2\"><h2 style=\"font-size:16px\">Hyperparameters:</h2></span>"
      ],
      "text/plain": [
       "<IPython.core.display.HTML object>"
      ]
     },
     "metadata": {},
     "output_type": "display_data"
    },
    {
     "data": {
      "text/html": [
       "<span style=\"color:cyan\"> |-learning_rate: 0.0001</span>"
      ],
      "text/plain": [
       "<IPython.core.display.HTML object>"
      ]
     },
     "metadata": {},
     "output_type": "display_data"
    },
    {
     "data": {
      "text/html": [
       "<span style=\"color:blue\"> |-unitsl1: 340</span>"
      ],
      "text/plain": [
       "<IPython.core.display.HTML object>"
      ]
     },
     "metadata": {},
     "output_type": "display_data"
    },
    {
     "data": {
      "text/html": [
       "<span style=\"color:cyan\"> |-unitsl2: 50</span>"
      ],
      "text/plain": [
       "<IPython.core.display.HTML object>"
      ]
     },
     "metadata": {},
     "output_type": "display_data"
    },
    {
     "name": "stdout",
     "output_type": "stream",
     "text": [
      "Epoch 1/5\n",
      "321/321 - 3s - loss: 2.0919 - acc: 0.3797 - val_loss: 1.0760 - val_acc: 0.5149\n",
      "Epoch 2/5\n",
      "321/321 - 1s - loss: 1.1822 - acc: 0.5457 - val_loss: 2.3228 - val_acc: 0.3812\n",
      "Epoch 3/5\n",
      "321/321 - 2s - loss: 0.8637 - acc: 0.6391 - val_loss: 0.7511 - val_acc: 0.5768\n",
      "Epoch 4/5\n",
      "321/321 - 1s - loss: 0.8086 - acc: 0.6454 - val_loss: 0.9199 - val_acc: 0.6159\n",
      "Epoch 5/5\n",
      "321/321 - 1s - loss: 0.7093 - acc: 0.6779 - val_loss: 0.5934 - val_acc: 0.7302\n",
      "Epoch 1/5\n",
      "321/321 - 1s - loss: 2.1458 - acc: 0.3650 - val_loss: 2.3378 - val_acc: 0.2516\n",
      "Epoch 2/5\n",
      "321/321 - 1s - loss: 1.1201 - acc: 0.5717 - val_loss: 0.8065 - val_acc: 0.6548\n",
      "Epoch 3/5\n",
      "321/321 - 1s - loss: 0.8593 - acc: 0.6340 - val_loss: 0.7070 - val_acc: 0.6541\n",
      "Epoch 4/5\n",
      "321/321 - 1s - loss: 0.9521 - acc: 0.6348 - val_loss: 0.7784 - val_acc: 0.6840\n",
      "Epoch 5/5\n",
      "321/321 - 1s - loss: 0.6278 - acc: 0.7295 - val_loss: 0.6207 - val_acc: 0.7039\n",
      "Epoch 1/5\n",
      "321/321 - 1s - loss: 1.6144 - acc: 0.2898 - val_loss: 1.2155 - val_acc: 0.3761\n",
      "Epoch 2/5\n",
      "321/321 - 1s - loss: 1.1781 - acc: 0.4243 - val_loss: 1.1052 - val_acc: 0.5380\n",
      "Epoch 3/5\n",
      "321/321 - 1s - loss: 1.0267 - acc: 0.5588 - val_loss: 0.9534 - val_acc: 0.6404\n",
      "Epoch 4/5\n",
      "321/321 - 1s - loss: 0.9190 - acc: 0.6251 - val_loss: 0.8699 - val_acc: 0.6482\n",
      "Epoch 5/5\n",
      "321/321 - 1s - loss: 0.8504 - acc: 0.6584 - val_loss: 0.8527 - val_acc: 0.5932\n"
     ]
    },
    {
     "data": {
      "text/html": [
       "<span style=\"color:#4527A0\"><h1 style=\"font-size:18px\">Trial complete</h1></span>"
      ],
      "text/plain": [
       "<IPython.core.display.HTML object>"
      ]
     },
     "metadata": {},
     "output_type": "display_data"
    },
    {
     "data": {
      "text/html": [
       "<span style=\"color:#4527A0\"><h1 style=\"font-size:18px\">Trial summary</h1></span>"
      ],
      "text/plain": [
       "<IPython.core.display.HTML object>"
      ]
     },
     "metadata": {},
     "output_type": "display_data"
    },
    {
     "data": {
      "text/html": [
       "<span style=\"color:cyan\"> |-Trial ID: 845d071aafbad0884c0f9a7fb7c342ec</span>"
      ],
      "text/plain": [
       "<IPython.core.display.HTML object>"
      ]
     },
     "metadata": {},
     "output_type": "display_data"
    },
    {
     "data": {
      "text/html": [
       "<span style=\"color:cyan\"> |-Score: 0.6940735379854838</span>"
      ],
      "text/plain": [
       "<IPython.core.display.HTML object>"
      ]
     },
     "metadata": {},
     "output_type": "display_data"
    },
    {
     "data": {
      "text/html": [
       "<span style=\"color:cyan\"> |-Best step: 0</span>"
      ],
      "text/plain": [
       "<IPython.core.display.HTML object>"
      ]
     },
     "metadata": {},
     "output_type": "display_data"
    },
    {
     "data": {
      "text/html": [
       "<span style=\"color:#7E57C2\"><h2 style=\"font-size:16px\">Hyperparameters:</h2></span>"
      ],
      "text/plain": [
       "<IPython.core.display.HTML object>"
      ]
     },
     "metadata": {},
     "output_type": "display_data"
    },
    {
     "data": {
      "text/html": [
       "<span style=\"color:cyan\"> |-learning_rate: 0.001</span>"
      ],
      "text/plain": [
       "<IPython.core.display.HTML object>"
      ]
     },
     "metadata": {},
     "output_type": "display_data"
    },
    {
     "data": {
      "text/html": [
       "<span style=\"color:blue\"> |-unitsl1: 430</span>"
      ],
      "text/plain": [
       "<IPython.core.display.HTML object>"
      ]
     },
     "metadata": {},
     "output_type": "display_data"
    },
    {
     "data": {
      "text/html": [
       "<span style=\"color:cyan\"> |-unitsl2: 15</span>"
      ],
      "text/plain": [
       "<IPython.core.display.HTML object>"
      ]
     },
     "metadata": {},
     "output_type": "display_data"
    },
    {
     "name": "stdout",
     "output_type": "stream",
     "text": [
      "Epoch 1/5\n",
      "321/321 - 1s - loss: 3.6809 - acc: 0.2779 - val_loss: 1.3869 - val_acc: 0.2779\n",
      "Epoch 2/5\n",
      "321/321 - 1s - loss: 1.3709 - acc: 0.2854 - val_loss: 1.3517 - val_acc: 0.2752\n",
      "Epoch 3/5\n",
      "321/321 - 1s - loss: 1.3657 - acc: 0.2864 - val_loss: 1.3635 - val_acc: 0.2785\n",
      "Epoch 4/5\n",
      "321/321 - 1s - loss: 1.3582 - acc: 0.2872 - val_loss: 1.3611 - val_acc: 0.2782\n",
      "Epoch 5/5\n",
      "321/321 - 1s - loss: 1.3505 - acc: 0.2901 - val_loss: 1.3591 - val_acc: 0.2791\n",
      "Epoch 1/5\n",
      "321/321 - 1s - loss: 3.3716 - acc: 0.2792 - val_loss: 1.3834 - val_acc: 0.2836\n",
      "Epoch 2/5\n",
      "321/321 - 1s - loss: 1.3730 - acc: 0.2853 - val_loss: 1.3687 - val_acc: 0.2784\n",
      "Epoch 3/5\n",
      "321/321 - 1s - loss: 1.3544 - acc: 0.2937 - val_loss: 1.3615 - val_acc: 0.2803\n",
      "Epoch 4/5\n",
      "321/321 - 2s - loss: 1.3481 - acc: 0.2950 - val_loss: 1.3551 - val_acc: 0.2850\n",
      "Epoch 5/5\n",
      "321/321 - 1s - loss: 1.3460 - acc: 0.2950 - val_loss: 1.3580 - val_acc: 0.2779\n",
      "Epoch 1/5\n",
      "321/321 - 2s - loss: 4.1115 - acc: 0.4750 - val_loss: 0.7779 - val_acc: 0.7439\n",
      "Epoch 2/5\n",
      "321/321 - 1s - loss: 0.7804 - acc: 0.6718 - val_loss: 0.6920 - val_acc: 0.6637\n",
      "Epoch 3/5\n",
      "321/321 - 1s - loss: 0.6243 - acc: 0.7368 - val_loss: 0.5510 - val_acc: 0.7869\n",
      "Epoch 4/5\n",
      "321/321 - 1s - loss: 0.6360 - acc: 0.7387 - val_loss: 0.6096 - val_acc: 0.7195\n",
      "Epoch 5/5\n",
      "321/321 - 1s - loss: 0.5509 - acc: 0.7739 - val_loss: 0.5211 - val_acc: 0.7926\n"
     ]
    },
    {
     "data": {
      "text/html": [
       "<span style=\"color:#4527A0\"><h1 style=\"font-size:18px\">Trial complete</h1></span>"
      ],
      "text/plain": [
       "<IPython.core.display.HTML object>"
      ]
     },
     "metadata": {},
     "output_type": "display_data"
    },
    {
     "data": {
      "text/html": [
       "<span style=\"color:#4527A0\"><h1 style=\"font-size:18px\">Trial summary</h1></span>"
      ],
      "text/plain": [
       "<IPython.core.display.HTML object>"
      ]
     },
     "metadata": {},
     "output_type": "display_data"
    },
    {
     "data": {
      "text/html": [
       "<span style=\"color:cyan\"> |-Trial ID: 47527430a2f5c9a0a21a059c29eedd62</span>"
      ],
      "text/plain": [
       "<IPython.core.display.HTML object>"
      ]
     },
     "metadata": {},
     "output_type": "display_data"
    },
    {
     "data": {
      "text/html": [
       "<span style=\"color:cyan\"> |-Score: 0.4522273639837901</span>"
      ],
      "text/plain": [
       "<IPython.core.display.HTML object>"
      ]
     },
     "metadata": {},
     "output_type": "display_data"
    },
    {
     "data": {
      "text/html": [
       "<span style=\"color:cyan\"> |-Best step: 0</span>"
      ],
      "text/plain": [
       "<IPython.core.display.HTML object>"
      ]
     },
     "metadata": {},
     "output_type": "display_data"
    },
    {
     "data": {
      "text/html": [
       "<span style=\"color:#7E57C2\"><h2 style=\"font-size:16px\">Hyperparameters:</h2></span>"
      ],
      "text/plain": [
       "<IPython.core.display.HTML object>"
      ]
     },
     "metadata": {},
     "output_type": "display_data"
    },
    {
     "data": {
      "text/html": [
       "<span style=\"color:cyan\"> |-learning_rate: 0.01</span>"
      ],
      "text/plain": [
       "<IPython.core.display.HTML object>"
      ]
     },
     "metadata": {},
     "output_type": "display_data"
    },
    {
     "data": {
      "text/html": [
       "<span style=\"color:blue\"> |-unitsl1: 430</span>"
      ],
      "text/plain": [
       "<IPython.core.display.HTML object>"
      ]
     },
     "metadata": {},
     "output_type": "display_data"
    },
    {
     "data": {
      "text/html": [
       "<span style=\"color:cyan\"> |-unitsl2: 25</span>"
      ],
      "text/plain": [
       "<IPython.core.display.HTML object>"
      ]
     },
     "metadata": {},
     "output_type": "display_data"
    },
    {
     "name": "stdout",
     "output_type": "stream",
     "text": [
      "Epoch 1/5\n",
      "321/321 - 1s - loss: 4.9453 - acc: 0.5617 - val_loss: 0.8016 - val_acc: 0.5971\n",
      "Epoch 2/5\n",
      "321/321 - 1s - loss: 0.7329 - acc: 0.6885 - val_loss: 0.6874 - val_acc: 0.6586\n",
      "Epoch 3/5\n",
      "321/321 - 1s - loss: 0.6266 - acc: 0.7303 - val_loss: 0.5945 - val_acc: 0.7261\n",
      "Epoch 4/5\n",
      "321/321 - 1s - loss: 0.5662 - acc: 0.7645 - val_loss: 1.4161 - val_acc: 0.5660\n",
      "Epoch 5/5\n",
      "321/321 - 1s - loss: 0.5880 - acc: 0.7625 - val_loss: 0.5639 - val_acc: 0.7381\n",
      "Epoch 1/5\n",
      "321/321 - 1s - loss: 3.3028 - acc: 0.2887 - val_loss: 1.3811 - val_acc: 0.2911\n",
      "Epoch 2/5\n",
      "321/321 - 1s - loss: 1.3693 - acc: 0.2925 - val_loss: 1.3617 - val_acc: 0.2869\n",
      "Epoch 3/5\n",
      "321/321 - 1s - loss: 1.3543 - acc: 0.2983 - val_loss: 1.3637 - val_acc: 0.2794\n",
      "Epoch 4/5\n",
      "321/321 - 1s - loss: 1.3626 - acc: 0.2835 - val_loss: 1.3632 - val_acc: 0.2773\n",
      "Epoch 5/5\n",
      "321/321 - 1s - loss: 1.3567 - acc: 0.2864 - val_loss: 1.3582 - val_acc: 0.2773\n",
      "Epoch 1/5\n",
      "321/321 - 1s - loss: 3.6862 - acc: 0.2875 - val_loss: 1.3918 - val_acc: 0.2767\n",
      "Epoch 2/5\n",
      "321/321 - 1s - loss: 1.4514 - acc: 0.2842 - val_loss: 1.3708 - val_acc: 0.2782\n",
      "Epoch 3/5\n",
      "321/321 - 1s - loss: 1.3595 - acc: 0.2926 - val_loss: 1.3632 - val_acc: 0.2799\n",
      "Epoch 4/5\n",
      "321/321 - 1s - loss: 1.3545 - acc: 0.2890 - val_loss: 1.3498 - val_acc: 0.2875\n",
      "Epoch 5/5\n",
      "321/321 - 1s - loss: 1.5512 - acc: 0.2872 - val_loss: 1.3621 - val_acc: 0.2772\n"
     ]
    },
    {
     "data": {
      "text/html": [
       "<span style=\"color:#4527A0\"><h1 style=\"font-size:18px\">Trial complete</h1></span>"
      ],
      "text/plain": [
       "<IPython.core.display.HTML object>"
      ]
     },
     "metadata": {},
     "output_type": "display_data"
    },
    {
     "data": {
      "text/html": [
       "<span style=\"color:#4527A0\"><h1 style=\"font-size:18px\">Trial summary</h1></span>"
      ],
      "text/plain": [
       "<IPython.core.display.HTML object>"
      ]
     },
     "metadata": {},
     "output_type": "display_data"
    },
    {
     "data": {
      "text/html": [
       "<span style=\"color:cyan\"> |-Trial ID: 9b85a7362e5eadb3e0cad43e8b1124c2</span>"
      ],
      "text/plain": [
       "<IPython.core.display.HTML object>"
      ]
     },
     "metadata": {},
     "output_type": "display_data"
    },
    {
     "data": {
      "text/html": [
       "<span style=\"color:cyan\"> |-Score: 0.43888192375500995</span>"
      ],
      "text/plain": [
       "<IPython.core.display.HTML object>"
      ]
     },
     "metadata": {},
     "output_type": "display_data"
    },
    {
     "data": {
      "text/html": [
       "<span style=\"color:cyan\"> |-Best step: 0</span>"
      ],
      "text/plain": [
       "<IPython.core.display.HTML object>"
      ]
     },
     "metadata": {},
     "output_type": "display_data"
    },
    {
     "data": {
      "text/html": [
       "<span style=\"color:#7E57C2\"><h2 style=\"font-size:16px\">Hyperparameters:</h2></span>"
      ],
      "text/plain": [
       "<IPython.core.display.HTML object>"
      ]
     },
     "metadata": {},
     "output_type": "display_data"
    },
    {
     "data": {
      "text/html": [
       "<span style=\"color:cyan\"> |-learning_rate: 0.01</span>"
      ],
      "text/plain": [
       "<IPython.core.display.HTML object>"
      ]
     },
     "metadata": {},
     "output_type": "display_data"
    },
    {
     "data": {
      "text/html": [
       "<span style=\"color:blue\"> |-unitsl1: 310</span>"
      ],
      "text/plain": [
       "<IPython.core.display.HTML object>"
      ]
     },
     "metadata": {},
     "output_type": "display_data"
    },
    {
     "data": {
      "text/html": [
       "<span style=\"color:cyan\"> |-unitsl2: 35</span>"
      ],
      "text/plain": [
       "<IPython.core.display.HTML object>"
      ]
     },
     "metadata": {},
     "output_type": "display_data"
    },
    {
     "name": "stdout",
     "output_type": "stream",
     "text": [
      "Epoch 1/5\n",
      "321/321 - 2s - loss: 4.6622 - acc: 0.2771 - val_loss: 1.2985 - val_acc: 0.3246\n",
      "Epoch 2/5\n",
      "321/321 - 1s - loss: 1.2519 - acc: 0.3482 - val_loss: 1.2096 - val_acc: 0.3809\n",
      "Epoch 3/5\n",
      "321/321 - 1s - loss: 1.1699 - acc: 0.4077 - val_loss: 1.1431 - val_acc: 0.4452\n",
      "Epoch 4/5\n",
      "321/321 - 1s - loss: 1.0688 - acc: 0.5337 - val_loss: 1.0127 - val_acc: 0.5336\n",
      "Epoch 5/5\n",
      "321/321 - 1s - loss: 0.9584 - acc: 0.6207 - val_loss: 0.9109 - val_acc: 0.6487\n",
      "Epoch 1/5\n",
      "321/321 - 1s - loss: 5.3943 - acc: 0.2618 - val_loss: 1.3532 - val_acc: 0.2999\n",
      "Epoch 2/5\n",
      "321/321 - 1s - loss: 1.2872 - acc: 0.3361 - val_loss: 1.2398 - val_acc: 0.3588\n",
      "Epoch 3/5\n",
      "321/321 - 1s - loss: 1.2013 - acc: 0.3761 - val_loss: 1.1702 - val_acc: 0.4360\n",
      "Epoch 4/5\n",
      "321/321 - 1s - loss: 1.1257 - acc: 0.4675 - val_loss: 1.0788 - val_acc: 0.5096\n",
      "Epoch 5/5\n",
      "321/321 - 1s - loss: 1.0362 - acc: 0.5789 - val_loss: 1.0063 - val_acc: 0.5502\n",
      "Epoch 1/5\n",
      "321/321 - 1s - loss: 2.5030 - acc: 0.2609 - val_loss: 1.2810 - val_acc: 0.2812\n",
      "Epoch 2/5\n",
      "321/321 - 1s - loss: 1.2493 - acc: 0.3167 - val_loss: 1.2228 - val_acc: 0.3904\n",
      "Epoch 3/5\n",
      "321/321 - 1s - loss: 1.1755 - acc: 0.4228 - val_loss: 1.1310 - val_acc: 0.4350\n",
      "Epoch 4/5\n",
      "321/321 - 1s - loss: 1.0675 - acc: 0.5481 - val_loss: 1.0297 - val_acc: 0.5236\n",
      "Epoch 5/5\n",
      "321/321 - 1s - loss: 0.9636 - acc: 0.6210 - val_loss: 0.9244 - val_acc: 0.5773\n"
     ]
    },
    {
     "data": {
      "text/html": [
       "<span style=\"color:#4527A0\"><h1 style=\"font-size:18px\">Trial complete</h1></span>"
      ],
      "text/plain": [
       "<IPython.core.display.HTML object>"
      ]
     },
     "metadata": {},
     "output_type": "display_data"
    },
    {
     "data": {
      "text/html": [
       "<span style=\"color:#4527A0\"><h1 style=\"font-size:18px\">Trial summary</h1></span>"
      ],
      "text/plain": [
       "<IPython.core.display.HTML object>"
      ]
     },
     "metadata": {},
     "output_type": "display_data"
    },
    {
     "data": {
      "text/html": [
       "<span style=\"color:cyan\"> |-Trial ID: c744afd1b1e6ef0f63e55a6793e573d3</span>"
      ],
      "text/plain": [
       "<IPython.core.display.HTML object>"
      ]
     },
     "metadata": {},
     "output_type": "display_data"
    },
    {
     "data": {
      "text/html": [
       "<span style=\"color:cyan\"> |-Score: 0.592063287893931</span>"
      ],
      "text/plain": [
       "<IPython.core.display.HTML object>"
      ]
     },
     "metadata": {},
     "output_type": "display_data"
    },
    {
     "data": {
      "text/html": [
       "<span style=\"color:cyan\"> |-Best step: 0</span>"
      ],
      "text/plain": [
       "<IPython.core.display.HTML object>"
      ]
     },
     "metadata": {},
     "output_type": "display_data"
    },
    {
     "data": {
      "text/html": [
       "<span style=\"color:#7E57C2\"><h2 style=\"font-size:16px\">Hyperparameters:</h2></span>"
      ],
      "text/plain": [
       "<IPython.core.display.HTML object>"
      ]
     },
     "metadata": {},
     "output_type": "display_data"
    },
    {
     "data": {
      "text/html": [
       "<span style=\"color:cyan\"> |-learning_rate: 0.0001</span>"
      ],
      "text/plain": [
       "<IPython.core.display.HTML object>"
      ]
     },
     "metadata": {},
     "output_type": "display_data"
    },
    {
     "data": {
      "text/html": [
       "<span style=\"color:blue\"> |-unitsl1: 280</span>"
      ],
      "text/plain": [
       "<IPython.core.display.HTML object>"
      ]
     },
     "metadata": {},
     "output_type": "display_data"
    },
    {
     "data": {
      "text/html": [
       "<span style=\"color:cyan\"> |-unitsl2: 30</span>"
      ],
      "text/plain": [
       "<IPython.core.display.HTML object>"
      ]
     },
     "metadata": {},
     "output_type": "display_data"
    },
    {
     "name": "stdout",
     "output_type": "stream",
     "text": [
      "Epoch 1/5\n",
      "321/321 - 2s - loss: 11.4177 - acc: 0.2888 - val_loss: 1.2927 - val_acc: 0.3045\n",
      "Epoch 2/5\n",
      "321/321 - 1s - loss: 1.2396 - acc: 0.3370 - val_loss: 1.2123 - val_acc: 0.3240\n",
      "Epoch 3/5\n",
      "321/321 - 1s - loss: 1.1796 - acc: 0.3825 - val_loss: 1.1565 - val_acc: 0.3812\n",
      "Epoch 4/5\n",
      "321/321 - 1s - loss: 1.1218 - acc: 0.4399 - val_loss: 1.0942 - val_acc: 0.4687\n",
      "Epoch 5/5\n",
      "321/321 - 1s - loss: 1.0626 - acc: 0.5032 - val_loss: 1.0353 - val_acc: 0.5217\n",
      "Epoch 1/5\n",
      "321/321 - 1s - loss: 1.6234 - acc: 0.2782 - val_loss: 1.3222 - val_acc: 0.2971\n",
      "Epoch 2/5\n",
      "321/321 - 1s - loss: 1.2858 - acc: 0.2958 - val_loss: 1.2613 - val_acc: 0.3105\n",
      "Epoch 3/5\n",
      "321/321 - 1s - loss: 1.2345 - acc: 0.3442 - val_loss: 1.2137 - val_acc: 0.3794\n",
      "Epoch 4/5\n",
      "321/321 - 1s - loss: 1.1854 - acc: 0.4385 - val_loss: 1.1617 - val_acc: 0.4701\n",
      "Epoch 5/5\n",
      "321/321 - 1s - loss: 1.1323 - acc: 0.4870 - val_loss: 1.1052 - val_acc: 0.4932\n",
      "Epoch 1/5\n",
      "321/321 - 1s - loss: 2.9690 - acc: 0.2264 - val_loss: 1.5847 - val_acc: 0.2697\n",
      "Epoch 2/5\n",
      "321/321 - 1s - loss: 1.5642 - acc: 0.2756 - val_loss: 1.5487 - val_acc: 0.2577\n",
      "Epoch 3/5\n",
      "321/321 - 1s - loss: 1.3671 - acc: 0.2826 - val_loss: 1.3015 - val_acc: 0.2522\n",
      "Epoch 4/5\n",
      "321/321 - 1s - loss: 1.2749 - acc: 0.3154 - val_loss: 1.2790 - val_acc: 0.3072\n",
      "Epoch 5/5\n",
      "321/321 - 1s - loss: 1.2341 - acc: 0.3348 - val_loss: 1.1866 - val_acc: 0.4045\n"
     ]
    },
    {
     "data": {
      "text/html": [
       "<span style=\"color:#4527A0\"><h1 style=\"font-size:18px\">Trial complete</h1></span>"
      ],
      "text/plain": [
       "<IPython.core.display.HTML object>"
      ]
     },
     "metadata": {},
     "output_type": "display_data"
    },
    {
     "data": {
      "text/html": [
       "<span style=\"color:#4527A0\"><h1 style=\"font-size:18px\">Trial summary</h1></span>"
      ],
      "text/plain": [
       "<IPython.core.display.HTML object>"
      ]
     },
     "metadata": {},
     "output_type": "display_data"
    },
    {
     "data": {
      "text/html": [
       "<span style=\"color:cyan\"> |-Trial ID: a69f61cb7dc9323fcd676d20f5a77436</span>"
      ],
      "text/plain": [
       "<IPython.core.display.HTML object>"
      ]
     },
     "metadata": {},
     "output_type": "display_data"
    },
    {
     "data": {
      "text/html": [
       "<span style=\"color:cyan\"> |-Score: 0.4731609026590983</span>"
      ],
      "text/plain": [
       "<IPython.core.display.HTML object>"
      ]
     },
     "metadata": {},
     "output_type": "display_data"
    },
    {
     "data": {
      "text/html": [
       "<span style=\"color:cyan\"> |-Best step: 0</span>"
      ],
      "text/plain": [
       "<IPython.core.display.HTML object>"
      ]
     },
     "metadata": {},
     "output_type": "display_data"
    },
    {
     "data": {
      "text/html": [
       "<span style=\"color:#7E57C2\"><h2 style=\"font-size:16px\">Hyperparameters:</h2></span>"
      ],
      "text/plain": [
       "<IPython.core.display.HTML object>"
      ]
     },
     "metadata": {},
     "output_type": "display_data"
    },
    {
     "data": {
      "text/html": [
       "<span style=\"color:cyan\"> |-learning_rate: 0.0001</span>"
      ],
      "text/plain": [
       "<IPython.core.display.HTML object>"
      ]
     },
     "metadata": {},
     "output_type": "display_data"
    },
    {
     "data": {
      "text/html": [
       "<span style=\"color:blue\"> |-unitsl1: 250</span>"
      ],
      "text/plain": [
       "<IPython.core.display.HTML object>"
      ]
     },
     "metadata": {},
     "output_type": "display_data"
    },
    {
     "data": {
      "text/html": [
       "<span style=\"color:cyan\"> |-unitsl2: 10</span>"
      ],
      "text/plain": [
       "<IPython.core.display.HTML object>"
      ]
     },
     "metadata": {},
     "output_type": "display_data"
    },
    {
     "name": "stdout",
     "output_type": "stream",
     "text": [
      "Epoch 1/5\n",
      "321/321 - 1s - loss: 10.1321 - acc: 0.2462 - val_loss: 1.5617 - val_acc: 0.2827\n",
      "Epoch 2/5\n",
      "321/321 - 1s - loss: 1.5471 - acc: 0.2908 - val_loss: 1.5348 - val_acc: 0.2980\n",
      "Epoch 3/5\n",
      "321/321 - 1s - loss: 1.5122 - acc: 0.3189 - val_loss: 1.4844 - val_acc: 0.3502\n",
      "Epoch 4/5\n",
      "321/321 - 1s - loss: 1.4502 - acc: 0.4582 - val_loss: 1.4198 - val_acc: 0.5237\n",
      "Epoch 5/5\n",
      "321/321 - 1s - loss: 1.3802 - acc: 0.5403 - val_loss: 1.3404 - val_acc: 0.5842\n",
      "Epoch 1/5\n",
      "321/321 - 1s - loss: 2.9081 - acc: 0.2669 - val_loss: 1.2791 - val_acc: 0.3059\n",
      "Epoch 2/5\n",
      "321/321 - 1s - loss: 1.2320 - acc: 0.3563 - val_loss: 1.2013 - val_acc: 0.3911\n",
      "Epoch 3/5\n",
      "321/321 - 1s - loss: 1.1571 - acc: 0.4499 - val_loss: 1.1214 - val_acc: 0.4634\n",
      "Epoch 4/5\n",
      "321/321 - 1s - loss: 1.0796 - acc: 0.5334 - val_loss: 1.0408 - val_acc: 0.5407\n",
      "Epoch 5/5\n",
      "321/321 - 2s - loss: 0.9968 - acc: 0.6167 - val_loss: 0.9622 - val_acc: 0.6107\n",
      "Epoch 1/5\n",
      "321/321 - 1s - loss: 3.0287 - acc: 0.2671 - val_loss: 1.2994 - val_acc: 0.3233\n",
      "Epoch 2/5\n",
      "321/321 - 1s - loss: 1.2600 - acc: 0.3320 - val_loss: 1.2214 - val_acc: 0.4069\n",
      "Epoch 3/5\n",
      "321/321 - 1s - loss: 1.1804 - acc: 0.4286 - val_loss: 1.1399 - val_acc: 0.4903\n",
      "Epoch 4/5\n",
      "321/321 - 1s - loss: 1.0840 - acc: 0.5520 - val_loss: 1.0343 - val_acc: 0.6106\n",
      "Epoch 5/5\n",
      "321/321 - 1s - loss: 0.9863 - acc: 0.6299 - val_loss: 0.9400 - val_acc: 0.7118\n"
     ]
    },
    {
     "data": {
      "text/html": [
       "<span style=\"color:#4527A0\"><h1 style=\"font-size:18px\">Trial complete</h1></span>"
      ],
      "text/plain": [
       "<IPython.core.display.HTML object>"
      ]
     },
     "metadata": {},
     "output_type": "display_data"
    },
    {
     "data": {
      "text/html": [
       "<span style=\"color:#4527A0\"><h1 style=\"font-size:18px\">Trial summary</h1></span>"
      ],
      "text/plain": [
       "<IPython.core.display.HTML object>"
      ]
     },
     "metadata": {},
     "output_type": "display_data"
    },
    {
     "data": {
      "text/html": [
       "<span style=\"color:cyan\"> |-Trial ID: 44e827e6cfce41b7276f2067c4cedabc</span>"
      ],
      "text/plain": [
       "<IPython.core.display.HTML object>"
      ]
     },
     "metadata": {},
     "output_type": "display_data"
    },
    {
     "data": {
      "text/html": [
       "<span style=\"color:cyan\"> |-Score: 0.6355732480684916</span>"
      ],
      "text/plain": [
       "<IPython.core.display.HTML object>"
      ]
     },
     "metadata": {},
     "output_type": "display_data"
    },
    {
     "data": {
      "text/html": [
       "<span style=\"color:cyan\"> |-Best step: 0</span>"
      ],
      "text/plain": [
       "<IPython.core.display.HTML object>"
      ]
     },
     "metadata": {},
     "output_type": "display_data"
    },
    {
     "data": {
      "text/html": [
       "<span style=\"color:#7E57C2\"><h2 style=\"font-size:16px\">Hyperparameters:</h2></span>"
      ],
      "text/plain": [
       "<IPython.core.display.HTML object>"
      ]
     },
     "metadata": {},
     "output_type": "display_data"
    },
    {
     "data": {
      "text/html": [
       "<span style=\"color:cyan\"> |-learning_rate: 0.0001</span>"
      ],
      "text/plain": [
       "<IPython.core.display.HTML object>"
      ]
     },
     "metadata": {},
     "output_type": "display_data"
    },
    {
     "data": {
      "text/html": [
       "<span style=\"color:blue\"> |-unitsl1: 340</span>"
      ],
      "text/plain": [
       "<IPython.core.display.HTML object>"
      ]
     },
     "metadata": {},
     "output_type": "display_data"
    },
    {
     "data": {
      "text/html": [
       "<span style=\"color:cyan\"> |-unitsl2: 15</span>"
      ],
      "text/plain": [
       "<IPython.core.display.HTML object>"
      ]
     },
     "metadata": {},
     "output_type": "display_data"
    },
    {
     "name": "stdout",
     "output_type": "stream",
     "text": [
      "Epoch 1/5\n",
      "321/321 - 1s - loss: 9.5120 - acc: 0.2480 - val_loss: 1.3998 - val_acc: 0.2904\n",
      "Epoch 2/5\n",
      "321/321 - 1s - loss: 1.3314 - acc: 0.2767 - val_loss: 1.2835 - val_acc: 0.2800\n",
      "Epoch 3/5\n",
      "321/321 - 2s - loss: 1.2498 - acc: 0.3099 - val_loss: 1.2158 - val_acc: 0.2963\n",
      "Epoch 4/5\n",
      "321/321 - 1s - loss: 1.1712 - acc: 0.3674 - val_loss: 1.1481 - val_acc: 0.4575\n",
      "Epoch 5/5\n",
      "321/321 - 1s - loss: 1.0774 - acc: 0.4493 - val_loss: 1.0252 - val_acc: 0.4867\n",
      "Epoch 1/5\n",
      "321/321 - 1s - loss: 4.1122 - acc: 0.2815 - val_loss: 1.2641 - val_acc: 0.3186\n",
      "Epoch 2/5\n",
      "321/321 - 1s - loss: 1.2177 - acc: 0.3787 - val_loss: 1.1806 - val_acc: 0.4449\n",
      "Epoch 3/5\n",
      "321/321 - 2s - loss: 1.1245 - acc: 0.4842 - val_loss: 1.0724 - val_acc: 0.5216\n",
      "Epoch 4/5\n",
      "321/321 - 1s - loss: 1.0103 - acc: 0.5558 - val_loss: 0.9430 - val_acc: 0.5922\n",
      "Epoch 5/5\n",
      "321/321 - 1s - loss: 0.8898 - acc: 0.6434 - val_loss: 0.8429 - val_acc: 0.6667\n",
      "Epoch 1/5\n",
      "321/321 - 1s - loss: 6.3154 - acc: 0.2798 - val_loss: 1.4315 - val_acc: 0.3134\n",
      "Epoch 2/5\n",
      "321/321 - 1s - loss: 1.3160 - acc: 0.3079 - val_loss: 1.2681 - val_acc: 0.3699\n",
      "Epoch 3/5\n",
      "321/321 - 1s - loss: 1.2029 - acc: 0.4152 - val_loss: 1.1375 - val_acc: 0.5387\n",
      "Epoch 4/5\n",
      "321/321 - 1s - loss: 1.0703 - acc: 0.5576 - val_loss: 1.0104 - val_acc: 0.5628\n",
      "Epoch 5/5\n",
      "321/321 - 1s - loss: 0.9573 - acc: 0.6202 - val_loss: 0.9087 - val_acc: 0.6225\n"
     ]
    },
    {
     "data": {
      "text/html": [
       "<span style=\"color:#4527A0\"><h1 style=\"font-size:18px\">Trial complete</h1></span>"
      ],
      "text/plain": [
       "<IPython.core.display.HTML object>"
      ]
     },
     "metadata": {},
     "output_type": "display_data"
    },
    {
     "data": {
      "text/html": [
       "<span style=\"color:#4527A0\"><h1 style=\"font-size:18px\">Trial summary</h1></span>"
      ],
      "text/plain": [
       "<IPython.core.display.HTML object>"
      ]
     },
     "metadata": {},
     "output_type": "display_data"
    },
    {
     "data": {
      "text/html": [
       "<span style=\"color:cyan\"> |-Trial ID: 4cf96197294284163cefbc1173338921</span>"
      ],
      "text/plain": [
       "<IPython.core.display.HTML object>"
      ]
     },
     "metadata": {},
     "output_type": "display_data"
    },
    {
     "data": {
      "text/html": [
       "<span style=\"color:cyan\"> |-Score: 0.5919547279675802</span>"
      ],
      "text/plain": [
       "<IPython.core.display.HTML object>"
      ]
     },
     "metadata": {},
     "output_type": "display_data"
    },
    {
     "data": {
      "text/html": [
       "<span style=\"color:cyan\"> |-Best step: 0</span>"
      ],
      "text/plain": [
       "<IPython.core.display.HTML object>"
      ]
     },
     "metadata": {},
     "output_type": "display_data"
    },
    {
     "data": {
      "text/html": [
       "<span style=\"color:#7E57C2\"><h2 style=\"font-size:16px\">Hyperparameters:</h2></span>"
      ],
      "text/plain": [
       "<IPython.core.display.HTML object>"
      ]
     },
     "metadata": {},
     "output_type": "display_data"
    },
    {
     "data": {
      "text/html": [
       "<span style=\"color:cyan\"> |-learning_rate: 0.0001</span>"
      ],
      "text/plain": [
       "<IPython.core.display.HTML object>"
      ]
     },
     "metadata": {},
     "output_type": "display_data"
    },
    {
     "data": {
      "text/html": [
       "<span style=\"color:blue\"> |-unitsl1: 430</span>"
      ],
      "text/plain": [
       "<IPython.core.display.HTML object>"
      ]
     },
     "metadata": {},
     "output_type": "display_data"
    },
    {
     "data": {
      "text/html": [
       "<span style=\"color:cyan\"> |-unitsl2: 20</span>"
      ],
      "text/plain": [
       "<IPython.core.display.HTML object>"
      ]
     },
     "metadata": {},
     "output_type": "display_data"
    },
    {
     "name": "stdout",
     "output_type": "stream",
     "text": [
      "Epoch 1/5\n",
      "321/321 - 2s - loss: 4.8557 - acc: 0.2495 - val_loss: 1.3467 - val_acc: 0.2853\n",
      "Epoch 2/5\n",
      "321/321 - 1s - loss: 1.2769 - acc: 0.3130 - val_loss: 1.2351 - val_acc: 0.3478\n",
      "Epoch 3/5\n",
      "321/321 - 1s - loss: 1.2125 - acc: 0.3622 - val_loss: 1.1908 - val_acc: 0.3573\n",
      "Epoch 4/5\n",
      "321/321 - 1s - loss: 1.1681 - acc: 0.4062 - val_loss: 1.1454 - val_acc: 0.4444\n",
      "Epoch 5/5\n",
      "321/321 - 1s - loss: 1.1227 - acc: 0.4624 - val_loss: 1.0996 - val_acc: 0.4756\n",
      "Epoch 1/5\n",
      "321/321 - 1s - loss: 26.7079 - acc: 0.2390 - val_loss: 1.3663 - val_acc: 0.2672\n",
      "Epoch 2/5\n",
      "321/321 - 1s - loss: 1.3199 - acc: 0.2927 - val_loss: 1.2838 - val_acc: 0.3074\n",
      "Epoch 3/5\n",
      "321/321 - 1s - loss: 1.2346 - acc: 0.3498 - val_loss: 1.1950 - val_acc: 0.3662\n",
      "Epoch 4/5\n",
      "321/321 - 1s - loss: 1.1584 - acc: 0.4149 - val_loss: 1.1236 - val_acc: 0.4752\n",
      "Epoch 5/5\n",
      "321/321 - 2s - loss: 1.0943 - acc: 0.4939 - val_loss: 1.0652 - val_acc: 0.5163\n",
      "Epoch 1/5\n",
      "321/321 - 1s - loss: 22.5847 - acc: 0.2748 - val_loss: 1.3415 - val_acc: 0.2959\n",
      "Epoch 2/5\n",
      "321/321 - 1s - loss: 1.2961 - acc: 0.3106 - val_loss: 1.2661 - val_acc: 0.2974\n",
      "Epoch 3/5\n",
      "321/321 - 1s - loss: 1.2373 - acc: 0.3368 - val_loss: 1.2190 - val_acc: 0.3730\n",
      "Epoch 4/5\n",
      "321/321 - 1s - loss: 1.1898 - acc: 0.3957 - val_loss: 1.1598 - val_acc: 0.4696\n",
      "Epoch 5/5\n",
      "321/321 - 1s - loss: 1.1108 - acc: 0.4935 - val_loss: 1.0710 - val_acc: 0.5176\n"
     ]
    },
    {
     "data": {
      "text/html": [
       "<span style=\"color:#4527A0\"><h1 style=\"font-size:18px\">Trial complete</h1></span>"
      ],
      "text/plain": [
       "<IPython.core.display.HTML object>"
      ]
     },
     "metadata": {},
     "output_type": "display_data"
    },
    {
     "data": {
      "text/html": [
       "<span style=\"color:#4527A0\"><h1 style=\"font-size:18px\">Trial summary</h1></span>"
      ],
      "text/plain": [
       "<IPython.core.display.HTML object>"
      ]
     },
     "metadata": {},
     "output_type": "display_data"
    },
    {
     "data": {
      "text/html": [
       "<span style=\"color:cyan\"> |-Trial ID: 3c57d91c4cc24de2dd95390084ccd577</span>"
      ],
      "text/plain": [
       "<IPython.core.display.HTML object>"
      ]
     },
     "metadata": {},
     "output_type": "display_data"
    },
    {
     "data": {
      "text/html": [
       "<span style=\"color:cyan\"> |-Score: 0.5031584004561106</span>"
      ],
      "text/plain": [
       "<IPython.core.display.HTML object>"
      ]
     },
     "metadata": {},
     "output_type": "display_data"
    },
    {
     "data": {
      "text/html": [
       "<span style=\"color:cyan\"> |-Best step: 0</span>"
      ],
      "text/plain": [
       "<IPython.core.display.HTML object>"
      ]
     },
     "metadata": {},
     "output_type": "display_data"
    },
    {
     "data": {
      "text/html": [
       "<span style=\"color:#7E57C2\"><h2 style=\"font-size:16px\">Hyperparameters:</h2></span>"
      ],
      "text/plain": [
       "<IPython.core.display.HTML object>"
      ]
     },
     "metadata": {},
     "output_type": "display_data"
    },
    {
     "data": {
      "text/html": [
       "<span style=\"color:cyan\"> |-learning_rate: 0.0001</span>"
      ],
      "text/plain": [
       "<IPython.core.display.HTML object>"
      ]
     },
     "metadata": {},
     "output_type": "display_data"
    },
    {
     "data": {
      "text/html": [
       "<span style=\"color:blue\"> |-unitsl1: 100</span>"
      ],
      "text/plain": [
       "<IPython.core.display.HTML object>"
      ]
     },
     "metadata": {},
     "output_type": "display_data"
    },
    {
     "data": {
      "text/html": [
       "<span style=\"color:cyan\"> |-unitsl2: 45</span>"
      ],
      "text/plain": [
       "<IPython.core.display.HTML object>"
      ]
     },
     "metadata": {},
     "output_type": "display_data"
    },
    {
     "name": "stdout",
     "output_type": "stream",
     "text": [
      "Epoch 1/5\n",
      "321/321 - 1s - loss: 2.5279 - acc: 0.2440 - val_loss: 1.3345 - val_acc: 0.2679\n",
      "Epoch 2/5\n",
      "321/321 - 1s - loss: 1.3058 - acc: 0.2883 - val_loss: 1.2904 - val_acc: 0.3644\n",
      "Epoch 3/5\n",
      "321/321 - 1s - loss: 1.2642 - acc: 0.3324 - val_loss: 1.2449 - val_acc: 0.3674\n",
      "Epoch 4/5\n",
      "321/321 - 1s - loss: 1.2281 - acc: 0.3722 - val_loss: 1.2110 - val_acc: 0.3748\n",
      "Epoch 5/5\n",
      "321/321 - 1s - loss: 1.1914 - acc: 0.4020 - val_loss: 1.1636 - val_acc: 0.4183\n",
      "Epoch 1/5\n",
      "321/321 - 1s - loss: 8.4639 - acc: 0.2638 - val_loss: 1.2999 - val_acc: 0.2820\n",
      "Epoch 2/5\n",
      "321/321 - 1s - loss: 1.2582 - acc: 0.3189 - val_loss: 1.2206 - val_acc: 0.3432\n",
      "Epoch 3/5\n",
      "321/321 - 1s - loss: 1.1778 - acc: 0.4030 - val_loss: 1.1285 - val_acc: 0.4548\n",
      "Epoch 4/5\n",
      "321/321 - 1s - loss: 1.0727 - acc: 0.5312 - val_loss: 1.0216 - val_acc: 0.5493\n",
      "Epoch 5/5\n",
      "321/321 - 1s - loss: 0.9745 - acc: 0.5977 - val_loss: 0.9326 - val_acc: 0.6514\n",
      "Epoch 1/5\n",
      "321/321 - 1s - loss: 7.2048 - acc: 0.2623 - val_loss: 1.3274 - val_acc: 0.2734\n",
      "Epoch 2/5\n",
      "321/321 - 1s - loss: 1.2844 - acc: 0.2910 - val_loss: 1.2530 - val_acc: 0.2899\n",
      "Epoch 3/5\n",
      "321/321 - 1s - loss: 1.2064 - acc: 0.3414 - val_loss: 1.1614 - val_acc: 0.3494\n",
      "Epoch 4/5\n",
      "321/321 - 1s - loss: 1.1153 - acc: 0.4496 - val_loss: 1.0759 - val_acc: 0.4810\n",
      "Epoch 5/5\n",
      "321/321 - 1s - loss: 1.0304 - acc: 0.5579 - val_loss: 0.9933 - val_acc: 0.5761\n"
     ]
    },
    {
     "data": {
      "text/html": [
       "<span style=\"color:#4527A0\"><h1 style=\"font-size:18px\">Trial complete</h1></span>"
      ],
      "text/plain": [
       "<IPython.core.display.HTML object>"
      ]
     },
     "metadata": {},
     "output_type": "display_data"
    },
    {
     "data": {
      "text/html": [
       "<span style=\"color:#4527A0\"><h1 style=\"font-size:18px\">Trial summary</h1></span>"
      ],
      "text/plain": [
       "<IPython.core.display.HTML object>"
      ]
     },
     "metadata": {},
     "output_type": "display_data"
    },
    {
     "data": {
      "text/html": [
       "<span style=\"color:cyan\"> |-Trial ID: 4e90b86614b80774855ab3a60ac8e55f</span>"
      ],
      "text/plain": [
       "<IPython.core.display.HTML object>"
      ]
     },
     "metadata": {},
     "output_type": "display_data"
    },
    {
     "data": {
      "text/html": [
       "<span style=\"color:cyan\"> |-Score: 0.5486076275507609</span>"
      ],
      "text/plain": [
       "<IPython.core.display.HTML object>"
      ]
     },
     "metadata": {},
     "output_type": "display_data"
    },
    {
     "data": {
      "text/html": [
       "<span style=\"color:cyan\"> |-Best step: 0</span>"
      ],
      "text/plain": [
       "<IPython.core.display.HTML object>"
      ]
     },
     "metadata": {},
     "output_type": "display_data"
    },
    {
     "data": {
      "text/html": [
       "<span style=\"color:#7E57C2\"><h2 style=\"font-size:16px\">Hyperparameters:</h2></span>"
      ],
      "text/plain": [
       "<IPython.core.display.HTML object>"
      ]
     },
     "metadata": {},
     "output_type": "display_data"
    },
    {
     "data": {
      "text/html": [
       "<span style=\"color:cyan\"> |-learning_rate: 0.0001</span>"
      ],
      "text/plain": [
       "<IPython.core.display.HTML object>"
      ]
     },
     "metadata": {},
     "output_type": "display_data"
    },
    {
     "data": {
      "text/html": [
       "<span style=\"color:blue\"> |-unitsl1: 250</span>"
      ],
      "text/plain": [
       "<IPython.core.display.HTML object>"
      ]
     },
     "metadata": {},
     "output_type": "display_data"
    },
    {
     "data": {
      "text/html": [
       "<span style=\"color:cyan\"> |-unitsl2: 20</span>"
      ],
      "text/plain": [
       "<IPython.core.display.HTML object>"
      ]
     },
     "metadata": {},
     "output_type": "display_data"
    },
    {
     "name": "stdout",
     "output_type": "stream",
     "text": [
      "Epoch 1/5\n",
      "321/321 - 1s - loss: 2.1703 - acc: 0.2818 - val_loss: 1.2839 - val_acc: 0.3293\n",
      "Epoch 2/5\n",
      "321/321 - 1s - loss: 1.2424 - acc: 0.3567 - val_loss: 1.1962 - val_acc: 0.4092\n",
      "Epoch 3/5\n",
      "321/321 - 2s - loss: 1.1540 - acc: 0.4493 - val_loss: 1.1199 - val_acc: 0.5175\n",
      "Epoch 4/5\n",
      "321/321 - 1s - loss: 1.0429 - acc: 0.5596 - val_loss: 0.9652 - val_acc: 0.6053\n",
      "Epoch 5/5\n",
      "321/321 - 1s - loss: 0.9064 - acc: 0.6301 - val_loss: 0.8491 - val_acc: 0.6799\n",
      "Epoch 1/5\n",
      "321/321 - 1s - loss: 2.4313 - acc: 0.2750 - val_loss: 1.2449 - val_acc: 0.3528\n",
      "Epoch 2/5\n",
      "321/321 - 1s - loss: 1.1885 - acc: 0.4292 - val_loss: 1.1316 - val_acc: 0.4541\n",
      "Epoch 3/5\n",
      "321/321 - 1s - loss: 1.0750 - acc: 0.5484 - val_loss: 1.0232 - val_acc: 0.6323\n",
      "Epoch 4/5\n",
      "321/321 - 1s - loss: 0.9580 - acc: 0.6167 - val_loss: 0.9148 - val_acc: 0.6455\n",
      "Epoch 5/5\n",
      "321/321 - 1s - loss: 0.8643 - acc: 0.6580 - val_loss: 0.8554 - val_acc: 0.6247\n",
      "Epoch 1/5\n",
      "321/321 - 1s - loss: 3.2631 - acc: 0.2796 - val_loss: 1.2509 - val_acc: 0.3767\n",
      "Epoch 2/5\n",
      "321/321 - 1s - loss: 1.1988 - acc: 0.3898 - val_loss: 1.1363 - val_acc: 0.4936\n",
      "Epoch 3/5\n",
      "321/321 - 1s - loss: 1.0707 - acc: 0.5345 - val_loss: 0.9848 - val_acc: 0.5862\n",
      "Epoch 4/5\n",
      "321/321 - 1s - loss: 0.9276 - acc: 0.6633 - val_loss: 0.8977 - val_acc: 0.6551\n",
      "Epoch 5/5\n",
      "321/321 - 1s - loss: 0.8236 - acc: 0.7190 - val_loss: 0.7834 - val_acc: 0.7190\n"
     ]
    },
    {
     "data": {
      "text/html": [
       "<span style=\"color:#4527A0\"><h1 style=\"font-size:18px\">Trial complete</h1></span>"
      ],
      "text/plain": [
       "<IPython.core.display.HTML object>"
      ]
     },
     "metadata": {},
     "output_type": "display_data"
    },
    {
     "data": {
      "text/html": [
       "<span style=\"color:#4527A0\"><h1 style=\"font-size:18px\">Trial summary</h1></span>"
      ],
      "text/plain": [
       "<IPython.core.display.HTML object>"
      ]
     },
     "metadata": {},
     "output_type": "display_data"
    },
    {
     "data": {
      "text/html": [
       "<span style=\"color:cyan\"> |-Trial ID: 1ff761798ea1eaa6f3c511c1b73b9682</span>"
      ],
      "text/plain": [
       "<IPython.core.display.HTML object>"
      ]
     },
     "metadata": {},
     "output_type": "display_data"
    },
    {
     "data": {
      "text/html": [
       "<span style=\"color:cyan\"> |-Score: 0.6814921498298645</span>"
      ],
      "text/plain": [
       "<IPython.core.display.HTML object>"
      ]
     },
     "metadata": {},
     "output_type": "display_data"
    },
    {
     "data": {
      "text/html": [
       "<span style=\"color:cyan\"> |-Best step: 0</span>"
      ],
      "text/plain": [
       "<IPython.core.display.HTML object>"
      ]
     },
     "metadata": {},
     "output_type": "display_data"
    },
    {
     "data": {
      "text/html": [
       "<span style=\"color:#7E57C2\"><h2 style=\"font-size:16px\">Hyperparameters:</h2></span>"
      ],
      "text/plain": [
       "<IPython.core.display.HTML object>"
      ]
     },
     "metadata": {},
     "output_type": "display_data"
    },
    {
     "data": {
      "text/html": [
       "<span style=\"color:cyan\"> |-learning_rate: 0.0001</span>"
      ],
      "text/plain": [
       "<IPython.core.display.HTML object>"
      ]
     },
     "metadata": {},
     "output_type": "display_data"
    },
    {
     "data": {
      "text/html": [
       "<span style=\"color:blue\"> |-unitsl1: 460</span>"
      ],
      "text/plain": [
       "<IPython.core.display.HTML object>"
      ]
     },
     "metadata": {},
     "output_type": "display_data"
    },
    {
     "data": {
      "text/html": [
       "<span style=\"color:cyan\"> |-unitsl2: 25</span>"
      ],
      "text/plain": [
       "<IPython.core.display.HTML object>"
      ]
     },
     "metadata": {},
     "output_type": "display_data"
    },
    {
     "name": "stdout",
     "output_type": "stream",
     "text": [
      "Epoch 1/5\n",
      "321/321 - 1s - loss: 2.8793 - acc: 0.2763 - val_loss: 1.3650 - val_acc: 0.3157\n",
      "Epoch 2/5\n",
      "321/321 - 1s - loss: 1.3752 - acc: 0.2849 - val_loss: 1.3682 - val_acc: 0.2787\n",
      "Epoch 3/5\n",
      "321/321 - 1s - loss: 1.4615 - acc: 0.2803 - val_loss: 1.3593 - val_acc: 0.2828\n",
      "Epoch 4/5\n",
      "321/321 - 1s - loss: 1.3624 - acc: 0.2836 - val_loss: 1.3634 - val_acc: 0.2767\n",
      "Epoch 5/5\n",
      "321/321 - 1s - loss: 1.3595 - acc: 0.2817 - val_loss: 1.3589 - val_acc: 0.2794\n",
      "Epoch 1/5\n",
      "321/321 - 1s - loss: 2.1946 - acc: 0.2690 - val_loss: 1.3730 - val_acc: 0.2773\n",
      "Epoch 2/5\n",
      "321/321 - 1s - loss: 1.3656 - acc: 0.2898 - val_loss: 1.3642 - val_acc: 0.2818\n",
      "Epoch 3/5\n",
      "321/321 - 1s - loss: 1.3634 - acc: 0.2823 - val_loss: 1.3540 - val_acc: 0.2902\n",
      "Epoch 4/5\n",
      "321/321 - 1s - loss: 1.3659 - acc: 0.2800 - val_loss: 1.3526 - val_acc: 0.2908\n",
      "Epoch 5/5\n",
      "321/321 - 1s - loss: 1.3572 - acc: 0.2854 - val_loss: 1.3612 - val_acc: 0.2769\n",
      "Epoch 1/5\n",
      "321/321 - 1s - loss: 4.1091 - acc: 0.2568 - val_loss: 1.4414 - val_acc: 0.2645\n",
      "Epoch 2/5\n",
      "321/321 - 1s - loss: 1.4359 - acc: 0.2618 - val_loss: 1.4331 - val_acc: 0.2645\n",
      "Epoch 3/5\n",
      "321/321 - 1s - loss: 1.4329 - acc: 0.2631 - val_loss: 1.4323 - val_acc: 0.2601\n",
      "Epoch 4/5\n",
      "321/321 - 1s - loss: 1.4326 - acc: 0.2636 - val_loss: 1.4323 - val_acc: 0.2601\n",
      "Epoch 5/5\n",
      "321/321 - 1s - loss: 1.4326 - acc: 0.2632 - val_loss: 1.4322 - val_acc: 0.2645\n"
     ]
    },
    {
     "data": {
      "text/html": [
       "<span style=\"color:#4527A0\"><h1 style=\"font-size:18px\">Trial complete</h1></span>"
      ],
      "text/plain": [
       "<IPython.core.display.HTML object>"
      ]
     },
     "metadata": {},
     "output_type": "display_data"
    },
    {
     "data": {
      "text/html": [
       "<span style=\"color:#4527A0\"><h1 style=\"font-size:18px\">Trial summary</h1></span>"
      ],
      "text/plain": [
       "<IPython.core.display.HTML object>"
      ]
     },
     "metadata": {},
     "output_type": "display_data"
    },
    {
     "data": {
      "text/html": [
       "<span style=\"color:cyan\"> |-Trial ID: f213a4ea3062fe3a17da871d2087222e</span>"
      ],
      "text/plain": [
       "<IPython.core.display.HTML object>"
      ]
     },
     "metadata": {},
     "output_type": "display_data"
    },
    {
     "data": {
      "text/html": [
       "<span style=\"color:cyan\"> |-Score: 0.29034944375356037</span>"
      ],
      "text/plain": [
       "<IPython.core.display.HTML object>"
      ]
     },
     "metadata": {},
     "output_type": "display_data"
    },
    {
     "data": {
      "text/html": [
       "<span style=\"color:cyan\"> |-Best step: 0</span>"
      ],
      "text/plain": [
       "<IPython.core.display.HTML object>"
      ]
     },
     "metadata": {},
     "output_type": "display_data"
    },
    {
     "data": {
      "text/html": [
       "<span style=\"color:#7E57C2\"><h2 style=\"font-size:16px\">Hyperparameters:</h2></span>"
      ],
      "text/plain": [
       "<IPython.core.display.HTML object>"
      ]
     },
     "metadata": {},
     "output_type": "display_data"
    },
    {
     "data": {
      "text/html": [
       "<span style=\"color:cyan\"> |-learning_rate: 0.01</span>"
      ],
      "text/plain": [
       "<IPython.core.display.HTML object>"
      ]
     },
     "metadata": {},
     "output_type": "display_data"
    },
    {
     "data": {
      "text/html": [
       "<span style=\"color:blue\"> |-unitsl1: 310</span>"
      ],
      "text/plain": [
       "<IPython.core.display.HTML object>"
      ]
     },
     "metadata": {},
     "output_type": "display_data"
    },
    {
     "data": {
      "text/html": [
       "<span style=\"color:cyan\"> |-unitsl2: 15</span>"
      ],
      "text/plain": [
       "<IPython.core.display.HTML object>"
      ]
     },
     "metadata": {},
     "output_type": "display_data"
    },
    {
     "name": "stdout",
     "output_type": "stream",
     "text": [
      "Epoch 1/5\n",
      "321/321 - 1s - loss: 4.2438 - acc: 0.3025 - val_loss: 1.3171 - val_acc: 0.3216\n",
      "Epoch 2/5\n",
      "321/321 - 1s - loss: 1.2487 - acc: 0.3327 - val_loss: 1.2031 - val_acc: 0.3389\n",
      "Epoch 3/5\n",
      "321/321 - 1s - loss: 1.1556 - acc: 0.4022 - val_loss: 1.1158 - val_acc: 0.4924\n",
      "Epoch 4/5\n",
      "321/321 - 1s - loss: 1.0778 - acc: 0.5015 - val_loss: 1.0481 - val_acc: 0.5075\n",
      "Epoch 5/5\n",
      "321/321 - 1s - loss: 1.0084 - acc: 0.5828 - val_loss: 0.9768 - val_acc: 0.6478\n",
      "Epoch 1/5\n",
      "321/321 - 1s - loss: 9.5457 - acc: 0.2630 - val_loss: 1.2636 - val_acc: 0.2999\n",
      "Epoch 2/5\n",
      "321/321 - 1s - loss: 1.2114 - acc: 0.3804 - val_loss: 1.1690 - val_acc: 0.4546\n",
      "Epoch 3/5\n",
      "321/321 - 1s - loss: 1.1286 - acc: 0.4867 - val_loss: 1.0966 - val_acc: 0.5314\n",
      "Epoch 4/5\n",
      "321/321 - 1s - loss: 1.0375 - acc: 0.5781 - val_loss: 0.9940 - val_acc: 0.6017\n",
      "Epoch 5/5\n",
      "321/321 - 1s - loss: 0.9480 - acc: 0.6288 - val_loss: 0.9006 - val_acc: 0.7314\n",
      "Epoch 1/5\n",
      "321/321 - 1s - loss: 12.8183 - acc: 0.2476 - val_loss: 1.3934 - val_acc: 0.3146\n",
      "Epoch 2/5\n",
      "321/321 - 1s - loss: 1.3048 - acc: 0.3234 - val_loss: 1.2505 - val_acc: 0.3557\n",
      "Epoch 3/5\n",
      "321/321 - 1s - loss: 1.2050 - acc: 0.3858 - val_loss: 1.1717 - val_acc: 0.4693\n",
      "Epoch 4/5\n",
      "321/321 - 1s - loss: 1.1221 - acc: 0.4943 - val_loss: 1.0756 - val_acc: 0.5400\n",
      "Epoch 5/5\n",
      "321/321 - 1s - loss: 1.0283 - acc: 0.5741 - val_loss: 0.9793 - val_acc: 0.6021\n"
     ]
    },
    {
     "data": {
      "text/html": [
       "<span style=\"color:#4527A0\"><h1 style=\"font-size:18px\">Trial complete</h1></span>"
      ],
      "text/plain": [
       "<IPython.core.display.HTML object>"
      ]
     },
     "metadata": {},
     "output_type": "display_data"
    },
    {
     "data": {
      "text/html": [
       "<span style=\"color:#4527A0\"><h1 style=\"font-size:18px\">Trial summary</h1></span>"
      ],
      "text/plain": [
       "<IPython.core.display.HTML object>"
      ]
     },
     "metadata": {},
     "output_type": "display_data"
    },
    {
     "data": {
      "text/html": [
       "<span style=\"color:cyan\"> |-Trial ID: 904c32eb96d33a3d5ca9b1e079ba9b24</span>"
      ],
      "text/plain": [
       "<IPython.core.display.HTML object>"
      ]
     },
     "metadata": {},
     "output_type": "display_data"
    },
    {
     "data": {
      "text/html": [
       "<span style=\"color:cyan\"> |-Score: 0.6604229211807251</span>"
      ],
      "text/plain": [
       "<IPython.core.display.HTML object>"
      ]
     },
     "metadata": {},
     "output_type": "display_data"
    },
    {
     "data": {
      "text/html": [
       "<span style=\"color:cyan\"> |-Best step: 0</span>"
      ],
      "text/plain": [
       "<IPython.core.display.HTML object>"
      ]
     },
     "metadata": {},
     "output_type": "display_data"
    },
    {
     "data": {
      "text/html": [
       "<span style=\"color:#7E57C2\"><h2 style=\"font-size:16px\">Hyperparameters:</h2></span>"
      ],
      "text/plain": [
       "<IPython.core.display.HTML object>"
      ]
     },
     "metadata": {},
     "output_type": "display_data"
    },
    {
     "data": {
      "text/html": [
       "<span style=\"color:cyan\"> |-learning_rate: 0.0001</span>"
      ],
      "text/plain": [
       "<IPython.core.display.HTML object>"
      ]
     },
     "metadata": {},
     "output_type": "display_data"
    },
    {
     "data": {
      "text/html": [
       "<span style=\"color:blue\"> |-unitsl1: 250</span>"
      ],
      "text/plain": [
       "<IPython.core.display.HTML object>"
      ]
     },
     "metadata": {},
     "output_type": "display_data"
    },
    {
     "data": {
      "text/html": [
       "<span style=\"color:cyan\"> |-unitsl2: 50</span>"
      ],
      "text/plain": [
       "<IPython.core.display.HTML object>"
      ]
     },
     "metadata": {},
     "output_type": "display_data"
    },
    {
     "name": "stdout",
     "output_type": "stream",
     "text": [
      "Epoch 1/5\n",
      "321/321 - 2s - loss: 2.1014 - acc: 0.3420 - val_loss: 2.3555 - val_acc: 0.3093\n",
      "Epoch 2/5\n",
      "321/321 - 1s - loss: 1.0816 - acc: 0.5540 - val_loss: 0.7966 - val_acc: 0.7084\n",
      "Epoch 3/5\n",
      "321/321 - 1s - loss: 1.0318 - acc: 0.6033 - val_loss: 1.0763 - val_acc: 0.4733\n",
      "Epoch 4/5\n",
      "321/321 - 2s - loss: 0.6782 - acc: 0.7202 - val_loss: 0.6118 - val_acc: 0.7564\n",
      "Epoch 5/5\n",
      "321/321 - 1s - loss: 0.6376 - acc: 0.7144 - val_loss: 0.6102 - val_acc: 0.7060\n",
      "Epoch 1/5\n",
      "321/321 - 1s - loss: 2.5640 - acc: 0.3431 - val_loss: 1.4576 - val_acc: 0.3620\n",
      "Epoch 2/5\n",
      "321/321 - 1s - loss: 1.3327 - acc: 0.4980 - val_loss: 0.9059 - val_acc: 0.5506\n",
      "Epoch 3/5\n",
      "321/321 - 1s - loss: 0.9409 - acc: 0.6460 - val_loss: 1.3413 - val_acc: 0.4875\n",
      "Epoch 4/5\n",
      "321/321 - 2s - loss: 1.1346 - acc: 0.6084 - val_loss: 0.6256 - val_acc: 0.7701\n",
      "Epoch 5/5\n",
      "321/321 - 1s - loss: 0.6035 - acc: 0.7712 - val_loss: 0.5782 - val_acc: 0.7803\n",
      "Epoch 1/5\n",
      "321/321 - 1s - loss: 2.1031 - acc: 0.3558 - val_loss: 1.1549 - val_acc: 0.5474\n",
      "Epoch 2/5\n",
      "321/321 - 1s - loss: 0.9846 - acc: 0.5960 - val_loss: 1.3970 - val_acc: 0.4284\n",
      "Epoch 3/5\n",
      "321/321 - 1s - loss: 0.6924 - acc: 0.7048 - val_loss: 0.6225 - val_acc: 0.7033\n",
      "Epoch 4/5\n",
      "321/321 - 1s - loss: 0.6775 - acc: 0.7372 - val_loss: 0.5657 - val_acc: 0.7728\n",
      "Epoch 5/5\n",
      "321/321 - 1s - loss: 0.5874 - acc: 0.7657 - val_loss: 2.4576 - val_acc: 0.4820\n"
     ]
    },
    {
     "data": {
      "text/html": [
       "<span style=\"color:#4527A0\"><h1 style=\"font-size:18px\">Trial complete</h1></span>"
      ],
      "text/plain": [
       "<IPython.core.display.HTML object>"
      ]
     },
     "metadata": {},
     "output_type": "display_data"
    },
    {
     "data": {
      "text/html": [
       "<span style=\"color:#4527A0\"><h1 style=\"font-size:18px\">Trial summary</h1></span>"
      ],
      "text/plain": [
       "<IPython.core.display.HTML object>"
      ]
     },
     "metadata": {},
     "output_type": "display_data"
    },
    {
     "data": {
      "text/html": [
       "<span style=\"color:cyan\"> |-Trial ID: 7f39efd4e1d32e9deffec3716439011c</span>"
      ],
      "text/plain": [
       "<IPython.core.display.HTML object>"
      ]
     },
     "metadata": {},
     "output_type": "display_data"
    },
    {
     "data": {
      "text/html": [
       "<span style=\"color:cyan\"> |-Score: 0.7698480288187662</span>"
      ],
      "text/plain": [
       "<IPython.core.display.HTML object>"
      ]
     },
     "metadata": {},
     "output_type": "display_data"
    },
    {
     "data": {
      "text/html": [
       "<span style=\"color:cyan\"> |-Best step: 0</span>"
      ],
      "text/plain": [
       "<IPython.core.display.HTML object>"
      ]
     },
     "metadata": {},
     "output_type": "display_data"
    },
    {
     "data": {
      "text/html": [
       "<span style=\"color:#7E57C2\"><h2 style=\"font-size:16px\">Hyperparameters:</h2></span>"
      ],
      "text/plain": [
       "<IPython.core.display.HTML object>"
      ]
     },
     "metadata": {},
     "output_type": "display_data"
    },
    {
     "data": {
      "text/html": [
       "<span style=\"color:cyan\"> |-learning_rate: 0.001</span>"
      ],
      "text/plain": [
       "<IPython.core.display.HTML object>"
      ]
     },
     "metadata": {},
     "output_type": "display_data"
    },
    {
     "data": {
      "text/html": [
       "<span style=\"color:blue\"> |-unitsl1: 280</span>"
      ],
      "text/plain": [
       "<IPython.core.display.HTML object>"
      ]
     },
     "metadata": {},
     "output_type": "display_data"
    },
    {
     "data": {
      "text/html": [
       "<span style=\"color:cyan\"> |-unitsl2: 40</span>"
      ],
      "text/plain": [
       "<IPython.core.display.HTML object>"
      ]
     },
     "metadata": {},
     "output_type": "display_data"
    },
    {
     "name": "stdout",
     "output_type": "stream",
     "text": [
      "Epoch 1/5\n",
      "321/321 - 1s - loss: 2.3294 - acc: 0.3744 - val_loss: 2.5552 - val_acc: 0.3125\n",
      "Epoch 2/5\n",
      "321/321 - 1s - loss: 1.4741 - acc: 0.5093 - val_loss: 0.7747 - val_acc: 0.6694\n",
      "Epoch 3/5\n",
      "321/321 - 1s - loss: 0.8287 - acc: 0.6713 - val_loss: 0.6650 - val_acc: 0.7786\n",
      "Epoch 4/5\n",
      "321/321 - 1s - loss: 0.6367 - acc: 0.7523 - val_loss: 0.6646 - val_acc: 0.6789\n",
      "Epoch 5/5\n",
      "321/321 - 1s - loss: 0.6069 - acc: 0.7473 - val_loss: 0.5691 - val_acc: 0.7675\n",
      "Epoch 1/5\n",
      "321/321 - 1s - loss: 2.1468 - acc: 0.3587 - val_loss: 1.4416 - val_acc: 0.3642\n",
      "Epoch 2/5\n",
      "321/321 - 1s - loss: 1.1519 - acc: 0.5417 - val_loss: 1.2057 - val_acc: 0.5285\n",
      "Epoch 3/5\n",
      "321/321 - 1s - loss: 1.0929 - acc: 0.5937 - val_loss: 1.0241 - val_acc: 0.5612\n",
      "Epoch 4/5\n",
      "321/321 - 1s - loss: 0.9201 - acc: 0.6557 - val_loss: 0.9106 - val_acc: 0.6662\n",
      "Epoch 5/5\n",
      "321/321 - 1s - loss: 0.6801 - acc: 0.6998 - val_loss: 1.1403 - val_acc: 0.6749\n",
      "Epoch 1/5\n",
      "321/321 - 1s - loss: 1.9985 - acc: 0.4020 - val_loss: 0.9599 - val_acc: 0.6164\n",
      "Epoch 2/5\n",
      "321/321 - 1s - loss: 0.9218 - acc: 0.6109 - val_loss: 0.7482 - val_acc: 0.6613\n",
      "Epoch 3/5\n",
      "321/321 - 1s - loss: 0.7220 - acc: 0.6818 - val_loss: 0.6461 - val_acc: 0.7082\n",
      "Epoch 4/5\n",
      "321/321 - 1s - loss: 0.8621 - acc: 0.6665 - val_loss: 0.5849 - val_acc: 0.7608\n",
      "Epoch 5/5\n",
      "321/321 - 1s - loss: 0.5755 - acc: 0.7669 - val_loss: 0.5895 - val_acc: 0.7393\n"
     ]
    },
    {
     "data": {
      "text/html": [
       "<span style=\"color:#4527A0\"><h1 style=\"font-size:18px\">Trial complete</h1></span>"
      ],
      "text/plain": [
       "<IPython.core.display.HTML object>"
      ]
     },
     "metadata": {},
     "output_type": "display_data"
    },
    {
     "data": {
      "text/html": [
       "<span style=\"color:#4527A0\"><h1 style=\"font-size:18px\">Trial summary</h1></span>"
      ],
      "text/plain": [
       "<IPython.core.display.HTML object>"
      ]
     },
     "metadata": {},
     "output_type": "display_data"
    },
    {
     "data": {
      "text/html": [
       "<span style=\"color:cyan\"> |-Trial ID: 4dc5c82ea0d66eda5a17faeb650012c2</span>"
      ],
      "text/plain": [
       "<IPython.core.display.HTML object>"
      ]
     },
     "metadata": {},
     "output_type": "display_data"
    },
    {
     "data": {
      "text/html": [
       "<span style=\"color:cyan\"> |-Score: 0.7381220857302347</span>"
      ],
      "text/plain": [
       "<IPython.core.display.HTML object>"
      ]
     },
     "metadata": {},
     "output_type": "display_data"
    },
    {
     "data": {
      "text/html": [
       "<span style=\"color:cyan\"> |-Best step: 0</span>"
      ],
      "text/plain": [
       "<IPython.core.display.HTML object>"
      ]
     },
     "metadata": {},
     "output_type": "display_data"
    },
    {
     "data": {
      "text/html": [
       "<span style=\"color:#7E57C2\"><h2 style=\"font-size:16px\">Hyperparameters:</h2></span>"
      ],
      "text/plain": [
       "<IPython.core.display.HTML object>"
      ]
     },
     "metadata": {},
     "output_type": "display_data"
    },
    {
     "data": {
      "text/html": [
       "<span style=\"color:cyan\"> |-learning_rate: 0.001</span>"
      ],
      "text/plain": [
       "<IPython.core.display.HTML object>"
      ]
     },
     "metadata": {},
     "output_type": "display_data"
    },
    {
     "data": {
      "text/html": [
       "<span style=\"color:blue\"> |-unitsl1: 400</span>"
      ],
      "text/plain": [
       "<IPython.core.display.HTML object>"
      ]
     },
     "metadata": {},
     "output_type": "display_data"
    },
    {
     "data": {
      "text/html": [
       "<span style=\"color:cyan\"> |-unitsl2: 50</span>"
      ],
      "text/plain": [
       "<IPython.core.display.HTML object>"
      ]
     },
     "metadata": {},
     "output_type": "display_data"
    },
    {
     "name": "stdout",
     "output_type": "stream",
     "text": [
      "Epoch 1/5\n",
      "321/321 - 1s - loss: 4.2204 - acc: 0.2784 - val_loss: 1.2958 - val_acc: 0.2933\n",
      "Epoch 2/5\n",
      "321/321 - 1s - loss: 1.2582 - acc: 0.2857 - val_loss: 1.2365 - val_acc: 0.3380\n",
      "Epoch 3/5\n",
      "321/321 - 1s - loss: 1.1886 - acc: 0.3273 - val_loss: 1.1420 - val_acc: 0.3650\n",
      "Epoch 4/5\n",
      "321/321 - 1s - loss: 1.0812 - acc: 0.4572 - val_loss: 1.0260 - val_acc: 0.5979\n",
      "Epoch 5/5\n",
      "321/321 - 1s - loss: 0.9600 - acc: 0.5817 - val_loss: 0.9001 - val_acc: 0.6587\n",
      "Epoch 1/5\n",
      "321/321 - 1s - loss: 3.0708 - acc: 0.2782 - val_loss: 1.2511 - val_acc: 0.3228\n",
      "Epoch 2/5\n",
      "321/321 - 1s - loss: 1.2027 - acc: 0.3761 - val_loss: 1.1605 - val_acc: 0.4379\n",
      "Epoch 3/5\n",
      "321/321 - 1s - loss: 1.1132 - acc: 0.4928 - val_loss: 1.0684 - val_acc: 0.5086\n",
      "Epoch 4/5\n",
      "321/321 - 1s - loss: 1.0242 - acc: 0.5792 - val_loss: 0.9849 - val_acc: 0.5489\n",
      "Epoch 5/5\n",
      "321/321 - 1s - loss: 0.9359 - acc: 0.6385 - val_loss: 0.9232 - val_acc: 0.5385\n",
      "Epoch 1/5\n",
      "321/321 - 1s - loss: 4.5790 - acc: 0.2947 - val_loss: 1.2768 - val_acc: 0.3505\n",
      "Epoch 2/5\n",
      "321/321 - 1s - loss: 1.2113 - acc: 0.3938 - val_loss: 1.1577 - val_acc: 0.4799\n",
      "Epoch 3/5\n",
      "321/321 - 1s - loss: 1.1012 - acc: 0.5341 - val_loss: 1.0420 - val_acc: 0.5680\n",
      "Epoch 4/5\n",
      "321/321 - 1s - loss: 0.9981 - acc: 0.6037 - val_loss: 0.9677 - val_acc: 0.6020\n",
      "Epoch 5/5\n",
      "321/321 - 1s - loss: 0.9116 - acc: 0.6532 - val_loss: 0.8749 - val_acc: 0.6493\n"
     ]
    },
    {
     "data": {
      "text/html": [
       "<span style=\"color:#4527A0\"><h1 style=\"font-size:18px\">Trial complete</h1></span>"
      ],
      "text/plain": [
       "<IPython.core.display.HTML object>"
      ]
     },
     "metadata": {},
     "output_type": "display_data"
    },
    {
     "data": {
      "text/html": [
       "<span style=\"color:#4527A0\"><h1 style=\"font-size:18px\">Trial summary</h1></span>"
      ],
      "text/plain": [
       "<IPython.core.display.HTML object>"
      ]
     },
     "metadata": {},
     "output_type": "display_data"
    },
    {
     "data": {
      "text/html": [
       "<span style=\"color:cyan\"> |-Trial ID: 8a8fb1b0aa0a3f0133c1741396e3131f</span>"
      ],
      "text/plain": [
       "<IPython.core.display.HTML object>"
      ]
     },
     "metadata": {},
     "output_type": "display_data"
    },
    {
     "data": {
      "text/html": [
       "<span style=\"color:cyan\"> |-Score: 0.6189608176549276</span>"
      ],
      "text/plain": [
       "<IPython.core.display.HTML object>"
      ]
     },
     "metadata": {},
     "output_type": "display_data"
    },
    {
     "data": {
      "text/html": [
       "<span style=\"color:cyan\"> |-Best step: 0</span>"
      ],
      "text/plain": [
       "<IPython.core.display.HTML object>"
      ]
     },
     "metadata": {},
     "output_type": "display_data"
    },
    {
     "data": {
      "text/html": [
       "<span style=\"color:#7E57C2\"><h2 style=\"font-size:16px\">Hyperparameters:</h2></span>"
      ],
      "text/plain": [
       "<IPython.core.display.HTML object>"
      ]
     },
     "metadata": {},
     "output_type": "display_data"
    },
    {
     "data": {
      "text/html": [
       "<span style=\"color:cyan\"> |-learning_rate: 0.0001</span>"
      ],
      "text/plain": [
       "<IPython.core.display.HTML object>"
      ]
     },
     "metadata": {},
     "output_type": "display_data"
    },
    {
     "data": {
      "text/html": [
       "<span style=\"color:blue\"> |-unitsl1: 370</span>"
      ],
      "text/plain": [
       "<IPython.core.display.HTML object>"
      ]
     },
     "metadata": {},
     "output_type": "display_data"
    },
    {
     "data": {
      "text/html": [
       "<span style=\"color:cyan\"> |-unitsl2: 35</span>"
      ],
      "text/plain": [
       "<IPython.core.display.HTML object>"
      ]
     },
     "metadata": {},
     "output_type": "display_data"
    },
    {
     "name": "stdout",
     "output_type": "stream",
     "text": [
      "Epoch 1/5\n",
      "321/321 - 1s - loss: 4.3597 - acc: 0.4584 - val_loss: 0.9128 - val_acc: 0.6433\n",
      "Epoch 2/5\n",
      "321/321 - 1s - loss: 0.8269 - acc: 0.6460 - val_loss: 0.7128 - val_acc: 0.6836\n",
      "Epoch 3/5\n",
      "321/321 - 1s - loss: 0.6238 - acc: 0.7460 - val_loss: 0.6131 - val_acc: 0.7075\n",
      "Epoch 4/5\n",
      "321/321 - 1s - loss: 0.7558 - acc: 0.6920 - val_loss: 0.6119 - val_acc: 0.7850\n",
      "Epoch 5/5\n",
      "321/321 - 1s - loss: 0.5636 - acc: 0.7843 - val_loss: 0.5470 - val_acc: 0.7860\n",
      "Epoch 1/5\n",
      "321/321 - 1s - loss: 3.1937 - acc: 0.5260 - val_loss: 0.7939 - val_acc: 0.6388\n",
      "Epoch 2/5\n",
      "321/321 - 1s - loss: 0.7498 - acc: 0.6798 - val_loss: 0.6885 - val_acc: 0.6461\n",
      "Epoch 3/5\n",
      "321/321 - 1s - loss: 0.6317 - acc: 0.7462 - val_loss: 0.6442 - val_acc: 0.7529\n",
      "Epoch 4/5\n",
      "321/321 - 1s - loss: 0.5780 - acc: 0.7799 - val_loss: 0.5424 - val_acc: 0.7712\n",
      "Epoch 5/5\n",
      "321/321 - 1s - loss: 0.5661 - acc: 0.7687 - val_loss: 0.5306 - val_acc: 0.7692\n",
      "Epoch 1/5\n",
      "321/321 - 1s - loss: 3.3208 - acc: 0.2867 - val_loss: 1.3761 - val_acc: 0.2885\n",
      "Epoch 2/5\n",
      "321/321 - 1s - loss: 1.3629 - acc: 0.2957 - val_loss: 1.3677 - val_acc: 0.2795\n",
      "Epoch 3/5\n",
      "321/321 - 1s - loss: 1.3699 - acc: 0.2852 - val_loss: 1.3628 - val_acc: 0.2788\n",
      "Epoch 4/5\n",
      "321/321 - 1s - loss: 1.7023 - acc: 0.2877 - val_loss: 1.3654 - val_acc: 0.2757\n",
      "Epoch 5/5\n",
      "321/321 - 1s - loss: 1.3519 - acc: 0.2924 - val_loss: 1.3639 - val_acc: 0.2771\n"
     ]
    },
    {
     "data": {
      "text/html": [
       "<span style=\"color:#4527A0\"><h1 style=\"font-size:18px\">Trial complete</h1></span>"
      ],
      "text/plain": [
       "<IPython.core.display.HTML object>"
      ]
     },
     "metadata": {},
     "output_type": "display_data"
    },
    {
     "data": {
      "text/html": [
       "<span style=\"color:#4527A0\"><h1 style=\"font-size:18px\">Trial summary</h1></span>"
      ],
      "text/plain": [
       "<IPython.core.display.HTML object>"
      ]
     },
     "metadata": {},
     "output_type": "display_data"
    },
    {
     "data": {
      "text/html": [
       "<span style=\"color:cyan\"> |-Trial ID: 497cb1dde2cdd94e7f8c1a51edd2f5ba</span>"
      ],
      "text/plain": [
       "<IPython.core.display.HTML object>"
      ]
     },
     "metadata": {},
     "output_type": "display_data"
    },
    {
     "data": {
      "text/html": [
       "<span style=\"color:cyan\"> |-Score: 0.6152555247147878</span>"
      ],
      "text/plain": [
       "<IPython.core.display.HTML object>"
      ]
     },
     "metadata": {},
     "output_type": "display_data"
    },
    {
     "data": {
      "text/html": [
       "<span style=\"color:cyan\"> |-Best step: 0</span>"
      ],
      "text/plain": [
       "<IPython.core.display.HTML object>"
      ]
     },
     "metadata": {},
     "output_type": "display_data"
    },
    {
     "data": {
      "text/html": [
       "<span style=\"color:#7E57C2\"><h2 style=\"font-size:16px\">Hyperparameters:</h2></span>"
      ],
      "text/plain": [
       "<IPython.core.display.HTML object>"
      ]
     },
     "metadata": {},
     "output_type": "display_data"
    },
    {
     "data": {
      "text/html": [
       "<span style=\"color:cyan\"> |-learning_rate: 0.01</span>"
      ],
      "text/plain": [
       "<IPython.core.display.HTML object>"
      ]
     },
     "metadata": {},
     "output_type": "display_data"
    },
    {
     "data": {
      "text/html": [
       "<span style=\"color:blue\"> |-unitsl1: 400</span>"
      ],
      "text/plain": [
       "<IPython.core.display.HTML object>"
      ]
     },
     "metadata": {},
     "output_type": "display_data"
    },
    {
     "data": {
      "text/html": [
       "<span style=\"color:cyan\"> |-unitsl2: 45</span>"
      ],
      "text/plain": [
       "<IPython.core.display.HTML object>"
      ]
     },
     "metadata": {},
     "output_type": "display_data"
    },
    {
     "name": "stdout",
     "output_type": "stream",
     "text": [
      "Epoch 1/5\n",
      "321/321 - 2s - loss: 4.1476 - acc: 0.2839 - val_loss: 1.3733 - val_acc: 0.3130\n",
      "Epoch 2/5\n",
      "321/321 - 1s - loss: 1.3735 - acc: 0.2864 - val_loss: 1.3539 - val_acc: 0.2953\n",
      "Epoch 3/5\n",
      "321/321 - 1s - loss: 1.3678 - acc: 0.2930 - val_loss: 1.3467 - val_acc: 0.3011\n",
      "Epoch 4/5\n",
      "321/321 - 1s - loss: 1.3557 - acc: 0.2907 - val_loss: 1.3562 - val_acc: 0.2810\n",
      "Epoch 5/5\n",
      "321/321 - 1s - loss: 1.3582 - acc: 0.2849 - val_loss: 1.3623 - val_acc: 0.2753\n",
      "Epoch 1/5\n",
      "321/321 - 1s - loss: 5.0349 - acc: 0.4661 - val_loss: 1.5834 - val_acc: 0.3141\n",
      "Epoch 2/5\n",
      "321/321 - 1s - loss: 0.8083 - acc: 0.6475 - val_loss: 0.7176 - val_acc: 0.6957\n",
      "Epoch 3/5\n",
      "321/321 - 1s - loss: 0.6218 - acc: 0.7423 - val_loss: 0.6134 - val_acc: 0.7425\n",
      "Epoch 4/5\n",
      "321/321 - 1s - loss: 0.5547 - acc: 0.7685 - val_loss: 0.5340 - val_acc: 0.7668\n",
      "Epoch 5/5\n",
      "321/321 - 1s - loss: 0.5398 - acc: 0.7729 - val_loss: 0.5100 - val_acc: 0.7930\n",
      "Epoch 1/5\n",
      "321/321 - 1s - loss: 4.7632 - acc: 0.3033 - val_loss: 1.0877 - val_acc: 0.4698\n",
      "Epoch 2/5\n",
      "321/321 - 1s - loss: 0.8552 - acc: 0.6708 - val_loss: 0.6980 - val_acc: 0.7307\n",
      "Epoch 3/5\n",
      "321/321 - 1s - loss: 0.6574 - acc: 0.7538 - val_loss: 0.6272 - val_acc: 0.7332\n",
      "Epoch 4/5\n",
      "321/321 - 1s - loss: 0.5780 - acc: 0.7816 - val_loss: 0.5735 - val_acc: 0.7796\n",
      "Epoch 5/5\n",
      "321/321 - 1s - loss: 0.5428 - acc: 0.7816 - val_loss: 0.5529 - val_acc: 0.7823\n"
     ]
    },
    {
     "data": {
      "text/html": [
       "<span style=\"color:#4527A0\"><h1 style=\"font-size:18px\">Trial complete</h1></span>"
      ],
      "text/plain": [
       "<IPython.core.display.HTML object>"
      ]
     },
     "metadata": {},
     "output_type": "display_data"
    },
    {
     "data": {
      "text/html": [
       "<span style=\"color:#4527A0\"><h1 style=\"font-size:18px\">Trial summary</h1></span>"
      ],
      "text/plain": [
       "<IPython.core.display.HTML object>"
      ]
     },
     "metadata": {},
     "output_type": "display_data"
    },
    {
     "data": {
      "text/html": [
       "<span style=\"color:cyan\"> |-Trial ID: 5d4b2c0ec22c5628e9364f81e630c978</span>"
      ],
      "text/plain": [
       "<IPython.core.display.HTML object>"
      ]
     },
     "metadata": {},
     "output_type": "display_data"
    },
    {
     "data": {
      "text/html": [
       "<span style=\"color:cyan\"> |-Score: 0.6294213434060415</span>"
      ],
      "text/plain": [
       "<IPython.core.display.HTML object>"
      ]
     },
     "metadata": {},
     "output_type": "display_data"
    },
    {
     "data": {
      "text/html": [
       "<span style=\"color:cyan\"> |-Best step: 0</span>"
      ],
      "text/plain": [
       "<IPython.core.display.HTML object>"
      ]
     },
     "metadata": {},
     "output_type": "display_data"
    },
    {
     "data": {
      "text/html": [
       "<span style=\"color:#7E57C2\"><h2 style=\"font-size:16px\">Hyperparameters:</h2></span>"
      ],
      "text/plain": [
       "<IPython.core.display.HTML object>"
      ]
     },
     "metadata": {},
     "output_type": "display_data"
    },
    {
     "data": {
      "text/html": [
       "<span style=\"color:cyan\"> |-learning_rate: 0.01</span>"
      ],
      "text/plain": [
       "<IPython.core.display.HTML object>"
      ]
     },
     "metadata": {},
     "output_type": "display_data"
    },
    {
     "data": {
      "text/html": [
       "<span style=\"color:blue\"> |-unitsl1: 490</span>"
      ],
      "text/plain": [
       "<IPython.core.display.HTML object>"
      ]
     },
     "metadata": {},
     "output_type": "display_data"
    },
    {
     "data": {
      "text/html": [
       "<span style=\"color:cyan\"> |-unitsl2: 40</span>"
      ],
      "text/plain": [
       "<IPython.core.display.HTML object>"
      ]
     },
     "metadata": {},
     "output_type": "display_data"
    },
    {
     "name": "stdout",
     "output_type": "stream",
     "text": [
      "Epoch 1/5\n",
      "321/321 - 1s - loss: 4.7850 - acc: 0.3783 - val_loss: 1.3785 - val_acc: 0.4607\n",
      "Epoch 2/5\n",
      "321/321 - 1s - loss: 0.9344 - acc: 0.6266 - val_loss: 0.8400 - val_acc: 0.6005\n",
      "Epoch 3/5\n",
      "321/321 - 1s - loss: 0.7076 - acc: 0.6997 - val_loss: 0.5784 - val_acc: 0.7934\n",
      "Epoch 4/5\n",
      "321/321 - 1s - loss: 0.5823 - acc: 0.7523 - val_loss: 0.5866 - val_acc: 0.7616\n",
      "Epoch 5/5\n",
      "321/321 - 1s - loss: 0.5602 - acc: 0.7607 - val_loss: 0.5278 - val_acc: 0.7939\n",
      "Epoch 1/5\n",
      "321/321 - 1s - loss: 3.1441 - acc: 0.3178 - val_loss: 1.3872 - val_acc: 0.2985\n",
      "Epoch 2/5\n",
      "321/321 - 1s - loss: 1.3693 - acc: 0.2966 - val_loss: 1.3720 - val_acc: 0.2764\n",
      "Epoch 3/5\n",
      "321/321 - 1s - loss: 1.3653 - acc: 0.2814 - val_loss: 1.3633 - val_acc: 0.2793\n",
      "Epoch 4/5\n",
      "321/321 - 1s - loss: 1.3588 - acc: 0.2862 - val_loss: 1.3464 - val_acc: 0.3218\n",
      "Epoch 5/5\n",
      "321/321 - 1s - loss: 1.3566 - acc: 0.2900 - val_loss: 1.3530 - val_acc: 0.2856\n",
      "Epoch 1/5\n",
      "321/321 - 1s - loss: 5.2651 - acc: 0.4597 - val_loss: 1.3610 - val_acc: 0.4585\n",
      "Epoch 2/5\n",
      "321/321 - 1s - loss: 0.8793 - acc: 0.6497 - val_loss: 0.6299 - val_acc: 0.7653\n",
      "Epoch 3/5\n",
      "321/321 - 1s - loss: 0.6171 - acc: 0.7400 - val_loss: 0.5735 - val_acc: 0.7834\n",
      "Epoch 4/5\n",
      "321/321 - 1s - loss: 0.5748 - acc: 0.7519 - val_loss: 0.6113 - val_acc: 0.7309\n",
      "Epoch 5/5\n",
      "321/321 - 1s - loss: 0.6018 - acc: 0.7421 - val_loss: 0.5478 - val_acc: 0.7538\n"
     ]
    },
    {
     "data": {
      "text/html": [
       "<span style=\"color:#4527A0\"><h1 style=\"font-size:18px\">Trial complete</h1></span>"
      ],
      "text/plain": [
       "<IPython.core.display.HTML object>"
      ]
     },
     "metadata": {},
     "output_type": "display_data"
    },
    {
     "data": {
      "text/html": [
       "<span style=\"color:#4527A0\"><h1 style=\"font-size:18px\">Trial summary</h1></span>"
      ],
      "text/plain": [
       "<IPython.core.display.HTML object>"
      ]
     },
     "metadata": {},
     "output_type": "display_data"
    },
    {
     "data": {
      "text/html": [
       "<span style=\"color:cyan\"> |-Trial ID: 6c2de261132f9dc216d34110fccf1894</span>"
      ],
      "text/plain": [
       "<IPython.core.display.HTML object>"
      ]
     },
     "metadata": {},
     "output_type": "display_data"
    },
    {
     "data": {
      "text/html": [
       "<span style=\"color:cyan\"> |-Score: 0.6330598791440328</span>"
      ],
      "text/plain": [
       "<IPython.core.display.HTML object>"
      ]
     },
     "metadata": {},
     "output_type": "display_data"
    },
    {
     "data": {
      "text/html": [
       "<span style=\"color:cyan\"> |-Best step: 0</span>"
      ],
      "text/plain": [
       "<IPython.core.display.HTML object>"
      ]
     },
     "metadata": {},
     "output_type": "display_data"
    },
    {
     "data": {
      "text/html": [
       "<span style=\"color:#7E57C2\"><h2 style=\"font-size:16px\">Hyperparameters:</h2></span>"
      ],
      "text/plain": [
       "<IPython.core.display.HTML object>"
      ]
     },
     "metadata": {},
     "output_type": "display_data"
    },
    {
     "data": {
      "text/html": [
       "<span style=\"color:cyan\"> |-learning_rate: 0.01</span>"
      ],
      "text/plain": [
       "<IPython.core.display.HTML object>"
      ]
     },
     "metadata": {},
     "output_type": "display_data"
    },
    {
     "data": {
      "text/html": [
       "<span style=\"color:blue\"> |-unitsl1: 220</span>"
      ],
      "text/plain": [
       "<IPython.core.display.HTML object>"
      ]
     },
     "metadata": {},
     "output_type": "display_data"
    },
    {
     "data": {
      "text/html": [
       "<span style=\"color:cyan\"> |-unitsl2: 25</span>"
      ],
      "text/plain": [
       "<IPython.core.display.HTML object>"
      ]
     },
     "metadata": {},
     "output_type": "display_data"
    },
    {
     "name": "stdout",
     "output_type": "stream",
     "text": [
      "Epoch 1/5\n",
      "321/321 - 1s - loss: 2.9988 - acc: 0.4412 - val_loss: 0.8397 - val_acc: 0.7300\n",
      "Epoch 2/5\n",
      "321/321 - 1s - loss: 0.7881 - acc: 0.6676 - val_loss: 0.6974 - val_acc: 0.6834\n",
      "Epoch 3/5\n",
      "321/321 - 1s - loss: 0.6617 - acc: 0.7209 - val_loss: 0.7062 - val_acc: 0.6381\n",
      "Epoch 4/5\n",
      "321/321 - 1s - loss: 0.6026 - acc: 0.7375 - val_loss: 0.5334 - val_acc: 0.7925\n",
      "Epoch 5/5\n",
      "321/321 - 1s - loss: 0.5685 - acc: 0.7566 - val_loss: 0.6660 - val_acc: 0.6973\n",
      "Epoch 1/5\n",
      "321/321 - 1s - loss: 3.2344 - acc: 0.5113 - val_loss: 0.7707 - val_acc: 0.6960\n",
      "Epoch 2/5\n",
      "321/321 - 1s - loss: 0.9872 - acc: 0.6401 - val_loss: 0.7212 - val_acc: 0.7152\n",
      "Epoch 3/5\n",
      "321/321 - 1s - loss: 0.6772 - acc: 0.7470 - val_loss: 0.6363 - val_acc: 0.7688\n",
      "Epoch 4/5\n",
      "321/321 - 1s - loss: 0.6130 - acc: 0.7561 - val_loss: 0.6118 - val_acc: 0.7395\n",
      "Epoch 5/5\n",
      "321/321 - 1s - loss: 0.5787 - acc: 0.7629 - val_loss: 0.5851 - val_acc: 0.7623\n",
      "Epoch 1/5\n",
      "321/321 - 1s - loss: 5.4057 - acc: 0.4043 - val_loss: 0.9542 - val_acc: 0.5360\n",
      "Epoch 2/5\n",
      "321/321 - 1s - loss: 0.9501 - acc: 0.6145 - val_loss: 0.7211 - val_acc: 0.7822\n",
      "Epoch 3/5\n",
      "321/321 - 1s - loss: 0.7047 - acc: 0.7009 - val_loss: 0.6173 - val_acc: 0.7451\n",
      "Epoch 4/5\n",
      "321/321 - 1s - loss: 0.6197 - acc: 0.7253 - val_loss: 0.6911 - val_acc: 0.6805\n",
      "Epoch 5/5\n",
      "321/321 - 1s - loss: 0.5760 - acc: 0.7483 - val_loss: 0.5466 - val_acc: 0.7550\n"
     ]
    },
    {
     "data": {
      "text/html": [
       "<span style=\"color:#4527A0\"><h1 style=\"font-size:18px\">Trial complete</h1></span>"
      ],
      "text/plain": [
       "<IPython.core.display.HTML object>"
      ]
     },
     "metadata": {},
     "output_type": "display_data"
    },
    {
     "data": {
      "text/html": [
       "<span style=\"color:#4527A0\"><h1 style=\"font-size:18px\">Trial summary</h1></span>"
      ],
      "text/plain": [
       "<IPython.core.display.HTML object>"
      ]
     },
     "metadata": {},
     "output_type": "display_data"
    },
    {
     "data": {
      "text/html": [
       "<span style=\"color:cyan\"> |-Trial ID: cffe0759f22b63b3716f09334672bf8c</span>"
      ],
      "text/plain": [
       "<IPython.core.display.HTML object>"
      ]
     },
     "metadata": {},
     "output_type": "display_data"
    },
    {
     "data": {
      "text/html": [
       "<span style=\"color:cyan\"> |-Score: 0.7811539570490519</span>"
      ],
      "text/plain": [
       "<IPython.core.display.HTML object>"
      ]
     },
     "metadata": {},
     "output_type": "display_data"
    },
    {
     "data": {
      "text/html": [
       "<span style=\"color:cyan\"> |-Best step: 0</span>"
      ],
      "text/plain": [
       "<IPython.core.display.HTML object>"
      ]
     },
     "metadata": {},
     "output_type": "display_data"
    },
    {
     "data": {
      "text/html": [
       "<span style=\"color:#7E57C2\"><h2 style=\"font-size:16px\">Hyperparameters:</h2></span>"
      ],
      "text/plain": [
       "<IPython.core.display.HTML object>"
      ]
     },
     "metadata": {},
     "output_type": "display_data"
    },
    {
     "data": {
      "text/html": [
       "<span style=\"color:cyan\"> |-learning_rate: 0.01</span>"
      ],
      "text/plain": [
       "<IPython.core.display.HTML object>"
      ]
     },
     "metadata": {},
     "output_type": "display_data"
    },
    {
     "data": {
      "text/html": [
       "<span style=\"color:blue\"> |-unitsl1: 70</span>"
      ],
      "text/plain": [
       "<IPython.core.display.HTML object>"
      ]
     },
     "metadata": {},
     "output_type": "display_data"
    },
    {
     "data": {
      "text/html": [
       "<span style=\"color:cyan\"> |-unitsl2: 20</span>"
      ],
      "text/plain": [
       "<IPython.core.display.HTML object>"
      ]
     },
     "metadata": {},
     "output_type": "display_data"
    },
    {
     "name": "stdout",
     "output_type": "stream",
     "text": [
      "Epoch 1/5\n",
      "321/321 - 1s - loss: 3.0258 - acc: 0.2763 - val_loss: 1.3907 - val_acc: 0.2787\n",
      "Epoch 2/5\n",
      "321/321 - 1s - loss: 1.4644 - acc: 0.2937 - val_loss: 1.3706 - val_acc: 0.2780\n",
      "Epoch 3/5\n",
      "321/321 - 1s - loss: 1.3689 - acc: 0.2879 - val_loss: 1.3652 - val_acc: 0.2772\n",
      "Epoch 4/5\n",
      "321/321 - 1s - loss: 1.3566 - acc: 0.2855 - val_loss: 1.3607 - val_acc: 0.2790\n",
      "Epoch 5/5\n",
      "321/321 - 1s - loss: 1.3601 - acc: 0.2832 - val_loss: 1.3628 - val_acc: 0.2765\n",
      "Epoch 1/5\n",
      "321/321 - 1s - loss: 4.3384 - acc: 0.4777 - val_loss: 0.7865 - val_acc: 0.6749\n",
      "Epoch 2/5\n",
      "321/321 - 1s - loss: 0.7389 - acc: 0.6784 - val_loss: 0.8128 - val_acc: 0.6015\n",
      "Epoch 3/5\n",
      "321/321 - 1s - loss: 0.6038 - acc: 0.7422 - val_loss: 0.6408 - val_acc: 0.6987\n",
      "Epoch 4/5\n",
      "321/321 - 1s - loss: 0.5883 - acc: 0.7486 - val_loss: 0.5407 - val_acc: 0.7741\n",
      "Epoch 5/5\n",
      "321/321 - 1s - loss: 0.5344 - acc: 0.7764 - val_loss: 0.5202 - val_acc: 0.7942\n",
      "Epoch 1/5\n",
      "321/321 - 1s - loss: 4.6121 - acc: 0.5075 - val_loss: 0.9732 - val_acc: 0.4854\n",
      "Epoch 2/5\n",
      "321/321 - 1s - loss: 0.7412 - acc: 0.7041 - val_loss: 0.6664 - val_acc: 0.6838\n",
      "Epoch 3/5\n",
      "321/321 - 1s - loss: 0.5913 - acc: 0.7605 - val_loss: 0.7010 - val_acc: 0.6510\n",
      "Epoch 4/5\n",
      "321/321 - 1s - loss: 0.7141 - acc: 0.7145 - val_loss: 0.6444 - val_acc: 0.7669\n",
      "Epoch 5/5\n",
      "321/321 - 1s - loss: 0.6131 - acc: 0.7717 - val_loss: 0.5788 - val_acc: 0.7937\n"
     ]
    },
    {
     "data": {
      "text/html": [
       "<span style=\"color:#4527A0\"><h1 style=\"font-size:18px\">Trial complete</h1></span>"
      ],
      "text/plain": [
       "<IPython.core.display.HTML object>"
      ]
     },
     "metadata": {},
     "output_type": "display_data"
    },
    {
     "data": {
      "text/html": [
       "<span style=\"color:#4527A0\"><h1 style=\"font-size:18px\">Trial summary</h1></span>"
      ],
      "text/plain": [
       "<IPython.core.display.HTML object>"
      ]
     },
     "metadata": {},
     "output_type": "display_data"
    },
    {
     "data": {
      "text/html": [
       "<span style=\"color:cyan\"> |-Trial ID: 5ea35183d0955af91bbd9d9c7b84d1ae</span>"
      ],
      "text/plain": [
       "<IPython.core.display.HTML object>"
      ]
     },
     "metadata": {},
     "output_type": "display_data"
    },
    {
     "data": {
      "text/html": [
       "<span style=\"color:cyan\"> |-Score: 0.6223154564698538</span>"
      ],
      "text/plain": [
       "<IPython.core.display.HTML object>"
      ]
     },
     "metadata": {},
     "output_type": "display_data"
    },
    {
     "data": {
      "text/html": [
       "<span style=\"color:cyan\"> |-Best step: 0</span>"
      ],
      "text/plain": [
       "<IPython.core.display.HTML object>"
      ]
     },
     "metadata": {},
     "output_type": "display_data"
    },
    {
     "data": {
      "text/html": [
       "<span style=\"color:#7E57C2\"><h2 style=\"font-size:16px\">Hyperparameters:</h2></span>"
      ],
      "text/plain": [
       "<IPython.core.display.HTML object>"
      ]
     },
     "metadata": {},
     "output_type": "display_data"
    },
    {
     "data": {
      "text/html": [
       "<span style=\"color:cyan\"> |-learning_rate: 0.01</span>"
      ],
      "text/plain": [
       "<IPython.core.display.HTML object>"
      ]
     },
     "metadata": {},
     "output_type": "display_data"
    },
    {
     "data": {
      "text/html": [
       "<span style=\"color:blue\"> |-unitsl1: 340</span>"
      ],
      "text/plain": [
       "<IPython.core.display.HTML object>"
      ]
     },
     "metadata": {},
     "output_type": "display_data"
    },
    {
     "data": {
      "text/html": [
       "<span style=\"color:cyan\"> |-unitsl2: 45</span>"
      ],
      "text/plain": [
       "<IPython.core.display.HTML object>"
      ]
     },
     "metadata": {},
     "output_type": "display_data"
    },
    {
     "name": "stdout",
     "output_type": "stream",
     "text": [
      "INFO:tensorflow:Oracle triggered exit\n"
     ]
    }
   ],
   "source": [
    "tuner.search(\n",
    "    x_train, y_train, epochs=5, batch_size=2000, validation_data=(x_val, y_val), verbose=2,\n",
    ")"
   ]
  },
  {
   "cell_type": "code",
   "execution_count": 9,
   "metadata": {},
   "outputs": [
    {
     "data": {
      "text/html": [
       "<span style=\"color:#4527A0\"><h1 style=\"font-size:18px\">Results summary</h1></span>"
      ],
      "text/plain": [
       "<IPython.core.display.HTML object>"
      ]
     },
     "metadata": {},
     "output_type": "display_data"
    },
    {
     "data": {
      "text/html": [
       "<span style=\"color:cyan\"> |-Results in out\\simple-tuner</span>"
      ],
      "text/plain": [
       "<IPython.core.display.HTML object>"
      ]
     },
     "metadata": {},
     "output_type": "display_data"
    },
    {
     "data": {
      "text/html": [
       "<span style=\"color:cyan\"> |-Showing 10 best trials</span>"
      ],
      "text/plain": [
       "<IPython.core.display.HTML object>"
      ]
     },
     "metadata": {},
     "output_type": "display_data"
    },
    {
     "data": {
      "text/html": [
       "<span style=\"color:cyan\"> |-Objective(name='val_acc', direction='max')</span>"
      ],
      "text/plain": [
       "<IPython.core.display.HTML object>"
      ]
     },
     "metadata": {},
     "output_type": "display_data"
    },
    {
     "data": {
      "text/html": [
       "<span style=\"color:#4527A0\"><h1 style=\"font-size:18px\">Trial summary</h1></span>"
      ],
      "text/plain": [
       "<IPython.core.display.HTML object>"
      ]
     },
     "metadata": {},
     "output_type": "display_data"
    },
    {
     "data": {
      "text/html": [
       "<span style=\"color:cyan\"> |-Trial ID: 2f8baa70993f62090bc12916b318e5e8</span>"
      ],
      "text/plain": [
       "<IPython.core.display.HTML object>"
      ]
     },
     "metadata": {},
     "output_type": "display_data"
    },
    {
     "data": {
      "text/html": [
       "<span style=\"color:cyan\"> |-Score: 0.7843040227890015</span>"
      ],
      "text/plain": [
       "<IPython.core.display.HTML object>"
      ]
     },
     "metadata": {},
     "output_type": "display_data"
    },
    {
     "data": {
      "text/html": [
       "<span style=\"color:cyan\"> |-Best step: 0</span>"
      ],
      "text/plain": [
       "<IPython.core.display.HTML object>"
      ]
     },
     "metadata": {},
     "output_type": "display_data"
    },
    {
     "data": {
      "text/html": [
       "<span style=\"color:#7E57C2\"><h2 style=\"font-size:16px\">Hyperparameters:</h2></span>"
      ],
      "text/plain": [
       "<IPython.core.display.HTML object>"
      ]
     },
     "metadata": {},
     "output_type": "display_data"
    },
    {
     "data": {
      "text/html": [
       "<span style=\"color:cyan\"> |-learning_rate: 0.01</span>"
      ],
      "text/plain": [
       "<IPython.core.display.HTML object>"
      ]
     },
     "metadata": {},
     "output_type": "display_data"
    },
    {
     "data": {
      "text/html": [
       "<span style=\"color:blue\"> |-unitsl1: 160</span>"
      ],
      "text/plain": [
       "<IPython.core.display.HTML object>"
      ]
     },
     "metadata": {},
     "output_type": "display_data"
    },
    {
     "data": {
      "text/html": [
       "<span style=\"color:cyan\"> |-unitsl2: 40</span>"
      ],
      "text/plain": [
       "<IPython.core.display.HTML object>"
      ]
     },
     "metadata": {},
     "output_type": "display_data"
    },
    {
     "data": {
      "text/html": [
       "<span style=\"color:#4527A0\"><h1 style=\"font-size:18px\">Trial summary</h1></span>"
      ],
      "text/plain": [
       "<IPython.core.display.HTML object>"
      ]
     },
     "metadata": {},
     "output_type": "display_data"
    },
    {
     "data": {
      "text/html": [
       "<span style=\"color:cyan\"> |-Trial ID: 684d2fd7815af508369906c1d16b63bc</span>"
      ],
      "text/plain": [
       "<IPython.core.display.HTML object>"
      ]
     },
     "metadata": {},
     "output_type": "display_data"
    },
    {
     "data": {
      "text/html": [
       "<span style=\"color:cyan\"> |-Score: 0.7823041677474976</span>"
      ],
      "text/plain": [
       "<IPython.core.display.HTML object>"
      ]
     },
     "metadata": {},
     "output_type": "display_data"
    },
    {
     "data": {
      "text/html": [
       "<span style=\"color:cyan\"> |-Best step: 0</span>"
      ],
      "text/plain": [
       "<IPython.core.display.HTML object>"
      ]
     },
     "metadata": {},
     "output_type": "display_data"
    },
    {
     "data": {
      "text/html": [
       "<span style=\"color:#7E57C2\"><h2 style=\"font-size:16px\">Hyperparameters:</h2></span>"
      ],
      "text/plain": [
       "<IPython.core.display.HTML object>"
      ]
     },
     "metadata": {},
     "output_type": "display_data"
    },
    {
     "data": {
      "text/html": [
       "<span style=\"color:cyan\"> |-learning_rate: 0.001</span>"
      ],
      "text/plain": [
       "<IPython.core.display.HTML object>"
      ]
     },
     "metadata": {},
     "output_type": "display_data"
    },
    {
     "data": {
      "text/html": [
       "<span style=\"color:blue\"> |-unitsl1: 310</span>"
      ],
      "text/plain": [
       "<IPython.core.display.HTML object>"
      ]
     },
     "metadata": {},
     "output_type": "display_data"
    },
    {
     "data": {
      "text/html": [
       "<span style=\"color:cyan\"> |-unitsl2: 40</span>"
      ],
      "text/plain": [
       "<IPython.core.display.HTML object>"
      ]
     },
     "metadata": {},
     "output_type": "display_data"
    },
    {
     "data": {
      "text/html": [
       "<span style=\"color:#4527A0\"><h1 style=\"font-size:18px\">Trial summary</h1></span>"
      ],
      "text/plain": [
       "<IPython.core.display.HTML object>"
      ]
     },
     "metadata": {},
     "output_type": "display_data"
    },
    {
     "data": {
      "text/html": [
       "<span style=\"color:cyan\"> |-Trial ID: a6865b64360f22a00d3095aa99db8ec6</span>"
      ],
      "text/plain": [
       "<IPython.core.display.HTML object>"
      ]
     },
     "metadata": {},
     "output_type": "display_data"
    },
    {
     "data": {
      "text/html": [
       "<span style=\"color:cyan\"> |-Score: 0.7813981970151266</span>"
      ],
      "text/plain": [
       "<IPython.core.display.HTML object>"
      ]
     },
     "metadata": {},
     "output_type": "display_data"
    },
    {
     "data": {
      "text/html": [
       "<span style=\"color:cyan\"> |-Best step: 0</span>"
      ],
      "text/plain": [
       "<IPython.core.display.HTML object>"
      ]
     },
     "metadata": {},
     "output_type": "display_data"
    },
    {
     "data": {
      "text/html": [
       "<span style=\"color:#7E57C2\"><h2 style=\"font-size:16px\">Hyperparameters:</h2></span>"
      ],
      "text/plain": [
       "<IPython.core.display.HTML object>"
      ]
     },
     "metadata": {},
     "output_type": "display_data"
    },
    {
     "data": {
      "text/html": [
       "<span style=\"color:cyan\"> |-learning_rate: 0.01</span>"
      ],
      "text/plain": [
       "<IPython.core.display.HTML object>"
      ]
     },
     "metadata": {},
     "output_type": "display_data"
    },
    {
     "data": {
      "text/html": [
       "<span style=\"color:blue\"> |-unitsl1: 40</span>"
      ],
      "text/plain": [
       "<IPython.core.display.HTML object>"
      ]
     },
     "metadata": {},
     "output_type": "display_data"
    },
    {
     "data": {
      "text/html": [
       "<span style=\"color:cyan\"> |-unitsl2: 40</span>"
      ],
      "text/plain": [
       "<IPython.core.display.HTML object>"
      ]
     },
     "metadata": {},
     "output_type": "display_data"
    },
    {
     "data": {
      "text/html": [
       "<span style=\"color:#4527A0\"><h1 style=\"font-size:18px\">Trial summary</h1></span>"
      ],
      "text/plain": [
       "<IPython.core.display.HTML object>"
      ]
     },
     "metadata": {},
     "output_type": "display_data"
    },
    {
     "data": {
      "text/html": [
       "<span style=\"color:cyan\"> |-Trial ID: cffe0759f22b63b3716f09334672bf8c</span>"
      ],
      "text/plain": [
       "<IPython.core.display.HTML object>"
      ]
     },
     "metadata": {},
     "output_type": "display_data"
    },
    {
     "data": {
      "text/html": [
       "<span style=\"color:cyan\"> |-Score: 0.7811539570490519</span>"
      ],
      "text/plain": [
       "<IPython.core.display.HTML object>"
      ]
     },
     "metadata": {},
     "output_type": "display_data"
    },
    {
     "data": {
      "text/html": [
       "<span style=\"color:cyan\"> |-Best step: 0</span>"
      ],
      "text/plain": [
       "<IPython.core.display.HTML object>"
      ]
     },
     "metadata": {},
     "output_type": "display_data"
    },
    {
     "data": {
      "text/html": [
       "<span style=\"color:#7E57C2\"><h2 style=\"font-size:16px\">Hyperparameters:</h2></span>"
      ],
      "text/plain": [
       "<IPython.core.display.HTML object>"
      ]
     },
     "metadata": {},
     "output_type": "display_data"
    },
    {
     "data": {
      "text/html": [
       "<span style=\"color:cyan\"> |-learning_rate: 0.01</span>"
      ],
      "text/plain": [
       "<IPython.core.display.HTML object>"
      ]
     },
     "metadata": {},
     "output_type": "display_data"
    },
    {
     "data": {
      "text/html": [
       "<span style=\"color:blue\"> |-unitsl1: 70</span>"
      ],
      "text/plain": [
       "<IPython.core.display.HTML object>"
      ]
     },
     "metadata": {},
     "output_type": "display_data"
    },
    {
     "data": {
      "text/html": [
       "<span style=\"color:cyan\"> |-unitsl2: 20</span>"
      ],
      "text/plain": [
       "<IPython.core.display.HTML object>"
      ]
     },
     "metadata": {},
     "output_type": "display_data"
    },
    {
     "data": {
      "text/html": [
       "<span style=\"color:#4527A0\"><h1 style=\"font-size:18px\">Trial summary</h1></span>"
      ],
      "text/plain": [
       "<IPython.core.display.HTML object>"
      ]
     },
     "metadata": {},
     "output_type": "display_data"
    },
    {
     "data": {
      "text/html": [
       "<span style=\"color:cyan\"> |-Trial ID: 9f30d1daeb6e467784beb831a6a1ab20</span>"
      ],
      "text/plain": [
       "<IPython.core.display.HTML object>"
      ]
     },
     "metadata": {},
     "output_type": "display_data"
    },
    {
     "data": {
      "text/html": [
       "<span style=\"color:cyan\"> |-Score: 0.7798012693723043</span>"
      ],
      "text/plain": [
       "<IPython.core.display.HTML object>"
      ]
     },
     "metadata": {},
     "output_type": "display_data"
    },
    {
     "data": {
      "text/html": [
       "<span style=\"color:cyan\"> |-Best step: 0</span>"
      ],
      "text/plain": [
       "<IPython.core.display.HTML object>"
      ]
     },
     "metadata": {},
     "output_type": "display_data"
    },
    {
     "data": {
      "text/html": [
       "<span style=\"color:#7E57C2\"><h2 style=\"font-size:16px\">Hyperparameters:</h2></span>"
      ],
      "text/plain": [
       "<IPython.core.display.HTML object>"
      ]
     },
     "metadata": {},
     "output_type": "display_data"
    },
    {
     "data": {
      "text/html": [
       "<span style=\"color:cyan\"> |-learning_rate: 0.01</span>"
      ],
      "text/plain": [
       "<IPython.core.display.HTML object>"
      ]
     },
     "metadata": {},
     "output_type": "display_data"
    },
    {
     "data": {
      "text/html": [
       "<span style=\"color:blue\"> |-unitsl1: 70</span>"
      ],
      "text/plain": [
       "<IPython.core.display.HTML object>"
      ]
     },
     "metadata": {},
     "output_type": "display_data"
    },
    {
     "data": {
      "text/html": [
       "<span style=\"color:cyan\"> |-unitsl2: 35</span>"
      ],
      "text/plain": [
       "<IPython.core.display.HTML object>"
      ]
     },
     "metadata": {},
     "output_type": "display_data"
    },
    {
     "data": {
      "text/html": [
       "<span style=\"color:#4527A0\"><h1 style=\"font-size:18px\">Trial summary</h1></span>"
      ],
      "text/plain": [
       "<IPython.core.display.HTML object>"
      ]
     },
     "metadata": {},
     "output_type": "display_data"
    },
    {
     "data": {
      "text/html": [
       "<span style=\"color:cyan\"> |-Trial ID: 6bc1731d8009a3c0898a6123817239ab</span>"
      ],
      "text/plain": [
       "<IPython.core.display.HTML object>"
      ]
     },
     "metadata": {},
     "output_type": "display_data"
    },
    {
     "data": {
      "text/html": [
       "<span style=\"color:cyan\"> |-Score: 0.777452806631724</span>"
      ],
      "text/plain": [
       "<IPython.core.display.HTML object>"
      ]
     },
     "metadata": {},
     "output_type": "display_data"
    },
    {
     "data": {
      "text/html": [
       "<span style=\"color:cyan\"> |-Best step: 0</span>"
      ],
      "text/plain": [
       "<IPython.core.display.HTML object>"
      ]
     },
     "metadata": {},
     "output_type": "display_data"
    },
    {
     "data": {
      "text/html": [
       "<span style=\"color:#7E57C2\"><h2 style=\"font-size:16px\">Hyperparameters:</h2></span>"
      ],
      "text/plain": [
       "<IPython.core.display.HTML object>"
      ]
     },
     "metadata": {},
     "output_type": "display_data"
    },
    {
     "data": {
      "text/html": [
       "<span style=\"color:cyan\"> |-learning_rate: 0.01</span>"
      ],
      "text/plain": [
       "<IPython.core.display.HTML object>"
      ]
     },
     "metadata": {},
     "output_type": "display_data"
    },
    {
     "data": {
      "text/html": [
       "<span style=\"color:blue\"> |-unitsl1: 70</span>"
      ],
      "text/plain": [
       "<IPython.core.display.HTML object>"
      ]
     },
     "metadata": {},
     "output_type": "display_data"
    },
    {
     "data": {
      "text/html": [
       "<span style=\"color:cyan\"> |-unitsl2: 30</span>"
      ],
      "text/plain": [
       "<IPython.core.display.HTML object>"
      ]
     },
     "metadata": {},
     "output_type": "display_data"
    },
    {
     "data": {
      "text/html": [
       "<span style=\"color:#4527A0\"><h1 style=\"font-size:18px\">Trial summary</h1></span>"
      ],
      "text/plain": [
       "<IPython.core.display.HTML object>"
      ]
     },
     "metadata": {},
     "output_type": "display_data"
    },
    {
     "data": {
      "text/html": [
       "<span style=\"color:cyan\"> |-Trial ID: 3328c17f8d2f467964f0320a3cf10a91</span>"
      ],
      "text/plain": [
       "<IPython.core.display.HTML object>"
      ]
     },
     "metadata": {},
     "output_type": "display_data"
    },
    {
     "data": {
      "text/html": [
       "<span style=\"color:cyan\"> |-Score: 0.7738852898279825</span>"
      ],
      "text/plain": [
       "<IPython.core.display.HTML object>"
      ]
     },
     "metadata": {},
     "output_type": "display_data"
    },
    {
     "data": {
      "text/html": [
       "<span style=\"color:cyan\"> |-Best step: 0</span>"
      ],
      "text/plain": [
       "<IPython.core.display.HTML object>"
      ]
     },
     "metadata": {},
     "output_type": "display_data"
    },
    {
     "data": {
      "text/html": [
       "<span style=\"color:#7E57C2\"><h2 style=\"font-size:16px\">Hyperparameters:</h2></span>"
      ],
      "text/plain": [
       "<IPython.core.display.HTML object>"
      ]
     },
     "metadata": {},
     "output_type": "display_data"
    },
    {
     "data": {
      "text/html": [
       "<span style=\"color:cyan\"> |-learning_rate: 0.001</span>"
      ],
      "text/plain": [
       "<IPython.core.display.HTML object>"
      ]
     },
     "metadata": {},
     "output_type": "display_data"
    },
    {
     "data": {
      "text/html": [
       "<span style=\"color:blue\"> |-unitsl1: 40</span>"
      ],
      "text/plain": [
       "<IPython.core.display.HTML object>"
      ]
     },
     "metadata": {},
     "output_type": "display_data"
    },
    {
     "data": {
      "text/html": [
       "<span style=\"color:cyan\"> |-unitsl2: 40</span>"
      ],
      "text/plain": [
       "<IPython.core.display.HTML object>"
      ]
     },
     "metadata": {},
     "output_type": "display_data"
    },
    {
     "data": {
      "text/html": [
       "<span style=\"color:#4527A0\"><h1 style=\"font-size:18px\">Trial summary</h1></span>"
      ],
      "text/plain": [
       "<IPython.core.display.HTML object>"
      ]
     },
     "metadata": {},
     "output_type": "display_data"
    },
    {
     "data": {
      "text/html": [
       "<span style=\"color:cyan\"> |-Trial ID: 7f39efd4e1d32e9deffec3716439011c</span>"
      ],
      "text/plain": [
       "<IPython.core.display.HTML object>"
      ]
     },
     "metadata": {},
     "output_type": "display_data"
    },
    {
     "data": {
      "text/html": [
       "<span style=\"color:cyan\"> |-Score: 0.7698480288187662</span>"
      ],
      "text/plain": [
       "<IPython.core.display.HTML object>"
      ]
     },
     "metadata": {},
     "output_type": "display_data"
    },
    {
     "data": {
      "text/html": [
       "<span style=\"color:cyan\"> |-Best step: 0</span>"
      ],
      "text/plain": [
       "<IPython.core.display.HTML object>"
      ]
     },
     "metadata": {},
     "output_type": "display_data"
    },
    {
     "data": {
      "text/html": [
       "<span style=\"color:#7E57C2\"><h2 style=\"font-size:16px\">Hyperparameters:</h2></span>"
      ],
      "text/plain": [
       "<IPython.core.display.HTML object>"
      ]
     },
     "metadata": {},
     "output_type": "display_data"
    },
    {
     "data": {
      "text/html": [
       "<span style=\"color:cyan\"> |-learning_rate: 0.001</span>"
      ],
      "text/plain": [
       "<IPython.core.display.HTML object>"
      ]
     },
     "metadata": {},
     "output_type": "display_data"
    },
    {
     "data": {
      "text/html": [
       "<span style=\"color:blue\"> |-unitsl1: 280</span>"
      ],
      "text/plain": [
       "<IPython.core.display.HTML object>"
      ]
     },
     "metadata": {},
     "output_type": "display_data"
    },
    {
     "data": {
      "text/html": [
       "<span style=\"color:cyan\"> |-unitsl2: 40</span>"
      ],
      "text/plain": [
       "<IPython.core.display.HTML object>"
      ]
     },
     "metadata": {},
     "output_type": "display_data"
    },
    {
     "data": {
      "text/html": [
       "<span style=\"color:#4527A0\"><h1 style=\"font-size:18px\">Trial summary</h1></span>"
      ],
      "text/plain": [
       "<IPython.core.display.HTML object>"
      ]
     },
     "metadata": {},
     "output_type": "display_data"
    },
    {
     "data": {
      "text/html": [
       "<span style=\"color:cyan\"> |-Trial ID: f2c67b09ec723ada9a647367f312ec9a</span>"
      ],
      "text/plain": [
       "<IPython.core.display.HTML object>"
      ]
     },
     "metadata": {},
     "output_type": "display_data"
    },
    {
     "data": {
      "text/html": [
       "<span style=\"color:cyan\"> |-Score: 0.7682677904764811</span>"
      ],
      "text/plain": [
       "<IPython.core.display.HTML object>"
      ]
     },
     "metadata": {},
     "output_type": "display_data"
    },
    {
     "data": {
      "text/html": [
       "<span style=\"color:cyan\"> |-Best step: 0</span>"
      ],
      "text/plain": [
       "<IPython.core.display.HTML object>"
      ]
     },
     "metadata": {},
     "output_type": "display_data"
    },
    {
     "data": {
      "text/html": [
       "<span style=\"color:#7E57C2\"><h2 style=\"font-size:16px\">Hyperparameters:</h2></span>"
      ],
      "text/plain": [
       "<IPython.core.display.HTML object>"
      ]
     },
     "metadata": {},
     "output_type": "display_data"
    },
    {
     "data": {
      "text/html": [
       "<span style=\"color:cyan\"> |-learning_rate: 0.001</span>"
      ],
      "text/plain": [
       "<IPython.core.display.HTML object>"
      ]
     },
     "metadata": {},
     "output_type": "display_data"
    },
    {
     "data": {
      "text/html": [
       "<span style=\"color:blue\"> |-unitsl1: 490</span>"
      ],
      "text/plain": [
       "<IPython.core.display.HTML object>"
      ]
     },
     "metadata": {},
     "output_type": "display_data"
    },
    {
     "data": {
      "text/html": [
       "<span style=\"color:cyan\"> |-unitsl2: 15</span>"
      ],
      "text/plain": [
       "<IPython.core.display.HTML object>"
      ]
     },
     "metadata": {},
     "output_type": "display_data"
    },
    {
     "data": {
      "text/html": [
       "<span style=\"color:#4527A0\"><h1 style=\"font-size:18px\">Trial summary</h1></span>"
      ],
      "text/plain": [
       "<IPython.core.display.HTML object>"
      ]
     },
     "metadata": {},
     "output_type": "display_data"
    },
    {
     "data": {
      "text/html": [
       "<span style=\"color:cyan\"> |-Trial ID: 33440a76c364fc0c7ca8eb5690abf9c9</span>"
      ],
      "text/plain": [
       "<IPython.core.display.HTML object>"
      ]
     },
     "metadata": {},
     "output_type": "display_data"
    },
    {
     "data": {
      "text/html": [
       "<span style=\"color:cyan\"> |-Score: 0.7650070985158285</span>"
      ],
      "text/plain": [
       "<IPython.core.display.HTML object>"
      ]
     },
     "metadata": {},
     "output_type": "display_data"
    },
    {
     "data": {
      "text/html": [
       "<span style=\"color:cyan\"> |-Best step: 0</span>"
      ],
      "text/plain": [
       "<IPython.core.display.HTML object>"
      ]
     },
     "metadata": {},
     "output_type": "display_data"
    },
    {
     "data": {
      "text/html": [
       "<span style=\"color:#7E57C2\"><h2 style=\"font-size:16px\">Hyperparameters:</h2></span>"
      ],
      "text/plain": [
       "<IPython.core.display.HTML object>"
      ]
     },
     "metadata": {},
     "output_type": "display_data"
    },
    {
     "data": {
      "text/html": [
       "<span style=\"color:cyan\"> |-learning_rate: 0.001</span>"
      ],
      "text/plain": [
       "<IPython.core.display.HTML object>"
      ]
     },
     "metadata": {},
     "output_type": "display_data"
    },
    {
     "data": {
      "text/html": [
       "<span style=\"color:blue\"> |-unitsl1: 220</span>"
      ],
      "text/plain": [
       "<IPython.core.display.HTML object>"
      ]
     },
     "metadata": {},
     "output_type": "display_data"
    },
    {
     "data": {
      "text/html": [
       "<span style=\"color:cyan\"> |-unitsl2: 30</span>"
      ],
      "text/plain": [
       "<IPython.core.display.HTML object>"
      ]
     },
     "metadata": {},
     "output_type": "display_data"
    }
   ],
   "source": [
    "tuner.results_summary()"
   ]
  },
  {
   "cell_type": "code",
   "execution_count": 10,
   "metadata": {},
   "outputs": [
    {
     "name": "stdout",
     "output_type": "stream",
     "text": [
      "[(3, array([0.   , 0.   , 0.242, 0.64 , 0.118], dtype=float32)), (4, array([0.   , 0.   , 0.488, 0.468, 0.043], dtype=float32)), (4, array([0.  , 0.  , 0.  , 0.16, 0.84], dtype=float32)), (1, array([0.   , 0.933, 0.067, 0.   , 0.   ], dtype=float32)), (1, array([0.   , 0.981, 0.019, 0.   , 0.   ], dtype=float32)), (1, array([0.   , 0.939, 0.061, 0.   , 0.   ], dtype=float32)), (3, array([0.   , 0.001, 0.716, 0.269, 0.014], dtype=float32)), (1, array([0.   , 0.964, 0.036, 0.   , 0.   ], dtype=float32)), (1, array([0.   , 0.825, 0.173, 0.002, 0.   ], dtype=float32)), (1, array([0.   , 0.92 , 0.08 , 0.001, 0.   ], dtype=float32))]\n",
      "0.8276219405658416\n",
      "[[ 2037     3     1     1     2     0]\n",
      " [    0 40713  1517     7     4     0]\n",
      " [    0  5382 33094  3038    11     0]\n",
      " [    0   274  8943 27041  4809     0]\n",
      " [    0    10   686  8414 23693     0]\n",
      " [    0     0     0     0     0     0]]\n",
      "[[0.997 0.001 0.    0.    0.001 0.   ]\n",
      " [0.    0.964 0.036 0.    0.    0.   ]\n",
      " [0.    0.13  0.797 0.073 0.    0.   ]\n",
      " [0.    0.007 0.218 0.658 0.117 0.   ]\n",
      " [0.    0.    0.021 0.257 0.722 0.   ]\n",
      " [0.    0.    0.    0.    0.    0.   ]]\n"
     ]
    }
   ],
   "source": [
    "from sklearn.metrics import (\n",
    "    balanced_accuracy_score,\n",
    "    confusion_matrix,\n",
    "    plot_confusion_matrix,\n",
    ")\n",
    "\n",
    "model = tuner.get_best_models()[0]\n",
    "\n",
    "np.set_printoptions(precision=3)\n",
    "np.set_printoptions(suppress=True)\n",
    "\n",
    "x_test = testdata[[\"nHits\", \"nClus\", \"Edep\"]].values\n",
    "y_true = testdata[[label]].values.ravel()\n",
    "\n",
    "y_pred = model.predict(x_test)\n",
    "print(list(zip(y_true, y_pred))[0:10])\n",
    "\n",
    "\n",
    "y_pred = np.argmax(y_pred, axis=1)\n",
    "\n",
    "bac = balanced_accuracy_score(y_true, y_pred)\n",
    "print(bac)\n",
    "cm = confusion_matrix(y_true, y_pred, labels=range(0, 6))\n",
    "print(cm)\n",
    "cmrel = confusion_matrix(y_true, y_pred, labels=range(0, 6), normalize=\"true\")\n",
    "print(cmrel)"
   ]
  },
  {
   "cell_type": "code",
   "execution_count": 11,
   "metadata": {},
   "outputs": [
    {
     "data": {
      "image/png": "[encoded data removed]",
      "text/plain": [
       "<Figure size 720x504 with 2 Axes>"
      ]
     },
     "metadata": {
      "needs_background": "light"
     },
     "output_type": "display_data"
    }
   ],
   "source": [
    "import matplotlib.pyplot as plt\n",
    "import seaborn as sns\n",
    "\n",
    "plt.figure(figsize=(10, 7))\n",
    "ax = sns.heatmap(cmrel, cmap=\"viridis\", annot=True)\n",
    "ax.set_xlabel(\"Predicted\")\n",
    "ax.set_ylabel(\"True\");"
   ]
  },
  {
   "cell_type": "code",
   "execution_count": null,
   "metadata": {},
   "outputs": [],
   "source": []
  }
 ],
 "metadata": {
  "kernelspec": {
   "display_name": "Python 3",
   "language": "python",
   "name": "python3"
  },
  "language_info": {
   "codemirror_mode": {
    "name": "ipython",
    "version": 3
   },
   "file_extension": ".py",
   "mimetype": "text/x-python",
   "name": "python",
   "nbconvert_exporter": "python",
   "pygments_lexer": "ipython3",
   "version": "3.8.5"
  }
 },
 "nbformat": 4,
 "nbformat_minor": 4
}

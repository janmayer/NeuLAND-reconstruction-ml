{
 "cells": [
  {
   "cell_type": "markdown",
   "metadata": {},
   "source": [
    "# Multiplicity determination with super-basic Bayesian Statistics"
   ]
  },
  {
   "cell_type": "code",
   "execution_count": 1,
   "metadata": {},
   "outputs": [
    {
     "name": "stdout",
     "output_type": "stream",
     "text": [
      "Welcome to JupyROOT 6.16/00\n"
     ]
    }
   ],
   "source": [
    "import numpy as np\n",
    "import pandas as pd\n",
    "import sys\n",
    "\n",
    "sys.path.append(\"..\")\n",
    "from helpers import filename_for"
   ]
  },
  {
   "cell_type": "markdown",
   "metadata": {},
   "source": [
    "## Example Fit / Calibration"
   ]
  },
  {
   "cell_type": "code",
   "execution_count": 2,
   "metadata": {},
   "outputs": [],
   "source": [
    "label = \"nPN\""
   ]
  },
  {
   "cell_type": "code",
   "execution_count": 3,
   "metadata": {},
   "outputs": [],
   "source": [
    "class Bayes:\n",
    "    def __init__(self, train, max_neutrons, label):\n",
    "        # Hypotheses: Zero to max neutrons\n",
    "        self._hypos = range(0, max_neutrons + 1)\n",
    "\n",
    "        # 'Fit' -> Create PDF for all numbers of neutrons\n",
    "        # TODO: Should they be normalized?\n",
    "        self._hits = {\n",
    "            h: np.histogram(train[train[label] == h][\"nHits\"], range=(0, 500), bins=500, density=True,)[0]\n",
    "            for h in self._hypos\n",
    "        }\n",
    "        self._clus = {\n",
    "            h: np.histogram(train[train[label] == h][\"nClus\"], range=(0, 500), bins=500, density=True,)[0]\n",
    "            for h in self._hypos\n",
    "        }\n",
    "        self._edep = {\n",
    "            h: np.histogram(train[train[label] == h][\"Edep\"], range=(0, 5000), bins=500, density=True,)[0]\n",
    "            for h in self._hypos\n",
    "        }\n",
    "\n",
    "    def predict(self, x):\n",
    "        # 'Predict' -> Use PDFs to get probabilities and take the highest\n",
    "        probs = [\n",
    "            self._hits[h][x[\"nHits\"]] * self._clus[h][x[\"nClus\"]] * self._edep[h][x[\"Edep\"].floordiv(10).astype(int)]\n",
    "            for h in self._hypos\n",
    "        ]\n",
    "        y_pred = np.argmax(probs, axis=0)\n",
    "        return y_pred"
   ]
  },
  {
   "cell_type": "code",
   "execution_count": 4,
   "metadata": {},
   "outputs": [],
   "source": [
    "files = [\n",
    "    filename_for(15, 30, 600, 500, n, \"inclxx\", s, \"trifeature.pkl\") for n in [1, 2, 3, 4, 5] for s in range(20)\n",
    "]\n",
    "dfs = [pd.read_pickle(file) for file in files]\n",
    "data = pd.concat(dfs, ignore_index=True)"
   ]
  },
  {
   "cell_type": "code",
   "execution_count": 5,
   "metadata": {},
   "outputs": [],
   "source": [
    "msk = np.random.rand(len(data)) < 0.8\n",
    "msk[0] = True\n",
    "msk[1] = False\n",
    "data.loc[0] = data.loc[1] = [0, 0, 0, 0, 0, 0]\n",
    "\n",
    "traindata = data[msk].sample(frac=1)\n",
    "testdata = data[~msk].sample(frac=1)"
   ]
  },
  {
   "cell_type": "code",
   "execution_count": 6,
   "metadata": {},
   "outputs": [
    {
     "name": "stdout",
     "output_type": "stream",
     "text": [
      "[(2, 2), (1, 0), (3, 4), (4, 5), (3, 3), (4, 5), (1, 1), (5, 4), (2, 2), (5, 5), (5, 5), (2, 1), (1, 2), (4, 4), (1, 1), (1, 1), (2, 2), (5, 5), (3, 4), (1, 1), (5, 5), (2, 2), (4, 4), (2, 2), (3, 3), (2, 2), (1, 1), (1, 1), (4, 3), (1, 1), (5, 4), (2, 2), (2, 2), (4, 4), (5, 5), (4, 3), (5, 5), (5, 5), (4, 4), (2, 3), (3, 4), (1, 1), (4, 3), (1, 1), (3, 2), (5, 5), (4, 4), (3, 5), (2, 3), (4, 4)]\n"
     ]
    }
   ],
   "source": [
    "model = Bayes(traindata, 5, label)\n",
    "y_pred = model.predict(testdata)\n",
    "y_true = testdata[label].values.ravel()\n",
    "\n",
    "print(list(zip(y_true, y_pred))[0:50])"
   ]
  },
  {
   "cell_type": "markdown",
   "metadata": {},
   "source": [
    "## Example Prediction"
   ]
  },
  {
   "cell_type": "code",
   "execution_count": 7,
   "metadata": {},
   "outputs": [
    {
     "name": "stdout",
     "output_type": "stream",
     "text": [
      "0.6768019340768584\n",
      "[[    1     0     0     0     0     0]\n",
      " [ 1955 33173  4501    31     3     4]\n",
      " [  106  7681 24392  7743   202     4]\n",
      " [    6  1166  9021 19786  9202   706]\n",
      " [    2   138  1891  9530 17344 11047]\n",
      " [    4    10   342  2597  9515 27302]]\n",
      "[[1.    0.    0.    0.    0.    0.   ]\n",
      " [0.049 0.836 0.113 0.001 0.    0.   ]\n",
      " [0.003 0.191 0.608 0.193 0.005 0.   ]\n",
      " [0.    0.029 0.226 0.496 0.231 0.018]\n",
      " [0.    0.003 0.047 0.239 0.434 0.277]\n",
      " [0.    0.    0.009 0.065 0.239 0.686]]\n"
     ]
    }
   ],
   "source": [
    "from sklearn.metrics import (\n",
    "    balanced_accuracy_score,\n",
    "    confusion_matrix,\n",
    "    plot_confusion_matrix,\n",
    ")\n",
    "\n",
    "np.set_printoptions(precision=3)\n",
    "np.set_printoptions(suppress=True)\n",
    "\n",
    "bac = balanced_accuracy_score(y_true, y_pred)\n",
    "print(bac)\n",
    "cm = confusion_matrix(y_true, y_pred, labels=range(0, 6))\n",
    "print(cm)\n",
    "cmrel = confusion_matrix(y_true, y_pred, labels=range(0, 6), normalize=\"true\")\n",
    "print(cmrel)"
   ]
  },
  {
   "cell_type": "code",
   "execution_count": 8,
   "metadata": {},
   "outputs": [
    {
     "data": {
      "text/plain": [
       "Text(69.0, 0.5, 'True')"
      ]
     },
     "execution_count": 8,
     "metadata": {},
     "output_type": "execute_result"
    },
    {
     "data": {
      "image/png": "[encoded data removed]",
      "text/plain": [
       "<Figure size 720x504 with 2 Axes>"
      ]
     },
     "metadata": {
      "needs_background": "light"
     },
     "output_type": "display_data"
    }
   ],
   "source": [
    "import matplotlib.pyplot as plt\n",
    "import seaborn as sns\n",
    "\n",
    "plt.figure(figsize=(10, 7))\n",
    "ax = sns.heatmap(cmrel, cmap=\"viridis\", annot=True)\n",
    "ax.set_xlabel(\"Predicted\")\n",
    "ax.set_ylabel(\"True\")"
   ]
  },
  {
   "cell_type": "markdown",
   "metadata": {},
   "source": [
    "## Evaluation for different max multiplicities"
   ]
  },
  {
   "cell_type": "code",
   "execution_count": 9,
   "metadata": {},
   "outputs": [
    {
     "name": "stdout",
     "output_type": "stream",
     "text": [
      "[[    1     0]\n",
      " [ 1868 38106]]\n",
      "1 0.9766348126282083\n",
      "[[    1     0     0]\n",
      " [ 1981 33408  4662]\n",
      " [   99  7701 32305]]\n",
      "2 0.8798823369463794\n",
      "[[    1     0     0     0]\n",
      " [ 1924 33462  4554    39]\n",
      " [   87  7664 24394  7912]\n",
      " [    8  1220  9181 29813]]\n",
      "3 0.7967957243050154\n",
      "[[    1     0     0     0     0]\n",
      " [ 2016 33207  4539    32     7]\n",
      " [   78  7859 23854  7737   225]\n",
      " [    7  1149  8958 19793  9764]\n",
      " [    4   133  1823  9349 28485]]\n",
      "4 0.7298242459531441\n",
      "[[    1     0     0     0     0     0]\n",
      " [ 1957 33545  4499    31     3     5]\n",
      " [   77  7902 24266  7712   232     7]\n",
      " [    6  1201  9035 19757  9169   706]\n",
      " [    1   137  1990  9661 17463 11204]\n",
      " [    1    14   325  2584  9610 27451]]\n",
      "5 0.6758585825131064\n"
     ]
    }
   ],
   "source": [
    "for n in [1, 2, 3, 4, 5]:\n",
    "    subset = data[data[label] <= n]\n",
    "    msk = np.random.rand(len(subset)) < 0.8\n",
    "    msk[0] = True\n",
    "    msk[1] = False\n",
    "    traindata = subset[msk].sample(frac=1)\n",
    "    testdata = subset[~msk].sample(frac=1)\n",
    "\n",
    "    model = Bayes(traindata, n, label)\n",
    "    y_pred = model.predict(testdata)\n",
    "    y_true = testdata[label].values.ravel()\n",
    "    #print(list(zip(y_true, y_pred))[0:50])\n",
    "    bac = balanced_accuracy_score(y_true, y_pred)\n",
    "    cm = confusion_matrix(y_true, y_pred, labels=range(0, n + 1))\n",
    "    print(cm)\n",
    "    print(n, bac)"
   ]
  },
  {
   "cell_type": "code",
   "execution_count": null,
   "metadata": {},
   "outputs": [],
   "source": []
  }
 ],
 "metadata": {
  "kernelspec": {
   "display_name": "Python 3",
   "language": "python",
   "name": "python3"
  },
  "language_info": {
   "codemirror_mode": {
    "name": "ipython",
    "version": 3
   },
   "file_extension": ".py",
   "mimetype": "text/x-python",
   "name": "python",
   "nbconvert_exporter": "python",
   "pygments_lexer": "ipython3",
   "version": "3.7.6"
  }
 },
 "nbformat": 4,
 "nbformat_minor": 4
}

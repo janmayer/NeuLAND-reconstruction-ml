{
 "cells": [
  {
   "cell_type": "markdown",
   "metadata": {},
   "source": [
    "# Multiplicity determination with super-basic Bayesian Statistics"
   ]
  },
  {
   "cell_type": "code",
   "execution_count": 1,
   "metadata": {},
   "outputs": [
    {
     "name": "stdout",
     "output_type": "stream",
     "text": [
      "Welcome to JupyROOT 6.16/00\n"
     ]
    }
   ],
   "source": [
    "import numpy as np\n",
    "import pandas as pd\n",
    "import sys\n",
    "\n",
    "from sklearn.metrics import (\n",
    "    balanced_accuracy_score,\n",
    "    confusion_matrix,\n",
    "    plot_confusion_matrix,\n",
    ")\n",
    "\n",
    "import matplotlib.pyplot as plt\n",
    "import seaborn as sns\n",
    "\n",
    "sys.path.append(\"..\")\n",
    "from helpers import filename_for"
   ]
  },
  {
   "cell_type": "code",
   "execution_count": 2,
   "metadata": {},
   "outputs": [],
   "source": [
    "class Bayes:\n",
    "    def __init__(self, train, max_neutrons, label):\n",
    "        # Hypotheses: Zero to max neutrons\n",
    "        self._hypos = range(0, max_neutrons + 1)\n",
    "\n",
    "        # 'Fit' -> Create PDF for all numbers of neutrons\n",
    "        # TODO: Should they be normalized?\n",
    "        self._hits = {\n",
    "            h: np.histogram(train[train[label] == h][\"nHits\"], range=(0, 500), bins=500, density=True,)[0]\n",
    "            for h in self._hypos\n",
    "        }\n",
    "        self._clus = {\n",
    "            h: np.histogram(train[train[label] == h][\"nClus\"], range=(0, 500), bins=500, density=True,)[0]\n",
    "            for h in self._hypos\n",
    "        }\n",
    "        self._edep = {\n",
    "            h: np.histogram(train[train[label] == h][\"Edep\"], range=(0, 5000), bins=500, density=True,)[0]\n",
    "            for h in self._hypos\n",
    "        }\n",
    "\n",
    "    def predict(self, x):\n",
    "        # 'Predict' -> Use PDFs to get probabilities and take the highest\n",
    "        probs = [\n",
    "            self._hits[h][x[\"nHits\"]] * self._clus[h][x[\"nClus\"]] * self._edep[h][x[\"Edep\"].floordiv(10).astype(int)]\n",
    "            for h in self._hypos\n",
    "        ]\n",
    "        y_pred = np.argmax(probs, axis=0)\n",
    "        return y_pred"
   ]
  },
  {
   "cell_type": "code",
   "execution_count": 3,
   "metadata": {},
   "outputs": [],
   "source": [
    "files = [\n",
    "    filename_for(15, 30, 600, 500, n, \"inclxx\", s, \"trifeature.pkl\") for n in range(1, 7) for s in range(20)\n",
    "]\n",
    "dfs = [pd.read_pickle(file) for file in files]\n",
    "data = pd.concat(dfs, ignore_index=True)\n",
    "data.loc[0] = data.loc[1] = [0, 0, 0, 0, 0, 0] # for n=0"
   ]
  },
  {
   "cell_type": "markdown",
   "metadata": {},
   "source": [
    "## Example Fit / Calibration & Prediction"
   ]
  },
  {
   "cell_type": "code",
   "execution_count": 4,
   "metadata": {},
   "outputs": [],
   "source": [
    "label = \"nPN\"\n",
    "nmax = 4"
   ]
  },
  {
   "cell_type": "code",
   "execution_count": 5,
   "metadata": {},
   "outputs": [
    {
     "data": {
      "text/html": [
       "<div>\n",
       "<style scoped>\n",
       "    .dataframe tbody tr th:only-of-type {\n",
       "        vertical-align: middle;\n",
       "    }\n",
       "\n",
       "    .dataframe tbody tr th {\n",
       "        vertical-align: top;\n",
       "    }\n",
       "\n",
       "    .dataframe thead th {\n",
       "        text-align: right;\n",
       "    }\n",
       "</style>\n",
       "<table border=\"1\" class=\"dataframe\">\n",
       "  <thead>\n",
       "    <tr style=\"text-align: right;\">\n",
       "      <th></th>\n",
       "      <th>nPN</th>\n",
       "      <th>nPP</th>\n",
       "      <th>nPH</th>\n",
       "      <th>nHits</th>\n",
       "      <th>nClus</th>\n",
       "      <th>Edep</th>\n",
       "    </tr>\n",
       "  </thead>\n",
       "  <tbody>\n",
       "    <tr>\n",
       "      <th>363786</th>\n",
       "      <td>2</td>\n",
       "      <td>1</td>\n",
       "      <td>1</td>\n",
       "      <td>12</td>\n",
       "      <td>7</td>\n",
       "      <td>225</td>\n",
       "    </tr>\n",
       "    <tr>\n",
       "      <th>723638</th>\n",
       "      <td>4</td>\n",
       "      <td>3</td>\n",
       "      <td>3</td>\n",
       "      <td>27</td>\n",
       "      <td>9</td>\n",
       "      <td>728</td>\n",
       "    </tr>\n",
       "    <tr>\n",
       "      <th>368259</th>\n",
       "      <td>2</td>\n",
       "      <td>2</td>\n",
       "      <td>2</td>\n",
       "      <td>38</td>\n",
       "      <td>13</td>\n",
       "      <td>537</td>\n",
       "    </tr>\n",
       "    <tr>\n",
       "      <th>794238</th>\n",
       "      <td>4</td>\n",
       "      <td>4</td>\n",
       "      <td>4</td>\n",
       "      <td>51</td>\n",
       "      <td>17</td>\n",
       "      <td>1264</td>\n",
       "    </tr>\n",
       "    <tr>\n",
       "      <th>641683</th>\n",
       "      <td>4</td>\n",
       "      <td>3</td>\n",
       "      <td>3</td>\n",
       "      <td>54</td>\n",
       "      <td>13</td>\n",
       "      <td>968</td>\n",
       "    </tr>\n",
       "    <tr>\n",
       "      <th>...</th>\n",
       "      <td>...</td>\n",
       "      <td>...</td>\n",
       "      <td>...</td>\n",
       "      <td>...</td>\n",
       "      <td>...</td>\n",
       "      <td>...</td>\n",
       "    </tr>\n",
       "    <tr>\n",
       "      <th>95720</th>\n",
       "      <td>1</td>\n",
       "      <td>1</td>\n",
       "      <td>1</td>\n",
       "      <td>9</td>\n",
       "      <td>6</td>\n",
       "      <td>181</td>\n",
       "    </tr>\n",
       "    <tr>\n",
       "      <th>471615</th>\n",
       "      <td>3</td>\n",
       "      <td>3</td>\n",
       "      <td>3</td>\n",
       "      <td>34</td>\n",
       "      <td>8</td>\n",
       "      <td>683</td>\n",
       "    </tr>\n",
       "    <tr>\n",
       "      <th>257948</th>\n",
       "      <td>2</td>\n",
       "      <td>2</td>\n",
       "      <td>2</td>\n",
       "      <td>51</td>\n",
       "      <td>20</td>\n",
       "      <td>731</td>\n",
       "    </tr>\n",
       "    <tr>\n",
       "      <th>675702</th>\n",
       "      <td>4</td>\n",
       "      <td>4</td>\n",
       "      <td>4</td>\n",
       "      <td>46</td>\n",
       "      <td>13</td>\n",
       "      <td>765</td>\n",
       "    </tr>\n",
       "    <tr>\n",
       "      <th>690426</th>\n",
       "      <td>4</td>\n",
       "      <td>3</td>\n",
       "      <td>3</td>\n",
       "      <td>60</td>\n",
       "      <td>11</td>\n",
       "      <td>924</td>\n",
       "    </tr>\n",
       "  </tbody>\n",
       "</table>\n",
       "<p>639135 rows × 6 columns</p>\n",
       "</div>"
      ],
      "text/plain": [
       "        nPN  nPP  nPH  nHits  nClus  Edep\n",
       "363786    2    1    1     12      7   225\n",
       "723638    4    3    3     27      9   728\n",
       "368259    2    2    2     38     13   537\n",
       "794238    4    4    4     51     17  1264\n",
       "641683    4    3    3     54     13   968\n",
       "...     ...  ...  ...    ...    ...   ...\n",
       "95720     1    1    1      9      6   181\n",
       "471615    3    3    3     34      8   683\n",
       "257948    2    2    2     51     20   731\n",
       "675702    4    4    4     46     13   765\n",
       "690426    4    3    3     60     11   924\n",
       "\n",
       "[639135 rows x 6 columns]"
      ]
     },
     "metadata": {},
     "output_type": "display_data"
    }
   ],
   "source": [
    "subset = data[data[label] <= nmax]\n",
    "msk = np.random.rand(len(subset)) < 0.8\n",
    "msk[0] = True\n",
    "msk[1] = False\n",
    "traindata = subset[msk].sample(frac=1)\n",
    "testdata = subset[~msk].sample(frac=1)\n",
    "\n",
    "display(traindata)"
   ]
  },
  {
   "cell_type": "code",
   "execution_count": 6,
   "metadata": {},
   "outputs": [
    {
     "name": "stdout",
     "output_type": "stream",
     "text": [
      "[(3, 3), (1, 1), (2, 1), (2, 1), (4, 4), (1, 1), (4, 4), (2, 2), (3, 2), (1, 1), (1, 1), (3, 2), (3, 3), (1, 1), (4, 4), (3, 2), (3, 4), (3, 2), (4, 4), (3, 3), (4, 4), (4, 4), (2, 2), (1, 1), (4, 4), (4, 3), (1, 1), (2, 2), (3, 3), (3, 3), (2, 2), (4, 4), (4, 4), (4, 4), (2, 2), (3, 2), (3, 3), (4, 3), (2, 1), (1, 1), (2, 2), (3, 1), (2, 1), (1, 1), (2, 1), (1, 1), (2, 2), (1, 1), (1, 1), (2, 3)]\n"
     ]
    }
   ],
   "source": [
    "model = Bayes(traindata, nmax, label)\n",
    "y_pred = model.predict(testdata)\n",
    "y_true = testdata[label].values.ravel()\n",
    "\n",
    "print(list(zip(y_true, y_pred))[0:50])"
   ]
  },
  {
   "cell_type": "code",
   "execution_count": 7,
   "metadata": {},
   "outputs": [
    {
     "name": "stdout",
     "output_type": "stream",
     "text": [
      "0.7300195819193229\n",
      "[[    1     0     0     0     0]\n",
      " [ 1977 33831  4564    26     6]\n",
      " [   88  7953 24414  7751   243]\n",
      " [    8  1173  8988 19898 10071]\n",
      " [    7   147  1897  9374 28448]]\n",
      "[[100.   0.   0.   0.   0.]\n",
      " [  5.  84.  11.   0.   0.]\n",
      " [  0.  20.  60.  19.   1.]\n",
      " [  0.   3.  22.  50.  25.]\n",
      " [  0.   0.   5.  24.  71.]]\n"
     ]
    }
   ],
   "source": [
    "np.set_printoptions(precision=3)\n",
    "np.set_printoptions(suppress=True)\n",
    "\n",
    "bac = balanced_accuracy_score(y_true, y_pred)\n",
    "print(bac)\n",
    "cm = confusion_matrix(y_true, y_pred, labels=range(0, nmax + 1))\n",
    "print(cm)\n",
    "cmrel = confusion_matrix(y_true, y_pred, labels=range(0, nmax + 1), normalize=\"true\")\n",
    "print((cmrel * 100).round())"
   ]
  },
  {
   "cell_type": "code",
   "execution_count": 8,
   "metadata": {},
   "outputs": [
    {
     "data": {
      "text/plain": [
       "Text(69.0, 0.5, 'True')"
      ]
     },
     "execution_count": 8,
     "metadata": {},
     "output_type": "execute_result"
    },
    {
     "data": {
      "image/png": "[encoded data removed]",
      "text/plain": [
       "<Figure size 720x504 with 2 Axes>"
      ]
     },
     "metadata": {
      "needs_background": "light"
     },
     "output_type": "display_data"
    }
   ],
   "source": [
    "plt.figure(figsize=(10, 7))\n",
    "ax = sns.heatmap(cmrel, cmap=\"viridis\", annot=True)\n",
    "ax.set_xlabel(\"Predicted\")\n",
    "ax.set_ylabel(\"True\")"
   ]
  },
  {
   "cell_type": "markdown",
   "metadata": {},
   "source": [
    "## Evaluation for different max multiplicities"
   ]
  },
  {
   "cell_type": "code",
   "execution_count": 9,
   "metadata": {},
   "outputs": [
    {
     "name": "stdout",
     "output_type": "stream",
     "text": [
      "[[    1     0]\n",
      " [ 2013 38072]]\n",
      "1 0.9748908569290258\n",
      "[[    1     0     0]\n",
      " [ 1964 33233  4532]\n",
      " [  103  7784 32414]]\n",
      "2 0.8802632983330264\n",
      "[[    1     0     0     0]\n",
      " [ 1986 33713  4510    42]\n",
      " [   89  7882 24209  7662]\n",
      " [   14  1114  9145 29701]]\n",
      "3 0.7970505818323997\n",
      "[[    1     0     0     0     0]\n",
      " [ 1957 33546  4557    37    13]\n",
      " [  105  7873 24178  7808   222]\n",
      " [    5  1160  9128 20074  9964]\n",
      " [    2   135  1858  9656 28328]]\n",
      "4 0.7288611256269165\n",
      "[[    1     0     0     0     0     0]\n",
      " [ 1959 33506  4621    30     5     4]\n",
      " [  101  7868 24316  7563   225     9]\n",
      " [    6  1170  9185 19869  9195   697]\n",
      " [    1   130  1988  9525 17384 11216]\n",
      " [    6    12   314  2539  9539 27580]]\n",
      "5 0.676424813320358\n"
     ]
    }
   ],
   "source": [
    "for n in [1, 2, 3, 4, 5]:\n",
    "    subset = data[data[label] <= n]\n",
    "    msk = np.random.rand(len(subset)) < 0.8\n",
    "    msk[0] = True\n",
    "    msk[1] = False\n",
    "    traindata = subset[msk].sample(frac=1)\n",
    "    testdata = subset[~msk].sample(frac=1)\n",
    "\n",
    "    model = Bayes(traindata, n, label)\n",
    "    y_pred = model.predict(testdata)\n",
    "    y_true = testdata[label].values.ravel()\n",
    "    # print(list(zip(y_true, y_pred))[0:50])\n",
    "    bac = balanced_accuracy_score(y_true, y_pred)\n",
    "    cm = confusion_matrix(y_true, y_pred, labels=range(0, n + 1))\n",
    "    print(cm)\n",
    "    print(n, bac)"
   ]
  },
  {
   "cell_type": "code",
   "execution_count": null,
   "metadata": {},
   "outputs": [],
   "source": []
  }
 ],
 "metadata": {
  "kernelspec": {
   "display_name": "Python 3",
   "language": "python",
   "name": "python3"
  },
  "language_info": {
   "codemirror_mode": {
    "name": "ipython",
    "version": 3
   },
   "file_extension": ".py",
   "mimetype": "text/x-python",
   "name": "python",
   "nbconvert_exporter": "python",
   "pygments_lexer": "ipython3",
   "version": "3.7.6"
  }
 },
 "nbformat": 4,
 "nbformat_minor": 4
}

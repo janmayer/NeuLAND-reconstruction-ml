{
 "cells": [
  {
   "cell_type": "markdown",
   "metadata": {},
   "source": [
    "# Multiplicity determination with super-basic Bayesian Statistics"
   ]
  },
  {
   "cell_type": "code",
   "execution_count": 1,
   "metadata": {},
   "outputs": [],
   "source": [
    "import numpy as np\n",
    "import pandas as pd"
   ]
  },
  {
   "cell_type": "markdown",
   "metadata": {},
   "source": [
    "## Example Fit / Calibration"
   ]
  },
  {
   "cell_type": "code",
   "execution_count": 2,
   "metadata": {},
   "outputs": [],
   "source": [
    "class Bayes:\n",
    "    def __init__(self, train, max_neutrons, label):\n",
    "        # Hypotheses: Zero to max neutrons\n",
    "        self._hypos = range(0, max_neutrons + 1)\n",
    "\n",
    "        # 'Fit' -> Create PDF for all numbers of neutrons\n",
    "        # TODO: Should they be normalized?\n",
    "        self._hits = {\n",
    "            h: np.histogram(\n",
    "                train[train[label] == h][\"nHits\"],\n",
    "                range=(0, 300),\n",
    "                bins=300,\n",
    "                density=True,\n",
    "            )[0]\n",
    "            for h in self._hypos\n",
    "        }\n",
    "        self._clus = {\n",
    "            h: np.histogram(\n",
    "                train[train[label] == h][\"nClus\"],\n",
    "                range=(0, 300),\n",
    "                bins=300,\n",
    "                density=True,\n",
    "            )[0]\n",
    "            for h in self._hypos\n",
    "        }\n",
    "        self._edep = {\n",
    "            h: np.histogram(\n",
    "                train[train[label] == h][\"Edep\"],\n",
    "                range=(0, 3000),\n",
    "                bins=300,\n",
    "                density=True,\n",
    "            )[0]\n",
    "            for h in self._hypos\n",
    "        }\n",
    "\n",
    "    def predict(self, x):\n",
    "        # 'Predict' -> Use PDFs to get probabilities and take the highest\n",
    "        probs = [\n",
    "            self._hits[h][x[\"nHits\"]]\n",
    "            * self._clus[h][x[\"nClus\"]]\n",
    "            * self._edep[h][x[\"Edep\"].floordiv(10).astype(int)]\n",
    "            for h in self._hypos\n",
    "        ]\n",
    "        y_pred = np.argmax(probs, axis=0)\n",
    "        return y_pred"
   ]
  },
  {
   "cell_type": "code",
   "execution_count": 3,
   "metadata": {},
   "outputs": [
    {
     "name": "stdout",
     "output_type": "stream",
     "text": [
      "[(4, 4), (4, 3), (4, 4), (2, 2), (1, 1), (2, 2), (3, 3), (5, 5), (4, 4), (1, 1), (3, 3), (3, 3), (5, 5), (2, 2), (2, 2), (1, 1), (2, 2), (1, 1), (4, 4), (3, 5), (1, 1), (2, 3), (5, 5), (3, 2), (2, 2), (5, 5), (1, 1), (3, 2), (2, 3), (3, 3), (4, 4), (5, 5), (2, 2), (1, 1), (2, 2), (4, 4), (5, 4), (5, 5), (1, 1), (2, 3), (2, 2), (3, 3), (1, 1), (3, 3), (1, 1), (2, 2), (1, 1), (2, 2), (1, 1), (5, 5)]\n"
     ]
    }
   ],
   "source": [
    "label = \"nPH\"\n",
    "num_dp = 30\n",
    "\n",
    "data = pd.read_pickle(f\"data/600AMeV_{num_dp}dp.trifeature.pkl\")\n",
    "msk = np.random.rand(len(data)) < 0.8\n",
    "# Create one entry with zero everything to prevent NaN-PDF if no entry with LABEL=0 exists\n",
    "msk[0] = True\n",
    "data.loc[0] = [0, 0, 0, 0, 0, 0]\n",
    "traindata = data[msk]\n",
    "testdata = data[~msk]\n",
    "\n",
    "model = Bayes(traindata, 5, label)\n",
    "y_pred = model.predict(testdata)\n",
    "y_true = testdata[label].values.ravel()\n",
    "\n",
    "print(list(zip(y_true, y_pred))[0:50])"
   ]
  },
  {
   "cell_type": "markdown",
   "metadata": {},
   "source": [
    "## Example Prediction"
   ]
  },
  {
   "cell_type": "code",
   "execution_count": 4,
   "metadata": {},
   "outputs": [
    {
     "name": "stdout",
     "output_type": "stream",
     "text": [
      "0.7408913009559764\n",
      "[[  4884      0      0      0      0      0]\n",
      " [     0 190246  14335      2      0      0]\n",
      " [     0  30561 142529  31479    206      0]\n",
      " [     0   1949  40628 119016  40826   1128]\n",
      " [     0     66   4598  45666 103143  48851]\n",
      " [     6      3    292   6555  42667 130494]]\n",
      "[[1.    0.    0.    0.    0.    0.   ]\n",
      " [0.    0.93  0.07  0.    0.    0.   ]\n",
      " [0.    0.149 0.696 0.154 0.001 0.   ]\n",
      " [0.    0.01  0.2   0.585 0.201 0.006]\n",
      " [0.    0.    0.023 0.226 0.51  0.241]\n",
      " [0.    0.    0.002 0.036 0.237 0.725]]\n"
     ]
    }
   ],
   "source": [
    "from sklearn.metrics import (\n",
    "    balanced_accuracy_score,\n",
    "    confusion_matrix,\n",
    "    plot_confusion_matrix,\n",
    ")\n",
    "\n",
    "np.set_printoptions(precision=3)\n",
    "np.set_printoptions(suppress=True)\n",
    "\n",
    "bac = balanced_accuracy_score(y_true, y_pred)\n",
    "print(bac)\n",
    "cm = confusion_matrix(y_true, y_pred, labels=range(0, 6))\n",
    "print(cm)\n",
    "cmrel = confusion_matrix(y_true, y_pred, labels=range(0, 6), normalize=\"true\")\n",
    "print(cmrel)"
   ]
  },
  {
   "cell_type": "code",
   "execution_count": 5,
   "metadata": {},
   "outputs": [
    {
     "data": {
      "image/png": "[encoded data removed]",
      "text/plain": [
       "<Figure size 720x504 with 2 Axes>"
      ]
     },
     "metadata": {
      "needs_background": "light"
     },
     "output_type": "display_data"
    }
   ],
   "source": [
    "import matplotlib.pyplot as plt\n",
    "import seaborn as sns\n",
    "\n",
    "plt.figure(figsize=(10, 7))\n",
    "ax = sns.heatmap(cmrel, cmap=\"viridis\", annot=True)\n",
    "ax.set_xlabel(\"Predicted\")\n",
    "ax.set_ylabel(\"True\");"
   ]
  },
  {
   "cell_type": "markdown",
   "metadata": {},
   "source": [
    "## Evaluation for different max multiplicities"
   ]
  },
  {
   "cell_type": "code",
   "execution_count": 6,
   "metadata": {},
   "outputs": [
    {
     "name": "stdout",
     "output_type": "stream",
     "text": [
      "15 2 nPH 0.8659844997686802\n",
      "15 3 nPH 0.7631441810636492\n",
      "15 4 nPH 0.6863529045237968\n",
      "15 5 nPH 0.6276718844387578\n",
      "30 2 nPH 0.9274406010562167\n",
      "30 3 nPH 0.854343363405522\n",
      "30 4 nPH 0.7927620864382635\n",
      "30 5 nPH 0.7400093679495923\n"
     ]
    }
   ],
   "source": [
    "for num_dp in [15, 30]:\n",
    "    for n in range(2, 6):\n",
    "        data = pd.read_pickle(f\"data/600AMeV_{num_dp}dp.trifeature.pkl\")\n",
    "        data = data[data[\"nPN\"] <= n]\n",
    "        msk = np.random.rand(len(data)) < 0.8\n",
    "        # Create one entry with zero everything to prevent NaN-PDF if no entry with LABEL=0 exists\n",
    "        msk[0] = True\n",
    "        msk[1] = False\n",
    "        data.loc[0] = data.loc[1] = [0, 0, 0, 0, 0, 0]\n",
    "        traindata = data[msk]\n",
    "        testdata = data[~msk]\n",
    "\n",
    "        for label in [\"nPH\"]:\n",
    "            model = Bayes(traindata, n, label)\n",
    "            y_pred = model.predict(testdata)\n",
    "            y_true = testdata[label].values.ravel()\n",
    "            # print(list(zip(y_true, y_pred))[0:50])\n",
    "            bac = balanced_accuracy_score(y_true, y_pred)\n",
    "            print(num_dp, n, label, bac)"
   ]
  }
 ],
 "metadata": {
  "kernelspec": {
   "display_name": "Python 3",
   "language": "python",
   "name": "python3"
  },
  "language_info": {
   "codemirror_mode": {
    "name": "ipython",
    "version": 3
   },
   "file_extension": ".py",
   "mimetype": "text/x-python",
   "name": "python",
   "nbconvert_exporter": "python",
   "pygments_lexer": "ipython3",
   "version": "3.7.5"
  }
 },
 "nbformat": 4,
 "nbformat_minor": 4
}

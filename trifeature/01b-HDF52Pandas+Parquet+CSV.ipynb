{
 "cells": [
  {
   "cell_type": "markdown",
   "metadata": {},
   "source": [
    "# Convert Trifeature HDF5 files to pickled Pandas Dataframes and Apache Parquets"
   ]
  },
  {
   "cell_type": "markdown",
   "metadata": {},
   "source": [
    "This conversion isn't strictly necessary, but comes in handy for quickly reading the data for scikit-learn, ploting, etc."
   ]
  },
  {
   "cell_type": "code",
   "execution_count": 1,
   "metadata": {},
   "outputs": [],
   "source": [
    "import h5py\n",
    "import numpy as np\n",
    "import pandas as pd\n",
    "import pyarrow as pa\n",
    "import pyarrow.parquet as pq"
   ]
  },
  {
   "cell_type": "code",
   "execution_count": 2,
   "metadata": {},
   "outputs": [],
   "source": [
    "def create_pandas(h5file):\n",
    "    # Note: Data in HDF5 file is not in the native Pandas Dataframe format\n",
    "    data = pd.DataFrame(np.array(h5file[\"data\"]))\n",
    "    data.columns = [\"nPN\", \"nPP\", \"nPH\", \"nHits\", \"nClus\", \"Edep\"]\n",
    "    # Use MAX_NEUTRONS to test predictions for scenarios with limited number of neutrons\n",
    "    # FIXME: nPH < nPN shouldn't be necessary, few cases (431/1M)\n",
    "    idx = (data[\"nPN\"] <= 5) & (data[\"nPH\"] <= data[\"nPN\"])\n",
    "    data = data[idx]\n",
    "    # sample(frac=1) == shuffle\n",
    "    return data.sample(frac=1)"
   ]
  },
  {
   "cell_type": "code",
   "execution_count": 3,
   "metadata": {},
   "outputs": [
    {
     "name": "stdout",
     "output_type": "stream",
     "text": [
      "data/600AMeV_15dp.trifeature.h5 -> data/600AMeV_15dp.trifeature.pkl + data/600AMeV_15dp.trifeature.parquet\n",
      "data/600AMeV_30dp.trifeature.h5 -> data/600AMeV_30dp.trifeature.pkl + data/600AMeV_30dp.trifeature.parquet\n"
     ]
    }
   ],
   "source": [
    "beam_energy = 600\n",
    "for num_dp in [15, 30]:\n",
    "    h5file = f\"data/{beam_energy}AMeV_{num_dp}dp.trifeature.h5\"\n",
    "    pdfile = f\"data/{beam_energy}AMeV_{num_dp}dp.trifeature.pkl\"\n",
    "    pafile = f\"data/{beam_energy}AMeV_{num_dp}dp.trifeature.parquet\"\n",
    "    csfile = f\"data/{beam_energy}AMeV_{num_dp}dp.trifeature.csv\"\n",
    "    print(f\"{h5file} -> {pdfile} + {pafile}\")\n",
    "\n",
    "    with h5py.File(h5file, \"r\") as h5in:\n",
    "        df = create_pandas(h5in)\n",
    "        df.to_pickle(pdfile)\n",
    "        df.to_csv(csfile)\n",
    "        table = pa.Table.from_pandas(df)\n",
    "        pq.write_table(table, pafile, compression=\"gzip\")"
   ]
  },
  {
   "cell_type": "code",
   "execution_count": null,
   "metadata": {},
   "outputs": [],
   "source": []
  }
 ],
 "metadata": {
  "kernelspec": {
   "display_name": "Python 3",
   "language": "python",
   "name": "python3"
  },
  "language_info": {
   "codemirror_mode": {
    "name": "ipython",
    "version": 3
   },
   "file_extension": ".py",
   "mimetype": "text/x-python",
   "name": "python",
   "nbconvert_exporter": "python",
   "pygments_lexer": "ipython3",
   "version": "3.7.4"
  }
 },
 "nbformat": 4,
 "nbformat_minor": 4
}

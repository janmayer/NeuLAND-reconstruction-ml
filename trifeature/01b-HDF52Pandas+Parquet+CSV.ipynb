{
 "cells": [
  {
   "cell_type": "markdown",
   "metadata": {},
   "source": [
    "# Convert Trifeature HDF5 files to pickled Pandas Dataframes and Apache Parquets"
   ]
  },
  {
   "cell_type": "markdown",
   "metadata": {},
   "source": [
    "This conversion isn't strictly necessary, but comes in handy for quickly reading the data for scikit-learn, ploting, etc."
   ]
  },
  {
   "cell_type": "code",
   "execution_count": 1,
   "metadata": {},
   "outputs": [],
   "source": [
    "distances = [15]\n",
    "doubleplanes = [12, 30]\n",
    "energies = [600]\n",
    "erels = [500]\n",
    "neutrons = [1, 2, 3, 4, 5, 6]\n",
    "physicss = [\"inclxx\"]\n",
    "subruns = range(20)"
   ]
  },
  {
   "cell_type": "code",
   "execution_count": 2,
   "metadata": {},
   "outputs": [
    {
     "name": "stdout",
     "output_type": "stream",
     "text": [
      "Welcome to JupyROOT 6.16/00\n"
     ]
    }
   ],
   "source": [
    "import h5py\n",
    "import numpy as np\n",
    "import pandas as pd\n",
    "import pyarrow as pa\n",
    "import pyarrow.parquet as pq\n",
    "import os\n",
    "import sys\n",
    "import joblib\n",
    "\n",
    "sys.path.append(\"..\")\n",
    "from helpers import filename_for"
   ]
  },
  {
   "cell_type": "code",
   "execution_count": 3,
   "metadata": {},
   "outputs": [],
   "source": [
    "def hfd52others(distance, doubleplane, energy, erel, neutron, physics, subrun):\n",
    "    h5file = filename_for(distance, doubleplane, energy, erel, neutron, physics, subrun, \"trifeature.h5\")\n",
    "    pdfile = filename_for(distance, doubleplane, energy, erel, neutron, physics, subrun, \"trifeature.pkl\")\n",
    "    pafile = filename_for(distance, doubleplane, energy, erel, neutron, physics, subrun, \"trifeature.parquet\")\n",
    "    csfile = filename_for(distance, doubleplane, energy, erel, neutron, physics, subrun, \"trifeature.csv\")\n",
    "\n",
    "    with h5py.File(h5file, \"r\") as h5in:\n",
    "        # Note: Data in HDF5 file is not in the native Pandas Dataframe format\n",
    "        data = pd.DataFrame(np.array(h5in[\"data\"]))\n",
    "        data.columns = [\"nPN\", \"nPP\", \"nPH\", \"nHits\", \"nClus\", \"Edep\"]\n",
    "        data.to_pickle(pdfile)\n",
    "        data.to_csv(csfile)\n",
    "        table = pa.Table.from_pandas(data)\n",
    "        pq.write_table(table, pafile, compression=\"gzip\")"
   ]
  },
  {
   "cell_type": "code",
   "execution_count": 4,
   "metadata": {},
   "outputs": [],
   "source": [
    "joblib.Parallel(n_jobs=-1, backend=\"multiprocessing\")(\n",
    "    joblib.delayed(hfd52others)(\n",
    "        distance=distance,\n",
    "        doubleplane=doubleplane,\n",
    "        energy=energy,\n",
    "        erel=erel,\n",
    "        neutron=neutron,\n",
    "        physics=physics,\n",
    "        subrun=subrun,\n",
    "    )\n",
    "    for distance in distances\n",
    "    for energy in energies\n",
    "    for doubleplane in doubleplanes\n",
    "    for neutron in neutrons\n",
    "    for erel in erels\n",
    "    for physics in physicss\n",
    "    for subrun in subruns\n",
    ");"
   ]
  },
  {
   "cell_type": "code",
   "execution_count": null,
   "metadata": {},
   "outputs": [],
   "source": []
  }
 ],
 "metadata": {
  "kernelspec": {
   "display_name": "Python 3",
   "language": "python",
   "name": "python3"
  },
  "language_info": {
   "codemirror_mode": {
    "name": "ipython",
    "version": 3
   },
   "file_extension": ".py",
   "mimetype": "text/x-python",
   "name": "python",
   "nbconvert_exporter": "python",
   "pygments_lexer": "ipython3",
   "version": "3.7.6"
  }
 },
 "nbformat": 4,
 "nbformat_minor": 4
}

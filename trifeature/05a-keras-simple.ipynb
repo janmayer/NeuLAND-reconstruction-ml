{
 "cells": [
  {
   "cell_type": "markdown",
   "metadata": {},
   "source": [
    "# Super Simple Keras model on TriFeature for multiplicity determination"
   ]
  },
  {
   "cell_type": "code",
   "execution_count": 1,
   "metadata": {},
   "outputs": [],
   "source": [
    "# For this network, GPU is slower than CPU -> Disable CUDA\n",
    "import os\n",
    "\n",
    "os.environ[\"CUDA_DEVICE_ORDER\"] = \"PCI_BUS_ID\"\n",
    "os.environ[\"CUDA_VISIBLE_DEVICES\"] = \"-1\""
   ]
  },
  {
   "cell_type": "code",
   "execution_count": 2,
   "metadata": {},
   "outputs": [
    {
     "name": "stderr",
     "output_type": "stream",
     "text": [
      "Using TensorFlow backend.\n"
     ]
    },
    {
     "name": "stdout",
     "output_type": "stream",
     "text": [
      "Welcome to JupyROOT 6.16/00\n",
      "2.3.1\n"
     ]
    }
   ],
   "source": [
    "import numpy as np\n",
    "import pandas as pd\n",
    "import keras\n",
    "import sys\n",
    "\n",
    "sys.path.append(\"..\")\n",
    "from helpers import filename_for\n",
    "\n",
    "print(keras.__version__)"
   ]
  },
  {
   "cell_type": "code",
   "execution_count": 3,
   "metadata": {},
   "outputs": [],
   "source": [
    "num_dp = 30\n",
    "max_neutrons = 4\n",
    "label = \"nPH\""
   ]
  },
  {
   "cell_type": "code",
   "execution_count": 4,
   "metadata": {},
   "outputs": [
    {
     "name": "stdout",
     "output_type": "stream",
     "text": [
      "(800000, 6)\n"
     ]
    }
   ],
   "source": [
    "files = [\n",
    "    filename_for(15, 30, 600, 500, n, \"inclxx\", s, \"trifeature.pkl\")\n",
    "    for n in range(1, max_neutrons + 1)\n",
    "    for s in range(20)\n",
    "]\n",
    "dfs = [pd.read_pickle(file) for file in files]\n",
    "data = pd.concat(dfs, ignore_index=True).sample(frac=1)\n",
    "print(data.shape)"
   ]
  },
  {
   "cell_type": "code",
   "execution_count": 5,
   "metadata": {},
   "outputs": [
    {
     "name": "stdout",
     "output_type": "stream",
     "text": [
      "[[  45   11 1023]\n",
      " [  68   39 1080]\n",
      " [  49   18 1072]\n",
      " ...\n",
      " [  48    4  913]\n",
      " [  58   17  954]\n",
      " [  35   17  826]]\n",
      "[[0. 0. 0. 1. 0.]\n",
      " [0. 0. 0. 0. 1.]\n",
      " [0. 0. 0. 0. 1.]\n",
      " ...\n",
      " [0. 0. 1. 0. 0.]\n",
      " [0. 0. 0. 1. 0.]\n",
      " [0. 0. 0. 1. 0.]]\n"
     ]
    }
   ],
   "source": [
    "msk = np.random.rand(len(data)) < 0.8\n",
    "# Create one entry with zero everything to prevent NaN-PDF if no entry with LABEL=0 exists\n",
    "msk[0] = True\n",
    "data.loc[0] = [0, 0, 0, 0, 0, 0]\n",
    "traindata = data[msk]\n",
    "testdata = data[~msk]\n",
    "\n",
    "x_train = traindata[[\"nHits\", \"nClus\", \"Edep\"]].values\n",
    "y_train = keras.utils.to_categorical(traindata[[label]].values.ravel())\n",
    "\n",
    "print(x_train)\n",
    "print(y_train)"
   ]
  },
  {
   "cell_type": "code",
   "execution_count": 6,
   "metadata": {},
   "outputs": [
    {
     "name": "stdout",
     "output_type": "stream",
     "text": [
      "Epoch 1/100\n",
      "640340/640340 [==============================] - 18s 28us/step - loss: 3.1579 - acc: 0.3199\n",
      "Epoch 2/100\n",
      "640340/640340 [==============================] - 16s 24us/step - loss: 1.1527 - acc: 0.4181\n",
      "Epoch 3/100\n",
      "640340/640340 [==============================] - 15s 24us/step - loss: 1.0320 - acc: 0.5287\n",
      "Epoch 4/100\n",
      "640340/640340 [==============================] - 12s 19us/step - loss: 0.8853 - acc: 0.6316\n",
      "Epoch 5/100\n",
      "640340/640340 [==============================] - 14s 22us/step - loss: 0.7886 - acc: 0.7020\n",
      "Epoch 6/100\n",
      "640340/640340 [==============================] - 16s 25us/step - loss: 0.7396 - acc: 0.7223\n",
      "Epoch 7/100\n",
      "640340/640340 [==============================] - 15s 24us/step - loss: 0.6962 - acc: 0.7450\n",
      "Epoch 8/100\n",
      "640340/640340 [==============================] - 16s 25us/step - loss: 0.6742 - acc: 0.7426\n",
      "Epoch 9/100\n",
      "640340/640340 [==============================] - 16s 25us/step - loss: 0.6440 - acc: 0.7627\n",
      "Epoch 10/100\n",
      "640340/640340 [==============================] - 15s 24us/step - loss: 0.6285 - acc: 0.7633\n",
      "Epoch 11/100\n",
      "640340/640340 [==============================] - 14s 22us/step - loss: 0.6143 - acc: 0.7671\n",
      "Epoch 12/100\n",
      "640340/640340 [==============================] - 12s 19us/step - loss: 0.6007 - acc: 0.7718\n",
      "Epoch 13/100\n",
      "640340/640340 [==============================] - 16s 25us/step - loss: 0.5904 - acc: 0.7747\n",
      "Epoch 14/100\n",
      "640340/640340 [==============================] - 15s 23us/step - loss: 0.5811 - acc: 0.7773\n",
      "Epoch 15/100\n",
      "640340/640340 [==============================] - 14s 22us/step - loss: 0.5754 - acc: 0.7767\n",
      "Epoch 16/100\n",
      "640340/640340 [==============================] - 17s 26us/step - loss: 0.5678 - acc: 0.7801\n",
      "Epoch 17/100\n",
      "640340/640340 [==============================] - 10s 15us/step - loss: 0.5639 - acc: 0.7795\n",
      "Epoch 18/100\n",
      "640340/640340 [==============================] - 9s 15us/step - loss: 0.5581 - acc: 0.7819\n",
      "Epoch 19/100\n",
      "640340/640340 [==============================] - 13s 20us/step - loss: 0.5535 - acc: 0.7830\n",
      "Epoch 20/100\n",
      "640340/640340 [==============================] - 7s 11us/step - loss: 0.5512 - acc: 0.7832\n",
      "Epoch 21/100\n",
      "640340/640340 [==============================] - 7s 11us/step - loss: 0.5470 - acc: 0.7848\n",
      "Epoch 22/100\n",
      "640340/640340 [==============================] - 8s 13us/step - loss: 0.5442 - acc: 0.7853\n",
      "Epoch 23/100\n",
      "640340/640340 [==============================] - 13s 20us/step - loss: 0.5433 - acc: 0.7843\n",
      "Epoch 24/100\n",
      "640340/640340 [==============================] - 14s 22us/step - loss: 0.5396 - acc: 0.7859\n",
      "Epoch 25/100\n",
      "640340/640340 [==============================] - 17s 26us/step - loss: 0.5372 - acc: 0.7871\n",
      "Epoch 26/100\n",
      "640340/640340 [==============================] - 15s 24us/step - loss: 0.5358 - acc: 0.7870\n",
      "Epoch 27/100\n",
      "640340/640340 [==============================] - 16s 25us/step - loss: 0.5343 - acc: 0.7874\n",
      "Epoch 28/100\n",
      "640340/640340 [==============================] - 17s 26us/step - loss: 0.5333 - acc: 0.7872\n",
      "Epoch 29/100\n",
      "640340/640340 [==============================] - 15s 24us/step - loss: 0.5320 - acc: 0.7878\n",
      "Epoch 30/100\n",
      "640340/640340 [==============================] - 15s 23us/step - loss: 0.5308 - acc: 0.7878\n",
      "Epoch 31/100\n",
      "640340/640340 [==============================] - 15s 24us/step - loss: 0.5301 - acc: 0.7880\n",
      "Epoch 32/100\n",
      "640340/640340 [==============================] - 14s 22us/step - loss: 0.5293 - acc: 0.7882\n",
      "Epoch 33/100\n",
      "640340/640340 [==============================] - 15s 24us/step - loss: 0.5281 - acc: 0.7884\n",
      "Epoch 34/100\n",
      "640340/640340 [==============================] - 12s 18us/step - loss: 0.5275 - acc: 0.7886\n",
      "Epoch 35/100\n",
      "640340/640340 [==============================] - 16s 24us/step - loss: 0.5266 - acc: 0.7886\n",
      "Epoch 36/100\n",
      "640340/640340 [==============================] - 16s 25us/step - loss: 0.5264 - acc: 0.7887\n",
      "Epoch 37/100\n",
      "640340/640340 [==============================] - 12s 18us/step - loss: 0.5256 - acc: 0.7891\n",
      "Epoch 38/100\n",
      "640340/640340 [==============================] - 13s 20us/step - loss: 0.5251 - acc: 0.7889\n",
      "Epoch 39/100\n",
      "640340/640340 [==============================] - 15s 24us/step - loss: 0.5245 - acc: 0.7894\n",
      "Epoch 40/100\n",
      "640340/640340 [==============================] - 11s 17us/step - loss: 0.5246 - acc: 0.7892\n",
      "Epoch 41/100\n",
      "640340/640340 [==============================] - 14s 22us/step - loss: 0.5237 - acc: 0.7894\n",
      "Epoch 42/100\n",
      "640340/640340 [==============================] - 16s 26us/step - loss: 0.5230 - acc: 0.7899\n",
      "Epoch 43/100\n",
      "640340/640340 [==============================] - 15s 23us/step - loss: 0.5233 - acc: 0.7894\n",
      "Epoch 44/100\n",
      "640340/640340 [==============================] - 13s 20us/step - loss: 0.5227 - acc: 0.7897\n",
      "Epoch 45/100\n",
      "640340/640340 [==============================] - 9s 14us/step - loss: 0.5224 - acc: 0.7899\n",
      "Epoch 46/100\n",
      "640340/640340 [==============================] - 10s 16us/step - loss: 0.5218 - acc: 0.7901\n",
      "Epoch 47/100\n",
      "640340/640340 [==============================] - 16s 26us/step - loss: 0.5218 - acc: 0.7899\n",
      "Epoch 48/100\n",
      "640340/640340 [==============================] - 17s 26us/step - loss: 0.5211 - acc: 0.7902\n",
      "Epoch 49/100\n",
      "640340/640340 [==============================] - 16s 25us/step - loss: 0.5215 - acc: 0.7899\n",
      "Epoch 50/100\n",
      "640340/640340 [==============================] - 16s 24us/step - loss: 0.5211 - acc: 0.7902\n",
      "Epoch 51/100\n",
      "640340/640340 [==============================] - 11s 17us/step - loss: 0.5205 - acc: 0.7905\n",
      "Epoch 52/100\n",
      "640340/640340 [==============================] - 7s 11us/step - loss: 0.5205 - acc: 0.7905\n",
      "Epoch 53/100\n",
      "640340/640340 [==============================] - 15s 23us/step - loss: 0.5207 - acc: 0.7901\n",
      "Epoch 54/100\n",
      "640340/640340 [==============================] - 9s 14us/step - loss: 0.5204 - acc: 0.7903\n",
      "Epoch 55/100\n",
      "640340/640340 [==============================] - 10s 16us/step - loss: 0.5203 - acc: 0.7902\n",
      "Epoch 56/100\n",
      "640340/640340 [==============================] - 10s 15us/step - loss: 0.5199 - acc: 0.7905\n",
      "Epoch 57/100\n",
      "640340/640340 [==============================] - 12s 19us/step - loss: 0.5197 - acc: 0.7905\n",
      "Epoch 58/100\n",
      "640340/640340 [==============================] - 10s 16us/step - loss: 0.5197 - acc: 0.7904\n",
      "Epoch 59/100\n",
      "640340/640340 [==============================] - 12s 19us/step - loss: 0.5194 - acc: 0.7907\n",
      "Epoch 60/100\n",
      "640340/640340 [==============================] - 14s 22us/step - loss: 0.5195 - acc: 0.7905\n",
      "Epoch 61/100\n",
      "640340/640340 [==============================] - 16s 25us/step - loss: 0.5192 - acc: 0.7907\n",
      "Epoch 62/100\n",
      "640340/640340 [==============================] - 13s 20us/step - loss: 0.5196 - acc: 0.7903\n",
      "Epoch 63/100\n",
      "640340/640340 [==============================] - 7s 11us/step - loss: 0.5190 - acc: 0.7908\n",
      "Epoch 64/100\n",
      "640340/640340 [==============================] - 14s 22us/step - loss: 0.5190 - acc: 0.7906\n",
      "Epoch 65/100\n",
      "640340/640340 [==============================] - 15s 23us/step - loss: 0.5189 - acc: 0.7907\n",
      "Epoch 66/100\n",
      "640340/640340 [==============================] - 15s 23us/step - loss: 0.5190 - acc: 0.7906\n",
      "Epoch 67/100\n",
      "640340/640340 [==============================] - 15s 23us/step - loss: 0.5186 - acc: 0.7905\n",
      "Epoch 68/100\n",
      "640340/640340 [==============================] - 15s 23us/step - loss: 0.5186 - acc: 0.7907\n",
      "Epoch 69/100\n",
      "640340/640340 [==============================] - 11s 18us/step - loss: 0.5186 - acc: 0.7907\n",
      "Epoch 70/100\n",
      "640340/640340 [==============================] - 7s 11us/step - loss: 0.5186 - acc: 0.7908\n",
      "Epoch 71/100\n",
      "640340/640340 [==============================] - 10s 16us/step - loss: 0.5184 - acc: 0.7908\n",
      "Epoch 72/100\n",
      "640340/640340 [==============================] - 11s 18us/step - loss: 0.5184 - acc: 0.7909\n",
      "Epoch 73/100\n",
      "640340/640340 [==============================] - 14s 22us/step - loss: 0.5183 - acc: 0.7908\n",
      "Epoch 74/100\n",
      "640340/640340 [==============================] - 12s 18us/step - loss: 0.5184 - acc: 0.7906\n",
      "Epoch 75/100\n",
      "640340/640340 [==============================] - 12s 19us/step - loss: 0.5181 - acc: 0.7908\n",
      "Epoch 76/100\n",
      "640340/640340 [==============================] - 15s 24us/step - loss: 0.5182 - acc: 0.7911\n",
      "Epoch 77/100\n",
      "640340/640340 [==============================] - 8s 13us/step - loss: 0.5181 - acc: 0.7909\n",
      "Epoch 78/100\n",
      "640340/640340 [==============================] - 12s 18us/step - loss: 0.5182 - acc: 0.7910\n",
      "Epoch 79/100\n",
      "640340/640340 [==============================] - 13s 20us/step - loss: 0.5180 - acc: 0.7909\n",
      "Epoch 80/100\n",
      "640340/640340 [==============================] - 12s 18us/step - loss: 0.5180 - acc: 0.7911\n",
      "Epoch 81/100\n",
      "640340/640340 [==============================] - 10s 16us/step - loss: 0.5179 - acc: 0.7908\n",
      "Epoch 82/100\n",
      "640340/640340 [==============================] - 14s 22us/step - loss: 0.5178 - acc: 0.7911\n",
      "Epoch 83/100\n",
      "640340/640340 [==============================] - 11s 17us/step - loss: 0.5180 - acc: 0.7907\n",
      "Epoch 84/100\n",
      "640340/640340 [==============================] - 12s 18us/step - loss: 0.5178 - acc: 0.7909\n",
      "Epoch 85/100\n",
      "640340/640340 [==============================] - 12s 19us/step - loss: 0.5179 - acc: 0.7910\n",
      "Epoch 86/100\n",
      "640340/640340 [==============================] - 14s 21us/step - loss: 0.5177 - acc: 0.7911\n",
      "Epoch 87/100\n",
      "640340/640340 [==============================] - 10s 15us/step - loss: 0.5176 - acc: 0.7909\n",
      "Epoch 88/100\n",
      "640340/640340 [==============================] - 15s 23us/step - loss: 0.5176 - acc: 0.7909\n",
      "Epoch 89/100\n",
      "640340/640340 [==============================] - 14s 21us/step - loss: 0.5176 - acc: 0.7912\n",
      "Epoch 90/100\n",
      "640340/640340 [==============================] - 14s 22us/step - loss: 0.5174 - acc: 0.7909\n",
      "Epoch 91/100\n",
      "640340/640340 [==============================] - 14s 22us/step - loss: 0.5176 - acc: 0.7911\n",
      "Epoch 92/100\n",
      "640340/640340 [==============================] - 10s 16us/step - loss: 0.5175 - acc: 0.7909\n",
      "Epoch 93/100\n",
      "640340/640340 [==============================] - 13s 20us/step - loss: 0.5174 - acc: 0.7913\n",
      "Epoch 94/100\n",
      "640340/640340 [==============================] - 12s 19us/step - loss: 0.5175 - acc: 0.7911\n",
      "Epoch 95/100\n",
      "640340/640340 [==============================] - 13s 21us/step - loss: 0.5174 - acc: 0.7912\n",
      "Epoch 96/100\n",
      "640340/640340 [==============================] - 12s 18us/step - loss: 0.5175 - acc: 0.7909\n",
      "Epoch 97/100\n",
      "640340/640340 [==============================] - 12s 18us/step - loss: 0.5175 - acc: 0.7912\n",
      "Epoch 98/100\n",
      "640340/640340 [==============================] - 13s 20us/step - loss: 0.5174 - acc: 0.7911\n",
      "Epoch 99/100\n",
      "640340/640340 [==============================] - 1s 2us/step - loss: 0.5175 - acc: 0.7911\n",
      "Epoch 100/100\n",
      "640340/640340 [==============================] - 1s 2us/step - loss: 0.5174 - acc: 0.7913\n"
     ]
    },
    {
     "name": "stderr",
     "output_type": "stream",
     "text": [
      "2020-05-14 14:52:52.261037: W tensorflow/stream_executor/platform/default/dso_loader.cc:55] Could not load dynamic library 'libcuda.so.1'; dlerror: libcuda.so.1: cannot open shared object file: No such file or directory; LD_LIBRARY_PATH: /data/jmayer/Simulations/R3BRoot/build/lib:/data/jmayer/Simulations/2019-09-04/ucesb/hbook:/data/jmayer/Simulations/2019-09-04/FairRoot/lib:/data/jmayer/Simulations/2019-09-04/FairSoft/lib/root:/data/jmayer/Simulations/2019-09-04/FairSoft/lib\n",
      "2020-05-14 14:52:52.261210: E tensorflow/stream_executor/cuda/cuda_driver.cc:351] failed call to cuInit: UNKNOWN ERROR (303)\n",
      "2020-05-14 14:52:52.261281: I tensorflow/stream_executor/cuda/cuda_diagnostics.cc:156] kernel driver does not appear to be running on this host (thanatos.ikp.uni-koeln.de): /proc/driver/nvidia/version does not exist\n",
      "2020-05-14 14:52:52.262112: I tensorflow/core/platform/cpu_feature_guard.cc:142] Your CPU supports instructions that this TensorFlow binary was not compiled to use: AVX2 FMA\n",
      "2020-05-14 14:52:52.499351: I tensorflow/core/platform/profile_utils/cpu_utils.cc:94] CPU Frequency: 1997615000 Hz\n",
      "2020-05-14 14:52:52.511376: I tensorflow/compiler/xla/service/service.cc:168] XLA service 0xf2fdb90 initialized for platform Host (this does not guarantee that XLA will be used). Devices:\n",
      "2020-05-14 14:52:52.511413: I tensorflow/compiler/xla/service/service.cc:176]   StreamExecutor device (0): Host, Default Version\n"
     ]
    }
   ],
   "source": [
    "model = keras.models.Sequential()\n",
    "model.add(keras.layers.Dense(units=24, activation=\"relu\", input_shape=(3,)))\n",
    "model.add(keras.layers.Dense(units=9, activation=\"relu\"))\n",
    "model.add(keras.layers.Dense(units=max_neutrons + 1, activation=\"softmax\"))\n",
    "\n",
    "optimizer = keras.optimizers.Adagrad()\n",
    "loss = keras.losses.categorical_crossentropy\n",
    "model.compile(loss=loss, optimizer=optimizer, metrics=[\"acc\"])\n",
    "\n",
    "history = model.fit(x=x_train, y=y_train, batch_size=1000, epochs=100)"
   ]
  },
  {
   "cell_type": "code",
   "execution_count": 7,
   "metadata": {},
   "outputs": [
    {
     "data": {
      "image/png": "[encoded data removed]",
      "text/plain": [
       "<Figure size 432x288 with 1 Axes>"
      ]
     },
     "metadata": {
      "needs_background": "light"
     },
     "output_type": "display_data"
    },
    {
     "data": {
      "image/png": "[encoded data removed]",
      "text/plain": [
       "<Figure size 432x288 with 1 Axes>"
      ]
     },
     "metadata": {
      "needs_background": "light"
     },
     "output_type": "display_data"
    }
   ],
   "source": [
    "import matplotlib.pyplot as plt\n",
    "\n",
    "# Plot training & validation accuracy values\n",
    "plt.plot(history.history[\"acc\"])\n",
    "# plt.plot(history.history[\"val_acc\"])\n",
    "plt.title(\"Model accuracy\")\n",
    "plt.ylabel(\"Accuracy\")\n",
    "plt.xlabel(\"Epoch\")\n",
    "plt.legend([\"Train\", \"Test\"], loc=\"upper left\")\n",
    "plt.show()\n",
    "\n",
    "# Plot training & validation loss values\n",
    "plt.plot(history.history[\"loss\"])\n",
    "# plt.plot(history.history[\"val_loss\"])\n",
    "plt.title(\"Model loss\")\n",
    "plt.ylabel(\"Loss\")\n",
    "plt.xlabel(\"Epoch\")\n",
    "plt.legend([\"Train\", \"Test\"], loc=\"upper left\")\n",
    "plt.show()"
   ]
  },
  {
   "cell_type": "code",
   "execution_count": 11,
   "metadata": {},
   "outputs": [
    {
     "name": "stdout",
     "output_type": "stream",
     "text": [
      "0.8263725540902394\n",
      "[[ 2044     0     0     0     1]\n",
      " [    0 39999  2009    12     2]\n",
      " [    0  4996 33292  3480    12]\n",
      " [    0   221  8221 29705  2907]\n",
      " [    0     6   636 10493 21624]]\n",
      "[[1.    0.    0.    0.    0.   ]\n",
      " [0.    0.952 0.048 0.    0.   ]\n",
      " [0.    0.12  0.797 0.083 0.   ]\n",
      " [0.    0.005 0.2   0.724 0.071]\n",
      " [0.    0.    0.019 0.32  0.66 ]]\n"
     ]
    }
   ],
   "source": [
    "from sklearn.metrics import (\n",
    "    balanced_accuracy_score,\n",
    "    confusion_matrix,\n",
    "    plot_confusion_matrix,\n",
    ")\n",
    "\n",
    "np.set_printoptions(precision=3)\n",
    "np.set_printoptions(suppress=True)\n",
    "\n",
    "x_test = testdata[[\"nHits\", \"nClus\", \"Edep\"]].values\n",
    "y_true = testdata[[label]].values.ravel()\n",
    "\n",
    "y_pred = model.predict(x_test)\n",
    "y_pred = np.argmax(y_pred, axis=1)\n",
    "\n",
    "bac = balanced_accuracy_score(y_true, y_pred)\n",
    "print(bac)\n",
    "cm = confusion_matrix(y_true, y_pred, labels=range(0, max_neutrons + 1))\n",
    "print(cm)\n",
    "cmrel = confusion_matrix(y_true, y_pred, labels=range(0, max_neutrons + 1), normalize=\"true\")\n",
    "print(cmrel)"
   ]
  },
  {
   "cell_type": "code",
   "execution_count": 12,
   "metadata": {},
   "outputs": [
    {
     "data": {
      "text/plain": [
       "Text(69.0, 0.5, 'True')"
      ]
     },
     "execution_count": 12,
     "metadata": {},
     "output_type": "execute_result"
    },
    {
     "data": {
      "image/png": "[encoded data removed]",
      "text/plain": [
       "<Figure size 720x504 with 2 Axes>"
      ]
     },
     "metadata": {
      "needs_background": "light"
     },
     "output_type": "display_data"
    }
   ],
   "source": [
    "import matplotlib.pyplot as plt\n",
    "import seaborn as sns\n",
    "\n",
    "plt.figure(figsize=(10, 7))\n",
    "ax = sns.heatmap(cmrel, cmap=\"viridis\", annot=True)\n",
    "ax.set_xlabel(\"Predicted\")\n",
    "ax.set_ylabel(\"True\")"
   ]
  },
  {
   "cell_type": "code",
   "execution_count": null,
   "metadata": {},
   "outputs": [],
   "source": []
  }
 ],
 "metadata": {
  "kernelspec": {
   "display_name": "Python 3",
   "language": "python",
   "name": "python3"
  },
  "language_info": {
   "codemirror_mode": {
    "name": "ipython",
    "version": 3
   },
   "file_extension": ".py",
   "mimetype": "text/x-python",
   "name": "python",
   "nbconvert_exporter": "python",
   "pygments_lexer": "ipython3",
   "version": "3.7.7"
  }
 },
 "nbformat": 4,
 "nbformat_minor": 4
}

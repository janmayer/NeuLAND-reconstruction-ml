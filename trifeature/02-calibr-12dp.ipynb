{
 "cells": [
  {
   "cell_type": "markdown",
   "metadata": {},
   "source": [
    "# Multiplicity determination with Calibr"
   ]
  },
  {
   "cell_type": "markdown",
   "metadata": {},
   "source": [
    "Note: Uses the R3BRoot NeuLAND module. As this module is compiled with ROOT, it is available in Python by `import ROOT` if the environment variables are set."
   ]
  },
  {
   "cell_type": "code",
   "execution_count": 1,
   "metadata": {},
   "outputs": [
    {
     "name": "stdout",
     "output_type": "stream",
     "text": [
      "Welcome to JupyROOT 6.16/00\n"
     ]
    }
   ],
   "source": [
    "import numpy as np\n",
    "import pandas as pd\n",
    "import os\n",
    "import sys\n",
    "import ROOT\n",
    "\n",
    "sys.path.append(\"..\")\n",
    "from helpers import filename_for"
   ]
  },
  {
   "cell_type": "markdown",
   "metadata": {},
   "source": [
    "## Example Fit / Calibration\n",
    "We can run the full calibration from python, with some amount of yucky syntax"
   ]
  },
  {
   "cell_type": "code",
   "execution_count": 2,
   "metadata": {},
   "outputs": [],
   "source": [
    "label = \"nPN\"\n",
    "max_neutrons = 4\n",
    "num_dp = 12"
   ]
  },
  {
   "cell_type": "code",
   "execution_count": 3,
   "metadata": {},
   "outputs": [],
   "source": [
    "def calibrate_calibr(infiles, outfile, max_neutrons, image):\n",
    "    cal = ROOT.Neuland.Neutron2DCalibr(max_neutrons)\n",
    "    for file in infiles:\n",
    "        print(f\"Processing {file} ...\", flush=True)\n",
    "        cal.AddClusterFile(os.fspath(file))\n",
    "    vslope = ROOT.std.vector(\"double\")()\n",
    "    vslope += [0.04, 0.001, 0.001, 10]\n",
    "    vdistance = ROOT.std.vector(\"double\")()\n",
    "    vdistance += [10, 0.5, 6, 60]\n",
    "    vdist_off = ROOT.std.vector(\"double\")()\n",
    "    vdist_off += [3, 0.5, 3, 6]\n",
    "    cal.Optimize(vslope, vdistance, vdist_off)\n",
    "    cal.WriteParameterFile(outfile)\n",
    "    cal.Draw(image)\n",
    "    # del cal"
   ]
  },
  {
   "cell_type": "code",
   "execution_count": 4,
   "metadata": {},
   "outputs": [
    {
     "ename": "AttributeError",
     "evalue": "type object 'Neuland' has no attribute 'Neutron2DCalibr'",
     "output_type": "error",
     "traceback": [
      "\u001b[0;31m---------------------------------------------------------------------------\u001b[0m",
      "\u001b[0;31mAttributeError\u001b[0m                            Traceback (most recent call last)",
      "\u001b[0;32m<ipython-input-4-f6766c4e9042>\u001b[0m in \u001b[0;36m<module>\u001b[0;34m\u001b[0m\n\u001b[1;32m     11\u001b[0m     \u001b[0mos\u001b[0m\u001b[0;34m.\u001b[0m\u001b[0mremove\u001b[0m\u001b[0;34m(\u001b[0m\u001b[0moutfile\u001b[0m\u001b[0;34m)\u001b[0m\u001b[0;34m\u001b[0m\u001b[0;34m\u001b[0m\u001b[0m\n\u001b[1;32m     12\u001b[0m \u001b[0;34m\u001b[0m\u001b[0m\n\u001b[0;32m---> 13\u001b[0;31m \u001b[0mcalibrate_calibr\u001b[0m\u001b[0;34m(\u001b[0m\u001b[0minfiles\u001b[0m\u001b[0;34m,\u001b[0m \u001b[0moutfile\u001b[0m\u001b[0;34m,\u001b[0m \u001b[0mmax_neutrons\u001b[0m\u001b[0;34m,\u001b[0m \u001b[0mimage\u001b[0m\u001b[0;34m)\u001b[0m\u001b[0;34m\u001b[0m\u001b[0;34m\u001b[0m\u001b[0m\n\u001b[0m",
      "\u001b[0;32m<ipython-input-3-febbafd3f4ad>\u001b[0m in \u001b[0;36mcalibrate_calibr\u001b[0;34m(infiles, outfile, max_neutrons, image)\u001b[0m\n\u001b[1;32m      1\u001b[0m \u001b[0;32mdef\u001b[0m \u001b[0mcalibrate_calibr\u001b[0m\u001b[0;34m(\u001b[0m\u001b[0minfiles\u001b[0m\u001b[0;34m,\u001b[0m \u001b[0moutfile\u001b[0m\u001b[0;34m,\u001b[0m \u001b[0mmax_neutrons\u001b[0m\u001b[0;34m,\u001b[0m \u001b[0mimage\u001b[0m\u001b[0;34m)\u001b[0m\u001b[0;34m:\u001b[0m\u001b[0;34m\u001b[0m\u001b[0;34m\u001b[0m\u001b[0m\n\u001b[0;32m----> 2\u001b[0;31m     \u001b[0mcal\u001b[0m \u001b[0;34m=\u001b[0m \u001b[0mROOT\u001b[0m\u001b[0;34m.\u001b[0m\u001b[0mNeuland\u001b[0m\u001b[0;34m.\u001b[0m\u001b[0mNeutron2DCalibr\u001b[0m\u001b[0;34m(\u001b[0m\u001b[0mmax_neutrons\u001b[0m\u001b[0;34m)\u001b[0m\u001b[0;34m\u001b[0m\u001b[0;34m\u001b[0m\u001b[0m\n\u001b[0m\u001b[1;32m      3\u001b[0m     \u001b[0;32mfor\u001b[0m \u001b[0mfile\u001b[0m \u001b[0;32min\u001b[0m \u001b[0minfiles\u001b[0m\u001b[0;34m:\u001b[0m\u001b[0;34m\u001b[0m\u001b[0;34m\u001b[0m\u001b[0m\n\u001b[1;32m      4\u001b[0m         \u001b[0mprint\u001b[0m\u001b[0;34m(\u001b[0m\u001b[0;34mf\"Processing {file} ...\"\u001b[0m\u001b[0;34m,\u001b[0m \u001b[0mflush\u001b[0m\u001b[0;34m=\u001b[0m\u001b[0;32mTrue\u001b[0m\u001b[0;34m)\u001b[0m\u001b[0;34m\u001b[0m\u001b[0;34m\u001b[0m\u001b[0m\n\u001b[1;32m      5\u001b[0m         \u001b[0mcal\u001b[0m\u001b[0;34m.\u001b[0m\u001b[0mAddClusterFile\u001b[0m\u001b[0;34m(\u001b[0m\u001b[0mos\u001b[0m\u001b[0;34m.\u001b[0m\u001b[0mfspath\u001b[0m\u001b[0;34m(\u001b[0m\u001b[0mfile\u001b[0m\u001b[0;34m)\u001b[0m\u001b[0;34m)\u001b[0m\u001b[0;34m\u001b[0m\u001b[0;34m\u001b[0m\u001b[0m\n",
      "\u001b[0;31mAttributeError\u001b[0m: type object 'Neuland' has no attribute 'Neutron2DCalibr'"
     ]
    }
   ],
   "source": [
    "infiles = [\n",
    "    filename_for(15, num_dp, 600, 500, neutrons, \"inclxx\", subrun, \"digi.root\")\n",
    "    for subrun in range(20)\n",
    "    for neutrons in range(1, max_neutrons + 1)\n",
    "]                    \n",
    "    \n",
    "outfile = f\"out/600AMeV_30dp_{max_neutrons}n.ncut.root\"\n",
    "image = f\"out/600AMeV_30dp_{max_neutrons}n.png\"\n",
    "\n",
    "if os.path.exists(outfile):\n",
    "    os.remove(outfile)\n",
    "\n",
    "calibrate_calibr(infiles, outfile, max_neutrons, image)"
   ]
  },
  {
   "cell_type": "markdown",
   "metadata": {},
   "source": [
    "## Example Prediction"
   ]
  },
  {
   "cell_type": "code",
   "execution_count": null,
   "metadata": {},
   "outputs": [],
   "source": [
    "cutf = ROOT.TFile.Open(f\"out/600AMeV_{num_dp}dp_{max_neutrons}n.ncut.root\")\n",
    "para = cutf.Get(\"R3BNeulandNeutron2DPar\")\n",
    "\n",
    "dfs = [\n",
    "    pd.read_pickle(filename_for(15, num_dp, 600, 500, neutrons, \"inclxx\", subrun, \"trifeature.pkl\"))\n",
    "    for subrun in range(20)\n",
    "    for neutrons in range(1, max_neutrons + 1)\n",
    "]\n",
    "testdata = pd.concat(dfs, ignore_index=True)\n",
    "\n",
    "y_true = testdata[[label]].values.ravel()\n",
    "y_pred = np.array([para.GetNeutronMultiplicity(row[\"Edep\"], row[\"nClus\"]) for _, row in testdata.iterrows()])\n",
    "\n",
    "print(list(zip(y_true, y_pred))[0:50])"
   ]
  },
  {
   "cell_type": "code",
   "execution_count": null,
   "metadata": {},
   "outputs": [],
   "source": [
    "from sklearn.metrics import (\n",
    "    balanced_accuracy_score,\n",
    "    confusion_matrix,\n",
    "    plot_confusion_matrix,\n",
    ")\n",
    "\n",
    "np.set_printoptions(precision=3)\n",
    "np.set_printoptions(suppress=True)\n",
    "\n",
    "bac = balanced_accuracy_score(y_true, y_pred)\n",
    "print(bac)\n",
    "cm = confusion_matrix(y_true, y_pred, labels=range(0, max_neutrons + 1))\n",
    "print(cm)\n",
    "cmrel = confusion_matrix(y_true, y_pred, labels=range(0, max_neutrons + 1), normalize=\"true\")\n",
    "print(cmrel)"
   ]
  },
  {
   "cell_type": "code",
   "execution_count": null,
   "metadata": {},
   "outputs": [],
   "source": [
    "import matplotlib.pyplot as plt\n",
    "import seaborn as sns\n",
    "\n",
    "plt.figure(figsize=(10, 7))\n",
    "ax = sns.heatmap(cmrel, cmap=\"viridis\", annot=True)\n",
    "ax.set_xlabel(\"Predicted\")\n",
    "ax.set_ylabel(\"True\")"
   ]
  }
 ],
 "metadata": {
  "kernelspec": {
   "display_name": "Python 3",
   "language": "python",
   "name": "python3"
  },
  "language_info": {
   "codemirror_mode": {
    "name": "ipython",
    "version": 3
   },
   "file_extension": ".py",
   "mimetype": "text/x-python",
   "name": "python",
   "nbconvert_exporter": "python",
   "pygments_lexer": "ipython3",
   "version": "3.7.6"
  }
 },
 "nbformat": 4,
 "nbformat_minor": 4
}

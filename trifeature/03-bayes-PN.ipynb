{
 "cells": [
  {
   "cell_type": "markdown",
   "metadata": {},
   "source": [
    "# Multiplicity determination with super-basic Bayesian Statistics"
   ]
  },
  {
   "cell_type": "code",
   "execution_count": 1,
   "metadata": {},
   "outputs": [],
   "source": [
    "label = \"nPN\"\n",
    "nmax = 4"
   ]
  },
  {
   "cell_type": "code",
   "execution_count": 2,
   "metadata": {},
   "outputs": [],
   "source": [
    "import sys\n",
    "\n",
    "import matplotlib.pyplot as plt\n",
    "import numpy as np\n",
    "import pandas as pd\n",
    "import seaborn as sns\n",
    "from sklearn.metrics import (\n",
    "    balanced_accuracy_score,\n",
    "    confusion_matrix,\n",
    "    plot_confusion_matrix,\n",
    ")\n",
    "\n",
    "sys.path.append(\"..\")\n",
    "from helpers import tridata"
   ]
  },
  {
   "cell_type": "code",
   "execution_count": 3,
   "metadata": {},
   "outputs": [],
   "source": [
    "class Bayes:\n",
    "    def __init__(self, train, max_neutrons, label):\n",
    "        # Hypotheses: Zero to max neutrons\n",
    "        self._hypos = range(0, max_neutrons + 1)\n",
    "\n",
    "        # 'Fit' -> Create PDF for all numbers of neutrons\n",
    "        # TODO: Should they be normalized?\n",
    "        self._hits = {\n",
    "            h: np.histogram(train[train[label] == h][\"nHits\"], range=(0, 500), bins=500, density=True,)[0]\n",
    "            for h in self._hypos\n",
    "        }\n",
    "        self._clus = {\n",
    "            h: np.histogram(train[train[label] == h][\"nClus\"], range=(0, 500), bins=500, density=True,)[0]\n",
    "            for h in self._hypos\n",
    "        }\n",
    "        self._edep = {\n",
    "            h: np.histogram(train[train[label] == h][\"Edep\"], range=(0, 5000), bins=500, density=True,)[0]\n",
    "            for h in self._hypos\n",
    "        }\n",
    "\n",
    "    def predict(self, x):\n",
    "        # 'Predict' -> Use PDFs to get probabilities and take the highest\n",
    "        probs = [\n",
    "            self._hits[h][x[\"nHits\"]] * self._clus[h][x[\"nClus\"]] * self._edep[h][x[\"Edep\"].floordiv(10).astype(int)]\n",
    "            for h in self._hypos\n",
    "        ]\n",
    "        y_pred = np.argmax(probs, axis=0)\n",
    "        return y_pred"
   ]
  },
  {
   "cell_type": "code",
   "execution_count": 4,
   "metadata": {},
   "outputs": [],
   "source": [
    "traindata, testdata = tridata(distance=15, doubleplane=30, energy=600, erel=500, nmax=nmax, physics=\"inclxx\")"
   ]
  },
  {
   "cell_type": "markdown",
   "metadata": {},
   "source": [
    "## Example Fit / Calibration & Prediction"
   ]
  },
  {
   "cell_type": "code",
   "execution_count": 5,
   "metadata": {},
   "outputs": [
    {
     "name": "stdout",
     "output_type": "stream",
     "text": [
      "[(2, 2), (4, 4), (3, 3), (2, 2), (1, 1), (3, 3), (1, 1), (1, 1), (2, 3), (4, 4), (2, 3), (3, 2), (1, 1), (4, 3), (3, 2), (3, 3), (4, 4), (1, 1), (1, 1), (4, 3), (3, 3), (3, 3), (4, 1), (3, 3), (4, 3), (3, 3), (4, 4), (1, 1), (3, 4), (3, 2), (2, 2), (1, 1), (3, 3), (4, 4), (4, 4), (3, 3), (2, 2), (4, 3), (1, 1), (2, 3), (1, 2), (2, 2), (2, 2), (2, 2), (2, 2), (1, 1), (4, 3), (4, 4), (3, 2), (1, 1)]\n"
     ]
    }
   ],
   "source": [
    "model = Bayes(traindata, nmax, label)\n",
    "y_pred = model.predict(testdata)\n",
    "y_true = testdata[label].values.ravel()\n",
    "\n",
    "print(list(zip(y_true, y_pred))[0:50])"
   ]
  },
  {
   "cell_type": "code",
   "execution_count": 6,
   "metadata": {},
   "outputs": [
    {
     "name": "stdout",
     "output_type": "stream",
     "text": [
      "0.7415771207523474\n",
      "[[ 2109     0     0     0     0]\n",
      " [    0 33758  4009    30     6]\n",
      " [    1  8038 24105  7521   235]\n",
      " [    2  1244  8970 20153  9825]\n",
      " [    3   142  1959  9501 28324]]\n",
      "[[100.   0.   0.   0.   0.]\n",
      " [  0.  89.  11.   0.   0.]\n",
      " [  0.  20.  60.  19.   1.]\n",
      " [  0.   3.  22.  50.  24.]\n",
      " [  0.   0.   5.  24.  71.]]\n"
     ]
    }
   ],
   "source": [
    "np.set_printoptions(precision=3)\n",
    "np.set_printoptions(suppress=True)\n",
    "\n",
    "bac = balanced_accuracy_score(y_true, y_pred)\n",
    "print(bac)\n",
    "cm = confusion_matrix(y_true, y_pred, labels=range(0, nmax + 1))\n",
    "print(cm)\n",
    "cmrel = confusion_matrix(y_true, y_pred, labels=range(0, nmax + 1), normalize=\"true\")\n",
    "print((cmrel * 100).round())"
   ]
  },
  {
   "cell_type": "code",
   "execution_count": 7,
   "metadata": {},
   "outputs": [
    {
     "data": {
      "text/plain": [
       "Text(69.0, 0.5, 'True')"
      ]
     },
     "execution_count": 7,
     "metadata": {},
     "output_type": "execute_result"
    },
    {
     "data": {
      "image/png": "[encoded data removed]",
      "text/plain": [
       "<Figure size 720x504 with 2 Axes>"
      ]
     },
     "metadata": {
      "needs_background": "light"
     },
     "output_type": "display_data"
    }
   ],
   "source": [
    "plt.figure(figsize=(10, 7))\n",
    "ax = sns.heatmap(cmrel, cmap=\"viridis\", annot=True)\n",
    "ax.set_xlabel(\"Predicted\")\n",
    "ax.set_ylabel(\"True\")"
   ]
  },
  {
   "cell_type": "markdown",
   "metadata": {},
   "source": [
    "## Evaluation for different max multiplicities"
   ]
  },
  {
   "cell_type": "code",
   "execution_count": 8,
   "metadata": {},
   "outputs": [
    {
     "name": "stdout",
     "output_type": "stream",
     "text": [
      "[[ 1982     0]\n",
      " [   12 38143]]\n",
      "1 0.9998427466911283\n",
      "[[ 2112     0     0]\n",
      " [    4 33885  4252]\n",
      " [    8  8079 31641]]\n",
      "2 0.8949516133512541\n",
      "[[ 2089     0     0     0]\n",
      " [    1 34161  4188    47]\n",
      " [    2  8047 23879  7816]\n",
      " [    3  1208  8932 29946]]\n",
      "3 0.8093717706418108\n",
      "[[ 2071     0     0     0     0]\n",
      " [    3 33583  4133    29     8]\n",
      " [    0  8229 24021  7451   209]\n",
      " [    0  1195  8920 19748  9790]\n",
      " [    3   145  1831  9578 28166]]\n",
      "4 0.7396868634755174\n",
      "[[ 2110     0     0     0     0     0]\n",
      " [    0 33977  4134    32     7     3]\n",
      " [    0  8109 24036  7581   200     5]\n",
      " [    2  1216  9010 19741  9120   718]\n",
      " [    2   156  1892  9625 17263 11050]\n",
      " [    6     9   291  2647  9448 27527]]\n",
      "5 0.684920427798983\n"
     ]
    }
   ],
   "source": [
    "for n in [1, 2, 3, 4, 5]:\n",
    "    traindata, testdata = tridata(distance=15, doubleplane=30, energy=600, erel=500, nmax=n, physics=\"inclxx\")\n",
    "\n",
    "    model = Bayes(traindata, n, label)\n",
    "    y_pred = model.predict(testdata)\n",
    "    y_true = testdata[label].values.ravel()\n",
    "\n",
    "    bac = balanced_accuracy_score(y_true, y_pred)\n",
    "    cm = confusion_matrix(y_true, y_pred, labels=range(0, n + 1))\n",
    "    print(cm)\n",
    "    print(n, bac)"
   ]
  },
  {
   "cell_type": "code",
   "execution_count": null,
   "metadata": {},
   "outputs": [],
   "source": []
  }
 ],
 "metadata": {
  "kernelspec": {
   "display_name": "Python 3",
   "language": "python",
   "name": "python3"
  },
  "language_info": {
   "codemirror_mode": {
    "name": "ipython",
    "version": 3
   },
   "file_extension": ".py",
   "mimetype": "text/x-python",
   "name": "python",
   "nbconvert_exporter": "python",
   "pygments_lexer": "ipython3",
   "version": "3.8.5"
  }
 },
 "nbformat": 4,
 "nbformat_minor": 4
}

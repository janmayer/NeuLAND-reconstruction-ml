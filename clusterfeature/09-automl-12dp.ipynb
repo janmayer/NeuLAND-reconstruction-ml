{
 "cells": [
  {
   "cell_type": "markdown",
   "metadata": {},
   "source": [
    "# Super Simple Keras model on TriFeature for multiplicity determination"
   ]
  },
  {
   "cell_type": "code",
   "execution_count": 1,
   "metadata": {},
   "outputs": [],
   "source": [
    "features = [\"T\", \"E\", \"Size\", \"EToF\", \"EnergyMoment\", \"TSpawn\", \"MaxEHit\", \"X\", \"Y\", \"Z\"]\n",
    "label = \"prim\"\n",
    "dp = 12\n",
    "neutrons = [1, 2, 3, 4]"
   ]
  },
  {
   "cell_type": "code",
   "execution_count": 2,
   "metadata": {},
   "outputs": [
    {
     "name": "stdout",
     "output_type": "stream",
     "text": [
      "Welcome to JupyROOT 6.16/00\n"
     ]
    }
   ],
   "source": [
    "import sys\n",
    "from collections import defaultdict\n",
    "\n",
    "import matplotlib.pyplot as plt\n",
    "import numpy as np\n",
    "import pandas as pd\n",
    "import joblib\n",
    "import sklearn.preprocessing\n",
    "from sklearn.metrics import (\n",
    "    balanced_accuracy_score,\n",
    "    confusion_matrix,\n",
    "    plot_confusion_matrix,\n",
    ")\n",
    "\n",
    "sys.path.append(\"..\")\n",
    "from helpers import filename_for"
   ]
  },
  {
   "cell_type": "code",
   "execution_count": 3,
   "metadata": {},
   "outputs": [
    {
     "name": "stdout",
     "output_type": "stream",
     "text": [
      "0.0    4225482\n",
      "1.0    1412871\n",
      "Name: prim, dtype: int64\n"
     ]
    },
    {
     "data": {
      "text/html": [
       "<div>\n",
       "<style scoped>\n",
       "    .dataframe tbody tr th:only-of-type {\n",
       "        vertical-align: middle;\n",
       "    }\n",
       "\n",
       "    .dataframe tbody tr th {\n",
       "        vertical-align: top;\n",
       "    }\n",
       "\n",
       "    .dataframe thead th {\n",
       "        text-align: right;\n",
       "    }\n",
       "</style>\n",
       "<table border=\"1\" class=\"dataframe\">\n",
       "  <thead>\n",
       "    <tr style=\"text-align: right;\">\n",
       "      <th></th>\n",
       "      <th>i_event</th>\n",
       "      <th>prim</th>\n",
       "      <th>T</th>\n",
       "      <th>E</th>\n",
       "      <th>Size</th>\n",
       "      <th>EToF</th>\n",
       "      <th>EnergyMoment</th>\n",
       "      <th>TSpawn</th>\n",
       "      <th>MaxEHit</th>\n",
       "      <th>X</th>\n",
       "      <th>Y</th>\n",
       "      <th>Z</th>\n",
       "    </tr>\n",
       "  </thead>\n",
       "  <tbody>\n",
       "    <tr>\n",
       "      <th>1278499</th>\n",
       "      <td>201.0</td>\n",
       "      <td>0.0</td>\n",
       "      <td>72.743546</td>\n",
       "      <td>4.001890</td>\n",
       "      <td>1.0</td>\n",
       "      <td>356.984039</td>\n",
       "      <td>0.000000e+00</td>\n",
       "      <td>0.000000</td>\n",
       "      <td>4.001890</td>\n",
       "      <td>-7.500000</td>\n",
       "      <td>-9.346230</td>\n",
       "      <td>1507.5</td>\n",
       "    </tr>\n",
       "    <tr>\n",
       "      <th>123683</th>\n",
       "      <td>2819.0</td>\n",
       "      <td>0.0</td>\n",
       "      <td>70.245926</td>\n",
       "      <td>4.904631</td>\n",
       "      <td>2.0</td>\n",
       "      <td>445.918732</td>\n",
       "      <td>2.805709e+00</td>\n",
       "      <td>0.121427</td>\n",
       "      <td>2.531206</td>\n",
       "      <td>-6.497627</td>\n",
       "      <td>7.500000</td>\n",
       "      <td>1552.5</td>\n",
       "    </tr>\n",
       "    <tr>\n",
       "      <th>5226144</th>\n",
       "      <td>5531.0</td>\n",
       "      <td>1.0</td>\n",
       "      <td>62.695213</td>\n",
       "      <td>320.804871</td>\n",
       "      <td>10.0</td>\n",
       "      <td>625.841431</td>\n",
       "      <td>1.043842e+01</td>\n",
       "      <td>1.434420</td>\n",
       "      <td>94.084465</td>\n",
       "      <td>-17.500000</td>\n",
       "      <td>-4.665872</td>\n",
       "      <td>1507.5</td>\n",
       "    </tr>\n",
       "    <tr>\n",
       "      <th>2404152</th>\n",
       "      <td>6755.0</td>\n",
       "      <td>1.0</td>\n",
       "      <td>64.116348</td>\n",
       "      <td>337.163696</td>\n",
       "      <td>13.0</td>\n",
       "      <td>576.190308</td>\n",
       "      <td>1.368203e+01</td>\n",
       "      <td>2.412778</td>\n",
       "      <td>84.405426</td>\n",
       "      <td>-26.984325</td>\n",
       "      <td>2.500000</td>\n",
       "      <td>1512.5</td>\n",
       "    </tr>\n",
       "    <tr>\n",
       "      <th>5462128</th>\n",
       "      <td>6398.0</td>\n",
       "      <td>1.0</td>\n",
       "      <td>67.126511</td>\n",
       "      <td>264.252136</td>\n",
       "      <td>9.0</td>\n",
       "      <td>590.024841</td>\n",
       "      <td>8.335863e+00</td>\n",
       "      <td>0.875057</td>\n",
       "      <td>45.102974</td>\n",
       "      <td>12.224815</td>\n",
       "      <td>-12.500000</td>\n",
       "      <td>1592.5</td>\n",
       "    </tr>\n",
       "    <tr>\n",
       "      <th>...</th>\n",
       "      <td>...</td>\n",
       "      <td>...</td>\n",
       "      <td>...</td>\n",
       "      <td>...</td>\n",
       "      <td>...</td>\n",
       "      <td>...</td>\n",
       "      <td>...</td>\n",
       "      <td>...</td>\n",
       "      <td>...</td>\n",
       "      <td>...</td>\n",
       "      <td>...</td>\n",
       "      <td>...</td>\n",
       "    </tr>\n",
       "    <tr>\n",
       "      <th>1428135</th>\n",
       "      <td>5803.0</td>\n",
       "      <td>0.0</td>\n",
       "      <td>82.358917</td>\n",
       "      <td>1.178269</td>\n",
       "      <td>1.0</td>\n",
       "      <td>295.601349</td>\n",
       "      <td>2.273737e-13</td>\n",
       "      <td>0.000000</td>\n",
       "      <td>1.178269</td>\n",
       "      <td>-22.500000</td>\n",
       "      <td>1.662647</td>\n",
       "      <td>1607.5</td>\n",
       "    </tr>\n",
       "    <tr>\n",
       "      <th>480729</th>\n",
       "      <td>6068.0</td>\n",
       "      <td>0.0</td>\n",
       "      <td>78.656456</td>\n",
       "      <td>1.329785</td>\n",
       "      <td>1.0</td>\n",
       "      <td>283.639130</td>\n",
       "      <td>2.009718e-14</td>\n",
       "      <td>0.000000</td>\n",
       "      <td>1.329785</td>\n",
       "      <td>-117.500000</td>\n",
       "      <td>-85.086517</td>\n",
       "      <td>1507.5</td>\n",
       "    </tr>\n",
       "    <tr>\n",
       "      <th>3361959</th>\n",
       "      <td>7596.0</td>\n",
       "      <td>0.0</td>\n",
       "      <td>67.661819</td>\n",
       "      <td>41.934479</td>\n",
       "      <td>3.0</td>\n",
       "      <td>556.118164</td>\n",
       "      <td>3.580651e+00</td>\n",
       "      <td>0.262080</td>\n",
       "      <td>19.005957</td>\n",
       "      <td>-24.975262</td>\n",
       "      <td>-27.500000</td>\n",
       "      <td>1582.5</td>\n",
       "    </tr>\n",
       "    <tr>\n",
       "      <th>2065244</th>\n",
       "      <td>7478.0</td>\n",
       "      <td>0.0</td>\n",
       "      <td>68.507622</td>\n",
       "      <td>3.715144</td>\n",
       "      <td>1.0</td>\n",
       "      <td>515.199280</td>\n",
       "      <td>5.024296e-15</td>\n",
       "      <td>0.000000</td>\n",
       "      <td>3.715144</td>\n",
       "      <td>-22.107210</td>\n",
       "      <td>17.500000</td>\n",
       "      <td>1572.5</td>\n",
       "    </tr>\n",
       "    <tr>\n",
       "      <th>1313943</th>\n",
       "      <td>6230.0</td>\n",
       "      <td>0.0</td>\n",
       "      <td>68.941078</td>\n",
       "      <td>1.712863</td>\n",
       "      <td>1.0</td>\n",
       "      <td>535.089844</td>\n",
       "      <td>2.274032e-13</td>\n",
       "      <td>0.000000</td>\n",
       "      <td>1.712863</td>\n",
       "      <td>27.500000</td>\n",
       "      <td>7.196017</td>\n",
       "      <td>1597.5</td>\n",
       "    </tr>\n",
       "  </tbody>\n",
       "</table>\n",
       "<p>5638353 rows × 12 columns</p>\n",
       "</div>"
      ],
      "text/plain": [
       "         i_event  prim          T           E  Size        EToF  EnergyMoment  \\\n",
       "1278499    201.0   0.0  72.743546    4.001890   1.0  356.984039  0.000000e+00   \n",
       "123683    2819.0   0.0  70.245926    4.904631   2.0  445.918732  2.805709e+00   \n",
       "5226144   5531.0   1.0  62.695213  320.804871  10.0  625.841431  1.043842e+01   \n",
       "2404152   6755.0   1.0  64.116348  337.163696  13.0  576.190308  1.368203e+01   \n",
       "5462128   6398.0   1.0  67.126511  264.252136   9.0  590.024841  8.335863e+00   \n",
       "...          ...   ...        ...         ...   ...         ...           ...   \n",
       "1428135   5803.0   0.0  82.358917    1.178269   1.0  295.601349  2.273737e-13   \n",
       "480729    6068.0   0.0  78.656456    1.329785   1.0  283.639130  2.009718e-14   \n",
       "3361959   7596.0   0.0  67.661819   41.934479   3.0  556.118164  3.580651e+00   \n",
       "2065244   7478.0   0.0  68.507622    3.715144   1.0  515.199280  5.024296e-15   \n",
       "1313943   6230.0   0.0  68.941078    1.712863   1.0  535.089844  2.274032e-13   \n",
       "\n",
       "           TSpawn    MaxEHit           X          Y       Z  \n",
       "1278499  0.000000   4.001890   -7.500000  -9.346230  1507.5  \n",
       "123683   0.121427   2.531206   -6.497627   7.500000  1552.5  \n",
       "5226144  1.434420  94.084465  -17.500000  -4.665872  1507.5  \n",
       "2404152  2.412778  84.405426  -26.984325   2.500000  1512.5  \n",
       "5462128  0.875057  45.102974   12.224815 -12.500000  1592.5  \n",
       "...           ...        ...         ...        ...     ...  \n",
       "1428135  0.000000   1.178269  -22.500000   1.662647  1607.5  \n",
       "480729   0.000000   1.329785 -117.500000 -85.086517  1507.5  \n",
       "3361959  0.262080  19.005957  -24.975262 -27.500000  1582.5  \n",
       "2065244  0.000000   3.715144  -22.107210  17.500000  1572.5  \n",
       "1313943  0.000000   1.712863   27.500000   7.196017  1597.5  \n",
       "\n",
       "[5638353 rows x 12 columns]"
      ]
     },
     "metadata": {},
     "output_type": "display_data"
    }
   ],
   "source": [
    "files = [filename_for(15, dp, 600, 500, n, \"inclxx\", s, \"clusterfeature.parquet\") for n in neutrons for s in range(20)]\n",
    "dfs = [pd.read_parquet(file) for file in files]\n",
    "data = pd.concat(dfs, ignore_index=True).sample(frac=1, random_state=1337)\n",
    "\n",
    "data = data[(abs(data[\"X\"]) < 125) & (abs(data[\"Y\"]) < 125) & (data[\"T\"] < 100)]\n",
    "\n",
    "print(data[\"prim\"].value_counts())\n",
    "display(data)"
   ]
  },
  {
   "cell_type": "code",
   "execution_count": 4,
   "metadata": {},
   "outputs": [
    {
     "name": "stdout",
     "output_type": "stream",
     "text": [
      "1.0    1412871\n",
      "0.0    1412871\n",
      "Name: prim, dtype: int64\n"
     ]
    }
   ],
   "source": [
    "prim1 = data[data[\"prim\"] == 1]\n",
    "prim0 = data[data[\"prim\"] == 0].sample(n=len(prim1.index), random_state=1337)\n",
    "balanced_data = pd.concat([prim0, prim1], ignore_index=True).sample(frac=1, random_state=1337)\n",
    "\n",
    "print(balanced_data[\"prim\"].value_counts())"
   ]
  },
  {
   "cell_type": "code",
   "execution_count": 5,
   "metadata": {},
   "outputs": [
    {
     "name": "stdout",
     "output_type": "stream",
     "text": [
      "(2260294, 12) (565448, 12)\n"
     ]
    }
   ],
   "source": [
    "msk = np.random.rand(len(balanced_data)) < 0.8\n",
    "traindata = balanced_data[msk]\n",
    "testdata = balanced_data[~msk]\n",
    "\n",
    "print(traindata.shape, testdata.shape)"
   ]
  },
  {
   "cell_type": "code",
   "execution_count": 6,
   "metadata": {},
   "outputs": [],
   "source": [
    "x_train = traindata[features].values\n",
    "y_train = traindata[[label]].values.ravel()\n",
    "\n",
    "x_val = testdata[features].values\n",
    "y_val = testdata[[label]].values.ravel()"
   ]
  },
  {
   "cell_type": "code",
   "execution_count": null,
   "metadata": {},
   "outputs": [
    {
     "name": "stderr",
     "output_type": "stream",
     "text": [
      "/home/jmayer/.pyenv/versions/3.7.6/lib/python3.7/site-packages/pyparsing.py:3190: FutureWarning: Possible set intersection at position 3\n",
      "  self.re = re.compile(self.reString)\n"
     ]
    }
   ],
   "source": [
    "#from autosklearn.experimental.askl2 import AutoSklearn2Classifier\n",
    "from autosklearn.classification import AutoSklearnClassifier\n",
    "\n",
    "cls = AutoSklearnClassifier(n_jobs=5, memory_limit=50000, time_left_for_this_task=36000)\n",
    "cls.fit(x_train, y_train)"
   ]
  },
  {
   "cell_type": "code",
   "execution_count": 11,
   "metadata": {},
   "outputs": [
    {
     "name": "stdout",
     "output_type": "stream",
     "text": [
      "auto-sklearn results:\n",
      "  Dataset name: a20e9d3e-865e-11eb-94a6-1866da859056\n",
      "  Metric: accuracy\n",
      "  Best validation score: 0.903767\n",
      "  Number of target algorithm runs: 26\n",
      "  Number of successful target algorithm runs: 16\n",
      "  Number of crashed target algorithm runs: 1\n",
      "  Number of target algorithms that exceeded the time limit: 8\n",
      "  Number of target algorithms that exceeded the memory limit: 1\n",
      "\n"
     ]
    }
   ],
   "source": [
    "print(cls.sprint_statistics())"
   ]
  },
  {
   "cell_type": "code",
   "execution_count": 12,
   "metadata": {},
   "outputs": [
    {
     "name": "stdout",
     "output_type": "stream",
     "text": [
      "0.904949020689428\n"
     ]
    }
   ],
   "source": [
    "x_test = testdata[features].values\n",
    "y_true = testdata[[label]].values.ravel()\n",
    "\n",
    "y_pred = cls.predict(x_test)\n",
    "bac = balanced_accuracy_score(y_true, y_pred)\n",
    "\n",
    "print(bac)"
   ]
  },
  {
   "cell_type": "code",
   "execution_count": 13,
   "metadata": {},
   "outputs": [
    {
     "data": {
      "text/plain": [
       "['models/autosklearn12.pkl']"
      ]
     },
     "execution_count": 13,
     "metadata": {},
     "output_type": "execute_result"
    }
   ],
   "source": [
    "joblib.dump(cls, \"models/autosklearn12.pkl\")"
   ]
  },
  {
   "cell_type": "code",
   "execution_count": null,
   "metadata": {},
   "outputs": [],
   "source": []
  }
 ],
 "metadata": {
  "kernelspec": {
   "display_name": "Python 3",
   "language": "python",
   "name": "python3"
  },
  "language_info": {
   "codemirror_mode": {
    "name": "ipython",
    "version": 3
   },
   "file_extension": ".py",
   "mimetype": "text/x-python",
   "name": "python",
   "nbconvert_exporter": "python",
   "pygments_lexer": "ipython3",
   "version": "3.7.6"
  }
 },
 "nbformat": 4,
 "nbformat_minor": 4
}

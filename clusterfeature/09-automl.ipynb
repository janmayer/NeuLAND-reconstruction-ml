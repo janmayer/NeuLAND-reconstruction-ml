{
 "cells": [
  {
   "cell_type": "markdown",
   "metadata": {},
   "source": [
    "# Super Simple Keras model on TriFeature for multiplicity determination"
   ]
  },
  {
   "cell_type": "code",
   "execution_count": 1,
   "metadata": {},
   "outputs": [],
   "source": [
    "features = [\"T\", \"E\", \"Size\", \"EToF\", \"EnergyMoment\", \"TSpawn\", \"MaxEHit\", \"X\", \"Y\", \"Z\"]\n",
    "label = \"prim\"\n",
    "dp = 30\n",
    "neutrons = [1, 2, 3, 4]"
   ]
  },
  {
   "cell_type": "code",
   "execution_count": 2,
   "metadata": {},
   "outputs": [
    {
     "name": "stdout",
     "output_type": "stream",
     "text": [
      "Welcome to JupyROOT 6.16/00\n"
     ]
    }
   ],
   "source": [
    "import sys\n",
    "from collections import defaultdict\n",
    "\n",
    "import matplotlib.pyplot as plt\n",
    "import numpy as np\n",
    "import pandas as pd\n",
    "import joblib\n",
    "import sklearn.preprocessing\n",
    "from sklearn.metrics import (\n",
    "    balanced_accuracy_score,\n",
    "    confusion_matrix,\n",
    "    plot_confusion_matrix,\n",
    ")\n",
    "\n",
    "sys.path.append(\"..\")\n",
    "from helpers import filename_for"
   ]
  },
  {
   "cell_type": "code",
   "execution_count": 3,
   "metadata": {},
   "outputs": [
    {
     "name": "stdout",
     "output_type": "stream",
     "text": [
      "0.0    8499721\n",
      "1.0    1779876\n",
      "Name: prim, dtype: int64\n"
     ]
    },
    {
     "data": {
      "text/html": [
       "<div>\n",
       "<style scoped>\n",
       "    .dataframe tbody tr th:only-of-type {\n",
       "        vertical-align: middle;\n",
       "    }\n",
       "\n",
       "    .dataframe tbody tr th {\n",
       "        vertical-align: top;\n",
       "    }\n",
       "\n",
       "    .dataframe thead th {\n",
       "        text-align: right;\n",
       "    }\n",
       "</style>\n",
       "<table border=\"1\" class=\"dataframe\">\n",
       "  <thead>\n",
       "    <tr style=\"text-align: right;\">\n",
       "      <th></th>\n",
       "      <th>i_event</th>\n",
       "      <th>prim</th>\n",
       "      <th>T</th>\n",
       "      <th>E</th>\n",
       "      <th>Size</th>\n",
       "      <th>EToF</th>\n",
       "      <th>EnergyMoment</th>\n",
       "      <th>TSpawn</th>\n",
       "      <th>MaxEHit</th>\n",
       "      <th>X</th>\n",
       "      <th>Y</th>\n",
       "      <th>Z</th>\n",
       "    </tr>\n",
       "  </thead>\n",
       "  <tbody>\n",
       "    <tr>\n",
       "      <th>3499177</th>\n",
       "      <td>1731.0</td>\n",
       "      <td>1.0</td>\n",
       "      <td>63.755749</td>\n",
       "      <td>149.914871</td>\n",
       "      <td>6.0</td>\n",
       "      <td>607.207764</td>\n",
       "      <td>6.798460e+00</td>\n",
       "      <td>1.218181</td>\n",
       "      <td>64.293854</td>\n",
       "      <td>-0.682722</td>\n",
       "      <td>-22.500000</td>\n",
       "      <td>1522.5</td>\n",
       "    </tr>\n",
       "    <tr>\n",
       "      <th>8869071</th>\n",
       "      <td>3484.0</td>\n",
       "      <td>0.0</td>\n",
       "      <td>74.362877</td>\n",
       "      <td>15.335159</td>\n",
       "      <td>4.0</td>\n",
       "      <td>580.952515</td>\n",
       "      <td>3.743494e+00</td>\n",
       "      <td>0.394498</td>\n",
       "      <td>9.338829</td>\n",
       "      <td>37.500000</td>\n",
       "      <td>-1.970521</td>\n",
       "      <td>1757.5</td>\n",
       "    </tr>\n",
       "    <tr>\n",
       "      <th>2585062</th>\n",
       "      <td>5713.0</td>\n",
       "      <td>0.0</td>\n",
       "      <td>68.605553</td>\n",
       "      <td>37.585819</td>\n",
       "      <td>1.0</td>\n",
       "      <td>600.481689</td>\n",
       "      <td>2.278178e-13</td>\n",
       "      <td>0.000000</td>\n",
       "      <td>37.585819</td>\n",
       "      <td>-76.964607</td>\n",
       "      <td>2.500000</td>\n",
       "      <td>1632.5</td>\n",
       "    </tr>\n",
       "    <tr>\n",
       "      <th>2894202</th>\n",
       "      <td>5004.0</td>\n",
       "      <td>0.0</td>\n",
       "      <td>74.553833</td>\n",
       "      <td>34.140911</td>\n",
       "      <td>2.0</td>\n",
       "      <td>625.573181</td>\n",
       "      <td>2.255625e+00</td>\n",
       "      <td>0.020336</td>\n",
       "      <td>23.147533</td>\n",
       "      <td>-6.335686</td>\n",
       "      <td>17.500000</td>\n",
       "      <td>1792.5</td>\n",
       "    </tr>\n",
       "    <tr>\n",
       "      <th>3878350</th>\n",
       "      <td>5814.0</td>\n",
       "      <td>0.0</td>\n",
       "      <td>86.484261</td>\n",
       "      <td>7.983827</td>\n",
       "      <td>1.0</td>\n",
       "      <td>264.821777</td>\n",
       "      <td>0.000000e+00</td>\n",
       "      <td>0.000000</td>\n",
       "      <td>7.983827</td>\n",
       "      <td>98.367348</td>\n",
       "      <td>67.500000</td>\n",
       "      <td>1622.5</td>\n",
       "    </tr>\n",
       "    <tr>\n",
       "      <th>...</th>\n",
       "      <td>...</td>\n",
       "      <td>...</td>\n",
       "      <td>...</td>\n",
       "      <td>...</td>\n",
       "      <td>...</td>\n",
       "      <td>...</td>\n",
       "      <td>...</td>\n",
       "      <td>...</td>\n",
       "      <td>...</td>\n",
       "      <td>...</td>\n",
       "      <td>...</td>\n",
       "      <td>...</td>\n",
       "    </tr>\n",
       "    <tr>\n",
       "      <th>480729</th>\n",
       "      <td>1884.0</td>\n",
       "      <td>0.0</td>\n",
       "      <td>79.410904</td>\n",
       "      <td>2.277636</td>\n",
       "      <td>1.0</td>\n",
       "      <td>296.172211</td>\n",
       "      <td>0.000000e+00</td>\n",
       "      <td>0.000000</td>\n",
       "      <td>2.277636</td>\n",
       "      <td>-72.500000</td>\n",
       "      <td>-76.763123</td>\n",
       "      <td>1547.5</td>\n",
       "    </tr>\n",
       "    <tr>\n",
       "      <th>3361959</th>\n",
       "      <td>3033.0</td>\n",
       "      <td>1.0</td>\n",
       "      <td>63.699387</td>\n",
       "      <td>613.164795</td>\n",
       "      <td>38.0</td>\n",
       "      <td>609.370972</td>\n",
       "      <td>3.672803e+01</td>\n",
       "      <td>5.340049</td>\n",
       "      <td>52.407722</td>\n",
       "      <td>3.392983</td>\n",
       "      <td>12.500000</td>\n",
       "      <td>1522.5</td>\n",
       "    </tr>\n",
       "    <tr>\n",
       "      <th>7087336</th>\n",
       "      <td>7733.0</td>\n",
       "      <td>0.0</td>\n",
       "      <td>70.274147</td>\n",
       "      <td>246.902069</td>\n",
       "      <td>11.0</td>\n",
       "      <td>568.768555</td>\n",
       "      <td>1.244804e+01</td>\n",
       "      <td>2.275502</td>\n",
       "      <td>52.906334</td>\n",
       "      <td>6.802186</td>\n",
       "      <td>37.500000</td>\n",
       "      <td>1652.5</td>\n",
       "    </tr>\n",
       "    <tr>\n",
       "      <th>8315069</th>\n",
       "      <td>6834.0</td>\n",
       "      <td>0.0</td>\n",
       "      <td>78.157318</td>\n",
       "      <td>2.550865</td>\n",
       "      <td>1.0</td>\n",
       "      <td>425.412720</td>\n",
       "      <td>0.000000e+00</td>\n",
       "      <td>0.000000</td>\n",
       "      <td>2.550865</td>\n",
       "      <td>41.877541</td>\n",
       "      <td>82.500000</td>\n",
       "      <td>1702.5</td>\n",
       "    </tr>\n",
       "    <tr>\n",
       "      <th>1313943</th>\n",
       "      <td>5387.0</td>\n",
       "      <td>0.0</td>\n",
       "      <td>79.691048</td>\n",
       "      <td>2.922474</td>\n",
       "      <td>1.0</td>\n",
       "      <td>387.539795</td>\n",
       "      <td>1.110223e-16</td>\n",
       "      <td>0.000000</td>\n",
       "      <td>2.922474</td>\n",
       "      <td>-0.729188</td>\n",
       "      <td>-17.500000</td>\n",
       "      <td>1692.5</td>\n",
       "    </tr>\n",
       "  </tbody>\n",
       "</table>\n",
       "<p>10279597 rows × 12 columns</p>\n",
       "</div>"
      ],
      "text/plain": [
       "         i_event  prim          T           E  Size        EToF  EnergyMoment  \\\n",
       "3499177   1731.0   1.0  63.755749  149.914871   6.0  607.207764  6.798460e+00   \n",
       "8869071   3484.0   0.0  74.362877   15.335159   4.0  580.952515  3.743494e+00   \n",
       "2585062   5713.0   0.0  68.605553   37.585819   1.0  600.481689  2.278178e-13   \n",
       "2894202   5004.0   0.0  74.553833   34.140911   2.0  625.573181  2.255625e+00   \n",
       "3878350   5814.0   0.0  86.484261    7.983827   1.0  264.821777  0.000000e+00   \n",
       "...          ...   ...        ...         ...   ...         ...           ...   \n",
       "480729    1884.0   0.0  79.410904    2.277636   1.0  296.172211  0.000000e+00   \n",
       "3361959   3033.0   1.0  63.699387  613.164795  38.0  609.370972  3.672803e+01   \n",
       "7087336   7733.0   0.0  70.274147  246.902069  11.0  568.768555  1.244804e+01   \n",
       "8315069   6834.0   0.0  78.157318    2.550865   1.0  425.412720  0.000000e+00   \n",
       "1313943   5387.0   0.0  79.691048    2.922474   1.0  387.539795  1.110223e-16   \n",
       "\n",
       "           TSpawn    MaxEHit          X          Y       Z  \n",
       "3499177  1.218181  64.293854  -0.682722 -22.500000  1522.5  \n",
       "8869071  0.394498   9.338829  37.500000  -1.970521  1757.5  \n",
       "2585062  0.000000  37.585819 -76.964607   2.500000  1632.5  \n",
       "2894202  0.020336  23.147533  -6.335686  17.500000  1792.5  \n",
       "3878350  0.000000   7.983827  98.367348  67.500000  1622.5  \n",
       "...           ...        ...        ...        ...     ...  \n",
       "480729   0.000000   2.277636 -72.500000 -76.763123  1547.5  \n",
       "3361959  5.340049  52.407722   3.392983  12.500000  1522.5  \n",
       "7087336  2.275502  52.906334   6.802186  37.500000  1652.5  \n",
       "8315069  0.000000   2.550865  41.877541  82.500000  1702.5  \n",
       "1313943  0.000000   2.922474  -0.729188 -17.500000  1692.5  \n",
       "\n",
       "[10279597 rows x 12 columns]"
      ]
     },
     "metadata": {},
     "output_type": "display_data"
    }
   ],
   "source": [
    "files = [filename_for(15, dp, 600, 500, n, \"inclxx\", s, \"clusterfeature.parquet\") for n in neutrons for s in range(20)]\n",
    "dfs = [pd.read_parquet(file) for file in files]\n",
    "data = pd.concat(dfs, ignore_index=True).sample(frac=1, random_state=1337)\n",
    "\n",
    "data = data[(abs(data[\"X\"]) < 125) & (abs(data[\"Y\"]) < 125) & (data[\"T\"] < 100)]\n",
    "\n",
    "print(data[\"prim\"].value_counts())\n",
    "display(data)"
   ]
  },
  {
   "cell_type": "code",
   "execution_count": 4,
   "metadata": {},
   "outputs": [],
   "source": [
    "#scaler = sklearn.preprocessing.RobustScaler()\n",
    "#data[features] = scaler.fit_transform(data[features])\n",
    "#joblib.dump(scaler, \"models/keras-scaler.pkl.gz\")\n",
    "#display(data)"
   ]
  },
  {
   "cell_type": "code",
   "execution_count": 5,
   "metadata": {},
   "outputs": [
    {
     "name": "stdout",
     "output_type": "stream",
     "text": [
      "1.0    1779876\n",
      "0.0    1779876\n",
      "Name: prim, dtype: int64\n"
     ]
    }
   ],
   "source": [
    "prim1 = data[data[\"prim\"] == 1]\n",
    "prim0 = data[data[\"prim\"] == 0].sample(n=len(prim1.index), random_state=1337)\n",
    "balanced_data = pd.concat([prim0, prim1], ignore_index=True).sample(frac=1, random_state=1337)\n",
    "\n",
    "print(balanced_data[\"prim\"].value_counts())"
   ]
  },
  {
   "cell_type": "code",
   "execution_count": 6,
   "metadata": {},
   "outputs": [
    {
     "name": "stdout",
     "output_type": "stream",
     "text": [
      "(2848063, 12) (711689, 12)\n"
     ]
    }
   ],
   "source": [
    "msk = np.random.rand(len(balanced_data)) < 0.8\n",
    "traindata = balanced_data[msk]\n",
    "testdata = balanced_data[~msk]\n",
    "\n",
    "print(traindata.shape, testdata.shape)"
   ]
  },
  {
   "cell_type": "code",
   "execution_count": 7,
   "metadata": {},
   "outputs": [],
   "source": [
    "x_train = traindata[features].values\n",
    "y_train = traindata[[label]].values.ravel()\n",
    "\n",
    "x_val = testdata[features].values\n",
    "y_val = testdata[[label]].values.ravel()"
   ]
  },
  {
   "cell_type": "code",
   "execution_count": 8,
   "metadata": {},
   "outputs": [
    {
     "name": "stderr",
     "output_type": "stream",
     "text": [
      "/home/jmayer/.pyenv/versions/3.7.6/lib/python3.7/site-packages/pyparsing.py:3190: FutureWarning: Possible set intersection at position 3\n",
      "  self.re = re.compile(self.reString)\n"
     ]
    },
    {
     "data": {
      "text/plain": [
       "AutoSklearnClassifier(memory_limit=50000, n_jobs=10, per_run_time_limit=36000,\n",
       "                      time_left_for_this_task=36000)"
      ]
     },
     "execution_count": 8,
     "metadata": {},
     "output_type": "execute_result"
    },
    {
     "name": "stdout",
     "output_type": "stream",
     "text": [
      "[WARNING] [2021-03-11 15:24:42,493:Client-AutoML(1):7d09d9ec-8275-11eb-bcb8-1866da859056] Time limit for a single run is higher than total time limit. Capping the limit for a single run to the total time given to SMAC (35996.181343)\n",
      "[WARNING] [2021-03-11 15:24:42,493:Client-AutoML(1):7d09d9ec-8275-11eb-bcb8-1866da859056] Capping the per_run_time_limit to 17998.0 to have time for a least 2 models in each process.\n",
      "[ERROR] [2021-03-11 15:24:42,933:Client-AutoMLSMBO(1)::7d09d9ec-8275-11eb-bcb8-1866da859056] Error getting metafeatures: Can't pickle local object 'Client.__init__.<locals>.<lambda>'\n"
     ]
    },
    {
     "name": "stderr",
     "output_type": "stream",
     "text": [
      "/home/jmayer/.pyenv/versions/3.7.6/lib/python3.7/site-packages/pyparsing.py:3190: FutureWarning: Possible set intersection at position 3\n",
      "  self.re = re.compile(self.reString)\n",
      "/home/jmayer/.pyenv/versions/3.7.6/lib/python3.7/site-packages/pyparsing.py:3190: FutureWarning: Possible set intersection at position 3\n",
      "  self.re = re.compile(self.reString)\n",
      "/home/jmayer/.pyenv/versions/3.7.6/lib/python3.7/site-packages/pyparsing.py:3190: FutureWarning: Possible set intersection at position 3\n",
      "  self.re = re.compile(self.reString)\n",
      "/home/jmayer/.pyenv/versions/3.7.6/lib/python3.7/site-packages/pyparsing.py:3190: FutureWarning: Possible set intersection at position 3\n",
      "  self.re = re.compile(self.reString)\n",
      "/home/jmayer/.pyenv/versions/3.7.6/lib/python3.7/site-packages/pyparsing.py:3190: FutureWarning: Possible set intersection at position 3\n",
      "  self.re = re.compile(self.reString)\n",
      "/home/jmayer/.pyenv/versions/3.7.6/lib/python3.7/site-packages/pyparsing.py:3190: FutureWarning: Possible set intersection at position 3\n",
      "  self.re = re.compile(self.reString)\n",
      "/home/jmayer/.pyenv/versions/3.7.6/lib/python3.7/site-packages/pyparsing.py:3190: FutureWarning: Possible set intersection at position 3\n",
      "  self.re = re.compile(self.reString)\n",
      "/home/jmayer/.pyenv/versions/3.7.6/lib/python3.7/site-packages/pyparsing.py:3190: FutureWarning: Possible set intersection at position 3\n",
      "  self.re = re.compile(self.reString)\n",
      "/home/jmayer/.pyenv/versions/3.7.6/lib/python3.7/site-packages/pyparsing.py:3190: FutureWarning: Possible set intersection at position 3\n",
      "  self.re = re.compile(self.reString)\n",
      "/home/jmayer/.pyenv/versions/3.7.6/lib/python3.7/site-packages/pyparsing.py:3190: FutureWarning: Possible set intersection at position 3\n",
      "  self.re = re.compile(self.reString)\n",
      "/home/jmayer/.pyenv/versions/3.7.6/lib/python3.7/site-packages/pyparsing.py:3190: FutureWarning: Possible set intersection at position 3\n",
      "  self.re = re.compile(self.reString)\n",
      "/home/jmayer/.pyenv/versions/3.7.6/lib/python3.7/site-packages/pyparsing.py:3190: FutureWarning: Possible set intersection at position 3\n",
      "  self.re = re.compile(self.reString)\n",
      "/home/jmayer/.pyenv/versions/3.7.6/lib/python3.7/site-packages/pyparsing.py:3190: FutureWarning: Possible set intersection at position 3\n",
      "  self.re = re.compile(self.reString)\n"
     ]
    }
   ],
   "source": [
    "#from autosklearn.experimental.askl2 import AutoSklearn2Classifier\n",
    "from autosklearn.classification import AutoSklearnClassifier\n",
    "\n",
    "cls = AutoSklearnClassifier(n_jobs=10, memory_limit=50000, time_left_for_this_task=36000)\n",
    "cls.fit(x_train, y_train)"
   ]
  },
  {
   "cell_type": "code",
   "execution_count": 9,
   "metadata": {},
   "outputs": [
    {
     "name": "stdout",
     "output_type": "stream",
     "text": [
      "auto-sklearn results:\n",
      "  Dataset name: 7d09d9ec-8275-11eb-bcb8-1866da859056\n",
      "  Metric: accuracy\n",
      "  Best validation score: 0.913777\n",
      "  Number of target algorithm runs: 54\n",
      "  Number of successful target algorithm runs: 36\n",
      "  Number of crashed target algorithm runs: 0\n",
      "  Number of target algorithms that exceeded the time limit: 17\n",
      "  Number of target algorithms that exceeded the memory limit: 1\n",
      "\n"
     ]
    }
   ],
   "source": [
    "print(cls.sprint_statistics())"
   ]
  },
  {
   "cell_type": "code",
   "execution_count": 10,
   "metadata": {},
   "outputs": [
    {
     "name": "stdout",
     "output_type": "stream",
     "text": [
      "0.913545781954203\n"
     ]
    }
   ],
   "source": [
    "x_test = testdata[features].values\n",
    "y_true = testdata[[label]].values.ravel()\n",
    "\n",
    "y_pred = cls.predict(x_test)\n",
    "bac = balanced_accuracy_score(y_true, y_pred)\n",
    "\n",
    "print(bac)"
   ]
  },
  {
   "cell_type": "code",
   "execution_count": 11,
   "metadata": {},
   "outputs": [
    {
     "data": {
      "text/plain": [
       "['models/autosklearn.pkl']"
      ]
     },
     "execution_count": 11,
     "metadata": {},
     "output_type": "execute_result"
    }
   ],
   "source": [
    "#joblib.dump(cls, \"models/autosklearn.pkl\")"
   ]
  },
  {
   "cell_type": "code",
   "execution_count": null,
   "metadata": {},
   "outputs": [],
   "source": []
  }
 ],
 "metadata": {
  "kernelspec": {
   "display_name": "Python 3",
   "language": "python",
   "name": "python3"
  },
  "language_info": {
   "codemirror_mode": {
    "name": "ipython",
    "version": 3
   },
   "file_extension": ".py",
   "mimetype": "text/x-python",
   "name": "python",
   "nbconvert_exporter": "python",
   "pygments_lexer": "ipython3",
   "version": "3.7.6"
  }
 },
 "nbformat": 4,
 "nbformat_minor": 4
}

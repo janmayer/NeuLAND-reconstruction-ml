{
 "cells": [
  {
   "cell_type": "markdown",
   "metadata": {},
   "source": [
    "# Convert ROOT files Clusterfeature"
   ]
  },
  {
   "cell_type": "code",
   "execution_count": 1,
   "metadata": {},
   "outputs": [],
   "source": [
    "distances = [15]\n",
    "doubleplanes = [12,30]\n",
    "energies = [600]\n",
    "erels = [500]\n",
    "neutrons = [1, 2, 3, 4, 5, 6]\n",
    "physicss = [\"inclxx\"]\n",
    "subruns = range(20)"
   ]
  },
  {
   "cell_type": "code",
   "execution_count": 2,
   "metadata": {},
   "outputs": [
    {
     "name": "stdout",
     "output_type": "stream",
     "text": [
      "Welcome to JupyROOT 6.16/00\n"
     ]
    }
   ],
   "source": [
    "import h5py\n",
    "import numpy as np\n",
    "import os\n",
    "import sys\n",
    "import joblib\n",
    "import ROOT\n",
    "\n",
    "sys.path.append(\"..\")\n",
    "from helpers import filename_for\n",
    "\n",
    "ROOT.ROOT.EnableThreadSafety()"
   ]
  },
  {
   "cell_type": "code",
   "execution_count": 3,
   "metadata": {},
   "outputs": [],
   "source": [
    "def extract(cluster, i_event, prim):\n",
    "    return [\n",
    "        i_event,\n",
    "        prim,\n",
    "        cluster.GetT(),\n",
    "        cluster.GetE(),\n",
    "        cluster.GetSize(),\n",
    "        cluster.GetEToF(),\n",
    "        cluster.GetEnergyMoment(),\n",
    "        cluster.GetLastHit().GetT() - cluster.GetFirstHit().GetT(),\n",
    "        cluster.GetMaxEnergyHit().GetE(),\n",
    "        cluster.GetPosition().X(),\n",
    "        cluster.GetPosition().Y(),\n",
    "        cluster.GetPosition().Z(),\n",
    "    ]"
   ]
  },
  {
   "cell_type": "code",
   "execution_count": 4,
   "metadata": {},
   "outputs": [],
   "source": [
    "def get_entries(filename):\n",
    "    # List Comprehension does not work with ROOT\n",
    "    tfile = ROOT.TFile.Open(os.fspath(filename))\n",
    "    ttree = tfile.Get(\"evt\")\n",
    "    num_events = ttree.GetEntries()\n",
    "    num_clusters = 0\n",
    "    for event in ttree:\n",
    "        num_clusters += event.NeulandSecondaryClusters.GetEntries()\n",
    "        num_clusters += event.NeulandPrimaryClusters.GetEntries()\n",
    "    tfile.Close()\n",
    "    return num_events, num_clusters"
   ]
  },
  {
   "cell_type": "code",
   "execution_count": 5,
   "metadata": {},
   "outputs": [],
   "source": [
    "def root2hdf5(distance, doubleplane, energy, erel, neutron, physics, subrun):\n",
    "    inpfile = filename_for(distance, doubleplane, energy, erel, neutron, physics, subrun, \"digi.root\")\n",
    "    outfile = filename_for(distance, doubleplane, energy, erel, neutron, physics, subrun, \"clusterfeature.h5\")\n",
    "\n",
    "    with h5py.File(outfile, \"w\") as h5file:\n",
    "        num_events, num_clusters = get_entries(inpfile)\n",
    "\n",
    "        chunk_size = 100\n",
    "        num_clusterfeatures = 12\n",
    "        clusters = h5file.create_dataset(\n",
    "            \"clusters\",\n",
    "            shape=(num_clusters, num_clusterfeatures),\n",
    "            dtype=np.float32,\n",
    "            chunks=(100, num_clusterfeatures),\n",
    "            compression=\"gzip\",\n",
    "            compression_opts=9,\n",
    "        )\n",
    "        buff = np.zeros((num_clusterfeatures), np.float32)\n",
    "\n",
    "        consolidated = h5file.create_dataset(\"consolidated\", shape=(num_events, 3), dtype=np.int16)\n",
    "        cbuff = np.zeros((3), np.int16)\n",
    "\n",
    "        multiplicity = h5file.create_dataset(\"multiplicity\", (num_events, 3), np.int8)\n",
    "        mbuff = np.zeros((3), np.int8)\n",
    "\n",
    "        i_event = 0\n",
    "        i_cluster = 0\n",
    "        tfile = ROOT.TFile.Open(os.fspath(inpfile))\n",
    "        ttree = tfile.Get(\"evt\")\n",
    "        for event in ttree:\n",
    "            # Consolidated Features\n",
    "            # nHits: Number of hits\n",
    "            cbuff[0] = event.NeulandHits.GetEntries()\n",
    "            # nClus: Number of clusters\n",
    "            cbuff[1] = event.NeulandClusters.GetEntries()\n",
    "            # Edep: Total deposited (detected) energy\n",
    "            cbuff[2] = round(sum([hit.GetE() for hit in event.NeulandHits]))\n",
    "            consolidated[i_event] = cbuff\n",
    "\n",
    "            # Multiplicity\n",
    "            # nPN: Number of incoming primary neutrons\n",
    "            mbuff[0] = event.NeulandPrimaryTracks.GetEntries()\n",
    "            # nPP: Number of primary neutrons with an energy deposition in NeuLAND\n",
    "            mbuff[1] = event.NeulandPrimaryPoints.GetEntries()\n",
    "            # nPH: Number of hits that correspond to a energy deposition of a primary neutron\n",
    "            mbuff[2] = event.NeulandPrimaryHits.GetEntries()\n",
    "            multiplicity[i_event] = mbuff\n",
    "\n",
    "            for cluster in event.NeulandSecondaryClusters:\n",
    "                clusters[i_cluster] = extract(cluster, i_event, 0)\n",
    "                i_cluster += 1\n",
    "\n",
    "            for cluster in event.NeulandPrimaryClusters:\n",
    "                clusters[i_cluster] = extract(cluster, i_event, 1)\n",
    "                i_cluster += 1\n",
    "\n",
    "            i_event += 1\n",
    "        tfile.Close()"
   ]
  },
  {
   "cell_type": "code",
   "execution_count": 6,
   "metadata": {},
   "outputs": [
    {
     "name": "stdout",
     "output_type": "stream",
     "text": [
      "Done\n"
     ]
    }
   ],
   "source": [
    "joblib.Parallel(n_jobs=-1, backend=\"multiprocessing\")(\n",
    "    joblib.delayed(root2hdf5)(\n",
    "        distance=distance,\n",
    "        doubleplane=doubleplane,\n",
    "        energy=energy,\n",
    "        erel=erel,\n",
    "        neutron=neutron,\n",
    "        physics=physics,\n",
    "        subrun=subrun,\n",
    "    )\n",
    "    for distance in distances\n",
    "    for energy in energies\n",
    "    for doubleplane in doubleplanes\n",
    "    for neutron in neutrons\n",
    "    for erel in erels\n",
    "    for physics in physicss\n",
    "    for subrun in subruns\n",
    ")\n",
    "\n",
    "print(\"Done\")"
   ]
  },
  {
   "cell_type": "code",
   "execution_count": null,
   "metadata": {},
   "outputs": [],
   "source": []
  }
 ],
 "metadata": {
  "kernelspec": {
   "display_name": "Python 3",
   "language": "python",
   "name": "python3"
  },
  "language_info": {
   "codemirror_mode": {
    "name": "ipython",
    "version": 3
   },
   "file_extension": ".py",
   "mimetype": "text/x-python",
   "name": "python",
   "nbconvert_exporter": "python",
   "pygments_lexer": "ipython3",
   "version": "3.8.5"
  }
 },
 "nbformat": 4,
 "nbformat_minor": 4
}

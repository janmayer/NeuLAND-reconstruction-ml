{
 "cells": [
  {
   "cell_type": "markdown",
   "metadata": {},
   "source": [
    "# Apply Cluster classification with Scikit-learn classifiers"
   ]
  },
  {
   "cell_type": "code",
   "execution_count": 1,
   "metadata": {},
   "outputs": [],
   "source": [
    "import numpy as np\n",
    "import pandas as pd\n",
    "import time\n",
    "\n",
    "import sklearn\n",
    "from sklearn import *"
   ]
  },
  {
   "cell_type": "markdown",
   "metadata": {},
   "source": [
    "Load ALL the classification models from scikit-learn.\n",
    "Note that some models are very slow to train with large datasets or crash outright, so we give them a reduced number of (shuffled) rows to learn.\n",
    "Note that `n_jobs=1` is used, as parallelism is introduced later."
   ]
  },
  {
   "cell_type": "code",
   "execution_count": 2,
   "metadata": {},
   "outputs": [
    {
     "name": "stdout",
     "output_type": "stream",
     "text": [
      "(97266008, 12)\n",
      "(47689578, 12)\n"
     ]
    }
   ],
   "source": [
    "num_dp = 30\n",
    "\n",
    "data = pd.read_pickle(f\"data/600AMeV_{num_dp}dp.clusters.pkl\").sample(frac=1)\n",
    "print(data.shape)\n",
    "\n",
    "data = data[data[\"E\"] > 5]\n",
    "print(data.shape)\n",
    "\n",
    "msk = np.random.rand(len(data)) < 0.8\n",
    "traindata = data[msk]\n",
    "testdata = data[~msk]"
   ]
  },
  {
   "cell_type": "code",
   "execution_count": 3,
   "metadata": {},
   "outputs": [],
   "source": [
    "features = [\n",
    "    \"T\",\n",
    "    \"E\",\n",
    "    \"Size\",\n",
    "    \"EToF\",\n",
    "    \"EnergyMoment\",\n",
    "    \"TSpawn\",\n",
    "    \"MaxEHit\",\n",
    "    \"X\",\n",
    "    \"Y\",\n",
    "    \"Z\",\n",
    "]\n",
    "label = [\"prim\"]"
   ]
  },
  {
   "cell_type": "code",
   "execution_count": 6,
   "metadata": {},
   "outputs": [
    {
     "name": "stdout",
     "output_type": "stream",
     "text": [
      "2523.9386110305786\n",
      "0.8388404770936562\n"
     ]
    }
   ],
   "source": [
    "def train_mpl():\n",
    "    model = sklearn.neural_network.MLPClassifier()\n",
    "\n",
    "    train_size = 1000000\n",
    "    x_train = traindata[0:train_size][features]\n",
    "    y_train = traindata[0:train_size][label].values.ravel()\n",
    "\n",
    "    x_test = testdata[features]\n",
    "    y_test = testdata[label].values.ravel()\n",
    "\n",
    "    start = time.time()\n",
    "    model.fit(x_train, y_train)\n",
    "    end = time.time()\n",
    "    print(end - start)\n",
    "\n",
    "    y_pred = model.predict(x_test)\n",
    "    y_true = y_test\n",
    "\n",
    "    bac = sklearn.metrics.balanced_accuracy_score(y_true, y_pred)\n",
    "    print(bac)\n",
    "    return model\n",
    "\n",
    "\n",
    "mpl = train_mpl()"
   ]
  },
  {
   "cell_type": "code",
   "execution_count": 7,
   "metadata": {},
   "outputs": [
    {
     "data": {
      "text/plain": [
       "['data/mpl.model']"
      ]
     },
     "execution_count": 7,
     "metadata": {},
     "output_type": "execute_result"
    }
   ],
   "source": [
    "from joblib import dump, load\n",
    "dump(mpl, \"data/mpl.model\")"
   ]
  },
  {
   "cell_type": "code",
   "execution_count": 4,
   "metadata": {},
   "outputs": [
    {
     "name": "stdout",
     "output_type": "stream",
     "text": [
      "47.96573615074158\n",
      "0.8158963200802571\n"
     ]
    }
   ],
   "source": [
    "def train_perceptron():\n",
    "    model = sklearn.linear_model.Perceptron(n_jobs=-1)\n",
    "    scaler = sklearn.preprocessing.Normalizer()\n",
    "\n",
    "    x_train = scaler.fit_transform(traindata[features])\n",
    "    y_train = traindata[label].values.ravel()\n",
    "\n",
    "    x_test = scaler.transform(testdata[features])\n",
    "    y_test = testdata[label].values.ravel()\n",
    "\n",
    "    start = time.time()\n",
    "    model.fit(x_train, y_train)\n",
    "    end = time.time()\n",
    "    print(end - start)\n",
    "\n",
    "    y_pred = model.predict(x_test)\n",
    "    y_true = y_test\n",
    "\n",
    "    bac = sklearn.metrics.balanced_accuracy_score(y_true, y_pred)\n",
    "    print(bac)\n",
    "    return model, scaler\n",
    "\n",
    "\n",
    "perc, perc_scaler = train_perceptron()"
   ]
  },
  {
   "cell_type": "code",
   "execution_count": 5,
   "metadata": {},
   "outputs": [
    {
     "name": "stdout",
     "output_type": "stream",
     "text": [
      "6.493687152862549\n",
      "0.509466228206819\n"
     ]
    }
   ],
   "source": [
    "def train_nearcentroid():\n",
    "    model = sklearn.neighbors.NearestCentroid()\n",
    "    scaler = sklearn.preprocessing.Normalizer()\n",
    "\n",
    "    x_train = scaler.fit_transform(traindata[features])\n",
    "    y_train = traindata[label].values.ravel()\n",
    "\n",
    "    x_test = scaler.transform(testdata[features])\n",
    "    y_test = testdata[label].values.ravel()\n",
    "\n",
    "    start = time.time()\n",
    "    model.fit(x_train, y_train)\n",
    "    end = time.time()\n",
    "    print(end - start)\n",
    "\n",
    "    y_pred = model.predict(x_test)\n",
    "    y_true = y_test\n",
    "\n",
    "    bac = sklearn.metrics.balanced_accuracy_score(y_true, y_pred)\n",
    "    print(bac)\n",
    "    return model, scaler\n",
    "\n",
    "\n",
    "cent, cent_scaler = train_nearcentroid()"
   ]
  },
  {
   "cell_type": "code",
   "execution_count": null,
   "metadata": {},
   "outputs": [],
   "source": []
  }
 ],
 "metadata": {
  "kernelspec": {
   "display_name": "Python 3",
   "language": "python",
   "name": "python3"
  },
  "language_info": {
   "codemirror_mode": {
    "name": "ipython",
    "version": 3
   },
   "file_extension": ".py",
   "mimetype": "text/x-python",
   "name": "python",
   "nbconvert_exporter": "python",
   "pygments_lexer": "ipython3",
   "version": "3.7.4"
  }
 },
 "nbformat": 4,
 "nbformat_minor": 4
}

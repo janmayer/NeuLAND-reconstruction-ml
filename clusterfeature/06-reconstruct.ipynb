{
 "cells": [
  {
   "cell_type": "markdown",
   "metadata": {},
   "source": [
    "# Reconstruction in ROOT"
   ]
  },
  {
   "cell_type": "code",
   "execution_count": 1,
   "metadata": {},
   "outputs": [
    {
     "name": "stdout",
     "output_type": "stream",
     "text": [
      "Welcome to JupyROOT 6.16/00\n"
     ]
    }
   ],
   "source": [
    "import os\n",
    "import sys\n",
    "import ROOT\n",
    "import time\n",
    "\n",
    "sys.path.append(\"..\")\n",
    "from helpers import filename_for"
   ]
  },
  {
   "cell_type": "code",
   "execution_count": 2,
   "metadata": {},
   "outputs": [],
   "source": [
    "def reconstruction(distance, doubleplane, energy, erel, neutron, physics, subrun, overwrite=True):\n",
    "    inpfile = filename_for(distance, doubleplane, energy, erel, neutron, physics, subrun, \"digi.root\")\n",
    "    simfile = filename_for(distance, doubleplane, energy, erel, neutron, physics, subrun, \"simu.root\")\n",
    "    parfile = filename_for(distance, doubleplane, energy, erel, neutron, physics, subrun, \"para.root\")\n",
    "    outfile = filename_for(distance, doubleplane, energy, erel, neutron, physics, subrun, \"test.root\")\n",
    "\n",
    "    if not os.path.isfile(inpfile):\n",
    "        print(f\"Input {inpfile} does not exist\")\n",
    "        return\n",
    "\n",
    "    if os.path.isfile(outfile):\n",
    "        if overwrite:\n",
    "            os.remove(outfile)\n",
    "        else:\n",
    "            print(f\"Output {outfile} exists and overwriting is disabled\")\n",
    "            return\n",
    "\n",
    "    ROOT.ROOT.EnableThreadSafety()\n",
    "    ROOT.FairLogger.GetLogger().SetLogVerbosityLevel(\"LOW\")\n",
    "    ROOT.FairLogger.GetLogger().SetLogScreenLevel(\"WARNING\")\n",
    "\n",
    "    # I/O\n",
    "    run = ROOT.FairRunAna()\n",
    "    ffs = ROOT.FairFileSource(os.fspath(inpfile))\n",
    "    ffs.AddFriend(os.fspath(simfile))\n",
    "    run.SetSource(ffs)\n",
    "    run.SetSink(ROOT.FairRootFileSink(os.fspath(outfile)))\n",
    "\n",
    "    # Connect Runtime Database and Calorimetric Par file\n",
    "    rtdb = run.GetRuntimeDb()\n",
    "    pario = ROOT.FairParRootFileIo(False)\n",
    "    pario.open(os.fspath(parfile))\n",
    "    rtdb.setFirstInput(pario)\n",
    "    rtdb.setOutput(pario)\n",
    "    rtdb.saveOutput()\n",
    "\n",
    "    # Cheating Muliplicity\n",
    "    run.AddTask(ROOT.R3BNeulandMultiplicityCheat(\"NeulandPrimaryHits\", \"NeulandMultiplicityCheat\"))\n",
    "    \n",
    "    # Perfect Reco\n",
    "    run.AddTask(ROOT.R3BNeulandNeutronsCheat(\"NeulandMultiplicityCheat\", \"NeulandPrimaryHits\", \"NeulandNeutronsCheat\"))\n",
    "    run.AddTask(ROOT.R3BNeulandNeutronReconstructionMon(\"NeulandNeutronsCheat\", \"NeulandNeutronReconstructionMonCheat\"))\n",
    "\n",
    "    # RValue\n",
    "    run.AddTask(ROOT.R3BNeulandNeutronsRValue(energy, \"NeulandMultiplicityCheat\", \"NeulandClusters\", \"NeulandNeutronsRValue\"))\n",
    "    run.AddTask(ROOT.R3BNeulandNeutronReconstructionMon(\"NeulandNeutronsRValue\", \"NeulandNeutronReconstructionMonRValue\"))\n",
    "       \n",
    "    # Scikit\n",
    "    run.AddTask(\n",
    "        ROOT.R3BNeulandNeutronsScikit(\n",
    "            \"models/15m_30dp_600AMeV_500keV_4n_AdaBoostClassifier.pkl\", #\"models/15m_30dp_600AMeV_500keV_4n_RandomForestClassifier.pkl\",\n",
    "            \"NeulandMultiplicityCheat\",\n",
    "            \"NeulandClusters\",\n",
    "            \"NeulandNeutronsScikit\",\n",
    "        )\n",
    "    )\n",
    "    run.AddTask(ROOT.R3BNeulandNeutronReconstructionMon(\"NeulandNeutronsScikit\", \"NeulandNeutronReconstructionMonScikit\"))\n",
    "   \n",
    "    \n",
    "    run.Init()\n",
    "    run.Run(0, 0)\n",
    "    run.TerminateRun()"
   ]
  },
  {
   "cell_type": "code",
   "execution_count": 3,
   "metadata": {},
   "outputs": [
    {
     "name": "stdout",
     "output_type": "stream",
     "text": [
      "R3BNeulandNeutronsScikit running TPython with Python version 3.7.6 (default, Mar 10 2020, 10:53:38) [GCC 8.3.1 20190311 (Red Hat 8.3.1-3)]\n",
      "115.27367043495178\n",
      "\n",
      "************************************************************* \n",
      "     initialisation for run id 1587569958\n",
      "************************************************************* \n",
      "-I- FairRunTimeDB::InitContainer() FairGeoParSet\n",
      "Container FairGeoParSet initialized from ROOT file.\n",
      "-I- FairRunTimeDB::InitContainer() FairBaseParSet\n",
      "Container FairBaseParSet initialized from ROOT file.\n",
      "\n",
      "************************************************************* \n",
      "     initialisation for run id 1587569958\n",
      "************************************************************* \n",
      "-I- FairRunTimeDB::InitContainer() FairGeoParSet\n",
      "-I- FairRunTimeDB::InitContainer() FairBaseParSet\n",
      "-I- FairRunTimeDB::InitContainer() R3BFieldPar\n",
      "[ERROR] init() R3BFieldPar not initialized\n",
      "New field at 0, type -1\n",
      "[WARN] FairRootManager::GetOutFile() deprecated. Use separate file to store additional data.\n",
      "[WARN] FairRootManager::GetOutFile() deprecated. Use separate file to store additional data.\n",
      "[WARN] FairRootManager::GetOutFile() deprecated. Use separate file to store additional data.\n",
      "[WARN] FairRootManager::GetOutFile() deprecated. Use separate file to store additional data.\n",
      "[WARN] FairRootManager::GetOutFile() deprecated. Use separate file to store additional data.\n",
      "[WARN] FairRootManager::GetOutFile() deprecated. Use separate file to store additional data.\n"
     ]
    },
    {
     "name": "stderr",
     "output_type": "stream",
     "text": [
      "Info in <TGeoManager::CloseGeometry>: Geometry loaded from file...\n",
      "Info in <TGeoManager::SetTopVolume>: Top volume is cave. Master volume is cave\n",
      "Info in <TGeoNavigator::BuildCache>: --- Maximum geometry depth set to 100\n",
      "Info in <TGeoManager::Voxelize>: Voxelizing...\n",
      "Info in <TGeoManager::CountLevels>: max level = 3, max placements = 3000\n",
      "Info in <TGeoManager::CloseGeometry>: 12004 nodes/ 8 volume UID's in FAIR geometry\n",
      "Info in <TGeoManager::CloseGeometry>: ----------------modeler ready----------------\n",
      "Error in <FairRuntimeDb::initContainers()>: Error occured during initialization\n",
      "-W- FairRunAna::GetField: Unknown field type -1\n",
      "Warning in <TTree::Bronch>: FairEventHeader cannot be split, resetting splitlevel to 0\n",
      "Error in <TFile::mkdir>: An object with name NeulandNeutronReconstructionMonCheat exists already\n",
      "Error in <TFile::mkdir>: An object with name NeulandNeutronReconstructionMonRValue exists already\n",
      "Error in <TFile::mkdir>: An object with name NeulandNeutronReconstructionMonScikit exists already\n"
     ]
    }
   ],
   "source": [
    "start = time.time()\n",
    "reconstruction(15, 30, 600, 500, 4, \"inclxx\", 1)\n",
    "stop = time.time()\n",
    "print(stop - start)"
   ]
  },
  {
   "cell_type": "code",
   "execution_count": 4,
   "metadata": {},
   "outputs": [
    {
     "data": {
      "application/javascript": [
       "var s = document.createElement('script');\n",
       "s.src='https://cdnjs.cloudflare.com/ajax/libs/require.js/2.3.6/require.min.js';\n",
       "document.body.appendChild(s);\n"
      ],
      "text/plain": [
       "<IPython.core.display.Javascript object>"
      ]
     },
     "metadata": {},
     "output_type": "display_data"
    }
   ],
   "source": [
    "%%javascript\n",
    "var s = document.createElement('script');\n",
    "s.src='https://cdnjs.cloudflare.com/ajax/libs/require.js/2.3.6/require.min.js';\n",
    "document.body.appendChild(s);"
   ]
  },
  {
   "cell_type": "code",
   "execution_count": 5,
   "metadata": {},
   "outputs": [
    {
     "name": "stdout",
     "output_type": "stream",
     "text": [
      "8238.0\n",
      "8238.0\n",
      "8238.0\n"
     ]
    },
    {
     "data": {
      "text/html": [
       "\n",
       "<div id=\"root_plot_1\"\n",
       "     style=\"width: 796px; height: 572px\">\n",
       "</div>\n",
       "\n",
       "<script>\n",
       " requirejs.config({\n",
       "     paths: {\n",
       "       'JSRootCore' : 'https://root.cern.ch/js/notebook//scripts/JSRootCore',\n",
       "     }\n",
       "   });\n",
       " require(['JSRootCore'],\n",
       "     function(Core) {\n",
       "       var obj = Core.JSONR_unref({\"_typename\":\"TCanvas\",\"fUniqueID\":0,\"fBits\":53673992,\"fLineColor\":1,\"fLineStyle\":1,\"fLineWidth\":1,\"fFillColor\":0,\"fFillStyle\":1001,\"fLeftMargin\":0.1,\"fRightMargin\":0.1,\"fBottomMargin\":0.1,\"fTopMargin\":0.1,\"fXfile\":2,\"fYfile\":2,\"fAfile\":1,\"fXstat\":0.99,\"fYstat\":0.99,\"fAstat\":2,\"fFrameFillColor\":0,\"fFrameLineColor\":1,\"fFrameFillStyle\":1001,\"fFrameLineStyle\":1,\"fFrameLineWidth\":1,\"fFrameBorderSize\":1,\"fFrameBorderMode\":0,\"fX1\":-625.000046566131,\"fY1\":-32.681252434943,\"fX2\":5625.00004656613,\"fY2\":294.131252434943,\"fXtoAbsPixelk\":79.6000547445299,\"fXtoPixelk\":79.6000547445299,\"fXtoPixel\":0.127359998102188,\"fYtoAbsPixelk\":514.800046590614,\"fYtoPixelk\":514.800046590614,\"fYtoPixel\":-1.75023902536328,\"fUtoAbsPixelk\":5e-5,\"fUtoPixelk\":5e-5,\"fUtoPixel\":796,\"fVtoAbsPixelk\":572.00005,\"fVtoPixelk\":572,\"fVtoPixel\":-572,\"fAbsPixeltoXk\":-625.000046566131,\"fPixeltoXk\":-625.000046566131,\"fPixeltoX\":7.85175891097018,\"fAbsPixeltoYk\":294.131252434943,\"fPixeltoYk\":-32.681252434943,\"fPixeltoY\":-0.571350532989311,\"fXlowNDC\":0,\"fYlowNDC\":0,\"fXUpNDC\":0,\"fYUpNDC\":0,\"fWNDC\":1,\"fHNDC\":1,\"fAbsXlowNDC\":0,\"fAbsYlowNDC\":0,\"fAbsWNDC\":1,\"fAbsHNDC\":1,\"fUxmin\":0,\"fUymin\":0,\"fUxmax\":5000,\"fUymax\":261.45,\"fTheta\":30,\"fPhi\":30,\"fAspectRatio\":0,\"fNumber\":0,\"fTickx\":0,\"fTicky\":0,\"fLogx\":0,\"fLogy\":0,\"fLogz\":0,\"fPadPaint\":0,\"fCrosshair\":0,\"fCrosshairPos\":0,\"fBorderSize\":2,\"fBorderMode\":0,\"fModified\":false,\"fGridx\":false,\"fGridy\":false,\"fAbsCoord\":false,\"fEditable\":true,\"fFixedAspectRatio\":false,\"fPrimitives\":{\"_typename\":\"TList\",\"name\":\"TList\",\"arr\":[{\"_typename\":\"TFrame\",\"fUniqueID\":0,\"fBits\":50331656,\"fLineColor\":1,\"fLineStyle\":1,\"fLineWidth\":1,\"fFillColor\":0,\"fFillStyle\":1001,\"fX1\":0,\"fY1\":0,\"fX2\":5000,\"fY2\":261.45,\"fBorderSize\":1,\"fBorderMode\":0},{\"_typename\":\"TH1D\",\"fUniqueID\":0,\"fBits\":50331656,\"fName\":\"fhErel4\",\"fTitle\":\"fhErel4\",\"fLineColor\":1,\"fLineStyle\":1,\"fLineWidth\":1,\"fFillColor\":0,\"fFillStyle\":1001,\"fMarkerColor\":1,\"fMarkerStyle\":1,\"fMarkerSize\":1,\"fNcells\":502,\"fXaxis\":{\"_typename\":\"TAxis\",\"fUniqueID\":0,\"fBits\":50331648,\"fName\":\"xaxis\",\"fTitle\":\"\",\"fNdivisions\":510,\"fAxisColor\":1,\"fLabelColor\":1,\"fLabelFont\":42,\"fLabelOffset\":0.005,\"fLabelSize\":0.035,\"fTickLength\":0.03,\"fTitleOffset\":1,\"fTitleSize\":0.035,\"fTitleColor\":1,\"fTitleFont\":42,\"fNbins\":500,\"fXmin\":0,\"fXmax\":5000,\"fXbins\":[],\"fFirst\":1,\"fLast\":5000,\"fBits2\":0,\"fTimeDisplay\":false,\"fTimeFormat\":\"\",\"fLabels\":null,\"fModLabs\":null},\"fYaxis\":{\"_typename\":\"TAxis\",\"fUniqueID\":0,\"fBits\":50331648,\"fName\":\"yaxis\",\"fTitle\":\"\",\"fNdivisions\":510,\"fAxisColor\":1,\"fLabelColor\":1,\"fLabelFont\":42,\"fLabelOffset\":0.005,\"fLabelSize\":0.035,\"fTickLength\":0.03,\"fTitleOffset\":0,\"fTitleSize\":0.035,\"fTitleColor\":1,\"fTitleFont\":42,\"fNbins\":1,\"fXmin\":0,\"fXmax\":1,\"fXbins\":[],\"fFirst\":0,\"fLast\":0,\"fBits2\":0,\"fTimeDisplay\":false,\"fTimeFormat\":\"\",\"fLabels\":null,\"fModLabs\":null},\"fZaxis\":{\"_typename\":\"TAxis\",\"fUniqueID\":0,\"fBits\":50331648,\"fName\":\"zaxis\",\"fTitle\":\"\",\"fNdivisions\":510,\"fAxisColor\":1,\"fLabelColor\":1,\"fLabelFont\":42,\"fLabelOffset\":0.005,\"fLabelSize\":0.035,\"fTickLength\":0.03,\"fTitleOffset\":1,\"fTitleSize\":0.035,\"fTitleColor\":1,\"fTitleFont\":42,\"fNbins\":1,\"fXmin\":0,\"fXmax\":1,\"fXbins\":[],\"fFirst\":0,\"fLast\":0,\"fBits2\":0,\"fTimeDisplay\":false,\"fTimeFormat\":\"\",\"fLabels\":null,\"fModLabs\":null},\"fBarOffset\":0,\"fBarWidth\":1000,\"fEntries\":8238,\"fTsumw\":7763,\"fTsumw2\":7763,\"fTsumwx\":6736687.89193599,\"fTsumwx2\":10046559306.175,\"fMaximum\":-1111,\"fMinimum\":-1111,\"fNormFactor\":0,\"fContour\":[],\"fSumw2\":[],\"fOption\":\"\",\"fFunctions\":{\"_typename\":\"TList\",\"name\":\"TList\",\"arr\":[{\"_typename\":\"TPaveStats\",\"fUniqueID\":0,\"fBits\":50331657,\"fLineColor\":1,\"fLineStyle\":1,\"fLineWidth\":1,\"fFillColor\":0,\"fFillStyle\":1001,\"fX1\":4250.00012665987,\"fY1\":220.598440787173,\"fX2\":5500.00016391278,\"fY2\":272.888440397582,\"fX1NDC\":0.780000016093254,\"fY1NDC\":0.775000005960464,\"fX2NDC\":0.980000019073486,\"fY2NDC\":0.935000002384186,\"fBorderSize\":1,\"fInit\":1,\"fShadowColor\":1,\"fCornerRadius\":0,\"fOption\":\"brNDC\",\"fName\":\"stats\",\"fTextAngle\":0,\"fTextSize\":0,\"fTextAlign\":12,\"fTextColor\":1,\"fTextFont\":42,\"fLabel\":\"\",\"fLongest\":18,\"fMargin\":0.05,\"fLines\":{\"_typename\":\"TList\",\"name\":\"TList\",\"arr\":[{\"_typename\":\"TLatex\",\"fUniqueID\":0,\"fBits\":50331648,\"fName\":\"\",\"fTitle\":\"fhErel4\",\"fTextAngle\":0,\"fTextSize\":0.0368,\"fTextAlign\":0,\"fTextColor\":0,\"fTextFont\":0,\"fX\":0,\"fY\":0,\"fLineColor\":1,\"fLineStyle\":1,\"fLineWidth\":2,\"fLimitFactorSize\":3,\"fOriginSize\":0.0368000008165836},{\"_typename\":\"TLatex\",\"fUniqueID\":0,\"fBits\":50331648,\"fName\":\"\",\"fTitle\":\"Entries = 8238   \",\"fTextAngle\":0,\"fTextSize\":0,\"fTextAlign\":0,\"fTextColor\":0,\"fTextFont\":0,\"fX\":0,\"fY\":0,\"fLineColor\":1,\"fLineStyle\":1,\"fLineWidth\":2,\"fLimitFactorSize\":3,\"fOriginSize\":0.04},{\"_typename\":\"TLatex\",\"fUniqueID\":0,\"fBits\":50331648,\"fName\":\"\",\"fTitle\":\"Mean  =  867.8\",\"fTextAngle\":0,\"fTextSize\":0,\"fTextAlign\":0,\"fTextColor\":0,\"fTextFont\":0,\"fX\":0,\"fY\":0,\"fLineColor\":1,\"fLineStyle\":1,\"fLineWidth\":2,\"fLimitFactorSize\":3,\"fOriginSize\":0.04},{\"_typename\":\"TLatex\",\"fUniqueID\":0,\"fBits\":50331648,\"fName\":\"\",\"fTitle\":\"Std Dev   =  735.6\",\"fTextAngle\":0,\"fTextSize\":0,\"fTextAlign\":0,\"fTextColor\":0,\"fTextFont\":0,\"fX\":0,\"fY\":0,\"fLineColor\":1,\"fLineStyle\":1,\"fLineWidth\":2,\"fLimitFactorSize\":3,\"fOriginSize\":0.04}],\"opt\":[\"\",\"\",\"\",\"\"]},\"fOptFit\":0,\"fOptStat\":1111,\"fFitFormat\":\"5.4g\",\"fStatFormat\":\"6.4g\",\"fParent\":{\"$ref\":3}}],\"opt\":[\"brNDC\"]},\"fBufferSize\":0,\"fBuffer\":[],\"fBinStatErrOpt\":0,\"fStatOverflows\":2,\"fArray\":[0,0,0,0,0,0,0,0,0,1,0,1,1,0,0,0,0,3,1,4,5,1,3,4,4,2,6,5,9,11,15,8,15,15,17,25,35,36,34,50,66,75,87,105,121,142,166,140,172,198,199,214,228,249,208,249,198,181,209,196,183,169,138,150,122,111,111,88,99,99,85,77,85,58,48,54,49,57,56,46,41,45,46,36,39,37,29,39,26,34,32,22,23,34,23,29,17,27,17,27,23,26,17,17,16,21,27,17,23,15,21,10,15,14,10,17,19,13,17,6,8,7,15,8,10,14,10,12,12,11,13,13,12,12,10,11,9,11,13,11,13,11,4,8,3,10,7,17,8,6,8,14,11,6,5,5,4,8,9,5,4,11,6,5,7,9,6,6,7,5,5,11,5,3,5,2,6,7,7,3,7,6,4,4,6,5,8,6,4,5,4,6,4,4,6,3,4,3,2,4,4,5,4,4,3,5,3,3,7,3,5,3,6,8,5,5,6,1,5,6,5,4,5,5,3,1,3,6,8,1,6,6,3,6,1,7,2,3,1,4,5,5,4,1,4,1,2,1,3,2,2,3,2,2,2,3,1,3,1,2,2,2,1,5,0,2,2,2,3,2,3,5,0,2,1,0,5,3,2,5,4,0,1,7,1,4,2,0,2,2,5,1,4,2,2,3,3,1,1,2,5,2,2,3,1,1,2,1,1,3,2,2,1,2,0,3,2,6,3,2,2,4,2,0,3,1,1,3,3,2,1,1,0,2,2,1,2,3,2,1,2,2,2,1,1,0,4,2,4,1,7,0,3,1,2,0,6,2,1,2,2,2,2,0,3,1,2,1,1,2,1,2,2,1,4,3,0,3,2,1,1,2,1,2,1,2,1,2,1,1,3,1,1,1,1,0,3,2,1,1,1,2,2,1,0,0,2,2,0,2,1,1,3,0,2,4,1,1,2,1,2,0,3,2,0,2,0,1,2,1,0,0,0,1,2,3,0,0,1,2,0,1,1,2,0,1,0,4,1,0,1,2,0,0,4,0,0,2,1,2,0,5,1,1,0,0,1,0,0,1,0,1,0,0,0,0,0,1,1,0,0,1,0,1,0,1,0,0,0,1,0,1,2,5,1,0,1,0,0,0,0,475]},{\"_typename\":\"TH1D\",\"fUniqueID\":0,\"fBits\":50331656,\"fName\":\"fhErel4\",\"fTitle\":\"fhErel4\",\"fLineColor\":2,\"fLineStyle\":1,\"fLineWidth\":1,\"fFillColor\":0,\"fFillStyle\":1001,\"fMarkerColor\":1,\"fMarkerStyle\":1,\"fMarkerSize\":1,\"fNcells\":502,\"fXaxis\":{\"_typename\":\"TAxis\",\"fUniqueID\":0,\"fBits\":50331648,\"fName\":\"xaxis\",\"fTitle\":\"\",\"fNdivisions\":510,\"fAxisColor\":1,\"fLabelColor\":1,\"fLabelFont\":42,\"fLabelOffset\":0.005,\"fLabelSize\":0.035,\"fTickLength\":0.03,\"fTitleOffset\":1,\"fTitleSize\":0.035,\"fTitleColor\":1,\"fTitleFont\":42,\"fNbins\":500,\"fXmin\":0,\"fXmax\":5000,\"fXbins\":[],\"fFirst\":1,\"fLast\":5000,\"fBits2\":0,\"fTimeDisplay\":false,\"fTimeFormat\":\"\",\"fLabels\":null,\"fModLabs\":null},\"fYaxis\":{\"_typename\":\"TAxis\",\"fUniqueID\":0,\"fBits\":50331648,\"fName\":\"yaxis\",\"fTitle\":\"\",\"fNdivisions\":510,\"fAxisColor\":1,\"fLabelColor\":1,\"fLabelFont\":42,\"fLabelOffset\":0.005,\"fLabelSize\":0.035,\"fTickLength\":0.03,\"fTitleOffset\":0,\"fTitleSize\":0.035,\"fTitleColor\":1,\"fTitleFont\":42,\"fNbins\":1,\"fXmin\":0,\"fXmax\":1,\"fXbins\":[],\"fFirst\":0,\"fLast\":0,\"fBits2\":0,\"fTimeDisplay\":false,\"fTimeFormat\":\"\",\"fLabels\":null,\"fModLabs\":null},\"fZaxis\":{\"_typename\":\"TAxis\",\"fUniqueID\":0,\"fBits\":50331648,\"fName\":\"zaxis\",\"fTitle\":\"\",\"fNdivisions\":510,\"fAxisColor\":1,\"fLabelColor\":1,\"fLabelFont\":42,\"fLabelOffset\":0.005,\"fLabelSize\":0.035,\"fTickLength\":0.03,\"fTitleOffset\":1,\"fTitleSize\":0.035,\"fTitleColor\":1,\"fTitleFont\":42,\"fNbins\":1,\"fXmin\":0,\"fXmax\":1,\"fXbins\":[],\"fFirst\":0,\"fLast\":0,\"fBits2\":0,\"fTimeDisplay\":false,\"fTimeFormat\":\"\",\"fLabels\":null,\"fModLabs\":null},\"fBarOffset\":0,\"fBarWidth\":1000,\"fEntries\":8238,\"fTsumw\":8110,\"fTsumw2\":8110,\"fTsumwx\":7056234.53597964,\"fTsumwx2\":9415894755.816,\"fMaximum\":-1111,\"fMinimum\":-1111,\"fNormFactor\":0,\"fContour\":[],\"fSumw2\":[],\"fOption\":\"\",\"fFunctions\":{\"_typename\":\"TList\",\"name\":\"TList\",\"arr\":[],\"opt\":[]},\"fBufferSize\":0,\"fBuffer\":[],\"fBinStatErrOpt\":0,\"fStatOverflows\":2,\"fArray\":[0,0,0,0,0,0,0,0,1,0,2,1,2,1,2,1,3,5,5,11,6,6,13,7,17,10,10,16,19,18,27,21,25,28,42,36,54,39,56,58,67,64,85,73,97,96,115,114,131,134,128,134,152,161,145,154,156,155,160,141,147,153,139,124,124,110,119,115,95,113,113,104,86,93,86,77,75,92,79,73,72,82,76,62,56,58,66,62,56,52,57,43,47,44,49,47,55,40,39,47,40,30,29,33,33,24,38,34,37,34,23,26,34,22,24,33,24,25,24,12,22,30,21,15,14,19,16,14,11,17,10,23,15,13,18,18,20,20,11,10,13,17,16,16,8,18,6,8,15,9,8,11,11,6,14,13,13,5,11,8,11,10,14,9,4,12,9,6,7,5,14,12,9,8,8,6,4,11,9,9,2,9,5,8,7,9,4,7,6,4,5,3,6,6,6,5,3,2,3,4,8,4,5,2,2,7,2,5,2,4,5,4,3,3,8,4,5,6,2,2,3,5,5,3,7,4,7,3,2,4,4,1,3,2,2,2,2,5,1,1,6,3,3,0,2,3,3,1,6,3,3,1,1,2,4,4,2,4,2,0,0,3,2,3,4,2,2,1,2,5,2,1,2,3,3,3,2,3,1,1,2,0,3,5,1,2,2,2,0,2,1,1,3,1,1,2,1,3,0,1,1,0,2,2,4,0,0,0,0,2,2,1,3,2,3,2,2,1,3,3,3,1,0,1,0,0,0,0,0,0,1,0,1,2,1,0,1,1,2,0,1,1,1,2,2,1,1,0,1,2,0,0,0,0,1,1,1,1,1,1,1,0,1,2,3,1,1,0,1,2,0,3,1,0,1,1,1,1,2,1,1,1,2,3,1,2,1,1,0,1,2,1,1,0,1,0,0,0,1,1,1,1,0,1,1,0,0,0,1,1,2,1,2,1,2,1,0,2,0,1,1,0,0,1,0,2,1,1,0,1,0,0,1,2,2,1,0,0,0,1,2,0,1,3,1,1,1,1,0,0,0,0,1,0,0,1,0,1,0,0,0,0,0,0,0,0,0,1,2,0,0,2,1,0,1,0,0,0,0,2,0,0,0,1,1,1,2,1,1,0,2,1,2,0,0,0,0,0,0,2,0,128]},{\"_typename\":\"TH1D\",\"fUniqueID\":0,\"fBits\":50331656,\"fName\":\"fhErel4\",\"fTitle\":\"fhErel4\",\"fLineColor\":3,\"fLineStyle\":1,\"fLineWidth\":1,\"fFillColor\":0,\"fFillStyle\":1001,\"fMarkerColor\":1,\"fMarkerStyle\":1,\"fMarkerSize\":1,\"fNcells\":502,\"fXaxis\":{\"_typename\":\"TAxis\",\"fUniqueID\":0,\"fBits\":50331648,\"fName\":\"xaxis\",\"fTitle\":\"\",\"fNdivisions\":510,\"fAxisColor\":1,\"fLabelColor\":1,\"fLabelFont\":42,\"fLabelOffset\":0.005,\"fLabelSize\":0.035,\"fTickLength\":0.03,\"fTitleOffset\":1,\"fTitleSize\":0.035,\"fTitleColor\":1,\"fTitleFont\":42,\"fNbins\":500,\"fXmin\":0,\"fXmax\":5000,\"fXbins\":[],\"fFirst\":1,\"fLast\":5000,\"fBits2\":0,\"fTimeDisplay\":false,\"fTimeFormat\":\"\",\"fLabels\":null,\"fModLabs\":null},\"fYaxis\":{\"_typename\":\"TAxis\",\"fUniqueID\":0,\"fBits\":50331648,\"fName\":\"yaxis\",\"fTitle\":\"\",\"fNdivisions\":510,\"fAxisColor\":1,\"fLabelColor\":1,\"fLabelFont\":42,\"fLabelOffset\":0.005,\"fLabelSize\":0.035,\"fTickLength\":0.03,\"fTitleOffset\":0,\"fTitleSize\":0.035,\"fTitleColor\":1,\"fTitleFont\":42,\"fNbins\":1,\"fXmin\":0,\"fXmax\":1,\"fXbins\":[],\"fFirst\":0,\"fLast\":0,\"fBits2\":0,\"fTimeDisplay\":false,\"fTimeFormat\":\"\",\"fLabels\":null,\"fModLabs\":null},\"fZaxis\":{\"_typename\":\"TAxis\",\"fUniqueID\":0,\"fBits\":50331648,\"fName\":\"zaxis\",\"fTitle\":\"\",\"fNdivisions\":510,\"fAxisColor\":1,\"fLabelColor\":1,\"fLabelFont\":42,\"fLabelOffset\":0.005,\"fLabelSize\":0.035,\"fTickLength\":0.03,\"fTitleOffset\":1,\"fTitleSize\":0.035,\"fTitleColor\":1,\"fTitleFont\":42,\"fNbins\":1,\"fXmin\":0,\"fXmax\":1,\"fXbins\":[],\"fFirst\":0,\"fLast\":0,\"fBits2\":0,\"fTimeDisplay\":false,\"fTimeFormat\":\"\",\"fLabels\":null,\"fModLabs\":null},\"fBarOffset\":0,\"fBarWidth\":1000,\"fEntries\":8238,\"fTsumw\":7823,\"fTsumw2\":7823,\"fTsumwx\":9785197.27067471,\"fTsumwx2\":19495957956.1565,\"fMaximum\":-1111,\"fMinimum\":-1111,\"fNormFactor\":0,\"fContour\":[],\"fSumw2\":[],\"fOption\":\"\",\"fFunctions\":{\"_typename\":\"TList\",\"name\":\"TList\",\"arr\":[],\"opt\":[]},\"fBufferSize\":0,\"fBuffer\":[],\"fBinStatErrOpt\":0,\"fStatOverflows\":2,\"fArray\":[0,0,0,0,0,0,0,0,0,1,2,0,2,2,3,2,4,0,4,6,3,7,5,4,10,5,8,11,8,11,14,17,15,21,25,28,30,33,33,36,41,45,44,46,60,62,78,80,89,80,81,97,91,104,97,105,99,100,103,98,99,99,89,73,87,75,64,63,81,76,88,72,53,60,66,59,53,65,60,57,49,47,55,49,63,52,57,47,39,53,49,54,38,44,44,49,45,45,33,46,31,39,37,44,42,31,47,40,31,33,22,40,46,24,17,38,33,36,29,25,34,30,36,31,26,30,26,21,29,23,28,24,25,24,33,24,24,23,25,13,16,22,27,22,14,26,12,15,20,26,20,21,25,20,13,17,19,18,17,26,20,14,18,7,15,19,18,10,12,11,16,12,10,13,13,17,12,15,13,18,15,12,18,21,21,16,4,8,13,11,8,8,10,17,10,10,12,7,12,12,9,7,8,5,11,11,6,10,8,12,8,9,9,13,18,6,6,10,12,5,15,10,13,4,10,13,15,5,9,10,5,4,7,7,9,7,11,6,9,13,7,5,7,10,5,5,6,7,8,4,14,9,14,4,8,8,8,6,13,2,5,0,9,7,11,8,8,8,6,5,6,5,10,5,6,4,4,4,3,5,5,3,2,9,6,7,7,3,4,4,4,5,6,3,4,6,4,4,7,4,4,1,8,3,4,6,2,4,6,8,5,2,4,5,7,5,5,4,5,4,7,3,6,2,2,3,2,5,1,3,1,2,2,6,5,3,3,5,5,5,6,3,3,11,6,3,3,3,5,5,2,3,3,7,0,5,2,7,2,5,6,3,1,4,8,3,2,7,3,2,7,4,3,2,8,4,3,6,4,2,2,4,3,2,4,2,3,2,0,4,2,2,2,3,0,3,1,3,5,3,4,8,4,1,3,4,5,3,3,1,3,3,3,4,2,2,2,4,2,2,3,2,1,3,2,2,4,2,2,6,3,3,0,1,2,3,1,1,4,3,3,1,3,2,5,1,2,2,0,2,2,2,1,1,5,0,2,2,2,2,3,4,1,3,1,2,1,6,5,1,0,4,0,1,4,1,1,3,2,3,2,0,1,0,2,2,2,0,0,3,1,3,4,0,2,0,1,1,3,3,1,415]},{\"_typename\":\"TPaveText\",\"fUniqueID\":0,\"fBits\":50331657,\"fLineColor\":1,\"fLineStyle\":1,\"fLineWidth\":1,\"fFillColor\":0,\"fFillStyle\":0,\"fX1\":2052.76381243114,\"fY1\":274.52250343327,\"fX2\":2947.23618756886,\"fY2\":292.497191468957,\"fX1NDC\":0.428442211055276,\"fY1NDC\":0.940000003948808,\"fX2NDC\":0.571557788944724,\"fY2NDC\":0.995000004768372,\"fBorderSize\":0,\"fInit\":1,\"fShadowColor\":1,\"fCornerRadius\":0,\"fOption\":\"blNDC\",\"fName\":\"title\",\"fTextAngle\":0,\"fTextSize\":0,\"fTextAlign\":22,\"fTextColor\":1,\"fTextFont\":42,\"fLabel\":\"\",\"fLongest\":7,\"fMargin\":0.05,\"fLines\":{\"_typename\":\"TList\",\"name\":\"TList\",\"arr\":[{\"_typename\":\"TLatex\",\"fUniqueID\":0,\"fBits\":50331648,\"fName\":\"\",\"fTitle\":\"fhErel4\",\"fTextAngle\":0,\"fTextSize\":0,\"fTextAlign\":0,\"fTextColor\":0,\"fTextFont\":0,\"fX\":0,\"fY\":0,\"fLineColor\":1,\"fLineStyle\":1,\"fLineWidth\":2,\"fLimitFactorSize\":3,\"fOriginSize\":0.0467500016093254}],\"opt\":[\"\"]}}],\"opt\":[\"\",\"\",\"same\",\"same\",\"blNDC\"]},\"fExecs\":null,\"fName\":\"c1\",\"fTitle\":\"c1\",\"fNumPaletteColor\":0,\"fNextPaletteColor\":0,\"fDISPLAY\":\"$DISPLAY\",\"fDoubleBuffer\":0,\"fRetained\":true,\"fXsizeUser\":0,\"fYsizeUser\":0,\"fXsizeReal\":20,\"fYsizeReal\":15,\"fWindowTopX\":0,\"fWindowTopY\":0,\"fWindowWidth\":0,\"fWindowHeight\":0,\"fCw\":796,\"fCh\":572,\"fCatt\":{\"_typename\":\"TAttCanvas\",\"fXBetween\":2,\"fYBetween\":2,\"fTitleFromTop\":1.2,\"fXdate\":0.2,\"fYdate\":0.3,\"fAdate\":1},\"kMoveOpaque\":true,\"kResizeOpaque\":true,\"fHighLightColor\":2,\"fBatch\":true,\"kShowEventStatus\":false,\"kAutoExec\":true,\"kMenuBar\":true});\n",
       "       Core.draw(\"root_plot_1\", obj, \"\");\n",
       "     }\n",
       " );\n",
       "</script>\n"
      ],
      "text/plain": [
       "<IPython.core.display.HTML object>"
      ]
     },
     "metadata": {},
     "output_type": "display_data"
    }
   ],
   "source": [
    "%jsroot on\n",
    "file = filename_for(15, 30, 600, 500, 4, \"inclxx\", 1, \"test.root\")\n",
    "tfile = ROOT.TFile.Open(os.fspath(file))\n",
    "\n",
    "c1 = ROOT.TCanvas(\"c1\", \"c1\", 800, 600)\n",
    "\n",
    "h1 = tfile.Get(\"NeulandNeutronReconstructionMonCheat/fhErel4\").Clone()\n",
    "print(h1.GetEntries())\n",
    "h1.Rebin(10)\n",
    "h1.SetLineColor(1)\n",
    "\n",
    "h2 = tfile.Get(\"NeulandNeutronReconstructionMonScikit/fhErel4\").Clone()\n",
    "print(h2.GetEntries())\n",
    "h2.Rebin(10)\n",
    "h2.SetLineColor(2)\n",
    "\n",
    "h3 = tfile.Get(\"NeulandNeutronReconstructionMonRValue/fhErel4\").Clone()\n",
    "print(h3.GetEntries())\n",
    "h3.Rebin(10)\n",
    "h3.SetLineColor(3)\n",
    "\n",
    "h1.Draw(\"\")\n",
    "h2.Draw(\"same\")\n",
    "h3.Draw(\"same\")\n",
    "\n",
    "c1.Draw()"
   ]
  },
  {
   "cell_type": "code",
   "execution_count": null,
   "metadata": {},
   "outputs": [],
   "source": []
  }
 ],
 "metadata": {
  "kernelspec": {
   "display_name": "Python 3",
   "language": "python",
   "name": "python3"
  },
  "language_info": {
   "codemirror_mode": {
    "name": "ipython",
    "version": 3
   },
   "file_extension": ".py",
   "mimetype": "text/x-python",
   "name": "python",
   "nbconvert_exporter": "python",
   "pygments_lexer": "ipython3",
   "version": "3.7.6"
  }
 },
 "nbformat": 4,
 "nbformat_minor": 4
}

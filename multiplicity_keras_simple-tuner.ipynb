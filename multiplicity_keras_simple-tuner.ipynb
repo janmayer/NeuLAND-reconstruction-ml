{
 "cells": [
  {
   "cell_type": "markdown",
   "metadata": {},
   "source": [
    "# Super Simple Keras model on TriFeature for multiplicity determination"
   ]
  },
  {
   "cell_type": "code",
   "execution_count": 1,
   "metadata": {},
   "outputs": [],
   "source": [
    "# For this network, GPU is slower than CPU -> Disable CUDA\n",
    "import os\n",
    "\n",
    "os.environ[\"CUDA_DEVICE_ORDER\"] = \"PCI_BUS_ID\"\n",
    "os.environ[\"CUDA_VISIBLE_DEVICES\"] = \"-1\""
   ]
  },
  {
   "cell_type": "code",
   "execution_count": 2,
   "metadata": {},
   "outputs": [
    {
     "name": "stdout",
     "output_type": "stream",
     "text": [
      "tensorflow 2.1.0\n",
      "keras 2.2.4-tf\n",
      "keras-tuner 1.0.1\n"
     ]
    }
   ],
   "source": [
    "import numpy as np\n",
    "import pandas as pd\n",
    "import tensorflow\n",
    "from tensorflow import keras\n",
    "import kerastuner\n",
    "\n",
    "print(\"tensorflow\", tensorflow.__version__)\n",
    "print(\"keras\", keras.__version__)\n",
    "print(\"keras-tuner\", kerastuner.__version__)"
   ]
  },
  {
   "cell_type": "code",
   "execution_count": 3,
   "metadata": {},
   "outputs": [],
   "source": [
    "num_dp = 30\n",
    "max_neutrons = 5\n",
    "label = \"nPH\"\n",
    "\n",
    "traindata = pd.read_pickle(f\"data/training_600AMeV_{num_dp}dp.pkl\").sample(frac=1)\n",
    "x_train = traindata[[\"nHits\", \"nClus\", \"Edep\"]].values\n",
    "y_train = keras.utils.to_categorical(traindata[[label]].values.ravel())\n",
    "\n",
    "valdata = pd.read_pickle(f\"data/validation_600AMeV_{num_dp}dp.pkl\").sample(frac=1)\n",
    "x_val = valdata[[\"nHits\", \"nClus\", \"Edep\"]].values\n",
    "y_val = keras.utils.to_categorical(valdata[[label]].values.ravel());"
   ]
  },
  {
   "cell_type": "code",
   "execution_count": 4,
   "metadata": {},
   "outputs": [],
   "source": [
    "def build_model(hp):\n",
    "    model = keras.models.Sequential()\n",
    "    model.add(\n",
    "        keras.layers.Dense(\n",
    "            units=hp.Int(\"unitsl1\", min_value=10, max_value=500, step=30),\n",
    "            activation=\"relu\",\n",
    "            input_shape=(3,),\n",
    "        )\n",
    "    )\n",
    "    model.add(\n",
    "        keras.layers.Dense(\n",
    "            units=hp.Int(\"unitsl2\", min_value=5, max_value=50, step=5),\n",
    "            activation=\"relu\",\n",
    "        )\n",
    "    )\n",
    "    model.add(keras.layers.Dense(units=max_neutrons + 1, activation=\"softmax\"))\n",
    "\n",
    "    optimizer = keras.optimizers.Adagrad(\n",
    "        hp.Choice(\"learning_rate\", values=[1e-2, 1e-3, 1e-4])\n",
    "    )\n",
    "    loss = keras.losses.categorical_crossentropy\n",
    "    model.compile(loss=loss, optimizer=optimizer, metrics=[\"acc\"])\n",
    "    return model"
   ]
  },
  {
   "cell_type": "code",
   "execution_count": 5,
   "metadata": {},
   "outputs": [
    {
     "data": {
      "text/html": [
       "<span style=\"color:#4527A0\"><h1 style=\"font-size:18px\">Search space summary</h1></span>"
      ],
      "text/plain": [
       "<IPython.core.display.HTML object>"
      ]
     },
     "metadata": {},
     "output_type": "display_data"
    },
    {
     "data": {
      "text/html": [
       "<span style=\"color:cyan\"> |-Default search space size: 3</span>"
      ],
      "text/plain": [
       "<IPython.core.display.HTML object>"
      ]
     },
     "metadata": {},
     "output_type": "display_data"
    },
    {
     "data": {
      "text/html": [
       "<span style=\"color:#7E57C2\"><h2 style=\"font-size:16px\">unitsl1 (Int)</h2></span>"
      ],
      "text/plain": [
       "<IPython.core.display.HTML object>"
      ]
     },
     "metadata": {},
     "output_type": "display_data"
    },
    {
     "data": {
      "text/html": [
       "<span style=\"color:cyan\"> |-default: None</span>"
      ],
      "text/plain": [
       "<IPython.core.display.HTML object>"
      ]
     },
     "metadata": {},
     "output_type": "display_data"
    },
    {
     "data": {
      "text/html": [
       "<span style=\"color:blue\"> |-max_value: 500</span>"
      ],
      "text/plain": [
       "<IPython.core.display.HTML object>"
      ]
     },
     "metadata": {},
     "output_type": "display_data"
    },
    {
     "data": {
      "text/html": [
       "<span style=\"color:cyan\"> |-min_value: 10</span>"
      ],
      "text/plain": [
       "<IPython.core.display.HTML object>"
      ]
     },
     "metadata": {},
     "output_type": "display_data"
    },
    {
     "data": {
      "text/html": [
       "<span style=\"color:blue\"> |-sampling: None</span>"
      ],
      "text/plain": [
       "<IPython.core.display.HTML object>"
      ]
     },
     "metadata": {},
     "output_type": "display_data"
    },
    {
     "data": {
      "text/html": [
       "<span style=\"color:cyan\"> |-step: 30</span>"
      ],
      "text/plain": [
       "<IPython.core.display.HTML object>"
      ]
     },
     "metadata": {},
     "output_type": "display_data"
    },
    {
     "data": {
      "text/html": [
       "<span style=\"color:#7E57C2\"><h2 style=\"font-size:16px\">unitsl2 (Int)</h2></span>"
      ],
      "text/plain": [
       "<IPython.core.display.HTML object>"
      ]
     },
     "metadata": {},
     "output_type": "display_data"
    },
    {
     "data": {
      "text/html": [
       "<span style=\"color:cyan\"> |-default: None</span>"
      ],
      "text/plain": [
       "<IPython.core.display.HTML object>"
      ]
     },
     "metadata": {},
     "output_type": "display_data"
    },
    {
     "data": {
      "text/html": [
       "<span style=\"color:blue\"> |-max_value: 50</span>"
      ],
      "text/plain": [
       "<IPython.core.display.HTML object>"
      ]
     },
     "metadata": {},
     "output_type": "display_data"
    },
    {
     "data": {
      "text/html": [
       "<span style=\"color:cyan\"> |-min_value: 5</span>"
      ],
      "text/plain": [
       "<IPython.core.display.HTML object>"
      ]
     },
     "metadata": {},
     "output_type": "display_data"
    },
    {
     "data": {
      "text/html": [
       "<span style=\"color:blue\"> |-sampling: None</span>"
      ],
      "text/plain": [
       "<IPython.core.display.HTML object>"
      ]
     },
     "metadata": {},
     "output_type": "display_data"
    },
    {
     "data": {
      "text/html": [
       "<span style=\"color:cyan\"> |-step: 5</span>"
      ],
      "text/plain": [
       "<IPython.core.display.HTML object>"
      ]
     },
     "metadata": {},
     "output_type": "display_data"
    },
    {
     "data": {
      "text/html": [
       "<span style=\"color:#7E57C2\"><h2 style=\"font-size:16px\">learning_rate (Choice)</h2></span>"
      ],
      "text/plain": [
       "<IPython.core.display.HTML object>"
      ]
     },
     "metadata": {},
     "output_type": "display_data"
    },
    {
     "data": {
      "text/html": [
       "<span style=\"color:cyan\"> |-default: 0.01</span>"
      ],
      "text/plain": [
       "<IPython.core.display.HTML object>"
      ]
     },
     "metadata": {},
     "output_type": "display_data"
    },
    {
     "data": {
      "text/html": [
       "<span style=\"color:blue\"> |-ordered: True</span>"
      ],
      "text/plain": [
       "<IPython.core.display.HTML object>"
      ]
     },
     "metadata": {},
     "output_type": "display_data"
    },
    {
     "data": {
      "text/html": [
       "<span style=\"color:cyan\"> |-values: [0.01, 0.001, 0.0001]</span>"
      ],
      "text/plain": [
       "<IPython.core.display.HTML object>"
      ]
     },
     "metadata": {},
     "output_type": "display_data"
    }
   ],
   "source": [
    "tuner = kerastuner.tuners.RandomSearch(\n",
    "    build_model,\n",
    "    objective=\"val_acc\",\n",
    "    max_trials=5,\n",
    "    executions_per_trial=3,\n",
    "    directory=\"tmp-simple2\",\n",
    "    project_name=\"simple\",\n",
    ")\n",
    "tuner.search_space_summary()"
   ]
  },
  {
   "cell_type": "code",
   "execution_count": 6,
   "metadata": {},
   "outputs": [
    {
     "name": "stdout",
     "output_type": "stream",
     "text": [
      "Train on 4999569 samples, validate on 50000 samples\n",
      "Epoch 1/20\n",
      "4999569/4999569 - 14s - loss: 1.2789 - acc: 0.5105 - val_loss: 0.8855 - val_acc: 0.6992\n",
      "Epoch 2/20\n",
      "4999569/4999569 - 13s - loss: 0.7908 - acc: 0.6925 - val_loss: 0.7471 - val_acc: 0.7076\n",
      "Epoch 3/20\n",
      "4999569/4999569 - 13s - loss: 0.7060 - acc: 0.7121 - val_loss: 0.6906 - val_acc: 0.6999\n",
      "Epoch 4/20\n",
      "4999569/4999569 - 14s - loss: 0.6749 - acc: 0.7166 - val_loss: 0.6640 - val_acc: 0.7206\n",
      "Epoch 5/20\n",
      "4999569/4999569 - 13s - loss: 0.6610 - acc: 0.7189 - val_loss: 0.6554 - val_acc: 0.7187\n",
      "Epoch 6/20\n",
      "4999569/4999569 - 14s - loss: 0.6538 - acc: 0.7201 - val_loss: 0.6496 - val_acc: 0.7242\n",
      "Epoch 7/20\n",
      "4999569/4999569 - 14s - loss: 0.6495 - acc: 0.7209 - val_loss: 0.6496 - val_acc: 0.7119\n",
      "Epoch 8/20\n",
      "4999569/4999569 - 14s - loss: 0.6464 - acc: 0.7216 - val_loss: 0.6440 - val_acc: 0.7204\n",
      "Epoch 9/20\n",
      "4999569/4999569 - 14s - loss: 0.6441 - acc: 0.7222 - val_loss: 0.6426 - val_acc: 0.7266\n",
      "Epoch 10/20\n",
      "4999569/4999569 - 14s - loss: 0.6424 - acc: 0.7227 - val_loss: 0.6420 - val_acc: 0.7233\n",
      "Epoch 11/20\n",
      "4999569/4999569 - 13s - loss: 0.6411 - acc: 0.7231 - val_loss: 0.6393 - val_acc: 0.7222\n",
      "Epoch 12/20\n",
      "4999569/4999569 - 14s - loss: 0.6401 - acc: 0.7235 - val_loss: 0.6490 - val_acc: 0.7074\n",
      "Epoch 13/20\n",
      "4999569/4999569 - 14s - loss: 0.6395 - acc: 0.7237 - val_loss: 0.6380 - val_acc: 0.7258\n",
      "Epoch 14/20\n",
      "4999569/4999569 - 13s - loss: 0.6388 - acc: 0.7239 - val_loss: 0.6374 - val_acc: 0.7253\n",
      "Epoch 15/20\n",
      "4999569/4999569 - 14s - loss: 0.6384 - acc: 0.7240 - val_loss: 0.6376 - val_acc: 0.7239\n",
      "Epoch 16/20\n",
      "4999569/4999569 - 14s - loss: 0.6380 - acc: 0.7242 - val_loss: 0.6401 - val_acc: 0.7273\n",
      "Epoch 17/20\n",
      "4999569/4999569 - 13s - loss: 0.6376 - acc: 0.7244 - val_loss: 0.6372 - val_acc: 0.7268\n",
      "Epoch 18/20\n",
      "4999569/4999569 - 14s - loss: 0.6373 - acc: 0.7244 - val_loss: 0.6370 - val_acc: 0.7278\n",
      "Epoch 19/20\n",
      "4999569/4999569 - 13s - loss: 0.6371 - acc: 0.7245 - val_loss: 0.6370 - val_acc: 0.7258\n",
      "Epoch 20/20\n",
      "4999569/4999569 - 13s - loss: 0.6369 - acc: 0.7246 - val_loss: 0.6373 - val_acc: 0.7201\n",
      "Train on 4999569 samples, validate on 50000 samples\n",
      "Epoch 1/20\n",
      "4999569/4999569 - 14s - loss: 1.6603 - acc: 0.4010 - val_loss: 1.0765 - val_acc: 0.5206\n",
      "Epoch 2/20\n",
      "4999569/4999569 - 13s - loss: 0.9883 - acc: 0.6118 - val_loss: 0.9112 - val_acc: 0.6206\n",
      "Epoch 3/20\n",
      "4999569/4999569 - 14s - loss: 0.8547 - acc: 0.6675 - val_loss: 0.8018 - val_acc: 0.6678\n",
      "Epoch 4/20\n",
      "4999569/4999569 - 13s - loss: 0.7732 - acc: 0.6927 - val_loss: 0.7474 - val_acc: 0.6794\n",
      "Epoch 5/20\n",
      "4999569/4999569 - 14s - loss: 0.7300 - acc: 0.7047 - val_loss: 0.7113 - val_acc: 0.7095\n",
      "Epoch 6/20\n",
      "4999569/4999569 - 14s - loss: 0.7043 - acc: 0.7109 - val_loss: 0.7131 - val_acc: 0.6717\n",
      "Epoch 7/20\n",
      "4999569/4999569 - 14s - loss: 0.6878 - acc: 0.7142 - val_loss: 0.7026 - val_acc: 0.6762\n",
      "Epoch 8/20\n",
      "4999569/4999569 - 14s - loss: 0.6763 - acc: 0.7171 - val_loss: 0.6797 - val_acc: 0.7190\n",
      "Epoch 9/20\n",
      "4999569/4999569 - 14s - loss: 0.6685 - acc: 0.7185 - val_loss: 0.6615 - val_acc: 0.7192\n",
      "Epoch 10/20\n",
      "4999569/4999569 - 14s - loss: 0.6627 - acc: 0.7198 - val_loss: 0.6613 - val_acc: 0.7138\n",
      "Epoch 11/20\n",
      "4999569/4999569 - 14s - loss: 0.6582 - acc: 0.7209 - val_loss: 0.6678 - val_acc: 0.6992\n",
      "Epoch 12/20\n",
      "4999569/4999569 - 14s - loss: 0.6550 - acc: 0.7215 - val_loss: 0.6579 - val_acc: 0.7071\n",
      "Epoch 13/20\n",
      "4999569/4999569 - 14s - loss: 0.6526 - acc: 0.7218 - val_loss: 0.6548 - val_acc: 0.7199\n",
      "Epoch 14/20\n",
      "4999569/4999569 - 14s - loss: 0.6507 - acc: 0.7223 - val_loss: 0.6510 - val_acc: 0.7289\n",
      "Epoch 15/20\n",
      "4999569/4999569 - 14s - loss: 0.6493 - acc: 0.7225 - val_loss: 0.6513 - val_acc: 0.7273\n",
      "Epoch 16/20\n",
      "4999569/4999569 - 14s - loss: 0.6483 - acc: 0.7228 - val_loss: 0.6456 - val_acc: 0.7236\n",
      "Epoch 17/20\n",
      "4999569/4999569 - 14s - loss: 0.6475 - acc: 0.7229 - val_loss: 0.6467 - val_acc: 0.7177\n",
      "Epoch 18/20\n",
      "4999569/4999569 - 14s - loss: 0.6466 - acc: 0.7233 - val_loss: 0.6454 - val_acc: 0.7200\n",
      "Epoch 19/20\n",
      "4999569/4999569 - 14s - loss: 0.6463 - acc: 0.7232 - val_loss: 0.6444 - val_acc: 0.7266\n",
      "Epoch 20/20\n",
      "4999569/4999569 - 14s - loss: 0.6458 - acc: 0.7232 - val_loss: 0.6460 - val_acc: 0.7289\n",
      "Train on 4999569 samples, validate on 50000 samples\n",
      "Epoch 1/20\n",
      "4999569/4999569 - 14s - loss: 1.7405 - acc: 0.3720 - val_loss: 1.2491 - val_acc: 0.5254\n",
      "Epoch 2/20\n",
      "4999569/4999569 - 14s - loss: 1.0676 - acc: 0.5420 - val_loss: 1.0033 - val_acc: 0.6276\n",
      "Epoch 3/20\n",
      "4999569/4999569 - 14s - loss: 0.8649 - acc: 0.6394 - val_loss: 0.8041 - val_acc: 0.6623\n",
      "Epoch 4/20\n",
      "4999569/4999569 - 13s - loss: 0.7732 - acc: 0.6796 - val_loss: 0.7369 - val_acc: 0.7018\n",
      "Epoch 5/20\n",
      "4999569/4999569 - 13s - loss: 0.7246 - acc: 0.6994 - val_loss: 0.7048 - val_acc: 0.7095\n",
      "Epoch 6/20\n",
      "4999569/4999569 - 13s - loss: 0.6969 - acc: 0.7098 - val_loss: 0.6934 - val_acc: 0.7048\n",
      "Epoch 7/20\n",
      "4999569/4999569 - 13s - loss: 0.6797 - acc: 0.7158 - val_loss: 0.6694 - val_acc: 0.7152\n",
      "Epoch 8/20\n",
      "4999569/4999569 - 13s - loss: 0.6687 - acc: 0.7184 - val_loss: 0.6631 - val_acc: 0.7160\n",
      "Epoch 9/20\n",
      "4999569/4999569 - 13s - loss: 0.6613 - acc: 0.7200 - val_loss: 0.6628 - val_acc: 0.7034\n",
      "Epoch 10/20\n",
      "4999569/4999569 - 13s - loss: 0.6555 - acc: 0.7211 - val_loss: 0.6505 - val_acc: 0.7222\n",
      "Epoch 11/20\n",
      "4999569/4999569 - 13s - loss: 0.6514 - acc: 0.7221 - val_loss: 0.6470 - val_acc: 0.7240\n",
      "Epoch 12/20\n",
      "4999569/4999569 - 13s - loss: 0.6486 - acc: 0.7226 - val_loss: 0.6451 - val_acc: 0.7232\n",
      "Epoch 13/20\n",
      "4999569/4999569 - 13s - loss: 0.6462 - acc: 0.7229 - val_loss: 0.6475 - val_acc: 0.7254\n",
      "Epoch 14/20\n",
      "4999569/4999569 - 13s - loss: 0.6444 - acc: 0.7233 - val_loss: 0.6449 - val_acc: 0.7180\n",
      "Epoch 15/20\n",
      "4999569/4999569 - 13s - loss: 0.6429 - acc: 0.7237 - val_loss: 0.6439 - val_acc: 0.7224\n",
      "Epoch 16/20\n",
      "4999569/4999569 - 13s - loss: 0.6419 - acc: 0.7239 - val_loss: 0.6412 - val_acc: 0.7193\n",
      "Epoch 17/20\n",
      "4999569/4999569 - 13s - loss: 0.6409 - acc: 0.7240 - val_loss: 0.6522 - val_acc: 0.7283\n",
      "Epoch 18/20\n",
      "4999569/4999569 - 16s - loss: 0.6400 - acc: 0.7241 - val_loss: 0.6414 - val_acc: 0.7298\n",
      "Epoch 19/20\n",
      "4999569/4999569 - 13s - loss: 0.6393 - acc: 0.7244 - val_loss: 0.6375 - val_acc: 0.7248\n",
      "Epoch 20/20\n",
      "4999569/4999569 - 13s - loss: 0.6386 - acc: 0.7246 - val_loss: 0.6380 - val_acc: 0.7199\n"
     ]
    },
    {
     "data": {
      "text/html": [
       "<span style=\"color:#4527A0\"><h1 style=\"font-size:18px\">Trial complete</h1></span>"
      ],
      "text/plain": [
       "<IPython.core.display.HTML object>"
      ]
     },
     "metadata": {},
     "output_type": "display_data"
    },
    {
     "data": {
      "text/html": [
       "<span style=\"color:#4527A0\"><h1 style=\"font-size:18px\">Trial summary</h1></span>"
      ],
      "text/plain": [
       "<IPython.core.display.HTML object>"
      ]
     },
     "metadata": {},
     "output_type": "display_data"
    },
    {
     "data": {
      "text/html": [
       "<span style=\"color:cyan\"> |-Trial ID: 998adacb880052265f758d798bb49017</span>"
      ],
      "text/plain": [
       "<IPython.core.display.HTML object>"
      ]
     },
     "metadata": {},
     "output_type": "display_data"
    },
    {
     "data": {
      "text/html": [
       "<span style=\"color:cyan\"> |-Score: 0.7288599610328674</span>"
      ],
      "text/plain": [
       "<IPython.core.display.HTML object>"
      ]
     },
     "metadata": {},
     "output_type": "display_data"
    },
    {
     "data": {
      "text/html": [
       "<span style=\"color:cyan\"> |-Best step: 0</span>"
      ],
      "text/plain": [
       "<IPython.core.display.HTML object>"
      ]
     },
     "metadata": {},
     "output_type": "display_data"
    },
    {
     "data": {
      "text/html": [
       "<span style=\"color:#7E57C2\"><h2 style=\"font-size:16px\">Hyperparameters:</h2></span>"
      ],
      "text/plain": [
       "<IPython.core.display.HTML object>"
      ]
     },
     "metadata": {},
     "output_type": "display_data"
    },
    {
     "data": {
      "text/html": [
       "<span style=\"color:cyan\"> |-learning_rate: 0.01</span>"
      ],
      "text/plain": [
       "<IPython.core.display.HTML object>"
      ]
     },
     "metadata": {},
     "output_type": "display_data"
    },
    {
     "data": {
      "text/html": [
       "<span style=\"color:blue\"> |-unitsl1: 10</span>"
      ],
      "text/plain": [
       "<IPython.core.display.HTML object>"
      ]
     },
     "metadata": {},
     "output_type": "display_data"
    },
    {
     "data": {
      "text/html": [
       "<span style=\"color:cyan\"> |-unitsl2: 35</span>"
      ],
      "text/plain": [
       "<IPython.core.display.HTML object>"
      ]
     },
     "metadata": {},
     "output_type": "display_data"
    },
    {
     "name": "stdout",
     "output_type": "stream",
     "text": [
      "Train on 4999569 samples, validate on 50000 samples\n",
      "Epoch 1/20\n",
      "4999569/4999569 - 42s - loss: 2.1447 - acc: 0.1956 - val_loss: 1.5231 - val_acc: 0.2064\n",
      "Epoch 2/20\n",
      "4999569/4999569 - 39s - loss: 1.5099 - acc: 0.2110 - val_loss: 1.4989 - val_acc: 0.2146\n",
      "Epoch 3/20\n",
      "4999569/4999569 - 40s - loss: 1.4912 - acc: 0.2245 - val_loss: 1.4836 - val_acc: 0.2321\n",
      "Epoch 4/20\n",
      "4999569/4999569 - 40s - loss: 1.4793 - acc: 0.2372 - val_loss: 1.4745 - val_acc: 0.2423\n",
      "Epoch 5/20\n",
      "4999569/4999569 - 41s - loss: 1.4705 - acc: 0.2465 - val_loss: 1.4661 - val_acc: 0.2517\n",
      "Epoch 6/20\n",
      "4999569/4999569 - 40s - loss: 1.4630 - acc: 0.2546 - val_loss: 1.4589 - val_acc: 0.2593\n",
      "Epoch 7/20\n",
      "4999569/4999569 - 40s - loss: 1.4561 - acc: 0.2644 - val_loss: 1.4524 - val_acc: 0.2716\n",
      "Epoch 8/20\n",
      "4999569/4999569 - 40s - loss: 1.4497 - acc: 0.2724 - val_loss: 1.4463 - val_acc: 0.2754\n",
      "Epoch 9/20\n",
      "4999569/4999569 - 39s - loss: 1.4441 - acc: 0.2786 - val_loss: 1.4410 - val_acc: 0.2796\n",
      "Epoch 10/20\n",
      "4999569/4999569 - 40s - loss: 1.4390 - acc: 0.2840 - val_loss: 1.4363 - val_acc: 0.2829\n",
      "Epoch 11/20\n",
      "4999569/4999569 - 39s - loss: 1.4343 - acc: 0.2904 - val_loss: 1.4317 - val_acc: 0.2954\n",
      "Epoch 12/20\n",
      "4999569/4999569 - 40s - loss: 1.4298 - acc: 0.2979 - val_loss: 1.4274 - val_acc: 0.2978\n",
      "Epoch 13/20\n",
      "4999569/4999569 - 40s - loss: 1.4255 - acc: 0.3043 - val_loss: 1.4238 - val_acc: 0.2953\n",
      "Epoch 14/20\n",
      "4999569/4999569 - 40s - loss: 1.4215 - acc: 0.3084 - val_loss: 1.4195 - val_acc: 0.3037\n",
      "Epoch 15/20\n",
      "4999569/4999569 - 40s - loss: 1.4176 - acc: 0.3118 - val_loss: 1.4158 - val_acc: 0.3192\n",
      "Epoch 16/20\n",
      "4999569/4999569 - 40s - loss: 1.4139 - acc: 0.3149 - val_loss: 1.4121 - val_acc: 0.3119\n",
      "Epoch 17/20\n",
      "4999569/4999569 - 40s - loss: 1.4102 - acc: 0.3182 - val_loss: 1.4086 - val_acc: 0.3156\n",
      "Epoch 18/20\n",
      "4999569/4999569 - 41s - loss: 1.4067 - acc: 0.3219 - val_loss: 1.4052 - val_acc: 0.3185\n",
      "Epoch 19/20\n",
      "4999569/4999569 - 40s - loss: 1.4032 - acc: 0.3252 - val_loss: 1.4018 - val_acc: 0.3262\n",
      "Epoch 20/20\n",
      "4999569/4999569 - 39s - loss: 1.3996 - acc: 0.3284 - val_loss: 1.3982 - val_acc: 0.3380\n",
      "Train on 4999569 samples, validate on 50000 samples\n",
      "Epoch 1/20\n",
      "4999569/4999569 - 41s - loss: 1.6668 - acc: 0.2228 - val_loss: 1.5393 - val_acc: 0.2297\n",
      "Epoch 2/20\n",
      "4999569/4999569 - 42s - loss: 1.5140 - acc: 0.2331 - val_loss: 1.4962 - val_acc: 0.2340\n",
      "Epoch 3/20\n",
      "4999569/4999569 - 40s - loss: 1.4820 - acc: 0.2372 - val_loss: 1.4717 - val_acc: 0.2378\n",
      "Epoch 4/20\n",
      "4999569/4999569 - 40s - loss: 1.4647 - acc: 0.2414 - val_loss: 1.4586 - val_acc: 0.2395\n",
      "Epoch 5/20\n",
      "4999569/4999569 - 40s - loss: 1.4535 - acc: 0.2455 - val_loss: 1.4486 - val_acc: 0.2454\n",
      "Epoch 6/20\n",
      "4999569/4999569 - 40s - loss: 1.4441 - acc: 0.2503 - val_loss: 1.4410 - val_acc: 0.2610\n",
      "Epoch 7/20\n",
      "4999569/4999569 - 40s - loss: 1.4349 - acc: 0.2567 - val_loss: 1.4304 - val_acc: 0.2605\n",
      "Epoch 8/20\n",
      "4999569/4999569 - 40s - loss: 1.4263 - acc: 0.2632 - val_loss: 1.4232 - val_acc: 0.2580\n",
      "Epoch 9/20\n",
      "4999569/4999569 - 40s - loss: 1.4192 - acc: 0.2694 - val_loss: 1.4167 - val_acc: 0.2655\n",
      "Epoch 10/20\n",
      "4999569/4999569 - 40s - loss: 1.4127 - acc: 0.2757 - val_loss: 1.4103 - val_acc: 0.2871\n",
      "Epoch 11/20\n",
      "4999569/4999569 - 40s - loss: 1.4067 - acc: 0.2826 - val_loss: 1.4049 - val_acc: 0.3017\n",
      "Epoch 12/20\n",
      "4999569/4999569 - 39s - loss: 1.4011 - acc: 0.2906 - val_loss: 1.3986 - val_acc: 0.2932\n",
      "Epoch 13/20\n",
      "4999569/4999569 - 40s - loss: 1.3957 - acc: 0.2977 - val_loss: 1.3938 - val_acc: 0.3020\n",
      "Epoch 14/20\n",
      "4999569/4999569 - 41s - loss: 1.3907 - acc: 0.3045 - val_loss: 1.3886 - val_acc: 0.3105\n",
      "Epoch 15/20\n",
      "4999569/4999569 - 40s - loss: 1.3858 - acc: 0.3111 - val_loss: 1.3839 - val_acc: 0.3112\n",
      "Epoch 16/20\n",
      "4999569/4999569 - 40s - loss: 1.3812 - acc: 0.3173 - val_loss: 1.3795 - val_acc: 0.3228\n",
      "Epoch 17/20\n",
      "4999569/4999569 - 41s - loss: 1.3768 - acc: 0.3233 - val_loss: 1.3750 - val_acc: 0.3270\n",
      "Epoch 18/20\n",
      "4999569/4999569 - 39s - loss: 1.3725 - acc: 0.3295 - val_loss: 1.3707 - val_acc: 0.3304\n",
      "Epoch 19/20\n",
      "4999569/4999569 - 39s - loss: 1.3684 - acc: 0.3357 - val_loss: 1.3668 - val_acc: 0.3316\n",
      "Epoch 20/20\n",
      "4999569/4999569 - 40s - loss: 1.3643 - acc: 0.3417 - val_loss: 1.3627 - val_acc: 0.3452\n",
      "Train on 4999569 samples, validate on 50000 samples\n",
      "Epoch 1/20\n",
      "4999569/4999569 - 41s - loss: 2.1512 - acc: 0.2220 - val_loss: 1.4860 - val_acc: 0.2386\n",
      "Epoch 2/20\n",
      "4999569/4999569 - 39s - loss: 1.4673 - acc: 0.2610 - val_loss: 1.4527 - val_acc: 0.2729\n",
      "Epoch 3/20\n",
      "4999569/4999569 - 44s - loss: 1.4419 - acc: 0.2825 - val_loss: 1.4319 - val_acc: 0.2884\n",
      "Epoch 4/20\n",
      "4999569/4999569 - 44s - loss: 1.4234 - acc: 0.2957 - val_loss: 1.4161 - val_acc: 0.3007\n",
      "Epoch 5/20\n",
      "4999569/4999569 - 50s - loss: 1.4085 - acc: 0.3061 - val_loss: 1.4019 - val_acc: 0.3075\n",
      "Epoch 6/20\n",
      "4999569/4999569 - 40s - loss: 1.3952 - acc: 0.3142 - val_loss: 1.3895 - val_acc: 0.3185\n",
      "Epoch 7/20\n",
      "4999569/4999569 - 39s - loss: 1.3834 - acc: 0.3234 - val_loss: 1.3788 - val_acc: 0.3262\n",
      "Epoch 8/20\n",
      "4999569/4999569 - 43s - loss: 1.3727 - acc: 0.3321 - val_loss: 1.3682 - val_acc: 0.3341\n",
      "Epoch 9/20\n",
      "4999569/4999569 - 44s - loss: 1.3622 - acc: 0.3412 - val_loss: 1.3580 - val_acc: 0.3444\n",
      "Epoch 10/20\n",
      "4999569/4999569 - 40s - loss: 1.3521 - acc: 0.3512 - val_loss: 1.3482 - val_acc: 0.3558\n",
      "Epoch 11/20\n",
      "4999569/4999569 - 40s - loss: 1.3431 - acc: 0.3601 - val_loss: 1.3394 - val_acc: 0.3617\n",
      "Epoch 12/20\n",
      "4999569/4999569 - 40s - loss: 1.3348 - acc: 0.3669 - val_loss: 1.3314 - val_acc: 0.3653\n",
      "Epoch 13/20\n",
      "4999569/4999569 - 40s - loss: 1.3270 - acc: 0.3731 - val_loss: 1.3240 - val_acc: 0.3714\n",
      "Epoch 14/20\n",
      "4999569/4999569 - 39s - loss: 1.3197 - acc: 0.3794 - val_loss: 1.3169 - val_acc: 0.3799\n",
      "Epoch 15/20\n",
      "4999569/4999569 - 41s - loss: 1.3127 - acc: 0.3859 - val_loss: 1.3098 - val_acc: 0.3935\n",
      "Epoch 16/20\n",
      "4999569/4999569 - 40s - loss: 1.3059 - acc: 0.3928 - val_loss: 1.3032 - val_acc: 0.3996\n",
      "Epoch 17/20\n",
      "4999569/4999569 - 40s - loss: 1.2993 - acc: 0.3998 - val_loss: 1.2967 - val_acc: 0.4134\n",
      "Epoch 18/20\n",
      "4999569/4999569 - 40s - loss: 1.2924 - acc: 0.4083 - val_loss: 1.2898 - val_acc: 0.4101\n",
      "Epoch 19/20\n",
      "4999569/4999569 - 40s - loss: 1.2854 - acc: 0.4167 - val_loss: 1.2830 - val_acc: 0.4168\n",
      "Epoch 20/20\n",
      "4999569/4999569 - 39s - loss: 1.2789 - acc: 0.4232 - val_loss: 1.2766 - val_acc: 0.4227\n"
     ]
    },
    {
     "data": {
      "text/html": [
       "<span style=\"color:#4527A0\"><h1 style=\"font-size:18px\">Trial complete</h1></span>"
      ],
      "text/plain": [
       "<IPython.core.display.HTML object>"
      ]
     },
     "metadata": {},
     "output_type": "display_data"
    },
    {
     "data": {
      "text/html": [
       "<span style=\"color:#4527A0\"><h1 style=\"font-size:18px\">Trial summary</h1></span>"
      ],
      "text/plain": [
       "<IPython.core.display.HTML object>"
      ]
     },
     "metadata": {},
     "output_type": "display_data"
    },
    {
     "data": {
      "text/html": [
       "<span style=\"color:cyan\"> |-Trial ID: 4227a876c6a16f68b4fd4932d8b786de</span>"
      ],
      "text/plain": [
       "<IPython.core.display.HTML object>"
      ]
     },
     "metadata": {},
     "output_type": "display_data"
    },
    {
     "data": {
      "text/html": [
       "<span style=\"color:cyan\"> |-Score: 0.3686266839504242</span>"
      ],
      "text/plain": [
       "<IPython.core.display.HTML object>"
      ]
     },
     "metadata": {},
     "output_type": "display_data"
    },
    {
     "data": {
      "text/html": [
       "<span style=\"color:cyan\"> |-Best step: 0</span>"
      ],
      "text/plain": [
       "<IPython.core.display.HTML object>"
      ]
     },
     "metadata": {},
     "output_type": "display_data"
    },
    {
     "data": {
      "text/html": [
       "<span style=\"color:#7E57C2\"><h2 style=\"font-size:16px\">Hyperparameters:</h2></span>"
      ],
      "text/plain": [
       "<IPython.core.display.HTML object>"
      ]
     },
     "metadata": {},
     "output_type": "display_data"
    },
    {
     "data": {
      "text/html": [
       "<span style=\"color:cyan\"> |-learning_rate: 0.0001</span>"
      ],
      "text/plain": [
       "<IPython.core.display.HTML object>"
      ]
     },
     "metadata": {},
     "output_type": "display_data"
    },
    {
     "data": {
      "text/html": [
       "<span style=\"color:blue\"> |-unitsl1: 370</span>"
      ],
      "text/plain": [
       "<IPython.core.display.HTML object>"
      ]
     },
     "metadata": {},
     "output_type": "display_data"
    },
    {
     "data": {
      "text/html": [
       "<span style=\"color:cyan\"> |-unitsl2: 35</span>"
      ],
      "text/plain": [
       "<IPython.core.display.HTML object>"
      ]
     },
     "metadata": {},
     "output_type": "display_data"
    },
    {
     "name": "stdout",
     "output_type": "stream",
     "text": [
      "Train on 4999569 samples, validate on 50000 samples\n",
      "Epoch 1/20\n",
      "4999569/4999569 - 18s - loss: 1.7301 - acc: 0.2156 - val_loss: 1.6539 - val_acc: 0.2183\n",
      "Epoch 2/20\n",
      "4999569/4999569 - 18s - loss: 1.6208 - acc: 0.2653 - val_loss: 1.6240 - val_acc: 0.2221\n",
      "Epoch 3/20\n",
      "4999569/4999569 - 17s - loss: 1.4549 - acc: 0.3919 - val_loss: 1.3417 - val_acc: 0.4328\n",
      "Epoch 4/20\n",
      "4999569/4999569 - 18s - loss: 1.2646 - acc: 0.4509 - val_loss: 1.1369 - val_acc: 0.4141\n",
      "Epoch 5/20\n",
      "4999569/4999569 - 19s - loss: 1.1526 - acc: 0.4940 - val_loss: 1.1080 - val_acc: 0.5158\n",
      "Epoch 6/20\n",
      "4999569/4999569 - 17s - loss: 1.0344 - acc: 0.5487 - val_loss: 1.0856 - val_acc: 0.4674\n",
      "Epoch 7/20\n",
      "4999569/4999569 - 18s - loss: 0.9171 - acc: 0.5946 - val_loss: 0.8502 - val_acc: 0.7076\n",
      "Epoch 8/20\n",
      "4999569/4999569 - 17s - loss: 0.8455 - acc: 0.6715 - val_loss: 0.7992 - val_acc: 0.6981\n",
      "Epoch 9/20\n",
      "4999569/4999569 - 17s - loss: 0.8035 - acc: 0.6853 - val_loss: 0.7860 - val_acc: 0.6746\n",
      "Epoch 10/20\n",
      "4999569/4999569 - 17s - loss: 0.7755 - acc: 0.6946 - val_loss: 0.7560 - val_acc: 0.6945\n",
      "Epoch 11/20\n",
      "4999569/4999569 - 17s - loss: 0.7546 - acc: 0.7018 - val_loss: 0.7539 - val_acc: 0.7179\n",
      "Epoch 12/20\n",
      "4999569/4999569 - 17s - loss: 0.7405 - acc: 0.7056 - val_loss: 0.7269 - val_acc: 0.7094\n",
      "Epoch 13/20\n",
      "4999569/4999569 - 17s - loss: 0.7295 - acc: 0.7087 - val_loss: 0.7177 - val_acc: 0.7123\n",
      "Epoch 14/20\n",
      "4999569/4999569 - 17s - loss: 0.7209 - acc: 0.7108 - val_loss: 0.7264 - val_acc: 0.7177\n",
      "Epoch 15/20\n",
      "4999569/4999569 - 18s - loss: 0.7134 - acc: 0.7128 - val_loss: 0.7064 - val_acc: 0.7269\n",
      "Epoch 16/20\n",
      "4999569/4999569 - 17s - loss: 0.7064 - acc: 0.7148 - val_loss: 0.6973 - val_acc: 0.7274\n",
      "Epoch 17/20\n",
      "4999569/4999569 - 17s - loss: 0.6933 - acc: 0.7185 - val_loss: 0.6930 - val_acc: 0.7292\n",
      "Epoch 18/20\n",
      "4999569/4999569 - 17s - loss: 0.6855 - acc: 0.7195 - val_loss: 0.6823 - val_acc: 0.7282\n",
      "Epoch 19/20\n",
      "4999569/4999569 - 17s - loss: 0.6804 - acc: 0.7200 - val_loss: 0.6766 - val_acc: 0.7299\n",
      "Epoch 20/20\n",
      "4999569/4999569 - 17s - loss: 0.6763 - acc: 0.7208 - val_loss: 0.6720 - val_acc: 0.7221\n",
      "Train on 4999569 samples, validate on 50000 samples\n",
      "Epoch 1/20\n",
      "4999569/4999569 - 18s - loss: 1.5672 - acc: 0.3438 - val_loss: 1.2966 - val_acc: 0.4053\n",
      "Epoch 2/20\n",
      "4999569/4999569 - 17s - loss: 1.1099 - acc: 0.5293 - val_loss: 0.9554 - val_acc: 0.5778\n",
      "Epoch 3/20\n",
      "4999569/4999569 - 17s - loss: 0.8816 - acc: 0.6588 - val_loss: 0.8100 - val_acc: 0.7203\n",
      "Epoch 4/20\n",
      "4999569/4999569 - 17s - loss: 0.7862 - acc: 0.6990 - val_loss: 0.7556 - val_acc: 0.6988\n",
      "Epoch 5/20\n",
      "4999569/4999569 - 17s - loss: 0.7422 - acc: 0.7109 - val_loss: 0.7268 - val_acc: 0.7160\n",
      "Epoch 6/20\n",
      "4999569/4999569 - 17s - loss: 0.7126 - acc: 0.7173 - val_loss: 0.6957 - val_acc: 0.7186\n",
      "Epoch 7/20\n",
      "4999569/4999569 - 17s - loss: 0.6909 - acc: 0.7208 - val_loss: 0.6837 - val_acc: 0.7211\n",
      "Epoch 8/20\n",
      "4999569/4999569 - 17s - loss: 0.6749 - acc: 0.7223 - val_loss: 0.6692 - val_acc: 0.7240\n",
      "Epoch 9/20\n",
      "4999569/4999569 - 17s - loss: 0.6628 - acc: 0.7235 - val_loss: 0.6677 - val_acc: 0.7053\n",
      "Epoch 10/20\n",
      "4999569/4999569 - 18s - loss: 0.6540 - acc: 0.7238 - val_loss: 0.6535 - val_acc: 0.7309\n",
      "Epoch 11/20\n",
      "4999569/4999569 - 17s - loss: 0.6477 - acc: 0.7236 - val_loss: 0.6630 - val_acc: 0.7271\n",
      "Epoch 12/20\n",
      "4999569/4999569 - 17s - loss: 0.6429 - acc: 0.7236 - val_loss: 0.6421 - val_acc: 0.7295\n",
      "Epoch 13/20\n",
      "4999569/4999569 - 17s - loss: 0.6397 - acc: 0.7239 - val_loss: 0.6346 - val_acc: 0.7278\n",
      "Epoch 14/20\n",
      "4999569/4999569 - 17s - loss: 0.6378 - acc: 0.7240 - val_loss: 0.6435 - val_acc: 0.7233\n",
      "Epoch 15/20\n",
      "4999569/4999569 - 17s - loss: 0.6359 - acc: 0.7246 - val_loss: 0.6547 - val_acc: 0.7284\n",
      "Epoch 16/20\n",
      "4999569/4999569 - 17s - loss: 0.6348 - acc: 0.7248 - val_loss: 0.6340 - val_acc: 0.7244\n",
      "Epoch 17/20\n",
      "4999569/4999569 - 17s - loss: 0.6338 - acc: 0.7251 - val_loss: 0.6360 - val_acc: 0.7160\n",
      "Epoch 18/20\n",
      "4999569/4999569 - 17s - loss: 0.6330 - acc: 0.7254 - val_loss: 0.6299 - val_acc: 0.7266\n",
      "Epoch 19/20\n",
      "4999569/4999569 - 17s - loss: 0.6322 - acc: 0.7257 - val_loss: 0.6351 - val_acc: 0.7154\n",
      "Epoch 20/20\n",
      "4999569/4999569 - 17s - loss: 0.6313 - acc: 0.7259 - val_loss: 0.6327 - val_acc: 0.7297\n",
      "Train on 4999569 samples, validate on 50000 samples\n",
      "Epoch 1/20\n",
      "4999569/4999569 - 18s - loss: 1.3404 - acc: 0.4951 - val_loss: 1.0248 - val_acc: 0.5691\n",
      "Epoch 2/20\n",
      "4999569/4999569 - 17s - loss: 0.9229 - acc: 0.6398 - val_loss: 0.8384 - val_acc: 0.6865\n",
      "Epoch 3/20\n",
      "4999569/4999569 - 17s - loss: 0.7967 - acc: 0.6831 - val_loss: 0.7546 - val_acc: 0.6827\n",
      "Epoch 4/20\n",
      "4999569/4999569 - 17s - loss: 0.7327 - acc: 0.7033 - val_loss: 0.7121 - val_acc: 0.6928\n",
      "Epoch 5/20\n",
      "4999569/4999569 - 17s - loss: 0.6970 - acc: 0.7129 - val_loss: 0.6810 - val_acc: 0.7176\n",
      "Epoch 6/20\n",
      "4999569/4999569 - 17s - loss: 0.6759 - acc: 0.7172 - val_loss: 0.6708 - val_acc: 0.7041\n",
      "Epoch 7/20\n",
      "4999569/4999569 - 17s - loss: 0.6619 - acc: 0.7200 - val_loss: 0.6562 - val_acc: 0.7127\n",
      "Epoch 8/20\n",
      "4999569/4999569 - 17s - loss: 0.6524 - acc: 0.7209 - val_loss: 0.6447 - val_acc: 0.7241\n",
      "Epoch 9/20\n",
      "4999569/4999569 - 17s - loss: 0.6453 - acc: 0.7218 - val_loss: 0.6401 - val_acc: 0.7241\n",
      "Epoch 10/20\n",
      "4999569/4999569 - 18s - loss: 0.6415 - acc: 0.7234 - val_loss: 0.6376 - val_acc: 0.7267\n",
      "Epoch 11/20\n",
      "4999569/4999569 - 17s - loss: 0.6394 - acc: 0.7239 - val_loss: 0.6468 - val_acc: 0.7307\n",
      "Epoch 12/20\n",
      "4999569/4999569 - 17s - loss: 0.6379 - acc: 0.7243 - val_loss: 0.6356 - val_acc: 0.7243\n",
      "Epoch 13/20\n",
      "4999569/4999569 - 17s - loss: 0.6369 - acc: 0.7246 - val_loss: 0.6392 - val_acc: 0.7302\n",
      "Epoch 14/20\n",
      "4999569/4999569 - 17s - loss: 0.6360 - acc: 0.7248 - val_loss: 0.6351 - val_acc: 0.7209\n",
      "Epoch 15/20\n",
      "4999569/4999569 - 17s - loss: 0.6353 - acc: 0.7252 - val_loss: 0.6394 - val_acc: 0.7150\n",
      "Epoch 16/20\n",
      "4999569/4999569 - 17s - loss: 0.6349 - acc: 0.7252 - val_loss: 0.6355 - val_acc: 0.7273\n",
      "Epoch 17/20\n",
      "4999569/4999569 - 17s - loss: 0.6344 - acc: 0.7253 - val_loss: 0.6341 - val_acc: 0.7273\n",
      "Epoch 18/20\n",
      "4999569/4999569 - 17s - loss: 0.6339 - acc: 0.7255 - val_loss: 0.6352 - val_acc: 0.7180\n",
      "Epoch 19/20\n",
      "4999569/4999569 - 17s - loss: 0.6336 - acc: 0.7258 - val_loss: 0.6443 - val_acc: 0.7092\n",
      "Epoch 20/20\n",
      "4999569/4999569 - 17s - loss: 0.6333 - acc: 0.7259 - val_loss: 0.6327 - val_acc: 0.7283\n"
     ]
    },
    {
     "data": {
      "text/html": [
       "<span style=\"color:#4527A0\"><h1 style=\"font-size:18px\">Trial complete</h1></span>"
      ],
      "text/plain": [
       "<IPython.core.display.HTML object>"
      ]
     },
     "metadata": {},
     "output_type": "display_data"
    },
    {
     "data": {
      "text/html": [
       "<span style=\"color:#4527A0\"><h1 style=\"font-size:18px\">Trial summary</h1></span>"
      ],
      "text/plain": [
       "<IPython.core.display.HTML object>"
      ]
     },
     "metadata": {},
     "output_type": "display_data"
    },
    {
     "data": {
      "text/html": [
       "<span style=\"color:cyan\"> |-Trial ID: 096b65f6fec5579878fe443535627443</span>"
      ],
      "text/plain": [
       "<IPython.core.display.HTML object>"
      ]
     },
     "metadata": {},
     "output_type": "display_data"
    },
    {
     "data": {
      "text/html": [
       "<span style=\"color:cyan\"> |-Score: 0.7304999828338623</span>"
      ],
      "text/plain": [
       "<IPython.core.display.HTML object>"
      ]
     },
     "metadata": {},
     "output_type": "display_data"
    },
    {
     "data": {
      "text/html": [
       "<span style=\"color:cyan\"> |-Best step: 0</span>"
      ],
      "text/plain": [
       "<IPython.core.display.HTML object>"
      ]
     },
     "metadata": {},
     "output_type": "display_data"
    },
    {
     "data": {
      "text/html": [
       "<span style=\"color:#7E57C2\"><h2 style=\"font-size:16px\">Hyperparameters:</h2></span>"
      ],
      "text/plain": [
       "<IPython.core.display.HTML object>"
      ]
     },
     "metadata": {},
     "output_type": "display_data"
    },
    {
     "data": {
      "text/html": [
       "<span style=\"color:cyan\"> |-learning_rate: 0.01</span>"
      ],
      "text/plain": [
       "<IPython.core.display.HTML object>"
      ]
     },
     "metadata": {},
     "output_type": "display_data"
    },
    {
     "data": {
      "text/html": [
       "<span style=\"color:blue\"> |-unitsl1: 130</span>"
      ],
      "text/plain": [
       "<IPython.core.display.HTML object>"
      ]
     },
     "metadata": {},
     "output_type": "display_data"
    },
    {
     "data": {
      "text/html": [
       "<span style=\"color:cyan\"> |-unitsl2: 15</span>"
      ],
      "text/plain": [
       "<IPython.core.display.HTML object>"
      ]
     },
     "metadata": {},
     "output_type": "display_data"
    },
    {
     "name": "stdout",
     "output_type": "stream",
     "text": [
      "Train on 4999569 samples, validate on 50000 samples\n",
      "Epoch 1/20\n",
      "4999569/4999569 - 31s - loss: 1.8319 - acc: 0.2315 - val_loss: 1.6762 - val_acc: 0.2267\n",
      "Epoch 2/20\n",
      "4999569/4999569 - 30s - loss: 1.6515 - acc: 0.2169 - val_loss: 1.6331 - val_acc: 0.2072\n",
      "Epoch 3/20\n",
      "4999569/4999569 - 30s - loss: 1.6121 - acc: 0.2083 - val_loss: 1.5927 - val_acc: 0.2099\n",
      "Epoch 4/20\n",
      "4999569/4999569 - 31s - loss: 1.5506 - acc: 0.2128 - val_loss: 1.5196 - val_acc: 0.2118\n",
      "Epoch 5/20\n",
      "4999569/4999569 - 30s - loss: 1.4820 - acc: 0.2196 - val_loss: 1.4471 - val_acc: 0.2179\n",
      "Epoch 6/20\n",
      "4999569/4999569 - 30s - loss: 1.4171 - acc: 0.2271 - val_loss: 1.3931 - val_acc: 0.2975\n",
      "Epoch 7/20\n",
      "4999569/4999569 - 30s - loss: 1.3662 - acc: 0.2671 - val_loss: 1.3467 - val_acc: 0.3489\n",
      "Epoch 8/20\n",
      "4999569/4999569 - 30s - loss: 1.3226 - acc: 0.3414 - val_loss: 1.3047 - val_acc: 0.3665\n",
      "Epoch 9/20\n",
      "4999569/4999569 - 29s - loss: 1.2846 - acc: 0.4050 - val_loss: 1.2690 - val_acc: 0.4236\n",
      "Epoch 10/20\n",
      "4999569/4999569 - 30s - loss: 1.2507 - acc: 0.4548 - val_loss: 1.2375 - val_acc: 0.4773\n",
      "Epoch 11/20\n",
      "4999569/4999569 - 30s - loss: 1.2202 - acc: 0.4957 - val_loss: 1.2079 - val_acc: 0.5105\n",
      "Epoch 12/20\n",
      "4999569/4999569 - 30s - loss: 1.1922 - acc: 0.5282 - val_loss: 1.1821 - val_acc: 0.5335\n",
      "Epoch 13/20\n",
      "4999569/4999569 - 30s - loss: 1.1663 - acc: 0.5541 - val_loss: 1.1562 - val_acc: 0.5586\n",
      "Epoch 14/20\n",
      "4999569/4999569 - 24s - loss: 1.1419 - acc: 0.5751 - val_loss: 1.1324 - val_acc: 0.5894\n",
      "Epoch 15/20\n",
      "4999569/4999569 - 22s - loss: 1.1188 - acc: 0.5922 - val_loss: 1.1105 - val_acc: 0.5907\n",
      "Epoch 16/20\n",
      "4999569/4999569 - 22s - loss: 1.0970 - acc: 0.6062 - val_loss: 1.0896 - val_acc: 0.6202\n",
      "Epoch 17/20\n",
      "4999569/4999569 - 21s - loss: 1.0761 - acc: 0.6185 - val_loss: 1.0695 - val_acc: 0.6317\n",
      "Epoch 18/20\n",
      "4999569/4999569 - 21s - loss: 1.0559 - acc: 0.6291 - val_loss: 1.0495 - val_acc: 0.6438\n",
      "Epoch 19/20\n",
      "4999569/4999569 - 21s - loss: 1.0364 - acc: 0.6391 - val_loss: 1.0288 - val_acc: 0.6421\n",
      "Epoch 20/20\n",
      "4999569/4999569 - 21s - loss: 1.0170 - acc: 0.6495 - val_loss: 1.0101 - val_acc: 0.6512\n",
      "Train on 4999569 samples, validate on 50000 samples\n",
      "Epoch 1/20\n",
      "4999569/4999569 - 22s - loss: 1.7665 - acc: 0.2360 - val_loss: 1.7457 - val_acc: 0.2416\n",
      "Epoch 2/20\n",
      "4999569/4999569 - 21s - loss: 1.7240 - acc: 0.2650 - val_loss: 1.6692 - val_acc: 0.3903\n",
      "Epoch 3/20\n",
      "4999569/4999569 - 21s - loss: 1.6061 - acc: 0.2631 - val_loss: 1.5621 - val_acc: 0.2590\n",
      "Epoch 4/20\n",
      "4999569/4999569 - 21s - loss: 1.5247 - acc: 0.3276 - val_loss: 1.4933 - val_acc: 0.4007\n",
      "Epoch 5/20\n",
      "4999569/4999569 - 21s - loss: 1.4625 - acc: 0.4012 - val_loss: 1.4376 - val_acc: 0.4072\n",
      "Epoch 6/20\n",
      "4999569/4999569 - 21s - loss: 1.4025 - acc: 0.4098 - val_loss: 1.3841 - val_acc: 0.3489\n",
      "Epoch 7/20\n",
      "4999569/4999569 - 21s - loss: 1.3542 - acc: 0.4261 - val_loss: 1.3338 - val_acc: 0.4291\n",
      "Epoch 8/20\n",
      "4999569/4999569 - 21s - loss: 1.3148 - acc: 0.4433 - val_loss: 1.2989 - val_acc: 0.4097\n",
      "Epoch 9/20\n",
      "4999569/4999569 - 21s - loss: 1.2803 - acc: 0.4736 - val_loss: 1.2652 - val_acc: 0.5106\n",
      "Epoch 10/20\n",
      "4999569/4999569 - 21s - loss: 1.2484 - acc: 0.5266 - val_loss: 1.2340 - val_acc: 0.5773\n",
      "Epoch 11/20\n",
      "4999569/4999569 - 21s - loss: 1.2178 - acc: 0.5678 - val_loss: 1.2051 - val_acc: 0.5264\n",
      "Epoch 12/20\n",
      "4999569/4999569 - 21s - loss: 1.1879 - acc: 0.5800 - val_loss: 1.1740 - val_acc: 0.5630\n",
      "Epoch 13/20\n",
      "4999569/4999569 - 21s - loss: 1.1578 - acc: 0.5903 - val_loss: 1.1440 - val_acc: 0.6177\n",
      "Epoch 14/20\n",
      "4999569/4999569 - 21s - loss: 1.1295 - acc: 0.5985 - val_loss: 1.1176 - val_acc: 0.6095\n",
      "Epoch 15/20\n",
      "4999569/4999569 - 22s - loss: 1.1040 - acc: 0.6049 - val_loss: 1.0916 - val_acc: 0.6114\n",
      "Epoch 16/20\n",
      "4999569/4999569 - 21s - loss: 1.0808 - acc: 0.6157 - val_loss: 1.0695 - val_acc: 0.6194\n",
      "Epoch 17/20\n",
      "4999569/4999569 - 21s - loss: 1.0599 - acc: 0.6219 - val_loss: 1.0497 - val_acc: 0.6282\n",
      "Epoch 18/20\n",
      "4999569/4999569 - 21s - loss: 1.0411 - acc: 0.6271 - val_loss: 1.0324 - val_acc: 0.6286\n",
      "Epoch 19/20\n",
      "4999569/4999569 - 22s - loss: 1.0240 - acc: 0.6321 - val_loss: 1.0167 - val_acc: 0.6109\n",
      "Epoch 20/20\n",
      "4999569/4999569 - 22s - loss: 1.0084 - acc: 0.6376 - val_loss: 1.0010 - val_acc: 0.6558\n",
      "Train on 4999569 samples, validate on 50000 samples\n",
      "Epoch 1/20\n",
      "4999569/4999569 - 22s - loss: 1.5465 - acc: 0.2796 - val_loss: 1.4185 - val_acc: 0.3460\n",
      "Epoch 2/20\n",
      "4999569/4999569 - 21s - loss: 1.3920 - acc: 0.3846 - val_loss: 1.3758 - val_acc: 0.3854\n",
      "Epoch 3/20\n",
      "4999569/4999569 - 21s - loss: 1.3490 - acc: 0.4156 - val_loss: 1.3467 - val_acc: 0.3978\n",
      "Epoch 4/20\n",
      "4999569/4999569 - 21s - loss: 1.3163 - acc: 0.4278 - val_loss: 1.3029 - val_acc: 0.4103\n",
      "Epoch 5/20\n",
      "4999569/4999569 - 21s - loss: 1.2884 - acc: 0.4349 - val_loss: 1.2743 - val_acc: 0.4645\n",
      "Epoch 6/20\n",
      "4999569/4999569 - 21s - loss: 1.2597 - acc: 0.4424 - val_loss: 1.2476 - val_acc: 0.4233\n",
      "Epoch 7/20\n",
      "4999569/4999569 - 21s - loss: 1.2339 - acc: 0.4496 - val_loss: 1.2247 - val_acc: 0.4824\n",
      "Epoch 8/20\n",
      "4999569/4999569 - 21s - loss: 1.2079 - acc: 0.4635 - val_loss: 1.2007 - val_acc: 0.4324\n",
      "Epoch 9/20\n",
      "4999569/4999569 - 21s - loss: 1.1737 - acc: 0.4937 - val_loss: 1.1548 - val_acc: 0.5128\n",
      "Epoch 10/20\n",
      "4999569/4999569 - 21s - loss: 1.1340 - acc: 0.5133 - val_loss: 1.1143 - val_acc: 0.4903\n",
      "Epoch 11/20\n",
      "4999569/4999569 - 21s - loss: 1.0931 - acc: 0.5307 - val_loss: 1.0728 - val_acc: 0.5225\n",
      "Epoch 12/20\n",
      "4999569/4999569 - 21s - loss: 1.0529 - acc: 0.5487 - val_loss: 1.0329 - val_acc: 0.5728\n",
      "Epoch 13/20\n",
      "4999569/4999569 - 21s - loss: 1.0144 - acc: 0.5847 - val_loss: 0.9963 - val_acc: 0.5920\n",
      "Epoch 14/20\n",
      "4999569/4999569 - 21s - loss: 0.9784 - acc: 0.6253 - val_loss: 0.9632 - val_acc: 0.6158\n",
      "Epoch 15/20\n",
      "4999569/4999569 - 22s - loss: 0.9455 - acc: 0.6572 - val_loss: 0.9298 - val_acc: 0.6687\n",
      "Epoch 16/20\n",
      "4999569/4999569 - 21s - loss: 0.9148 - acc: 0.6762 - val_loss: 0.9058 - val_acc: 0.6611\n",
      "Epoch 17/20\n",
      "4999569/4999569 - 22s - loss: 0.8874 - acc: 0.6885 - val_loss: 0.8784 - val_acc: 0.6801\n",
      "Epoch 18/20\n",
      "4999569/4999569 - 22s - loss: 0.8636 - acc: 0.6961 - val_loss: 0.8525 - val_acc: 0.7053\n",
      "Epoch 19/20\n",
      "4999569/4999569 - 21s - loss: 0.8426 - acc: 0.7013 - val_loss: 0.8340 - val_acc: 0.6943\n",
      "Epoch 20/20\n",
      "4999569/4999569 - 21s - loss: 0.8240 - acc: 0.7046 - val_loss: 0.8174 - val_acc: 0.7109\n"
     ]
    },
    {
     "data": {
      "text/html": [
       "<span style=\"color:#4527A0\"><h1 style=\"font-size:18px\">Trial complete</h1></span>"
      ],
      "text/plain": [
       "<IPython.core.display.HTML object>"
      ]
     },
     "metadata": {},
     "output_type": "display_data"
    },
    {
     "data": {
      "text/html": [
       "<span style=\"color:#4527A0\"><h1 style=\"font-size:18px\">Trial summary</h1></span>"
      ],
      "text/plain": [
       "<IPython.core.display.HTML object>"
      ]
     },
     "metadata": {},
     "output_type": "display_data"
    },
    {
     "data": {
      "text/html": [
       "<span style=\"color:cyan\"> |-Trial ID: f51ccff5cba16cf1ba83dfe15396e176</span>"
      ],
      "text/plain": [
       "<IPython.core.display.HTML object>"
      ]
     },
     "metadata": {},
     "output_type": "display_data"
    },
    {
     "data": {
      "text/html": [
       "<span style=\"color:cyan\"> |-Score: 0.6726199984550476</span>"
      ],
      "text/plain": [
       "<IPython.core.display.HTML object>"
      ]
     },
     "metadata": {},
     "output_type": "display_data"
    },
    {
     "data": {
      "text/html": [
       "<span style=\"color:cyan\"> |-Best step: 0</span>"
      ],
      "text/plain": [
       "<IPython.core.display.HTML object>"
      ]
     },
     "metadata": {},
     "output_type": "display_data"
    },
    {
     "data": {
      "text/html": [
       "<span style=\"color:#7E57C2\"><h2 style=\"font-size:16px\">Hyperparameters:</h2></span>"
      ],
      "text/plain": [
       "<IPython.core.display.HTML object>"
      ]
     },
     "metadata": {},
     "output_type": "display_data"
    },
    {
     "data": {
      "text/html": [
       "<span style=\"color:cyan\"> |-learning_rate: 0.001</span>"
      ],
      "text/plain": [
       "<IPython.core.display.HTML object>"
      ]
     },
     "metadata": {},
     "output_type": "display_data"
    },
    {
     "data": {
      "text/html": [
       "<span style=\"color:blue\"> |-unitsl1: 340</span>"
      ],
      "text/plain": [
       "<IPython.core.display.HTML object>"
      ]
     },
     "metadata": {},
     "output_type": "display_data"
    },
    {
     "data": {
      "text/html": [
       "<span style=\"color:cyan\"> |-unitsl2: 10</span>"
      ],
      "text/plain": [
       "<IPython.core.display.HTML object>"
      ]
     },
     "metadata": {},
     "output_type": "display_data"
    },
    {
     "name": "stdout",
     "output_type": "stream",
     "text": [
      "Train on 4999569 samples, validate on 50000 samples\n",
      "Epoch 1/20\n",
      "4999569/4999569 - 19s - loss: 6.3624 - acc: 0.2075 - val_loss: 1.5581 - val_acc: 0.2171\n",
      "Epoch 2/20\n",
      "4999569/4999569 - 18s - loss: 1.5375 - acc: 0.2164 - val_loss: 1.5228 - val_acc: 0.2221\n",
      "Epoch 3/20\n",
      "4999569/4999569 - 18s - loss: 1.5130 - acc: 0.2206 - val_loss: 1.5051 - val_acc: 0.2209\n",
      "Epoch 4/20\n",
      "4999569/4999569 - 19s - loss: 1.4984 - acc: 0.2249 - val_loss: 1.4929 - val_acc: 0.2279\n",
      "Epoch 5/20\n",
      "4999569/4999569 - 19s - loss: 1.4873 - acc: 0.2310 - val_loss: 1.4829 - val_acc: 0.2327\n",
      "Epoch 6/20\n",
      "4999569/4999569 - 19s - loss: 1.4783 - acc: 0.2365 - val_loss: 1.4751 - val_acc: 0.2407\n",
      "Epoch 7/20\n",
      "4999569/4999569 - 19s - loss: 1.4711 - acc: 0.2412 - val_loss: 1.4687 - val_acc: 0.2475\n",
      "Epoch 8/20\n",
      "4999569/4999569 - 18s - loss: 1.4650 - acc: 0.2461 - val_loss: 1.4628 - val_acc: 0.2470\n",
      "Epoch 9/20\n",
      "4999569/4999569 - 18s - loss: 1.4596 - acc: 0.2510 - val_loss: 1.4576 - val_acc: 0.2581\n",
      "Epoch 10/20\n",
      "4999569/4999569 - 19s - loss: 1.4545 - acc: 0.2558 - val_loss: 1.4528 - val_acc: 0.2617\n",
      "Epoch 11/20\n",
      "4999569/4999569 - 19s - loss: 1.4498 - acc: 0.2602 - val_loss: 1.4482 - val_acc: 0.2630\n",
      "Epoch 12/20\n",
      "4999569/4999569 - 19s - loss: 1.4454 - acc: 0.2644 - val_loss: 1.4440 - val_acc: 0.2657\n",
      "Epoch 13/20\n",
      "4999569/4999569 - 19s - loss: 1.4412 - acc: 0.2683 - val_loss: 1.4398 - val_acc: 0.2743\n",
      "Epoch 14/20\n",
      "4999569/4999569 - 19s - loss: 1.4370 - acc: 0.2721 - val_loss: 1.4354 - val_acc: 0.2759\n",
      "Epoch 15/20\n",
      "4999569/4999569 - 18s - loss: 1.4318 - acc: 0.2736 - val_loss: 1.4302 - val_acc: 0.2773\n",
      "Epoch 16/20\n",
      "4999569/4999569 - 19s - loss: 1.4271 - acc: 0.2770 - val_loss: 1.4259 - val_acc: 0.2805\n",
      "Epoch 17/20\n",
      "4999569/4999569 - 18s - loss: 1.4229 - acc: 0.2797 - val_loss: 1.4217 - val_acc: 0.2792\n",
      "Epoch 18/20\n",
      "4999569/4999569 - 18s - loss: 1.4191 - acc: 0.2821 - val_loss: 1.4181 - val_acc: 0.2792\n",
      "Epoch 19/20\n",
      "4999569/4999569 - 19s - loss: 1.4155 - acc: 0.2852 - val_loss: 1.4144 - val_acc: 0.2837\n",
      "Epoch 20/20\n",
      "4999569/4999569 - 19s - loss: 1.4120 - acc: 0.2884 - val_loss: 1.4112 - val_acc: 0.2897\n",
      "Train on 4999569 samples, validate on 50000 samples\n",
      "Epoch 1/20\n",
      "4999569/4999569 - 19s - loss: 2.5651 - acc: 0.2091 - val_loss: 1.5397 - val_acc: 0.2193\n",
      "Epoch 2/20\n",
      "4999569/4999569 - 18s - loss: 1.5304 - acc: 0.2166 - val_loss: 1.5237 - val_acc: 0.2196\n",
      "Epoch 3/20\n",
      "4999569/4999569 - 18s - loss: 1.5193 - acc: 0.2190 - val_loss: 1.5152 - val_acc: 0.2199\n",
      "Epoch 4/20\n",
      "4999569/4999569 - 18s - loss: 1.5121 - acc: 0.2205 - val_loss: 1.5089 - val_acc: 0.2237\n",
      "Epoch 5/20\n",
      "4999569/4999569 - 18s - loss: 1.5066 - acc: 0.2214 - val_loss: 1.5041 - val_acc: 0.2232\n",
      "Epoch 6/20\n",
      "4999569/4999569 - 18s - loss: 1.5020 - acc: 0.2220 - val_loss: 1.4997 - val_acc: 0.2224\n",
      "Epoch 7/20\n",
      "4999569/4999569 - 19s - loss: 1.4980 - acc: 0.2224 - val_loss: 1.4960 - val_acc: 0.2232\n",
      "Epoch 8/20\n",
      "4999569/4999569 - 18s - loss: 1.4946 - acc: 0.2226 - val_loss: 1.4929 - val_acc: 0.2261\n",
      "Epoch 9/20\n",
      "4999569/4999569 - 18s - loss: 1.4914 - acc: 0.2228 - val_loss: 1.4897 - val_acc: 0.2215\n",
      "Epoch 10/20\n",
      "4999569/4999569 - 18s - loss: 1.4885 - acc: 0.2229 - val_loss: 1.4866 - val_acc: 0.2216\n",
      "Epoch 11/20\n",
      "4999569/4999569 - 18s - loss: 1.4839 - acc: 0.2249 - val_loss: 1.4822 - val_acc: 0.2252\n",
      "Epoch 12/20\n",
      "4999569/4999569 - 18s - loss: 1.4809 - acc: 0.2255 - val_loss: 1.4794 - val_acc: 0.2280\n",
      "Epoch 13/20\n",
      "4999569/4999569 - 18s - loss: 1.4781 - acc: 0.2262 - val_loss: 1.4770 - val_acc: 0.2231\n",
      "Epoch 14/20\n",
      "4999569/4999569 - 18s - loss: 1.4756 - acc: 0.2268 - val_loss: 1.4743 - val_acc: 0.2275\n",
      "Epoch 15/20\n",
      "4999569/4999569 - 18s - loss: 1.4731 - acc: 0.2275 - val_loss: 1.4719 - val_acc: 0.2256\n",
      "Epoch 16/20\n",
      "4999569/4999569 - 18s - loss: 1.4708 - acc: 0.2281 - val_loss: 1.4695 - val_acc: 0.2280\n",
      "Epoch 17/20\n",
      "4999569/4999569 - 18s - loss: 1.4685 - acc: 0.2291 - val_loss: 1.4674 - val_acc: 0.2301\n",
      "Epoch 18/20\n",
      "4999569/4999569 - 18s - loss: 1.4663 - acc: 0.2301 - val_loss: 1.4652 - val_acc: 0.2320\n",
      "Epoch 19/20\n",
      "4999569/4999569 - 18s - loss: 1.4642 - acc: 0.2316 - val_loss: 1.4631 - val_acc: 0.2319\n",
      "Epoch 20/20\n",
      "4999569/4999569 - 18s - loss: 1.4621 - acc: 0.2332 - val_loss: 1.4611 - val_acc: 0.2324\n",
      "Train on 4999569 samples, validate on 50000 samples\n",
      "Epoch 1/20\n",
      "4999569/4999569 - 19s - loss: 2.0013 - acc: 0.2128 - val_loss: 1.5162 - val_acc: 0.2347\n",
      "Epoch 2/20\n",
      "4999569/4999569 - 18s - loss: 1.4995 - acc: 0.2350 - val_loss: 1.4901 - val_acc: 0.2387\n",
      "Epoch 3/20\n",
      "4999569/4999569 - 18s - loss: 1.4804 - acc: 0.2404 - val_loss: 1.4753 - val_acc: 0.2418\n",
      "Epoch 4/20\n",
      "4999569/4999569 - 18s - loss: 1.4679 - acc: 0.2435 - val_loss: 1.4645 - val_acc: 0.2428\n",
      "Epoch 5/20\n",
      "4999569/4999569 - 19s - loss: 1.4583 - acc: 0.2471 - val_loss: 1.4555 - val_acc: 0.2489\n",
      "Epoch 6/20\n",
      "4999569/4999569 - 19s - loss: 1.4502 - acc: 0.2509 - val_loss: 1.4479 - val_acc: 0.2515\n",
      "Epoch 7/20\n",
      "4999569/4999569 - 19s - loss: 1.4432 - acc: 0.2548 - val_loss: 1.4414 - val_acc: 0.2562\n",
      "Epoch 8/20\n",
      "4999569/4999569 - 19s - loss: 1.4369 - acc: 0.2589 - val_loss: 1.4353 - val_acc: 0.2606\n",
      "Epoch 9/20\n",
      "4999569/4999569 - 18s - loss: 1.4312 - acc: 0.2632 - val_loss: 1.4297 - val_acc: 0.2636\n",
      "Epoch 10/20\n",
      "4999569/4999569 - 18s - loss: 1.4259 - acc: 0.2675 - val_loss: 1.4245 - val_acc: 0.2731\n",
      "Epoch 11/20\n",
      "4999569/4999569 - 18s - loss: 1.4209 - acc: 0.2720 - val_loss: 1.4198 - val_acc: 0.2746\n",
      "Epoch 12/20\n",
      "4999569/4999569 - 19s - loss: 1.4163 - acc: 0.2765 - val_loss: 1.4152 - val_acc: 0.2750\n",
      "Epoch 13/20\n",
      "4999569/4999569 - 19s - loss: 1.4106 - acc: 0.2869 - val_loss: 1.4081 - val_acc: 0.2951\n",
      "Epoch 14/20\n",
      "4999569/4999569 - 18s - loss: 1.4046 - acc: 0.2990 - val_loss: 1.4039 - val_acc: 0.3056\n",
      "Epoch 15/20\n",
      "4999569/4999569 - 18s - loss: 1.4003 - acc: 0.3035 - val_loss: 1.3994 - val_acc: 0.3047\n",
      "Epoch 16/20\n",
      "4999569/4999569 - 19s - loss: 1.3961 - acc: 0.3080 - val_loss: 1.3953 - val_acc: 0.3063\n",
      "Epoch 17/20\n",
      "4999569/4999569 - 19s - loss: 1.3920 - acc: 0.3121 - val_loss: 1.3912 - val_acc: 0.3128\n",
      "Epoch 18/20\n",
      "4999569/4999569 - 18s - loss: 1.3879 - acc: 0.3175 - val_loss: 1.3873 - val_acc: 0.3247\n",
      "Epoch 19/20\n",
      "4999569/4999569 - 18s - loss: 1.3841 - acc: 0.3223 - val_loss: 1.3835 - val_acc: 0.3223\n",
      "Epoch 20/20\n",
      "4999569/4999569 - 18s - loss: 1.3805 - acc: 0.3263 - val_loss: 1.3798 - val_acc: 0.3279\n"
     ]
    },
    {
     "data": {
      "text/html": [
       "<span style=\"color:#4527A0\"><h1 style=\"font-size:18px\">Trial complete</h1></span>"
      ],
      "text/plain": [
       "<IPython.core.display.HTML object>"
      ]
     },
     "metadata": {},
     "output_type": "display_data"
    },
    {
     "data": {
      "text/html": [
       "<span style=\"color:#4527A0\"><h1 style=\"font-size:18px\">Trial summary</h1></span>"
      ],
      "text/plain": [
       "<IPython.core.display.HTML object>"
      ]
     },
     "metadata": {},
     "output_type": "display_data"
    },
    {
     "data": {
      "text/html": [
       "<span style=\"color:cyan\"> |-Trial ID: ba769204f9012ff5db2dc33a24911770</span>"
      ],
      "text/plain": [
       "<IPython.core.display.HTML object>"
      ]
     },
     "metadata": {},
     "output_type": "display_data"
    },
    {
     "data": {
      "text/html": [
       "<span style=\"color:cyan\"> |-Score: 0.28331997990608215</span>"
      ],
      "text/plain": [
       "<IPython.core.display.HTML object>"
      ]
     },
     "metadata": {},
     "output_type": "display_data"
    },
    {
     "data": {
      "text/html": [
       "<span style=\"color:cyan\"> |-Best step: 0</span>"
      ],
      "text/plain": [
       "<IPython.core.display.HTML object>"
      ]
     },
     "metadata": {},
     "output_type": "display_data"
    },
    {
     "data": {
      "text/html": [
       "<span style=\"color:#7E57C2\"><h2 style=\"font-size:16px\">Hyperparameters:</h2></span>"
      ],
      "text/plain": [
       "<IPython.core.display.HTML object>"
      ]
     },
     "metadata": {},
     "output_type": "display_data"
    },
    {
     "data": {
      "text/html": [
       "<span style=\"color:cyan\"> |-learning_rate: 0.0001</span>"
      ],
      "text/plain": [
       "<IPython.core.display.HTML object>"
      ]
     },
     "metadata": {},
     "output_type": "display_data"
    },
    {
     "data": {
      "text/html": [
       "<span style=\"color:blue\"> |-unitsl1: 190</span>"
      ],
      "text/plain": [
       "<IPython.core.display.HTML object>"
      ]
     },
     "metadata": {},
     "output_type": "display_data"
    },
    {
     "data": {
      "text/html": [
       "<span style=\"color:cyan\"> |-unitsl2: 45</span>"
      ],
      "text/plain": [
       "<IPython.core.display.HTML object>"
      ]
     },
     "metadata": {},
     "output_type": "display_data"
    },
    {
     "name": "stdout",
     "output_type": "stream",
     "text": [
      "INFO:tensorflow:Oracle triggered exit\n"
     ]
    }
   ],
   "source": [
    "tuner.search(\n",
    "    x_train,\n",
    "    y_train,\n",
    "    epochs=20,\n",
    "    batch_size=1000,\n",
    "    validation_data=(x_val, y_val),\n",
    "    verbose=2,\n",
    ")"
   ]
  },
  {
   "cell_type": "code",
   "execution_count": 7,
   "metadata": {},
   "outputs": [
    {
     "data": {
      "text/html": [
       "<span style=\"color:#4527A0\"><h1 style=\"font-size:18px\">Results summary</h1></span>"
      ],
      "text/plain": [
       "<IPython.core.display.HTML object>"
      ]
     },
     "metadata": {},
     "output_type": "display_data"
    },
    {
     "data": {
      "text/html": [
       "<span style=\"color:cyan\"> |-Results in tmp-simple2\\simple</span>"
      ],
      "text/plain": [
       "<IPython.core.display.HTML object>"
      ]
     },
     "metadata": {},
     "output_type": "display_data"
    },
    {
     "data": {
      "text/html": [
       "<span style=\"color:cyan\"> |-Showing 10 best trials</span>"
      ],
      "text/plain": [
       "<IPython.core.display.HTML object>"
      ]
     },
     "metadata": {},
     "output_type": "display_data"
    },
    {
     "data": {
      "text/html": [
       "<span style=\"color:cyan\"> |-Objective(name='val_acc', direction='max')</span>"
      ],
      "text/plain": [
       "<IPython.core.display.HTML object>"
      ]
     },
     "metadata": {},
     "output_type": "display_data"
    },
    {
     "data": {
      "text/html": [
       "<span style=\"color:#4527A0\"><h1 style=\"font-size:18px\">Trial summary</h1></span>"
      ],
      "text/plain": [
       "<IPython.core.display.HTML object>"
      ]
     },
     "metadata": {},
     "output_type": "display_data"
    },
    {
     "data": {
      "text/html": [
       "<span style=\"color:cyan\"> |-Trial ID: 096b65f6fec5579878fe443535627443</span>"
      ],
      "text/plain": [
       "<IPython.core.display.HTML object>"
      ]
     },
     "metadata": {},
     "output_type": "display_data"
    },
    {
     "data": {
      "text/html": [
       "<span style=\"color:cyan\"> |-Score: 0.7304999828338623</span>"
      ],
      "text/plain": [
       "<IPython.core.display.HTML object>"
      ]
     },
     "metadata": {},
     "output_type": "display_data"
    },
    {
     "data": {
      "text/html": [
       "<span style=\"color:cyan\"> |-Best step: 0</span>"
      ],
      "text/plain": [
       "<IPython.core.display.HTML object>"
      ]
     },
     "metadata": {},
     "output_type": "display_data"
    },
    {
     "data": {
      "text/html": [
       "<span style=\"color:#7E57C2\"><h2 style=\"font-size:16px\">Hyperparameters:</h2></span>"
      ],
      "text/plain": [
       "<IPython.core.display.HTML object>"
      ]
     },
     "metadata": {},
     "output_type": "display_data"
    },
    {
     "data": {
      "text/html": [
       "<span style=\"color:cyan\"> |-learning_rate: 0.01</span>"
      ],
      "text/plain": [
       "<IPython.core.display.HTML object>"
      ]
     },
     "metadata": {},
     "output_type": "display_data"
    },
    {
     "data": {
      "text/html": [
       "<span style=\"color:blue\"> |-unitsl1: 130</span>"
      ],
      "text/plain": [
       "<IPython.core.display.HTML object>"
      ]
     },
     "metadata": {},
     "output_type": "display_data"
    },
    {
     "data": {
      "text/html": [
       "<span style=\"color:cyan\"> |-unitsl2: 15</span>"
      ],
      "text/plain": [
       "<IPython.core.display.HTML object>"
      ]
     },
     "metadata": {},
     "output_type": "display_data"
    },
    {
     "data": {
      "text/html": [
       "<span style=\"color:#4527A0\"><h1 style=\"font-size:18px\">Trial summary</h1></span>"
      ],
      "text/plain": [
       "<IPython.core.display.HTML object>"
      ]
     },
     "metadata": {},
     "output_type": "display_data"
    },
    {
     "data": {
      "text/html": [
       "<span style=\"color:cyan\"> |-Trial ID: 998adacb880052265f758d798bb49017</span>"
      ],
      "text/plain": [
       "<IPython.core.display.HTML object>"
      ]
     },
     "metadata": {},
     "output_type": "display_data"
    },
    {
     "data": {
      "text/html": [
       "<span style=\"color:cyan\"> |-Score: 0.7288599610328674</span>"
      ],
      "text/plain": [
       "<IPython.core.display.HTML object>"
      ]
     },
     "metadata": {},
     "output_type": "display_data"
    },
    {
     "data": {
      "text/html": [
       "<span style=\"color:cyan\"> |-Best step: 0</span>"
      ],
      "text/plain": [
       "<IPython.core.display.HTML object>"
      ]
     },
     "metadata": {},
     "output_type": "display_data"
    },
    {
     "data": {
      "text/html": [
       "<span style=\"color:#7E57C2\"><h2 style=\"font-size:16px\">Hyperparameters:</h2></span>"
      ],
      "text/plain": [
       "<IPython.core.display.HTML object>"
      ]
     },
     "metadata": {},
     "output_type": "display_data"
    },
    {
     "data": {
      "text/html": [
       "<span style=\"color:cyan\"> |-learning_rate: 0.01</span>"
      ],
      "text/plain": [
       "<IPython.core.display.HTML object>"
      ]
     },
     "metadata": {},
     "output_type": "display_data"
    },
    {
     "data": {
      "text/html": [
       "<span style=\"color:blue\"> |-unitsl1: 10</span>"
      ],
      "text/plain": [
       "<IPython.core.display.HTML object>"
      ]
     },
     "metadata": {},
     "output_type": "display_data"
    },
    {
     "data": {
      "text/html": [
       "<span style=\"color:cyan\"> |-unitsl2: 35</span>"
      ],
      "text/plain": [
       "<IPython.core.display.HTML object>"
      ]
     },
     "metadata": {},
     "output_type": "display_data"
    },
    {
     "data": {
      "text/html": [
       "<span style=\"color:#4527A0\"><h1 style=\"font-size:18px\">Trial summary</h1></span>"
      ],
      "text/plain": [
       "<IPython.core.display.HTML object>"
      ]
     },
     "metadata": {},
     "output_type": "display_data"
    },
    {
     "data": {
      "text/html": [
       "<span style=\"color:cyan\"> |-Trial ID: f51ccff5cba16cf1ba83dfe15396e176</span>"
      ],
      "text/plain": [
       "<IPython.core.display.HTML object>"
      ]
     },
     "metadata": {},
     "output_type": "display_data"
    },
    {
     "data": {
      "text/html": [
       "<span style=\"color:cyan\"> |-Score: 0.6726199984550476</span>"
      ],
      "text/plain": [
       "<IPython.core.display.HTML object>"
      ]
     },
     "metadata": {},
     "output_type": "display_data"
    },
    {
     "data": {
      "text/html": [
       "<span style=\"color:cyan\"> |-Best step: 0</span>"
      ],
      "text/plain": [
       "<IPython.core.display.HTML object>"
      ]
     },
     "metadata": {},
     "output_type": "display_data"
    },
    {
     "data": {
      "text/html": [
       "<span style=\"color:#7E57C2\"><h2 style=\"font-size:16px\">Hyperparameters:</h2></span>"
      ],
      "text/plain": [
       "<IPython.core.display.HTML object>"
      ]
     },
     "metadata": {},
     "output_type": "display_data"
    },
    {
     "data": {
      "text/html": [
       "<span style=\"color:cyan\"> |-learning_rate: 0.001</span>"
      ],
      "text/plain": [
       "<IPython.core.display.HTML object>"
      ]
     },
     "metadata": {},
     "output_type": "display_data"
    },
    {
     "data": {
      "text/html": [
       "<span style=\"color:blue\"> |-unitsl1: 340</span>"
      ],
      "text/plain": [
       "<IPython.core.display.HTML object>"
      ]
     },
     "metadata": {},
     "output_type": "display_data"
    },
    {
     "data": {
      "text/html": [
       "<span style=\"color:cyan\"> |-unitsl2: 10</span>"
      ],
      "text/plain": [
       "<IPython.core.display.HTML object>"
      ]
     },
     "metadata": {},
     "output_type": "display_data"
    },
    {
     "data": {
      "text/html": [
       "<span style=\"color:#4527A0\"><h1 style=\"font-size:18px\">Trial summary</h1></span>"
      ],
      "text/plain": [
       "<IPython.core.display.HTML object>"
      ]
     },
     "metadata": {},
     "output_type": "display_data"
    },
    {
     "data": {
      "text/html": [
       "<span style=\"color:cyan\"> |-Trial ID: 4227a876c6a16f68b4fd4932d8b786de</span>"
      ],
      "text/plain": [
       "<IPython.core.display.HTML object>"
      ]
     },
     "metadata": {},
     "output_type": "display_data"
    },
    {
     "data": {
      "text/html": [
       "<span style=\"color:cyan\"> |-Score: 0.3686266839504242</span>"
      ],
      "text/plain": [
       "<IPython.core.display.HTML object>"
      ]
     },
     "metadata": {},
     "output_type": "display_data"
    },
    {
     "data": {
      "text/html": [
       "<span style=\"color:cyan\"> |-Best step: 0</span>"
      ],
      "text/plain": [
       "<IPython.core.display.HTML object>"
      ]
     },
     "metadata": {},
     "output_type": "display_data"
    },
    {
     "data": {
      "text/html": [
       "<span style=\"color:#7E57C2\"><h2 style=\"font-size:16px\">Hyperparameters:</h2></span>"
      ],
      "text/plain": [
       "<IPython.core.display.HTML object>"
      ]
     },
     "metadata": {},
     "output_type": "display_data"
    },
    {
     "data": {
      "text/html": [
       "<span style=\"color:cyan\"> |-learning_rate: 0.0001</span>"
      ],
      "text/plain": [
       "<IPython.core.display.HTML object>"
      ]
     },
     "metadata": {},
     "output_type": "display_data"
    },
    {
     "data": {
      "text/html": [
       "<span style=\"color:blue\"> |-unitsl1: 370</span>"
      ],
      "text/plain": [
       "<IPython.core.display.HTML object>"
      ]
     },
     "metadata": {},
     "output_type": "display_data"
    },
    {
     "data": {
      "text/html": [
       "<span style=\"color:cyan\"> |-unitsl2: 35</span>"
      ],
      "text/plain": [
       "<IPython.core.display.HTML object>"
      ]
     },
     "metadata": {},
     "output_type": "display_data"
    },
    {
     "data": {
      "text/html": [
       "<span style=\"color:#4527A0\"><h1 style=\"font-size:18px\">Trial summary</h1></span>"
      ],
      "text/plain": [
       "<IPython.core.display.HTML object>"
      ]
     },
     "metadata": {},
     "output_type": "display_data"
    },
    {
     "data": {
      "text/html": [
       "<span style=\"color:cyan\"> |-Trial ID: ba769204f9012ff5db2dc33a24911770</span>"
      ],
      "text/plain": [
       "<IPython.core.display.HTML object>"
      ]
     },
     "metadata": {},
     "output_type": "display_data"
    },
    {
     "data": {
      "text/html": [
       "<span style=\"color:cyan\"> |-Score: 0.28331997990608215</span>"
      ],
      "text/plain": [
       "<IPython.core.display.HTML object>"
      ]
     },
     "metadata": {},
     "output_type": "display_data"
    },
    {
     "data": {
      "text/html": [
       "<span style=\"color:cyan\"> |-Best step: 0</span>"
      ],
      "text/plain": [
       "<IPython.core.display.HTML object>"
      ]
     },
     "metadata": {},
     "output_type": "display_data"
    },
    {
     "data": {
      "text/html": [
       "<span style=\"color:#7E57C2\"><h2 style=\"font-size:16px\">Hyperparameters:</h2></span>"
      ],
      "text/plain": [
       "<IPython.core.display.HTML object>"
      ]
     },
     "metadata": {},
     "output_type": "display_data"
    },
    {
     "data": {
      "text/html": [
       "<span style=\"color:cyan\"> |-learning_rate: 0.0001</span>"
      ],
      "text/plain": [
       "<IPython.core.display.HTML object>"
      ]
     },
     "metadata": {},
     "output_type": "display_data"
    },
    {
     "data": {
      "text/html": [
       "<span style=\"color:blue\"> |-unitsl1: 190</span>"
      ],
      "text/plain": [
       "<IPython.core.display.HTML object>"
      ]
     },
     "metadata": {},
     "output_type": "display_data"
    },
    {
     "data": {
      "text/html": [
       "<span style=\"color:cyan\"> |-unitsl2: 45</span>"
      ],
      "text/plain": [
       "<IPython.core.display.HTML object>"
      ]
     },
     "metadata": {},
     "output_type": "display_data"
    }
   ],
   "source": [
    "tuner.results_summary()"
   ]
  },
  {
   "cell_type": "code",
   "execution_count": 8,
   "metadata": {},
   "outputs": [
    {
     "name": "stdout",
     "output_type": "stream",
     "text": [
      "[(1, array([0.   , 0.826, 0.17 , 0.004, 0.   , 0.   ], dtype=float32)), (3, array([0.001, 0.003, 0.776, 0.211, 0.008, 0.   ], dtype=float32)), (3, array([0.002, 0.   , 0.096, 0.668, 0.202, 0.032], dtype=float32)), (1, array([0.   , 0.846, 0.15 , 0.004, 0.   , 0.   ], dtype=float32)), (5, array([0.   , 0.   , 0.   , 0.003, 0.166, 0.832], dtype=float32)), (4, array([0.   , 0.   , 0.009, 0.439, 0.424, 0.127], dtype=float32)), (1, array([0.   , 0.973, 0.027, 0.   , 0.   , 0.   ], dtype=float32)), (2, array([0.   , 0.882, 0.116, 0.002, 0.   , 0.   ], dtype=float32)), (1, array([0.  , 0.99, 0.01, 0.  , 0.  , 0.  ], dtype=float32)), (2, array([0.001, 0.003, 0.757, 0.23 , 0.008, 0.   ], dtype=float32))]\n",
      "0.7730726797702713\n",
      "[[ 2363     0     0     0     0     0]\n",
      " [    0 99468  2783     0     0     0]\n",
      " [    0 15334 75805 10884     2     0]\n",
      " [    0   922 19645 67921 13493    22]\n",
      " [    0    39  1918 25351 59255 14699]\n",
      " [    0     0    91  3349 26135 60486]]\n",
      "[[1.    0.    0.    0.    0.    0.   ]\n",
      " [0.    0.973 0.027 0.    0.    0.   ]\n",
      " [0.    0.15  0.743 0.107 0.    0.   ]\n",
      " [0.    0.009 0.193 0.666 0.132 0.   ]\n",
      " [0.    0.    0.019 0.25  0.585 0.145]\n",
      " [0.    0.    0.001 0.037 0.29  0.672]]\n"
     ]
    }
   ],
   "source": [
    "from sklearn.metrics import (\n",
    "    balanced_accuracy_score,\n",
    "    confusion_matrix,\n",
    "    plot_confusion_matrix,\n",
    ")\n",
    "\n",
    "model = tuner.get_best_models()[0]\n",
    "\n",
    "np.set_printoptions(precision=3)\n",
    "np.set_printoptions(suppress=True)\n",
    "\n",
    "testdata = pd.read_pickle(f\"data/test_600AMeV_{num_dp}dp.pkl\").sample(frac=1)\n",
    "x_test = testdata[[\"nHits\", \"nClus\", \"Edep\"]].values\n",
    "y_true = testdata[[label]].values.ravel()\n",
    "\n",
    "y_pred = model.predict(x_test)\n",
    "print(list(zip(y_true, y_pred))[0:10])\n",
    "\n",
    "\n",
    "y_pred = np.argmax(y_pred, axis=1)\n",
    "\n",
    "bac = balanced_accuracy_score(y_true, y_pred)\n",
    "print(bac)\n",
    "cm = confusion_matrix(y_true, y_pred, labels=range(0, 6))\n",
    "print(cm)\n",
    "cmrel = confusion_matrix(y_true, y_pred, labels=range(0, 6), normalize=\"true\")\n",
    "print(cmrel)"
   ]
  },
  {
   "cell_type": "code",
   "execution_count": 9,
   "metadata": {},
   "outputs": [
    {
     "data": {
      "image/png": "[encoded data removed]",
      "text/plain": [
       "<Figure size 720x504 with 2 Axes>"
      ]
     },
     "metadata": {
      "needs_background": "light"
     },
     "output_type": "display_data"
    }
   ],
   "source": [
    "import matplotlib.pyplot as plt\n",
    "import seaborn as sns\n",
    "\n",
    "plt.figure(figsize=(10, 7))\n",
    "ax = sns.heatmap(cmrel, cmap=\"viridis\", annot=True)\n",
    "ax.set_xlabel(\"Predicted\")\n",
    "ax.set_ylabel(\"True\");"
   ]
  }
 ],
 "metadata": {
  "kernelspec": {
   "display_name": "Python 3",
   "language": "python",
   "name": "python3"
  },
  "language_info": {
   "codemirror_mode": {
    "name": "ipython",
    "version": 3
   },
   "file_extension": ".py",
   "mimetype": "text/x-python",
   "name": "python",
   "nbconvert_exporter": "python",
   "pygments_lexer": "ipython3",
   "version": "3.7.5"
  }
 },
 "nbformat": 4,
 "nbformat_minor": 4
}

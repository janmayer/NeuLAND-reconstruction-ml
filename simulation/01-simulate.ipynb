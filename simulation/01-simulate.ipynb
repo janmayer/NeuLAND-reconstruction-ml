{
 "cells": [
  {
   "cell_type": "markdown",
   "metadata": {},
   "source": [
    "# Step 1: Simulation"
   ]
  },
  {
   "cell_type": "markdown",
   "metadata": {},
   "source": [
    "## a) Run the Monte Carlo simulation\n",
    "The simulations are called from a standalone python file, as they take quite long.\n",
    "It is recommended to run them in a `screen` with\n",
    "\n",
    "```sh\n",
    "nice python 01-simulate.py\n",
    "```\n",
    "\n",
    "Note: Supervise running simulations with \n",
    "```sh\n",
    "while true; do clear; tail -n1 *.simu.log | grep '>>>'; sleep 10; done\n",
    "```"
   ]
  },
  {
   "cell_type": "markdown",
   "metadata": {},
   "source": [
    "## b) Check for successful execution"
   ]
  },
  {
   "cell_type": "code",
   "execution_count": 1,
   "metadata": {},
   "outputs": [],
   "source": [
    "distances = [15]\n",
    "doubleplanes = [30]\n",
    "energies = [600]\n",
    "erels = [500]\n",
    "neutrons = [1, 2, 3, 4, 5, 6]\n",
    "physicss = [\"inclxx\"]\n",
    "subruns = range(20)"
   ]
  },
  {
   "cell_type": "code",
   "execution_count": 2,
   "metadata": {},
   "outputs": [
    {
     "name": "stdout",
     "output_type": "stream",
     "text": [
      "Welcome to JupyROOT 6.16/00\n"
     ]
    }
   ],
   "source": [
    "import pandas as pd\n",
    "import joblib\n",
    "import sys\n",
    "\n",
    "sys.path.append(\"..\")\n",
    "from helpers import processed_events"
   ]
  },
  {
   "cell_type": "code",
   "execution_count": 3,
   "metadata": {},
   "outputs": [],
   "source": [
    "evts = pd.DataFrame(\n",
    "    joblib.Parallel(n_jobs=-1)(\n",
    "        joblib.delayed(processed_events)(\n",
    "            distance=distance,\n",
    "            doubleplane=doubleplane,\n",
    "            energy=energy,\n",
    "            erel=erel,\n",
    "            neutron=neutron,\n",
    "            physics=physics,\n",
    "            subrun=subrun,\n",
    "            what=\"simu.root\",\n",
    "        )\n",
    "        for distance in distances\n",
    "        for energy in energies\n",
    "        for doubleplane in doubleplanes\n",
    "        for neutron in neutrons\n",
    "        for erel in erels\n",
    "        for physics in physicss\n",
    "        for subrun in subruns\n",
    "    )\n",
    ")"
   ]
  },
  {
   "cell_type": "code",
   "execution_count": 4,
   "metadata": {},
   "outputs": [
    {
     "data": {
      "text/html": [
       "<div>\n",
       "<style scoped>\n",
       "    .dataframe tbody tr th:only-of-type {\n",
       "        vertical-align: middle;\n",
       "    }\n",
       "\n",
       "    .dataframe tbody tr th {\n",
       "        vertical-align: top;\n",
       "    }\n",
       "\n",
       "    .dataframe thead th {\n",
       "        text-align: right;\n",
       "    }\n",
       "</style>\n",
       "<table border=\"1\" class=\"dataframe\">\n",
       "  <thead>\n",
       "    <tr style=\"text-align: right;\">\n",
       "      <th></th>\n",
       "      <th>File</th>\n",
       "      <th>Events</th>\n",
       "    </tr>\n",
       "  </thead>\n",
       "  <tbody>\n",
       "    <tr>\n",
       "      <th>0</th>\n",
       "      <td>/srv/storage/gpfs/user/jmayer/Simulations/NeuL...</td>\n",
       "      <td>10000</td>\n",
       "    </tr>\n",
       "    <tr>\n",
       "      <th>1</th>\n",
       "      <td>/srv/storage/gpfs/user/jmayer/Simulations/NeuL...</td>\n",
       "      <td>10000</td>\n",
       "    </tr>\n",
       "    <tr>\n",
       "      <th>...</th>\n",
       "      <td>...</td>\n",
       "      <td>...</td>\n",
       "    </tr>\n",
       "    <tr>\n",
       "      <th>118</th>\n",
       "      <td>/srv/storage/gpfs/user/jmayer/Simulations/NeuL...</td>\n",
       "      <td>10000</td>\n",
       "    </tr>\n",
       "    <tr>\n",
       "      <th>119</th>\n",
       "      <td>/srv/storage/gpfs/user/jmayer/Simulations/NeuL...</td>\n",
       "      <td>10000</td>\n",
       "    </tr>\n",
       "  </tbody>\n",
       "</table>\n",
       "<p>120 rows × 2 columns</p>\n",
       "</div>"
      ],
      "text/plain": [
       "                                                  File  Events\n",
       "0    /srv/storage/gpfs/user/jmayer/Simulations/NeuL...   10000\n",
       "1    /srv/storage/gpfs/user/jmayer/Simulations/NeuL...   10000\n",
       "..                                                 ...     ...\n",
       "118  /srv/storage/gpfs/user/jmayer/Simulations/NeuL...   10000\n",
       "119  /srv/storage/gpfs/user/jmayer/Simulations/NeuL...   10000\n",
       "\n",
       "[120 rows x 2 columns]"
      ]
     },
     "metadata": {},
     "output_type": "display_data"
    }
   ],
   "source": [
    "pd.options.display.max_rows = 5\n",
    "evts.columns = [\"File\", \"Events\"]\n",
    "evts.sort_values(by=[\"Events\", \"File\"], ascending=[True, True], inplace=True)\n",
    "evts.style.hide_index().format({\"Events\": \"{:d}\"})\n",
    "display(evts)"
   ]
  },
  {
   "cell_type": "code",
   "execution_count": null,
   "metadata": {},
   "outputs": [],
   "source": []
  }
 ],
 "metadata": {
  "kernelspec": {
   "display_name": "Python 3",
   "language": "python",
   "name": "python3"
  },
  "language_info": {
   "codemirror_mode": {
    "name": "ipython",
    "version": 3
   },
   "file_extension": ".py",
   "mimetype": "text/x-python",
   "name": "python",
   "nbconvert_exporter": "python",
   "pygments_lexer": "ipython3",
   "version": "3.7.6"
  }
 },
 "nbformat": 4,
 "nbformat_minor": 4
}

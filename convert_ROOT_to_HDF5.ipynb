{
 "cells": [
  {
   "cell_type": "markdown",
   "metadata": {},
   "source": [
    "# Convert ROOT files to HDF5"
   ]
  },
  {
   "cell_type": "markdown",
   "metadata": {},
   "source": [
    "The ROOT-digi files contain the calibrated events in NeuLAND. Here we extract the three basic properties number of hits, number of clusters, and total deposited energy and save them together with the number of incoming neutrons, number of primary points, and number of primary hits to a HDF5 file for basic reconstruction."
   ]
  },
  {
   "cell_type": "code",
   "execution_count": 1,
   "metadata": {},
   "outputs": [
    {
     "name": "stdout",
     "output_type": "stream",
     "text": [
      "Welcome to JupyROOT 6.16/00\n"
     ]
    }
   ],
   "source": [
    "import ROOT\n",
    "import h5py\n",
    "import numpy as np"
   ]
  },
  {
   "cell_type": "markdown",
   "metadata": {},
   "source": [
    "To create the HDF5 file, it is good to know the number of events to store ahead of time. With ROOT, this requires a bit more code than it should, as you can't have multiple files opened."
   ]
  },
  {
   "cell_type": "code",
   "execution_count": 2,
   "metadata": {},
   "outputs": [],
   "source": [
    "def get_num_events(infiles):\n",
    "    # List Comprehension does not work with ROOT\n",
    "    num_events = 0\n",
    "    for _, filename in infiles:\n",
    "        tfile = ROOT.TFile.Open(filename)\n",
    "        ttree = tfile.Get(\"evt\")\n",
    "        num_events += ttree.GetEntries()\n",
    "    return num_events"
   ]
  },
  {
   "cell_type": "code",
   "execution_count": 3,
   "metadata": {},
   "outputs": [],
   "source": [
    "def create_hdf5(infiles, outfile):\n",
    "    dim = 6\n",
    "    num_events = get_num_events(infiles)\n",
    "    chunksize = 1000\n",
    "\n",
    "    print(f\"->     Writing to {outfile}\")\n",
    "    with h5py.File(outfile, \"w\") as h5file:\n",
    "        data = h5file.create_dataset(\n",
    "            \"data\",\n",
    "            shape=(num_events, dim),\n",
    "            dtype=np.int16,\n",
    "            chunks=(chunksize, dim),\n",
    "            compression=\"gzip\",\n",
    "            compression_opts=9,\n",
    "        )\n",
    "\n",
    "        buff = np.zeros((dim), np.int16)\n",
    "        i = 0\n",
    "        for nIn, filename in infiles:\n",
    "            print(f\"Reading ROOT file {filename}\")\n",
    "            tfile = ROOT.TFile.Open(filename)\n",
    "            ttree = tfile.Get(\"evt\")\n",
    "            for event in ttree:\n",
    "\n",
    "                # nPN: Number of incoming primary neutrons\n",
    "                buff[0] = nIn\n",
    "                # nPP: Number of primary neutrons with an energy deposition in NeuLAND\n",
    "                buff[1] = event.NeulandPrimaryPoints.GetEntries()\n",
    "                # nPH: Number of hits that correspond to a energy deposition of a primary neutron\n",
    "                buff[2] = event.NeulandPrimaryHits.GetEntries()\n",
    "                # nHits: Number of hits\n",
    "                buff[3] = event.NeulandHits.GetEntries()\n",
    "                # nClus: Number of clusters\n",
    "                buff[4] = event.NeulandClusters.GetEntries()\n",
    "                # Edep: Total deposited (detected) energy\n",
    "                buff[5] = round(sum([hit.GetE() for hit in event.NeulandHits]))\n",
    "\n",
    "                data[i] = buff\n",
    "                i += 1"
   ]
  },
  {
   "cell_type": "code",
   "execution_count": 4,
   "metadata": {},
   "outputs": [],
   "source": [
    "incoming_neutrons = range(1, 6)\n",
    "beam_energy = 600\n",
    "for num_dp in [15, 30]:\n",
    "    for dataset in [\"training\", \"validation\", \"test\"]:\n",
    "        infiles = [\n",
    "            (\n",
    "                neutrons,\n",
    "                f\"simulation/{dataset}_{beam_energy}AMeV_{num_dp}dp_{neutrons}n.digi.root\",\n",
    "            )\n",
    "            for neutrons in incoming_neutrons\n",
    "        ]\n",
    "        outfile = f\"data/{dataset}_{beam_energy}AMeV_{num_dp}dp.h5\"\n",
    "        create_hdf5(infiles, outfile)"
   ]
  }
 ],
 "metadata": {
  "kernelspec": {
   "display_name": "Python 3",
   "language": "python",
   "name": "python3"
  },
  "language_info": {
   "codemirror_mode": {
    "name": "ipython",
    "version": 3
   },
   "file_extension": ".py",
   "mimetype": "text/x-python",
   "name": "python",
   "nbconvert_exporter": "python",
   "pygments_lexer": "ipython3",
   "version": "3.8.1"
  }
 },
 "nbformat": 4,
 "nbformat_minor": 4
}

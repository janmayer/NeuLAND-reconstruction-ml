{
 "cells": [
  {
   "cell_type": "markdown",
   "metadata": {},
   "source": [
    "# Multiplicity determination with super-basic Bayesian Statistics"
   ]
  },
  {
   "cell_type": "code",
   "execution_count": 1,
   "metadata": {},
   "outputs": [],
   "source": [
    "import numpy as np\n",
    "import pandas as pd"
   ]
  },
  {
   "cell_type": "markdown",
   "metadata": {},
   "source": [
    "## Example Fit / Calibration"
   ]
  },
  {
   "cell_type": "code",
   "execution_count": 2,
   "metadata": {},
   "outputs": [],
   "source": [
    "class Bayes:\n",
    "    def __init__(self, train, max_neutrons, label):\n",
    "        # Hypotheses: Zero to max neutrons\n",
    "        self._hypos = range(0, max_neutrons + 1)\n",
    "\n",
    "        # 'Fit' -> Create PDF for all numbers of neutrons\n",
    "        # TODO: Should they be normalized?\n",
    "        self._hits = {\n",
    "            h: np.histogram(\n",
    "                train[train[label] == h][\"nHits\"],\n",
    "                range=(0, 300),\n",
    "                bins=300,\n",
    "                density=True,\n",
    "            )[0]\n",
    "            for h in self._hypos\n",
    "        }\n",
    "        self._clus = {\n",
    "            h: np.histogram(\n",
    "                train[train[label] == h][\"nClus\"],\n",
    "                range=(0, 300),\n",
    "                bins=300,\n",
    "                density=True,\n",
    "            )[0]\n",
    "            for h in self._hypos\n",
    "        }\n",
    "        self._edep = {\n",
    "            h: np.histogram(\n",
    "                train[train[label] == h][\"Edep\"],\n",
    "                range=(0, 3000),\n",
    "                bins=300,\n",
    "                density=True,\n",
    "            )[0]\n",
    "            for h in self._hypos\n",
    "        }\n",
    "\n",
    "    def predict(self, x):\n",
    "        # 'Predict' -> Use PDFs to get probabilities and take the highest\n",
    "        probs = [\n",
    "            self._hits[h][x[\"nHits\"]]\n",
    "            * self._clus[h][x[\"nClus\"]]\n",
    "            * self._edep[h][x[\"Edep\"].floordiv(10).astype(int)]\n",
    "            for h in self._hypos\n",
    "        ]\n",
    "        y_pred = np.argmax(probs, axis=0)\n",
    "        return y_pred"
   ]
  },
  {
   "cell_type": "code",
   "execution_count": 3,
   "metadata": {},
   "outputs": [
    {
     "name": "stdout",
     "output_type": "stream",
     "text": [
      "[(0, 0), (1, 1), (1, 2), (1, 1), (1, 1), (1, 1), (1, 1), (1, 1), (1, 1), (1, 1), (1, 1), (1, 1), (1, 1), (1, 1), (1, 2), (1, 1), (0, 0), (1, 1), (1, 2), (1, 1), (1, 1), (1, 1), (1, 1), (1, 2), (1, 1), (1, 1), (1, 1), (1, 1), (1, 1), (1, 1), (1, 1), (1, 1), (1, 1), (1, 1), (1, 1), (1, 1), (1, 1), (1, 1), (1, 1), (1, 1), (1, 1), (1, 1), (1, 1), (1, 1), (1, 1), (1, 1), (1, 1), (1, 1), (1, 1), (1, 1)]\n"
     ]
    }
   ],
   "source": [
    "label = \"nPH\"\n",
    "num_dp = 30\n",
    "\n",
    "traindata = pd.read_pickle(f\"data/training_600AMeV_{num_dp}dp.pkl\")\n",
    "testdata = pd.read_pickle(f\"data/test_600AMeV_{num_dp}dp.pkl\")\n",
    "# Create one entry with zero everything to prevent NaN-PDF if no entry with LABEL=0 exists\n",
    "traindata.loc[0] = [0, 0, 0, 0, 0, 0]\n",
    "testdata.loc[0] = [0, 0, 0, 0, 0, 0]\n",
    "\n",
    "model = Bayes(traindata, 5, label)\n",
    "y_pred = model.predict(testdata)\n",
    "y_true = testdata[label].values.ravel()\n",
    "\n",
    "print(list(zip(y_true, y_pred))[0:50])"
   ]
  },
  {
   "cell_type": "markdown",
   "metadata": {},
   "source": [
    "## Example Prediction"
   ]
  },
  {
   "cell_type": "code",
   "execution_count": 4,
   "metadata": {},
   "outputs": [
    {
     "name": "stdout",
     "output_type": "stream",
     "text": [
      "0.7409791989865088\n",
      "[[ 2364     0     0     0     0     0]\n",
      " [    0 95014  7233     3     0     0]\n",
      " [    0 15096 71180 15661    88     0]\n",
      " [    0   929 20484 59587 20440   563]\n",
      " [    0    34  2267 22784 51698 24479]\n",
      " [    0     1   131  3260 21441 65228]]\n",
      "[[1.    0.    0.    0.    0.    0.   ]\n",
      " [0.    0.929 0.071 0.    0.    0.   ]\n",
      " [0.    0.148 0.698 0.154 0.001 0.   ]\n",
      " [0.    0.009 0.201 0.584 0.2   0.006]\n",
      " [0.    0.    0.022 0.225 0.511 0.242]\n",
      " [0.    0.    0.001 0.036 0.238 0.724]]\n"
     ]
    }
   ],
   "source": [
    "from sklearn.metrics import (\n",
    "    balanced_accuracy_score,\n",
    "    confusion_matrix,\n",
    "    plot_confusion_matrix,\n",
    ")\n",
    "\n",
    "np.set_printoptions(precision=3)\n",
    "np.set_printoptions(suppress=True)\n",
    "\n",
    "bac = balanced_accuracy_score(y_true, y_pred)\n",
    "print(bac)\n",
    "cm = confusion_matrix(y_true, y_pred, labels=range(0, 6))\n",
    "print(cm)\n",
    "cmrel = confusion_matrix(y_true, y_pred, labels=range(0, 6), normalize=\"true\")\n",
    "print(cmrel)"
   ]
  },
  {
   "cell_type": "code",
   "execution_count": 5,
   "metadata": {},
   "outputs": [
    {
     "data": {
      "image/png": "[encoded data removed]",
      "text/plain": [
       "<Figure size 720x504 with 2 Axes>"
      ]
     },
     "metadata": {
      "needs_background": "light"
     },
     "output_type": "display_data"
    }
   ],
   "source": [
    "import matplotlib.pyplot as plt\n",
    "import seaborn as sns\n",
    "\n",
    "plt.figure(figsize=(10, 7))\n",
    "ax = sns.heatmap(cmrel, cmap=\"viridis\", annot=True)\n",
    "ax.set_xlabel(\"Predicted\")\n",
    "ax.set_ylabel(\"True\");"
   ]
  },
  {
   "cell_type": "markdown",
   "metadata": {},
   "source": [
    "## Evaluation"
   ]
  },
  {
   "cell_type": "code",
   "execution_count": 6,
   "metadata": {},
   "outputs": [
    {
     "name": "stdout",
     "output_type": "stream",
     "text": [
      "15 2 nPN 0.3800931155085383\n",
      "15 2 nPH 0.4329745354212018\n",
      "15 3 nPN 0.4357624140537672\n",
      "15 3 nPH 0.5079331137128418\n",
      "15 4 nPN 0.4843344586611444\n",
      "15 4 nPH 0.5714982918100472\n",
      "15 5 nPN 0.527063071882835\n",
      "15 5 nPH 0.6286658274830559\n",
      "30 2 nPN 0.4534204900166869\n",
      "30 2 nPH 0.4635447565766337\n",
      "30 3 nPN 0.5532105813804225\n",
      "30 3 nPH 0.5694965357902869\n",
      "30 4 nPN 0.6385270425478756\n",
      "30 4 nPH 0.6605582965859027\n",
      "30 5 nPN 0.7132756777646793\n",
      "30 5 nPH 0.7409791989865088\n"
     ]
    }
   ],
   "source": [
    "bac_scores = {}\n",
    "for num_dp in [15, 30]:\n",
    "    traindata = pd.read_pickle(f\"data/training_600AMeV_{num_dp}dp.pkl\")\n",
    "    testdata = pd.read_pickle(f\"data/test_600AMeV_{num_dp}dp.pkl\")\n",
    "    # Create one entry with zero everything to prevent NaN-PDF if no entry with LABEL=0 exists\n",
    "    traindata.loc[0] = [0, 0, 0, 0, 0, 0]\n",
    "    testdata.loc[0] = [0, 0, 0, 0, 0, 0]\n",
    "\n",
    "    for n in range(2, 6):\n",
    "        for label in [\"nPN\", \"nPH\"]:\n",
    "            model = Bayes(traindata, n, label)\n",
    "            y_pred = model.predict(testdata)\n",
    "            y_true = testdata[label].values.ravel()\n",
    "            bac = balanced_accuracy_score(y_true, y_pred)\n",
    "            print(num_dp, n, label, bac)"
   ]
  }
 ],
 "metadata": {
  "kernelspec": {
   "display_name": "Python 3",
   "language": "python",
   "name": "python3"
  },
  "language_info": {
   "codemirror_mode": {
    "name": "ipython",
    "version": 3
   },
   "file_extension": ".py",
   "mimetype": "text/x-python",
   "name": "python",
   "nbconvert_exporter": "python",
   "pygments_lexer": "ipython3",
   "version": "3.8.1"
  }
 },
 "nbformat": 4,
 "nbformat_minor": 4
}

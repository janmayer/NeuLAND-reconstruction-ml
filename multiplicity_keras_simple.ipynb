{
 "cells": [
  {
   "cell_type": "markdown",
   "metadata": {},
   "source": [
    "# Super Simple Keras model on TriFeature for multiplicity determination"
   ]
  },
  {
   "cell_type": "code",
   "execution_count": 1,
   "metadata": {},
   "outputs": [
    {
     "name": "stderr",
     "output_type": "stream",
     "text": [
      "Using TensorFlow backend.\n"
     ]
    },
    {
     "name": "stdout",
     "output_type": "stream",
     "text": [
      "2.3.1\n"
     ]
    }
   ],
   "source": [
    "import numpy as np\n",
    "import pandas as pd\n",
    "import keras\n",
    "print(keras.__version__)"
   ]
  },
  {
   "cell_type": "code",
   "execution_count": 2,
   "metadata": {},
   "outputs": [
    {
     "name": "stdout",
     "output_type": "stream",
     "text": [
      "[[  50   24  874]\n",
      " [  18    7  192]\n",
      " [  55   36 1088]\n",
      " ...\n",
      " [  86   49 1231]\n",
      " [  34   11  664]\n",
      " [  85   23 1559]]\n",
      "[[0. 0. 0. 0. 1. 0.]\n",
      " [0. 1. 0. 0. 0. 0.]\n",
      " [0. 0. 0. 0. 0. 1.]\n",
      " ...\n",
      " [0. 0. 0. 0. 0. 1.]\n",
      " [0. 0. 1. 0. 0. 0.]\n",
      " [0. 0. 0. 0. 1. 0.]]\n"
     ]
    }
   ],
   "source": [
    "num_dp = 30\n",
    "max_neutrons = 5\n",
    "label = \"nPH\"\n",
    "\n",
    "traindata = pd.read_pickle(f\"data/training_600AMeV_{num_dp}dp.pkl\").sample(frac=1)\n",
    "x_train = traindata[[\"nHits\", \"nClus\", \"Edep\"]].values\n",
    "y_train = keras.utils.to_categorical(traindata[[label]].values.ravel())\n",
    "\n",
    "print(x_train)\n",
    "print(y_train)"
   ]
  },
  {
   "cell_type": "code",
   "execution_count": 21,
   "metadata": {},
   "outputs": [
    {
     "name": "stdout",
     "output_type": "stream",
     "text": [
      "Epoch 1/100\n",
      "4999569/4999569 [==============================] - 10s 2us/step - loss: 1.1948 - acc: 0.4897\n",
      "Epoch 2/100\n",
      "4999569/4999569 [==============================] - 9s 2us/step - loss: 0.7583 - acc: 0.6864\n",
      "Epoch 3/100\n",
      "4999569/4999569 [==============================] - 9s 2us/step - loss: 0.6940 - acc: 0.7124\n",
      "Epoch 4/100\n",
      "4999569/4999569 [==============================] - 9s 2us/step - loss: 0.6704 - acc: 0.7184\n",
      "Epoch 5/100\n",
      "4999569/4999569 [==============================] - 9s 2us/step - loss: 0.6599 - acc: 0.7200\n",
      "Epoch 6/100\n",
      "4999569/4999569 [==============================] - 9s 2us/step - loss: 0.6535 - acc: 0.7213\n",
      "Epoch 7/100\n",
      "4999569/4999569 [==============================] - 10s 2us/step - loss: 0.6499 - acc: 0.7220\n",
      "Epoch 8/100\n",
      "4999569/4999569 [==============================] - 10s 2us/step - loss: 0.6476 - acc: 0.7226\n",
      "Epoch 9/100\n",
      "4999569/4999569 [==============================] - 9s 2us/step - loss: 0.6463 - acc: 0.7226\n",
      "Epoch 10/100\n",
      "4999569/4999569 [==============================] - 9s 2us/step - loss: 0.6454 - acc: 0.7228\n",
      "Epoch 11/100\n",
      "4999569/4999569 [==============================] - 9s 2us/step - loss: 0.6440 - acc: 0.7229\n",
      "Epoch 12/100\n",
      "4999569/4999569 [==============================] - 10s 2us/step - loss: 0.6429 - acc: 0.7233\n",
      "Epoch 13/100\n",
      "4999569/4999569 [==============================] - 9s 2us/step - loss: 0.6408 - acc: 0.7236\n",
      "Epoch 14/100\n",
      "4999569/4999569 [==============================] - 9s 2us/step - loss: 0.6379 - acc: 0.7242\n",
      "Epoch 15/100\n",
      "4999569/4999569 [==============================] - 10s 2us/step - loss: 0.6370 - acc: 0.7243\n",
      "Epoch 16/100\n",
      "4999569/4999569 [==============================] - 10s 2us/step - loss: 0.6363 - acc: 0.7245\n",
      "Epoch 17/100\n",
      "4999569/4999569 [==============================] - 10s 2us/step - loss: 0.6358 - acc: 0.7245\n",
      "Epoch 18/100\n",
      "4999569/4999569 [==============================] - 10s 2us/step - loss: 0.6354 - acc: 0.7247\n",
      "Epoch 19/100\n",
      "4999569/4999569 [==============================] - 9s 2us/step - loss: 0.6352 - acc: 0.7247\n",
      "Epoch 20/100\n",
      "4999569/4999569 [==============================] - 9s 2us/step - loss: 0.6350 - acc: 0.7248\n",
      "Epoch 21/100\n",
      "4999569/4999569 [==============================] - 9s 2us/step - loss: 0.6347 - acc: 0.7248\n",
      "Epoch 22/100\n",
      "4999569/4999569 [==============================] - 9s 2us/step - loss: 0.6346 - acc: 0.7250\n",
      "Epoch 23/100\n",
      "4999569/4999569 [==============================] - 9s 2us/step - loss: 0.6344 - acc: 0.7249\n",
      "Epoch 24/100\n",
      "4999569/4999569 [==============================] - 9s 2us/step - loss: 0.6342 - acc: 0.7251\n",
      "Epoch 25/100\n",
      "4999569/4999569 [==============================] - 9s 2us/step - loss: 0.6342 - acc: 0.7249\n",
      "Epoch 26/100\n",
      "4999569/4999569 [==============================] - 10s 2us/step - loss: 0.6340 - acc: 0.7251\n",
      "Epoch 27/100\n",
      "4999569/4999569 [==============================] - 9s 2us/step - loss: 0.6339 - acc: 0.7251\n",
      "Epoch 28/100\n",
      "4999569/4999569 [==============================] - 9s 2us/step - loss: 0.6338 - acc: 0.7251\n",
      "Epoch 29/100\n",
      "4999569/4999569 [==============================] - 10s 2us/step - loss: 0.6338 - acc: 0.7251\n",
      "Epoch 30/100\n",
      "4999569/4999569 [==============================] - 10s 2us/step - loss: 0.6336 - acc: 0.7252\n",
      "Epoch 31/100\n",
      "4999569/4999569 [==============================] - 10s 2us/step - loss: 0.6336 - acc: 0.7251\n",
      "Epoch 32/100\n",
      "4999569/4999569 [==============================] - 10s 2us/step - loss: 0.6335 - acc: 0.7252\n",
      "Epoch 33/100\n",
      "4999569/4999569 [==============================] - 9s 2us/step - loss: 0.6334 - acc: 0.7252\n",
      "Epoch 34/100\n",
      "4999569/4999569 [==============================] - 10s 2us/step - loss: 0.6334 - acc: 0.7252\n",
      "Epoch 35/100\n",
      "4999569/4999569 [==============================] - 9s 2us/step - loss: 0.6333 - acc: 0.7252\n",
      "Epoch 36/100\n",
      "4999569/4999569 [==============================] - 10s 2us/step - loss: 0.6333 - acc: 0.7252\n",
      "Epoch 37/100\n",
      "4999569/4999569 [==============================] - 10s 2us/step - loss: 0.6332 - acc: 0.7252\n",
      "Epoch 38/100\n",
      "4999569/4999569 [==============================] - 10s 2us/step - loss: 0.6331 - acc: 0.7252\n",
      "Epoch 39/100\n",
      "4999569/4999569 [==============================] - 10s 2us/step - loss: 0.6330 - acc: 0.7252\n",
      "Epoch 40/100\n",
      "4999569/4999569 [==============================] - 9s 2us/step - loss: 0.6329 - acc: 0.7253\n",
      "Epoch 41/100\n",
      "4999569/4999569 [==============================] - 10s 2us/step - loss: 0.6329 - acc: 0.7253\n",
      "Epoch 42/100\n",
      "4999569/4999569 [==============================] - 9s 2us/step - loss: 0.6328 - acc: 0.7253\n",
      "Epoch 43/100\n",
      "4999569/4999569 [==============================] - 9s 2us/step - loss: 0.6327 - acc: 0.7253\n",
      "Epoch 44/100\n",
      "4999569/4999569 [==============================] - 9s 2us/step - loss: 0.6326 - acc: 0.7255\n",
      "Epoch 45/100\n",
      "4999569/4999569 [==============================] - 9s 2us/step - loss: 0.6326 - acc: 0.7254\n",
      "Epoch 46/100\n",
      "4999569/4999569 [==============================] - 9s 2us/step - loss: 0.6325 - acc: 0.7254\n",
      "Epoch 47/100\n",
      "4999569/4999569 [==============================] - 9s 2us/step - loss: 0.6324 - acc: 0.7254\n",
      "Epoch 48/100\n",
      "4999569/4999569 [==============================] - 9s 2us/step - loss: 0.6323 - acc: 0.7254\n",
      "Epoch 49/100\n",
      "4999569/4999569 [==============================] - 10s 2us/step - loss: 0.6322 - acc: 0.7255\n",
      "Epoch 50/100\n",
      "4999569/4999569 [==============================] - 9s 2us/step - loss: 0.6321 - acc: 0.7255\n",
      "Epoch 51/100\n",
      "4999569/4999569 [==============================] - 10s 2us/step - loss: 0.6321 - acc: 0.7255\n",
      "Epoch 52/100\n",
      "4999569/4999569 [==============================] - 10s 2us/step - loss: 0.6320 - acc: 0.7255\n",
      "Epoch 53/100\n",
      "4999569/4999569 [==============================] - 9s 2us/step - loss: 0.6318 - acc: 0.7255\n",
      "Epoch 54/100\n",
      "4999569/4999569 [==============================] - 9s 2us/step - loss: 0.6318 - acc: 0.7256\n",
      "Epoch 55/100\n",
      "4999569/4999569 [==============================] - 9s 2us/step - loss: 0.6317 - acc: 0.7257\n",
      "Epoch 56/100\n",
      "4999569/4999569 [==============================] - 9s 2us/step - loss: 0.6315 - acc: 0.7256\n",
      "Epoch 57/100\n",
      "4999569/4999569 [==============================] - 9s 2us/step - loss: 0.6315 - acc: 0.7257\n",
      "Epoch 58/100\n",
      "4999569/4999569 [==============================] - 9s 2us/step - loss: 0.6314 - acc: 0.7257\n",
      "Epoch 59/100\n",
      "4999569/4999569 [==============================] - 9s 2us/step - loss: 0.6312 - acc: 0.7257\n",
      "Epoch 60/100\n",
      "4999569/4999569 [==============================] - 9s 2us/step - loss: 0.6311 - acc: 0.7256\n",
      "Epoch 61/100\n",
      "4999569/4999569 [==============================] - 9s 2us/step - loss: 0.6310 - acc: 0.7258\n",
      "Epoch 62/100\n",
      "4999569/4999569 [==============================] - 9s 2us/step - loss: 0.6309 - acc: 0.7257\n",
      "Epoch 63/100\n",
      "4999569/4999569 [==============================] - 9s 2us/step - loss: 0.6308 - acc: 0.7258\n",
      "Epoch 64/100\n",
      "4999569/4999569 [==============================] - 8s 2us/step - loss: 0.6306 - acc: 0.7257\n",
      "Epoch 65/100\n",
      "4999569/4999569 [==============================] - 8s 2us/step - loss: 0.6305 - acc: 0.7257\n",
      "Epoch 66/100\n",
      "4999569/4999569 [==============================] - 8s 2us/step - loss: 0.6304 - acc: 0.7258\n",
      "Epoch 67/100\n",
      "4999569/4999569 [==============================] - 8s 2us/step - loss: 0.6303 - acc: 0.7258\n",
      "Epoch 68/100\n",
      "4999569/4999569 [==============================] - 8s 2us/step - loss: 0.6301 - acc: 0.7259\n",
      "Epoch 69/100\n",
      "4999569/4999569 [==============================] - 8s 2us/step - loss: 0.6299 - acc: 0.7259\n",
      "Epoch 70/100\n",
      "4999569/4999569 [==============================] - 8s 2us/step - loss: 0.6297 - acc: 0.7260\n",
      "Epoch 71/100\n",
      "4999569/4999569 [==============================] - 8s 2us/step - loss: 0.6292 - acc: 0.7262\n",
      "Epoch 72/100\n",
      "4999569/4999569 [==============================] - 9s 2us/step - loss: 0.6287 - acc: 0.7264\n",
      "Epoch 73/100\n",
      "4999569/4999569 [==============================] - 8s 2us/step - loss: 0.6282 - acc: 0.7266\n",
      "Epoch 74/100\n",
      "4999569/4999569 [==============================] - 8s 2us/step - loss: 0.6276 - acc: 0.7268\n",
      "Epoch 75/100\n",
      "4999569/4999569 [==============================] - 8s 2us/step - loss: 0.6268 - acc: 0.7270\n",
      "Epoch 76/100\n",
      "4999569/4999569 [==============================] - 8s 2us/step - loss: 0.6259 - acc: 0.7273\n",
      "Epoch 77/100\n",
      "4999569/4999569 [==============================] - 8s 2us/step - loss: 0.6251 - acc: 0.7274\n",
      "Epoch 78/100\n",
      "4999569/4999569 [==============================] - 8s 2us/step - loss: 0.6248 - acc: 0.7275\n",
      "Epoch 79/100\n",
      "4999569/4999569 [==============================] - 8s 2us/step - loss: 0.6245 - acc: 0.7276\n",
      "Epoch 80/100\n",
      "4999569/4999569 [==============================] - 9s 2us/step - loss: 0.6242 - acc: 0.7277\n",
      "Epoch 81/100\n",
      "4999569/4999569 [==============================] - 8s 2us/step - loss: 0.6240 - acc: 0.7278\n",
      "Epoch 82/100\n",
      "4999569/4999569 [==============================] - 9s 2us/step - loss: 0.6238 - acc: 0.7279\n",
      "Epoch 83/100\n",
      "4999569/4999569 [==============================] - 8s 2us/step - loss: 0.6236 - acc: 0.7279\n",
      "Epoch 84/100\n",
      "4999569/4999569 [==============================] - 8s 2us/step - loss: 0.6234 - acc: 0.7279\n",
      "Epoch 85/100\n",
      "4999569/4999569 [==============================] - 9s 2us/step - loss: 0.6233 - acc: 0.7281\n",
      "Epoch 86/100\n",
      "4999569/4999569 [==============================] - 8s 2us/step - loss: 0.6231 - acc: 0.7281\n",
      "Epoch 87/100\n",
      "4999569/4999569 [==============================] - 8s 2us/step - loss: 0.6230 - acc: 0.7280\n",
      "Epoch 88/100\n",
      "4999569/4999569 [==============================] - 8s 2us/step - loss: 0.6229 - acc: 0.7281\n",
      "Epoch 89/100\n",
      "4999569/4999569 [==============================] - 8s 2us/step - loss: 0.6228 - acc: 0.7283\n",
      "Epoch 90/100\n",
      "4999569/4999569 [==============================] - 8s 2us/step - loss: 0.6227 - acc: 0.7282\n",
      "Epoch 91/100\n",
      "4999569/4999569 [==============================] - 8s 2us/step - loss: 0.6226 - acc: 0.7282\n",
      "Epoch 92/100\n",
      "4999569/4999569 [==============================] - 9s 2us/step - loss: 0.6225 - acc: 0.7284\n",
      "Epoch 93/100\n",
      "4999569/4999569 [==============================] - 8s 2us/step - loss: 0.6224 - acc: 0.7284\n",
      "Epoch 94/100\n",
      "4999569/4999569 [==============================] - 8s 2us/step - loss: 0.6223 - acc: 0.7283\n",
      "Epoch 95/100\n",
      "4999569/4999569 [==============================] - 8s 2us/step - loss: 0.6222 - acc: 0.7284\n",
      "Epoch 96/100\n",
      "4999569/4999569 [==============================] - 8s 2us/step - loss: 0.6221 - acc: 0.7284\n",
      "Epoch 97/100\n",
      "4999569/4999569 [==============================] - 8s 2us/step - loss: 0.6221 - acc: 0.7284\n",
      "Epoch 98/100\n",
      "4999569/4999569 [==============================] - 8s 2us/step - loss: 0.6220 - acc: 0.7284\n",
      "Epoch 99/100\n",
      "4999569/4999569 [==============================] - 8s 2us/step - loss: 0.6219 - acc: 0.7285\n",
      "Epoch 100/100\n",
      "4999569/4999569 [==============================] - 8s 2us/step - loss: 0.6219 - acc: 0.7285\n"
     ]
    }
   ],
   "source": [
    "model = keras.models.Sequential()\n",
    "model.add(keras.layers.Dense(units=24, activation=\"relu\", input_shape=(3,)))\n",
    "model.add(keras.layers.Dense(units=9, activation=\"relu\"))\n",
    "model.add(keras.layers.Dense(units=max_neutrons + 1, activation=\"softmax\"))\n",
    "\n",
    "optimizer = keras.optimizers.Adagrad()#lr=0.01, decay=0.0)\n",
    "loss = keras.losses.categorical_crossentropy\n",
    "model.compile(loss=loss, optimizer=optimizer, metrics=[\"acc\"])\n",
    "\n",
    "history = model.fit(x=x_train, y=y_train, batch_size=1000, epochs=100, verbose=1)"
   ]
  },
  {
   "cell_type": "code",
   "execution_count": 22,
   "metadata": {},
   "outputs": [
    {
     "data": {
      "image/png": "[encoded data removed]",
      "text/plain": [
       "<Figure size 432x288 with 1 Axes>"
      ]
     },
     "metadata": {
      "needs_background": "light"
     },
     "output_type": "display_data"
    },
    {
     "data": {
      "image/png": "[encoded data removed]",
      "text/plain": [
       "<Figure size 432x288 with 1 Axes>"
      ]
     },
     "metadata": {
      "needs_background": "light"
     },
     "output_type": "display_data"
    }
   ],
   "source": [
    "import matplotlib.pyplot as plt\n",
    "\n",
    "# Plot training & validation accuracy values\n",
    "plt.plot(history.history[\"acc\"])\n",
    "#plt.plot(history.history[\"val_acc\"])\n",
    "plt.title(\"Model accuracy\")\n",
    "plt.ylabel(\"Accuracy\")\n",
    "plt.xlabel(\"Epoch\")\n",
    "plt.legend([\"Train\", \"Test\"], loc=\"upper left\")\n",
    "plt.show()\n",
    "\n",
    "# Plot training & validation loss values\n",
    "plt.plot(history.history[\"loss\"])\n",
    "#plt.plot(history.history[\"val_loss\"])\n",
    "plt.title(\"Model loss\")\n",
    "plt.ylabel(\"Loss\")\n",
    "plt.xlabel(\"Epoch\")\n",
    "plt.legend([\"Train\", \"Test\"], loc=\"upper left\")\n",
    "plt.show()"
   ]
  },
  {
   "cell_type": "code",
   "execution_count": 23,
   "metadata": {},
   "outputs": [
    {
     "name": "stdout",
     "output_type": "stream",
     "text": [
      "[(3, array([0.   , 0.   , 0.204, 0.67 , 0.12 , 0.006], dtype=float32)), (3, array([0.   , 0.   , 0.003, 0.513, 0.43 , 0.054], dtype=float32)), (3, array([0.   , 0.   , 0.   , 0.33 , 0.558, 0.112], dtype=float32)), (3, array([0.   , 0.   , 0.539, 0.42 , 0.04 , 0.001], dtype=float32)), (5, array([0.   , 0.   , 0.037, 0.654, 0.283, 0.026], dtype=float32)), (5, array([0.   , 0.   , 0.   , 0.001, 0.138, 0.861], dtype=float32)), (4, array([0.   , 0.   , 0.007, 0.541, 0.401, 0.051], dtype=float32)), (3, array([0.   , 0.   , 0.624, 0.354, 0.021, 0.   ], dtype=float32)), (5, array([0.   , 0.   , 0.   , 0.012, 0.376, 0.613], dtype=float32)), (1, array([0.   , 0.992, 0.008, 0.   , 0.   , 0.   ], dtype=float32))]\n",
      "0.7731722575752052\n",
      "[[ 2363     0     0     0     0     0]\n",
      " [    0 98068  4183     0     0     0]\n",
      " [    0 13494 80606  7922     3     0]\n",
      " [    0   812 22669 59809 18651    62]\n",
      " [    0    29  2483 20203 58955 19592]\n",
      " [    0     0   126  2540 22431 64964]]\n",
      "[[1.    0.    0.    0.    0.    0.   ]\n",
      " [0.    0.959 0.041 0.    0.    0.   ]\n",
      " [0.    0.132 0.79  0.078 0.    0.   ]\n",
      " [0.    0.008 0.222 0.586 0.183 0.001]\n",
      " [0.    0.    0.025 0.2   0.582 0.193]\n",
      " [0.    0.    0.001 0.028 0.249 0.721]]\n"
     ]
    }
   ],
   "source": [
    "from sklearn.metrics import (\n",
    "    balanced_accuracy_score,\n",
    "    confusion_matrix,\n",
    "    plot_confusion_matrix,\n",
    ")\n",
    "\n",
    "np.set_printoptions(precision=3)\n",
    "np.set_printoptions(suppress=True)\n",
    "\n",
    "testdata = pd.read_pickle(f\"data/test_600AMeV_{num_dp}dp.pkl\").sample(frac=1)\n",
    "x_test = testdata[[\"nHits\", \"nClus\", \"Edep\"]].values\n",
    "y_true = testdata[[label]].values.ravel()\n",
    "\n",
    "y_pred = model.predict(x_test)\n",
    "print(list(zip(y_true, y_pred))[0:10])\n",
    "\n",
    "\n",
    "y_pred = np.argmax(y_pred, axis=1)\n",
    "\n",
    "bac = balanced_accuracy_score(y_true, y_pred)\n",
    "print(bac)\n",
    "cm = confusion_matrix(y_true, y_pred, labels=range(0, 6))\n",
    "print(cm)\n",
    "cmrel = confusion_matrix(y_true, y_pred, labels=range(0, 6), normalize=\"true\")\n",
    "print(cmrel)"
   ]
  },
  {
   "cell_type": "code",
   "execution_count": 24,
   "metadata": {},
   "outputs": [
    {
     "data": {
      "image/png": "[encoded data removed]",
      "text/plain": [
       "<Figure size 720x504 with 2 Axes>"
      ]
     },
     "metadata": {
      "needs_background": "light"
     },
     "output_type": "display_data"
    }
   ],
   "source": [
    "import matplotlib.pyplot as plt\n",
    "import seaborn as sns\n",
    "\n",
    "plt.figure(figsize=(10, 7))\n",
    "ax = sns.heatmap(cmrel, cmap=\"viridis\", annot=True)\n",
    "ax.set_xlabel(\"Predicted\")\n",
    "ax.set_ylabel(\"True\");"
   ]
  }
 ],
 "metadata": {
  "kernelspec": {
   "display_name": "Python 3",
   "language": "python",
   "name": "python3"
  },
  "language_info": {
   "codemirror_mode": {
    "name": "ipython",
    "version": 3
   },
   "file_extension": ".py",
   "mimetype": "text/x-python",
   "name": "python",
   "nbconvert_exporter": "python",
   "pygments_lexer": "ipython3",
   "version": "3.7.4"
  }
 },
 "nbformat": 4,
 "nbformat_minor": 4
}

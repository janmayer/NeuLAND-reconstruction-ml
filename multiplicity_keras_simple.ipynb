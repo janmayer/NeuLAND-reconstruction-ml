{
 "cells": [
  {
   "cell_type": "markdown",
   "metadata": {},
   "source": [
    "# Super Simple Keras model on TriFeature for multiplicity determination"
   ]
  },
  {
   "cell_type": "code",
   "execution_count": 1,
   "metadata": {},
   "outputs": [
    {
     "name": "stderr",
     "output_type": "stream",
     "text": [
      "Using TensorFlow backend.\n"
     ]
    },
    {
     "name": "stdout",
     "output_type": "stream",
     "text": [
      "2.3.1\n"
     ]
    }
   ],
   "source": [
    "import numpy as np\n",
    "import pandas as pd\n",
    "import keras\n",
    "print(keras.__version__)"
   ]
  },
  {
   "cell_type": "code",
   "execution_count": 2,
   "metadata": {},
   "outputs": [
    {
     "name": "stdout",
     "output_type": "stream",
     "text": [
      "[[  50   24  874]\n",
      " [  18    7  192]\n",
      " [  55   36 1088]\n",
      " ...\n",
      " [  86   49 1231]\n",
      " [  34   11  664]\n",
      " [  85   23 1559]]\n",
      "[[0. 0. 0. 0. 1. 0.]\n",
      " [0. 1. 0. 0. 0. 0.]\n",
      " [0. 0. 0. 0. 0. 1.]\n",
      " ...\n",
      " [0. 0. 0. 0. 0. 1.]\n",
      " [0. 0. 1. 0. 0. 0.]\n",
      " [0. 0. 0. 0. 1. 0.]]\n"
     ]
    }
   ],
   "source": [
    "num_dp = 30\n",
    "max_neutrons = 5\n",
    "label = \"nPH\"\n",
    "\n",
    "traindata = pd.read_pickle(f\"data/training_600AMeV_{num_dp}dp.pkl\").sample(frac=1)\n",
    "x_train = traindata[[\"nHits\", \"nClus\", \"Edep\"]].values\n",
    "y_train = keras.utils.to_categorical(traindata[[label]].values.ravel())\n",
    "\n",
    "print(x_train)\n",
    "print(y_train)"
   ]
  },
  {
   "cell_type": "code",
   "execution_count": 10,
   "metadata": {},
   "outputs": [
    {
     "name": "stdout",
     "output_type": "stream",
     "text": [
      "Epoch 1/100\n",
      "4999569/4999569 [==============================] - 4s 1us/step - loss: 2.1448 - acc: 0.2413\n",
      "Epoch 2/100\n",
      "4999569/4999569 [==============================] - 4s 1us/step - loss: 1.6799 - acc: 0.2619\n",
      "Epoch 3/100\n",
      "4999569/4999569 [==============================] - 4s 1us/step - loss: 1.6497 - acc: 0.2844\n",
      "Epoch 4/100\n",
      "4999569/4999569 [==============================] - 4s 1us/step - loss: 1.6087 - acc: 0.3252\n",
      "Epoch 5/100\n",
      "4999569/4999569 [==============================] - 4s 1us/step - loss: 1.5510 - acc: 0.3559\n",
      "Epoch 6/100\n",
      "4999569/4999569 [==============================] - 4s 1us/step - loss: 1.4584 - acc: 0.3875\n",
      "Epoch 7/100\n",
      "4999569/4999569 [==============================] - 4s 1us/step - loss: 1.3648 - acc: 0.4102\n",
      "Epoch 8/100\n",
      "4999569/4999569 [==============================] - 4s 1us/step - loss: 1.3091 - acc: 0.4253\n",
      "Epoch 9/100\n",
      "4999569/4999569 [==============================] - 4s 1us/step - loss: 1.2696 - acc: 0.4360\n",
      "Epoch 10/100\n",
      "4999569/4999569 [==============================] - 4s 1us/step - loss: 1.2379 - acc: 0.4447\n",
      "Epoch 11/100\n",
      "4999569/4999569 [==============================] - 4s 1us/step - loss: 1.2114 - acc: 0.4518\n",
      "Epoch 12/100\n",
      "4999569/4999569 [==============================] - 4s 1us/step - loss: 1.1882 - acc: 0.4586\n",
      "Epoch 13/100\n",
      "4999569/4999569 [==============================] - 4s 1us/step - loss: 1.1666 - acc: 0.4658\n",
      "Epoch 14/100\n",
      "4999569/4999569 [==============================] - 4s 1us/step - loss: 1.1490 - acc: 0.4708\n",
      "Epoch 15/100\n",
      "4999569/4999569 [==============================] - 4s 1us/step - loss: 1.1314 - acc: 0.4773\n",
      "Epoch 16/100\n",
      "4999569/4999569 [==============================] - 4s 1us/step - loss: 1.1151 - acc: 0.4833\n",
      "Epoch 17/100\n",
      "4999569/4999569 [==============================] - 4s 1us/step - loss: 1.0986 - acc: 0.4898\n",
      "Epoch 18/100\n",
      "4999569/4999569 [==============================] - 4s 1us/step - loss: 1.0835 - acc: 0.4956\n",
      "Epoch 19/100\n",
      "4999569/4999569 [==============================] - 4s 1us/step - loss: 1.0675 - acc: 0.5007\n",
      "Epoch 20/100\n",
      "4999569/4999569 [==============================] - 4s 1us/step - loss: 1.0522 - acc: 0.5262\n",
      "Epoch 21/100\n",
      "4999569/4999569 [==============================] - 4s 1us/step - loss: 1.0357 - acc: 0.6016\n",
      "Epoch 22/100\n",
      "4999569/4999569 [==============================] - 4s 1us/step - loss: 1.0188 - acc: 0.6081\n",
      "Epoch 23/100\n",
      "4999569/4999569 [==============================] - 4s 1us/step - loss: 1.0035 - acc: 0.6148\n",
      "Epoch 24/100\n",
      "4999569/4999569 [==============================] - 4s 1us/step - loss: 0.9885 - acc: 0.6198\n",
      "Epoch 25/100\n",
      "4999569/4999569 [==============================] - 4s 1us/step - loss: 0.9737 - acc: 0.6234\n",
      "Epoch 26/100\n",
      "4999569/4999569 [==============================] - 4s 1us/step - loss: 0.9571 - acc: 0.6299\n",
      "Epoch 27/100\n",
      "4999569/4999569 [==============================] - 4s 1us/step - loss: 0.9439 - acc: 0.6310\n",
      "Epoch 28/100\n",
      "4999569/4999569 [==============================] - 4s 1us/step - loss: 0.9302 - acc: 0.6340\n",
      "Epoch 29/100\n",
      "4999569/4999569 [==============================] - 4s 1us/step - loss: 0.9175 - acc: 0.6369\n",
      "Epoch 30/100\n",
      "4999569/4999569 [==============================] - 4s 1us/step - loss: 0.9051 - acc: 0.6411\n",
      "Epoch 31/100\n",
      "4999569/4999569 [==============================] - 4s 1us/step - loss: 0.8953 - acc: 0.6432\n",
      "Epoch 32/100\n",
      "4999569/4999569 [==============================] - 4s 1us/step - loss: 0.8844 - acc: 0.6479\n",
      "Epoch 33/100\n",
      "4999569/4999569 [==============================] - 4s 1us/step - loss: 0.8754 - acc: 0.6506\n",
      "Epoch 34/100\n",
      "4999569/4999569 [==============================] - 4s 1us/step - loss: 0.8669 - acc: 0.6535\n",
      "Epoch 35/100\n",
      "4999569/4999569 [==============================] - 4s 1us/step - loss: 0.8585 - acc: 0.6570\n",
      "Epoch 36/100\n",
      "4999569/4999569 [==============================] - 4s 1us/step - loss: 0.8507 - acc: 0.6604\n",
      "Epoch 37/100\n",
      "4999569/4999569 [==============================] - 4s 1us/step - loss: 0.8433 - acc: 0.6635\n",
      "Epoch 38/100\n",
      "4999569/4999569 [==============================] - 4s 1us/step - loss: 0.8367 - acc: 0.6663\n",
      "Epoch 39/100\n",
      "4999569/4999569 [==============================] - 4s 1us/step - loss: 0.8316 - acc: 0.6674\n",
      "Epoch 40/100\n",
      "4999569/4999569 [==============================] - 4s 1us/step - loss: 0.8247 - acc: 0.6711\n",
      "Epoch 41/100\n",
      "4999569/4999569 [==============================] - 4s 1us/step - loss: 0.8205 - acc: 0.6718\n",
      "Epoch 42/100\n",
      "4999569/4999569 [==============================] - 4s 1us/step - loss: 0.8150 - acc: 0.6743\n",
      "Epoch 43/100\n",
      "4999569/4999569 [==============================] - 4s 1us/step - loss: 0.8090 - acc: 0.6778\n",
      "Epoch 44/100\n",
      "4999569/4999569 [==============================] - 4s 1us/step - loss: 0.8061 - acc: 0.6777\n",
      "Epoch 45/100\n",
      "4999569/4999569 [==============================] - 4s 1us/step - loss: 0.8024 - acc: 0.6788\n",
      "Epoch 46/100\n",
      "4999569/4999569 [==============================] - 4s 1us/step - loss: 0.7967 - acc: 0.6823\n",
      "Epoch 47/100\n",
      "4999569/4999569 [==============================] - 4s 1us/step - loss: 0.7937 - acc: 0.6830\n",
      "Epoch 48/100\n",
      "4999569/4999569 [==============================] - 4s 1us/step - loss: 0.7913 - acc: 0.6828\n",
      "Epoch 49/100\n",
      "4999569/4999569 [==============================] - 4s 1us/step - loss: 0.7866 - acc: 0.6855\n",
      "Epoch 50/100\n",
      "4999569/4999569 [==============================] - 4s 1us/step - loss: 0.7841 - acc: 0.6860\n",
      "Epoch 51/100\n",
      "4999569/4999569 [==============================] - 4s 1us/step - loss: 0.7796 - acc: 0.6889\n",
      "Epoch 52/100\n",
      "4999569/4999569 [==============================] - 4s 1us/step - loss: 0.7767 - acc: 0.6897\n",
      "Epoch 53/100\n",
      "4999569/4999569 [==============================] - 4s 1us/step - loss: 0.7733 - acc: 0.6915\n",
      "Epoch 54/100\n",
      "4999569/4999569 [==============================] - 4s 1us/step - loss: 0.7713 - acc: 0.6917\n",
      "Epoch 55/100\n",
      "4999569/4999569 [==============================] - 4s 1us/step - loss: 0.7692 - acc: 0.6919\n",
      "Epoch 56/100\n",
      "4999569/4999569 [==============================] - 4s 1us/step - loss: 0.7669 - acc: 0.6926\n",
      "Epoch 57/100\n",
      "4999569/4999569 [==============================] - 4s 1us/step - loss: 0.7632 - acc: 0.6946\n",
      "Epoch 58/100\n",
      "4999569/4999569 [==============================] - 4s 1us/step - loss: 0.7628 - acc: 0.6935\n",
      "Epoch 59/100\n",
      "4999569/4999569 [==============================] - 4s 1us/step - loss: 0.7591 - acc: 0.6958\n",
      "Epoch 60/100\n",
      "4999569/4999569 [==============================] - 4s 1us/step - loss: 0.7570 - acc: 0.6965\n",
      "Epoch 61/100\n",
      "4999569/4999569 [==============================] - 4s 1us/step - loss: 0.7550 - acc: 0.6969\n",
      "Epoch 62/100\n",
      "4999569/4999569 [==============================] - 4s 1us/step - loss: 0.7538 - acc: 0.6962\n",
      "Epoch 63/100\n",
      "4999569/4999569 [==============================] - 4s 1us/step - loss: 0.7511 - acc: 0.6976\n",
      "Epoch 64/100\n",
      "4999569/4999569 [==============================] - 4s 1us/step - loss: 0.7491 - acc: 0.6983\n",
      "Epoch 65/100\n",
      "4999569/4999569 [==============================] - 4s 1us/step - loss: 0.7474 - acc: 0.6982\n",
      "Epoch 66/100\n",
      "4999569/4999569 [==============================] - 4s 1us/step - loss: 0.7456 - acc: 0.6984\n",
      "Epoch 67/100\n",
      "4999569/4999569 [==============================] - 4s 1us/step - loss: 0.7425 - acc: 0.7001\n",
      "Epoch 68/100\n",
      "4999569/4999569 [==============================] - 4s 1us/step - loss: 0.7417 - acc: 0.6991\n",
      "Epoch 69/100\n",
      "4999569/4999569 [==============================] - 4s 1us/step - loss: 0.7385 - acc: 0.7006\n",
      "Epoch 70/100\n",
      "4999569/4999569 [==============================] - 4s 1us/step - loss: 0.7373 - acc: 0.6998\n",
      "Epoch 71/100\n",
      "4999569/4999569 [==============================] - 4s 1us/step - loss: 0.7343 - acc: 0.7011\n",
      "Epoch 72/100\n",
      "4999569/4999569 [==============================] - 4s 1us/step - loss: 0.7327 - acc: 0.7005\n",
      "Epoch 73/100\n",
      "4999569/4999569 [==============================] - 4s 1us/step - loss: 0.7294 - acc: 0.7021\n",
      "Epoch 74/100\n",
      "4999569/4999569 [==============================] - 4s 1us/step - loss: 0.7281 - acc: 0.7014\n",
      "Epoch 75/100\n",
      "4999569/4999569 [==============================] - 4s 1us/step - loss: 0.7264 - acc: 0.7015\n",
      "Epoch 76/100\n",
      "4999569/4999569 [==============================] - 4s 1us/step - loss: 0.7231 - acc: 0.7030\n",
      "Epoch 77/100\n",
      "4999569/4999569 [==============================] - 4s 1us/step - loss: 0.7210 - acc: 0.7038\n",
      "Epoch 78/100\n",
      "4999569/4999569 [==============================] - 4s 1us/step - loss: 0.7186 - acc: 0.7047\n",
      "Epoch 79/100\n",
      "4999569/4999569 [==============================] - 4s 1us/step - loss: 0.7173 - acc: 0.7049\n",
      "Epoch 80/100\n",
      "4999569/4999569 [==============================] - 4s 1us/step - loss: 0.7148 - acc: 0.7059\n",
      "Epoch 81/100\n",
      "4999569/4999569 [==============================] - 4s 1us/step - loss: 0.7117 - acc: 0.7078\n",
      "Epoch 82/100\n",
      "4999569/4999569 [==============================] - 4s 1us/step - loss: 0.7104 - acc: 0.7076\n",
      "Epoch 83/100\n",
      "4999569/4999569 [==============================] - 4s 1us/step - loss: 0.7074 - acc: 0.7094\n",
      "Epoch 84/100\n",
      "4999569/4999569 [==============================] - 4s 1us/step - loss: 0.7055 - acc: 0.7098\n",
      "Epoch 85/100\n",
      "4999569/4999569 [==============================] - 4s 1us/step - loss: 0.7033 - acc: 0.7108\n",
      "Epoch 86/100\n",
      "4999569/4999569 [==============================] - 4s 1us/step - loss: 0.7017 - acc: 0.7111\n",
      "Epoch 87/100\n",
      "4999569/4999569 [==============================] - 4s 1us/step - loss: 0.6991 - acc: 0.7127\n",
      "Epoch 88/100\n",
      "4999569/4999569 [==============================] - 4s 1us/step - loss: 0.6979 - acc: 0.7127\n",
      "Epoch 89/100\n",
      "4999569/4999569 [==============================] - 4s 1us/step - loss: 0.6965 - acc: 0.7129\n",
      "Epoch 90/100\n",
      "4999569/4999569 [==============================] - 4s 1us/step - loss: 0.6948 - acc: 0.7137\n",
      "Epoch 91/100\n",
      "4999569/4999569 [==============================] - 4s 1us/step - loss: 0.6932 - acc: 0.7143\n",
      "Epoch 92/100\n",
      "4999569/4999569 [==============================] - 4s 1us/step - loss: 0.6924 - acc: 0.7143\n",
      "Epoch 93/100\n",
      "4999569/4999569 [==============================] - 4s 1us/step - loss: 0.6913 - acc: 0.7142\n",
      "Epoch 94/100\n",
      "4999569/4999569 [==============================] - 4s 1us/step - loss: 0.6895 - acc: 0.7153\n",
      "Epoch 95/100\n",
      "4999569/4999569 [==============================] - 4s 1us/step - loss: 0.6889 - acc: 0.7149\n",
      "Epoch 96/100\n",
      "4999569/4999569 [==============================] - 4s 1us/step - loss: 0.6872 - acc: 0.7159\n",
      "Epoch 97/100\n",
      "4999569/4999569 [==============================] - 4s 1us/step - loss: 0.6866 - acc: 0.7156\n",
      "Epoch 98/100\n",
      "4999569/4999569 [==============================] - 4s 1us/step - loss: 0.6854 - acc: 0.7161\n",
      "Epoch 99/100\n",
      "4999569/4999569 [==============================] - 4s 1us/step - loss: 0.6843 - acc: 0.7165\n",
      "Epoch 100/100\n",
      "4999569/4999569 [==============================] - 4s 1us/step - loss: 0.6826 - acc: 0.7175\n"
     ]
    }
   ],
   "source": [
    "model = keras.models.Sequential()\n",
    "model.add(keras.layers.Dense(units=24, activation=\"relu\", input_shape=(3,)))\n",
    "model.add(keras.layers.Dense(units=9, activation=\"relu\"))\n",
    "model.add(keras.layers.Dense(units=max_neutrons + 1, activation=\"softmax\"))\n",
    "\n",
    "optimizer = keras.optimizers.Adagrad()#lr=0.01, decay=0.0)\n",
    "loss = keras.losses.categorical_crossentropy\n",
    "model.compile(loss=loss, optimizer=optimizer, metrics=[\"acc\"])\n",
    "\n",
    "history = model.fit(x=x_train, y=y_train, batch_size=10000, epochs=100, verbose=1)"
   ]
  },
  {
   "cell_type": "code",
   "execution_count": 11,
   "metadata": {},
   "outputs": [
    {
     "data": {
      "image/png": "[encoded data removed]",
      "text/plain": [
       "<Figure size 432x288 with 1 Axes>"
      ]
     },
     "metadata": {
      "needs_background": "light"
     },
     "output_type": "display_data"
    },
    {
     "data": {
      "image/png": "[encoded data removed]",
      "text/plain": [
       "<Figure size 432x288 with 1 Axes>"
      ]
     },
     "metadata": {
      "needs_background": "light"
     },
     "output_type": "display_data"
    }
   ],
   "source": [
    "import matplotlib.pyplot as plt\n",
    "\n",
    "# Plot training & validation accuracy values\n",
    "plt.plot(history.history[\"acc\"])\n",
    "#plt.plot(history.history[\"val_acc\"])\n",
    "plt.title(\"Model accuracy\")\n",
    "plt.ylabel(\"Accuracy\")\n",
    "plt.xlabel(\"Epoch\")\n",
    "plt.legend([\"Train\", \"Test\"], loc=\"upper left\")\n",
    "plt.show()\n",
    "\n",
    "# Plot training & validation loss values\n",
    "plt.plot(history.history[\"loss\"])\n",
    "#plt.plot(history.history[\"val_loss\"])\n",
    "plt.title(\"Model loss\")\n",
    "plt.ylabel(\"Loss\")\n",
    "plt.xlabel(\"Epoch\")\n",
    "plt.legend([\"Train\", \"Test\"], loc=\"upper left\")\n",
    "plt.show()"
   ]
  },
  {
   "cell_type": "code",
   "execution_count": 18,
   "metadata": {},
   "outputs": [
    {
     "name": "stdout",
     "output_type": "stream",
     "text": [
      "[(4, array([0.001, 0.007, 0.023, 0.281, 0.513, 0.175], dtype=float32)), (5, array([0.   , 0.006, 0.068, 0.638, 0.273, 0.015], dtype=float32)), (1, array([0.   , 0.999, 0.001, 0.   , 0.   , 0.   ], dtype=float32)), (2, array([0.   , 0.013, 0.786, 0.183, 0.016, 0.002], dtype=float32)), (1, array([0.   , 0.882, 0.113, 0.004, 0.   , 0.   ], dtype=float32)), (3, array([0.   , 0.007, 0.038, 0.425, 0.451, 0.078], dtype=float32)), (5, array([0.004, 0.002, 0.003, 0.041, 0.309, 0.641], dtype=float32)), (4, array([0.004, 0.002, 0.003, 0.041, 0.309, 0.641], dtype=float32)), (3, array([0.   , 0.006, 0.085, 0.675, 0.224, 0.01 ], dtype=float32)), (3, array([0.   , 0.007, 0.044, 0.474, 0.417, 0.057], dtype=float32))]\n",
      "0.7571180594656285\n",
      "[[ 2363     0     0     0     0     0]\n",
      " [    0 96480  5771     0     0     0]\n",
      " [    0 12184 76524 13309     8     0]\n",
      " [    0   645 17968 62803 19657   930]\n",
      " [    0    22  1675 19662 38050 41853]\n",
      " [    0     0    84  2342 10395 77240]]\n",
      "[[1.    0.    0.    0.    0.    0.   ]\n",
      " [0.    0.944 0.056 0.    0.    0.   ]\n",
      " [0.    0.119 0.75  0.13  0.    0.   ]\n",
      " [0.    0.006 0.176 0.616 0.193 0.009]\n",
      " [0.    0.    0.017 0.194 0.376 0.413]\n",
      " [0.    0.    0.001 0.026 0.115 0.858]]\n"
     ]
    }
   ],
   "source": [
    "from sklearn.metrics import (\n",
    "    balanced_accuracy_score,\n",
    "    confusion_matrix,\n",
    "    plot_confusion_matrix,\n",
    ")\n",
    "\n",
    "np.set_printoptions(precision=3)\n",
    "np.set_printoptions(suppress=True)\n",
    "\n",
    "testdata = pd.read_pickle(f\"data/test_600AMeV_{num_dp}dp.pkl\").sample(frac=1)\n",
    "x_test = testdata[[\"nHits\", \"nClus\", \"Edep\"]].values\n",
    "y_true = testdata[[label]].values.ravel()\n",
    "\n",
    "y_pred = model.predict(x_test)\n",
    "print(list(zip(y_true, y_pred))[0:10])\n",
    "\n",
    "\n",
    "y_pred = np.argmax(y_pred, axis=1)\n",
    "\n",
    "bac = balanced_accuracy_score(y_true, y_pred)\n",
    "print(bac)\n",
    "cm = confusion_matrix(y_true, y_pred, labels=range(0, 6))\n",
    "print(cm)\n",
    "cmrel = confusion_matrix(y_true, y_pred, labels=range(0, 6), normalize=\"true\")\n",
    "print(cmrel)"
   ]
  },
  {
   "cell_type": "code",
   "execution_count": 19,
   "metadata": {},
   "outputs": [
    {
     "data": {
      "image/png": "[encoded data removed]",
      "text/plain": [
       "<Figure size 720x504 with 2 Axes>"
      ]
     },
     "metadata": {
      "needs_background": "light"
     },
     "output_type": "display_data"
    }
   ],
   "source": [
    "import matplotlib.pyplot as plt\n",
    "import seaborn as sns\n",
    "\n",
    "plt.figure(figsize=(10, 7))\n",
    "ax = sns.heatmap(cmrel, cmap=\"viridis\", annot=True)\n",
    "ax.set_xlabel(\"Predicted\")\n",
    "ax.set_ylabel(\"True\");"
   ]
  },
  {
   "cell_type": "code",
   "execution_count": null,
   "metadata": {},
   "outputs": [],
   "source": []
  }
 ],
 "metadata": {
  "kernelspec": {
   "display_name": "Python 3",
   "language": "python",
   "name": "python3"
  },
  "language_info": {
   "codemirror_mode": {
    "name": "ipython",
    "version": 3
   },
   "file_extension": ".py",
   "mimetype": "text/x-python",
   "name": "python",
   "nbconvert_exporter": "python",
   "pygments_lexer": "ipython3",
   "version": "3.7.4"
  }
 },
 "nbformat": 4,
 "nbformat_minor": 4
}

{
 "cells": [
  {
   "cell_type": "markdown",
   "metadata": {},
   "source": [
    "# Explore ROOT files"
   ]
  },
  {
   "cell_type": "code",
   "execution_count": 1,
   "metadata": {},
   "outputs": [
    {
     "name": "stdout",
     "output_type": "stream",
     "text": [
      "Welcome to JupyROOT 6.16/00\n"
     ]
    }
   ],
   "source": [
    "import ROOT\n",
    "import h5py\n",
    "import numpy as np"
   ]
  },
  {
   "cell_type": "code",
   "execution_count": 2,
   "metadata": {},
   "outputs": [
    {
     "name": "stdout",
     "output_type": "stream",
     "text": [
      "Reading ROOT file simulation/training_600AMeV_30dp_1n.digi.root\n",
      "1 1 1 24 15\n",
      "1 1 1 16 2\n",
      "1 1 1 31 15\n",
      "1 1 1 21 10\n",
      "1 1 1 15 8\n",
      "1 1 1 9 7\n",
      "1 1 1 17 7\n",
      "1 1 1 19 1\n",
      "1 1 1 20 5\n",
      "1 1 1 20 7\n",
      "1 1 1 13 8\n"
     ]
    }
   ],
   "source": [
    "beam_energy = 600\n",
    "num_dp = 30\n",
    "neutrons = 1\n",
    "\n",
    "filename = f\"simulation/training_{beam_energy}AMeV_{num_dp}dp_{neutrons}n.digi.root\"\n",
    "print(f\"Reading ROOT file {filename}\")\n",
    "tfile = ROOT.TFile.Open(filename)\n",
    "ttree = tfile.Get(\"evt\")\n",
    "i = 0\n",
    "for event in ttree:\n",
    "    print(\n",
    "        neutrons,\n",
    "        event.NeulandPrimaryPoints.GetEntries(),\n",
    "        event.NeulandPrimaryHits.GetEntries(),\n",
    "        event.NeulandHits.GetEntries(),\n",
    "        event.NeulandClusters.GetEntries(),\n",
    "    )\n",
    "    i += 1\n",
    "    if i > 10:\n",
    "        break"
   ]
  }
 ],
 "metadata": {
  "kernelspec": {
   "display_name": "Python 3",
   "language": "python",
   "name": "python3"
  },
  "language_info": {
   "codemirror_mode": {
    "name": "ipython",
    "version": 3
   },
   "file_extension": ".py",
   "mimetype": "text/x-python",
   "name": "python",
   "nbconvert_exporter": "python",
   "pygments_lexer": "ipython3",
   "version": "3.7.4"
  }
 },
 "nbformat": 4,
 "nbformat_minor": 4
}

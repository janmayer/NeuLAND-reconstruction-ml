{
 "cells": [
  {
   "cell_type": "code",
   "execution_count": 1,
   "metadata": {},
   "outputs": [],
   "source": [
    "import copy\n",
    "import sys\n",
    "import time\n",
    "\n",
    "import numpy as np\n",
    "import pandas as pd\n",
    "import sklearn.preprocessing\n",
    "\n",
    "sys.path.append(\"..\")\n",
    "from helpers import filename_for"
   ]
  },
  {
   "cell_type": "code",
   "execution_count": 2,
   "metadata": {},
   "outputs": [
    {
     "name": "stdout",
     "output_type": "stream",
     "text": [
      "tensorflow 2.1.0\n",
      "keras 2.2.4-tf\n"
     ]
    }
   ],
   "source": [
    "import tensorflow\n",
    "from tensorflow import keras\n",
    "\n",
    "print(\"tensorflow\", tensorflow.__version__)\n",
    "print(\"keras\", keras.__version__)"
   ]
  },
  {
   "cell_type": "code",
   "execution_count": 3,
   "metadata": {},
   "outputs": [],
   "source": [
    "class DataGeneratorBars(keras.utils.Sequence):\n",
    "    def __init__(self, config):\n",
    "        self.c = config\n",
    "\n",
    "        self.labels = []\n",
    "        self.featuresTri = []\n",
    "        self.featuresBars = []\n",
    "\n",
    "        self.scaler_tri = sklearn.preprocessing.MaxAbsScaler()\n",
    "        self.scaler_e = sklearn.preprocessing.MaxAbsScaler()\n",
    "        self.scaler_t = sklearn.preprocessing.MaxAbsScaler()\n",
    "\n",
    "        file = filename_for(\n",
    "            self.c[\"distance\"],\n",
    "            self.c[\"doubleplane\"],\n",
    "            self.c[\"energy\"],\n",
    "            self.c[\"erel\"],\n",
    "            self.c[\"neutrons\"][0],\n",
    "            \"inclxx\",\n",
    "            self.c[\"subruns\"][0],\n",
    "            \"bars.parquet\",\n",
    "        )\n",
    "        data = pd.read_parquet(file)\n",
    "        rows = len(data.index)\n",
    "        del data\n",
    "\n",
    "        self.batches_per_subrun = (rows * len(self.c[\"neutrons\"])) // self.c[\"batch_size\"]\n",
    "        self.batches_per_cache = self.batches_per_subrun * self.c[\"subrun_cache_size\"]\n",
    "        self.len = self.batches_per_subrun * len(self.c[\"subruns\"])\n",
    "\n",
    "        self.cache_subruns = [\n",
    "            self.c[\"subruns\"][i : i + self.c[\"subrun_cache_size\"]]\n",
    "            for i in range(0, len(self.c[\"subruns\"]), self.c[\"subrun_cache_size\"])\n",
    "        ]\n",
    "        self.current_cache = -1\n",
    "\n",
    "        print(f\"Rows in one file: {rows}\")\n",
    "        print(f\"{self.batches_per_subrun} batches per subrun\")\n",
    "        print(f\"{self.len} total batches in {self.cache_subruns} caches\")\n",
    "\n",
    "        self.fitscalers()\n",
    "        self.load(0)\n",
    "\n",
    "    def __len__(self):\n",
    "        return self.len\n",
    "\n",
    "    def __getitem__(self, index):\n",
    "        cacheid = index // self.batches_per_cache\n",
    "        i = index % (self.batches_per_cache)\n",
    "        # print(f\"{index} -> c{cacheid}-i{i}\")\n",
    "\n",
    "        if cacheid != self.current_cache:\n",
    "            self.load(cacheid)\n",
    "\n",
    "        a = i * self.c[\"batch_size\"]\n",
    "        b = (i + 1) * self.c[\"batch_size\"]\n",
    "\n",
    "        tri = self.featuresTri[a:b]\n",
    "        bars = self.featuresBars[a:b]\n",
    "        x = [tri, bars]\n",
    "        y = self.labels[a:b]\n",
    "        return x, y, [None]\n",
    "\n",
    "    def load(self, cacheid):\n",
    "        subruns = self.cache_subruns[cacheid]\n",
    "        print(f\"Loading subruns {subruns} for cache {cacheid}\")\n",
    "\n",
    "        files = [\n",
    "            filename_for(\n",
    "                self.c[\"distance\"],\n",
    "                self.c[\"doubleplane\"],\n",
    "                self.c[\"energy\"],\n",
    "                self.c[\"erel\"],\n",
    "                n,\n",
    "                \"inclxx\",\n",
    "                subrun,\n",
    "                \"bars.parquet\",\n",
    "            )\n",
    "            for n in self.c[\"neutrons\"]\n",
    "            for subrun in subruns\n",
    "        ]\n",
    "        data = pd.concat([pd.read_parquet(file) for file in files], ignore_index=True).sample(frac=1)\n",
    "        data.loc[data[\"nHits\"] == 0, self.c[\"label\"]] = 0\n",
    "\n",
    "        self.current_cache = cacheid\n",
    "        self.featuresTri = self.scaler_tri.transform(data[self.c[\"cols_tri\"]])\n",
    "        self.featuresBars = np.concatenate(\n",
    "            (\n",
    "                self.scaler_e.transform(data[self.c[\"cols_e\"]].values.reshape(-1, 1)).reshape(\n",
    "                    -1, len(self.c[\"cols_e\"])\n",
    "                ),\n",
    "                self.scaler_t.transform(data[self.c[\"cols_t\"]].values.reshape(-1, 1)).reshape(\n",
    "                    -1, len(self.c[\"cols_t\"])\n",
    "                ),\n",
    "            ),\n",
    "            axis=1,\n",
    "        )\n",
    "        self.labels = keras.utils.to_categorical(\n",
    "            data[[self.c[\"label\"]]].values.ravel(), num_classes=len(self.c[\"neutrons\"]) + 1\n",
    "        )\n",
    "        del data\n",
    "\n",
    "    def fitscalers(self):\n",
    "        subruns = range(5)  # self.cache_subruns[0]\n",
    "        files = [\n",
    "            filename_for(\n",
    "                self.c[\"distance\"],\n",
    "                self.c[\"doubleplane\"],\n",
    "                self.c[\"energy\"],\n",
    "                self.c[\"erel\"],\n",
    "                n,\n",
    "                \"inclxx\",\n",
    "                subrun,\n",
    "                \"bars.parquet\",\n",
    "            )\n",
    "            for n in self.c[\"neutrons\"]\n",
    "            for subrun in subruns\n",
    "        ]\n",
    "        data = pd.concat([pd.read_parquet(file) for file in files], ignore_index=True)\n",
    "        self.scaler_tri.fit(data[self.c[\"cols_tri\"]])\n",
    "        self.scaler_e.fit(data[self.c[\"cols_e\"]].values.reshape(-1, 1))\n",
    "        self.scaler_t.fit(data[self.c[\"cols_t\"]].values.reshape(-1, 1))\n",
    "        del data"
   ]
  },
  {
   "cell_type": "code",
   "execution_count": 4,
   "metadata": {},
   "outputs": [],
   "source": [
    "config = {\n",
    "    \"distance\": 15,\n",
    "    \"doubleplane\": 30,\n",
    "    \"energy\": 600,\n",
    "    \"erel\": 500,\n",
    "    \"neutrons\": [1, 2, 3, 4],\n",
    "    \"subruns\": range(7),  # range(19),\n",
    "    \"subrun_cache_size\": 7,\n",
    "    \"batch_size\": 200,\n",
    "    \"cols_tri\": [\"nHits\", \"nClus\", \"Edep\"],\n",
    "    \"cols_e\": [str(i) for i in range(0, 30 * 100 * 2, 2)],\n",
    "    \"cols_t\": [str(i + 1) for i in range(0, 30 * 100 * 2, 2)],\n",
    "    \"label\": \"nPN\",\n",
    "}\n",
    "\n",
    "validation_config = config.copy()\n",
    "validation_config[\"subruns\"] = [19]"
   ]
  },
  {
   "cell_type": "code",
   "execution_count": 5,
   "metadata": {},
   "outputs": [
    {
     "name": "stdout",
     "output_type": "stream",
     "text": [
      "Rows in one file: 10000\n",
      "200 batches per subrun\n",
      "1400 total batches in [range(0, 7)] caches\n",
      "Loading subruns range(0, 7) for cache 0\n",
      "Rows in one file: 10000\n",
      "200 batches per subrun\n",
      "200 total batches in [[19]] caches\n",
      "Loading subruns [19] for cache 0\n"
     ]
    }
   ],
   "source": [
    "generator = DataGeneratorBars(config)\n",
    "validation_generator = DataGeneratorBars(validation_config)"
   ]
  },
  {
   "cell_type": "code",
   "execution_count": 6,
   "metadata": {},
   "outputs": [],
   "source": [
    "from tensorflow.keras.layers import Input, Dense, concatenate\n",
    "from tensorflow.keras.models import Model\n",
    "\n",
    "# define two sets of inputs\n",
    "inputTri = Input(shape=(3,))\n",
    "inputBars = Input(shape=(30*100*2,))\n",
    "\n",
    "# the first branch operates on the first input\n",
    "t = Dense(40, activation=\"relu\")(inputTri)\n",
    "t = Dense(35, activation=\"relu\")(t)\n",
    "t = Model(inputs=inputTri, outputs=t)\n",
    "\n",
    "# the second branch opreates on the second input\n",
    "b = Dense(10000, activation=\"relu\")(inputBars)\n",
    "b = Dense(200, activation=\"relu\")(b)\n",
    "b = Model(inputs=inputBars, outputs=b)\n",
    "\n",
    "# combine the output of the two branches\n",
    "combined = concatenate([t.output, b.output])\n",
    "z = Dense(50, activation=\"relu\")(combined)\n",
    "z = Dense(len(config[\"neutrons\"]) + 1, activation=\"softmax\")(z)\n",
    "\n",
    "model = Model(inputs=[t.input, b.input], outputs=z)\n",
    "loss = keras.losses.CategoricalCrossentropy()\n",
    "model.compile(loss=loss, optimizer=\"adagrad\", metrics=[\"accuracy\"])"
   ]
  },
  {
   "cell_type": "code",
   "execution_count": 7,
   "metadata": {},
   "outputs": [
    {
     "name": "stdout",
     "output_type": "stream",
     "text": [
      "Train for 1400 steps, validate for 200 steps\n",
      "Epoch 1/20\n",
      "1400/1400 - 100s - loss: 0.8103 - accuracy: 0.6419 - val_loss: 0.7399 - val_accuracy: 0.6747\n",
      "Epoch 2/20\n",
      "1400/1400 - 278s - loss: 0.7065 - accuracy: 0.6892 - val_loss: 0.6886 - val_accuracy: 0.7003\n",
      "Epoch 3/20\n",
      "1400/1400 - 268s - loss: 0.6703 - accuracy: 0.7063 - val_loss: 0.6680 - val_accuracy: 0.7078\n",
      "Epoch 4/20\n",
      "1400/1400 - 265s - loss: 0.6539 - accuracy: 0.7150 - val_loss: 0.6582 - val_accuracy: 0.7214\n",
      "Epoch 5/20\n",
      "1400/1400 - 285s - loss: 0.6446 - accuracy: 0.7269 - val_loss: 0.6526 - val_accuracy: 0.7219\n",
      "Epoch 6/20\n",
      "1400/1400 - 270s - loss: 0.6382 - accuracy: 0.7309 - val_loss: 0.6487 - val_accuracy: 0.7227\n",
      "Epoch 7/20\n",
      "1400/1400 - 271s - loss: 0.6332 - accuracy: 0.7325 - val_loss: 0.6459 - val_accuracy: 0.7231\n",
      "Epoch 8/20\n",
      "1400/1400 - 264s - loss: 0.6291 - accuracy: 0.7337 - val_loss: 0.6437 - val_accuracy: 0.7237\n",
      "Epoch 9/20\n",
      "1400/1400 - 270s - loss: 0.6255 - accuracy: 0.7350 - val_loss: 0.6420 - val_accuracy: 0.7243\n",
      "Epoch 10/20\n",
      "1400/1400 - 266s - loss: 0.6223 - accuracy: 0.7362 - val_loss: 0.6405 - val_accuracy: 0.7244\n",
      "Epoch 11/20\n",
      "1400/1400 - 278s - loss: 0.6195 - accuracy: 0.7375 - val_loss: 0.6393 - val_accuracy: 0.7246\n",
      "Epoch 12/20\n",
      "1400/1400 - 277s - loss: 0.6168 - accuracy: 0.7385 - val_loss: 0.6383 - val_accuracy: 0.7247\n",
      "Epoch 13/20\n",
      "1400/1400 - 284s - loss: 0.6143 - accuracy: 0.7395 - val_loss: 0.6374 - val_accuracy: 0.7251\n",
      "Epoch 14/20\n",
      "1400/1400 - 285s - loss: 0.6120 - accuracy: 0.7405 - val_loss: 0.6366 - val_accuracy: 0.7251\n",
      "Epoch 15/20\n",
      "1400/1400 - 283s - loss: 0.6098 - accuracy: 0.7414 - val_loss: 0.6360 - val_accuracy: 0.7247\n",
      "Epoch 16/20\n",
      "1400/1400 - 285s - loss: 0.6076 - accuracy: 0.7423 - val_loss: 0.6354 - val_accuracy: 0.7250\n",
      "Epoch 17/20\n",
      "1400/1400 - 273s - loss: 0.6056 - accuracy: 0.7431 - val_loss: 0.6349 - val_accuracy: 0.7250\n",
      "Epoch 18/20\n",
      "1400/1400 - 259s - loss: 0.6036 - accuracy: 0.7441 - val_loss: 0.6344 - val_accuracy: 0.7248\n",
      "Epoch 19/20\n",
      "1400/1400 - 268s - loss: 0.6016 - accuracy: 0.7449 - val_loss: 0.6340 - val_accuracy: 0.7248\n",
      "Epoch 20/20\n",
      "1400/1400 - 279s - loss: 0.5997 - accuracy: 0.7458 - val_loss: 0.6337 - val_accuracy: 0.7249\n"
     ]
    }
   ],
   "source": [
    "history = model.fit(generator, verbose=2, epochs=20, shuffle=False, validation_data=validation_generator)"
   ]
  },
  {
   "cell_type": "code",
   "execution_count": 8,
   "metadata": {},
   "outputs": [],
   "source": [
    "del generator\n",
    "del validation_generator"
   ]
  },
  {
   "cell_type": "code",
   "execution_count": 9,
   "metadata": {},
   "outputs": [
    {
     "name": "stdout",
     "output_type": "stream",
     "text": [
      "Rows in one file: 10000\n",
      "200 batches per subrun\n",
      "800 total batches in [range(7, 11)] caches\n",
      "Loading subruns range(7, 11) for cache 0\n"
     ]
    }
   ],
   "source": [
    "test_config = config.copy()\n",
    "test_config[\"subruns\"] = range(7, 11)\n",
    "test_generator = DataGeneratorBars(test_config)"
   ]
  },
  {
   "cell_type": "code",
   "execution_count": 10,
   "metadata": {},
   "outputs": [],
   "source": [
    "X = [test_generator.featuresTri, test_generator.featuresBars]\n",
    "y_true = np.argmax(test_generator.labels, axis=1)\n",
    "y_pred = np.argmax(model.predict(X), axis=1)"
   ]
  },
  {
   "cell_type": "code",
   "execution_count": 11,
   "metadata": {},
   "outputs": [
    {
     "name": "stdout",
     "output_type": "stream",
     "text": [
      "0.7805341876542424\n",
      "[[ 2086     0     0     0     0]\n",
      " [  513 34849  2640    15     9]\n",
      " [   60  6699 28598  4521    14]\n",
      " [    4   814  9513 23376  6289]\n",
      " [    0    71  1759 10775 27395]]\n",
      "[[100.   0.   0.   0.   0.]\n",
      " [  1.  92.   7.   0.   0.]\n",
      " [  0.  17.  72.  11.   0.]\n",
      " [  0.   2.  24.  58.  16.]\n",
      " [  0.   0.   4.  27.  68.]]\n"
     ]
    }
   ],
   "source": [
    "from sklearn.metrics import (\n",
    "    balanced_accuracy_score,\n",
    "    confusion_matrix,\n",
    "    plot_confusion_matrix,\n",
    ")\n",
    "\n",
    "np.set_printoptions(precision=3)\n",
    "np.set_printoptions(suppress=True)\n",
    "\n",
    "bac = balanced_accuracy_score(y_true, y_pred)\n",
    "print(bac)\n",
    "cm = confusion_matrix(y_true, y_pred, labels=range(0, len(config[\"neutrons\"]) + 1))\n",
    "print(cm)\n",
    "cmrel = confusion_matrix(y_true, y_pred, labels=range(0, len(config[\"neutrons\"]) + 1), normalize=\"true\")\n",
    "print((cmrel * 100).round())"
   ]
  },
  {
   "cell_type": "code",
   "execution_count": 12,
   "metadata": {},
   "outputs": [
    {
     "data": {
      "image/png": "[encoded data removed]",
      "text/plain": [
       "<Figure size 432x288 with 1 Axes>"
      ]
     },
     "metadata": {
      "needs_background": "light"
     },
     "output_type": "display_data"
    },
    {
     "data": {
      "image/png": "[encoded data removed]",
      "text/plain": [
       "<Figure size 432x288 with 1 Axes>"
      ]
     },
     "metadata": {
      "needs_background": "light"
     },
     "output_type": "display_data"
    }
   ],
   "source": [
    "import matplotlib.pyplot as plt\n",
    "\n",
    "# Plot training & validation accuracy values\n",
    "plt.plot(history.history[\"accuracy\"])\n",
    "plt.plot(history.history[\"val_accuracy\"])\n",
    "plt.title(\"Model accuracy\")\n",
    "plt.ylabel(\"Accuracy\")\n",
    "plt.xlabel(\"Epoch\")\n",
    "plt.legend([\"Train\", \"Test\"], loc=\"upper left\")\n",
    "plt.show()\n",
    "\n",
    "# Plot training & validation loss values\n",
    "plt.plot(history.history[\"loss\"])\n",
    "# plt.plot(history.history[\"val_loss\"])\n",
    "plt.title(\"Model loss\")\n",
    "plt.ylabel(\"Loss\")\n",
    "plt.xlabel(\"Epoch\")\n",
    "plt.legend([\"Train\", \"Test\"], loc=\"upper left\")\n",
    "plt.show()"
   ]
  },
  {
   "cell_type": "code",
   "execution_count": null,
   "metadata": {},
   "outputs": [],
   "source": []
  }
 ],
 "metadata": {
  "kernelspec": {
   "display_name": "Python 3",
   "language": "python",
   "name": "python3"
  },
  "language_info": {
   "codemirror_mode": {
    "name": "ipython",
    "version": 3
   },
   "file_extension": ".py",
   "mimetype": "text/x-python",
   "name": "python",
   "nbconvert_exporter": "python",
   "pygments_lexer": "ipython3",
   "version": "3.7.7"
  }
 },
 "nbformat": 4,
 "nbformat_minor": 4
}

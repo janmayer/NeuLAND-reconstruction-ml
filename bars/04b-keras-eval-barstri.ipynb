{
 "cells": [
  {
   "cell_type": "code",
   "execution_count": 1,
   "metadata": {},
   "outputs": [],
   "source": [
    "import numpy as np\n",
    "import pandas as pd\n",
    "import sklearn.preprocessing\n",
    "import matplotlib.pyplot as plt\n",
    "import gc\n",
    "\n",
    "import sys\n",
    "sys.path.append(\"..\")\n",
    "from helpers import filename_for"
   ]
  },
  {
   "cell_type": "code",
   "execution_count": 2,
   "metadata": {},
   "outputs": [
    {
     "name": "stdout",
     "output_type": "stream",
     "text": [
      "tensorflow 2.3.1\n",
      "keras 2.4.0\n"
     ]
    }
   ],
   "source": [
    "import tensorflow\n",
    "from tensorflow import keras\n",
    "\n",
    "print(\"tensorflow\", tensorflow.__version__)\n",
    "print(\"keras\", keras.__version__)"
   ]
  },
  {
   "cell_type": "code",
   "execution_count": 3,
   "metadata": {},
   "outputs": [],
   "source": [
    "class DataGeneratorBars(keras.utils.Sequence):\n",
    "    def __init__(self, config):\n",
    "        self.c = config\n",
    "\n",
    "        self.labels = []\n",
    "        self.features = []\n",
    "\n",
    "        self.scaler_tri = sklearn.preprocessing.MaxAbsScaler()\n",
    "        self.scaler_e = sklearn.preprocessing.MaxAbsScaler()\n",
    "        self.scaler_t = sklearn.preprocessing.MaxAbsScaler()\n",
    "\n",
    "        file = filename_for(\n",
    "            self.c[\"distance\"],\n",
    "            self.c[\"doubleplane\"],\n",
    "            self.c[\"energy\"],\n",
    "            self.c[\"erel\"],\n",
    "            self.c[\"neutrons\"][0],\n",
    "            \"inclxx\",\n",
    "            self.c[\"subruns\"][0],\n",
    "            \"bars.parquet\",\n",
    "        )\n",
    "        data = pd.read_parquet(file)\n",
    "        rows = len(data.index)\n",
    "        del data\n",
    "\n",
    "        self.batches_per_subrun = (rows * len(self.c[\"neutrons\"])) // self.c[\"batch_size\"]\n",
    "        self.batches_per_cache = self.batches_per_subrun * self.c[\"subrun_cache_size\"]\n",
    "        self.len = self.batches_per_subrun * len(self.c[\"subruns\"])\n",
    "\n",
    "        self.cache_subruns = [\n",
    "            self.c[\"subruns\"][i : i + self.c[\"subrun_cache_size\"]]\n",
    "            for i in range(0, len(self.c[\"subruns\"]), self.c[\"subrun_cache_size\"])\n",
    "        ]\n",
    "        self.current_cache = -1\n",
    "\n",
    "        print(f\"Rows in one file: {rows}\")\n",
    "        print(f\"{self.batches_per_subrun} batches per subrun\")\n",
    "        print(f\"{self.len} total batches in {self.cache_subruns} caches\")\n",
    "\n",
    "        self.fitscalers()\n",
    "        self.load(0)\n",
    "\n",
    "    def __len__(self):\n",
    "        return self.len\n",
    "\n",
    "    def __getitem__(self, index):\n",
    "        cacheid = index // self.batches_per_cache\n",
    "        i = index % (self.batches_per_cache)\n",
    "        # print(f\"{index} -> c{cacheid}-i{i}\")\n",
    "\n",
    "        if cacheid != self.current_cache:\n",
    "            self.load(cacheid)\n",
    "\n",
    "        a = i * self.c[\"batch_size\"]\n",
    "        b = (i + 1) * self.c[\"batch_size\"]\n",
    "\n",
    "        x = self.features[a:b]\n",
    "        y = self.labels[a:b]\n",
    "        return x, y\n",
    "\n",
    "    def load(self, cacheid):\n",
    "        subruns = self.cache_subruns[cacheid]\n",
    "        print(f\"Loading subruns {subruns} for cache {cacheid}\")\n",
    "\n",
    "        files = [\n",
    "            filename_for(\n",
    "                self.c[\"distance\"],\n",
    "                self.c[\"doubleplane\"],\n",
    "                self.c[\"energy\"],\n",
    "                self.c[\"erel\"],\n",
    "                n,\n",
    "                \"inclxx\",\n",
    "                subrun,\n",
    "                \"bars.parquet\",\n",
    "            )\n",
    "            for n in self.c[\"neutrons\"]\n",
    "            for subrun in subruns\n",
    "        ]\n",
    "        data = pd.concat([pd.read_parquet(file) for file in files], ignore_index=True).sample(frac=1)\n",
    "        data.loc[data[\"nHits\"] == 0, self.c[\"label\"]] = 0\n",
    "\n",
    "        self.current_cache = cacheid\n",
    "        self.features = np.concatenate(\n",
    "            (\n",
    "                self.scaler_tri.transform(data[self.c[\"cols_tri\"]]),\n",
    "                self.scaler_e.transform(data[self.c[\"cols_e\"]].values.reshape(-1, 1)).reshape(\n",
    "                    -1, len(self.c[\"cols_e\"])\n",
    "                ),\n",
    "                self.scaler_t.transform(data[self.c[\"cols_t\"]].values.reshape(-1, 1)).reshape(\n",
    "                    -1, len(self.c[\"cols_t\"])\n",
    "                ),\n",
    "            ),\n",
    "            axis=1,\n",
    "        )\n",
    "        self.labels = keras.utils.to_categorical(\n",
    "            data[[self.c[\"label\"]]].values.ravel(), num_classes=len(self.c[\"neutrons\"]) + 1\n",
    "        )\n",
    "        del data\n",
    "\n",
    "    def fitscalers(self):\n",
    "        subruns = range(5)  # self.cache_subruns[0]\n",
    "        files = [\n",
    "            filename_for(\n",
    "                self.c[\"distance\"],\n",
    "                self.c[\"doubleplane\"],\n",
    "                self.c[\"energy\"],\n",
    "                self.c[\"erel\"],\n",
    "                n,\n",
    "                \"inclxx\",\n",
    "                subrun,\n",
    "                \"bars.parquet\",\n",
    "            )\n",
    "            for n in self.c[\"neutrons\"]\n",
    "            for subrun in subruns\n",
    "        ]\n",
    "        data = pd.concat([pd.read_parquet(file) for file in files], ignore_index=True)\n",
    "        self.scaler_tri.fit(data[self.c[\"cols_tri\"]])\n",
    "        self.scaler_e.fit(data[self.c[\"cols_e\"]].values.reshape(-1, 1))\n",
    "        self.scaler_t.fit(data[self.c[\"cols_t\"]].values.reshape(-1, 1))\n",
    "        del data"
   ]
  },
  {
   "cell_type": "code",
   "execution_count": 4,
   "metadata": {},
   "outputs": [],
   "source": [
    "config = {\n",
    "    \"distance\": 15,\n",
    "    \"doubleplane\": 30,\n",
    "    \"energy\": 600,\n",
    "    \"erel\": 500,\n",
    "    \"neutrons\": [1, 2, 3, 4],\n",
    "    \"subruns\": range(6),  # range(19),\n",
    "    \"subrun_cache_size\": 6,\n",
    "    \"batch_size\": 100,\n",
    "    \"cols_tri\": [\"nHits\", \"nClus\", \"Edep\"],\n",
    "    \"cols_e\": [str(i) for i in range(0, 30 * 100 * 2, 2)],\n",
    "    \"cols_t\": [str(i + 1) for i in range(0, 30 * 100 * 2, 2)],\n",
    "    \"label\": \"nPN\",\n",
    "}\n",
    "\n",
    "validation_config = config.copy()\n",
    "validation_config[\"subruns\"] = [19]"
   ]
  },
  {
   "cell_type": "code",
   "execution_count": 5,
   "metadata": {},
   "outputs": [
    {
     "name": "stdout",
     "output_type": "stream",
     "text": [
      "Rows in one file: 10000\n",
      "400 batches per subrun\n",
      "2400 total batches in [range(0, 6)] caches\n",
      "Loading subruns range(0, 6) for cache 0\n",
      "Rows in one file: 10000\n",
      "400 batches per subrun\n",
      "400 total batches in [[19]] caches\n",
      "Loading subruns [19] for cache 0\n"
     ]
    },
    {
     "data": {
      "text/plain": [
       "0"
      ]
     },
     "execution_count": 5,
     "metadata": {},
     "output_type": "execute_result"
    }
   ],
   "source": [
    "generator = DataGeneratorBars(config)\n",
    "validation_generator = DataGeneratorBars(validation_config)"
   ]
  },
  {
   "cell_type": "code",
   "execution_count": 6,
   "metadata": {},
   "outputs": [
    {
     "name": "stdout",
     "output_type": "stream",
     "text": [
      "Epoch 1/10\n",
      "2400/2400 - 17s - loss: 1.2034 - accuracy: 0.5108 - val_loss: 1.0320 - val_accuracy: 0.6292\n",
      "Epoch 2/10\n",
      "2400/2400 - 7s - loss: 0.9626 - accuracy: 0.6488 - val_loss: 0.9121 - val_accuracy: 0.6639\n",
      "Epoch 3/10\n",
      "2400/2400 - 8s - loss: 0.8757 - accuracy: 0.6690 - val_loss: 0.8491 - val_accuracy: 0.6740\n",
      "Epoch 4/10\n",
      "2400/2400 - 7s - loss: 0.8239 - accuracy: 0.6781 - val_loss: 0.8080 - val_accuracy: 0.6801\n",
      "Epoch 5/10\n",
      "2400/2400 - 7s - loss: 0.7886 - accuracy: 0.6837 - val_loss: 0.7794 - val_accuracy: 0.6834\n",
      "Epoch 6/10\n",
      "2400/2400 - 7s - loss: 0.7634 - accuracy: 0.6881 - val_loss: 0.7588 - val_accuracy: 0.6864\n",
      "Epoch 7/10\n",
      "2400/2400 - 7s - loss: 0.7448 - accuracy: 0.6910 - val_loss: 0.7436 - val_accuracy: 0.6877\n",
      "Epoch 8/10\n",
      "2400/2400 - 7s - loss: 0.7308 - accuracy: 0.6932 - val_loss: 0.7321 - val_accuracy: 0.6893\n",
      "Epoch 9/10\n",
      "2400/2400 - 7s - loss: 0.7199 - accuracy: 0.6949 - val_loss: 0.7231 - val_accuracy: 0.6916\n",
      "Epoch 10/10\n",
      "2400/2400 - 7s - loss: 0.7112 - accuracy: 0.6965 - val_loss: 0.7158 - val_accuracy: 0.6930\n"
     ]
    }
   ],
   "source": [
    "model1 = keras.models.Sequential()\n",
    "model1.add(keras.layers.Dense(units=len(config[\"neutrons\"]) + 1, activation=\"softmax\"))\n",
    "\n",
    "loss = keras.losses.CategoricalCrossentropy()\n",
    "optimizer = keras.optimizers.Adam()\n",
    "model1.compile(loss=loss, optimizer=optimizer, metrics=[\"accuracy\"])\n",
    "history1 = model1.fit(generator, verbose=2, epochs=10, shuffle=True, validation_data=validation_generator)"
   ]
  },
  {
   "cell_type": "code",
   "execution_count": 7,
   "metadata": {},
   "outputs": [
    {
     "name": "stdout",
     "output_type": "stream",
     "text": [
      "Epoch 1/10\n",
      "2400/2400 - 7s - loss: 0.9198 - accuracy: 0.6190 - val_loss: 0.7335 - val_accuracy: 0.6981\n",
      "Epoch 2/10\n",
      "2400/2400 - 7s - loss: 0.6970 - accuracy: 0.7007 - val_loss: 0.6719 - val_accuracy: 0.7073\n",
      "Epoch 3/10\n",
      "2400/2400 - 7s - loss: 0.6562 - accuracy: 0.7188 - val_loss: 0.6542 - val_accuracy: 0.7218\n",
      "Epoch 4/10\n",
      "2400/2400 - 7s - loss: 0.6415 - accuracy: 0.7240 - val_loss: 0.6453 - val_accuracy: 0.7214\n",
      "Epoch 5/10\n",
      "2400/2400 - 7s - loss: 0.6326 - accuracy: 0.7264 - val_loss: 0.6409 - val_accuracy: 0.7188\n",
      "Epoch 6/10\n",
      "2400/2400 - 7s - loss: 0.6267 - accuracy: 0.7282 - val_loss: 0.6375 - val_accuracy: 0.7238\n",
      "Epoch 7/10\n",
      "2400/2400 - 7s - loss: 0.6222 - accuracy: 0.7295 - val_loss: 0.6363 - val_accuracy: 0.7229\n",
      "Epoch 8/10\n",
      "2400/2400 - 7s - loss: 0.6187 - accuracy: 0.7304 - val_loss: 0.6348 - val_accuracy: 0.7247\n",
      "Epoch 9/10\n",
      "2400/2400 - 7s - loss: 0.6157 - accuracy: 0.7319 - val_loss: 0.6344 - val_accuracy: 0.7235\n",
      "Epoch 10/10\n",
      "2400/2400 - 7s - loss: 0.6130 - accuracy: 0.7333 - val_loss: 0.6331 - val_accuracy: 0.7227\n"
     ]
    }
   ],
   "source": [
    "model2 = keras.models.Sequential()\n",
    "model2.add(keras.layers.Dense(units=10, activation=\"relu\"))\n",
    "model2.add(keras.layers.Dense(units=len(config[\"neutrons\"]) + 1, activation=\"softmax\"))\n",
    "\n",
    "loss = keras.losses.CategoricalCrossentropy()\n",
    "optimizer = keras.optimizers.Adam()\n",
    "model2.compile(loss=loss, optimizer=optimizer, metrics=[\"accuracy\"])\n",
    "history2 = model2.fit(generator, verbose=2, epochs=10, shuffle=True, validation_data=validation_generator)"
   ]
  },
  {
   "cell_type": "code",
   "execution_count": 8,
   "metadata": {},
   "outputs": [
    {
     "name": "stdout",
     "output_type": "stream",
     "text": [
      "Epoch 1/10\n",
      "2400/2400 - 8s - loss: 0.7591 - accuracy: 0.6759 - val_loss: 0.6532 - val_accuracy: 0.7240\n",
      "Epoch 2/10\n",
      "2400/2400 - 7s - loss: 0.6353 - accuracy: 0.7270 - val_loss: 0.6331 - val_accuracy: 0.7229\n",
      "Epoch 3/10\n",
      "2400/2400 - 8s - loss: 0.6160 - accuracy: 0.7324 - val_loss: 0.6265 - val_accuracy: 0.7254\n",
      "Epoch 4/10\n",
      "2400/2400 - 8s - loss: 0.6047 - accuracy: 0.7378 - val_loss: 0.6245 - val_accuracy: 0.7279\n",
      "Epoch 5/10\n",
      "2400/2400 - 8s - loss: 0.5953 - accuracy: 0.7421 - val_loss: 0.6279 - val_accuracy: 0.7250\n",
      "Epoch 6/10\n",
      "2400/2400 - 8s - loss: 0.5844 - accuracy: 0.7472 - val_loss: 0.6267 - val_accuracy: 0.7246\n",
      "Epoch 7/10\n",
      "2400/2400 - 8s - loss: 0.5722 - accuracy: 0.7537 - val_loss: 0.6274 - val_accuracy: 0.7276\n",
      "Epoch 8/10\n",
      "2400/2400 - 8s - loss: 0.5585 - accuracy: 0.7604 - val_loss: 0.6341 - val_accuracy: 0.7219\n",
      "Epoch 9/10\n",
      "2400/2400 - 9s - loss: 0.5440 - accuracy: 0.7687 - val_loss: 0.6415 - val_accuracy: 0.7206\n",
      "Epoch 10/10\n",
      "2400/2400 - 8s - loss: 0.5297 - accuracy: 0.7764 - val_loss: 0.6475 - val_accuracy: 0.7181\n"
     ]
    }
   ],
   "source": [
    "model3 = keras.models.Sequential()\n",
    "model3.add(keras.layers.Dense(units=100, activation=\"relu\"))\n",
    "model3.add(keras.layers.Dense(units=len(config[\"neutrons\"]) + 1, activation=\"softmax\"))\n",
    "\n",
    "loss = keras.losses.CategoricalCrossentropy()\n",
    "optimizer = keras.optimizers.Adam()\n",
    "model3.compile(loss=loss, optimizer=optimizer, metrics=[\"accuracy\"])\n",
    "history3 = model3.fit(generator, verbose=2, epochs=10, shuffle=True, validation_data=validation_generator)"
   ]
  },
  {
   "cell_type": "code",
   "execution_count": 9,
   "metadata": {},
   "outputs": [
    {
     "name": "stdout",
     "output_type": "stream",
     "text": [
      "Epoch 1/10\n",
      "2400/2400 - 12s - loss: 0.6672 - accuracy: 0.7084 - val_loss: 0.6239 - val_accuracy: 0.7290\n",
      "Epoch 2/10\n",
      "2400/2400 - 12s - loss: 0.6140 - accuracy: 0.7307 - val_loss: 0.6325 - val_accuracy: 0.7271\n",
      "Epoch 3/10\n",
      "2400/2400 - 12s - loss: 0.5840 - accuracy: 0.7436 - val_loss: 0.6171 - val_accuracy: 0.7335\n",
      "Epoch 4/10\n",
      "2400/2400 - 12s - loss: 0.5296 - accuracy: 0.7715 - val_loss: 0.6466 - val_accuracy: 0.7218\n",
      "Epoch 5/10\n",
      "2400/2400 - 12s - loss: 0.4281 - accuracy: 0.8236 - val_loss: 0.7258 - val_accuracy: 0.7113\n",
      "Epoch 6/10\n",
      "2400/2400 - 12s - loss: 0.2976 - accuracy: 0.8859 - val_loss: 0.9255 - val_accuracy: 0.6942\n",
      "Epoch 7/10\n",
      "2400/2400 - 12s - loss: 0.1853 - accuracy: 0.9329 - val_loss: 1.2001 - val_accuracy: 0.6848\n",
      "Epoch 8/10\n",
      "2400/2400 - 12s - loss: 0.1147 - accuracy: 0.9600 - val_loss: 1.5329 - val_accuracy: 0.6828\n",
      "Epoch 9/10\n",
      "2400/2400 - 12s - loss: 0.0797 - accuracy: 0.9730 - val_loss: 1.7210 - val_accuracy: 0.6700\n",
      "Epoch 10/10\n",
      "2400/2400 - 12s - loss: 0.0581 - accuracy: 0.9807 - val_loss: 1.9501 - val_accuracy: 0.6676\n"
     ]
    }
   ],
   "source": [
    "model4 = keras.models.Sequential()\n",
    "model4.add(keras.layers.Dense(units=1000, activation=\"relu\"))\n",
    "model4.add(keras.layers.Dense(units=100, activation=\"relu\"))\n",
    "model4.add(keras.layers.Dense(units=len(config[\"neutrons\"]) + 1, activation=\"softmax\"))\n",
    "\n",
    "loss = keras.losses.CategoricalCrossentropy()\n",
    "optimizer = keras.optimizers.Adam()\n",
    "model4.compile(loss=loss, optimizer=optimizer, metrics=[\"accuracy\"])\n",
    "history4 = model4.fit(generator, verbose=2, epochs=10, shuffle=True, validation_data=validation_generator)"
   ]
  },
  {
   "cell_type": "code",
   "execution_count": 10,
   "metadata": {},
   "outputs": [
    {
     "data": {
      "image/png": "[encoded data removed]",
      "text/plain": [
       "<Figure size 432x288 with 1 Axes>"
      ]
     },
     "metadata": {
      "needs_background": "light"
     },
     "output_type": "display_data"
    },
    {
     "data": {
      "image/png": "[encoded data removed]",
      "text/plain": [
       "<Figure size 432x288 with 1 Axes>"
      ]
     },
     "metadata": {
      "needs_background": "light"
     },
     "output_type": "display_data"
    }
   ],
   "source": [
    "# Plot training & validation accuracy values\n",
    "plt.plot(history3.history[\"accuracy\"])\n",
    "plt.plot(history3.history[\"val_accuracy\"])\n",
    "plt.title(\"Model accuracy\")\n",
    "plt.ylabel(\"Accuracy\")\n",
    "plt.xlabel(\"Epoch\")\n",
    "plt.legend([\"Train\", \"Test\"], loc=\"upper left\")\n",
    "plt.show()\n",
    "\n",
    "# Plot training & validation loss values\n",
    "plt.plot(history3.history[\"loss\"])\n",
    "plt.plot(history3.history[\"val_loss\"])\n",
    "plt.title(\"Model loss\")\n",
    "plt.ylabel(\"Loss\")\n",
    "plt.xlabel(\"Epoch\")\n",
    "plt.legend([\"Train\", \"Test\"], loc=\"upper left\")\n",
    "plt.show()"
   ]
  },
  {
   "cell_type": "code",
   "execution_count": 11,
   "metadata": {},
   "outputs": [
    {
     "data": {
      "text/plain": [
       "5848"
      ]
     },
     "execution_count": 11,
     "metadata": {},
     "output_type": "execute_result"
    }
   ],
   "source": [
    "del generator\n",
    "del validation_generator\n",
    "gc.collect()"
   ]
  },
  {
   "cell_type": "code",
   "execution_count": 12,
   "metadata": {},
   "outputs": [
    {
     "name": "stdout",
     "output_type": "stream",
     "text": [
      "Rows in one file: 10000\n",
      "400 batches per subrun\n",
      "800 total batches in [range(14, 16)] caches\n",
      "Loading subruns range(14, 16) for cache 0\n"
     ]
    }
   ],
   "source": [
    "test_config = config.copy()\n",
    "test_config[\"subruns\"] = range(14, 16)\n",
    "test_generator = DataGeneratorBars(test_config)"
   ]
  },
  {
   "cell_type": "code",
   "execution_count": 13,
   "metadata": {},
   "outputs": [],
   "source": [
    "X = test_generator.features\n",
    "y_true = np.argmax(test_generator.labels, axis=1)"
   ]
  },
  {
   "cell_type": "code",
   "execution_count": 14,
   "metadata": {},
   "outputs": [
    {
     "name": "stdout",
     "output_type": "stream",
     "text": [
      "0.5592676127997407\n",
      "[[    0  1053     0     0     0]\n",
      " [    0 17101  1882     8     3]\n",
      " [    0  3410 12418  4087    40]\n",
      " [    0   436  3901 10187  5474]\n",
      " [    0    41   715  3958 15286]]\n",
      "[[  0. 100.   0.   0.   0.]\n",
      " [  0.  90.  10.   0.   0.]\n",
      " [  0.  17.  62.  20.   0.]\n",
      " [  0.   2.  20.  51.  27.]\n",
      " [  0.   0.   4.  20.  76.]]\n",
      "0.7767721550179151\n",
      "[[ 1053     0     0     0     0]\n",
      " [  102 17615  1265     7     5]\n",
      " [   14  3372 13378  3182     9]\n",
      " [    1   427  4076 10845  4649]\n",
      " [    1    43   755  4326 14875]]\n",
      "[[100.   0.   0.   0.   0.]\n",
      " [  1.  93.   7.   0.   0.]\n",
      " [  0.  17.  67.  16.   0.]\n",
      " [  0.   2.  20.  54.  23.]\n",
      " [  0.   0.   4.  22.  74.]]\n",
      "0.7741234867933791\n",
      "[[ 1053     0     0     0     0]\n",
      " [    0 17747  1231    10     6]\n",
      " [    0  3515 14348  2041    51]\n",
      " [    0   448  5140 10390  4020]\n",
      " [    0    53  1024  4969 13954]]\n",
      "[[100.   0.   0.   0.   0.]\n",
      " [  0.  93.   6.   0.   0.]\n",
      " [  0.  18.  72.  10.   0.]\n",
      " [  0.   2.  26.  52.  20.]\n",
      " [  0.   0.   5.  25.  70.]]\n",
      "0.7351447918636682\n",
      "[[ 1053     0     0     0     0]\n",
      " [    0 16191  2689    99    15]\n",
      " [    0  3322 11921  4094   618]\n",
      " [    0   416  4039 10547  4996]\n",
      " [    0    47   782  5201 13970]]\n",
      "[[100.   0.   0.   0.   0.]\n",
      " [  0.  85.  14.   1.   0.]\n",
      " [  0.  17.  60.  21.   3.]\n",
      " [  0.   2.  20.  53.  25.]\n",
      " [  0.   0.   4.  26.  70.]]\n"
     ]
    }
   ],
   "source": [
    "from sklearn.metrics import (\n",
    "    balanced_accuracy_score,\n",
    "    confusion_matrix,\n",
    "    plot_confusion_matrix,\n",
    ")\n",
    "\n",
    "np.set_printoptions(precision=3)\n",
    "np.set_printoptions(suppress=True)\n",
    "\n",
    "for model in [model1, model2, model3, model4]:\n",
    "    y_pred = np.argmax(model.predict(X), axis=1)\n",
    "    bac = balanced_accuracy_score(y_true, y_pred)\n",
    "    print(bac)\n",
    "    cm = confusion_matrix(y_true, y_pred, labels=range(0, len(config[\"neutrons\"]) + 1))\n",
    "    print(cm)\n",
    "    cmrel = confusion_matrix(y_true, y_pred, labels=range(0, len(config[\"neutrons\"]) + 1), normalize=\"true\")\n",
    "    print((cmrel * 100).round())"
   ]
  },
  {
   "cell_type": "code",
   "execution_count": null,
   "metadata": {},
   "outputs": [],
   "source": []
  }
 ],
 "metadata": {
  "kernelspec": {
   "display_name": "Python 3",
   "language": "python",
   "name": "python3"
  },
  "language_info": {
   "codemirror_mode": {
    "name": "ipython",
    "version": 3
   },
   "file_extension": ".py",
   "mimetype": "text/x-python",
   "name": "python",
   "nbconvert_exporter": "python",
   "pygments_lexer": "ipython3",
   "version": "3.8.5"
  }
 },
 "nbformat": 4,
 "nbformat_minor": 4
}

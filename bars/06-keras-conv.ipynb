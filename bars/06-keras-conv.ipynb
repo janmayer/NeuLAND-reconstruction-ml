{
 "cells": [
  {
   "cell_type": "code",
   "execution_count": 1,
   "metadata": {},
   "outputs": [],
   "source": [
    "import copy\n",
    "import sys\n",
    "import time\n",
    "\n",
    "import numpy as np\n",
    "import pandas as pd\n",
    "import sklearn.preprocessing\n",
    "\n",
    "sys.path.append(\"..\")\n",
    "from helpers import filename_for"
   ]
  },
  {
   "cell_type": "code",
   "execution_count": 2,
   "metadata": {},
   "outputs": [
    {
     "name": "stdout",
     "output_type": "stream",
     "text": [
      "tensorflow 2.1.0\n",
      "keras 2.2.4-tf\n"
     ]
    }
   ],
   "source": [
    "import tensorflow\n",
    "from tensorflow import keras\n",
    "\n",
    "print(\"tensorflow\", tensorflow.__version__)\n",
    "print(\"keras\", keras.__version__)"
   ]
  },
  {
   "cell_type": "code",
   "execution_count": 3,
   "metadata": {},
   "outputs": [],
   "source": [
    "class DataGeneratorBars(keras.utils.Sequence):\n",
    "    def __init__(self, config):\n",
    "        self.c = config\n",
    "\n",
    "        self.labels = []\n",
    "        self.featuresTri = []\n",
    "        self.featuresBars = []\n",
    "\n",
    "        self.scaler_tri = sklearn.preprocessing.MaxAbsScaler()\n",
    "        self.scaler_e = sklearn.preprocessing.MaxAbsScaler()\n",
    "        self.scaler_t = sklearn.preprocessing.MaxAbsScaler()\n",
    "\n",
    "        file = filename_for(\n",
    "            self.c[\"distance\"],\n",
    "            self.c[\"doubleplane\"],\n",
    "            self.c[\"energy\"],\n",
    "            self.c[\"erel\"],\n",
    "            self.c[\"neutrons\"][0],\n",
    "            \"inclxx\",\n",
    "            self.c[\"subruns\"][0],\n",
    "            \"bars.parquet\",\n",
    "        )\n",
    "        data = pd.read_parquet(file)\n",
    "        rows = len(data.index)\n",
    "        del data\n",
    "\n",
    "        self.batches_per_subrun = (rows * len(self.c[\"neutrons\"])) // self.c[\"batch_size\"]\n",
    "        self.batches_per_cache = self.batches_per_subrun * self.c[\"subrun_cache_size\"]\n",
    "        self.len = self.batches_per_subrun * len(self.c[\"subruns\"])\n",
    "\n",
    "        self.cache_subruns = [\n",
    "            self.c[\"subruns\"][i : i + self.c[\"subrun_cache_size\"]]\n",
    "            for i in range(0, len(self.c[\"subruns\"]), self.c[\"subrun_cache_size\"])\n",
    "        ]\n",
    "        self.current_cache = -1\n",
    "\n",
    "        print(f\"Rows in one file: {rows}\")\n",
    "        print(f\"{self.batches_per_subrun} batches per subrun\")\n",
    "        print(f\"{self.len} total batches in {self.cache_subruns} caches\")\n",
    "\n",
    "        self.fitscalers()\n",
    "        self.load(0)\n",
    "\n",
    "    def __len__(self):\n",
    "        return self.len\n",
    "\n",
    "    def __getitem__(self, index):\n",
    "        cacheid = index // self.batches_per_cache\n",
    "        i = index % (self.batches_per_cache)\n",
    "        # print(f\"{index} -> c{cacheid}-i{i}\")\n",
    "\n",
    "        if cacheid != self.current_cache:\n",
    "            self.load(cacheid)\n",
    "\n",
    "        a = i * self.c[\"batch_size\"]\n",
    "        b = (i + 1) * self.c[\"batch_size\"]\n",
    "\n",
    "        tri = self.featuresTri[a:b]\n",
    "        bars = self.featuresBars[a:b]\n",
    "        x = bars  # [tri, bars]\n",
    "        y = self.labels[a:b]\n",
    "        return x, y, [None]\n",
    "\n",
    "    def load(self, cacheid):\n",
    "        subruns = self.cache_subruns[cacheid]\n",
    "        print(f\"Loading subruns {subruns} for cache {cacheid}\")\n",
    "\n",
    "        files = [\n",
    "            filename_for(\n",
    "                self.c[\"distance\"],\n",
    "                self.c[\"doubleplane\"],\n",
    "                self.c[\"energy\"],\n",
    "                self.c[\"erel\"],\n",
    "                n,\n",
    "                \"inclxx\",\n",
    "                subrun,\n",
    "                \"bars.parquet\",\n",
    "            )\n",
    "            for n in self.c[\"neutrons\"]\n",
    "            for subrun in subruns\n",
    "        ]\n",
    "        data = pd.concat([pd.read_parquet(file) for file in files], ignore_index=True).sample(frac=1)\n",
    "        data.loc[data[\"nHits\"] == 0, self.c[\"label\"]] = 0\n",
    "\n",
    "        self.current_cache = cacheid\n",
    "        self.featuresTri = self.scaler_tri.transform(data[self.c[\"cols_tri\"]])\n",
    "        self.featuresBars = np.dstack(\n",
    "            (\n",
    "                self.scaler_e.transform(data[self.c[\"cols_e\"]].values.reshape(-1, 1)).reshape(\n",
    "                    -1, len(self.c[\"cols_e\"])\n",
    "                ),\n",
    "                self.scaler_t.transform(data[self.c[\"cols_t\"]].values.reshape(-1, 1)).reshape(\n",
    "                    -1, len(self.c[\"cols_t\"])\n",
    "                ),\n",
    "            )\n",
    "        ).reshape(-1, 60, 50, 2)\n",
    "        self.labels = keras.utils.to_categorical(\n",
    "            data[[self.c[\"label\"]]].values.ravel(), num_classes=len(self.c[\"neutrons\"]) + 1\n",
    "        )\n",
    "        del data\n",
    "\n",
    "    def fitscalers(self):\n",
    "        subruns = range(5)  # self.cache_subruns[0]\n",
    "        files = [\n",
    "            filename_for(\n",
    "                self.c[\"distance\"],\n",
    "                self.c[\"doubleplane\"],\n",
    "                self.c[\"energy\"],\n",
    "                self.c[\"erel\"],\n",
    "                n,\n",
    "                \"inclxx\",\n",
    "                subrun,\n",
    "                \"bars.parquet\",\n",
    "            )\n",
    "            for n in self.c[\"neutrons\"]\n",
    "            for subrun in subruns\n",
    "        ]\n",
    "        data = pd.concat([pd.read_parquet(file) for file in files], ignore_index=True)\n",
    "        self.scaler_tri.fit(data[self.c[\"cols_tri\"]])\n",
    "        self.scaler_e.fit(data[self.c[\"cols_e\"]].values.reshape(-1, 1))\n",
    "        self.scaler_t.fit(data[self.c[\"cols_t\"]].values.reshape(-1, 1))\n",
    "        del data"
   ]
  },
  {
   "cell_type": "code",
   "execution_count": 4,
   "metadata": {},
   "outputs": [],
   "source": [
    "config = {\n",
    "    \"distance\": 15,\n",
    "    \"doubleplane\": 30,\n",
    "    \"energy\": 600,\n",
    "    \"erel\": 500,\n",
    "    \"neutrons\": [1, 2, 3, 4],\n",
    "    \"subruns\": range(7),  # range(19),\n",
    "    \"subrun_cache_size\": 7,\n",
    "    \"batch_size\": 200,\n",
    "    \"cols_tri\": [\"nHits\", \"nClus\", \"Edep\"],\n",
    "    \"cols_e\": [str(i) for i in range(0, 30 * 100 * 2, 2)],\n",
    "    \"cols_t\": [str(i + 1) for i in range(0, 30 * 100 * 2, 2)],\n",
    "    \"label\": \"nPN\",\n",
    "}\n",
    "\n",
    "validation_config = config.copy()\n",
    "validation_config[\"subruns\"] = [19]"
   ]
  },
  {
   "cell_type": "code",
   "execution_count": 5,
   "metadata": {},
   "outputs": [
    {
     "name": "stdout",
     "output_type": "stream",
     "text": [
      "Rows in one file: 10000\n",
      "200 batches per subrun\n",
      "1400 total batches in [range(0, 7)] caches\n",
      "Loading subruns range(0, 7) for cache 0\n",
      "Rows in one file: 10000\n",
      "200 batches per subrun\n",
      "200 total batches in [[19]] caches\n",
      "Loading subruns [19] for cache 0\n"
     ]
    }
   ],
   "source": [
    "generator = DataGeneratorBars(config)\n",
    "validation_generator = DataGeneratorBars(validation_config)"
   ]
  },
  {
   "cell_type": "code",
   "execution_count": 34,
   "metadata": {},
   "outputs": [
    {
     "name": "stdout",
     "output_type": "stream",
     "text": [
      "c2d-1 (None, 60, 50, 16)\n",
      "mp2d-1 (None, 60, 50, 16)\n",
      "c2d-2 (None, 60, 50, 32)\n",
      "f (None, 96000)\n",
      "d-1 (None, 1000)\n",
      "d-2 (None, 100)\n"
     ]
    }
   ],
   "source": [
    "from tensorflow.keras.layers import (\n",
    "    Activation,\n",
    "    BatchNormalization,\n",
    "    Conv2D,\n",
    "    Dense,\n",
    "    Dropout,\n",
    "    Flatten,\n",
    "    Input,\n",
    "    MaxPooling2D,\n",
    "    concatenate,\n",
    ")\n",
    "from tensorflow.keras.models import Model\n",
    "\n",
    "# define two sets of inputs\n",
    "# inputTri = Input(shape=(3,))\n",
    "inputBars = Input(shape=(60, 50, 2))\n",
    "\n",
    "# # the first branch operates on the first input\n",
    "# t = Dense(40, activation=\"relu\")(inputTri)\n",
    "# t = Dense(5, activation=\"relu\")(t)\n",
    "# t = Model(inputs=inputTri, outputs=t)\n",
    "\n",
    "# # the second branch opreates on the second input\n",
    "# b = Conv2D(200, (3,3))(inputBars)\n",
    "# #b = Dense(1000, activation=\"relu\")(inputBars)\n",
    "# b = Dense(10000, activation=\"relu\")(b)\n",
    "# #b = Dense(250, activation=\"relu\")(b)\n",
    "# b = Model(inputs=inputBars, outputs=b)\n",
    "\n",
    "# # CONV => RELU => BN => POOL\n",
    "# x = Conv2D(16, (3, 1), padding=\"valid\", activation=\"relu\")(inputBars)\n",
    "# #x = BatchNormalization(axis=-1)(x)\n",
    "# #x = MaxPooling2D(pool_size=(2, 2))(x)\n",
    "\n",
    "# # flatten the volume, then FC => RELU => BN => DROPOUT\n",
    "# x = Flatten()(x)\n",
    "# x = Dense(600, activation=\"relu\")(x)\n",
    "# x = BatchNormalization(axis=-1)(x)\n",
    "# x = Dropout(0.5)(x)\n",
    "\n",
    "# x = Dense(5)(x)\n",
    "# x = Activation(\"relu\")(x)\n",
    "\n",
    "# # combine the output of the two branches\n",
    "# combined = concatenate([t.output, x.output])\n",
    "# # apply a FC layer and then a regression prediction on the\n",
    "# # combined outputs\n",
    "# z = Dense(50, activation=\"relu\")(combined)\n",
    "# # z = Dense(100, activation=\"relu\")(z)\n",
    "# z = Dense(len(config[\"neutrons\"]) + 1, activation=\"softmax\")(z)\n",
    "\n",
    "x = inputBars\n",
    "chanDim = -1\n",
    "# loop over the number of filters\n",
    "#for i, (f, s) in enumerate([(5, (3, 1)), (10, (3, 3)), ]): -> 0,67\n",
    "#for i, (f, s) in enumerate([(3, (1, 5)), (3, (3, 3)), ]):\n",
    "\n",
    "\n",
    "x = Conv2D(16, (1, 3), padding=\"same\", activation=\"relu\")(x)\n",
    "print(\"c2d-1\", x.shape)\n",
    "#x = BatchNormalization(axis=chanDim)(x)\n",
    "#x = Dropout(0.2)(x)\n",
    "#x = MaxPooling2D(pool_size=(1, 5))(x)\n",
    "print(\"mp2d-1\", x.shape)\n",
    "\n",
    "x = Conv2D(32, (5, 5), padding=\"same\", activation=\"relu\")(x)\n",
    "print(\"c2d-2\", x.shape)\n",
    "#x = BatchNormalization(axis=chanDim)(x)\n",
    "#x = Dropout(0.2)(x)\n",
    "#x = MaxPooling2D(pool_size=(5, 5))(x)\n",
    "#print(\"mp2d-2\", x.shape)\n",
    "\n",
    "x = Flatten()(x)\n",
    "print(\"f\", x.shape)\n",
    "x = Dense(1000, activation=\"relu\")(x)\n",
    "print(\"d-1\", x.shape)\n",
    "x = Dense(100, activation=\"relu\")(x)\n",
    "print(\"d-2\", x.shape)\n",
    "# x = BatchNormalization(axis=chanDim)(x)\n",
    "\n",
    "x = Dense(len(config[\"neutrons\"]) + 1, activation=\"softmax\")(x)\n",
    "model = Model(inputBars, x)\n",
    "# model = Model(inputs=[t.input, x.input], outputs=z)\n",
    "loss = keras.losses.CategoricalCrossentropy()\n",
    "model.compile(loss=loss, optimizer=\"adagrad\", metrics=[\"accuracy\"])"
   ]
  },
  {
   "cell_type": "code",
   "execution_count": 35,
   "metadata": {},
   "outputs": [
    {
     "name": "stdout",
     "output_type": "stream",
     "text": [
      "Train for 1400 steps, validate for 200 steps\n",
      "Epoch 1/20\n",
      "1400/1400 - 132s - loss: 0.8434 - accuracy: 0.6193 - val_loss: 0.7765 - val_accuracy: 0.6474\n",
      "Epoch 2/20\n",
      "1400/1400 - 128s - loss: 0.7621 - accuracy: 0.6506 - val_loss: 0.7443 - val_accuracy: 0.6706\n",
      "Epoch 3/20\n",
      "1400/1400 - 127s - loss: 0.7343 - accuracy: 0.6697 - val_loss: 0.7240 - val_accuracy: 0.6781\n",
      "Epoch 4/20\n",
      "1400/1400 - 127s - loss: 0.7162 - accuracy: 0.6799 - val_loss: 0.7101 - val_accuracy: 0.6848\n",
      "Epoch 5/20\n",
      "1400/1400 - 128s - loss: 0.7035 - accuracy: 0.6865 - val_loss: 0.7010 - val_accuracy: 0.6877\n",
      "Epoch 6/20\n",
      "1400/1400 - 128s - loss: 0.6959 - accuracy: 0.6900 - val_loss: 0.6948 - val_accuracy: 0.6888\n",
      "Epoch 7/20\n",
      "1400/1400 - 128s - loss: 0.6890 - accuracy: 0.6936 - val_loss: 0.6906 - val_accuracy: 0.6903\n",
      "Epoch 8/20\n",
      "1400/1400 - 129s - loss: 0.6840 - accuracy: 0.6960 - val_loss: 0.6867 - val_accuracy: 0.6925\n",
      "Epoch 9/20\n",
      "1400/1400 - 130s - loss: 0.6804 - accuracy: 0.6976 - val_loss: 0.6841 - val_accuracy: 0.6932\n",
      "Epoch 10/20\n",
      "1400/1400 - 133s - loss: 0.6766 - accuracy: 0.6993 - val_loss: 0.6814 - val_accuracy: 0.6946\n",
      "Epoch 11/20\n",
      "1400/1400 - 131s - loss: 0.6738 - accuracy: 0.7007 - val_loss: 0.6791 - val_accuracy: 0.6956\n",
      "Epoch 12/20\n",
      "1400/1400 - 124s - loss: 0.6709 - accuracy: 0.7021 - val_loss: 0.6771 - val_accuracy: 0.6967\n",
      "Epoch 13/20\n",
      "1400/1400 - 124s - loss: 0.6683 - accuracy: 0.7035 - val_loss: 0.6752 - val_accuracy: 0.6973\n",
      "Epoch 14/20\n",
      "1400/1400 - 124s - loss: 0.6659 - accuracy: 0.7047 - val_loss: 0.6735 - val_accuracy: 0.6984\n",
      "Epoch 15/20\n",
      "1400/1400 - 124s - loss: 0.6637 - accuracy: 0.7059 - val_loss: 0.6716 - val_accuracy: 0.6990\n",
      "Epoch 16/20\n",
      "1400/1400 - 124s - loss: 0.6614 - accuracy: 0.7068 - val_loss: 0.6698 - val_accuracy: 0.6999\n",
      "Epoch 17/20\n",
      "1400/1400 - 123s - loss: 0.6591 - accuracy: 0.7080 - val_loss: 0.6682 - val_accuracy: 0.7008\n",
      "Epoch 18/20\n",
      "1400/1400 - 123s - loss: 0.6572 - accuracy: 0.7090 - val_loss: 0.6667 - val_accuracy: 0.7016\n",
      "Epoch 19/20\n",
      "1400/1400 - 123s - loss: 0.6552 - accuracy: 0.7099 - val_loss: 0.6654 - val_accuracy: 0.7020\n",
      "Epoch 20/20\n",
      "1400/1400 - 123s - loss: 0.6533 - accuracy: 0.7109 - val_loss: 0.6640 - val_accuracy: 0.7026\n"
     ]
    }
   ],
   "source": [
    "history = model.fit(generator, verbose=2, epochs=20, shuffle=False, validation_data=validation_generator)"
   ]
  },
  {
   "cell_type": "code",
   "execution_count": 36,
   "metadata": {},
   "outputs": [],
   "source": [
    "del generator\n",
    "del validation_generator"
   ]
  },
  {
   "cell_type": "code",
   "execution_count": 37,
   "metadata": {},
   "outputs": [
    {
     "name": "stdout",
     "output_type": "stream",
     "text": [
      "Rows in one file: 10000\n",
      "200 batches per subrun\n",
      "800 total batches in [range(7, 11)] caches\n",
      "Loading subruns range(7, 11) for cache 0\n"
     ]
    }
   ],
   "source": [
    "test_config = config.copy()\n",
    "test_config[\"subruns\"] = range(7, 11)\n",
    "test_generator = DataGeneratorBars(test_config)"
   ]
  },
  {
   "cell_type": "code",
   "execution_count": 38,
   "metadata": {},
   "outputs": [],
   "source": [
    "#X = [test_generator.featuresTri, test_generator.featuresBars]\n",
    "X = test_generator.featuresBars\n",
    "y_true = np.argmax(test_generator.labels, axis=1)\n",
    "y_pred = np.argmax(model.predict(X), axis=1)"
   ]
  },
  {
   "cell_type": "code",
   "execution_count": 39,
   "metadata": {},
   "outputs": [
    {
     "name": "stdout",
     "output_type": "stream",
     "text": [
      "0.7618492004615132\n",
      "[[ 2086     0     0     0     0]\n",
      " [  523 35655  1822    15    11]\n",
      " [   64  8367 26864  4573    24]\n",
      " [    4  1155 10495 21937  6405]\n",
      " [    0   126  2232 11654 25988]]\n",
      "[[100.   0.   0.   0.   0.]\n",
      " [  1.  94.   5.   0.   0.]\n",
      " [  0.  21.  67.  11.   0.]\n",
      " [  0.   3.  26.  55.  16.]\n",
      " [  0.   0.   6.  29.  65.]]\n"
     ]
    }
   ],
   "source": [
    "from sklearn.metrics import (\n",
    "    balanced_accuracy_score,\n",
    "    confusion_matrix,\n",
    "    plot_confusion_matrix,\n",
    ")\n",
    "\n",
    "np.set_printoptions(precision=3)\n",
    "np.set_printoptions(suppress=True)\n",
    "\n",
    "bac = balanced_accuracy_score(y_true, y_pred)\n",
    "print(bac)\n",
    "cm = confusion_matrix(y_true, y_pred, labels=range(0, len(config[\"neutrons\"]) + 1))\n",
    "print(cm)\n",
    "cmrel = confusion_matrix(y_true, y_pred, labels=range(0, len(config[\"neutrons\"]) + 1), normalize=\"true\")\n",
    "print((cmrel * 100).round())"
   ]
  },
  {
   "cell_type": "code",
   "execution_count": 40,
   "metadata": {},
   "outputs": [
    {
     "data": {
      "image/png": "[encoded data removed]",
      "text/plain": [
       "<Figure size 432x288 with 1 Axes>"
      ]
     },
     "metadata": {
      "needs_background": "light"
     },
     "output_type": "display_data"
    },
    {
     "data": {
      "image/png": "[encoded data removed]",
      "text/plain": [
       "<Figure size 432x288 with 1 Axes>"
      ]
     },
     "metadata": {
      "needs_background": "light"
     },
     "output_type": "display_data"
    }
   ],
   "source": [
    "import matplotlib.pyplot as plt\n",
    "\n",
    "# Plot training & validation accuracy values\n",
    "plt.plot(history.history[\"accuracy\"])\n",
    "plt.plot(history.history[\"val_accuracy\"])\n",
    "plt.title(\"Model accuracy\")\n",
    "plt.ylabel(\"Accuracy\")\n",
    "plt.xlabel(\"Epoch\")\n",
    "plt.legend([\"Train\", \"Test\"], loc=\"upper left\")\n",
    "plt.show()\n",
    "\n",
    "# Plot training & validation loss values\n",
    "plt.plot(history.history[\"loss\"])\n",
    "# plt.plot(history.history[\"val_loss\"])\n",
    "plt.title(\"Model loss\")\n",
    "plt.ylabel(\"Loss\")\n",
    "plt.xlabel(\"Epoch\")\n",
    "plt.legend([\"Train\", \"Test\"], loc=\"upper left\")\n",
    "plt.show()"
   ]
  },
  {
   "cell_type": "code",
   "execution_count": null,
   "metadata": {},
   "outputs": [],
   "source": []
  }
 ],
 "metadata": {
  "kernelspec": {
   "display_name": "Python 3",
   "language": "python",
   "name": "python3"
  },
  "language_info": {
   "codemirror_mode": {
    "name": "ipython",
    "version": 3
   },
   "file_extension": ".py",
   "mimetype": "text/x-python",
   "name": "python",
   "nbconvert_exporter": "python",
   "pygments_lexer": "ipython3",
   "version": "3.7.7"
  }
 },
 "nbformat": 4,
 "nbformat_minor": 4
}

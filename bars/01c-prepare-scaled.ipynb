{
 "cells": [
  {
   "cell_type": "code",
   "execution_count": null,
   "metadata": {},
   "outputs": [],
   "source": [
    "distances = [15]\n",
    "doubleplanes = [30]\n",
    "energies = [600]\n",
    "erels = [500]\n",
    "neutrons = [1, 2, 3, 4, 5, 6]\n",
    "physicss = [\"inclxx\"]\n",
    "subruns = range(20)"
   ]
  },
  {
   "cell_type": "code",
   "execution_count": 2,
   "metadata": {},
   "outputs": [],
   "source": [
    "import sys\n",
    "\n",
    "import joblib\n",
    "import numpy as np\n",
    "import pandas as pd\n",
    "import pyarrow as pa\n",
    "import pyarrow.parquet as pq\n",
    "import sklearn.preprocessing\n",
    "\n",
    "sys.path.append(\"..\")\n",
    "from helpers import filename_for"
   ]
  },
  {
   "cell_type": "code",
   "execution_count": 3,
   "metadata": {},
   "outputs": [],
   "source": [
    "def create_scalers(distance, doubleplane, energy, erel, physics):\n",
    "    scaler_tri = sklearn.preprocessing.MaxAbsScaler()\n",
    "    scaler_e = sklearn.preprocessing.MaxAbsScaler()\n",
    "    scaler_t = sklearn.preprocessing.MaxAbsScaler()\n",
    "\n",
    "    files = [\n",
    "        filename_for(distance, doubleplane, energy, erel, n, physics, subrun, \"bars.parquet\",)\n",
    "        for n in neutrons\n",
    "        for subrun in range(5)\n",
    "    ]\n",
    "    data = pd.concat([pd.read_parquet(file) for file in files], ignore_index=True)\n",
    "\n",
    "    cols_tri = [\"nHits\", \"nClus\", \"Edep\"]\n",
    "    cols_e = [str(i) for i in range(0, doubleplane * 100 * 2, 2)]\n",
    "    cols_t = [str(i + 1) for i in range(0, doubleplane * 100 * 2, 2)]\n",
    "\n",
    "    scaler_tri.fit(data[cols_tri])\n",
    "    scaler_e.fit(data[cols_e].values.reshape(-1, 1))\n",
    "    scaler_t.fit(data[cols_t].values.reshape(-1, 1))\n",
    "\n",
    "    del data\n",
    "    return (scaler_tri, scaler_e, scaler_t)\n",
    "\n",
    "\n",
    "scalers = {\n",
    "    \"-\".join(str(k) for k in [distance, doubleplane, energy, erel, physics]): create_scalers(\n",
    "        distance, doubleplane, energy, erel, physics\n",
    "    )\n",
    "    for distance in distances\n",
    "    for doubleplane in doubleplanes\n",
    "    for energy in energies\n",
    "    for erel in erels\n",
    "    for physics in physicss\n",
    "}"
   ]
  },
  {
   "cell_type": "code",
   "execution_count": 4,
   "metadata": {},
   "outputs": [
    {
     "data": {
      "text/plain": [
       "{'15-30-600-500-inclxx': (MaxAbsScaler(), MaxAbsScaler(), MaxAbsScaler())}"
      ]
     },
     "metadata": {},
     "output_type": "display_data"
    }
   ],
   "source": [
    "display(scalers)"
   ]
  },
  {
   "cell_type": "code",
   "execution_count": 5,
   "metadata": {},
   "outputs": [],
   "source": [
    "def scalebar(distance, doubleplane, energy, erel, neutron, physics, subrun):\n",
    "    inpfile = filename_for(distance, doubleplane, energy, erel, neutron, physics, subrun, \"bars.parquet\")\n",
    "    outfile = filename_for(distance, doubleplane, energy, erel, neutron, physics, subrun, \"bars-scaled.parquet\")\n",
    "\n",
    "    cols_tri = [\"nHits\", \"nClus\", \"Edep\"]\n",
    "    cols_e = [str(i) for i in range(0, doubleplane * 100 * 2, 2)]\n",
    "    cols_t = [str(i + 1) for i in range(0, doubleplane * 100 * 2, 2)]\n",
    "\n",
    "    scaler_tri, scaler_e, scaler_t = scalers[\"-\".join(str(k) for k in [distance, doubleplane, energy, erel, physics])]\n",
    "    \n",
    "    data = pd.read_parquet(inpfile)\n",
    "    data.loc[data[\"nHits\"] == 0, [\"nPN\", \"nPP\", \"nPH\"]] = 0\n",
    "    data[cols_tri] = scaler_tri.transform(data[cols_tri])\n",
    "    data[cols_e] = scaler_e.transform(data[cols_e])\n",
    "    data[cols_t] = scaler_t.transform(data[cols_t])\n",
    "\n",
    "    table = pa.Table.from_pandas(data)\n",
    "    pq.write_table(table, outfile, compression=\"gzip\")"
   ]
  },
  {
   "cell_type": "code",
   "execution_count": 6,
   "metadata": {},
   "outputs": [
    {
     "name": "stdout",
     "output_type": "stream",
     "text": [
      "Done\n"
     ]
    }
   ],
   "source": [
    "joblib.Parallel(n_jobs=1, backend=\"multiprocessing\")(\n",
    "    joblib.delayed(scalebar)(\n",
    "        distance=distance,\n",
    "        doubleplane=doubleplane,\n",
    "        energy=energy,\n",
    "        erel=erel,\n",
    "        neutron=neutron,\n",
    "        physics=physics,\n",
    "        subrun=subrun,\n",
    "    )\n",
    "    for distance in distances\n",
    "    for energy in energies\n",
    "    for doubleplane in doubleplanes\n",
    "    for neutron in neutrons\n",
    "    for erel in erels\n",
    "    for physics in physicss\n",
    "    for subrun in subruns\n",
    ")\n",
    "\n",
    "print(\"Done\")"
   ]
  },
  {
   "cell_type": "code",
   "execution_count": null,
   "metadata": {},
   "outputs": [],
   "source": []
  }
 ],
 "metadata": {
  "kernelspec": {
   "display_name": "Python 3",
   "language": "python",
   "name": "python3"
  },
  "language_info": {
   "codemirror_mode": {
    "name": "ipython",
    "version": 3
   },
   "file_extension": ".py",
   "mimetype": "text/x-python",
   "name": "python",
   "nbconvert_exporter": "python",
   "pygments_lexer": "ipython3",
   "version": "3.8.5"
  }
 },
 "nbformat": 4,
 "nbformat_minor": 4
}

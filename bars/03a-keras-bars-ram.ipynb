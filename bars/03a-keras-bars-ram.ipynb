{
 "cells": [
  {
   "cell_type": "markdown",
   "metadata": {},
   "source": [
    "# Keras Tuner Bars"
   ]
  },
  {
   "cell_type": "code",
   "execution_count": 1,
   "metadata": {},
   "outputs": [],
   "source": [
    "import numpy as np\n",
    "import pandas as pd\n",
    "import sklearn.preprocessing\n",
    "import time\n",
    "import sys\n",
    "\n",
    "sys.path.append(\"..\")\n",
    "from helpers import filename_for"
   ]
  },
  {
   "cell_type": "code",
   "execution_count": 2,
   "metadata": {},
   "outputs": [
    {
     "name": "stdout",
     "output_type": "stream",
     "text": [
      "tensorflow 2.1.0\n",
      "keras 2.2.4-tf\n",
      "keras-tuner 1.0.1\n"
     ]
    }
   ],
   "source": [
    "import tensorflow\n",
    "from tensorflow import keras\n",
    "import kerastuner\n",
    "\n",
    "print(\"tensorflow\", tensorflow.__version__)\n",
    "print(\"keras\", keras.__version__)\n",
    "print(\"keras-tuner\", kerastuner.__version__)"
   ]
  },
  {
   "cell_type": "code",
   "execution_count": 3,
   "metadata": {},
   "outputs": [],
   "source": [
    "class DataGeneratorBars(keras.utils.Sequence):\n",
    "    def __init__(self, config, batch_size=1000):\n",
    "        self.c = config\n",
    "        self.batch_size = batch_size\n",
    "        \n",
    "        self.current_subrun = 0\n",
    "        self.labels = []\n",
    "        self.features = []\n",
    "        \n",
    "        self.scaler_tri = sklearn.preprocessing.MaxAbsScaler()\n",
    "        self.scaler_e = sklearn.preprocessing.MaxAbsScaler()\n",
    "        self.scaler_t = sklearn.preprocessing.MaxAbsScaler()\n",
    "        \n",
    "        file = filename_for(self.c[\"distance\"], self.c[\"doubleplane\"], self.c[\"energy\"], self.c[\"erel\"], self.c[\"neutrons\"][0], \"inclxx\", self.c[\"subruns\"][0], \"bars.parquet\")\n",
    "        data = pd.read_parquet(file)\n",
    "        rows = len(data.index)\n",
    "        del data\n",
    "        \n",
    "        self.batches_per_subrun = (rows * len(self.c[\"neutrons\"])) // self.batch_size\n",
    "        self.len = self.batches_per_subrun * len(self.c[\"subruns\"])\n",
    "        print(f\"Rows in one file: {rows} -> {self.batches_per_subrun} batches per subrun -> {self.len} total batches\")\n",
    "\n",
    "        self.fitscalers()\n",
    "        self.load(self.c[\"subruns\"][0])\n",
    "\n",
    "    def __len__(self):\n",
    "        return self.len\n",
    "    \n",
    "    def __getitem__(self, index):\n",
    "        subrun = self.c[\"subruns\"][index // self.batches_per_subrun]\n",
    "        i = index % self.batches_per_subrun\n",
    "        # print(f\"{index} -> {subrun}-{i}\")\n",
    "        \n",
    "        if(subrun != self.current_subrun):\n",
    "            print(f\"Loading subrun {subrun} for index {index}\")\n",
    "            self.load(subrun)\n",
    "        \n",
    "        x = self.features[i*self.batch_size:(i+1)*self.batch_size]\n",
    "        y = self.labels[i*self.batch_size:(i+1)*self.batch_size]\n",
    "        return x, y\n",
    "\n",
    "    def load(self, subrun):\n",
    "        files = [filename_for(self.c[\"distance\"], self.c[\"doubleplane\"], self.c[\"energy\"], self.c[\"erel\"], n, \"inclxx\", subrun, \"bars.parquet\") for n in self.c[\"neutrons\"]]\n",
    "        data = pd.concat([pd.read_parquet(file) for file in files], ignore_index=True).sample(frac=1)\n",
    "        data.loc[data[\"nHits\"] == 0, self.c[\"label\"]] = 0\n",
    "\n",
    "        self.current_subrun = subrun\n",
    "        self.features = np.concatenate(\n",
    "            (\n",
    "                # self.scaler_tri.transform(data[cols_tri]),\n",
    "                self.scaler_e.transform(data[self.c[\"cols_e\"]].values.reshape(-1, 1)).reshape(-1, len(self.c[\"cols_e\"])),\n",
    "                self.scaler_t.transform(data[self.c[\"cols_t\"]].values.reshape(-1, 1)).reshape(-1, len(self.c[\"cols_t\"])),\n",
    "            ),\n",
    "            axis=1,\n",
    "        )\n",
    "        self.labels = keras.utils.to_categorical(data[[self.c[\"label\"]]].values.ravel(), num_classes=len(self.c[\"neutrons\"]) + 1)\n",
    "        del data\n",
    "                                                      \n",
    "    def fitscalers(self):\n",
    "        files = [filename_for(self.c[\"distance\"], self.c[\"doubleplane\"], self.c[\"energy\"], self.c[\"erel\"], n, \"inclxx\", subrun, \"bars.parquet\") for n in self.c[\"neutrons\"] for subrun in range(5)]\n",
    "        data = pd.concat([pd.read_parquet(file) for file in files], ignore_index=True)\n",
    "        self.scaler_e.fit(data[self.c[\"cols_e\"]].values.reshape(-1, 1))\n",
    "        self.scaler_t.fit(data[self.c[\"cols_t\"]].values.reshape(-1, 1))\n",
    "        del data"
   ]
  },
  {
   "cell_type": "code",
   "execution_count": 4,
   "metadata": {},
   "outputs": [],
   "source": [
    "class Model(kerastuner.HyperModel):\n",
    "    def __init__(self, num_classes):\n",
    "        self.num_classes = num_classes\n",
    "\n",
    "    def build(self, hp):\n",
    "        model = keras.models.Sequential()\n",
    "        model.add(keras.layers.Dense(units=hp.Int(f\"relu1nodes\", min_value=1000, max_value=10000, step=3000), activation=\"relu\",))\n",
    "        model.add(keras.layers.Dense(units=hp.Int(f\"relu2nodes\", min_value=500, max_value=3000, step=200), activation=\"relu\",))\n",
    "        model.add(keras.layers.Dense(units=self.num_classes, activation=\"softmax\"))\n",
    "\n",
    "        optimizer = hp.Choice(\"optimizer\", [\"adam\", \"adagrad\", \"adadelta\", \"SGD\"])\n",
    "        loss = keras.losses.CategoricalCrossentropy()\n",
    "\n",
    "        model.compile(loss=loss, optimizer=optimizer, metrics=[\"accuracy\"])\n",
    "\n",
    "        return model"
   ]
  },
  {
   "cell_type": "code",
   "execution_count": 5,
   "metadata": {},
   "outputs": [],
   "source": [
    "config = {\n",
    "    \"distance\": 15,\n",
    "    \"doubleplane\": 30,\n",
    "    \"energy\": 600,\n",
    "    \"erel\": 500,\n",
    "    \"neutrons\": [1, 2, 3, 4],\n",
    "    \"subruns\": range(19),\n",
    "    \"cols_e\": [str(i) for i in range(0, 30 * 100 * 2, 2)],\n",
    "    \"cols_t\": [str(i + 1) for i in range(0, 30 * 100 * 2, 2)],\n",
    "    \"label\": \"nPN\",\n",
    "}\n",
    "\n",
    "validation_config = config.copy()\n",
    "validation_config[\"subruns\"] = [19]"
   ]
  },
  {
   "cell_type": "code",
   "execution_count": 6,
   "metadata": {},
   "outputs": [
    {
     "name": "stdout",
     "output_type": "stream",
     "text": [
      "Rows in one file: 10000 -> 200 batches per subrun -> 3800 total batches\n",
      "Rows in one file: 10000 -> 200 batches per subrun -> 200 total batches\n"
     ]
    },
    {
     "data": {
      "text/html": [
       "<span style=\"color:#4527A0\"><h1 style=\"font-size:18px\">Search space summary</h1></span>"
      ],
      "text/plain": [
       "<IPython.core.display.HTML object>"
      ]
     },
     "metadata": {},
     "output_type": "display_data"
    },
    {
     "data": {
      "text/html": [
       "<span style=\"color:cyan\"> |-Default search space size: 3</span>"
      ],
      "text/plain": [
       "<IPython.core.display.HTML object>"
      ]
     },
     "metadata": {},
     "output_type": "display_data"
    },
    {
     "data": {
      "text/html": [
       "<span style=\"color:#7E57C2\"><h2 style=\"font-size:16px\">relu1nodes (Int)</h2></span>"
      ],
      "text/plain": [
       "<IPython.core.display.HTML object>"
      ]
     },
     "metadata": {},
     "output_type": "display_data"
    },
    {
     "data": {
      "text/html": [
       "<span style=\"color:cyan\"> |-default: None</span>"
      ],
      "text/plain": [
       "<IPython.core.display.HTML object>"
      ]
     },
     "metadata": {},
     "output_type": "display_data"
    },
    {
     "data": {
      "text/html": [
       "<span style=\"color:blue\"> |-max_value: 10000</span>"
      ],
      "text/plain": [
       "<IPython.core.display.HTML object>"
      ]
     },
     "metadata": {},
     "output_type": "display_data"
    },
    {
     "data": {
      "text/html": [
       "<span style=\"color:cyan\"> |-min_value: 1000</span>"
      ],
      "text/plain": [
       "<IPython.core.display.HTML object>"
      ]
     },
     "metadata": {},
     "output_type": "display_data"
    },
    {
     "data": {
      "text/html": [
       "<span style=\"color:blue\"> |-sampling: None</span>"
      ],
      "text/plain": [
       "<IPython.core.display.HTML object>"
      ]
     },
     "metadata": {},
     "output_type": "display_data"
    },
    {
     "data": {
      "text/html": [
       "<span style=\"color:cyan\"> |-step: 3000</span>"
      ],
      "text/plain": [
       "<IPython.core.display.HTML object>"
      ]
     },
     "metadata": {},
     "output_type": "display_data"
    },
    {
     "data": {
      "text/html": [
       "<span style=\"color:#7E57C2\"><h2 style=\"font-size:16px\">relu2nodes (Int)</h2></span>"
      ],
      "text/plain": [
       "<IPython.core.display.HTML object>"
      ]
     },
     "metadata": {},
     "output_type": "display_data"
    },
    {
     "data": {
      "text/html": [
       "<span style=\"color:cyan\"> |-default: None</span>"
      ],
      "text/plain": [
       "<IPython.core.display.HTML object>"
      ]
     },
     "metadata": {},
     "output_type": "display_data"
    },
    {
     "data": {
      "text/html": [
       "<span style=\"color:blue\"> |-max_value: 3000</span>"
      ],
      "text/plain": [
       "<IPython.core.display.HTML object>"
      ]
     },
     "metadata": {},
     "output_type": "display_data"
    },
    {
     "data": {
      "text/html": [
       "<span style=\"color:cyan\"> |-min_value: 500</span>"
      ],
      "text/plain": [
       "<IPython.core.display.HTML object>"
      ]
     },
     "metadata": {},
     "output_type": "display_data"
    },
    {
     "data": {
      "text/html": [
       "<span style=\"color:blue\"> |-sampling: None</span>"
      ],
      "text/plain": [
       "<IPython.core.display.HTML object>"
      ]
     },
     "metadata": {},
     "output_type": "display_data"
    },
    {
     "data": {
      "text/html": [
       "<span style=\"color:cyan\"> |-step: 200</span>"
      ],
      "text/plain": [
       "<IPython.core.display.HTML object>"
      ]
     },
     "metadata": {},
     "output_type": "display_data"
    },
    {
     "data": {
      "text/html": [
       "<span style=\"color:#7E57C2\"><h2 style=\"font-size:16px\">optimizer (Choice)</h2></span>"
      ],
      "text/plain": [
       "<IPython.core.display.HTML object>"
      ]
     },
     "metadata": {},
     "output_type": "display_data"
    },
    {
     "data": {
      "text/html": [
       "<span style=\"color:cyan\"> |-default: adam</span>"
      ],
      "text/plain": [
       "<IPython.core.display.HTML object>"
      ]
     },
     "metadata": {},
     "output_type": "display_data"
    },
    {
     "data": {
      "text/html": [
       "<span style=\"color:blue\"> |-ordered: False</span>"
      ],
      "text/plain": [
       "<IPython.core.display.HTML object>"
      ]
     },
     "metadata": {},
     "output_type": "display_data"
    },
    {
     "data": {
      "text/html": [
       "<span style=\"color:cyan\"> |-values: ['adam', 'adagrad', 'adadelta', 'SGD']</span>"
      ],
      "text/plain": [
       "<IPython.core.display.HTML object>"
      ]
     },
     "metadata": {},
     "output_type": "display_data"
    }
   ],
   "source": [
    "model = Model(len(config[\"neutrons\"]) + 1)\n",
    "generator = DataGeneratorBars(config, 200)\n",
    "validation_generator = DataGeneratorBars(validation_config, 200)\n",
    "\n",
    "tuner = kerastuner.tuners.BayesianOptimization(\n",
    "#tuner = kerastuner.tuners.RandomSearch(\n",
    "    model, objective=\"val_accuracy\", max_trials=20, executions_per_trial=1, directory=\"kerastuner\", project_name=\"bars-ram-V0\", overwrite=True\n",
    ")\n",
    "tuner.search_space_summary()"
   ]
  },
  {
   "cell_type": "code",
   "execution_count": 7,
   "metadata": {},
   "outputs": [
    {
     "name": "stdout",
     "output_type": "stream",
     "text": [
      "WARNING:tensorflow:sample_weight modes were coerced from\n",
      "  ...\n",
      "    to  \n",
      "  ['...']\n",
      "Train for 3800 steps, validate for 200 steps\n",
      "Epoch 1/3\n",
      "Loading subrun 1 for index 200\n",
      "Loading subrun 2 for index 400\n",
      "Loading subrun 3 for index 600\n",
      "Loading subrun 4 for index 800\n",
      "Loading subrun 5 for index 1000\n",
      "Loading subrun 6 for index 1200\n",
      "Loading subrun 7 for index 1400\n",
      "Loading subrun 8 for index 1600\n",
      "Loading subrun 9 for index 1800\n",
      "Loading subrun 10 for index 2000\n",
      "Loading subrun 11 for index 2200\n",
      "Loading subrun 12 for index 2400\n",
      "Loading subrun 13 for index 2600\n",
      "Loading subrun 14 for index 2800\n",
      "Loading subrun 15 for index 3000\n",
      "Loading subrun 16 for index 3200\n",
      "Loading subrun 17 for index 3400\n",
      "Loading subrun 18 for index 3600\n",
      "3800/3800 - 526s - loss: 0.7466 - accuracy: 0.6597 - val_loss: 0.7012 - val_accuracy: 0.6845\n",
      "Epoch 2/3\n",
      "Loading subrun 0 for index 0\n",
      "Loading subrun 1 for index 200\n",
      "Loading subrun 2 for index 400\n",
      "Loading subrun 3 for index 600\n",
      "Loading subrun 4 for index 800\n",
      "Loading subrun 5 for index 1000\n",
      "Loading subrun 6 for index 1200\n",
      "Loading subrun 7 for index 1400\n",
      "Loading subrun 8 for index 1600\n",
      "Loading subrun 9 for index 1800\n",
      "Loading subrun 10 for index 2000\n",
      "Loading subrun 11 for index 2200\n",
      "Loading subrun 12 for index 2400\n",
      "Loading subrun 13 for index 2600\n",
      "Loading subrun 14 for index 2800\n",
      "Loading subrun 15 for index 3000\n",
      "Loading subrun 16 for index 3200\n",
      "Loading subrun 17 for index 3400\n",
      "Loading subrun 18 for index 3600\n",
      "3800/3800 - 532s - loss: 0.6412 - accuracy: 0.7153 - val_loss: 0.7395 - val_accuracy: 0.6822\n",
      "Epoch 3/3\n",
      "Loading subrun 0 for index 0\n",
      "Loading subrun 1 for index 200\n",
      "Loading subrun 2 for index 400\n",
      "Loading subrun 3 for index 600\n",
      "Loading subrun 4 for index 800\n",
      "Loading subrun 5 for index 1000\n",
      "Loading subrun 6 for index 1200\n",
      "Loading subrun 7 for index 1400\n",
      "Loading subrun 8 for index 1600\n",
      "Loading subrun 9 for index 1800\n",
      "Loading subrun 10 for index 2000\n",
      "Loading subrun 11 for index 2200\n",
      "Loading subrun 12 for index 2400\n",
      "Loading subrun 13 for index 2600\n",
      "Loading subrun 14 for index 2800\n",
      "Loading subrun 15 for index 3000\n",
      "Loading subrun 16 for index 3200\n",
      "Loading subrun 17 for index 3400\n",
      "Loading subrun 18 for index 3600\n",
      "3800/3800 - 529s - loss: 0.4608 - accuracy: 0.8100 - val_loss: 1.0297 - val_accuracy: 0.6636\n"
     ]
    },
    {
     "data": {
      "text/html": [
       "<span style=\"color:#4527A0\"><h1 style=\"font-size:18px\">Trial complete</h1></span>"
      ],
      "text/plain": [
       "<IPython.core.display.HTML object>"
      ]
     },
     "metadata": {},
     "output_type": "display_data"
    },
    {
     "data": {
      "text/html": [
       "<span style=\"color:#4527A0\"><h1 style=\"font-size:18px\">Trial summary</h1></span>"
      ],
      "text/plain": [
       "<IPython.core.display.HTML object>"
      ]
     },
     "metadata": {},
     "output_type": "display_data"
    },
    {
     "data": {
      "text/html": [
       "<span style=\"color:cyan\"> |-Trial ID: 18ba9adcc832aab5b87d9cebc6f0fbd6</span>"
      ],
      "text/plain": [
       "<IPython.core.display.HTML object>"
      ]
     },
     "metadata": {},
     "output_type": "display_data"
    },
    {
     "data": {
      "text/html": [
       "<span style=\"color:cyan\"> |-Score: 0.6845499873161316</span>"
      ],
      "text/plain": [
       "<IPython.core.display.HTML object>"
      ]
     },
     "metadata": {},
     "output_type": "display_data"
    },
    {
     "data": {
      "text/html": [
       "<span style=\"color:cyan\"> |-Best step: 0</span>"
      ],
      "text/plain": [
       "<IPython.core.display.HTML object>"
      ]
     },
     "metadata": {},
     "output_type": "display_data"
    },
    {
     "data": {
      "text/html": [
       "<span style=\"color:#7E57C2\"><h2 style=\"font-size:16px\">Hyperparameters:</h2></span>"
      ],
      "text/plain": [
       "<IPython.core.display.HTML object>"
      ]
     },
     "metadata": {},
     "output_type": "display_data"
    },
    {
     "data": {
      "text/html": [
       "<span style=\"color:cyan\"> |-optimizer: adam</span>"
      ],
      "text/plain": [
       "<IPython.core.display.HTML object>"
      ]
     },
     "metadata": {},
     "output_type": "display_data"
    },
    {
     "data": {
      "text/html": [
       "<span style=\"color:blue\"> |-relu1nodes: 10000</span>"
      ],
      "text/plain": [
       "<IPython.core.display.HTML object>"
      ]
     },
     "metadata": {},
     "output_type": "display_data"
    },
    {
     "data": {
      "text/html": [
       "<span style=\"color:cyan\"> |-relu2nodes: 1900</span>"
      ],
      "text/plain": [
       "<IPython.core.display.HTML object>"
      ]
     },
     "metadata": {},
     "output_type": "display_data"
    },
    {
     "name": "stdout",
     "output_type": "stream",
     "text": [
      "Loading subrun 0 for index 0\n",
      "WARNING:tensorflow:sample_weight modes were coerced from\n",
      "  ...\n",
      "    to  \n",
      "  ['...']\n",
      "Train for 3800 steps, validate for 200 steps\n",
      "Epoch 1/3\n",
      "Loading subrun 1 for index 200\n",
      "Loading subrun 2 for index 400\n",
      "Loading subrun 3 for index 600\n",
      "Loading subrun 4 for index 800\n",
      "Loading subrun 5 for index 1000\n",
      "Loading subrun 6 for index 1200\n",
      "Loading subrun 7 for index 1400\n",
      "Loading subrun 8 for index 1600\n",
      "Loading subrun 9 for index 1800\n",
      "Loading subrun 10 for index 2000\n",
      "Loading subrun 11 for index 2200\n",
      "Loading subrun 12 for index 2400\n",
      "Loading subrun 13 for index 2600\n",
      "Loading subrun 14 for index 2800\n",
      "Loading subrun 15 for index 3000\n",
      "Loading subrun 16 for index 3200\n",
      "Loading subrun 17 for index 3400\n",
      "Loading subrun 18 for index 3600\n",
      "3800/3800 - 521s - loss: 1.5644 - accuracy: 0.3318 - val_loss: 1.5157 - val_accuracy: 0.3819\n",
      "Epoch 2/3\n",
      "Loading subrun 0 for index 0\n",
      "Loading subrun 1 for index 200\n",
      "Loading subrun 2 for index 400\n",
      "Loading subrun 3 for index 600\n",
      "Loading subrun 4 for index 800\n",
      "Loading subrun 5 for index 1000\n",
      "Loading subrun 6 for index 1200\n",
      "Loading subrun 7 for index 1400\n",
      "Loading subrun 8 for index 1600\n",
      "Loading subrun 9 for index 1800\n",
      "Loading subrun 10 for index 2000\n",
      "Loading subrun 11 for index 2200\n",
      "Loading subrun 12 for index 2400\n",
      "Loading subrun 13 for index 2600\n",
      "Loading subrun 14 for index 2800\n",
      "Loading subrun 15 for index 3000\n",
      "Loading subrun 16 for index 3200\n",
      "Loading subrun 17 for index 3400\n",
      "Loading subrun 18 for index 3600\n",
      "3800/3800 - 528s - loss: 1.4798 - accuracy: 0.3549 - val_loss: 1.4529 - val_accuracy: 0.3587\n",
      "Epoch 3/3\n",
      "Loading subrun 0 for index 0\n",
      "Loading subrun 1 for index 200\n",
      "Loading subrun 2 for index 400\n",
      "Loading subrun 3 for index 600\n",
      "Loading subrun 4 for index 800\n",
      "Loading subrun 5 for index 1000\n",
      "Loading subrun 6 for index 1200\n",
      "Loading subrun 7 for index 1400\n",
      "Loading subrun 8 for index 1600\n",
      "Loading subrun 9 for index 1800\n",
      "Loading subrun 10 for index 2000\n",
      "Loading subrun 11 for index 2200\n",
      "Loading subrun 12 for index 2400\n",
      "Loading subrun 13 for index 2600\n",
      "Loading subrun 14 for index 2800\n",
      "Loading subrun 15 for index 3000\n",
      "Loading subrun 16 for index 3200\n",
      "Loading subrun 17 for index 3400\n",
      "Loading subrun 18 for index 3600\n",
      "3800/3800 - 538s - loss: 1.4402 - accuracy: 0.3828 - val_loss: 1.4308 - val_accuracy: 0.3917\n"
     ]
    },
    {
     "data": {
      "text/html": [
       "<span style=\"color:#4527A0\"><h1 style=\"font-size:18px\">Trial complete</h1></span>"
      ],
      "text/plain": [
       "<IPython.core.display.HTML object>"
      ]
     },
     "metadata": {},
     "output_type": "display_data"
    },
    {
     "data": {
      "text/html": [
       "<span style=\"color:#4527A0\"><h1 style=\"font-size:18px\">Trial summary</h1></span>"
      ],
      "text/plain": [
       "<IPython.core.display.HTML object>"
      ]
     },
     "metadata": {},
     "output_type": "display_data"
    },
    {
     "data": {
      "text/html": [
       "<span style=\"color:cyan\"> |-Trial ID: c4f69c043365566a38f407609d5e2b19</span>"
      ],
      "text/plain": [
       "<IPython.core.display.HTML object>"
      ]
     },
     "metadata": {},
     "output_type": "display_data"
    },
    {
     "data": {
      "text/html": [
       "<span style=\"color:cyan\"> |-Score: 0.39172500371932983</span>"
      ],
      "text/plain": [
       "<IPython.core.display.HTML object>"
      ]
     },
     "metadata": {},
     "output_type": "display_data"
    },
    {
     "data": {
      "text/html": [
       "<span style=\"color:cyan\"> |-Best step: 0</span>"
      ],
      "text/plain": [
       "<IPython.core.display.HTML object>"
      ]
     },
     "metadata": {},
     "output_type": "display_data"
    },
    {
     "data": {
      "text/html": [
       "<span style=\"color:#7E57C2\"><h2 style=\"font-size:16px\">Hyperparameters:</h2></span>"
      ],
      "text/plain": [
       "<IPython.core.display.HTML object>"
      ]
     },
     "metadata": {},
     "output_type": "display_data"
    },
    {
     "data": {
      "text/html": [
       "<span style=\"color:cyan\"> |-optimizer: adadelta</span>"
      ],
      "text/plain": [
       "<IPython.core.display.HTML object>"
      ]
     },
     "metadata": {},
     "output_type": "display_data"
    },
    {
     "data": {
      "text/html": [
       "<span style=\"color:blue\"> |-relu1nodes: 7000</span>"
      ],
      "text/plain": [
       "<IPython.core.display.HTML object>"
      ]
     },
     "metadata": {},
     "output_type": "display_data"
    },
    {
     "data": {
      "text/html": [
       "<span style=\"color:cyan\"> |-relu2nodes: 2900</span>"
      ],
      "text/plain": [
       "<IPython.core.display.HTML object>"
      ]
     },
     "metadata": {},
     "output_type": "display_data"
    },
    {
     "name": "stdout",
     "output_type": "stream",
     "text": [
      "Loading subrun 0 for index 0\n",
      "WARNING:tensorflow:sample_weight modes were coerced from\n",
      "  ...\n",
      "    to  \n",
      "  ['...']\n",
      "Train for 3800 steps, validate for 200 steps\n",
      "Epoch 1/3\n",
      "Loading subrun 1 for index 200\n",
      "Loading subrun 2 for index 400\n",
      "Loading subrun 3 for index 600\n",
      "Loading subrun 4 for index 800\n",
      "Loading subrun 5 for index 1000\n",
      "Loading subrun 6 for index 1200\n",
      "Loading subrun 7 for index 1400\n",
      "Loading subrun 8 for index 1600\n",
      "Loading subrun 9 for index 1800\n",
      "Loading subrun 10 for index 2000\n",
      "Loading subrun 11 for index 2200\n",
      "Loading subrun 12 for index 2400\n",
      "Loading subrun 13 for index 2600\n",
      "Loading subrun 14 for index 2800\n",
      "Loading subrun 15 for index 3000\n",
      "Loading subrun 16 for index 3200\n",
      "Loading subrun 17 for index 3400\n",
      "Loading subrun 18 for index 3600\n",
      "3800/3800 - 522s - loss: 0.7468 - accuracy: 0.6597 - val_loss: 0.7035 - val_accuracy: 0.6821\n",
      "Epoch 2/3\n",
      "Loading subrun 0 for index 0\n",
      "Loading subrun 1 for index 200\n",
      "Loading subrun 2 for index 400\n",
      "Loading subrun 3 for index 600\n",
      "Loading subrun 4 for index 800\n",
      "Loading subrun 5 for index 1000\n",
      "Loading subrun 6 for index 1200\n",
      "Loading subrun 7 for index 1400\n",
      "Loading subrun 8 for index 1600\n",
      "Loading subrun 9 for index 1800\n",
      "Loading subrun 10 for index 2000\n",
      "Loading subrun 11 for index 2200\n",
      "Loading subrun 12 for index 2400\n",
      "Loading subrun 13 for index 2600\n",
      "Loading subrun 14 for index 2800\n",
      "Loading subrun 15 for index 3000\n",
      "Loading subrun 16 for index 3200\n",
      "Loading subrun 17 for index 3400\n",
      "Loading subrun 18 for index 3600\n",
      "3800/3800 - 530s - loss: 0.6390 - accuracy: 0.7172 - val_loss: 0.7296 - val_accuracy: 0.6812\n",
      "Epoch 3/3\n",
      "Loading subrun 0 for index 0\n",
      "Loading subrun 1 for index 200\n",
      "Loading subrun 2 for index 400\n",
      "Loading subrun 3 for index 600\n",
      "Loading subrun 4 for index 800\n",
      "Loading subrun 5 for index 1000\n",
      "Loading subrun 6 for index 1200\n",
      "Loading subrun 7 for index 1400\n",
      "Loading subrun 8 for index 1600\n",
      "Loading subrun 9 for index 1800\n",
      "Loading subrun 10 for index 2000\n",
      "Loading subrun 11 for index 2200\n",
      "Loading subrun 12 for index 2400\n",
      "Loading subrun 13 for index 2600\n",
      "Loading subrun 14 for index 2800\n",
      "Loading subrun 15 for index 3000\n",
      "Loading subrun 16 for index 3200\n",
      "Loading subrun 17 for index 3400\n",
      "Loading subrun 18 for index 3600\n",
      "3800/3800 - 530s - loss: 0.4563 - accuracy: 0.8118 - val_loss: 1.0601 - val_accuracy: 0.6655\n"
     ]
    },
    {
     "data": {
      "text/html": [
       "<span style=\"color:#4527A0\"><h1 style=\"font-size:18px\">Trial complete</h1></span>"
      ],
      "text/plain": [
       "<IPython.core.display.HTML object>"
      ]
     },
     "metadata": {},
     "output_type": "display_data"
    },
    {
     "data": {
      "text/html": [
       "<span style=\"color:#4527A0\"><h1 style=\"font-size:18px\">Trial summary</h1></span>"
      ],
      "text/plain": [
       "<IPython.core.display.HTML object>"
      ]
     },
     "metadata": {},
     "output_type": "display_data"
    },
    {
     "data": {
      "text/html": [
       "<span style=\"color:cyan\"> |-Trial ID: 2320f24432ccd12ed094b3e791cf2724</span>"
      ],
      "text/plain": [
       "<IPython.core.display.HTML object>"
      ]
     },
     "metadata": {},
     "output_type": "display_data"
    },
    {
     "data": {
      "text/html": [
       "<span style=\"color:cyan\"> |-Score: 0.682075023651123</span>"
      ],
      "text/plain": [
       "<IPython.core.display.HTML object>"
      ]
     },
     "metadata": {},
     "output_type": "display_data"
    },
    {
     "data": {
      "text/html": [
       "<span style=\"color:cyan\"> |-Best step: 0</span>"
      ],
      "text/plain": [
       "<IPython.core.display.HTML object>"
      ]
     },
     "metadata": {},
     "output_type": "display_data"
    },
    {
     "data": {
      "text/html": [
       "<span style=\"color:#7E57C2\"><h2 style=\"font-size:16px\">Hyperparameters:</h2></span>"
      ],
      "text/plain": [
       "<IPython.core.display.HTML object>"
      ]
     },
     "metadata": {},
     "output_type": "display_data"
    },
    {
     "data": {
      "text/html": [
       "<span style=\"color:cyan\"> |-optimizer: adam</span>"
      ],
      "text/plain": [
       "<IPython.core.display.HTML object>"
      ]
     },
     "metadata": {},
     "output_type": "display_data"
    },
    {
     "data": {
      "text/html": [
       "<span style=\"color:blue\"> |-relu1nodes: 10000</span>"
      ],
      "text/plain": [
       "<IPython.core.display.HTML object>"
      ]
     },
     "metadata": {},
     "output_type": "display_data"
    },
    {
     "data": {
      "text/html": [
       "<span style=\"color:cyan\"> |-relu2nodes: 1900</span>"
      ],
      "text/plain": [
       "<IPython.core.display.HTML object>"
      ]
     },
     "metadata": {},
     "output_type": "display_data"
    },
    {
     "name": "stdout",
     "output_type": "stream",
     "text": [
      "Loading subrun 0 for index 0\n",
      "WARNING:tensorflow:sample_weight modes were coerced from\n",
      "  ...\n",
      "    to  \n",
      "  ['...']\n",
      "Train for 3800 steps, validate for 200 steps\n",
      "Epoch 1/3\n",
      "Loading subrun 1 for index 200\n",
      "Loading subrun 2 for index 400\n",
      "Loading subrun 3 for index 600\n",
      "Loading subrun 4 for index 800\n",
      "Loading subrun 5 for index 1000\n",
      "Loading subrun 6 for index 1200\n",
      "Loading subrun 7 for index 1400\n",
      "Loading subrun 8 for index 1600\n",
      "Loading subrun 9 for index 1800\n",
      "Loading subrun 10 for index 2000\n",
      "Loading subrun 11 for index 2200\n",
      "Loading subrun 12 for index 2400\n",
      "Loading subrun 13 for index 2600\n",
      "Loading subrun 14 for index 2800\n",
      "Loading subrun 15 for index 3000\n",
      "Loading subrun 16 for index 3200\n",
      "Loading subrun 17 for index 3400\n",
      "Loading subrun 18 for index 3600\n",
      "3800/3800 - 449s - loss: 0.8070 - accuracy: 0.6372 - val_loss: 0.7751 - val_accuracy: 0.6458\n",
      "Epoch 2/3\n",
      "Loading subrun 0 for index 0\n",
      "Loading subrun 1 for index 200\n",
      "Loading subrun 2 for index 400\n",
      "Loading subrun 3 for index 600\n",
      "Loading subrun 4 for index 800\n",
      "Loading subrun 5 for index 1000\n",
      "Loading subrun 6 for index 1200\n",
      "Loading subrun 7 for index 1400\n",
      "Loading subrun 8 for index 1600\n",
      "Loading subrun 9 for index 1800\n",
      "Loading subrun 10 for index 2000\n",
      "Loading subrun 11 for index 2200\n",
      "Loading subrun 12 for index 2400\n",
      "Loading subrun 13 for index 2600\n",
      "Loading subrun 14 for index 2800\n",
      "Loading subrun 15 for index 3000\n",
      "Loading subrun 16 for index 3200\n",
      "Loading subrun 17 for index 3400\n",
      "Loading subrun 18 for index 3600\n",
      "3800/3800 - 467s - loss: 0.7692 - accuracy: 0.6485 - val_loss: 0.7646 - val_accuracy: 0.6597\n",
      "Epoch 3/3\n",
      "Loading subrun 0 for index 0\n",
      "Loading subrun 1 for index 200\n",
      "Loading subrun 2 for index 400\n",
      "Loading subrun 3 for index 600\n",
      "Loading subrun 4 for index 800\n",
      "Loading subrun 5 for index 1000\n",
      "Loading subrun 6 for index 1200\n",
      "Loading subrun 7 for index 1400\n",
      "Loading subrun 8 for index 1600\n",
      "Loading subrun 9 for index 1800\n",
      "Loading subrun 10 for index 2000\n",
      "Loading subrun 11 for index 2200\n",
      "Loading subrun 12 for index 2400\n",
      "Loading subrun 13 for index 2600\n",
      "Loading subrun 14 for index 2800\n",
      "Loading subrun 15 for index 3000\n",
      "Loading subrun 16 for index 3200\n",
      "Loading subrun 17 for index 3400\n",
      "Loading subrun 18 for index 3600\n",
      "3800/3800 - 466s - loss: 0.7602 - accuracy: 0.6599 - val_loss: 0.7597 - val_accuracy: 0.6583\n"
     ]
    },
    {
     "data": {
      "text/html": [
       "<span style=\"color:#4527A0\"><h1 style=\"font-size:18px\">Trial complete</h1></span>"
      ],
      "text/plain": [
       "<IPython.core.display.HTML object>"
      ]
     },
     "metadata": {},
     "output_type": "display_data"
    },
    {
     "data": {
      "text/html": [
       "<span style=\"color:#4527A0\"><h1 style=\"font-size:18px\">Trial summary</h1></span>"
      ],
      "text/plain": [
       "<IPython.core.display.HTML object>"
      ]
     },
     "metadata": {},
     "output_type": "display_data"
    },
    {
     "data": {
      "text/html": [
       "<span style=\"color:cyan\"> |-Trial ID: bdcf3a3b3507eccc25d296eee7c30be0</span>"
      ],
      "text/plain": [
       "<IPython.core.display.HTML object>"
      ]
     },
     "metadata": {},
     "output_type": "display_data"
    },
    {
     "data": {
      "text/html": [
       "<span style=\"color:cyan\"> |-Score: 0.65972501039505</span>"
      ],
      "text/plain": [
       "<IPython.core.display.HTML object>"
      ]
     },
     "metadata": {},
     "output_type": "display_data"
    },
    {
     "data": {
      "text/html": [
       "<span style=\"color:cyan\"> |-Best step: 0</span>"
      ],
      "text/plain": [
       "<IPython.core.display.HTML object>"
      ]
     },
     "metadata": {},
     "output_type": "display_data"
    },
    {
     "data": {
      "text/html": [
       "<span style=\"color:#7E57C2\"><h2 style=\"font-size:16px\">Hyperparameters:</h2></span>"
      ],
      "text/plain": [
       "<IPython.core.display.HTML object>"
      ]
     },
     "metadata": {},
     "output_type": "display_data"
    },
    {
     "data": {
      "text/html": [
       "<span style=\"color:cyan\"> |-optimizer: adagrad</span>"
      ],
      "text/plain": [
       "<IPython.core.display.HTML object>"
      ]
     },
     "metadata": {},
     "output_type": "display_data"
    },
    {
     "data": {
      "text/html": [
       "<span style=\"color:blue\"> |-relu1nodes: 7000</span>"
      ],
      "text/plain": [
       "<IPython.core.display.HTML object>"
      ]
     },
     "metadata": {},
     "output_type": "display_data"
    },
    {
     "data": {
      "text/html": [
       "<span style=\"color:cyan\"> |-relu2nodes: 700</span>"
      ],
      "text/plain": [
       "<IPython.core.display.HTML object>"
      ]
     },
     "metadata": {},
     "output_type": "display_data"
    },
    {
     "name": "stdout",
     "output_type": "stream",
     "text": [
      "Loading subrun 0 for index 0\n",
      "WARNING:tensorflow:sample_weight modes were coerced from\n",
      "  ...\n",
      "    to  \n",
      "  ['...']\n",
      "Train for 3800 steps, validate for 200 steps\n",
      "Epoch 1/3\n",
      "Loading subrun 1 for index 200\n",
      "Loading subrun 2 for index 400\n",
      "Loading subrun 3 for index 600\n",
      "Loading subrun 4 for index 800\n",
      "Loading subrun 5 for index 1000\n",
      "Loading subrun 6 for index 1200\n",
      "Loading subrun 7 for index 1400\n",
      "Loading subrun 8 for index 1600\n",
      "Loading subrun 9 for index 1800\n",
      "Loading subrun 10 for index 2000\n",
      "Loading subrun 11 for index 2200\n",
      "Loading subrun 12 for index 2400\n",
      "Loading subrun 13 for index 2600\n",
      "Loading subrun 14 for index 2800\n",
      "Loading subrun 15 for index 3000\n",
      "Loading subrun 16 for index 3200\n",
      "Loading subrun 17 for index 3400\n",
      "Loading subrun 18 for index 3600\n",
      "3800/3800 - 517s - loss: 0.7489 - accuracy: 0.6584 - val_loss: 0.7097 - val_accuracy: 0.6700\n",
      "Epoch 2/3\n",
      "Loading subrun 0 for index 0\n",
      "Loading subrun 1 for index 200\n",
      "Loading subrun 2 for index 400\n",
      "Loading subrun 3 for index 600\n",
      "Loading subrun 4 for index 800\n",
      "Loading subrun 5 for index 1000\n",
      "Loading subrun 6 for index 1200\n",
      "Loading subrun 7 for index 1400\n",
      "Loading subrun 8 for index 1600\n",
      "Loading subrun 9 for index 1800\n",
      "Loading subrun 10 for index 2000\n",
      "Loading subrun 11 for index 2200\n",
      "Loading subrun 12 for index 2400\n",
      "Loading subrun 13 for index 2600\n",
      "Loading subrun 14 for index 2800\n",
      "Loading subrun 15 for index 3000\n",
      "Loading subrun 16 for index 3200\n",
      "Loading subrun 17 for index 3400\n",
      "Loading subrun 18 for index 3600\n",
      "3800/3800 - 541s - loss: 0.6435 - accuracy: 0.7140 - val_loss: 0.7223 - val_accuracy: 0.6847\n",
      "Epoch 3/3\n",
      "Loading subrun 0 for index 0\n",
      "Loading subrun 1 for index 200\n",
      "Loading subrun 2 for index 400\n",
      "Loading subrun 3 for index 600\n",
      "Loading subrun 4 for index 800\n",
      "Loading subrun 5 for index 1000\n",
      "Loading subrun 6 for index 1200\n",
      "Loading subrun 7 for index 1400\n",
      "Loading subrun 8 for index 1600\n",
      "Loading subrun 9 for index 1800\n",
      "Loading subrun 10 for index 2000\n",
      "Loading subrun 11 for index 2200\n",
      "Loading subrun 12 for index 2400\n",
      "Loading subrun 13 for index 2600\n",
      "Loading subrun 14 for index 2800\n",
      "Loading subrun 15 for index 3000\n",
      "Loading subrun 16 for index 3200\n",
      "Loading subrun 17 for index 3400\n",
      "Loading subrun 18 for index 3600\n",
      "3800/3800 - 557s - loss: 0.4669 - accuracy: 0.8066 - val_loss: 1.0208 - val_accuracy: 0.6582\n"
     ]
    },
    {
     "data": {
      "text/html": [
       "<span style=\"color:#4527A0\"><h1 style=\"font-size:18px\">Trial complete</h1></span>"
      ],
      "text/plain": [
       "<IPython.core.display.HTML object>"
      ]
     },
     "metadata": {},
     "output_type": "display_data"
    },
    {
     "data": {
      "text/html": [
       "<span style=\"color:#4527A0\"><h1 style=\"font-size:18px\">Trial summary</h1></span>"
      ],
      "text/plain": [
       "<IPython.core.display.HTML object>"
      ]
     },
     "metadata": {},
     "output_type": "display_data"
    },
    {
     "data": {
      "text/html": [
       "<span style=\"color:cyan\"> |-Trial ID: a57f2884b97a68f814998067ceabe23b</span>"
      ],
      "text/plain": [
       "<IPython.core.display.HTML object>"
      ]
     },
     "metadata": {},
     "output_type": "display_data"
    },
    {
     "data": {
      "text/html": [
       "<span style=\"color:cyan\"> |-Score: 0.6847000122070312</span>"
      ],
      "text/plain": [
       "<IPython.core.display.HTML object>"
      ]
     },
     "metadata": {},
     "output_type": "display_data"
    },
    {
     "data": {
      "text/html": [
       "<span style=\"color:cyan\"> |-Best step: 0</span>"
      ],
      "text/plain": [
       "<IPython.core.display.HTML object>"
      ]
     },
     "metadata": {},
     "output_type": "display_data"
    },
    {
     "data": {
      "text/html": [
       "<span style=\"color:#7E57C2\"><h2 style=\"font-size:16px\">Hyperparameters:</h2></span>"
      ],
      "text/plain": [
       "<IPython.core.display.HTML object>"
      ]
     },
     "metadata": {},
     "output_type": "display_data"
    },
    {
     "data": {
      "text/html": [
       "<span style=\"color:cyan\"> |-optimizer: adam</span>"
      ],
      "text/plain": [
       "<IPython.core.display.HTML object>"
      ]
     },
     "metadata": {},
     "output_type": "display_data"
    },
    {
     "data": {
      "text/html": [
       "<span style=\"color:blue\"> |-relu1nodes: 10000</span>"
      ],
      "text/plain": [
       "<IPython.core.display.HTML object>"
      ]
     },
     "metadata": {},
     "output_type": "display_data"
    },
    {
     "data": {
      "text/html": [
       "<span style=\"color:cyan\"> |-relu2nodes: 1500</span>"
      ],
      "text/plain": [
       "<IPython.core.display.HTML object>"
      ]
     },
     "metadata": {},
     "output_type": "display_data"
    },
    {
     "name": "stdout",
     "output_type": "stream",
     "text": [
      "Loading subrun 0 for index 0\n",
      "WARNING:tensorflow:sample_weight modes were coerced from\n",
      "  ...\n",
      "    to  \n",
      "  ['...']\n",
      "Train for 3800 steps, validate for 200 steps\n",
      "Epoch 1/3\n",
      "Loading subrun 1 for index 200\n",
      "Loading subrun 2 for index 400\n",
      "Loading subrun 3 for index 600\n",
      "Loading subrun 4 for index 800\n",
      "Loading subrun 5 for index 1000\n",
      "Loading subrun 6 for index 1200\n",
      "Loading subrun 7 for index 1400\n",
      "Loading subrun 8 for index 1600\n",
      "Loading subrun 9 for index 1800\n",
      "Loading subrun 10 for index 2000\n",
      "Loading subrun 11 for index 2200\n",
      "Loading subrun 12 for index 2400\n",
      "Loading subrun 13 for index 2600\n",
      "Loading subrun 14 for index 2800\n",
      "Loading subrun 15 for index 3000\n",
      "Loading subrun 16 for index 3200\n",
      "Loading subrun 17 for index 3400\n",
      "Loading subrun 18 for index 3600\n",
      "3800/3800 - 702s - loss: 0.7637 - accuracy: 0.6518 - val_loss: 0.7165 - val_accuracy: 0.6739\n",
      "Epoch 2/3\n",
      "Loading subrun 0 for index 0\n",
      "Loading subrun 1 for index 200\n",
      "Loading subrun 2 for index 400\n",
      "Loading subrun 3 for index 600\n",
      "Loading subrun 4 for index 800\n",
      "Loading subrun 5 for index 1000\n",
      "Loading subrun 6 for index 1200\n",
      "Loading subrun 7 for index 1400\n",
      "Loading subrun 8 for index 1600\n",
      "Loading subrun 9 for index 1800\n",
      "Loading subrun 10 for index 2000\n",
      "Loading subrun 11 for index 2200\n",
      "Loading subrun 12 for index 2400\n",
      "Loading subrun 13 for index 2600\n",
      "Loading subrun 14 for index 2800\n",
      "Loading subrun 15 for index 3000\n",
      "Loading subrun 16 for index 3200\n",
      "Loading subrun 17 for index 3400\n",
      "Loading subrun 18 for index 3600\n",
      "3800/3800 - 528s - loss: 0.6803 - accuracy: 0.6936 - val_loss: 0.7081 - val_accuracy: 0.6817\n",
      "Epoch 3/3\n",
      "Loading subrun 0 for index 0\n",
      "Loading subrun 1 for index 200\n",
      "Loading subrun 2 for index 400\n",
      "Loading subrun 3 for index 600\n",
      "Loading subrun 4 for index 800\n",
      "Loading subrun 5 for index 1000\n",
      "Loading subrun 6 for index 1200\n",
      "Loading subrun 7 for index 1400\n",
      "Loading subrun 8 for index 1600\n",
      "Loading subrun 9 for index 1800\n",
      "Loading subrun 10 for index 2000\n",
      "Loading subrun 11 for index 2200\n",
      "Loading subrun 12 for index 2400\n",
      "Loading subrun 13 for index 2600\n",
      "Loading subrun 14 for index 2800\n",
      "Loading subrun 15 for index 3000\n",
      "Loading subrun 16 for index 3200\n",
      "Loading subrun 17 for index 3400\n",
      "Loading subrun 18 for index 3600\n",
      "3800/3800 - 398s - loss: 0.6044 - accuracy: 0.7353 - val_loss: 0.7580 - val_accuracy: 0.6736\n"
     ]
    },
    {
     "data": {
      "text/html": [
       "<span style=\"color:#4527A0\"><h1 style=\"font-size:18px\">Trial complete</h1></span>"
      ],
      "text/plain": [
       "<IPython.core.display.HTML object>"
      ]
     },
     "metadata": {},
     "output_type": "display_data"
    },
    {
     "data": {
      "text/html": [
       "<span style=\"color:#4527A0\"><h1 style=\"font-size:18px\">Trial summary</h1></span>"
      ],
      "text/plain": [
       "<IPython.core.display.HTML object>"
      ]
     },
     "metadata": {},
     "output_type": "display_data"
    },
    {
     "data": {
      "text/html": [
       "<span style=\"color:cyan\"> |-Trial ID: f73141493168c5e81e0a50bed8966dd3</span>"
      ],
      "text/plain": [
       "<IPython.core.display.HTML object>"
      ]
     },
     "metadata": {},
     "output_type": "display_data"
    },
    {
     "data": {
      "text/html": [
       "<span style=\"color:cyan\"> |-Score: 0.6816750168800354</span>"
      ],
      "text/plain": [
       "<IPython.core.display.HTML object>"
      ]
     },
     "metadata": {},
     "output_type": "display_data"
    },
    {
     "data": {
      "text/html": [
       "<span style=\"color:cyan\"> |-Best step: 0</span>"
      ],
      "text/plain": [
       "<IPython.core.display.HTML object>"
      ]
     },
     "metadata": {},
     "output_type": "display_data"
    },
    {
     "data": {
      "text/html": [
       "<span style=\"color:#7E57C2\"><h2 style=\"font-size:16px\">Hyperparameters:</h2></span>"
      ],
      "text/plain": [
       "<IPython.core.display.HTML object>"
      ]
     },
     "metadata": {},
     "output_type": "display_data"
    },
    {
     "data": {
      "text/html": [
       "<span style=\"color:cyan\"> |-optimizer: adam</span>"
      ],
      "text/plain": [
       "<IPython.core.display.HTML object>"
      ]
     },
     "metadata": {},
     "output_type": "display_data"
    },
    {
     "data": {
      "text/html": [
       "<span style=\"color:blue\"> |-relu1nodes: 1000</span>"
      ],
      "text/plain": [
       "<IPython.core.display.HTML object>"
      ]
     },
     "metadata": {},
     "output_type": "display_data"
    },
    {
     "data": {
      "text/html": [
       "<span style=\"color:cyan\"> |-relu2nodes: 500</span>"
      ],
      "text/plain": [
       "<IPython.core.display.HTML object>"
      ]
     },
     "metadata": {},
     "output_type": "display_data"
    },
    {
     "name": "stdout",
     "output_type": "stream",
     "text": [
      "Loading subrun 0 for index 0\n",
      "WARNING:tensorflow:sample_weight modes were coerced from\n",
      "  ...\n",
      "    to  \n",
      "  ['...']\n",
      "Train for 3800 steps, validate for 200 steps\n",
      "Epoch 1/3\n",
      "Loading subrun 1 for index 200\n",
      "Loading subrun 2 for index 400\n",
      "Loading subrun 3 for index 600\n",
      "Loading subrun 4 for index 800\n",
      "Loading subrun 5 for index 1000\n",
      "Loading subrun 6 for index 1200\n",
      "Loading subrun 7 for index 1400\n",
      "Loading subrun 8 for index 1600\n",
      "Loading subrun 9 for index 1800\n",
      "Loading subrun 10 for index 2000\n",
      "Loading subrun 11 for index 2200\n",
      "Loading subrun 12 for index 2400\n",
      "Loading subrun 13 for index 2600\n",
      "Loading subrun 14 for index 2800\n",
      "Loading subrun 15 for index 3000\n",
      "Loading subrun 16 for index 3200\n",
      "Loading subrun 17 for index 3400\n",
      "Loading subrun 18 for index 3600\n",
      "3800/3800 - 402s - loss: 1.4366 - accuracy: 0.3561 - val_loss: 1.4112 - val_accuracy: 0.4457\n",
      "Epoch 2/3\n",
      "Loading subrun 0 for index 0\n",
      "Loading subrun 1 for index 200\n",
      "Loading subrun 2 for index 400\n",
      "Loading subrun 3 for index 600\n",
      "Loading subrun 4 for index 800\n",
      "Loading subrun 5 for index 1000\n",
      "Loading subrun 6 for index 1200\n",
      "Loading subrun 7 for index 1400\n",
      "Loading subrun 8 for index 1600\n",
      "Loading subrun 9 for index 1800\n",
      "Loading subrun 10 for index 2000\n",
      "Loading subrun 11 for index 2200\n",
      "Loading subrun 12 for index 2400\n",
      "Loading subrun 13 for index 2600\n",
      "Loading subrun 14 for index 2800\n",
      "Loading subrun 15 for index 3000\n",
      "Loading subrun 16 for index 3200\n",
      "Loading subrun 17 for index 3400\n",
      "Loading subrun 18 for index 3600\n",
      "3800/3800 - 537s - loss: 1.3538 - accuracy: 0.5005 - val_loss: 1.2418 - val_accuracy: 0.5090\n",
      "Epoch 3/3\n",
      "Loading subrun 0 for index 0\n",
      "Loading subrun 1 for index 200\n",
      "Loading subrun 2 for index 400\n",
      "Loading subrun 3 for index 600\n",
      "Loading subrun 4 for index 800\n",
      "Loading subrun 5 for index 1000\n",
      "Loading subrun 6 for index 1200\n",
      "Loading subrun 7 for index 1400\n",
      "Loading subrun 8 for index 1600\n",
      "Loading subrun 9 for index 1800\n",
      "Loading subrun 10 for index 2000\n",
      "Loading subrun 11 for index 2200\n",
      "Loading subrun 12 for index 2400\n",
      "Loading subrun 13 for index 2600\n",
      "Loading subrun 14 for index 2800\n",
      "Loading subrun 15 for index 3000\n",
      "Loading subrun 16 for index 3200\n",
      "Loading subrun 17 for index 3400\n",
      "Loading subrun 18 for index 3600\n",
      "3800/3800 - 469s - loss: 1.1082 - accuracy: 0.5436 - val_loss: 1.0169 - val_accuracy: 0.5665\n"
     ]
    },
    {
     "data": {
      "text/html": [
       "<span style=\"color:#4527A0\"><h1 style=\"font-size:18px\">Trial complete</h1></span>"
      ],
      "text/plain": [
       "<IPython.core.display.HTML object>"
      ]
     },
     "metadata": {},
     "output_type": "display_data"
    },
    {
     "data": {
      "text/html": [
       "<span style=\"color:#4527A0\"><h1 style=\"font-size:18px\">Trial summary</h1></span>"
      ],
      "text/plain": [
       "<IPython.core.display.HTML object>"
      ]
     },
     "metadata": {},
     "output_type": "display_data"
    },
    {
     "data": {
      "text/html": [
       "<span style=\"color:cyan\"> |-Trial ID: 550778abbba679003483064808d5aafe</span>"
      ],
      "text/plain": [
       "<IPython.core.display.HTML object>"
      ]
     },
     "metadata": {},
     "output_type": "display_data"
    },
    {
     "data": {
      "text/html": [
       "<span style=\"color:cyan\"> |-Score: 0.566474974155426</span>"
      ],
      "text/plain": [
       "<IPython.core.display.HTML object>"
      ]
     },
     "metadata": {},
     "output_type": "display_data"
    },
    {
     "data": {
      "text/html": [
       "<span style=\"color:cyan\"> |-Best step: 0</span>"
      ],
      "text/plain": [
       "<IPython.core.display.HTML object>"
      ]
     },
     "metadata": {},
     "output_type": "display_data"
    },
    {
     "data": {
      "text/html": [
       "<span style=\"color:#7E57C2\"><h2 style=\"font-size:16px\">Hyperparameters:</h2></span>"
      ],
      "text/plain": [
       "<IPython.core.display.HTML object>"
      ]
     },
     "metadata": {},
     "output_type": "display_data"
    },
    {
     "data": {
      "text/html": [
       "<span style=\"color:cyan\"> |-optimizer: SGD</span>"
      ],
      "text/plain": [
       "<IPython.core.display.HTML object>"
      ]
     },
     "metadata": {},
     "output_type": "display_data"
    },
    {
     "data": {
      "text/html": [
       "<span style=\"color:blue\"> |-relu1nodes: 1000</span>"
      ],
      "text/plain": [
       "<IPython.core.display.HTML object>"
      ]
     },
     "metadata": {},
     "output_type": "display_data"
    },
    {
     "data": {
      "text/html": [
       "<span style=\"color:cyan\"> |-relu2nodes: 500</span>"
      ],
      "text/plain": [
       "<IPython.core.display.HTML object>"
      ]
     },
     "metadata": {},
     "output_type": "display_data"
    },
    {
     "name": "stdout",
     "output_type": "stream",
     "text": [
      "Loading subrun 0 for index 0\n",
      "WARNING:tensorflow:sample_weight modes were coerced from\n",
      "  ...\n",
      "    to  \n",
      "  ['...']\n",
      "Train for 3800 steps, validate for 200 steps\n",
      "Epoch 1/3\n",
      "Loading subrun 1 for index 200\n",
      "Loading subrun 2 for index 400\n",
      "Loading subrun 3 for index 600\n",
      "Loading subrun 4 for index 800\n",
      "Loading subrun 5 for index 1000\n",
      "Loading subrun 6 for index 1200\n",
      "Loading subrun 7 for index 1400\n",
      "Loading subrun 8 for index 1600\n",
      "Loading subrun 9 for index 1800\n",
      "Loading subrun 10 for index 2000\n",
      "Loading subrun 11 for index 2200\n",
      "Loading subrun 12 for index 2400\n",
      "Loading subrun 13 for index 2600\n",
      "Loading subrun 14 for index 2800\n",
      "Loading subrun 15 for index 3000\n",
      "Loading subrun 16 for index 3200\n",
      "Loading subrun 17 for index 3400\n",
      "Loading subrun 18 for index 3600\n",
      "3800/3800 - 497s - loss: 0.7504 - accuracy: 0.6576 - val_loss: 0.7094 - val_accuracy: 0.6778\n",
      "Epoch 2/3\n",
      "Loading subrun 0 for index 0\n",
      "Loading subrun 1 for index 200\n",
      "Loading subrun 2 for index 400\n",
      "Loading subrun 3 for index 600\n",
      "Loading subrun 4 for index 800\n",
      "Loading subrun 5 for index 1000\n",
      "Loading subrun 6 for index 1200\n",
      "Loading subrun 7 for index 1400\n",
      "Loading subrun 8 for index 1600\n",
      "Loading subrun 9 for index 1800\n",
      "Loading subrun 10 for index 2000\n",
      "Loading subrun 11 for index 2200\n",
      "Loading subrun 12 for index 2400\n",
      "Loading subrun 13 for index 2600\n",
      "Loading subrun 14 for index 2800\n",
      "Loading subrun 15 for index 3000\n",
      "Loading subrun 16 for index 3200\n",
      "Loading subrun 17 for index 3400\n",
      "Loading subrun 18 for index 3600\n",
      "3800/3800 - 506s - loss: 0.6528 - accuracy: 0.7083 - val_loss: 0.7126 - val_accuracy: 0.6834\n",
      "Epoch 3/3\n",
      "Loading subrun 0 for index 0\n",
      "Loading subrun 1 for index 200\n",
      "Loading subrun 2 for index 400\n",
      "Loading subrun 3 for index 600\n",
      "Loading subrun 4 for index 800\n",
      "Loading subrun 5 for index 1000\n",
      "Loading subrun 6 for index 1200\n",
      "Loading subrun 7 for index 1400\n",
      "Loading subrun 8 for index 1600\n",
      "Loading subrun 9 for index 1800\n",
      "Loading subrun 10 for index 2000\n",
      "Loading subrun 11 for index 2200\n",
      "Loading subrun 12 for index 2400\n",
      "Loading subrun 13 for index 2600\n",
      "Loading subrun 14 for index 2800\n",
      "Loading subrun 15 for index 3000\n",
      "Loading subrun 16 for index 3200\n",
      "Loading subrun 17 for index 3400\n",
      "Loading subrun 18 for index 3600\n",
      "3800/3800 - 513s - loss: 0.5087 - accuracy: 0.7862 - val_loss: 0.8859 - val_accuracy: 0.6686\n"
     ]
    },
    {
     "data": {
      "text/html": [
       "<span style=\"color:#4527A0\"><h1 style=\"font-size:18px\">Trial complete</h1></span>"
      ],
      "text/plain": [
       "<IPython.core.display.HTML object>"
      ]
     },
     "metadata": {},
     "output_type": "display_data"
    },
    {
     "data": {
      "text/html": [
       "<span style=\"color:#4527A0\"><h1 style=\"font-size:18px\">Trial summary</h1></span>"
      ],
      "text/plain": [
       "<IPython.core.display.HTML object>"
      ]
     },
     "metadata": {},
     "output_type": "display_data"
    },
    {
     "data": {
      "text/html": [
       "<span style=\"color:cyan\"> |-Trial ID: a646263a89e11fa71c53746a7390d928</span>"
      ],
      "text/plain": [
       "<IPython.core.display.HTML object>"
      ]
     },
     "metadata": {},
     "output_type": "display_data"
    },
    {
     "data": {
      "text/html": [
       "<span style=\"color:cyan\"> |-Score: 0.6833750009536743</span>"
      ],
      "text/plain": [
       "<IPython.core.display.HTML object>"
      ]
     },
     "metadata": {},
     "output_type": "display_data"
    },
    {
     "data": {
      "text/html": [
       "<span style=\"color:cyan\"> |-Best step: 0</span>"
      ],
      "text/plain": [
       "<IPython.core.display.HTML object>"
      ]
     },
     "metadata": {},
     "output_type": "display_data"
    },
    {
     "data": {
      "text/html": [
       "<span style=\"color:#7E57C2\"><h2 style=\"font-size:16px\">Hyperparameters:</h2></span>"
      ],
      "text/plain": [
       "<IPython.core.display.HTML object>"
      ]
     },
     "metadata": {},
     "output_type": "display_data"
    },
    {
     "data": {
      "text/html": [
       "<span style=\"color:cyan\"> |-optimizer: adam</span>"
      ],
      "text/plain": [
       "<IPython.core.display.HTML object>"
      ]
     },
     "metadata": {},
     "output_type": "display_data"
    },
    {
     "data": {
      "text/html": [
       "<span style=\"color:blue\"> |-relu1nodes: 4000</span>"
      ],
      "text/plain": [
       "<IPython.core.display.HTML object>"
      ]
     },
     "metadata": {},
     "output_type": "display_data"
    },
    {
     "data": {
      "text/html": [
       "<span style=\"color:cyan\"> |-relu2nodes: 1300</span>"
      ],
      "text/plain": [
       "<IPython.core.display.HTML object>"
      ]
     },
     "metadata": {},
     "output_type": "display_data"
    },
    {
     "name": "stdout",
     "output_type": "stream",
     "text": [
      "Loading subrun 0 for index 0\n",
      "WARNING:tensorflow:sample_weight modes were coerced from\n",
      "  ...\n",
      "    to  \n",
      "  ['...']\n",
      "Train for 3800 steps, validate for 200 steps\n",
      "Epoch 1/3\n",
      "Loading subrun 1 for index 200\n",
      "Loading subrun 2 for index 400\n",
      "Loading subrun 3 for index 600\n",
      "Loading subrun 4 for index 800\n",
      "Loading subrun 5 for index 1000\n",
      "Loading subrun 6 for index 1200\n",
      "Loading subrun 7 for index 1400\n",
      "Loading subrun 8 for index 1600\n",
      "Loading subrun 9 for index 1800\n",
      "Loading subrun 10 for index 2000\n",
      "Loading subrun 11 for index 2200\n",
      "Loading subrun 12 for index 2400\n",
      "Loading subrun 13 for index 2600\n",
      "Loading subrun 14 for index 2800\n",
      "Loading subrun 15 for index 3000\n",
      "Loading subrun 16 for index 3200\n",
      "Loading subrun 17 for index 3400\n",
      "Loading subrun 18 for index 3600\n",
      "3800/3800 - 570s - loss: 0.7526 - accuracy: 0.6568 - val_loss: 0.7083 - val_accuracy: 0.6846\n",
      "Epoch 2/3\n",
      "Loading subrun 0 for index 0\n",
      "Loading subrun 1 for index 200\n",
      "Loading subrun 2 for index 400\n",
      "Loading subrun 3 for index 600\n",
      "Loading subrun 4 for index 800\n",
      "Loading subrun 5 for index 1000\n",
      "Loading subrun 6 for index 1200\n",
      "Loading subrun 7 for index 1400\n",
      "Loading subrun 8 for index 1600\n",
      "Loading subrun 9 for index 1800\n",
      "Loading subrun 10 for index 2000\n",
      "Loading subrun 11 for index 2200\n",
      "Loading subrun 12 for index 2400\n",
      "Loading subrun 13 for index 2600\n",
      "Loading subrun 14 for index 2800\n",
      "Loading subrun 15 for index 3000\n",
      "Loading subrun 16 for index 3200\n",
      "Loading subrun 17 for index 3400\n",
      "Loading subrun 18 for index 3600\n",
      "3800/3800 - 614s - loss: 0.6516 - accuracy: 0.7097 - val_loss: 0.7177 - val_accuracy: 0.6809\n",
      "Epoch 3/3\n",
      "Loading subrun 0 for index 0\n",
      "Loading subrun 1 for index 200\n",
      "Loading subrun 2 for index 400\n",
      "Loading subrun 3 for index 600\n",
      "Loading subrun 4 for index 800\n",
      "Loading subrun 5 for index 1000\n",
      "Loading subrun 6 for index 1200\n",
      "Loading subrun 7 for index 1400\n",
      "Loading subrun 8 for index 1600\n",
      "Loading subrun 9 for index 1800\n",
      "Loading subrun 10 for index 2000\n",
      "Loading subrun 11 for index 2200\n",
      "Loading subrun 12 for index 2400\n",
      "Loading subrun 13 for index 2600\n",
      "Loading subrun 14 for index 2800\n",
      "Loading subrun 15 for index 3000\n",
      "Loading subrun 16 for index 3200\n",
      "Loading subrun 17 for index 3400\n",
      "Loading subrun 18 for index 3600\n",
      "3800/3800 - 599s - loss: 0.4948 - accuracy: 0.7939 - val_loss: 0.9088 - val_accuracy: 0.6697\n"
     ]
    },
    {
     "data": {
      "text/html": [
       "<span style=\"color:#4527A0\"><h1 style=\"font-size:18px\">Trial complete</h1></span>"
      ],
      "text/plain": [
       "<IPython.core.display.HTML object>"
      ]
     },
     "metadata": {},
     "output_type": "display_data"
    },
    {
     "data": {
      "text/html": [
       "<span style=\"color:#4527A0\"><h1 style=\"font-size:18px\">Trial summary</h1></span>"
      ],
      "text/plain": [
       "<IPython.core.display.HTML object>"
      ]
     },
     "metadata": {},
     "output_type": "display_data"
    },
    {
     "data": {
      "text/html": [
       "<span style=\"color:cyan\"> |-Trial ID: 670c2d8570341b823f9e42937b3e0be0</span>"
      ],
      "text/plain": [
       "<IPython.core.display.HTML object>"
      ]
     },
     "metadata": {},
     "output_type": "display_data"
    },
    {
     "data": {
      "text/html": [
       "<span style=\"color:cyan\"> |-Score: 0.6846250295639038</span>"
      ],
      "text/plain": [
       "<IPython.core.display.HTML object>"
      ]
     },
     "metadata": {},
     "output_type": "display_data"
    },
    {
     "data": {
      "text/html": [
       "<span style=\"color:cyan\"> |-Best step: 0</span>"
      ],
      "text/plain": [
       "<IPython.core.display.HTML object>"
      ]
     },
     "metadata": {},
     "output_type": "display_data"
    },
    {
     "data": {
      "text/html": [
       "<span style=\"color:#7E57C2\"><h2 style=\"font-size:16px\">Hyperparameters:</h2></span>"
      ],
      "text/plain": [
       "<IPython.core.display.HTML object>"
      ]
     },
     "metadata": {},
     "output_type": "display_data"
    },
    {
     "data": {
      "text/html": [
       "<span style=\"color:cyan\"> |-optimizer: adam</span>"
      ],
      "text/plain": [
       "<IPython.core.display.HTML object>"
      ]
     },
     "metadata": {},
     "output_type": "display_data"
    },
    {
     "data": {
      "text/html": [
       "<span style=\"color:blue\"> |-relu1nodes: 7000</span>"
      ],
      "text/plain": [
       "<IPython.core.display.HTML object>"
      ]
     },
     "metadata": {},
     "output_type": "display_data"
    },
    {
     "data": {
      "text/html": [
       "<span style=\"color:cyan\"> |-relu2nodes: 500</span>"
      ],
      "text/plain": [
       "<IPython.core.display.HTML object>"
      ]
     },
     "metadata": {},
     "output_type": "display_data"
    },
    {
     "name": "stdout",
     "output_type": "stream",
     "text": [
      "Loading subrun 0 for index 0\n",
      "WARNING:tensorflow:sample_weight modes were coerced from\n",
      "  ...\n",
      "    to  \n",
      "  ['...']\n",
      "Train for 3800 steps, validate for 200 steps\n",
      "Epoch 1/3\n",
      "Loading subrun 1 for index 200\n",
      "Loading subrun 2 for index 400\n",
      "Loading subrun 3 for index 600\n",
      "Loading subrun 4 for index 800\n",
      "Loading subrun 5 for index 1000\n",
      "Loading subrun 6 for index 1200\n",
      "Loading subrun 7 for index 1400\n",
      "Loading subrun 8 for index 1600\n",
      "Loading subrun 9 for index 1800\n",
      "Loading subrun 10 for index 2000\n",
      "Loading subrun 11 for index 2200\n",
      "Loading subrun 12 for index 2400\n",
      "Loading subrun 13 for index 2600\n",
      "Loading subrun 14 for index 2800\n",
      "Loading subrun 15 for index 3000\n",
      "Loading subrun 16 for index 3200\n",
      "Loading subrun 17 for index 3400\n",
      "Loading subrun 18 for index 3600\n",
      "3800/3800 - 447s - loss: 0.7592 - accuracy: 0.6534 - val_loss: 0.7094 - val_accuracy: 0.6801\n",
      "Epoch 2/3\n",
      "Loading subrun 0 for index 0\n",
      "Loading subrun 1 for index 200\n",
      "Loading subrun 2 for index 400\n",
      "Loading subrun 3 for index 600\n",
      "Loading subrun 4 for index 800\n",
      "Loading subrun 5 for index 1000\n",
      "Loading subrun 6 for index 1200\n",
      "Loading subrun 7 for index 1400\n",
      "Loading subrun 8 for index 1600\n",
      "Loading subrun 9 for index 1800\n",
      "Loading subrun 10 for index 2000\n",
      "Loading subrun 11 for index 2200\n",
      "Loading subrun 12 for index 2400\n",
      "Loading subrun 13 for index 2600\n",
      "Loading subrun 14 for index 2800\n",
      "Loading subrun 15 for index 3000\n",
      "Loading subrun 16 for index 3200\n",
      "Loading subrun 17 for index 3400\n",
      "Loading subrun 18 for index 3600\n",
      "3800/3800 - 467s - loss: 0.6742 - accuracy: 0.6964 - val_loss: 0.7074 - val_accuracy: 0.6837\n",
      "Epoch 3/3\n",
      "Loading subrun 0 for index 0\n",
      "Loading subrun 1 for index 200\n",
      "Loading subrun 2 for index 400\n",
      "Loading subrun 3 for index 600\n",
      "Loading subrun 4 for index 800\n",
      "Loading subrun 5 for index 1000\n",
      "Loading subrun 6 for index 1200\n",
      "Loading subrun 7 for index 1400\n",
      "Loading subrun 8 for index 1600\n",
      "Loading subrun 9 for index 1800\n",
      "Loading subrun 10 for index 2000\n",
      "Loading subrun 11 for index 2200\n",
      "Loading subrun 12 for index 2400\n",
      "Loading subrun 13 for index 2600\n",
      "Loading subrun 14 for index 2800\n",
      "Loading subrun 15 for index 3000\n",
      "Loading subrun 16 for index 3200\n",
      "Loading subrun 17 for index 3400\n",
      "Loading subrun 18 for index 3600\n",
      "3800/3800 - 473s - loss: 0.5867 - accuracy: 0.7438 - val_loss: 0.7825 - val_accuracy: 0.6708\n"
     ]
    },
    {
     "data": {
      "text/html": [
       "<span style=\"color:#4527A0\"><h1 style=\"font-size:18px\">Trial complete</h1></span>"
      ],
      "text/plain": [
       "<IPython.core.display.HTML object>"
      ]
     },
     "metadata": {},
     "output_type": "display_data"
    },
    {
     "data": {
      "text/html": [
       "<span style=\"color:#4527A0\"><h1 style=\"font-size:18px\">Trial summary</h1></span>"
      ],
      "text/plain": [
       "<IPython.core.display.HTML object>"
      ]
     },
     "metadata": {},
     "output_type": "display_data"
    },
    {
     "data": {
      "text/html": [
       "<span style=\"color:cyan\"> |-Trial ID: 694428b6a3229778908e23db75c88068</span>"
      ],
      "text/plain": [
       "<IPython.core.display.HTML object>"
      ]
     },
     "metadata": {},
     "output_type": "display_data"
    },
    {
     "data": {
      "text/html": [
       "<span style=\"color:cyan\"> |-Score: 0.6837499737739563</span>"
      ],
      "text/plain": [
       "<IPython.core.display.HTML object>"
      ]
     },
     "metadata": {},
     "output_type": "display_data"
    },
    {
     "data": {
      "text/html": [
       "<span style=\"color:cyan\"> |-Best step: 0</span>"
      ],
      "text/plain": [
       "<IPython.core.display.HTML object>"
      ]
     },
     "metadata": {},
     "output_type": "display_data"
    },
    {
     "data": {
      "text/html": [
       "<span style=\"color:#7E57C2\"><h2 style=\"font-size:16px\">Hyperparameters:</h2></span>"
      ],
      "text/plain": [
       "<IPython.core.display.HTML object>"
      ]
     },
     "metadata": {},
     "output_type": "display_data"
    },
    {
     "data": {
      "text/html": [
       "<span style=\"color:cyan\"> |-optimizer: adam</span>"
      ],
      "text/plain": [
       "<IPython.core.display.HTML object>"
      ]
     },
     "metadata": {},
     "output_type": "display_data"
    },
    {
     "data": {
      "text/html": [
       "<span style=\"color:blue\"> |-relu1nodes: 1000</span>"
      ],
      "text/plain": [
       "<IPython.core.display.HTML object>"
      ]
     },
     "metadata": {},
     "output_type": "display_data"
    },
    {
     "data": {
      "text/html": [
       "<span style=\"color:cyan\"> |-relu2nodes: 2500</span>"
      ],
      "text/plain": [
       "<IPython.core.display.HTML object>"
      ]
     },
     "metadata": {},
     "output_type": "display_data"
    },
    {
     "name": "stdout",
     "output_type": "stream",
     "text": [
      "Loading subrun 0 for index 0\n",
      "WARNING:tensorflow:sample_weight modes were coerced from\n",
      "  ...\n",
      "    to  \n",
      "  ['...']\n",
      "Train for 3800 steps, validate for 200 steps\n",
      "Epoch 1/3\n",
      "Loading subrun 1 for index 200\n",
      "Loading subrun 2 for index 400\n",
      "Loading subrun 3 for index 600\n",
      "Loading subrun 4 for index 800\n",
      "Loading subrun 5 for index 1000\n",
      "Loading subrun 6 for index 1200\n",
      "Loading subrun 7 for index 1400\n",
      "Loading subrun 8 for index 1600\n",
      "Loading subrun 9 for index 1800\n",
      "Loading subrun 10 for index 2000\n",
      "Loading subrun 11 for index 2200\n",
      "Loading subrun 12 for index 2400\n",
      "Loading subrun 13 for index 2600\n",
      "Loading subrun 14 for index 2800\n",
      "Loading subrun 15 for index 3000\n",
      "Loading subrun 16 for index 3200\n",
      "Loading subrun 17 for index 3400\n",
      "Loading subrun 18 for index 3600\n",
      "3800/3800 - 574s - loss: 1.4197 - accuracy: 0.4194 - val_loss: 1.3669 - val_accuracy: 0.5229\n",
      "Epoch 2/3\n",
      "Loading subrun 0 for index 0\n",
      "Loading subrun 1 for index 200\n",
      "Loading subrun 2 for index 400\n",
      "Loading subrun 3 for index 600\n",
      "Loading subrun 4 for index 800\n",
      "Loading subrun 5 for index 1000\n",
      "Loading subrun 6 for index 1200\n",
      "Loading subrun 7 for index 1400\n",
      "Loading subrun 8 for index 1600\n",
      "Loading subrun 9 for index 1800\n",
      "Loading subrun 10 for index 2000\n",
      "Loading subrun 11 for index 2200\n",
      "Loading subrun 12 for index 2400\n",
      "Loading subrun 13 for index 2600\n",
      "Loading subrun 14 for index 2800\n",
      "Loading subrun 15 for index 3000\n",
      "Loading subrun 16 for index 3200\n",
      "Loading subrun 17 for index 3400\n",
      "Loading subrun 18 for index 3600\n",
      "3800/3800 - 634s - loss: 1.2408 - accuracy: 0.5391 - val_loss: 1.0935 - val_accuracy: 0.5574\n",
      "Epoch 3/3\n",
      "Loading subrun 0 for index 0\n",
      "Loading subrun 1 for index 200\n",
      "Loading subrun 2 for index 400\n",
      "Loading subrun 3 for index 600\n",
      "Loading subrun 4 for index 800\n",
      "Loading subrun 5 for index 1000\n",
      "Loading subrun 6 for index 1200\n",
      "Loading subrun 7 for index 1400\n",
      "Loading subrun 8 for index 1600\n",
      "Loading subrun 9 for index 1800\n",
      "Loading subrun 10 for index 2000\n",
      "Loading subrun 11 for index 2200\n",
      "Loading subrun 12 for index 2400\n",
      "Loading subrun 13 for index 2600\n",
      "Loading subrun 14 for index 2800\n",
      "Loading subrun 15 for index 3000\n",
      "Loading subrun 16 for index 3200\n",
      "Loading subrun 17 for index 3400\n",
      "Loading subrun 18 for index 3600\n",
      "3800/3800 - 608s - loss: 1.0158 - accuracy: 0.5754 - val_loss: 0.9656 - val_accuracy: 0.5893\n"
     ]
    },
    {
     "data": {
      "text/html": [
       "<span style=\"color:#4527A0\"><h1 style=\"font-size:18px\">Trial complete</h1></span>"
      ],
      "text/plain": [
       "<IPython.core.display.HTML object>"
      ]
     },
     "metadata": {},
     "output_type": "display_data"
    },
    {
     "data": {
      "text/html": [
       "<span style=\"color:#4527A0\"><h1 style=\"font-size:18px\">Trial summary</h1></span>"
      ],
      "text/plain": [
       "<IPython.core.display.HTML object>"
      ]
     },
     "metadata": {},
     "output_type": "display_data"
    },
    {
     "data": {
      "text/html": [
       "<span style=\"color:cyan\"> |-Trial ID: cbdd3221d6e2bc5efe4b786f5c1c79f9</span>"
      ],
      "text/plain": [
       "<IPython.core.display.HTML object>"
      ]
     },
     "metadata": {},
     "output_type": "display_data"
    },
    {
     "data": {
      "text/html": [
       "<span style=\"color:cyan\"> |-Score: 0.5892999768257141</span>"
      ],
      "text/plain": [
       "<IPython.core.display.HTML object>"
      ]
     },
     "metadata": {},
     "output_type": "display_data"
    },
    {
     "data": {
      "text/html": [
       "<span style=\"color:cyan\"> |-Best step: 0</span>"
      ],
      "text/plain": [
       "<IPython.core.display.HTML object>"
      ]
     },
     "metadata": {},
     "output_type": "display_data"
    },
    {
     "data": {
      "text/html": [
       "<span style=\"color:#7E57C2\"><h2 style=\"font-size:16px\">Hyperparameters:</h2></span>"
      ],
      "text/plain": [
       "<IPython.core.display.HTML object>"
      ]
     },
     "metadata": {},
     "output_type": "display_data"
    },
    {
     "data": {
      "text/html": [
       "<span style=\"color:cyan\"> |-optimizer: SGD</span>"
      ],
      "text/plain": [
       "<IPython.core.display.HTML object>"
      ]
     },
     "metadata": {},
     "output_type": "display_data"
    },
    {
     "data": {
      "text/html": [
       "<span style=\"color:blue\"> |-relu1nodes: 10000</span>"
      ],
      "text/plain": [
       "<IPython.core.display.HTML object>"
      ]
     },
     "metadata": {},
     "output_type": "display_data"
    },
    {
     "data": {
      "text/html": [
       "<span style=\"color:cyan\"> |-relu2nodes: 500</span>"
      ],
      "text/plain": [
       "<IPython.core.display.HTML object>"
      ]
     },
     "metadata": {},
     "output_type": "display_data"
    },
    {
     "name": "stdout",
     "output_type": "stream",
     "text": [
      "Loading subrun 0 for index 0\n",
      "WARNING:tensorflow:sample_weight modes were coerced from\n",
      "  ...\n",
      "    to  \n",
      "  ['...']\n",
      "Train for 3800 steps, validate for 200 steps\n",
      "Epoch 1/3\n",
      "Loading subrun 1 for index 200\n",
      "Loading subrun 2 for index 400\n",
      "Loading subrun 3 for index 600\n",
      "Loading subrun 4 for index 800\n",
      "Loading subrun 5 for index 1000\n",
      "Loading subrun 6 for index 1200\n",
      "Loading subrun 7 for index 1400\n",
      "Loading subrun 8 for index 1600\n",
      "Loading subrun 9 for index 1800\n",
      "Loading subrun 10 for index 2000\n",
      "Loading subrun 11 for index 2200\n",
      "Loading subrun 12 for index 2400\n",
      "Loading subrun 13 for index 2600\n",
      "Loading subrun 14 for index 2800\n",
      "Loading subrun 15 for index 3000\n",
      "Loading subrun 16 for index 3200\n",
      "Loading subrun 17 for index 3400\n",
      "Loading subrun 18 for index 3600\n",
      "3800/3800 - 441s - loss: 0.7621 - accuracy: 0.6519 - val_loss: 0.7118 - val_accuracy: 0.6786\n",
      "Epoch 2/3\n",
      "Loading subrun 0 for index 0\n",
      "Loading subrun 1 for index 200\n",
      "Loading subrun 2 for index 400\n",
      "Loading subrun 3 for index 600\n",
      "Loading subrun 4 for index 800\n",
      "Loading subrun 5 for index 1000\n",
      "Loading subrun 6 for index 1200\n",
      "Loading subrun 7 for index 1400\n",
      "Loading subrun 8 for index 1600\n",
      "Loading subrun 9 for index 1800\n",
      "Loading subrun 10 for index 2000\n",
      "Loading subrun 11 for index 2200\n",
      "Loading subrun 12 for index 2400\n",
      "Loading subrun 13 for index 2600\n",
      "Loading subrun 14 for index 2800\n",
      "Loading subrun 15 for index 3000\n",
      "Loading subrun 16 for index 3200\n",
      "Loading subrun 17 for index 3400\n",
      "Loading subrun 18 for index 3600\n",
      "3800/3800 - 464s - loss: 0.6758 - accuracy: 0.6958 - val_loss: 0.7077 - val_accuracy: 0.6825\n",
      "Epoch 3/3\n",
      "Loading subrun 0 for index 0\n",
      "Loading subrun 1 for index 200\n",
      "Loading subrun 2 for index 400\n",
      "Loading subrun 3 for index 600\n",
      "Loading subrun 4 for index 800\n",
      "Loading subrun 5 for index 1000\n",
      "Loading subrun 6 for index 1200\n",
      "Loading subrun 7 for index 1400\n",
      "Loading subrun 8 for index 1600\n",
      "Loading subrun 9 for index 1800\n",
      "Loading subrun 10 for index 2000\n",
      "Loading subrun 11 for index 2200\n",
      "Loading subrun 12 for index 2400\n",
      "Loading subrun 13 for index 2600\n",
      "Loading subrun 14 for index 2800\n",
      "Loading subrun 15 for index 3000\n",
      "Loading subrun 16 for index 3200\n",
      "Loading subrun 17 for index 3400\n",
      "Loading subrun 18 for index 3600\n",
      "3800/3800 - 456s - loss: 0.5924 - accuracy: 0.7412 - val_loss: 0.7798 - val_accuracy: 0.6733\n"
     ]
    },
    {
     "data": {
      "text/html": [
       "<span style=\"color:#4527A0\"><h1 style=\"font-size:18px\">Trial complete</h1></span>"
      ],
      "text/plain": [
       "<IPython.core.display.HTML object>"
      ]
     },
     "metadata": {},
     "output_type": "display_data"
    },
    {
     "data": {
      "text/html": [
       "<span style=\"color:#4527A0\"><h1 style=\"font-size:18px\">Trial summary</h1></span>"
      ],
      "text/plain": [
       "<IPython.core.display.HTML object>"
      ]
     },
     "metadata": {},
     "output_type": "display_data"
    },
    {
     "data": {
      "text/html": [
       "<span style=\"color:cyan\"> |-Trial ID: d9c838235a060f9c0ff4eabe3f242f16</span>"
      ],
      "text/plain": [
       "<IPython.core.display.HTML object>"
      ]
     },
     "metadata": {},
     "output_type": "display_data"
    },
    {
     "data": {
      "text/html": [
       "<span style=\"color:cyan\"> |-Score: 0.6824749708175659</span>"
      ],
      "text/plain": [
       "<IPython.core.display.HTML object>"
      ]
     },
     "metadata": {},
     "output_type": "display_data"
    },
    {
     "data": {
      "text/html": [
       "<span style=\"color:cyan\"> |-Best step: 0</span>"
      ],
      "text/plain": [
       "<IPython.core.display.HTML object>"
      ]
     },
     "metadata": {},
     "output_type": "display_data"
    },
    {
     "data": {
      "text/html": [
       "<span style=\"color:#7E57C2\"><h2 style=\"font-size:16px\">Hyperparameters:</h2></span>"
      ],
      "text/plain": [
       "<IPython.core.display.HTML object>"
      ]
     },
     "metadata": {},
     "output_type": "display_data"
    },
    {
     "data": {
      "text/html": [
       "<span style=\"color:cyan\"> |-optimizer: adam</span>"
      ],
      "text/plain": [
       "<IPython.core.display.HTML object>"
      ]
     },
     "metadata": {},
     "output_type": "display_data"
    },
    {
     "data": {
      "text/html": [
       "<span style=\"color:blue\"> |-relu1nodes: 1000</span>"
      ],
      "text/plain": [
       "<IPython.core.display.HTML object>"
      ]
     },
     "metadata": {},
     "output_type": "display_data"
    },
    {
     "data": {
      "text/html": [
       "<span style=\"color:cyan\"> |-relu2nodes: 1500</span>"
      ],
      "text/plain": [
       "<IPython.core.display.HTML object>"
      ]
     },
     "metadata": {},
     "output_type": "display_data"
    },
    {
     "name": "stdout",
     "output_type": "stream",
     "text": [
      "Loading subrun 0 for index 0\n",
      "WARNING:tensorflow:sample_weight modes were coerced from\n",
      "  ...\n",
      "    to  \n",
      "  ['...']\n",
      "Train for 3800 steps, validate for 200 steps\n",
      "Epoch 1/3\n",
      "Loading subrun 1 for index 200\n",
      "Loading subrun 2 for index 400\n",
      "Loading subrun 3 for index 600\n",
      "Loading subrun 4 for index 800\n",
      "Loading subrun 5 for index 1000\n",
      "Loading subrun 6 for index 1200\n",
      "Loading subrun 7 for index 1400\n",
      "Loading subrun 8 for index 1600\n",
      "Loading subrun 9 for index 1800\n",
      "Loading subrun 10 for index 2000\n",
      "Loading subrun 11 for index 2200\n",
      "Loading subrun 12 for index 2400\n",
      "Loading subrun 13 for index 2600\n",
      "Loading subrun 14 for index 2800\n",
      "Loading subrun 15 for index 3000\n",
      "Loading subrun 16 for index 3200\n",
      "Loading subrun 17 for index 3400\n",
      "Loading subrun 18 for index 3600\n",
      "3800/3800 - 722s - loss: 0.7467 - accuracy: 0.6597 - val_loss: 0.7083 - val_accuracy: 0.6802\n",
      "Epoch 2/3\n",
      "Loading subrun 0 for index 0\n",
      "Loading subrun 1 for index 200\n",
      "Loading subrun 2 for index 400\n",
      "Loading subrun 3 for index 600\n",
      "Loading subrun 4 for index 800\n",
      "Loading subrun 5 for index 1000\n",
      "Loading subrun 6 for index 1200\n",
      "Loading subrun 7 for index 1400\n",
      "Loading subrun 8 for index 1600\n",
      "Loading subrun 9 for index 1800\n",
      "Loading subrun 10 for index 2000\n",
      "Loading subrun 11 for index 2200\n",
      "Loading subrun 12 for index 2400\n",
      "Loading subrun 13 for index 2600\n",
      "Loading subrun 14 for index 2800\n",
      "Loading subrun 15 for index 3000\n",
      "Loading subrun 16 for index 3200\n",
      "Loading subrun 17 for index 3400\n",
      "Loading subrun 18 for index 3600\n",
      "3800/3800 - 741s - loss: 0.6424 - accuracy: 0.7154 - val_loss: 0.7233 - val_accuracy: 0.6811\n",
      "Epoch 3/3\n",
      "Loading subrun 0 for index 0\n",
      "Loading subrun 1 for index 200\n",
      "Loading subrun 2 for index 400\n",
      "Loading subrun 3 for index 600\n",
      "Loading subrun 4 for index 800\n",
      "Loading subrun 5 for index 1000\n",
      "Loading subrun 6 for index 1200\n",
      "Loading subrun 7 for index 1400\n",
      "Loading subrun 8 for index 1600\n",
      "Loading subrun 9 for index 1800\n",
      "Loading subrun 10 for index 2000\n",
      "Loading subrun 11 for index 2200\n",
      "Loading subrun 12 for index 2400\n",
      "Loading subrun 13 for index 2600\n",
      "Loading subrun 14 for index 2800\n",
      "Loading subrun 15 for index 3000\n",
      "Loading subrun 16 for index 3200\n",
      "Loading subrun 17 for index 3400\n",
      "Loading subrun 18 for index 3600\n",
      "3800/3800 - 705s - loss: 0.4688 - accuracy: 0.8059 - val_loss: 0.9823 - val_accuracy: 0.6632\n"
     ]
    },
    {
     "data": {
      "text/html": [
       "<span style=\"color:#4527A0\"><h1 style=\"font-size:18px\">Trial complete</h1></span>"
      ],
      "text/plain": [
       "<IPython.core.display.HTML object>"
      ]
     },
     "metadata": {},
     "output_type": "display_data"
    },
    {
     "data": {
      "text/html": [
       "<span style=\"color:#4527A0\"><h1 style=\"font-size:18px\">Trial summary</h1></span>"
      ],
      "text/plain": [
       "<IPython.core.display.HTML object>"
      ]
     },
     "metadata": {},
     "output_type": "display_data"
    },
    {
     "data": {
      "text/html": [
       "<span style=\"color:cyan\"> |-Trial ID: c798779c67352de06f48212c13a1af50</span>"
      ],
      "text/plain": [
       "<IPython.core.display.HTML object>"
      ]
     },
     "metadata": {},
     "output_type": "display_data"
    },
    {
     "data": {
      "text/html": [
       "<span style=\"color:cyan\"> |-Score: 0.6811249852180481</span>"
      ],
      "text/plain": [
       "<IPython.core.display.HTML object>"
      ]
     },
     "metadata": {},
     "output_type": "display_data"
    },
    {
     "data": {
      "text/html": [
       "<span style=\"color:cyan\"> |-Best step: 0</span>"
      ],
      "text/plain": [
       "<IPython.core.display.HTML object>"
      ]
     },
     "metadata": {},
     "output_type": "display_data"
    },
    {
     "data": {
      "text/html": [
       "<span style=\"color:#7E57C2\"><h2 style=\"font-size:16px\">Hyperparameters:</h2></span>"
      ],
      "text/plain": [
       "<IPython.core.display.HTML object>"
      ]
     },
     "metadata": {},
     "output_type": "display_data"
    },
    {
     "data": {
      "text/html": [
       "<span style=\"color:cyan\"> |-optimizer: adam</span>"
      ],
      "text/plain": [
       "<IPython.core.display.HTML object>"
      ]
     },
     "metadata": {},
     "output_type": "display_data"
    },
    {
     "data": {
      "text/html": [
       "<span style=\"color:blue\"> |-relu1nodes: 7000</span>"
      ],
      "text/plain": [
       "<IPython.core.display.HTML object>"
      ]
     },
     "metadata": {},
     "output_type": "display_data"
    },
    {
     "data": {
      "text/html": [
       "<span style=\"color:cyan\"> |-relu2nodes: 1900</span>"
      ],
      "text/plain": [
       "<IPython.core.display.HTML object>"
      ]
     },
     "metadata": {},
     "output_type": "display_data"
    },
    {
     "name": "stdout",
     "output_type": "stream",
     "text": [
      "Loading subrun 0 for index 0\n",
      "WARNING:tensorflow:sample_weight modes were coerced from\n",
      "  ...\n",
      "    to  \n",
      "  ['...']\n",
      "Train for 3800 steps, validate for 200 steps\n",
      "Epoch 1/3\n",
      "Loading subrun 1 for index 200\n",
      "Loading subrun 2 for index 400\n",
      "Loading subrun 3 for index 600\n",
      "Loading subrun 4 for index 800\n",
      "Loading subrun 5 for index 1000\n",
      "Loading subrun 6 for index 1200\n",
      "Loading subrun 7 for index 1400\n",
      "Loading subrun 8 for index 1600\n",
      "Loading subrun 9 for index 1800\n",
      "Loading subrun 10 for index 2000\n",
      "Loading subrun 11 for index 2200\n",
      "Loading subrun 12 for index 2400\n",
      "Loading subrun 13 for index 2600\n",
      "Loading subrun 14 for index 2800\n",
      "Loading subrun 15 for index 3000\n",
      "Loading subrun 16 for index 3200\n",
      "Loading subrun 17 for index 3400\n",
      "Loading subrun 18 for index 3600\n",
      "3800/3800 - 607s - loss: 0.7491 - accuracy: 0.6585 - val_loss: 0.7048 - val_accuracy: 0.6816\n",
      "Epoch 2/3\n",
      "Loading subrun 0 for index 0\n",
      "Loading subrun 1 for index 200\n",
      "Loading subrun 2 for index 400\n",
      "Loading subrun 3 for index 600\n",
      "Loading subrun 4 for index 800\n",
      "Loading subrun 5 for index 1000\n",
      "Loading subrun 6 for index 1200\n",
      "Loading subrun 7 for index 1400\n",
      "Loading subrun 8 for index 1600\n",
      "Loading subrun 9 for index 1800\n",
      "Loading subrun 10 for index 2000\n",
      "Loading subrun 11 for index 2200\n",
      "Loading subrun 12 for index 2400\n",
      "Loading subrun 13 for index 2600\n",
      "Loading subrun 14 for index 2800\n",
      "Loading subrun 15 for index 3000\n",
      "Loading subrun 16 for index 3200\n",
      "Loading subrun 17 for index 3400\n",
      "Loading subrun 18 for index 3600\n",
      "3800/3800 - 646s - loss: 0.6494 - accuracy: 0.7102 - val_loss: 0.7316 - val_accuracy: 0.6805\n",
      "Epoch 3/3\n",
      "Loading subrun 0 for index 0\n",
      "Loading subrun 1 for index 200\n",
      "Loading subrun 2 for index 400\n",
      "Loading subrun 3 for index 600\n",
      "Loading subrun 4 for index 800\n",
      "Loading subrun 5 for index 1000\n",
      "Loading subrun 6 for index 1200\n",
      "Loading subrun 7 for index 1400\n",
      "Loading subrun 8 for index 1600\n",
      "Loading subrun 9 for index 1800\n",
      "Loading subrun 10 for index 2000\n",
      "Loading subrun 11 for index 2200\n",
      "Loading subrun 12 for index 2400\n",
      "Loading subrun 13 for index 2600\n",
      "Loading subrun 14 for index 2800\n",
      "Loading subrun 15 for index 3000\n",
      "Loading subrun 16 for index 3200\n",
      "Loading subrun 17 for index 3400\n",
      "Loading subrun 18 for index 3600\n",
      "3800/3800 - 569s - loss: 0.4998 - accuracy: 0.7905 - val_loss: 0.9358 - val_accuracy: 0.6670\n"
     ]
    },
    {
     "data": {
      "text/html": [
       "<span style=\"color:#4527A0\"><h1 style=\"font-size:18px\">Trial complete</h1></span>"
      ],
      "text/plain": [
       "<IPython.core.display.HTML object>"
      ]
     },
     "metadata": {},
     "output_type": "display_data"
    },
    {
     "data": {
      "text/html": [
       "<span style=\"color:#4527A0\"><h1 style=\"font-size:18px\">Trial summary</h1></span>"
      ],
      "text/plain": [
       "<IPython.core.display.HTML object>"
      ]
     },
     "metadata": {},
     "output_type": "display_data"
    },
    {
     "data": {
      "text/html": [
       "<span style=\"color:cyan\"> |-Trial ID: ac08d1f06bc606bbcc74be540ee5a580</span>"
      ],
      "text/plain": [
       "<IPython.core.display.HTML object>"
      ]
     },
     "metadata": {},
     "output_type": "display_data"
    },
    {
     "data": {
      "text/html": [
       "<span style=\"color:cyan\"> |-Score: 0.6816499829292297</span>"
      ],
      "text/plain": [
       "<IPython.core.display.HTML object>"
      ]
     },
     "metadata": {},
     "output_type": "display_data"
    },
    {
     "data": {
      "text/html": [
       "<span style=\"color:cyan\"> |-Best step: 0</span>"
      ],
      "text/plain": [
       "<IPython.core.display.HTML object>"
      ]
     },
     "metadata": {},
     "output_type": "display_data"
    },
    {
     "data": {
      "text/html": [
       "<span style=\"color:#7E57C2\"><h2 style=\"font-size:16px\">Hyperparameters:</h2></span>"
      ],
      "text/plain": [
       "<IPython.core.display.HTML object>"
      ]
     },
     "metadata": {},
     "output_type": "display_data"
    },
    {
     "data": {
      "text/html": [
       "<span style=\"color:cyan\"> |-optimizer: adam</span>"
      ],
      "text/plain": [
       "<IPython.core.display.HTML object>"
      ]
     },
     "metadata": {},
     "output_type": "display_data"
    },
    {
     "data": {
      "text/html": [
       "<span style=\"color:blue\"> |-relu1nodes: 4000</span>"
      ],
      "text/plain": [
       "<IPython.core.display.HTML object>"
      ]
     },
     "metadata": {},
     "output_type": "display_data"
    },
    {
     "data": {
      "text/html": [
       "<span style=\"color:cyan\"> |-relu2nodes: 2900</span>"
      ],
      "text/plain": [
       "<IPython.core.display.HTML object>"
      ]
     },
     "metadata": {},
     "output_type": "display_data"
    },
    {
     "name": "stdout",
     "output_type": "stream",
     "text": [
      "Loading subrun 0 for index 0\n"
     ]
    },
    {
     "ename": "KeyboardInterrupt",
     "evalue": "",
     "output_type": "error",
     "traceback": [
      "\u001b[1;31m---------------------------------------------------------------------------\u001b[0m",
      "\u001b[1;31mKeyboardInterrupt\u001b[0m                         Traceback (most recent call last)",
      "\u001b[1;32m<ipython-input-7-594cbef15521>\u001b[0m in \u001b[0;36m<module>\u001b[1;34m\u001b[0m\n\u001b[0;32m      1\u001b[0m tuner.search(\n\u001b[1;32m----> 2\u001b[1;33m     \u001b[0mgenerator\u001b[0m\u001b[1;33m,\u001b[0m \u001b[0mverbose\u001b[0m\u001b[1;33m=\u001b[0m\u001b[1;36m2\u001b[0m\u001b[1;33m,\u001b[0m \u001b[0mepochs\u001b[0m\u001b[1;33m=\u001b[0m\u001b[1;36m3\u001b[0m\u001b[1;33m,\u001b[0m \u001b[0mshuffle\u001b[0m\u001b[1;33m=\u001b[0m\u001b[1;32mFalse\u001b[0m\u001b[1;33m,\u001b[0m \u001b[0mvalidation_data\u001b[0m\u001b[1;33m=\u001b[0m\u001b[0mvalidation_generator\u001b[0m\u001b[1;33m\u001b[0m\u001b[1;33m\u001b[0m\u001b[0m\n\u001b[0m\u001b[0;32m      3\u001b[0m )\n",
      "\u001b[1;32m~\\anaconda3\\envs\\neuland\\lib\\site-packages\\kerastuner\\engine\\base_tuner.py\u001b[0m in \u001b[0;36msearch\u001b[1;34m(self, *fit_args, **fit_kwargs)\u001b[0m\n\u001b[0;32m    128\u001b[0m \u001b[1;33m\u001b[0m\u001b[0m\n\u001b[0;32m    129\u001b[0m             \u001b[0mself\u001b[0m\u001b[1;33m.\u001b[0m\u001b[0mon_trial_begin\u001b[0m\u001b[1;33m(\u001b[0m\u001b[0mtrial\u001b[0m\u001b[1;33m)\u001b[0m\u001b[1;33m\u001b[0m\u001b[1;33m\u001b[0m\u001b[0m\n\u001b[1;32m--> 130\u001b[1;33m             \u001b[0mself\u001b[0m\u001b[1;33m.\u001b[0m\u001b[0mrun_trial\u001b[0m\u001b[1;33m(\u001b[0m\u001b[0mtrial\u001b[0m\u001b[1;33m,\u001b[0m \u001b[1;33m*\u001b[0m\u001b[0mfit_args\u001b[0m\u001b[1;33m,\u001b[0m \u001b[1;33m**\u001b[0m\u001b[0mfit_kwargs\u001b[0m\u001b[1;33m)\u001b[0m\u001b[1;33m\u001b[0m\u001b[1;33m\u001b[0m\u001b[0m\n\u001b[0m\u001b[0;32m    131\u001b[0m             \u001b[0mself\u001b[0m\u001b[1;33m.\u001b[0m\u001b[0mon_trial_end\u001b[0m\u001b[1;33m(\u001b[0m\u001b[0mtrial\u001b[0m\u001b[1;33m)\u001b[0m\u001b[1;33m\u001b[0m\u001b[1;33m\u001b[0m\u001b[0m\n\u001b[0;32m    132\u001b[0m         \u001b[0mself\u001b[0m\u001b[1;33m.\u001b[0m\u001b[0mon_search_end\u001b[0m\u001b[1;33m(\u001b[0m\u001b[1;33m)\u001b[0m\u001b[1;33m\u001b[0m\u001b[1;33m\u001b[0m\u001b[0m\n",
      "\u001b[1;32m~\\anaconda3\\envs\\neuland\\lib\\site-packages\\kerastuner\\engine\\multi_execution_tuner.py\u001b[0m in \u001b[0;36mrun_trial\u001b[1;34m(self, trial, *fit_args, **fit_kwargs)\u001b[0m\n\u001b[0;32m     94\u001b[0m \u001b[1;33m\u001b[0m\u001b[0m\n\u001b[0;32m     95\u001b[0m             \u001b[0mmodel\u001b[0m \u001b[1;33m=\u001b[0m \u001b[0mself\u001b[0m\u001b[1;33m.\u001b[0m\u001b[0mhypermodel\u001b[0m\u001b[1;33m.\u001b[0m\u001b[0mbuild\u001b[0m\u001b[1;33m(\u001b[0m\u001b[0mtrial\u001b[0m\u001b[1;33m.\u001b[0m\u001b[0mhyperparameters\u001b[0m\u001b[1;33m)\u001b[0m\u001b[1;33m\u001b[0m\u001b[1;33m\u001b[0m\u001b[0m\n\u001b[1;32m---> 96\u001b[1;33m             \u001b[0mhistory\u001b[0m \u001b[1;33m=\u001b[0m \u001b[0mmodel\u001b[0m\u001b[1;33m.\u001b[0m\u001b[0mfit\u001b[0m\u001b[1;33m(\u001b[0m\u001b[1;33m*\u001b[0m\u001b[0mfit_args\u001b[0m\u001b[1;33m,\u001b[0m \u001b[1;33m**\u001b[0m\u001b[0mcopied_fit_kwargs\u001b[0m\u001b[1;33m)\u001b[0m\u001b[1;33m\u001b[0m\u001b[1;33m\u001b[0m\u001b[0m\n\u001b[0m\u001b[0;32m     97\u001b[0m             \u001b[1;32mfor\u001b[0m \u001b[0mmetric\u001b[0m\u001b[1;33m,\u001b[0m \u001b[0mepoch_values\u001b[0m \u001b[1;32min\u001b[0m \u001b[0mhistory\u001b[0m\u001b[1;33m.\u001b[0m\u001b[0mhistory\u001b[0m\u001b[1;33m.\u001b[0m\u001b[0mitems\u001b[0m\u001b[1;33m(\u001b[0m\u001b[1;33m)\u001b[0m\u001b[1;33m:\u001b[0m\u001b[1;33m\u001b[0m\u001b[1;33m\u001b[0m\u001b[0m\n\u001b[0;32m     98\u001b[0m                 \u001b[1;32mif\u001b[0m \u001b[0mself\u001b[0m\u001b[1;33m.\u001b[0m\u001b[0moracle\u001b[0m\u001b[1;33m.\u001b[0m\u001b[0mobjective\u001b[0m\u001b[1;33m.\u001b[0m\u001b[0mdirection\u001b[0m \u001b[1;33m==\u001b[0m \u001b[1;34m'min'\u001b[0m\u001b[1;33m:\u001b[0m\u001b[1;33m\u001b[0m\u001b[1;33m\u001b[0m\u001b[0m\n",
      "\u001b[1;32m~\\anaconda3\\envs\\neuland\\lib\\site-packages\\tensorflow_core\\python\\keras\\engine\\training.py\u001b[0m in \u001b[0;36mfit\u001b[1;34m(self, x, y, batch_size, epochs, verbose, callbacks, validation_split, validation_data, shuffle, class_weight, sample_weight, initial_epoch, steps_per_epoch, validation_steps, validation_freq, max_queue_size, workers, use_multiprocessing, **kwargs)\u001b[0m\n\u001b[0;32m    817\u001b[0m         \u001b[0mmax_queue_size\u001b[0m\u001b[1;33m=\u001b[0m\u001b[0mmax_queue_size\u001b[0m\u001b[1;33m,\u001b[0m\u001b[1;33m\u001b[0m\u001b[1;33m\u001b[0m\u001b[0m\n\u001b[0;32m    818\u001b[0m         \u001b[0mworkers\u001b[0m\u001b[1;33m=\u001b[0m\u001b[0mworkers\u001b[0m\u001b[1;33m,\u001b[0m\u001b[1;33m\u001b[0m\u001b[1;33m\u001b[0m\u001b[0m\n\u001b[1;32m--> 819\u001b[1;33m         use_multiprocessing=use_multiprocessing)\n\u001b[0m\u001b[0;32m    820\u001b[0m \u001b[1;33m\u001b[0m\u001b[0m\n\u001b[0;32m    821\u001b[0m   def evaluate(self,\n",
      "\u001b[1;32m~\\anaconda3\\envs\\neuland\\lib\\site-packages\\tensorflow_core\\python\\keras\\engine\\training_v2.py\u001b[0m in \u001b[0;36mfit\u001b[1;34m(self, model, x, y, batch_size, epochs, verbose, callbacks, validation_split, validation_data, shuffle, class_weight, sample_weight, initial_epoch, steps_per_epoch, validation_steps, validation_freq, max_queue_size, workers, use_multiprocessing, **kwargs)\u001b[0m\n\u001b[0;32m    233\u001b[0m           \u001b[0mmax_queue_size\u001b[0m\u001b[1;33m=\u001b[0m\u001b[0mmax_queue_size\u001b[0m\u001b[1;33m,\u001b[0m\u001b[1;33m\u001b[0m\u001b[1;33m\u001b[0m\u001b[0m\n\u001b[0;32m    234\u001b[0m           \u001b[0mworkers\u001b[0m\u001b[1;33m=\u001b[0m\u001b[0mworkers\u001b[0m\u001b[1;33m,\u001b[0m\u001b[1;33m\u001b[0m\u001b[1;33m\u001b[0m\u001b[0m\n\u001b[1;32m--> 235\u001b[1;33m           use_multiprocessing=use_multiprocessing)\n\u001b[0m\u001b[0;32m    236\u001b[0m \u001b[1;33m\u001b[0m\u001b[0m\n\u001b[0;32m    237\u001b[0m       \u001b[0mtotal_samples\u001b[0m \u001b[1;33m=\u001b[0m \u001b[0m_get_total_number_of_samples\u001b[0m\u001b[1;33m(\u001b[0m\u001b[0mtraining_data_adapter\u001b[0m\u001b[1;33m)\u001b[0m\u001b[1;33m\u001b[0m\u001b[1;33m\u001b[0m\u001b[0m\n",
      "\u001b[1;32m~\\anaconda3\\envs\\neuland\\lib\\site-packages\\tensorflow_core\\python\\keras\\engine\\training_v2.py\u001b[0m in \u001b[0;36m_process_training_inputs\u001b[1;34m(model, x, y, batch_size, epochs, sample_weights, class_weights, steps_per_epoch, validation_split, validation_data, validation_steps, shuffle, distribution_strategy, max_queue_size, workers, use_multiprocessing)\u001b[0m\n\u001b[0;32m    591\u001b[0m         \u001b[0mmax_queue_size\u001b[0m\u001b[1;33m=\u001b[0m\u001b[0mmax_queue_size\u001b[0m\u001b[1;33m,\u001b[0m\u001b[1;33m\u001b[0m\u001b[1;33m\u001b[0m\u001b[0m\n\u001b[0;32m    592\u001b[0m         \u001b[0mworkers\u001b[0m\u001b[1;33m=\u001b[0m\u001b[0mworkers\u001b[0m\u001b[1;33m,\u001b[0m\u001b[1;33m\u001b[0m\u001b[1;33m\u001b[0m\u001b[0m\n\u001b[1;32m--> 593\u001b[1;33m         use_multiprocessing=use_multiprocessing)\n\u001b[0m\u001b[0;32m    594\u001b[0m     \u001b[0mval_adapter\u001b[0m \u001b[1;33m=\u001b[0m \u001b[1;32mNone\u001b[0m\u001b[1;33m\u001b[0m\u001b[1;33m\u001b[0m\u001b[0m\n\u001b[0;32m    595\u001b[0m     \u001b[1;32mif\u001b[0m \u001b[0mvalidation_data\u001b[0m\u001b[1;33m:\u001b[0m\u001b[1;33m\u001b[0m\u001b[1;33m\u001b[0m\u001b[0m\n",
      "\u001b[1;32m~\\anaconda3\\envs\\neuland\\lib\\site-packages\\tensorflow_core\\python\\keras\\engine\\training_v2.py\u001b[0m in \u001b[0;36m_process_inputs\u001b[1;34m(model, mode, x, y, batch_size, epochs, sample_weights, class_weights, shuffle, steps, distribution_strategy, max_queue_size, workers, use_multiprocessing)\u001b[0m\n\u001b[0;32m    704\u001b[0m       \u001b[0mmax_queue_size\u001b[0m\u001b[1;33m=\u001b[0m\u001b[0mmax_queue_size\u001b[0m\u001b[1;33m,\u001b[0m\u001b[1;33m\u001b[0m\u001b[1;33m\u001b[0m\u001b[0m\n\u001b[0;32m    705\u001b[0m       \u001b[0mworkers\u001b[0m\u001b[1;33m=\u001b[0m\u001b[0mworkers\u001b[0m\u001b[1;33m,\u001b[0m\u001b[1;33m\u001b[0m\u001b[1;33m\u001b[0m\u001b[0m\n\u001b[1;32m--> 706\u001b[1;33m       use_multiprocessing=use_multiprocessing)\n\u001b[0m\u001b[0;32m    707\u001b[0m \u001b[1;33m\u001b[0m\u001b[0m\n\u001b[0;32m    708\u001b[0m   \u001b[1;32mreturn\u001b[0m \u001b[0madapter\u001b[0m\u001b[1;33m\u001b[0m\u001b[1;33m\u001b[0m\u001b[0m\n",
      "\u001b[1;32m~\\anaconda3\\envs\\neuland\\lib\\site-packages\\tensorflow_core\\python\\keras\\engine\\data_adapter.py\u001b[0m in \u001b[0;36m__init__\u001b[1;34m(self, x, y, sample_weights, standardize_function, shuffle, workers, use_multiprocessing, max_queue_size, **kwargs)\u001b[0m\n\u001b[0;32m    950\u001b[0m         \u001b[0muse_multiprocessing\u001b[0m\u001b[1;33m=\u001b[0m\u001b[0muse_multiprocessing\u001b[0m\u001b[1;33m,\u001b[0m\u001b[1;33m\u001b[0m\u001b[1;33m\u001b[0m\u001b[0m\n\u001b[0;32m    951\u001b[0m         \u001b[0mmax_queue_size\u001b[0m\u001b[1;33m=\u001b[0m\u001b[0mmax_queue_size\u001b[0m\u001b[1;33m,\u001b[0m\u001b[1;33m\u001b[0m\u001b[1;33m\u001b[0m\u001b[0m\n\u001b[1;32m--> 952\u001b[1;33m         **kwargs)\n\u001b[0m\u001b[0;32m    953\u001b[0m \u001b[1;33m\u001b[0m\u001b[0m\n\u001b[0;32m    954\u001b[0m   \u001b[1;33m@\u001b[0m\u001b[0mstaticmethod\u001b[0m\u001b[1;33m\u001b[0m\u001b[1;33m\u001b[0m\u001b[0m\n",
      "\u001b[1;32m~\\anaconda3\\envs\\neuland\\lib\\site-packages\\tensorflow_core\\python\\keras\\engine\\data_adapter.py\u001b[0m in \u001b[0;36m__init__\u001b[1;34m(self, x, y, sample_weights, standardize_function, workers, use_multiprocessing, max_queue_size, **kwargs)\u001b[0m\n\u001b[0;32m    745\u001b[0m     \u001b[1;31m# Since we have to know the dtype of the python generator when we build the\u001b[0m\u001b[1;33m\u001b[0m\u001b[1;33m\u001b[0m\u001b[1;33m\u001b[0m\u001b[0m\n\u001b[0;32m    746\u001b[0m     \u001b[1;31m# dataset, we have to look at a batch to infer the structure.\u001b[0m\u001b[1;33m\u001b[0m\u001b[1;33m\u001b[0m\u001b[1;33m\u001b[0m\u001b[0m\n\u001b[1;32m--> 747\u001b[1;33m     \u001b[0mpeek\u001b[0m\u001b[1;33m,\u001b[0m \u001b[0mx\u001b[0m \u001b[1;33m=\u001b[0m \u001b[0mself\u001b[0m\u001b[1;33m.\u001b[0m\u001b[0m_peek_and_restore\u001b[0m\u001b[1;33m(\u001b[0m\u001b[0mx\u001b[0m\u001b[1;33m)\u001b[0m\u001b[1;33m\u001b[0m\u001b[1;33m\u001b[0m\u001b[0m\n\u001b[0m\u001b[0;32m    748\u001b[0m     \u001b[0massert_not_namedtuple\u001b[0m\u001b[1;33m(\u001b[0m\u001b[0mpeek\u001b[0m\u001b[1;33m)\u001b[0m\u001b[1;33m\u001b[0m\u001b[1;33m\u001b[0m\u001b[0m\n\u001b[0;32m    749\u001b[0m \u001b[1;33m\u001b[0m\u001b[0m\n",
      "\u001b[1;32m~\\anaconda3\\envs\\neuland\\lib\\site-packages\\tensorflow_core\\python\\keras\\engine\\data_adapter.py\u001b[0m in \u001b[0;36m_peek_and_restore\u001b[1;34m(x)\u001b[0m\n\u001b[0;32m    954\u001b[0m   \u001b[1;33m@\u001b[0m\u001b[0mstaticmethod\u001b[0m\u001b[1;33m\u001b[0m\u001b[1;33m\u001b[0m\u001b[0m\n\u001b[0;32m    955\u001b[0m   \u001b[1;32mdef\u001b[0m \u001b[0m_peek_and_restore\u001b[0m\u001b[1;33m(\u001b[0m\u001b[0mx\u001b[0m\u001b[1;33m)\u001b[0m\u001b[1;33m:\u001b[0m\u001b[1;33m\u001b[0m\u001b[1;33m\u001b[0m\u001b[0m\n\u001b[1;32m--> 956\u001b[1;33m     \u001b[1;32mreturn\u001b[0m \u001b[0mx\u001b[0m\u001b[1;33m[\u001b[0m\u001b[1;36m0\u001b[0m\u001b[1;33m]\u001b[0m\u001b[1;33m,\u001b[0m \u001b[0mx\u001b[0m\u001b[1;33m\u001b[0m\u001b[1;33m\u001b[0m\u001b[0m\n\u001b[0m\u001b[0;32m    957\u001b[0m \u001b[1;33m\u001b[0m\u001b[0m\n\u001b[0;32m    958\u001b[0m   \u001b[1;32mdef\u001b[0m \u001b[0m_make_callable\u001b[0m\u001b[1;33m(\u001b[0m\u001b[0mself\u001b[0m\u001b[1;33m,\u001b[0m \u001b[0mx\u001b[0m\u001b[1;33m,\u001b[0m \u001b[0mworkers\u001b[0m\u001b[1;33m,\u001b[0m \u001b[0muse_multiprocessing\u001b[0m\u001b[1;33m,\u001b[0m \u001b[0mmax_queue_size\u001b[0m\u001b[1;33m)\u001b[0m\u001b[1;33m:\u001b[0m\u001b[1;33m\u001b[0m\u001b[1;33m\u001b[0m\u001b[0m\n",
      "\u001b[1;32m<ipython-input-3-b8c2ffeefe3f>\u001b[0m in \u001b[0;36m__getitem__\u001b[1;34m(self, index)\u001b[0m\n\u001b[0;32m     34\u001b[0m         \u001b[1;32mif\u001b[0m\u001b[1;33m(\u001b[0m\u001b[0msubrun\u001b[0m \u001b[1;33m!=\u001b[0m \u001b[0mself\u001b[0m\u001b[1;33m.\u001b[0m\u001b[0mcurrent_subrun\u001b[0m\u001b[1;33m)\u001b[0m\u001b[1;33m:\u001b[0m\u001b[1;33m\u001b[0m\u001b[1;33m\u001b[0m\u001b[0m\n\u001b[0;32m     35\u001b[0m             \u001b[0mprint\u001b[0m\u001b[1;33m(\u001b[0m\u001b[1;34mf\"Loading subrun {subrun} for index {index}\"\u001b[0m\u001b[1;33m)\u001b[0m\u001b[1;33m\u001b[0m\u001b[1;33m\u001b[0m\u001b[0m\n\u001b[1;32m---> 36\u001b[1;33m             \u001b[0mself\u001b[0m\u001b[1;33m.\u001b[0m\u001b[0mload\u001b[0m\u001b[1;33m(\u001b[0m\u001b[0msubrun\u001b[0m\u001b[1;33m)\u001b[0m\u001b[1;33m\u001b[0m\u001b[1;33m\u001b[0m\u001b[0m\n\u001b[0m\u001b[0;32m     37\u001b[0m \u001b[1;33m\u001b[0m\u001b[0m\n\u001b[0;32m     38\u001b[0m         \u001b[0mx\u001b[0m \u001b[1;33m=\u001b[0m \u001b[0mself\u001b[0m\u001b[1;33m.\u001b[0m\u001b[0mfeatures\u001b[0m\u001b[1;33m[\u001b[0m\u001b[0mi\u001b[0m\u001b[1;33m*\u001b[0m\u001b[0mself\u001b[0m\u001b[1;33m.\u001b[0m\u001b[0mbatch_size\u001b[0m\u001b[1;33m:\u001b[0m\u001b[1;33m(\u001b[0m\u001b[0mi\u001b[0m\u001b[1;33m+\u001b[0m\u001b[1;36m1\u001b[0m\u001b[1;33m)\u001b[0m\u001b[1;33m*\u001b[0m\u001b[0mself\u001b[0m\u001b[1;33m.\u001b[0m\u001b[0mbatch_size\u001b[0m\u001b[1;33m]\u001b[0m\u001b[1;33m\u001b[0m\u001b[1;33m\u001b[0m\u001b[0m\n",
      "\u001b[1;32m<ipython-input-3-b8c2ffeefe3f>\u001b[0m in \u001b[0;36mload\u001b[1;34m(self, subrun)\u001b[0m\n\u001b[0;32m     42\u001b[0m     \u001b[1;32mdef\u001b[0m \u001b[0mload\u001b[0m\u001b[1;33m(\u001b[0m\u001b[0mself\u001b[0m\u001b[1;33m,\u001b[0m \u001b[0msubrun\u001b[0m\u001b[1;33m)\u001b[0m\u001b[1;33m:\u001b[0m\u001b[1;33m\u001b[0m\u001b[1;33m\u001b[0m\u001b[0m\n\u001b[0;32m     43\u001b[0m         \u001b[0mfiles\u001b[0m \u001b[1;33m=\u001b[0m \u001b[1;33m[\u001b[0m\u001b[0mfilename_for\u001b[0m\u001b[1;33m(\u001b[0m\u001b[0mself\u001b[0m\u001b[1;33m.\u001b[0m\u001b[0mc\u001b[0m\u001b[1;33m[\u001b[0m\u001b[1;34m\"distance\"\u001b[0m\u001b[1;33m]\u001b[0m\u001b[1;33m,\u001b[0m \u001b[0mself\u001b[0m\u001b[1;33m.\u001b[0m\u001b[0mc\u001b[0m\u001b[1;33m[\u001b[0m\u001b[1;34m\"doubleplane\"\u001b[0m\u001b[1;33m]\u001b[0m\u001b[1;33m,\u001b[0m \u001b[0mself\u001b[0m\u001b[1;33m.\u001b[0m\u001b[0mc\u001b[0m\u001b[1;33m[\u001b[0m\u001b[1;34m\"energy\"\u001b[0m\u001b[1;33m]\u001b[0m\u001b[1;33m,\u001b[0m \u001b[0mself\u001b[0m\u001b[1;33m.\u001b[0m\u001b[0mc\u001b[0m\u001b[1;33m[\u001b[0m\u001b[1;34m\"erel\"\u001b[0m\u001b[1;33m]\u001b[0m\u001b[1;33m,\u001b[0m \u001b[0mn\u001b[0m\u001b[1;33m,\u001b[0m \u001b[1;34m\"inclxx\"\u001b[0m\u001b[1;33m,\u001b[0m \u001b[0msubrun\u001b[0m\u001b[1;33m,\u001b[0m \u001b[1;34m\"bars.parquet\"\u001b[0m\u001b[1;33m)\u001b[0m \u001b[1;32mfor\u001b[0m \u001b[0mn\u001b[0m \u001b[1;32min\u001b[0m \u001b[0mself\u001b[0m\u001b[1;33m.\u001b[0m\u001b[0mc\u001b[0m\u001b[1;33m[\u001b[0m\u001b[1;34m\"neutrons\"\u001b[0m\u001b[1;33m]\u001b[0m\u001b[1;33m]\u001b[0m\u001b[1;33m\u001b[0m\u001b[1;33m\u001b[0m\u001b[0m\n\u001b[1;32m---> 44\u001b[1;33m         \u001b[0mdata\u001b[0m \u001b[1;33m=\u001b[0m \u001b[0mpd\u001b[0m\u001b[1;33m.\u001b[0m\u001b[0mconcat\u001b[0m\u001b[1;33m(\u001b[0m\u001b[1;33m[\u001b[0m\u001b[0mpd\u001b[0m\u001b[1;33m.\u001b[0m\u001b[0mread_parquet\u001b[0m\u001b[1;33m(\u001b[0m\u001b[0mfile\u001b[0m\u001b[1;33m)\u001b[0m \u001b[1;32mfor\u001b[0m \u001b[0mfile\u001b[0m \u001b[1;32min\u001b[0m \u001b[0mfiles\u001b[0m\u001b[1;33m]\u001b[0m\u001b[1;33m,\u001b[0m \u001b[0mignore_index\u001b[0m\u001b[1;33m=\u001b[0m\u001b[1;32mTrue\u001b[0m\u001b[1;33m)\u001b[0m\u001b[1;33m.\u001b[0m\u001b[0msample\u001b[0m\u001b[1;33m(\u001b[0m\u001b[0mfrac\u001b[0m\u001b[1;33m=\u001b[0m\u001b[1;36m1\u001b[0m\u001b[1;33m)\u001b[0m\u001b[1;33m\u001b[0m\u001b[1;33m\u001b[0m\u001b[0m\n\u001b[0m\u001b[0;32m     45\u001b[0m         \u001b[0mdata\u001b[0m\u001b[1;33m.\u001b[0m\u001b[0mloc\u001b[0m\u001b[1;33m[\u001b[0m\u001b[0mdata\u001b[0m\u001b[1;33m[\u001b[0m\u001b[1;34m\"nHits\"\u001b[0m\u001b[1;33m]\u001b[0m \u001b[1;33m==\u001b[0m \u001b[1;36m0\u001b[0m\u001b[1;33m,\u001b[0m \u001b[0mself\u001b[0m\u001b[1;33m.\u001b[0m\u001b[0mc\u001b[0m\u001b[1;33m[\u001b[0m\u001b[1;34m\"label\"\u001b[0m\u001b[1;33m]\u001b[0m\u001b[1;33m]\u001b[0m \u001b[1;33m=\u001b[0m \u001b[1;36m0\u001b[0m\u001b[1;33m\u001b[0m\u001b[1;33m\u001b[0m\u001b[0m\n\u001b[0;32m     46\u001b[0m \u001b[1;33m\u001b[0m\u001b[0m\n",
      "\u001b[1;32m~\\anaconda3\\envs\\neuland\\lib\\site-packages\\pandas\\core\\reshape\\concat.py\u001b[0m in \u001b[0;36mconcat\u001b[1;34m(objs, axis, join, ignore_index, keys, levels, names, verify_integrity, sort, copy)\u001b[0m\n\u001b[0;32m    285\u001b[0m     )\n\u001b[0;32m    286\u001b[0m \u001b[1;33m\u001b[0m\u001b[0m\n\u001b[1;32m--> 287\u001b[1;33m     \u001b[1;32mreturn\u001b[0m \u001b[0mop\u001b[0m\u001b[1;33m.\u001b[0m\u001b[0mget_result\u001b[0m\u001b[1;33m(\u001b[0m\u001b[1;33m)\u001b[0m\u001b[1;33m\u001b[0m\u001b[1;33m\u001b[0m\u001b[0m\n\u001b[0m\u001b[0;32m    288\u001b[0m \u001b[1;33m\u001b[0m\u001b[0m\n\u001b[0;32m    289\u001b[0m \u001b[1;33m\u001b[0m\u001b[0m\n",
      "\u001b[1;32m~\\anaconda3\\envs\\neuland\\lib\\site-packages\\pandas\\core\\reshape\\concat.py\u001b[0m in \u001b[0;36mget_result\u001b[1;34m(self)\u001b[0m\n\u001b[0;32m    501\u001b[0m \u001b[1;33m\u001b[0m\u001b[0m\n\u001b[0;32m    502\u001b[0m             new_data = concatenate_block_managers(\n\u001b[1;32m--> 503\u001b[1;33m                 \u001b[0mmgrs_indexers\u001b[0m\u001b[1;33m,\u001b[0m \u001b[0mself\u001b[0m\u001b[1;33m.\u001b[0m\u001b[0mnew_axes\u001b[0m\u001b[1;33m,\u001b[0m \u001b[0mconcat_axis\u001b[0m\u001b[1;33m=\u001b[0m\u001b[0mself\u001b[0m\u001b[1;33m.\u001b[0m\u001b[0mbm_axis\u001b[0m\u001b[1;33m,\u001b[0m \u001b[0mcopy\u001b[0m\u001b[1;33m=\u001b[0m\u001b[0mself\u001b[0m\u001b[1;33m.\u001b[0m\u001b[0mcopy\u001b[0m\u001b[1;33m,\u001b[0m\u001b[1;33m\u001b[0m\u001b[1;33m\u001b[0m\u001b[0m\n\u001b[0m\u001b[0;32m    504\u001b[0m             )\n\u001b[0;32m    505\u001b[0m             \u001b[1;32mif\u001b[0m \u001b[1;32mnot\u001b[0m \u001b[0mself\u001b[0m\u001b[1;33m.\u001b[0m\u001b[0mcopy\u001b[0m\u001b[1;33m:\u001b[0m\u001b[1;33m\u001b[0m\u001b[1;33m\u001b[0m\u001b[0m\n",
      "\u001b[1;32m~\\anaconda3\\envs\\neuland\\lib\\site-packages\\pandas\\core\\internals\\concat.py\u001b[0m in \u001b[0;36mconcatenate_block_managers\u001b[1;34m(mgrs_indexers, axes, concat_axis, copy)\u001b[0m\n\u001b[0;32m     67\u001b[0m \u001b[1;33m\u001b[0m\u001b[0m\n\u001b[0;32m     68\u001b[0m             \u001b[1;32mif\u001b[0m \u001b[1;32mnot\u001b[0m \u001b[0mblk\u001b[0m\u001b[1;33m.\u001b[0m\u001b[0mis_extension\u001b[0m\u001b[1;33m:\u001b[0m\u001b[1;33m\u001b[0m\u001b[1;33m\u001b[0m\u001b[0m\n\u001b[1;32m---> 69\u001b[1;33m                 \u001b[0mvalues\u001b[0m \u001b[1;33m=\u001b[0m \u001b[0mconcat_compat\u001b[0m\u001b[1;33m(\u001b[0m\u001b[0mvals\u001b[0m\u001b[1;33m,\u001b[0m \u001b[0maxis\u001b[0m\u001b[1;33m=\u001b[0m\u001b[0mblk\u001b[0m\u001b[1;33m.\u001b[0m\u001b[0mndim\u001b[0m \u001b[1;33m-\u001b[0m \u001b[1;36m1\u001b[0m\u001b[1;33m)\u001b[0m\u001b[1;33m\u001b[0m\u001b[1;33m\u001b[0m\u001b[0m\n\u001b[0m\u001b[0;32m     70\u001b[0m             \u001b[1;32melse\u001b[0m\u001b[1;33m:\u001b[0m\u001b[1;33m\u001b[0m\u001b[1;33m\u001b[0m\u001b[0m\n\u001b[0;32m     71\u001b[0m                 \u001b[1;31m# TODO(EA2D): special-casing not needed with 2D EAs\u001b[0m\u001b[1;33m\u001b[0m\u001b[1;33m\u001b[0m\u001b[1;33m\u001b[0m\u001b[0m\n",
      "\u001b[1;32m~\\anaconda3\\envs\\neuland\\lib\\site-packages\\pandas\\core\\dtypes\\concat.py\u001b[0m in \u001b[0;36mconcat_compat\u001b[1;34m(to_concat, axis)\u001b[0m\n\u001b[0;32m    176\u001b[0m                 \u001b[0mto_concat\u001b[0m \u001b[1;33m=\u001b[0m \u001b[1;33m[\u001b[0m\u001b[0mx\u001b[0m\u001b[1;33m.\u001b[0m\u001b[0mastype\u001b[0m\u001b[1;33m(\u001b[0m\u001b[1;34m\"object\"\u001b[0m\u001b[1;33m)\u001b[0m \u001b[1;32mfor\u001b[0m \u001b[0mx\u001b[0m \u001b[1;32min\u001b[0m \u001b[0mto_concat\u001b[0m\u001b[1;33m]\u001b[0m\u001b[1;33m\u001b[0m\u001b[1;33m\u001b[0m\u001b[0m\n\u001b[0;32m    177\u001b[0m \u001b[1;33m\u001b[0m\u001b[0m\n\u001b[1;32m--> 178\u001b[1;33m     \u001b[1;32mreturn\u001b[0m \u001b[0mnp\u001b[0m\u001b[1;33m.\u001b[0m\u001b[0mconcatenate\u001b[0m\u001b[1;33m(\u001b[0m\u001b[0mto_concat\u001b[0m\u001b[1;33m,\u001b[0m \u001b[0maxis\u001b[0m\u001b[1;33m=\u001b[0m\u001b[0maxis\u001b[0m\u001b[1;33m)\u001b[0m\u001b[1;33m\u001b[0m\u001b[1;33m\u001b[0m\u001b[0m\n\u001b[0m\u001b[0;32m    179\u001b[0m \u001b[1;33m\u001b[0m\u001b[0m\n\u001b[0;32m    180\u001b[0m \u001b[1;33m\u001b[0m\u001b[0m\n",
      "\u001b[1;32m<__array_function__ internals>\u001b[0m in \u001b[0;36mconcatenate\u001b[1;34m(*args, **kwargs)\u001b[0m\n",
      "\u001b[1;31mKeyboardInterrupt\u001b[0m: "
     ]
    }
   ],
   "source": [
    "tuner.search(\n",
    "    generator, verbose=2, epochs=3, shuffle=False, validation_data=validation_generator\n",
    ")"
   ]
  },
  {
   "cell_type": "code",
   "execution_count": null,
   "metadata": {},
   "outputs": [],
   "source": [
    "tuner.results_summary()"
   ]
  },
  {
   "cell_type": "code",
   "execution_count": null,
   "metadata": {},
   "outputs": [],
   "source": []
  }
 ],
 "metadata": {
  "kernelspec": {
   "display_name": "Python 3",
   "language": "python",
   "name": "python3"
  },
  "language_info": {
   "codemirror_mode": {
    "name": "ipython",
    "version": 3
   },
   "file_extension": ".py",
   "mimetype": "text/x-python",
   "name": "python",
   "nbconvert_exporter": "python",
   "pygments_lexer": "ipython3",
   "version": "3.7.7"
  }
 },
 "nbformat": 4,
 "nbformat_minor": 4
}

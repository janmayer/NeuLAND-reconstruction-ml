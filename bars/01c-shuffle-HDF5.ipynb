{
 "cells": [
  {
   "cell_type": "code",
   "execution_count": 1,
   "metadata": {},
   "outputs": [],
   "source": [
    "import h5py\n",
    "import numpy as np\n",
    "import pandas as pd"
   ]
  },
  {
   "cell_type": "code",
   "execution_count": 2,
   "metadata": {},
   "outputs": [
    {
     "name": "stdout",
     "output_type": "stream",
     "text": [
      "5000000\n",
      "[1790648 4994167 1867668 ... 2638666  972129 4654991]\n",
      "[2 2 2]\n"
     ]
    }
   ],
   "source": [
    "beam_energy = 600\n",
    "num_dp = 30\n",
    "\n",
    "with h5py.File(f\"data/{beam_energy}AMeV_{num_dp}dp.bars.h5\", \"r\") as h5in:\n",
    "    #     # Note: Data in HDF5 file is not in the native Pandas Dataframe format\n",
    "    multiplicity = pd.DataFrame(np.array(h5in[\"multiplicity\"]))\n",
    "    multiplicity.columns = [\"nPN\", \"nPP\", \"nPH\"]\n",
    "\n",
    "    print(len(h5in[\"multiplicity\"]))\n",
    "    \n",
    "    idx = np.random.permutation(np.arange(0, len(multiplicity), 1, dtype=np.int))\n",
    "    print(idx)\n",
    "    print(h5in[\"multiplicity\"][idx[0]])"
   ]
  },
  {
   "cell_type": "code",
   "execution_count": 5,
   "metadata": {},
   "outputs": [],
   "source": [
    "def shuffle_hdf5(infile, outfile, num_dp):\n",
    "    num_bars = num_dp * 100\n",
    "    chunksize = 1\n",
    "\n",
    "    print(f\"Reading from {infile}\")\n",
    "    with h5py.File(infile, \"r\") as h5in:\n",
    "        num_events = len(h5in[\"multiplicity\"])\n",
    "        idx = np.random.permutation(np.arange(0, num_events, 1, dtype=np.int))\n",
    "        \n",
    "        print(f\"> Writing to {outfile}\")\n",
    "        with h5py.File(outfile, \"w\") as h5out:\n",
    "            flatfeatures = h5out.create_dataset(\n",
    "                \"flatfeatures\",\n",
    "                shape=(num_events, num_bars * 2),\n",
    "                dtype=np.float32,\n",
    "                chunks=(chunksize, num_bars * 2),\n",
    "                compression=\"gzip\",\n",
    "                compression_opts=9,\n",
    "            )\n",
    "\n",
    "            consolidated = h5out.create_dataset(\n",
    "                \"consolidated\", shape=(num_events, 3), dtype=np.int16\n",
    "            )\n",
    "\n",
    "            multiplicity = h5out.create_dataset(\n",
    "                \"multiplicity\", (num_events, 3), np.int8\n",
    "            )\n",
    "\n",
    "            primhitsbars = h5out.create_dataset(\n",
    "                \"primhitsbars\",\n",
    "                shape=(num_events, num_bars),\n",
    "                dtype=np.int8,\n",
    "                chunks=(chunksize, num_bars),\n",
    "                compression=\"gzip\",\n",
    "                compression_opts=9,\n",
    "            )\n",
    "            \n",
    "            orgid = h5out.create_dataset(\n",
    "                \"orgid\", (num_events, 1), np.int32\n",
    "            )\n",
    "\n",
    "            for o, i in enumerate(idx):\n",
    "                flatfeatures[o] = h5in[\"flatfeatures\"][i]\n",
    "                consolidated[o] = h5in[\"consolidated\"][i]\n",
    "                multiplicity[o] = h5in[\"multiplicity\"][i]\n",
    "                primhitsbars[o] = h5in[\"primhitsbars\"][i]\n",
    "                orgid[o] = i"
   ]
  },
  {
   "cell_type": "code",
   "execution_count": 6,
   "metadata": {},
   "outputs": [
    {
     "name": "stdout",
     "output_type": "stream",
     "text": [
      "Reading from data/600AMeV_15dp.bars.h5\n",
      "> Writing to data/600AMeV_15dp.bars-shuffled.h5\n",
      "Reading from data/600AMeV_30dp.bars.h5\n",
      "> Writing to data/600AMeV_30dp.bars-shuffled.h5\n"
     ]
    }
   ],
   "source": [
    "for num_dp in [15, 30]:\n",
    "    inpfile = f\"data/{beam_energy}AMeV_{num_dp}dp.bars.h5\"\n",
    "    outfile = f\"data/{beam_energy}AMeV_{num_dp}dp.bars-shuffled.h5\"\n",
    "    shuffle_hdf5(inpfile, outfile, num_dp)"
   ]
  },
  {
   "cell_type": "code",
   "execution_count": null,
   "metadata": {},
   "outputs": [],
   "source": []
  }
 ],
 "metadata": {
  "kernelspec": {
   "display_name": "Python 3",
   "language": "python",
   "name": "python3"
  },
  "language_info": {
   "codemirror_mode": {
    "name": "ipython",
    "version": 3
   },
   "file_extension": ".py",
   "mimetype": "text/x-python",
   "name": "python",
   "nbconvert_exporter": "python",
   "pygments_lexer": "ipython3",
   "version": "3.7.4"
  }
 },
 "nbformat": 4,
 "nbformat_minor": 4
}

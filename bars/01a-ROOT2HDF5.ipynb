{
 "cells": [
  {
   "cell_type": "markdown",
   "metadata": {},
   "source": [
    "# Convert ROOT files Barfeature"
   ]
  },
  {
   "cell_type": "code",
   "execution_count": 1,
   "metadata": {},
   "outputs": [],
   "source": [
    "distances = [15]\n",
    "doubleplanes = [30]\n",
    "energies = [600]\n",
    "erels = [500]\n",
    "neutrons = [1, 2, 3, 4, 5, 6]\n",
    "physicss = [\"inclxx\"]\n",
    "subruns = range(20)"
   ]
  },
  {
   "cell_type": "code",
   "execution_count": 2,
   "metadata": {},
   "outputs": [
    {
     "name": "stdout",
     "output_type": "stream",
     "text": [
      "Welcome to JupyROOT 6.16/00\n"
     ]
    }
   ],
   "source": [
    "import h5py\n",
    "import numpy as np\n",
    "import os\n",
    "import sys\n",
    "import joblib\n",
    "import ROOT\n",
    "\n",
    "sys.path.append(\"..\")\n",
    "from helpers import filename_for\n",
    "\n",
    "ROOT.ROOT.EnableThreadSafety()"
   ]
  },
  {
   "cell_type": "markdown",
   "metadata": {},
   "source": [
    "To create the HDF5 file, it is good to know the number of events to store ahead of time. With ROOT, this requires a bit more code than it should, as you can't have multiple files opened."
   ]
  },
  {
   "cell_type": "code",
   "execution_count": 3,
   "metadata": {},
   "outputs": [],
   "source": [
    "def root2hdf5(distance, doubleplane, energy, erel, neutron, physics, subrun):\n",
    "    inpfile = filename_for(distance, doubleplane, energy, erel, neutron, physics, subrun, \"digi.root\")\n",
    "    outfile = filename_for(distance, doubleplane, energy, erel, neutron, physics, subrun, \"bars.h5\")\n",
    "\n",
    "    with h5py.File(outfile, \"w\") as h5file:\n",
    "        tfile = ROOT.TFile.Open(os.fspath(inpfile))\n",
    "        ttree = tfile.Get(\"evt\")\n",
    "\n",
    "        num_events = ttree.GetEntries()\n",
    "        num_bars = doubleplane * 100\n",
    "        chunksize = 1000\n",
    "\n",
    "        ## trifeature\n",
    "        dim = 6\n",
    "        trifeature = h5file.create_dataset(\n",
    "            \"trifeature\",\n",
    "            shape=(num_events, dim),\n",
    "            dtype=np.int16,\n",
    "            chunks=(chunksize, dim),\n",
    "            compression=\"gzip\",\n",
    "            compression_opts=9,\n",
    "        )\n",
    "        tbuff = np.zeros((dim), np.int16)\n",
    "\n",
    "        ## flatfeatures\n",
    "        flatfeatures = h5file.create_dataset(\n",
    "            \"flatfeatures\",\n",
    "            shape=(num_events, num_bars * 2),\n",
    "            dtype=np.float32,\n",
    "            chunks=(chunksize, num_bars * 2),\n",
    "            compression=\"gzip\",\n",
    "            compression_opts=9,\n",
    "        )\n",
    "        fbuff = np.zeros((num_bars * 2), np.float32)\n",
    "\n",
    "        ## primhitsbars\n",
    "        primhitsbars = h5file.create_dataset(\n",
    "            \"primhitsbars\",\n",
    "            shape=(num_events, num_bars),\n",
    "            dtype=np.int8,\n",
    "            chunks=(chunksize, num_bars),\n",
    "            compression=\"gzip\",\n",
    "            compression_opts=9,\n",
    "        )\n",
    "        pbuff = np.zeros((num_bars), np.int8)\n",
    "\n",
    "        i = 0\n",
    "        for event in ttree:\n",
    "            ## trifeature\n",
    "            # nPN: Number of incoming primary neutrons\n",
    "            tbuff[0] = event.NeulandPrimaryTracks.GetEntries()\n",
    "            # nPP: Number of primary neutrons with an energy deposition in NeuLAND\n",
    "            tbuff[1] = event.NeulandPrimaryPoints.GetEntries()\n",
    "            # nPH: Number of hits that correspond to a energy deposition of a primary neutron\n",
    "            tbuff[2] = event.NeulandPrimaryHits.GetEntries()\n",
    "            # nHits: Number of hits\n",
    "            tbuff[3] = event.NeulandHits.GetEntries()\n",
    "            # nClus: Number of clusters\n",
    "            tbuff[4] = event.NeulandClusters.GetEntries()\n",
    "            # Edep: Total deposited (detected) energy\n",
    "            tbuff[5] = round(sum([hit.GetE() for hit in event.NeulandHits]))\n",
    "            trifeature[i] = tbuff\n",
    "\n",
    "            ## flatfeatures\n",
    "            fbuff.fill(0)\n",
    "            for hit in event.NeulandHits:\n",
    "                bar = hit.GetPaddle() - 1\n",
    "                fbuff[2 * bar + 0] = hit.GetE()\n",
    "                fbuff[2 * bar + 1] = hit.GetT()\n",
    "            flatfeatures[i] = fbuff\n",
    "\n",
    "            ## primhitsbars\n",
    "            pbuff.fill(0)\n",
    "            for phit in event.NeulandPrimaryHits:\n",
    "                bar = phit.GetPaddle() - 1\n",
    "                pbuff[bar] = 1\n",
    "            primhitsbars[i] = pbuff\n",
    "\n",
    "            i += 1\n",
    "\n",
    "        tfile.Close()"
   ]
  },
  {
   "cell_type": "code",
   "execution_count": 4,
   "metadata": {},
   "outputs": [
    {
     "name": "stdout",
     "output_type": "stream",
     "text": [
      "Done\n"
     ]
    }
   ],
   "source": [
    "joblib.Parallel(n_jobs=-1, backend=\"multiprocessing\")(\n",
    "    joblib.delayed(root2hdf5)(\n",
    "        distance=distance,\n",
    "        doubleplane=doubleplane,\n",
    "        energy=energy,\n",
    "        erel=erel,\n",
    "        neutron=neutron,\n",
    "        physics=physics,\n",
    "        subrun=subrun,\n",
    "    )\n",
    "    for distance in distances\n",
    "    for energy in energies\n",
    "    for doubleplane in doubleplanes\n",
    "    for neutron in neutrons\n",
    "    for erel in erels\n",
    "    for physics in physicss\n",
    "    for subrun in subruns\n",
    ")\n",
    "\n",
    "print(\"Done\")"
   ]
  },
  {
   "cell_type": "code",
   "execution_count": null,
   "metadata": {},
   "outputs": [],
   "source": []
  }
 ],
 "metadata": {
  "kernelspec": {
   "display_name": "Python 3",
   "language": "python",
   "name": "python3"
  },
  "language_info": {
   "codemirror_mode": {
    "name": "ipython",
    "version": 3
   },
   "file_extension": ".py",
   "mimetype": "text/x-python",
   "name": "python",
   "nbconvert_exporter": "python",
   "pygments_lexer": "ipython3",
   "version": "3.7.6"
  }
 },
 "nbformat": 4,
 "nbformat_minor": 4
}

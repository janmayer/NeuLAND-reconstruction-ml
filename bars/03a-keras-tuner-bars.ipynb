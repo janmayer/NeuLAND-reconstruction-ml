{
 "cells": [
  {
   "cell_type": "markdown",
   "metadata": {},
   "source": [
    "# Keras Tuner Bars"
   ]
  },
  {
   "cell_type": "code",
   "execution_count": null,
   "metadata": {},
   "outputs": [],
   "source": [
    "import numpy as np\n",
    "import pandas as pd\n",
    "import sklearn.preprocessing\n",
    "import time\n",
    "import sys\n",
    "import copy\n",
    "\n",
    "sys.path.append(\"..\")\n",
    "from helpers import filename_for"
   ]
  },
  {
   "cell_type": "code",
   "execution_count": null,
   "metadata": {},
   "outputs": [],
   "source": [
    "import tensorflow\n",
    "from tensorflow import keras\n",
    "import kerastuner\n",
    "\n",
    "print(\"tensorflow\", tensorflow.__version__)\n",
    "print(\"keras\", keras.__version__)\n",
    "print(\"keras-tuner\", kerastuner.__version__)"
   ]
  },
  {
   "cell_type": "code",
   "execution_count": null,
   "metadata": {},
   "outputs": [],
   "source": [
    "# Sinmply loading everything into memory is requires the least effort, but quite alot of RAM\n",
    "files = [filename_for(15, 30, 600, 500, n, \"inclxx\", s, \"bars.parquet\") for n in [1, 2, 3, 4] for s in range(7)] # should be range(20), not enough ram\n",
    "data = pd.concat([pd.read_parquet(file) for file in files], ignore_index=True).sample(frac=1)\n",
    "data.loc[data[\"nHits\"] == 0, \"nPN\"] = 0\n",
    "display(data)"
   ]
  },
  {
   "cell_type": "code",
   "execution_count": null,
   "metadata": {},
   "outputs": [],
   "source": [
    "# cols_tri = [\"nHits\", \"nClus\", \"Edep\"]\n",
    "cols_e = [str(i) for i in range(0, 30 * 100 * 2, 2)]\n",
    "cols_t = [str(i + 1) for i in range(0, 30 * 100 * 2, 2)]\n",
    "\n",
    "scaler = sklearn.preprocessing.MaxAbsScaler()\n",
    "# s_tri = copy.copy(scaler).fit(data[cols_tri])\n",
    "s_e = copy.copy(scaler).fit(data[cols_e].values.reshape(-1, 1))\n",
    "s_t = copy.copy(scaler).fit(data[cols_t].values.reshape(-1, 1))\n",
    "\n",
    "data_scaled = np.concatenate(\n",
    "    (\n",
    "        # s_tri.transform(data[cols_tri]),\n",
    "        s_e.transform(data[cols_e].values.reshape(-1, 1)).reshape(-1, len(cols_e)),\n",
    "        s_t.transform(data[cols_t].values.reshape(-1, 1)).reshape(-1, len(cols_t)),\n",
    "    ),\n",
    "    axis=1,\n",
    ")\n",
    "display(data_scaled)"
   ]
  },
  {
   "cell_type": "code",
   "execution_count": null,
   "metadata": {},
   "outputs": [],
   "source": [
    "label = \"nPN\"\n",
    "max_neutrons = 4\n",
    "num_classes = max_neutrons + 1\n",
    "\n",
    "ys = keras.utils.to_categorical(data[[label]].values.ravel())\n",
    "Xs = data_scaled"
   ]
  },
  {
   "cell_type": "code",
   "execution_count": null,
   "metadata": {},
   "outputs": [],
   "source": [
    "class Model(kerastuner.HyperModel):\n",
    "    def __init__(self, num_classes):\n",
    "        self.num_classes = num_classes\n",
    "\n",
    "    def build(self, hp):\n",
    "        model = keras.models.Sequential()\n",
    "        model.add(keras.layers.Dense(units=hp.Int(f\"relu1nodes\", min_value=1000, max_value=10000, step=3000), activation=\"relu\",))\n",
    "        model.add(keras.layers.Dense(units=hp.Int(f\"relu2nodes\", min_value=500, max_value=3000, step=200), activation=\"relu\",))\n",
    "        model.add(keras.layers.Dense(units=self.num_classes, activation=\"softmax\"))\n",
    "\n",
    "        optimizer = hp.Choice(\"optimizer\", [\"adam\", \"adagrad\", \"adadelta\", \"SGD\"])\n",
    "        loss = keras.losses.CategoricalCrossentropy()\n",
    "\n",
    "        model.compile(loss=loss, optimizer=optimizer, metrics=[\"accuracy\"])\n",
    "\n",
    "        return model"
   ]
  },
  {
   "cell_type": "code",
   "execution_count": null,
   "metadata": {},
   "outputs": [],
   "source": [
    "model = Model(num_classes)\n",
    "\n",
    "tuner = kerastuner.tuners.BayesianOptimization(\n",
    "#tuner = kerastuner.tuners.RandomSearch(\n",
    "    model, objective=\"val_accuracy\", max_trials=20, executions_per_trial=1, directory=\"kerastuner\", project_name=\"bars-V1\" #, overwrite=True\n",
    ")\n",
    "tuner.search_space_summary()"
   ]
  },
  {
   "cell_type": "code",
   "execution_count": null,
   "metadata": {},
   "outputs": [],
   "source": [
    "tuner.search(\n",
    "    Xs, ys, verbose=2, validation_split=0.1\n",
    ")"
   ]
  },
  {
   "cell_type": "code",
   "execution_count": null,
   "metadata": {},
   "outputs": [],
   "source": [
    "tuner.results_summary()"
   ]
  },
  {
   "cell_type": "code",
   "execution_count": null,
   "metadata": {},
   "outputs": [],
   "source": []
  }
 ],
 "metadata": {
  "kernelspec": {
   "display_name": "Python 3",
   "language": "python",
   "name": "python3"
  },
  "language_info": {
   "codemirror_mode": {
    "name": "ipython",
    "version": 3
   },
   "file_extension": ".py",
   "mimetype": "text/x-python",
   "name": "python",
   "nbconvert_exporter": "python",
   "pygments_lexer": "ipython3",
   "version": "3.7.7"
  }
 },
 "nbformat": 4,
 "nbformat_minor": 4
}

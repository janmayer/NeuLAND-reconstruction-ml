{
 "cells": [
  {
   "cell_type": "markdown",
   "metadata": {},
   "source": [
    "# Multiplicity determination with Calibr"
   ]
  },
  {
   "cell_type": "markdown",
   "metadata": {},
   "source": [
    "Note: Uses the R3BRoot NeuLAND module. As this module is compiled with ROOT, it is available in Python by `import ROOT` if the environment variables are set."
   ]
  },
  {
   "cell_type": "code",
   "execution_count": 1,
   "metadata": {},
   "outputs": [
    {
     "name": "stdout",
     "output_type": "stream",
     "text": [
      "Welcome to JupyROOT 6.16/00\n"
     ]
    }
   ],
   "source": [
    "import numpy as np\n",
    "import pandas as pd\n",
    "import os\n",
    "import ROOT"
   ]
  },
  {
   "cell_type": "markdown",
   "metadata": {},
   "source": [
    "## Example Fit / Calibration\n",
    "We can run the full calibraion from python, with some amount of yucky syntax"
   ]
  },
  {
   "cell_type": "code",
   "execution_count": 2,
   "metadata": {},
   "outputs": [],
   "source": [
    "def calibrate_calibr(infiles, outfile, max_neutrons, image):\n",
    "    cal = ROOT.Neuland.Neutron2DCalibr(max_neutrons)\n",
    "    for file in infiles:\n",
    "        print(f\"Processing {file} ...\", flush=True)\n",
    "        cal.AddClusterFile(file)\n",
    "    vslope = ROOT.std.vector(\"double\")()\n",
    "    vslope += [0.04, 0.001, 0.001, 10]\n",
    "    vdistance = ROOT.std.vector(\"double\")()\n",
    "    vdistance += [10, 0.5, 6, 60]\n",
    "    vdist_off = ROOT.std.vector(\"double\")()\n",
    "    vdist_off += [3, 0.5, 3, 6]\n",
    "    cal.Optimize(vslope, vdistance, vdist_off)\n",
    "    cal.WriteParameterFile(outfile)\n",
    "    cal.Draw(image)"
   ]
  },
  {
   "cell_type": "code",
   "execution_count": null,
   "metadata": {},
   "outputs": [
    {
     "name": "stdout",
     "output_type": "stream",
     "text": [
      "Processing simulation/training_600AMeV_30dp_1n.digi.root ...\n",
      "Processing simulation/training_600AMeV_30dp_2n.digi.root ...\n"
     ]
    }
   ],
   "source": [
    "max_neutrons = 5\n",
    "num_dp = 30\n",
    "\n",
    "infiles = [\n",
    "    f\"simulation/training_600AMeV_{num_dp}dp_{neutrons}n.digi.root\"\n",
    "    for neutrons in range(1, max_neutrons + 1)\n",
    "]\n",
    "outfile = f\"data/600AMeV_{num_dp}dp_{max_neutrons}n.ncut.root\"\n",
    "image = f\"data/600AMeV_{num_dp}dp_{max_neutrons}n.png\"\n",
    "os.remove(outfile)\n",
    "calibrate_calibr(infiles, outfile, max_neutrons, image)"
   ]
  },
  {
   "cell_type": "markdown",
   "metadata": {},
   "source": [
    "## Example Prediction"
   ]
  },
  {
   "cell_type": "code",
   "execution_count": null,
   "metadata": {},
   "outputs": [],
   "source": [
    "file = ROOT.TFile.Open(f\"data/600AMeV_{num_dp}dp_{max_neutrons}n.ncut.root\")\n",
    "para = file.Get(\"R3BNeulandNeutron2DPar\")\n",
    "\n",
    "testdata = pd.read_pickle(f\"data/600AMeV_{num_dp}dp.trifeature.pkl\").sample(frac=1)\n",
    "y_true = testdata[[\"nPH\"]].values.ravel()\n",
    "\n",
    "y_pred = np.array(\n",
    "    [\n",
    "        para.GetNeutronMultiplicity(row[\"Edep\"], row[\"nClus\"])\n",
    "        for _, row in testdata.iterrows()\n",
    "    ]\n",
    ")\n",
    "\n",
    "print(list(zip(y_true, y_pred))[0:50])"
   ]
  },
  {
   "cell_type": "code",
   "execution_count": null,
   "metadata": {},
   "outputs": [],
   "source": [
    "from sklearn.metrics import (\n",
    "    balanced_accuracy_score,\n",
    "    confusion_matrix,\n",
    "    plot_confusion_matrix,\n",
    ")\n",
    "\n",
    "np.set_printoptions(precision=3)\n",
    "np.set_printoptions(suppress=True)\n",
    "\n",
    "bac = balanced_accuracy_score(y_true, y_pred)\n",
    "print(bac)\n",
    "cm = confusion_matrix(y_true, y_pred, labels=range(0, 6))\n",
    "print(cm)\n",
    "cmrel = confusion_matrix(y_true, y_pred, labels=range(0, 6), normalize=\"true\")\n",
    "print(cmrel)"
   ]
  },
  {
   "cell_type": "code",
   "execution_count": null,
   "metadata": {},
   "outputs": [],
   "source": [
    "import matplotlib.pyplot as plt\n",
    "import seaborn as sns\n",
    "\n",
    "plt.figure(figsize=(10, 7))\n",
    "ax = sns.heatmap(cmrel, cmap=\"viridis\", annot=True)\n",
    "ax.set_xlabel(\"Predicted\")\n",
    "ax.set_ylabel(\"True\");"
   ]
  },
  {
   "cell_type": "code",
   "execution_count": null,
   "metadata": {},
   "outputs": [],
   "source": []
  }
 ],
 "metadata": {
  "kernelspec": {
   "display_name": "Python 3",
   "language": "python",
   "name": "python3"
  },
  "language_info": {
   "codemirror_mode": {
    "name": "ipython",
    "version": 3
   },
   "file_extension": ".py",
   "mimetype": "text/x-python",
   "name": "python",
   "nbconvert_exporter": "python",
   "pygments_lexer": "ipython3",
   "version": "3.7.4"
  }
 },
 "nbformat": 4,
 "nbformat_minor": 4
}
